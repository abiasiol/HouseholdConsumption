{
 "cells": [
  {
   "cell_type": "code",
   "execution_count": 224,
   "metadata": {
    "collapsed": true
   },
   "outputs": [],
   "source": [
    "import pandas as pd\n",
    "import numpy as np\n",
    "from IPython.display import display\n",
    "import plotly.express as px"
   ]
  },
  {
   "cell_type": "code",
   "execution_count": 225,
   "outputs": [],
   "source": [
    "def run_sequence_plot(x, y, title, xtitle, ytitle):\n",
    "    figure = px.line(x=x, y=y)\n",
    "    figure.update_layout(title=title, width=800, xaxis_title=xtitle, yaxis_title=ytitle)\n",
    "    return figure"
   ],
   "metadata": {
    "collapsed": false,
    "pycharm": {
     "name": "#%%\n"
    }
   }
  },
  {
   "cell_type": "markdown",
   "source": [
    "\n",
    "# Read parquet dataset"
   ],
   "metadata": {
    "collapsed": false,
    "pycharm": {
     "name": "#%% md\n"
    }
   }
  },
  {
   "cell_type": "code",
   "execution_count": 226,
   "outputs": [
    {
     "data": {
      "application/vnd.plotly.v1+json": {
       "data": [
        {
         "hovertemplate": "x=%{x}<br>y=%{y}<extra></extra>",
         "legendgroup": "",
         "line": {
          "color": "#636efa",
          "dash": "solid"
         },
         "marker": {
          "symbol": "circle"
         },
         "mode": "lines",
         "name": "",
         "orientation": "v",
         "showlegend": false,
         "x": [
          "2007-07-31T00:00:00",
          "2007-08-31T00:00:00",
          "2007-09-30T00:00:00",
          "2007-10-31T00:00:00",
          "2007-11-30T00:00:00",
          "2007-12-31T00:00:00",
          "2008-01-31T00:00:00",
          "2008-02-29T00:00:00",
          "2008-03-31T00:00:00",
          "2008-04-30T00:00:00",
          "2008-05-31T00:00:00",
          "2008-06-30T00:00:00",
          "2008-07-31T00:00:00",
          "2008-08-31T00:00:00",
          "2008-09-30T00:00:00",
          "2008-10-31T00:00:00",
          "2008-11-30T00:00:00",
          "2008-12-31T00:00:00",
          "2009-01-31T00:00:00",
          "2009-02-28T00:00:00",
          "2009-03-31T00:00:00",
          "2009-04-30T00:00:00",
          "2009-05-31T00:00:00",
          "2009-06-30T00:00:00",
          "2009-07-31T00:00:00",
          "2009-08-31T00:00:00",
          "2009-09-30T00:00:00",
          "2009-10-31T00:00:00",
          "2009-11-30T00:00:00",
          "2009-12-31T00:00:00",
          "2010-01-31T00:00:00",
          "2010-02-28T00:00:00",
          "2010-03-31T00:00:00",
          "2010-04-30T00:00:00",
          "2010-05-31T00:00:00",
          "2010-06-30T00:00:00",
          "2010-07-31T00:00:00",
          "2010-08-31T00:00:00",
          "2010-09-30T00:00:00",
          "2010-10-31T00:00:00",
          "2010-11-30T00:00:00",
          "2010-12-31T00:00:00"
         ],
         "xaxis": "x",
         "y": [
          4.671220000000001,
          4.6892200000000015,
          5.0440600000000115,
          5.346,
          5.506060000000012,
          5.849220000000001,
          5.328,
          4.54,
          4.847220000000001,
          4.750060000000012,
          4.972440000000002,
          4.79,
          4.2,
          4.3996600000000035,
          4.588020000000004,
          4.9872200000000015,
          5.182,
          5.043220000000001,
          5.524,
          4.462,
          4.566,
          4.420040000000008,
          4.191220000000001,
          3.756020000000004,
          4.1,
          4.418,
          4.234,
          4.827220000000001,
          5.444,
          5.090440000000002,
          4.874060000000012,
          4.8408399999999965,
          4.514060000000012,
          4.0128199999999925,
          4.116020000000003,
          4.032819999999992,
          3.41,
          3.9700400000000085,
          3.8792799999999694,
          4.704020000000003,
          4.432,
          3.882
         ],
         "yaxis": "y",
         "type": "scatter"
        }
       ],
       "layout": {
        "template": {
         "data": {
          "bar": [
           {
            "error_x": {
             "color": "#2a3f5f"
            },
            "error_y": {
             "color": "#2a3f5f"
            },
            "marker": {
             "line": {
              "color": "#E5ECF6",
              "width": 0.5
             },
             "pattern": {
              "fillmode": "overlay",
              "size": 10,
              "solidity": 0.2
             }
            },
            "type": "bar"
           }
          ],
          "barpolar": [
           {
            "marker": {
             "line": {
              "color": "#E5ECF6",
              "width": 0.5
             },
             "pattern": {
              "fillmode": "overlay",
              "size": 10,
              "solidity": 0.2
             }
            },
            "type": "barpolar"
           }
          ],
          "carpet": [
           {
            "aaxis": {
             "endlinecolor": "#2a3f5f",
             "gridcolor": "white",
             "linecolor": "white",
             "minorgridcolor": "white",
             "startlinecolor": "#2a3f5f"
            },
            "baxis": {
             "endlinecolor": "#2a3f5f",
             "gridcolor": "white",
             "linecolor": "white",
             "minorgridcolor": "white",
             "startlinecolor": "#2a3f5f"
            },
            "type": "carpet"
           }
          ],
          "choropleth": [
           {
            "colorbar": {
             "outlinewidth": 0,
             "ticks": ""
            },
            "type": "choropleth"
           }
          ],
          "contour": [
           {
            "colorbar": {
             "outlinewidth": 0,
             "ticks": ""
            },
            "colorscale": [
             [
              0.0,
              "#0d0887"
             ],
             [
              0.1111111111111111,
              "#46039f"
             ],
             [
              0.2222222222222222,
              "#7201a8"
             ],
             [
              0.3333333333333333,
              "#9c179e"
             ],
             [
              0.4444444444444444,
              "#bd3786"
             ],
             [
              0.5555555555555556,
              "#d8576b"
             ],
             [
              0.6666666666666666,
              "#ed7953"
             ],
             [
              0.7777777777777778,
              "#fb9f3a"
             ],
             [
              0.8888888888888888,
              "#fdca26"
             ],
             [
              1.0,
              "#f0f921"
             ]
            ],
            "type": "contour"
           }
          ],
          "contourcarpet": [
           {
            "colorbar": {
             "outlinewidth": 0,
             "ticks": ""
            },
            "type": "contourcarpet"
           }
          ],
          "heatmap": [
           {
            "colorbar": {
             "outlinewidth": 0,
             "ticks": ""
            },
            "colorscale": [
             [
              0.0,
              "#0d0887"
             ],
             [
              0.1111111111111111,
              "#46039f"
             ],
             [
              0.2222222222222222,
              "#7201a8"
             ],
             [
              0.3333333333333333,
              "#9c179e"
             ],
             [
              0.4444444444444444,
              "#bd3786"
             ],
             [
              0.5555555555555556,
              "#d8576b"
             ],
             [
              0.6666666666666666,
              "#ed7953"
             ],
             [
              0.7777777777777778,
              "#fb9f3a"
             ],
             [
              0.8888888888888888,
              "#fdca26"
             ],
             [
              1.0,
              "#f0f921"
             ]
            ],
            "type": "heatmap"
           }
          ],
          "heatmapgl": [
           {
            "colorbar": {
             "outlinewidth": 0,
             "ticks": ""
            },
            "colorscale": [
             [
              0.0,
              "#0d0887"
             ],
             [
              0.1111111111111111,
              "#46039f"
             ],
             [
              0.2222222222222222,
              "#7201a8"
             ],
             [
              0.3333333333333333,
              "#9c179e"
             ],
             [
              0.4444444444444444,
              "#bd3786"
             ],
             [
              0.5555555555555556,
              "#d8576b"
             ],
             [
              0.6666666666666666,
              "#ed7953"
             ],
             [
              0.7777777777777778,
              "#fb9f3a"
             ],
             [
              0.8888888888888888,
              "#fdca26"
             ],
             [
              1.0,
              "#f0f921"
             ]
            ],
            "type": "heatmapgl"
           }
          ],
          "histogram": [
           {
            "marker": {
             "pattern": {
              "fillmode": "overlay",
              "size": 10,
              "solidity": 0.2
             }
            },
            "type": "histogram"
           }
          ],
          "histogram2d": [
           {
            "colorbar": {
             "outlinewidth": 0,
             "ticks": ""
            },
            "colorscale": [
             [
              0.0,
              "#0d0887"
             ],
             [
              0.1111111111111111,
              "#46039f"
             ],
             [
              0.2222222222222222,
              "#7201a8"
             ],
             [
              0.3333333333333333,
              "#9c179e"
             ],
             [
              0.4444444444444444,
              "#bd3786"
             ],
             [
              0.5555555555555556,
              "#d8576b"
             ],
             [
              0.6666666666666666,
              "#ed7953"
             ],
             [
              0.7777777777777778,
              "#fb9f3a"
             ],
             [
              0.8888888888888888,
              "#fdca26"
             ],
             [
              1.0,
              "#f0f921"
             ]
            ],
            "type": "histogram2d"
           }
          ],
          "histogram2dcontour": [
           {
            "colorbar": {
             "outlinewidth": 0,
             "ticks": ""
            },
            "colorscale": [
             [
              0.0,
              "#0d0887"
             ],
             [
              0.1111111111111111,
              "#46039f"
             ],
             [
              0.2222222222222222,
              "#7201a8"
             ],
             [
              0.3333333333333333,
              "#9c179e"
             ],
             [
              0.4444444444444444,
              "#bd3786"
             ],
             [
              0.5555555555555556,
              "#d8576b"
             ],
             [
              0.6666666666666666,
              "#ed7953"
             ],
             [
              0.7777777777777778,
              "#fb9f3a"
             ],
             [
              0.8888888888888888,
              "#fdca26"
             ],
             [
              1.0,
              "#f0f921"
             ]
            ],
            "type": "histogram2dcontour"
           }
          ],
          "mesh3d": [
           {
            "colorbar": {
             "outlinewidth": 0,
             "ticks": ""
            },
            "type": "mesh3d"
           }
          ],
          "parcoords": [
           {
            "line": {
             "colorbar": {
              "outlinewidth": 0,
              "ticks": ""
             }
            },
            "type": "parcoords"
           }
          ],
          "pie": [
           {
            "automargin": true,
            "type": "pie"
           }
          ],
          "scatter": [
           {
            "marker": {
             "colorbar": {
              "outlinewidth": 0,
              "ticks": ""
             }
            },
            "type": "scatter"
           }
          ],
          "scatter3d": [
           {
            "line": {
             "colorbar": {
              "outlinewidth": 0,
              "ticks": ""
             }
            },
            "marker": {
             "colorbar": {
              "outlinewidth": 0,
              "ticks": ""
             }
            },
            "type": "scatter3d"
           }
          ],
          "scattercarpet": [
           {
            "marker": {
             "colorbar": {
              "outlinewidth": 0,
              "ticks": ""
             }
            },
            "type": "scattercarpet"
           }
          ],
          "scattergeo": [
           {
            "marker": {
             "colorbar": {
              "outlinewidth": 0,
              "ticks": ""
             }
            },
            "type": "scattergeo"
           }
          ],
          "scattergl": [
           {
            "marker": {
             "colorbar": {
              "outlinewidth": 0,
              "ticks": ""
             }
            },
            "type": "scattergl"
           }
          ],
          "scattermapbox": [
           {
            "marker": {
             "colorbar": {
              "outlinewidth": 0,
              "ticks": ""
             }
            },
            "type": "scattermapbox"
           }
          ],
          "scatterpolar": [
           {
            "marker": {
             "colorbar": {
              "outlinewidth": 0,
              "ticks": ""
             }
            },
            "type": "scatterpolar"
           }
          ],
          "scatterpolargl": [
           {
            "marker": {
             "colorbar": {
              "outlinewidth": 0,
              "ticks": ""
             }
            },
            "type": "scatterpolargl"
           }
          ],
          "scatterternary": [
           {
            "marker": {
             "colorbar": {
              "outlinewidth": 0,
              "ticks": ""
             }
            },
            "type": "scatterternary"
           }
          ],
          "surface": [
           {
            "colorbar": {
             "outlinewidth": 0,
             "ticks": ""
            },
            "colorscale": [
             [
              0.0,
              "#0d0887"
             ],
             [
              0.1111111111111111,
              "#46039f"
             ],
             [
              0.2222222222222222,
              "#7201a8"
             ],
             [
              0.3333333333333333,
              "#9c179e"
             ],
             [
              0.4444444444444444,
              "#bd3786"
             ],
             [
              0.5555555555555556,
              "#d8576b"
             ],
             [
              0.6666666666666666,
              "#ed7953"
             ],
             [
              0.7777777777777778,
              "#fb9f3a"
             ],
             [
              0.8888888888888888,
              "#fdca26"
             ],
             [
              1.0,
              "#f0f921"
             ]
            ],
            "type": "surface"
           }
          ],
          "table": [
           {
            "cells": {
             "fill": {
              "color": "#EBF0F8"
             },
             "line": {
              "color": "white"
             }
            },
            "header": {
             "fill": {
              "color": "#C8D4E3"
             },
             "line": {
              "color": "white"
             }
            },
            "type": "table"
           }
          ]
         },
         "layout": {
          "annotationdefaults": {
           "arrowcolor": "#2a3f5f",
           "arrowhead": 0,
           "arrowwidth": 1
          },
          "autotypenumbers": "strict",
          "coloraxis": {
           "colorbar": {
            "outlinewidth": 0,
            "ticks": ""
           }
          },
          "colorscale": {
           "diverging": [
            [
             0,
             "#8e0152"
            ],
            [
             0.1,
             "#c51b7d"
            ],
            [
             0.2,
             "#de77ae"
            ],
            [
             0.3,
             "#f1b6da"
            ],
            [
             0.4,
             "#fde0ef"
            ],
            [
             0.5,
             "#f7f7f7"
            ],
            [
             0.6,
             "#e6f5d0"
            ],
            [
             0.7,
             "#b8e186"
            ],
            [
             0.8,
             "#7fbc41"
            ],
            [
             0.9,
             "#4d9221"
            ],
            [
             1,
             "#276419"
            ]
           ],
           "sequential": [
            [
             0.0,
             "#0d0887"
            ],
            [
             0.1111111111111111,
             "#46039f"
            ],
            [
             0.2222222222222222,
             "#7201a8"
            ],
            [
             0.3333333333333333,
             "#9c179e"
            ],
            [
             0.4444444444444444,
             "#bd3786"
            ],
            [
             0.5555555555555556,
             "#d8576b"
            ],
            [
             0.6666666666666666,
             "#ed7953"
            ],
            [
             0.7777777777777778,
             "#fb9f3a"
            ],
            [
             0.8888888888888888,
             "#fdca26"
            ],
            [
             1.0,
             "#f0f921"
            ]
           ],
           "sequentialminus": [
            [
             0.0,
             "#0d0887"
            ],
            [
             0.1111111111111111,
             "#46039f"
            ],
            [
             0.2222222222222222,
             "#7201a8"
            ],
            [
             0.3333333333333333,
             "#9c179e"
            ],
            [
             0.4444444444444444,
             "#bd3786"
            ],
            [
             0.5555555555555556,
             "#d8576b"
            ],
            [
             0.6666666666666666,
             "#ed7953"
            ],
            [
             0.7777777777777778,
             "#fb9f3a"
            ],
            [
             0.8888888888888888,
             "#fdca26"
            ],
            [
             1.0,
             "#f0f921"
            ]
           ]
          },
          "colorway": [
           "#636efa",
           "#EF553B",
           "#00cc96",
           "#ab63fa",
           "#FFA15A",
           "#19d3f3",
           "#FF6692",
           "#B6E880",
           "#FF97FF",
           "#FECB52"
          ],
          "font": {
           "color": "#2a3f5f"
          },
          "geo": {
           "bgcolor": "white",
           "lakecolor": "white",
           "landcolor": "#E5ECF6",
           "showlakes": true,
           "showland": true,
           "subunitcolor": "white"
          },
          "hoverlabel": {
           "align": "left"
          },
          "hovermode": "closest",
          "mapbox": {
           "style": "light"
          },
          "paper_bgcolor": "white",
          "plot_bgcolor": "#E5ECF6",
          "polar": {
           "angularaxis": {
            "gridcolor": "white",
            "linecolor": "white",
            "ticks": ""
           },
           "bgcolor": "#E5ECF6",
           "radialaxis": {
            "gridcolor": "white",
            "linecolor": "white",
            "ticks": ""
           }
          },
          "scene": {
           "xaxis": {
            "backgroundcolor": "#E5ECF6",
            "gridcolor": "white",
            "gridwidth": 2,
            "linecolor": "white",
            "showbackground": true,
            "ticks": "",
            "zerolinecolor": "white"
           },
           "yaxis": {
            "backgroundcolor": "#E5ECF6",
            "gridcolor": "white",
            "gridwidth": 2,
            "linecolor": "white",
            "showbackground": true,
            "ticks": "",
            "zerolinecolor": "white"
           },
           "zaxis": {
            "backgroundcolor": "#E5ECF6",
            "gridcolor": "white",
            "gridwidth": 2,
            "linecolor": "white",
            "showbackground": true,
            "ticks": "",
            "zerolinecolor": "white"
           }
          },
          "shapedefaults": {
           "line": {
            "color": "#2a3f5f"
           }
          },
          "ternary": {
           "aaxis": {
            "gridcolor": "white",
            "linecolor": "white",
            "ticks": ""
           },
           "baxis": {
            "gridcolor": "white",
            "linecolor": "white",
            "ticks": ""
           },
           "bgcolor": "#E5ECF6",
           "caxis": {
            "gridcolor": "white",
            "linecolor": "white",
            "ticks": ""
           }
          },
          "title": {
           "x": 0.05
          },
          "xaxis": {
           "automargin": true,
           "gridcolor": "white",
           "linecolor": "white",
           "ticks": "",
           "title": {
            "standoff": 15
           },
           "zerolinecolor": "white",
           "zerolinewidth": 2
          },
          "yaxis": {
           "automargin": true,
           "gridcolor": "white",
           "linecolor": "white",
           "ticks": "",
           "title": {
            "standoff": 15
           },
           "zerolinecolor": "white",
           "zerolinewidth": 2
          }
         }
        },
        "xaxis": {
         "anchor": "y",
         "domain": [
          0.0,
          1.0
         ],
         "title": {
          "text": "Time"
         }
        },
        "yaxis": {
         "anchor": "x",
         "domain": [
          0.0,
          1.0
         ],
         "title": {
          "text": "Global_active_power"
         }
        },
        "legend": {
         "tracegroupgap": 0
        },
        "margin": {
         "t": 60
        },
        "title": {
         "text": "Monthly 99% percentile Global_active_power"
        },
        "width": 800
       },
       "config": {
        "plotlyServerURL": "https://plot.ly"
       }
      },
      "text/html": "<div>                            <div id=\"f06c68bc-b75f-4274-9219-321c93efa2fc\" class=\"plotly-graph-div\" style=\"height:525px; width:800px;\"></div>            <script type=\"text/javascript\">                require([\"plotly\"], function(Plotly) {                    window.PLOTLYENV=window.PLOTLYENV || {};                                    if (document.getElementById(\"f06c68bc-b75f-4274-9219-321c93efa2fc\")) {                    Plotly.newPlot(                        \"f06c68bc-b75f-4274-9219-321c93efa2fc\",                        [{\"hovertemplate\":\"x=%{x}<br>y=%{y}<extra></extra>\",\"legendgroup\":\"\",\"line\":{\"color\":\"#636efa\",\"dash\":\"solid\"},\"marker\":{\"symbol\":\"circle\"},\"mode\":\"lines\",\"name\":\"\",\"orientation\":\"v\",\"showlegend\":false,\"x\":[\"2007-07-31T00:00:00\",\"2007-08-31T00:00:00\",\"2007-09-30T00:00:00\",\"2007-10-31T00:00:00\",\"2007-11-30T00:00:00\",\"2007-12-31T00:00:00\",\"2008-01-31T00:00:00\",\"2008-02-29T00:00:00\",\"2008-03-31T00:00:00\",\"2008-04-30T00:00:00\",\"2008-05-31T00:00:00\",\"2008-06-30T00:00:00\",\"2008-07-31T00:00:00\",\"2008-08-31T00:00:00\",\"2008-09-30T00:00:00\",\"2008-10-31T00:00:00\",\"2008-11-30T00:00:00\",\"2008-12-31T00:00:00\",\"2009-01-31T00:00:00\",\"2009-02-28T00:00:00\",\"2009-03-31T00:00:00\",\"2009-04-30T00:00:00\",\"2009-05-31T00:00:00\",\"2009-06-30T00:00:00\",\"2009-07-31T00:00:00\",\"2009-08-31T00:00:00\",\"2009-09-30T00:00:00\",\"2009-10-31T00:00:00\",\"2009-11-30T00:00:00\",\"2009-12-31T00:00:00\",\"2010-01-31T00:00:00\",\"2010-02-28T00:00:00\",\"2010-03-31T00:00:00\",\"2010-04-30T00:00:00\",\"2010-05-31T00:00:00\",\"2010-06-30T00:00:00\",\"2010-07-31T00:00:00\",\"2010-08-31T00:00:00\",\"2010-09-30T00:00:00\",\"2010-10-31T00:00:00\",\"2010-11-30T00:00:00\",\"2010-12-31T00:00:00\"],\"xaxis\":\"x\",\"y\":[4.671220000000001,4.6892200000000015,5.0440600000000115,5.346,5.506060000000012,5.849220000000001,5.328,4.54,4.847220000000001,4.750060000000012,4.972440000000002,4.79,4.2,4.3996600000000035,4.588020000000004,4.9872200000000015,5.182,5.043220000000001,5.524,4.462,4.566,4.420040000000008,4.191220000000001,3.756020000000004,4.1,4.418,4.234,4.827220000000001,5.444,5.090440000000002,4.874060000000012,4.8408399999999965,4.514060000000012,4.0128199999999925,4.116020000000003,4.032819999999992,3.41,3.9700400000000085,3.8792799999999694,4.704020000000003,4.432,3.882],\"yaxis\":\"y\",\"type\":\"scatter\"}],                        {\"template\":{\"data\":{\"bar\":[{\"error_x\":{\"color\":\"#2a3f5f\"},\"error_y\":{\"color\":\"#2a3f5f\"},\"marker\":{\"line\":{\"color\":\"#E5ECF6\",\"width\":0.5},\"pattern\":{\"fillmode\":\"overlay\",\"size\":10,\"solidity\":0.2}},\"type\":\"bar\"}],\"barpolar\":[{\"marker\":{\"line\":{\"color\":\"#E5ECF6\",\"width\":0.5},\"pattern\":{\"fillmode\":\"overlay\",\"size\":10,\"solidity\":0.2}},\"type\":\"barpolar\"}],\"carpet\":[{\"aaxis\":{\"endlinecolor\":\"#2a3f5f\",\"gridcolor\":\"white\",\"linecolor\":\"white\",\"minorgridcolor\":\"white\",\"startlinecolor\":\"#2a3f5f\"},\"baxis\":{\"endlinecolor\":\"#2a3f5f\",\"gridcolor\":\"white\",\"linecolor\":\"white\",\"minorgridcolor\":\"white\",\"startlinecolor\":\"#2a3f5f\"},\"type\":\"carpet\"}],\"choropleth\":[{\"colorbar\":{\"outlinewidth\":0,\"ticks\":\"\"},\"type\":\"choropleth\"}],\"contour\":[{\"colorbar\":{\"outlinewidth\":0,\"ticks\":\"\"},\"colorscale\":[[0.0,\"#0d0887\"],[0.1111111111111111,\"#46039f\"],[0.2222222222222222,\"#7201a8\"],[0.3333333333333333,\"#9c179e\"],[0.4444444444444444,\"#bd3786\"],[0.5555555555555556,\"#d8576b\"],[0.6666666666666666,\"#ed7953\"],[0.7777777777777778,\"#fb9f3a\"],[0.8888888888888888,\"#fdca26\"],[1.0,\"#f0f921\"]],\"type\":\"contour\"}],\"contourcarpet\":[{\"colorbar\":{\"outlinewidth\":0,\"ticks\":\"\"},\"type\":\"contourcarpet\"}],\"heatmap\":[{\"colorbar\":{\"outlinewidth\":0,\"ticks\":\"\"},\"colorscale\":[[0.0,\"#0d0887\"],[0.1111111111111111,\"#46039f\"],[0.2222222222222222,\"#7201a8\"],[0.3333333333333333,\"#9c179e\"],[0.4444444444444444,\"#bd3786\"],[0.5555555555555556,\"#d8576b\"],[0.6666666666666666,\"#ed7953\"],[0.7777777777777778,\"#fb9f3a\"],[0.8888888888888888,\"#fdca26\"],[1.0,\"#f0f921\"]],\"type\":\"heatmap\"}],\"heatmapgl\":[{\"colorbar\":{\"outlinewidth\":0,\"ticks\":\"\"},\"colorscale\":[[0.0,\"#0d0887\"],[0.1111111111111111,\"#46039f\"],[0.2222222222222222,\"#7201a8\"],[0.3333333333333333,\"#9c179e\"],[0.4444444444444444,\"#bd3786\"],[0.5555555555555556,\"#d8576b\"],[0.6666666666666666,\"#ed7953\"],[0.7777777777777778,\"#fb9f3a\"],[0.8888888888888888,\"#fdca26\"],[1.0,\"#f0f921\"]],\"type\":\"heatmapgl\"}],\"histogram\":[{\"marker\":{\"pattern\":{\"fillmode\":\"overlay\",\"size\":10,\"solidity\":0.2}},\"type\":\"histogram\"}],\"histogram2d\":[{\"colorbar\":{\"outlinewidth\":0,\"ticks\":\"\"},\"colorscale\":[[0.0,\"#0d0887\"],[0.1111111111111111,\"#46039f\"],[0.2222222222222222,\"#7201a8\"],[0.3333333333333333,\"#9c179e\"],[0.4444444444444444,\"#bd3786\"],[0.5555555555555556,\"#d8576b\"],[0.6666666666666666,\"#ed7953\"],[0.7777777777777778,\"#fb9f3a\"],[0.8888888888888888,\"#fdca26\"],[1.0,\"#f0f921\"]],\"type\":\"histogram2d\"}],\"histogram2dcontour\":[{\"colorbar\":{\"outlinewidth\":0,\"ticks\":\"\"},\"colorscale\":[[0.0,\"#0d0887\"],[0.1111111111111111,\"#46039f\"],[0.2222222222222222,\"#7201a8\"],[0.3333333333333333,\"#9c179e\"],[0.4444444444444444,\"#bd3786\"],[0.5555555555555556,\"#d8576b\"],[0.6666666666666666,\"#ed7953\"],[0.7777777777777778,\"#fb9f3a\"],[0.8888888888888888,\"#fdca26\"],[1.0,\"#f0f921\"]],\"type\":\"histogram2dcontour\"}],\"mesh3d\":[{\"colorbar\":{\"outlinewidth\":0,\"ticks\":\"\"},\"type\":\"mesh3d\"}],\"parcoords\":[{\"line\":{\"colorbar\":{\"outlinewidth\":0,\"ticks\":\"\"}},\"type\":\"parcoords\"}],\"pie\":[{\"automargin\":true,\"type\":\"pie\"}],\"scatter\":[{\"marker\":{\"colorbar\":{\"outlinewidth\":0,\"ticks\":\"\"}},\"type\":\"scatter\"}],\"scatter3d\":[{\"line\":{\"colorbar\":{\"outlinewidth\":0,\"ticks\":\"\"}},\"marker\":{\"colorbar\":{\"outlinewidth\":0,\"ticks\":\"\"}},\"type\":\"scatter3d\"}],\"scattercarpet\":[{\"marker\":{\"colorbar\":{\"outlinewidth\":0,\"ticks\":\"\"}},\"type\":\"scattercarpet\"}],\"scattergeo\":[{\"marker\":{\"colorbar\":{\"outlinewidth\":0,\"ticks\":\"\"}},\"type\":\"scattergeo\"}],\"scattergl\":[{\"marker\":{\"colorbar\":{\"outlinewidth\":0,\"ticks\":\"\"}},\"type\":\"scattergl\"}],\"scattermapbox\":[{\"marker\":{\"colorbar\":{\"outlinewidth\":0,\"ticks\":\"\"}},\"type\":\"scattermapbox\"}],\"scatterpolar\":[{\"marker\":{\"colorbar\":{\"outlinewidth\":0,\"ticks\":\"\"}},\"type\":\"scatterpolar\"}],\"scatterpolargl\":[{\"marker\":{\"colorbar\":{\"outlinewidth\":0,\"ticks\":\"\"}},\"type\":\"scatterpolargl\"}],\"scatterternary\":[{\"marker\":{\"colorbar\":{\"outlinewidth\":0,\"ticks\":\"\"}},\"type\":\"scatterternary\"}],\"surface\":[{\"colorbar\":{\"outlinewidth\":0,\"ticks\":\"\"},\"colorscale\":[[0.0,\"#0d0887\"],[0.1111111111111111,\"#46039f\"],[0.2222222222222222,\"#7201a8\"],[0.3333333333333333,\"#9c179e\"],[0.4444444444444444,\"#bd3786\"],[0.5555555555555556,\"#d8576b\"],[0.6666666666666666,\"#ed7953\"],[0.7777777777777778,\"#fb9f3a\"],[0.8888888888888888,\"#fdca26\"],[1.0,\"#f0f921\"]],\"type\":\"surface\"}],\"table\":[{\"cells\":{\"fill\":{\"color\":\"#EBF0F8\"},\"line\":{\"color\":\"white\"}},\"header\":{\"fill\":{\"color\":\"#C8D4E3\"},\"line\":{\"color\":\"white\"}},\"type\":\"table\"}]},\"layout\":{\"annotationdefaults\":{\"arrowcolor\":\"#2a3f5f\",\"arrowhead\":0,\"arrowwidth\":1},\"autotypenumbers\":\"strict\",\"coloraxis\":{\"colorbar\":{\"outlinewidth\":0,\"ticks\":\"\"}},\"colorscale\":{\"diverging\":[[0,\"#8e0152\"],[0.1,\"#c51b7d\"],[0.2,\"#de77ae\"],[0.3,\"#f1b6da\"],[0.4,\"#fde0ef\"],[0.5,\"#f7f7f7\"],[0.6,\"#e6f5d0\"],[0.7,\"#b8e186\"],[0.8,\"#7fbc41\"],[0.9,\"#4d9221\"],[1,\"#276419\"]],\"sequential\":[[0.0,\"#0d0887\"],[0.1111111111111111,\"#46039f\"],[0.2222222222222222,\"#7201a8\"],[0.3333333333333333,\"#9c179e\"],[0.4444444444444444,\"#bd3786\"],[0.5555555555555556,\"#d8576b\"],[0.6666666666666666,\"#ed7953\"],[0.7777777777777778,\"#fb9f3a\"],[0.8888888888888888,\"#fdca26\"],[1.0,\"#f0f921\"]],\"sequentialminus\":[[0.0,\"#0d0887\"],[0.1111111111111111,\"#46039f\"],[0.2222222222222222,\"#7201a8\"],[0.3333333333333333,\"#9c179e\"],[0.4444444444444444,\"#bd3786\"],[0.5555555555555556,\"#d8576b\"],[0.6666666666666666,\"#ed7953\"],[0.7777777777777778,\"#fb9f3a\"],[0.8888888888888888,\"#fdca26\"],[1.0,\"#f0f921\"]]},\"colorway\":[\"#636efa\",\"#EF553B\",\"#00cc96\",\"#ab63fa\",\"#FFA15A\",\"#19d3f3\",\"#FF6692\",\"#B6E880\",\"#FF97FF\",\"#FECB52\"],\"font\":{\"color\":\"#2a3f5f\"},\"geo\":{\"bgcolor\":\"white\",\"lakecolor\":\"white\",\"landcolor\":\"#E5ECF6\",\"showlakes\":true,\"showland\":true,\"subunitcolor\":\"white\"},\"hoverlabel\":{\"align\":\"left\"},\"hovermode\":\"closest\",\"mapbox\":{\"style\":\"light\"},\"paper_bgcolor\":\"white\",\"plot_bgcolor\":\"#E5ECF6\",\"polar\":{\"angularaxis\":{\"gridcolor\":\"white\",\"linecolor\":\"white\",\"ticks\":\"\"},\"bgcolor\":\"#E5ECF6\",\"radialaxis\":{\"gridcolor\":\"white\",\"linecolor\":\"white\",\"ticks\":\"\"}},\"scene\":{\"xaxis\":{\"backgroundcolor\":\"#E5ECF6\",\"gridcolor\":\"white\",\"gridwidth\":2,\"linecolor\":\"white\",\"showbackground\":true,\"ticks\":\"\",\"zerolinecolor\":\"white\"},\"yaxis\":{\"backgroundcolor\":\"#E5ECF6\",\"gridcolor\":\"white\",\"gridwidth\":2,\"linecolor\":\"white\",\"showbackground\":true,\"ticks\":\"\",\"zerolinecolor\":\"white\"},\"zaxis\":{\"backgroundcolor\":\"#E5ECF6\",\"gridcolor\":\"white\",\"gridwidth\":2,\"linecolor\":\"white\",\"showbackground\":true,\"ticks\":\"\",\"zerolinecolor\":\"white\"}},\"shapedefaults\":{\"line\":{\"color\":\"#2a3f5f\"}},\"ternary\":{\"aaxis\":{\"gridcolor\":\"white\",\"linecolor\":\"white\",\"ticks\":\"\"},\"baxis\":{\"gridcolor\":\"white\",\"linecolor\":\"white\",\"ticks\":\"\"},\"bgcolor\":\"#E5ECF6\",\"caxis\":{\"gridcolor\":\"white\",\"linecolor\":\"white\",\"ticks\":\"\"}},\"title\":{\"x\":0.05},\"xaxis\":{\"automargin\":true,\"gridcolor\":\"white\",\"linecolor\":\"white\",\"ticks\":\"\",\"title\":{\"standoff\":15},\"zerolinecolor\":\"white\",\"zerolinewidth\":2},\"yaxis\":{\"automargin\":true,\"gridcolor\":\"white\",\"linecolor\":\"white\",\"ticks\":\"\",\"title\":{\"standoff\":15},\"zerolinecolor\":\"white\",\"zerolinewidth\":2}}},\"xaxis\":{\"anchor\":\"y\",\"domain\":[0.0,1.0],\"title\":{\"text\":\"Time\"}},\"yaxis\":{\"anchor\":\"x\",\"domain\":[0.0,1.0],\"title\":{\"text\":\"Global_active_power\"}},\"legend\":{\"tracegroupgap\":0},\"margin\":{\"t\":60},\"title\":{\"text\":\"Monthly 99% percentile Global_active_power\"},\"width\":800},                        {\"responsive\": true}                    ).then(function(){\n                            \nvar gd = document.getElementById('f06c68bc-b75f-4274-9219-321c93efa2fc');\nvar x = new MutationObserver(function (mutations, observer) {{\n        var display = window.getComputedStyle(gd).display;\n        if (!display || display === 'none') {{\n            console.log([gd, 'removed!']);\n            Plotly.purge(gd);\n            observer.disconnect();\n        }}\n}});\n\n// Listen for the removal of the full notebook cells\nvar notebookContainer = gd.closest('#notebook-container');\nif (notebookContainer) {{\n    x.observe(notebookContainer, {childList: true});\n}}\n\n// Listen for the clearing of the current output cell\nvar outputEl = gd.closest('.output');\nif (outputEl) {{\n    x.observe(outputEl, {childList: true});\n}}\n\n                        })                };                });            </script>        </div>"
     },
     "metadata": {},
     "output_type": "display_data"
    }
   ],
   "source": [
    "df = pd.read_parquet(\"data/household.parquet\")\n",
    "\n",
    "# Exclude data before July 2007\n",
    "df = df.loc[\"2007-07\":]\n",
    "df_monthly = df.resample(\"M\").quantile(0.99)\n",
    "var = \"Global_active_power\"\n",
    "fig = run_sequence_plot(\n",
    "    df_monthly.index, df_monthly[var], f\"Monthly 99% percentile {var}\", \"Time\", f\"{var}\"\n",
    ")\n",
    "fig.show()"
   ],
   "metadata": {
    "collapsed": false,
    "pycharm": {
     "name": "#%%\n"
    }
   }
  },
  {
   "cell_type": "markdown",
   "source": [
    "# Naive forecast"
   ],
   "metadata": {
    "collapsed": false,
    "pycharm": {
     "name": "#%% md\n"
    }
   }
  },
  {
   "cell_type": "code",
   "execution_count": 267,
   "outputs": [
    {
     "name": "stdout",
     "output_type": "stream",
     "text": [
      "MAE: 0.2142, MAPE: 0.0968\n"
     ]
    }
   ],
   "source": [
    "from sklearn.metrics import mean_squared_error, mean_absolute_percentage_error\n",
    "\n",
    "months_predict = 10\n",
    "y_true = df_monthly[var].iloc[-months_predict:]\n",
    "y_predict = df_monthly[var].iloc[-months_predict - 1 : -1]\n",
    "\n",
    "print(\n",
    "    f\"MAE: {mean_squared_error(y_true, y_predict):.4f}, MAPE: {mean_absolute_percentage_error(y_true, y_predict):.4f}\"\n",
    ")\n",
    "# print(f\"y: {y_true}\\ny_shift: {y_predict}\")"
   ],
   "metadata": {
    "collapsed": false,
    "pycharm": {
     "name": "#%%\n"
    }
   }
  },
  {
   "cell_type": "code",
   "execution_count": 228,
   "outputs": [
    {
     "data": {
      "application/vnd.plotly.v1+json": {
       "data": [
        {
         "hovertemplate": "x=%{x}<br>y=%{y}<extra></extra>",
         "legendgroup": "",
         "line": {
          "color": "#636efa",
          "dash": "solid"
         },
         "marker": {
          "symbol": "circle"
         },
         "mode": "lines",
         "name": "",
         "orientation": "v",
         "showlegend": false,
         "x": [
          "2007-07-31T00:00:00",
          "2007-08-31T00:00:00",
          "2007-09-30T00:00:00",
          "2007-10-31T00:00:00",
          "2007-11-30T00:00:00",
          "2007-12-31T00:00:00",
          "2008-01-31T00:00:00",
          "2008-02-29T00:00:00",
          "2008-03-31T00:00:00",
          "2008-04-30T00:00:00",
          "2008-05-31T00:00:00",
          "2008-06-30T00:00:00",
          "2008-07-31T00:00:00",
          "2008-08-31T00:00:00",
          "2008-09-30T00:00:00",
          "2008-10-31T00:00:00",
          "2008-11-30T00:00:00",
          "2008-12-31T00:00:00",
          "2009-01-31T00:00:00",
          "2009-02-28T00:00:00",
          "2009-03-31T00:00:00",
          "2009-04-30T00:00:00",
          "2009-05-31T00:00:00",
          "2009-06-30T00:00:00",
          "2009-07-31T00:00:00",
          "2009-08-31T00:00:00",
          "2009-09-30T00:00:00",
          "2009-10-31T00:00:00",
          "2009-11-30T00:00:00",
          "2009-12-31T00:00:00",
          "2010-01-31T00:00:00",
          "2010-02-28T00:00:00",
          "2010-03-31T00:00:00",
          "2010-04-30T00:00:00",
          "2010-05-31T00:00:00",
          "2010-06-30T00:00:00",
          "2010-07-31T00:00:00",
          "2010-08-31T00:00:00",
          "2010-09-30T00:00:00",
          "2010-10-31T00:00:00",
          "2010-11-30T00:00:00",
          "2010-12-31T00:00:00"
         ],
         "xaxis": "x",
         "y": [
          4.671220000000001,
          4.6892200000000015,
          5.0440600000000115,
          5.346,
          5.506060000000012,
          5.849220000000001,
          5.328,
          4.54,
          4.847220000000001,
          4.750060000000012,
          4.972440000000002,
          4.79,
          4.2,
          4.3996600000000035,
          4.588020000000004,
          4.9872200000000015,
          5.182,
          5.043220000000001,
          5.524,
          4.462,
          4.566,
          4.420040000000008,
          4.191220000000001,
          3.756020000000004,
          4.1,
          4.418,
          4.234,
          4.827220000000001,
          5.444,
          5.090440000000002,
          4.874060000000012,
          4.8408399999999965,
          4.514060000000012,
          4.0128199999999925,
          4.116020000000003,
          4.032819999999992,
          3.41,
          3.9700400000000085,
          3.8792799999999694,
          4.704020000000003,
          4.432,
          3.882
         ],
         "yaxis": "y",
         "type": "scatter"
        },
        {
         "mode": "lines",
         "name": "Naive forecast",
         "x": [
          "2010-07-31T00:00:00",
          "2010-08-31T00:00:00",
          "2010-09-30T00:00:00",
          "2010-10-31T00:00:00",
          "2010-11-30T00:00:00",
          "2010-12-31T00:00:00"
         ],
         "y": [
          4.032819999999992,
          3.41,
          3.9700400000000085,
          3.8792799999999694,
          4.704020000000003,
          4.432
         ],
         "type": "scatter"
        }
       ],
       "layout": {
        "template": {
         "data": {
          "bar": [
           {
            "error_x": {
             "color": "#2a3f5f"
            },
            "error_y": {
             "color": "#2a3f5f"
            },
            "marker": {
             "line": {
              "color": "#E5ECF6",
              "width": 0.5
             },
             "pattern": {
              "fillmode": "overlay",
              "size": 10,
              "solidity": 0.2
             }
            },
            "type": "bar"
           }
          ],
          "barpolar": [
           {
            "marker": {
             "line": {
              "color": "#E5ECF6",
              "width": 0.5
             },
             "pattern": {
              "fillmode": "overlay",
              "size": 10,
              "solidity": 0.2
             }
            },
            "type": "barpolar"
           }
          ],
          "carpet": [
           {
            "aaxis": {
             "endlinecolor": "#2a3f5f",
             "gridcolor": "white",
             "linecolor": "white",
             "minorgridcolor": "white",
             "startlinecolor": "#2a3f5f"
            },
            "baxis": {
             "endlinecolor": "#2a3f5f",
             "gridcolor": "white",
             "linecolor": "white",
             "minorgridcolor": "white",
             "startlinecolor": "#2a3f5f"
            },
            "type": "carpet"
           }
          ],
          "choropleth": [
           {
            "colorbar": {
             "outlinewidth": 0,
             "ticks": ""
            },
            "type": "choropleth"
           }
          ],
          "contour": [
           {
            "colorbar": {
             "outlinewidth": 0,
             "ticks": ""
            },
            "colorscale": [
             [
              0.0,
              "#0d0887"
             ],
             [
              0.1111111111111111,
              "#46039f"
             ],
             [
              0.2222222222222222,
              "#7201a8"
             ],
             [
              0.3333333333333333,
              "#9c179e"
             ],
             [
              0.4444444444444444,
              "#bd3786"
             ],
             [
              0.5555555555555556,
              "#d8576b"
             ],
             [
              0.6666666666666666,
              "#ed7953"
             ],
             [
              0.7777777777777778,
              "#fb9f3a"
             ],
             [
              0.8888888888888888,
              "#fdca26"
             ],
             [
              1.0,
              "#f0f921"
             ]
            ],
            "type": "contour"
           }
          ],
          "contourcarpet": [
           {
            "colorbar": {
             "outlinewidth": 0,
             "ticks": ""
            },
            "type": "contourcarpet"
           }
          ],
          "heatmap": [
           {
            "colorbar": {
             "outlinewidth": 0,
             "ticks": ""
            },
            "colorscale": [
             [
              0.0,
              "#0d0887"
             ],
             [
              0.1111111111111111,
              "#46039f"
             ],
             [
              0.2222222222222222,
              "#7201a8"
             ],
             [
              0.3333333333333333,
              "#9c179e"
             ],
             [
              0.4444444444444444,
              "#bd3786"
             ],
             [
              0.5555555555555556,
              "#d8576b"
             ],
             [
              0.6666666666666666,
              "#ed7953"
             ],
             [
              0.7777777777777778,
              "#fb9f3a"
             ],
             [
              0.8888888888888888,
              "#fdca26"
             ],
             [
              1.0,
              "#f0f921"
             ]
            ],
            "type": "heatmap"
           }
          ],
          "heatmapgl": [
           {
            "colorbar": {
             "outlinewidth": 0,
             "ticks": ""
            },
            "colorscale": [
             [
              0.0,
              "#0d0887"
             ],
             [
              0.1111111111111111,
              "#46039f"
             ],
             [
              0.2222222222222222,
              "#7201a8"
             ],
             [
              0.3333333333333333,
              "#9c179e"
             ],
             [
              0.4444444444444444,
              "#bd3786"
             ],
             [
              0.5555555555555556,
              "#d8576b"
             ],
             [
              0.6666666666666666,
              "#ed7953"
             ],
             [
              0.7777777777777778,
              "#fb9f3a"
             ],
             [
              0.8888888888888888,
              "#fdca26"
             ],
             [
              1.0,
              "#f0f921"
             ]
            ],
            "type": "heatmapgl"
           }
          ],
          "histogram": [
           {
            "marker": {
             "pattern": {
              "fillmode": "overlay",
              "size": 10,
              "solidity": 0.2
             }
            },
            "type": "histogram"
           }
          ],
          "histogram2d": [
           {
            "colorbar": {
             "outlinewidth": 0,
             "ticks": ""
            },
            "colorscale": [
             [
              0.0,
              "#0d0887"
             ],
             [
              0.1111111111111111,
              "#46039f"
             ],
             [
              0.2222222222222222,
              "#7201a8"
             ],
             [
              0.3333333333333333,
              "#9c179e"
             ],
             [
              0.4444444444444444,
              "#bd3786"
             ],
             [
              0.5555555555555556,
              "#d8576b"
             ],
             [
              0.6666666666666666,
              "#ed7953"
             ],
             [
              0.7777777777777778,
              "#fb9f3a"
             ],
             [
              0.8888888888888888,
              "#fdca26"
             ],
             [
              1.0,
              "#f0f921"
             ]
            ],
            "type": "histogram2d"
           }
          ],
          "histogram2dcontour": [
           {
            "colorbar": {
             "outlinewidth": 0,
             "ticks": ""
            },
            "colorscale": [
             [
              0.0,
              "#0d0887"
             ],
             [
              0.1111111111111111,
              "#46039f"
             ],
             [
              0.2222222222222222,
              "#7201a8"
             ],
             [
              0.3333333333333333,
              "#9c179e"
             ],
             [
              0.4444444444444444,
              "#bd3786"
             ],
             [
              0.5555555555555556,
              "#d8576b"
             ],
             [
              0.6666666666666666,
              "#ed7953"
             ],
             [
              0.7777777777777778,
              "#fb9f3a"
             ],
             [
              0.8888888888888888,
              "#fdca26"
             ],
             [
              1.0,
              "#f0f921"
             ]
            ],
            "type": "histogram2dcontour"
           }
          ],
          "mesh3d": [
           {
            "colorbar": {
             "outlinewidth": 0,
             "ticks": ""
            },
            "type": "mesh3d"
           }
          ],
          "parcoords": [
           {
            "line": {
             "colorbar": {
              "outlinewidth": 0,
              "ticks": ""
             }
            },
            "type": "parcoords"
           }
          ],
          "pie": [
           {
            "automargin": true,
            "type": "pie"
           }
          ],
          "scatter": [
           {
            "marker": {
             "colorbar": {
              "outlinewidth": 0,
              "ticks": ""
             }
            },
            "type": "scatter"
           }
          ],
          "scatter3d": [
           {
            "line": {
             "colorbar": {
              "outlinewidth": 0,
              "ticks": ""
             }
            },
            "marker": {
             "colorbar": {
              "outlinewidth": 0,
              "ticks": ""
             }
            },
            "type": "scatter3d"
           }
          ],
          "scattercarpet": [
           {
            "marker": {
             "colorbar": {
              "outlinewidth": 0,
              "ticks": ""
             }
            },
            "type": "scattercarpet"
           }
          ],
          "scattergeo": [
           {
            "marker": {
             "colorbar": {
              "outlinewidth": 0,
              "ticks": ""
             }
            },
            "type": "scattergeo"
           }
          ],
          "scattergl": [
           {
            "marker": {
             "colorbar": {
              "outlinewidth": 0,
              "ticks": ""
             }
            },
            "type": "scattergl"
           }
          ],
          "scattermapbox": [
           {
            "marker": {
             "colorbar": {
              "outlinewidth": 0,
              "ticks": ""
             }
            },
            "type": "scattermapbox"
           }
          ],
          "scatterpolar": [
           {
            "marker": {
             "colorbar": {
              "outlinewidth": 0,
              "ticks": ""
             }
            },
            "type": "scatterpolar"
           }
          ],
          "scatterpolargl": [
           {
            "marker": {
             "colorbar": {
              "outlinewidth": 0,
              "ticks": ""
             }
            },
            "type": "scatterpolargl"
           }
          ],
          "scatterternary": [
           {
            "marker": {
             "colorbar": {
              "outlinewidth": 0,
              "ticks": ""
             }
            },
            "type": "scatterternary"
           }
          ],
          "surface": [
           {
            "colorbar": {
             "outlinewidth": 0,
             "ticks": ""
            },
            "colorscale": [
             [
              0.0,
              "#0d0887"
             ],
             [
              0.1111111111111111,
              "#46039f"
             ],
             [
              0.2222222222222222,
              "#7201a8"
             ],
             [
              0.3333333333333333,
              "#9c179e"
             ],
             [
              0.4444444444444444,
              "#bd3786"
             ],
             [
              0.5555555555555556,
              "#d8576b"
             ],
             [
              0.6666666666666666,
              "#ed7953"
             ],
             [
              0.7777777777777778,
              "#fb9f3a"
             ],
             [
              0.8888888888888888,
              "#fdca26"
             ],
             [
              1.0,
              "#f0f921"
             ]
            ],
            "type": "surface"
           }
          ],
          "table": [
           {
            "cells": {
             "fill": {
              "color": "#EBF0F8"
             },
             "line": {
              "color": "white"
             }
            },
            "header": {
             "fill": {
              "color": "#C8D4E3"
             },
             "line": {
              "color": "white"
             }
            },
            "type": "table"
           }
          ]
         },
         "layout": {
          "annotationdefaults": {
           "arrowcolor": "#2a3f5f",
           "arrowhead": 0,
           "arrowwidth": 1
          },
          "autotypenumbers": "strict",
          "coloraxis": {
           "colorbar": {
            "outlinewidth": 0,
            "ticks": ""
           }
          },
          "colorscale": {
           "diverging": [
            [
             0,
             "#8e0152"
            ],
            [
             0.1,
             "#c51b7d"
            ],
            [
             0.2,
             "#de77ae"
            ],
            [
             0.3,
             "#f1b6da"
            ],
            [
             0.4,
             "#fde0ef"
            ],
            [
             0.5,
             "#f7f7f7"
            ],
            [
             0.6,
             "#e6f5d0"
            ],
            [
             0.7,
             "#b8e186"
            ],
            [
             0.8,
             "#7fbc41"
            ],
            [
             0.9,
             "#4d9221"
            ],
            [
             1,
             "#276419"
            ]
           ],
           "sequential": [
            [
             0.0,
             "#0d0887"
            ],
            [
             0.1111111111111111,
             "#46039f"
            ],
            [
             0.2222222222222222,
             "#7201a8"
            ],
            [
             0.3333333333333333,
             "#9c179e"
            ],
            [
             0.4444444444444444,
             "#bd3786"
            ],
            [
             0.5555555555555556,
             "#d8576b"
            ],
            [
             0.6666666666666666,
             "#ed7953"
            ],
            [
             0.7777777777777778,
             "#fb9f3a"
            ],
            [
             0.8888888888888888,
             "#fdca26"
            ],
            [
             1.0,
             "#f0f921"
            ]
           ],
           "sequentialminus": [
            [
             0.0,
             "#0d0887"
            ],
            [
             0.1111111111111111,
             "#46039f"
            ],
            [
             0.2222222222222222,
             "#7201a8"
            ],
            [
             0.3333333333333333,
             "#9c179e"
            ],
            [
             0.4444444444444444,
             "#bd3786"
            ],
            [
             0.5555555555555556,
             "#d8576b"
            ],
            [
             0.6666666666666666,
             "#ed7953"
            ],
            [
             0.7777777777777778,
             "#fb9f3a"
            ],
            [
             0.8888888888888888,
             "#fdca26"
            ],
            [
             1.0,
             "#f0f921"
            ]
           ]
          },
          "colorway": [
           "#636efa",
           "#EF553B",
           "#00cc96",
           "#ab63fa",
           "#FFA15A",
           "#19d3f3",
           "#FF6692",
           "#B6E880",
           "#FF97FF",
           "#FECB52"
          ],
          "font": {
           "color": "#2a3f5f"
          },
          "geo": {
           "bgcolor": "white",
           "lakecolor": "white",
           "landcolor": "#E5ECF6",
           "showlakes": true,
           "showland": true,
           "subunitcolor": "white"
          },
          "hoverlabel": {
           "align": "left"
          },
          "hovermode": "closest",
          "mapbox": {
           "style": "light"
          },
          "paper_bgcolor": "white",
          "plot_bgcolor": "#E5ECF6",
          "polar": {
           "angularaxis": {
            "gridcolor": "white",
            "linecolor": "white",
            "ticks": ""
           },
           "bgcolor": "#E5ECF6",
           "radialaxis": {
            "gridcolor": "white",
            "linecolor": "white",
            "ticks": ""
           }
          },
          "scene": {
           "xaxis": {
            "backgroundcolor": "#E5ECF6",
            "gridcolor": "white",
            "gridwidth": 2,
            "linecolor": "white",
            "showbackground": true,
            "ticks": "",
            "zerolinecolor": "white"
           },
           "yaxis": {
            "backgroundcolor": "#E5ECF6",
            "gridcolor": "white",
            "gridwidth": 2,
            "linecolor": "white",
            "showbackground": true,
            "ticks": "",
            "zerolinecolor": "white"
           },
           "zaxis": {
            "backgroundcolor": "#E5ECF6",
            "gridcolor": "white",
            "gridwidth": 2,
            "linecolor": "white",
            "showbackground": true,
            "ticks": "",
            "zerolinecolor": "white"
           }
          },
          "shapedefaults": {
           "line": {
            "color": "#2a3f5f"
           }
          },
          "ternary": {
           "aaxis": {
            "gridcolor": "white",
            "linecolor": "white",
            "ticks": ""
           },
           "baxis": {
            "gridcolor": "white",
            "linecolor": "white",
            "ticks": ""
           },
           "bgcolor": "#E5ECF6",
           "caxis": {
            "gridcolor": "white",
            "linecolor": "white",
            "ticks": ""
           }
          },
          "title": {
           "x": 0.05
          },
          "xaxis": {
           "automargin": true,
           "gridcolor": "white",
           "linecolor": "white",
           "ticks": "",
           "title": {
            "standoff": 15
           },
           "zerolinecolor": "white",
           "zerolinewidth": 2
          },
          "yaxis": {
           "automargin": true,
           "gridcolor": "white",
           "linecolor": "white",
           "ticks": "",
           "title": {
            "standoff": 15
           },
           "zerolinecolor": "white",
           "zerolinewidth": 2
          }
         }
        },
        "xaxis": {
         "anchor": "y",
         "domain": [
          0.0,
          1.0
         ],
         "title": {
          "text": "Time"
         }
        },
        "yaxis": {
         "anchor": "x",
         "domain": [
          0.0,
          1.0
         ],
         "title": {
          "text": "Global_active_power"
         }
        },
        "legend": {
         "tracegroupgap": 0
        },
        "margin": {
         "t": 60
        },
        "title": {
         "text": "Monthly 99% percentile Global_active_power"
        },
        "width": 1000
       },
       "config": {
        "plotlyServerURL": "https://plot.ly"
       }
      },
      "text/html": "<div>                            <div id=\"f1adf185-6beb-4fb7-b0a7-0e07ead02725\" class=\"plotly-graph-div\" style=\"height:525px; width:1000px;\"></div>            <script type=\"text/javascript\">                require([\"plotly\"], function(Plotly) {                    window.PLOTLYENV=window.PLOTLYENV || {};                                    if (document.getElementById(\"f1adf185-6beb-4fb7-b0a7-0e07ead02725\")) {                    Plotly.newPlot(                        \"f1adf185-6beb-4fb7-b0a7-0e07ead02725\",                        [{\"hovertemplate\":\"x=%{x}<br>y=%{y}<extra></extra>\",\"legendgroup\":\"\",\"line\":{\"color\":\"#636efa\",\"dash\":\"solid\"},\"marker\":{\"symbol\":\"circle\"},\"mode\":\"lines\",\"name\":\"\",\"orientation\":\"v\",\"showlegend\":false,\"x\":[\"2007-07-31T00:00:00\",\"2007-08-31T00:00:00\",\"2007-09-30T00:00:00\",\"2007-10-31T00:00:00\",\"2007-11-30T00:00:00\",\"2007-12-31T00:00:00\",\"2008-01-31T00:00:00\",\"2008-02-29T00:00:00\",\"2008-03-31T00:00:00\",\"2008-04-30T00:00:00\",\"2008-05-31T00:00:00\",\"2008-06-30T00:00:00\",\"2008-07-31T00:00:00\",\"2008-08-31T00:00:00\",\"2008-09-30T00:00:00\",\"2008-10-31T00:00:00\",\"2008-11-30T00:00:00\",\"2008-12-31T00:00:00\",\"2009-01-31T00:00:00\",\"2009-02-28T00:00:00\",\"2009-03-31T00:00:00\",\"2009-04-30T00:00:00\",\"2009-05-31T00:00:00\",\"2009-06-30T00:00:00\",\"2009-07-31T00:00:00\",\"2009-08-31T00:00:00\",\"2009-09-30T00:00:00\",\"2009-10-31T00:00:00\",\"2009-11-30T00:00:00\",\"2009-12-31T00:00:00\",\"2010-01-31T00:00:00\",\"2010-02-28T00:00:00\",\"2010-03-31T00:00:00\",\"2010-04-30T00:00:00\",\"2010-05-31T00:00:00\",\"2010-06-30T00:00:00\",\"2010-07-31T00:00:00\",\"2010-08-31T00:00:00\",\"2010-09-30T00:00:00\",\"2010-10-31T00:00:00\",\"2010-11-30T00:00:00\",\"2010-12-31T00:00:00\"],\"xaxis\":\"x\",\"y\":[4.671220000000001,4.6892200000000015,5.0440600000000115,5.346,5.506060000000012,5.849220000000001,5.328,4.54,4.847220000000001,4.750060000000012,4.972440000000002,4.79,4.2,4.3996600000000035,4.588020000000004,4.9872200000000015,5.182,5.043220000000001,5.524,4.462,4.566,4.420040000000008,4.191220000000001,3.756020000000004,4.1,4.418,4.234,4.827220000000001,5.444,5.090440000000002,4.874060000000012,4.8408399999999965,4.514060000000012,4.0128199999999925,4.116020000000003,4.032819999999992,3.41,3.9700400000000085,3.8792799999999694,4.704020000000003,4.432,3.882],\"yaxis\":\"y\",\"type\":\"scatter\"},{\"mode\":\"lines\",\"name\":\"Naive forecast\",\"x\":[\"2010-07-31T00:00:00\",\"2010-08-31T00:00:00\",\"2010-09-30T00:00:00\",\"2010-10-31T00:00:00\",\"2010-11-30T00:00:00\",\"2010-12-31T00:00:00\"],\"y\":[4.032819999999992,3.41,3.9700400000000085,3.8792799999999694,4.704020000000003,4.432],\"type\":\"scatter\"}],                        {\"template\":{\"data\":{\"bar\":[{\"error_x\":{\"color\":\"#2a3f5f\"},\"error_y\":{\"color\":\"#2a3f5f\"},\"marker\":{\"line\":{\"color\":\"#E5ECF6\",\"width\":0.5},\"pattern\":{\"fillmode\":\"overlay\",\"size\":10,\"solidity\":0.2}},\"type\":\"bar\"}],\"barpolar\":[{\"marker\":{\"line\":{\"color\":\"#E5ECF6\",\"width\":0.5},\"pattern\":{\"fillmode\":\"overlay\",\"size\":10,\"solidity\":0.2}},\"type\":\"barpolar\"}],\"carpet\":[{\"aaxis\":{\"endlinecolor\":\"#2a3f5f\",\"gridcolor\":\"white\",\"linecolor\":\"white\",\"minorgridcolor\":\"white\",\"startlinecolor\":\"#2a3f5f\"},\"baxis\":{\"endlinecolor\":\"#2a3f5f\",\"gridcolor\":\"white\",\"linecolor\":\"white\",\"minorgridcolor\":\"white\",\"startlinecolor\":\"#2a3f5f\"},\"type\":\"carpet\"}],\"choropleth\":[{\"colorbar\":{\"outlinewidth\":0,\"ticks\":\"\"},\"type\":\"choropleth\"}],\"contour\":[{\"colorbar\":{\"outlinewidth\":0,\"ticks\":\"\"},\"colorscale\":[[0.0,\"#0d0887\"],[0.1111111111111111,\"#46039f\"],[0.2222222222222222,\"#7201a8\"],[0.3333333333333333,\"#9c179e\"],[0.4444444444444444,\"#bd3786\"],[0.5555555555555556,\"#d8576b\"],[0.6666666666666666,\"#ed7953\"],[0.7777777777777778,\"#fb9f3a\"],[0.8888888888888888,\"#fdca26\"],[1.0,\"#f0f921\"]],\"type\":\"contour\"}],\"contourcarpet\":[{\"colorbar\":{\"outlinewidth\":0,\"ticks\":\"\"},\"type\":\"contourcarpet\"}],\"heatmap\":[{\"colorbar\":{\"outlinewidth\":0,\"ticks\":\"\"},\"colorscale\":[[0.0,\"#0d0887\"],[0.1111111111111111,\"#46039f\"],[0.2222222222222222,\"#7201a8\"],[0.3333333333333333,\"#9c179e\"],[0.4444444444444444,\"#bd3786\"],[0.5555555555555556,\"#d8576b\"],[0.6666666666666666,\"#ed7953\"],[0.7777777777777778,\"#fb9f3a\"],[0.8888888888888888,\"#fdca26\"],[1.0,\"#f0f921\"]],\"type\":\"heatmap\"}],\"heatmapgl\":[{\"colorbar\":{\"outlinewidth\":0,\"ticks\":\"\"},\"colorscale\":[[0.0,\"#0d0887\"],[0.1111111111111111,\"#46039f\"],[0.2222222222222222,\"#7201a8\"],[0.3333333333333333,\"#9c179e\"],[0.4444444444444444,\"#bd3786\"],[0.5555555555555556,\"#d8576b\"],[0.6666666666666666,\"#ed7953\"],[0.7777777777777778,\"#fb9f3a\"],[0.8888888888888888,\"#fdca26\"],[1.0,\"#f0f921\"]],\"type\":\"heatmapgl\"}],\"histogram\":[{\"marker\":{\"pattern\":{\"fillmode\":\"overlay\",\"size\":10,\"solidity\":0.2}},\"type\":\"histogram\"}],\"histogram2d\":[{\"colorbar\":{\"outlinewidth\":0,\"ticks\":\"\"},\"colorscale\":[[0.0,\"#0d0887\"],[0.1111111111111111,\"#46039f\"],[0.2222222222222222,\"#7201a8\"],[0.3333333333333333,\"#9c179e\"],[0.4444444444444444,\"#bd3786\"],[0.5555555555555556,\"#d8576b\"],[0.6666666666666666,\"#ed7953\"],[0.7777777777777778,\"#fb9f3a\"],[0.8888888888888888,\"#fdca26\"],[1.0,\"#f0f921\"]],\"type\":\"histogram2d\"}],\"histogram2dcontour\":[{\"colorbar\":{\"outlinewidth\":0,\"ticks\":\"\"},\"colorscale\":[[0.0,\"#0d0887\"],[0.1111111111111111,\"#46039f\"],[0.2222222222222222,\"#7201a8\"],[0.3333333333333333,\"#9c179e\"],[0.4444444444444444,\"#bd3786\"],[0.5555555555555556,\"#d8576b\"],[0.6666666666666666,\"#ed7953\"],[0.7777777777777778,\"#fb9f3a\"],[0.8888888888888888,\"#fdca26\"],[1.0,\"#f0f921\"]],\"type\":\"histogram2dcontour\"}],\"mesh3d\":[{\"colorbar\":{\"outlinewidth\":0,\"ticks\":\"\"},\"type\":\"mesh3d\"}],\"parcoords\":[{\"line\":{\"colorbar\":{\"outlinewidth\":0,\"ticks\":\"\"}},\"type\":\"parcoords\"}],\"pie\":[{\"automargin\":true,\"type\":\"pie\"}],\"scatter\":[{\"marker\":{\"colorbar\":{\"outlinewidth\":0,\"ticks\":\"\"}},\"type\":\"scatter\"}],\"scatter3d\":[{\"line\":{\"colorbar\":{\"outlinewidth\":0,\"ticks\":\"\"}},\"marker\":{\"colorbar\":{\"outlinewidth\":0,\"ticks\":\"\"}},\"type\":\"scatter3d\"}],\"scattercarpet\":[{\"marker\":{\"colorbar\":{\"outlinewidth\":0,\"ticks\":\"\"}},\"type\":\"scattercarpet\"}],\"scattergeo\":[{\"marker\":{\"colorbar\":{\"outlinewidth\":0,\"ticks\":\"\"}},\"type\":\"scattergeo\"}],\"scattergl\":[{\"marker\":{\"colorbar\":{\"outlinewidth\":0,\"ticks\":\"\"}},\"type\":\"scattergl\"}],\"scattermapbox\":[{\"marker\":{\"colorbar\":{\"outlinewidth\":0,\"ticks\":\"\"}},\"type\":\"scattermapbox\"}],\"scatterpolar\":[{\"marker\":{\"colorbar\":{\"outlinewidth\":0,\"ticks\":\"\"}},\"type\":\"scatterpolar\"}],\"scatterpolargl\":[{\"marker\":{\"colorbar\":{\"outlinewidth\":0,\"ticks\":\"\"}},\"type\":\"scatterpolargl\"}],\"scatterternary\":[{\"marker\":{\"colorbar\":{\"outlinewidth\":0,\"ticks\":\"\"}},\"type\":\"scatterternary\"}],\"surface\":[{\"colorbar\":{\"outlinewidth\":0,\"ticks\":\"\"},\"colorscale\":[[0.0,\"#0d0887\"],[0.1111111111111111,\"#46039f\"],[0.2222222222222222,\"#7201a8\"],[0.3333333333333333,\"#9c179e\"],[0.4444444444444444,\"#bd3786\"],[0.5555555555555556,\"#d8576b\"],[0.6666666666666666,\"#ed7953\"],[0.7777777777777778,\"#fb9f3a\"],[0.8888888888888888,\"#fdca26\"],[1.0,\"#f0f921\"]],\"type\":\"surface\"}],\"table\":[{\"cells\":{\"fill\":{\"color\":\"#EBF0F8\"},\"line\":{\"color\":\"white\"}},\"header\":{\"fill\":{\"color\":\"#C8D4E3\"},\"line\":{\"color\":\"white\"}},\"type\":\"table\"}]},\"layout\":{\"annotationdefaults\":{\"arrowcolor\":\"#2a3f5f\",\"arrowhead\":0,\"arrowwidth\":1},\"autotypenumbers\":\"strict\",\"coloraxis\":{\"colorbar\":{\"outlinewidth\":0,\"ticks\":\"\"}},\"colorscale\":{\"diverging\":[[0,\"#8e0152\"],[0.1,\"#c51b7d\"],[0.2,\"#de77ae\"],[0.3,\"#f1b6da\"],[0.4,\"#fde0ef\"],[0.5,\"#f7f7f7\"],[0.6,\"#e6f5d0\"],[0.7,\"#b8e186\"],[0.8,\"#7fbc41\"],[0.9,\"#4d9221\"],[1,\"#276419\"]],\"sequential\":[[0.0,\"#0d0887\"],[0.1111111111111111,\"#46039f\"],[0.2222222222222222,\"#7201a8\"],[0.3333333333333333,\"#9c179e\"],[0.4444444444444444,\"#bd3786\"],[0.5555555555555556,\"#d8576b\"],[0.6666666666666666,\"#ed7953\"],[0.7777777777777778,\"#fb9f3a\"],[0.8888888888888888,\"#fdca26\"],[1.0,\"#f0f921\"]],\"sequentialminus\":[[0.0,\"#0d0887\"],[0.1111111111111111,\"#46039f\"],[0.2222222222222222,\"#7201a8\"],[0.3333333333333333,\"#9c179e\"],[0.4444444444444444,\"#bd3786\"],[0.5555555555555556,\"#d8576b\"],[0.6666666666666666,\"#ed7953\"],[0.7777777777777778,\"#fb9f3a\"],[0.8888888888888888,\"#fdca26\"],[1.0,\"#f0f921\"]]},\"colorway\":[\"#636efa\",\"#EF553B\",\"#00cc96\",\"#ab63fa\",\"#FFA15A\",\"#19d3f3\",\"#FF6692\",\"#B6E880\",\"#FF97FF\",\"#FECB52\"],\"font\":{\"color\":\"#2a3f5f\"},\"geo\":{\"bgcolor\":\"white\",\"lakecolor\":\"white\",\"landcolor\":\"#E5ECF6\",\"showlakes\":true,\"showland\":true,\"subunitcolor\":\"white\"},\"hoverlabel\":{\"align\":\"left\"},\"hovermode\":\"closest\",\"mapbox\":{\"style\":\"light\"},\"paper_bgcolor\":\"white\",\"plot_bgcolor\":\"#E5ECF6\",\"polar\":{\"angularaxis\":{\"gridcolor\":\"white\",\"linecolor\":\"white\",\"ticks\":\"\"},\"bgcolor\":\"#E5ECF6\",\"radialaxis\":{\"gridcolor\":\"white\",\"linecolor\":\"white\",\"ticks\":\"\"}},\"scene\":{\"xaxis\":{\"backgroundcolor\":\"#E5ECF6\",\"gridcolor\":\"white\",\"gridwidth\":2,\"linecolor\":\"white\",\"showbackground\":true,\"ticks\":\"\",\"zerolinecolor\":\"white\"},\"yaxis\":{\"backgroundcolor\":\"#E5ECF6\",\"gridcolor\":\"white\",\"gridwidth\":2,\"linecolor\":\"white\",\"showbackground\":true,\"ticks\":\"\",\"zerolinecolor\":\"white\"},\"zaxis\":{\"backgroundcolor\":\"#E5ECF6\",\"gridcolor\":\"white\",\"gridwidth\":2,\"linecolor\":\"white\",\"showbackground\":true,\"ticks\":\"\",\"zerolinecolor\":\"white\"}},\"shapedefaults\":{\"line\":{\"color\":\"#2a3f5f\"}},\"ternary\":{\"aaxis\":{\"gridcolor\":\"white\",\"linecolor\":\"white\",\"ticks\":\"\"},\"baxis\":{\"gridcolor\":\"white\",\"linecolor\":\"white\",\"ticks\":\"\"},\"bgcolor\":\"#E5ECF6\",\"caxis\":{\"gridcolor\":\"white\",\"linecolor\":\"white\",\"ticks\":\"\"}},\"title\":{\"x\":0.05},\"xaxis\":{\"automargin\":true,\"gridcolor\":\"white\",\"linecolor\":\"white\",\"ticks\":\"\",\"title\":{\"standoff\":15},\"zerolinecolor\":\"white\",\"zerolinewidth\":2},\"yaxis\":{\"automargin\":true,\"gridcolor\":\"white\",\"linecolor\":\"white\",\"ticks\":\"\",\"title\":{\"standoff\":15},\"zerolinecolor\":\"white\",\"zerolinewidth\":2}}},\"xaxis\":{\"anchor\":\"y\",\"domain\":[0.0,1.0],\"title\":{\"text\":\"Time\"}},\"yaxis\":{\"anchor\":\"x\",\"domain\":[0.0,1.0],\"title\":{\"text\":\"Global_active_power\"}},\"legend\":{\"tracegroupgap\":0},\"margin\":{\"t\":60},\"title\":{\"text\":\"Monthly 99% percentile Global_active_power\"},\"width\":1000},                        {\"responsive\": true}                    ).then(function(){\n                            \nvar gd = document.getElementById('f1adf185-6beb-4fb7-b0a7-0e07ead02725');\nvar x = new MutationObserver(function (mutations, observer) {{\n        var display = window.getComputedStyle(gd).display;\n        if (!display || display === 'none') {{\n            console.log([gd, 'removed!']);\n            Plotly.purge(gd);\n            observer.disconnect();\n        }}\n}});\n\n// Listen for the removal of the full notebook cells\nvar notebookContainer = gd.closest('#notebook-container');\nif (notebookContainer) {{\n    x.observe(notebookContainer, {childList: true});\n}}\n\n// Listen for the clearing of the current output cell\nvar outputEl = gd.closest('.output');\nif (outputEl) {{\n    x.observe(outputEl, {childList: true});\n}}\n\n                        })                };                });            </script>        </div>"
     },
     "metadata": {},
     "output_type": "display_data"
    }
   ],
   "source": [
    "figure = px.line(x=df_monthly.index, y=df_monthly[var])\n",
    "figure.add_scatter(x=y_true.index, y=y_predict, mode=\"lines\", name=\"Naive forecast\")\n",
    "figure.update_layout(\n",
    "    title=f\"Monthly 99% percentile {var}\",\n",
    "    width=1000,\n",
    "    xaxis_title=\"Time\",\n",
    "    yaxis_title=f\"{var}\",\n",
    ")\n",
    "figure.show()"
   ],
   "metadata": {
    "collapsed": false,
    "pycharm": {
     "name": "#%%\n"
    }
   }
  },
  {
   "cell_type": "markdown",
   "source": [
    "# Simple RNN"
   ],
   "metadata": {
    "collapsed": false,
    "pycharm": {
     "name": "#%% md\n"
    }
   }
  },
  {
   "cell_type": "code",
   "execution_count": 229,
   "outputs": [],
   "source": [
    "import keras\n",
    "from keras.models import Sequential\n",
    "from keras.layers import (\n",
    "    Dense,\n",
    "    SimpleRNN,\n",
    "    LSTM,\n",
    "    Activation,\n",
    "    Dropout,\n",
    "    TimeDistributed,\n",
    "    GRU,\n",
    "    Flatten,\n",
    ")"
   ],
   "metadata": {
    "collapsed": false,
    "pycharm": {
     "name": "#%%\n"
    }
   }
  },
  {
   "cell_type": "code",
   "execution_count": 230,
   "outputs": [],
   "source": [
    "def get_keras_format_series(series):\n",
    "    \"\"\"\n",
    "    Convert a series to a numpy array of shape\n",
    "    [n_samples (how many time series),\n",
    "     time_steps (how many time steps in my series),\n",
    "      features (how many time series referring to different features)]\n",
    "    \"\"\"\n",
    "\n",
    "    series = np.array(series.values)\n",
    "    return series.reshape(series.shape[0], series.shape[1], 1)"
   ],
   "metadata": {
    "collapsed": false,
    "pycharm": {
     "name": "#%%\n"
    }
   }
  },
  {
   "cell_type": "code",
   "execution_count": 231,
   "outputs": [],
   "source": [
    "import os\n",
    "from enum import Enum\n",
    "\n",
    "\n",
    "class KerasCoreModel(Enum):\n",
    "    simpleRNN = 1\n",
    "    lstm = 2\n",
    "    gru = 3\n",
    "\n",
    "\n",
    "def neural_net_time_series(\n",
    "    train_X,\n",
    "    train_y,\n",
    "    val_X,\n",
    "    val_y,\n",
    "    model_name: str,\n",
    "    cell_units: int,\n",
    "    epochs: int,\n",
    "    core_model: KerasCoreModel,\n",
    "    n_layers: int,\n",
    "):\n",
    "\n",
    "    # initialize model\n",
    "    model = Sequential()\n",
    "\n",
    "    shape_in = [None, 1]\n",
    "\n",
    "    # construct a layer with specified number of hidden units\n",
    "    # per cell and desired sequence input format\n",
    "\n",
    "    print(f\"Model loaded: {core_model}\")\n",
    "    if core_model.value == KerasCoreModel.simpleRNN.value:\n",
    "        print(\"RNN\")\n",
    "        for i in range(n_layers):\n",
    "            if i == n_layers - 1:\n",
    "                print(\n",
    "                    \"model.add(SimpleRNN(cell_units, input_shape=(train_X.shape[1],1)))\"\n",
    "                )\n",
    "                model.add(SimpleRNN(cell_units, input_shape=shape_in))\n",
    "            else:\n",
    "                print(\n",
    "                    \"model.add(SimpleRNN(cell_units, input_shape=(train_X.shape[1],1), return_sequences=True))\"\n",
    "                )\n",
    "                model.add(\n",
    "                    SimpleRNN(cell_units, input_shape=shape_in, return_sequences=True)\n",
    "                )\n",
    "\n",
    "    elif core_model.value == KerasCoreModel.lstm.value:\n",
    "        print(\"LSTM\")\n",
    "        for i in range(n_layers):\n",
    "            if i == n_layers - 1:\n",
    "                print(\"model.add(LSTM(cell_units, input_shape=(train_X.shape[1],1)))\")\n",
    "                model.add(LSTM(cell_units, input_shape=shape_in))\n",
    "            else:\n",
    "                print(\n",
    "                    \"model.add(LSTM(cell_units, input_shape=(train_X.shape[1],1), return_sequences=True))\"\n",
    "                )\n",
    "                model.add(LSTM(cell_units, input_shape=shape_in, return_sequences=True))\n",
    "    else:\n",
    "        print(\"GRU\")\n",
    "        for i in range(n_layers):\n",
    "            if i == n_layers - 1:\n",
    "                print(\"model.add(GRU(cell_units, input_shape=(train_X.shape[1],1)))\")\n",
    "                model.add(GRU(cell_units, input_shape=shape_in))\n",
    "            else:\n",
    "                print(\n",
    "                    \"model.add(GRU(cell_units, input_shape=(train_X.shape[1],1), return_sequences=True))\"\n",
    "                )\n",
    "                model.add(GRU(cell_units, input_shape=shape_in, return_sequences=True))\n",
    "\n",
    "    # add an output layer to make final predictions\n",
    "    model.add(Dense(1))\n",
    "\n",
    "    # define the loss function / optimization strategy, and fit\n",
    "    # the model with the desired number of passes over the data (epochs)\n",
    "    model.compile(loss=\"mean_squared_error\", optimizer=\"adam\")\n",
    "\n",
    "    filename = os.path.join(\"models\", model_name + \".h5\")\n",
    "\n",
    "    chk_save = [keras.callbacks.ModelCheckpoint(filename, save_best_only=True)]\n",
    "\n",
    "    history = model.fit(\n",
    "        train_X,\n",
    "        train_y,\n",
    "        epochs=epochs,\n",
    "        batch_size=64,\n",
    "        verbose=1,\n",
    "        validation_data=(val_X, val_y),\n",
    "        callbacks=chk_save,\n",
    "    )\n",
    "    model.summary()\n",
    "    return model, history"
   ],
   "metadata": {
    "collapsed": false,
    "pycharm": {
     "name": "#%%\n"
    }
   }
  },
  {
   "cell_type": "code",
   "execution_count": 262,
   "outputs": [
    {
     "name": "stdout",
     "output_type": "stream",
     "text": [
      "Train X:\n",
      "0     4.67122\n",
      "1     4.68922\n",
      "2     5.04406\n",
      "3     5.34600\n",
      "4     5.50606\n",
      "5     5.84922\n",
      "6     5.32800\n",
      "7     4.54000\n",
      "8     4.84722\n",
      "9     4.75006\n",
      "10    4.97244\n",
      "11    4.79000\n",
      "12    4.20000\n",
      "13    4.39966\n",
      "14    4.58802\n",
      "15    4.98722\n",
      "16    5.18200\n",
      "17    5.04322\n",
      "18    5.52400\n",
      "19    4.46200\n",
      "20    4.56600\n",
      "21    4.42004\n",
      "22    4.19122\n",
      "23    3.75602\n",
      "24    4.10000\n",
      "25    4.41800\n",
      "26    4.23400\n",
      "27    4.82722\n",
      "28    5.44400\n",
      "29    5.09044\n",
      "30    4.87406\n",
      "Name: Global_active_power, dtype: float64\n",
      "\n",
      "Test X:\n",
      "31    4.84084\n",
      "32    4.51406\n",
      "33    4.01282\n",
      "34    4.11602\n",
      "35    4.03282\n",
      "36    3.41000\n",
      "37    3.97004\n",
      "38    3.87928\n",
      "39    4.70402\n",
      "40    4.43200\n",
      "41    3.88200\n",
      "Name: Global_active_power, dtype: float64\n"
     ]
    }
   ],
   "source": [
    "# Train: use to train the model\n",
    "# Test: use for final prediction test\n",
    "look_back_steps = 10\n",
    "tseries = df_monthly[var].reset_index(drop=True)\n",
    "\n",
    "train = tseries[: -look_back_steps - 1]\n",
    "test = tseries[-look_back_steps - 1 :]\n",
    "\n",
    "print(f\"Train X:\\n{train}\\n\\nTest X:\\n{test}\")"
   ],
   "metadata": {
    "collapsed": false,
    "pycharm": {
     "name": "#%%\n"
    }
   }
  },
  {
   "cell_type": "code",
   "execution_count": 263,
   "outputs": [],
   "source": [
    "# convert an array of values into a dataset matrix\n",
    "def create_dataset(dataset, look_back=1):\n",
    "    dataX, dataY = [], []\n",
    "    for i in range(len(dataset) - look_back - 1):\n",
    "        tr = dataset[i : (i + look_back), np.newaxis]\n",
    "        dataX.append(tr)\n",
    "        dataY.append(dataset[i + look_back, np.newaxis])\n",
    "    return np.array(dataX, dtype=np.float32), np.array(dataY, dtype=np.float32)\n",
    "\n",
    "\n",
    "def create_dataset_test(dataset, train, look_back=1, train_lb=12):\n",
    "    dataX, dataY = [], []\n",
    "    for i in range(len(dataset) - look_back):\n",
    "\n",
    "        if -train_lb + 1 + i != 0:\n",
    "            copy_train = train[-train_lb + 1 + i :]\n",
    "        else:\n",
    "            copy_train = pd.Series([])\n",
    "\n",
    "        series_list = [copy_train, dataset[:i], dataset[i : i + look_back]]\n",
    "\n",
    "        dataX.append(pd.concat(series_list)[:, np.newaxis])\n",
    "        dataY.append(dataset[i + look_back, np.newaxis])\n",
    "\n",
    "    return np.array(dataX, dtype=np.float32), np.array(dataY, dtype=np.float32)"
   ],
   "metadata": {
    "collapsed": false,
    "pycharm": {
     "name": "#%%\n"
    }
   }
  },
  {
   "cell_type": "code",
   "execution_count": 264,
   "outputs": [
    {
     "name": "stdout",
     "output_type": "stream",
     "text": [
      "Shape train X: (20, 10, 1)\n",
      "Shape train y: (20, 1)\n",
      "Shape test X: (10, 10, 1)\n",
      "Shape test y: (10, 1)\n"
     ]
    },
    {
     "name": "stderr",
     "output_type": "stream",
     "text": [
      "C:\\Users\\andre\\AppData\\Local\\Temp\\ipykernel_21752\\3643353877.py:5: FutureWarning:\n",
      "\n",
      "Support for multi-dimensional indexing (e.g. `obj[:, None]`) is deprecated and will be removed in a future version.  Convert to a numpy array before indexing instead.\n",
      "\n",
      "C:\\Users\\andre\\AppData\\Local\\Temp\\ipykernel_21752\\3643353877.py:25: FutureWarning:\n",
      "\n",
      "Support for multi-dimensional indexing (e.g. `obj[:, None]`) is deprecated and will be removed in a future version.  Convert to a numpy array before indexing instead.\n",
      "\n",
      "C:\\Users\\andre\\AppData\\Local\\Temp\\ipykernel_21752\\3643353877.py:17: DeprecationWarning:\n",
      "\n",
      "The default dtype for empty Series will be 'object' instead of 'float64' in a future version. Specify a dtype explicitly to silence this warning.\n",
      "\n"
     ]
    }
   ],
   "source": [
    "train_X, train_y = create_dataset(train, look_back=look_back_steps)\n",
    "test_X, test_y = create_dataset_test(test, train, look_back=1, train_lb=look_back_steps)\n",
    "\n",
    "\n",
    "print(f\"Shape train X: {train_X.shape}\")\n",
    "print(f\"Shape train y: {train_y.shape}\")\n",
    "print(f\"Shape test X: {test_X.shape}\")\n",
    "print(f\"Shape test y: {test_y.shape}\")"
   ],
   "metadata": {
    "collapsed": false,
    "pycharm": {
     "name": "#%%\n"
    }
   }
  },
  {
   "cell_type": "code",
   "execution_count": 235,
   "outputs": [],
   "source": [
    "# X_train = get_keras_format_series(train)\n",
    "# y_train = np.array(df_monthly.loc[train, var])\n",
    "#\n",
    "# X_test = get_keras_format_series(df_monthly.loc[test])\n",
    "# y_test = np.array(df_monthly.loc[test, var])"
   ],
   "metadata": {
    "collapsed": false,
    "pycharm": {
     "name": "#%%\n"
    }
   }
  },
  {
   "cell_type": "code",
   "execution_count": 271,
   "outputs": [
    {
     "name": "stdout",
     "output_type": "stream",
     "text": [
      "Model loaded: KerasCoreModel.simpleRNN\n",
      "RNN\n",
      "model.add(SimpleRNN(cell_units, input_shape=(train_X.shape[1],1)))\n",
      "Epoch 1/600\n",
      "1/1 [==============================] - 2s 2s/step - loss: 20.6026 - val_loss: 14.9606\n",
      "Epoch 2/600\n",
      "1/1 [==============================] - 0s 37ms/step - loss: 19.9393 - val_loss: 14.3816\n",
      "Epoch 3/600\n",
      "1/1 [==============================] - 0s 39ms/step - loss: 19.2868 - val_loss: 13.8154\n",
      "Epoch 4/600\n",
      "1/1 [==============================] - 0s 34ms/step - loss: 18.6446 - val_loss: 13.2619\n",
      "Epoch 5/600\n",
      "1/1 [==============================] - 0s 34ms/step - loss: 18.0126 - val_loss: 12.7210\n",
      "Epoch 6/600\n",
      "1/1 [==============================] - 0s 36ms/step - loss: 17.3909 - val_loss: 12.1927\n",
      "Epoch 7/600\n",
      "1/1 [==============================] - 0s 42ms/step - loss: 16.7796 - val_loss: 11.6767\n",
      "Epoch 8/600\n",
      "1/1 [==============================] - 0s 40ms/step - loss: 16.1788 - val_loss: 11.1730\n",
      "Epoch 9/600\n",
      "1/1 [==============================] - 0s 34ms/step - loss: 15.5887 - val_loss: 10.6816\n",
      "Epoch 10/600\n",
      "1/1 [==============================] - 0s 30ms/step - loss: 15.0094 - val_loss: 10.2025\n",
      "Epoch 11/600\n",
      "1/1 [==============================] - 0s 33ms/step - loss: 14.4412 - val_loss: 9.7358\n",
      "Epoch 12/600\n",
      "1/1 [==============================] - 0s 35ms/step - loss: 13.8846 - val_loss: 9.2819\n",
      "Epoch 13/600\n",
      "1/1 [==============================] - 0s 33ms/step - loss: 13.3400 - val_loss: 8.8410\n",
      "Epoch 14/600\n",
      "1/1 [==============================] - 0s 32ms/step - loss: 12.8077 - val_loss: 8.4133\n",
      "Epoch 15/600\n",
      "1/1 [==============================] - 0s 31ms/step - loss: 12.2883 - val_loss: 7.9992\n",
      "Epoch 16/600\n",
      "1/1 [==============================] - 0s 33ms/step - loss: 11.7822 - val_loss: 7.5987\n",
      "Epoch 17/600\n",
      "1/1 [==============================] - 0s 31ms/step - loss: 11.2896 - val_loss: 7.2121\n",
      "Epoch 18/600\n",
      "1/1 [==============================] - 0s 32ms/step - loss: 10.8109 - val_loss: 6.8394\n",
      "Epoch 19/600\n",
      "1/1 [==============================] - 0s 37ms/step - loss: 10.3464 - val_loss: 6.4808\n",
      "Epoch 20/600\n",
      "1/1 [==============================] - 0s 34ms/step - loss: 9.8965 - val_loss: 6.1362\n",
      "Epoch 21/600\n",
      "1/1 [==============================] - 0s 33ms/step - loss: 9.4613 - val_loss: 5.8055\n",
      "Epoch 22/600\n",
      "1/1 [==============================] - 0s 33ms/step - loss: 9.0411 - val_loss: 5.4888\n",
      "Epoch 23/600\n",
      "1/1 [==============================] - 0s 36ms/step - loss: 8.6361 - val_loss: 5.1858\n",
      "Epoch 24/600\n",
      "1/1 [==============================] - 0s 36ms/step - loss: 8.2462 - val_loss: 4.8964\n",
      "Epoch 25/600\n",
      "1/1 [==============================] - 0s 32ms/step - loss: 7.8715 - val_loss: 4.6201\n",
      "Epoch 26/600\n",
      "1/1 [==============================] - 0s 33ms/step - loss: 7.5119 - val_loss: 4.3568\n",
      "Epoch 27/600\n",
      "1/1 [==============================] - 0s 32ms/step - loss: 7.1673 - val_loss: 4.1060\n",
      "Epoch 28/600\n",
      "1/1 [==============================] - 0s 34ms/step - loss: 6.8373 - val_loss: 3.8674\n",
      "Epoch 29/600\n",
      "1/1 [==============================] - 0s 39ms/step - loss: 6.5216 - val_loss: 3.6406\n",
      "Epoch 30/600\n",
      "1/1 [==============================] - 0s 34ms/step - loss: 6.2200 - val_loss: 3.4251\n",
      "Epoch 31/600\n",
      "1/1 [==============================] - 0s 35ms/step - loss: 5.9319 - val_loss: 3.2205\n",
      "Epoch 32/600\n",
      "1/1 [==============================] - 0s 32ms/step - loss: 5.6570 - val_loss: 3.0263\n",
      "Epoch 33/600\n",
      "1/1 [==============================] - 0s 33ms/step - loss: 5.3948 - val_loss: 2.8423\n",
      "Epoch 34/600\n",
      "1/1 [==============================] - 0s 32ms/step - loss: 5.1447 - val_loss: 2.6678\n",
      "Epoch 35/600\n",
      "1/1 [==============================] - 0s 33ms/step - loss: 4.9064 - val_loss: 2.5025\n",
      "Epoch 36/600\n",
      "1/1 [==============================] - 0s 73ms/step - loss: 4.6792 - val_loss: 2.3459\n",
      "Epoch 37/600\n",
      "1/1 [==============================] - 0s 37ms/step - loss: 4.4626 - val_loss: 2.1978\n",
      "Epoch 38/600\n",
      "1/1 [==============================] - 0s 38ms/step - loss: 4.2562 - val_loss: 2.0575\n",
      "Epoch 39/600\n",
      "1/1 [==============================] - 0s 34ms/step - loss: 4.0595 - val_loss: 1.9249\n",
      "Epoch 40/600\n",
      "1/1 [==============================] - 0s 33ms/step - loss: 3.8720 - val_loss: 1.7994\n",
      "Epoch 41/600\n",
      "1/1 [==============================] - 0s 32ms/step - loss: 3.6932 - val_loss: 1.6808\n",
      "Epoch 42/600\n",
      "1/1 [==============================] - 0s 32ms/step - loss: 3.5226 - val_loss: 1.5687\n",
      "Epoch 43/600\n",
      "1/1 [==============================] - 0s 35ms/step - loss: 3.3599 - val_loss: 1.4628\n",
      "Epoch 44/600\n",
      "1/1 [==============================] - 0s 32ms/step - loss: 3.2047 - val_loss: 1.3628\n",
      "Epoch 45/600\n",
      "1/1 [==============================] - 0s 35ms/step - loss: 3.0565 - val_loss: 1.2684\n",
      "Epoch 46/600\n",
      "1/1 [==============================] - 0s 33ms/step - loss: 2.9150 - val_loss: 1.1794\n",
      "Epoch 47/600\n",
      "1/1 [==============================] - 0s 32ms/step - loss: 2.7798 - val_loss: 1.0955\n",
      "Epoch 48/600\n",
      "1/1 [==============================] - 0s 35ms/step - loss: 2.6507 - val_loss: 1.0165\n",
      "Epoch 49/600\n",
      "1/1 [==============================] - 0s 35ms/step - loss: 2.5273 - val_loss: 0.9422\n",
      "Epoch 50/600\n",
      "1/1 [==============================] - 0s 32ms/step - loss: 2.4094 - val_loss: 0.8723\n",
      "Epoch 51/600\n",
      "1/1 [==============================] - 0s 34ms/step - loss: 2.2967 - val_loss: 0.8066\n",
      "Epoch 52/600\n",
      "1/1 [==============================] - 0s 36ms/step - loss: 2.1889 - val_loss: 0.7451\n",
      "Epoch 53/600\n",
      "1/1 [==============================] - 0s 38ms/step - loss: 2.0859 - val_loss: 0.6875\n",
      "Epoch 54/600\n",
      "1/1 [==============================] - 0s 33ms/step - loss: 1.9875 - val_loss: 0.6336\n",
      "Epoch 55/600\n",
      "1/1 [==============================] - 0s 32ms/step - loss: 1.8933 - val_loss: 0.5834\n",
      "Epoch 56/600\n",
      "1/1 [==============================] - 0s 32ms/step - loss: 1.8034 - val_loss: 0.5366\n",
      "Epoch 57/600\n",
      "1/1 [==============================] - 0s 35ms/step - loss: 1.7175 - val_loss: 0.4932\n",
      "Epoch 58/600\n",
      "1/1 [==============================] - 0s 32ms/step - loss: 1.6355 - val_loss: 0.4529\n",
      "Epoch 59/600\n",
      "1/1 [==============================] - 0s 32ms/step - loss: 1.5571 - val_loss: 0.4158\n",
      "Epoch 60/600\n",
      "1/1 [==============================] - 0s 31ms/step - loss: 1.4824 - val_loss: 0.3816\n",
      "Epoch 61/600\n",
      "1/1 [==============================] - 0s 32ms/step - loss: 1.4111 - val_loss: 0.3502\n",
      "Epoch 62/600\n",
      "1/1 [==============================] - 0s 33ms/step - loss: 1.3432 - val_loss: 0.3216\n",
      "Epoch 63/600\n",
      "1/1 [==============================] - 0s 34ms/step - loss: 1.2785 - val_loss: 0.2955\n",
      "Epoch 64/600\n",
      "1/1 [==============================] - 0s 32ms/step - loss: 1.2170 - val_loss: 0.2720\n",
      "Epoch 65/600\n",
      "1/1 [==============================] - 0s 32ms/step - loss: 1.1584 - val_loss: 0.2508\n",
      "Epoch 66/600\n",
      "1/1 [==============================] - 0s 35ms/step - loss: 1.1028 - val_loss: 0.2319\n",
      "Epoch 67/600\n",
      "1/1 [==============================] - 0s 42ms/step - loss: 1.0500 - val_loss: 0.2151\n",
      "Epoch 68/600\n",
      "1/1 [==============================] - 0s 33ms/step - loss: 1.0000 - val_loss: 0.2004\n",
      "Epoch 69/600\n",
      "1/1 [==============================] - 0s 34ms/step - loss: 0.9525 - val_loss: 0.1876\n",
      "Epoch 70/600\n",
      "1/1 [==============================] - 0s 32ms/step - loss: 0.9076 - val_loss: 0.1766\n",
      "Epoch 71/600\n",
      "1/1 [==============================] - 0s 35ms/step - loss: 0.8651 - val_loss: 0.1673\n",
      "Epoch 72/600\n",
      "1/1 [==============================] - 0s 33ms/step - loss: 0.8250 - val_loss: 0.1596\n",
      "Epoch 73/600\n",
      "1/1 [==============================] - 0s 32ms/step - loss: 0.7871 - val_loss: 0.1535\n",
      "Epoch 74/600\n",
      "1/1 [==============================] - 0s 32ms/step - loss: 0.7514 - val_loss: 0.1487\n",
      "Epoch 75/600\n",
      "1/1 [==============================] - 0s 32ms/step - loss: 0.7177 - val_loss: 0.1452\n",
      "Epoch 76/600\n",
      "1/1 [==============================] - 0s 33ms/step - loss: 0.6859 - val_loss: 0.1430\n",
      "Epoch 77/600\n",
      "1/1 [==============================] - 0s 33ms/step - loss: 0.6561 - val_loss: 0.1419\n",
      "Epoch 78/600\n",
      "1/1 [==============================] - 0s 35ms/step - loss: 0.6281 - val_loss: 0.1418\n",
      "Epoch 79/600\n",
      "1/1 [==============================] - 0s 17ms/step - loss: 0.6017 - val_loss: 0.1427\n",
      "Epoch 80/600\n",
      "1/1 [==============================] - 0s 18ms/step - loss: 0.5770 - val_loss: 0.1445\n",
      "Epoch 81/600\n",
      "1/1 [==============================] - 0s 17ms/step - loss: 0.5538 - val_loss: 0.1471\n",
      "Epoch 82/600\n",
      "1/1 [==============================] - 0s 50ms/step - loss: 0.5320 - val_loss: 0.1504\n",
      "Epoch 83/600\n",
      "1/1 [==============================] - 0s 22ms/step - loss: 0.5117 - val_loss: 0.1544\n",
      "Epoch 84/600\n",
      "1/1 [==============================] - 0s 22ms/step - loss: 0.4926 - val_loss: 0.1590\n",
      "Epoch 85/600\n",
      "1/1 [==============================] - 0s 17ms/step - loss: 0.4748 - val_loss: 0.1642\n",
      "Epoch 86/600\n",
      "1/1 [==============================] - 0s 17ms/step - loss: 0.4582 - val_loss: 0.1699\n",
      "Epoch 87/600\n",
      "1/1 [==============================] - 0s 19ms/step - loss: 0.4426 - val_loss: 0.1760\n",
      "Epoch 88/600\n",
      "1/1 [==============================] - 0s 18ms/step - loss: 0.4281 - val_loss: 0.1825\n",
      "Epoch 89/600\n",
      "1/1 [==============================] - 0s 19ms/step - loss: 0.4146 - val_loss: 0.1894\n",
      "Epoch 90/600\n",
      "1/1 [==============================] - 0s 17ms/step - loss: 0.4020 - val_loss: 0.1965\n",
      "Epoch 91/600\n",
      "1/1 [==============================] - 0s 17ms/step - loss: 0.3902 - val_loss: 0.2039\n",
      "Epoch 92/600\n",
      "1/1 [==============================] - 0s 18ms/step - loss: 0.3793 - val_loss: 0.2116\n",
      "Epoch 93/600\n",
      "1/1 [==============================] - 0s 18ms/step - loss: 0.3692 - val_loss: 0.2194\n",
      "Epoch 94/600\n",
      "1/1 [==============================] - 0s 17ms/step - loss: 0.3598 - val_loss: 0.2274\n",
      "Epoch 95/600\n",
      "1/1 [==============================] - 0s 20ms/step - loss: 0.3510 - val_loss: 0.2355\n",
      "Epoch 96/600\n",
      "1/1 [==============================] - 0s 17ms/step - loss: 0.3429 - val_loss: 0.2437\n",
      "Epoch 97/600\n",
      "1/1 [==============================] - 0s 17ms/step - loss: 0.3354 - val_loss: 0.2519\n",
      "Epoch 98/600\n",
      "1/1 [==============================] - 0s 18ms/step - loss: 0.3285 - val_loss: 0.2602\n",
      "Epoch 99/600\n",
      "1/1 [==============================] - 0s 17ms/step - loss: 0.3221 - val_loss: 0.2685\n",
      "Epoch 100/600\n",
      "1/1 [==============================] - 0s 16ms/step - loss: 0.3161 - val_loss: 0.2768\n",
      "Epoch 101/600\n",
      "1/1 [==============================] - 0s 17ms/step - loss: 0.3107 - val_loss: 0.2850\n",
      "Epoch 102/600\n",
      "1/1 [==============================] - 0s 17ms/step - loss: 0.3056 - val_loss: 0.2932\n",
      "Epoch 103/600\n",
      "1/1 [==============================] - 0s 18ms/step - loss: 0.3010 - val_loss: 0.3013\n",
      "Epoch 104/600\n",
      "1/1 [==============================] - 0s 18ms/step - loss: 0.2967 - val_loss: 0.3094\n",
      "Epoch 105/600\n",
      "1/1 [==============================] - 0s 18ms/step - loss: 0.2928 - val_loss: 0.3173\n",
      "Epoch 106/600\n",
      "1/1 [==============================] - 0s 21ms/step - loss: 0.2892 - val_loss: 0.3251\n",
      "Epoch 107/600\n",
      "1/1 [==============================] - 0s 19ms/step - loss: 0.2859 - val_loss: 0.3327\n",
      "Epoch 108/600\n",
      "1/1 [==============================] - 0s 20ms/step - loss: 0.2829 - val_loss: 0.3402\n",
      "Epoch 109/600\n",
      "1/1 [==============================] - 0s 19ms/step - loss: 0.2801 - val_loss: 0.3475\n",
      "Epoch 110/600\n",
      "1/1 [==============================] - 0s 18ms/step - loss: 0.2776 - val_loss: 0.3547\n",
      "Epoch 111/600\n",
      "1/1 [==============================] - 0s 21ms/step - loss: 0.2753 - val_loss: 0.3617\n",
      "Epoch 112/600\n",
      "1/1 [==============================] - 0s 19ms/step - loss: 0.2732 - val_loss: 0.3685\n",
      "Epoch 113/600\n",
      "1/1 [==============================] - 0s 21ms/step - loss: 0.2713 - val_loss: 0.3752\n",
      "Epoch 114/600\n",
      "1/1 [==============================] - 0s 21ms/step - loss: 0.2696 - val_loss: 0.3816\n",
      "Epoch 115/600\n",
      "1/1 [==============================] - 0s 19ms/step - loss: 0.2680 - val_loss: 0.3878\n",
      "Epoch 116/600\n",
      "1/1 [==============================] - 0s 19ms/step - loss: 0.2665 - val_loss: 0.3938\n",
      "Epoch 117/600\n",
      "1/1 [==============================] - 0s 18ms/step - loss: 0.2652 - val_loss: 0.3997\n",
      "Epoch 118/600\n",
      "1/1 [==============================] - 0s 18ms/step - loss: 0.2641 - val_loss: 0.4053\n",
      "Epoch 119/600\n",
      "1/1 [==============================] - 0s 18ms/step - loss: 0.2630 - val_loss: 0.4107\n",
      "Epoch 120/600\n",
      "1/1 [==============================] - 0s 18ms/step - loss: 0.2620 - val_loss: 0.4159\n",
      "Epoch 121/600\n",
      "1/1 [==============================] - 0s 17ms/step - loss: 0.2611 - val_loss: 0.4209\n",
      "Epoch 122/600\n",
      "1/1 [==============================] - 0s 18ms/step - loss: 0.2604 - val_loss: 0.4256\n",
      "Epoch 123/600\n",
      "1/1 [==============================] - 0s 19ms/step - loss: 0.2596 - val_loss: 0.4302\n",
      "Epoch 124/600\n",
      "1/1 [==============================] - 0s 19ms/step - loss: 0.2590 - val_loss: 0.4346\n",
      "Epoch 125/600\n",
      "1/1 [==============================] - 0s 19ms/step - loss: 0.2584 - val_loss: 0.4387\n",
      "Epoch 126/600\n",
      "1/1 [==============================] - 0s 20ms/step - loss: 0.2579 - val_loss: 0.4427\n",
      "Epoch 127/600\n",
      "1/1 [==============================] - 0s 20ms/step - loss: 0.2574 - val_loss: 0.4465\n",
      "Epoch 128/600\n",
      "1/1 [==============================] - 0s 19ms/step - loss: 0.2569 - val_loss: 0.4501\n",
      "Epoch 129/600\n",
      "1/1 [==============================] - 0s 18ms/step - loss: 0.2565 - val_loss: 0.4534\n",
      "Epoch 130/600\n",
      "1/1 [==============================] - 0s 18ms/step - loss: 0.2562 - val_loss: 0.4567\n",
      "Epoch 131/600\n",
      "1/1 [==============================] - 0s 19ms/step - loss: 0.2558 - val_loss: 0.4597\n",
      "Epoch 132/600\n",
      "1/1 [==============================] - 0s 18ms/step - loss: 0.2555 - val_loss: 0.4625\n",
      "Epoch 133/600\n",
      "1/1 [==============================] - 0s 18ms/step - loss: 0.2553 - val_loss: 0.4652\n",
      "Epoch 134/600\n",
      "1/1 [==============================] - 0s 30ms/step - loss: 0.2550 - val_loss: 0.4677\n",
      "Epoch 135/600\n",
      "1/1 [==============================] - 0s 17ms/step - loss: 0.2548 - val_loss: 0.4701\n",
      "Epoch 136/600\n",
      "1/1 [==============================] - 0s 17ms/step - loss: 0.2545 - val_loss: 0.4723\n",
      "Epoch 137/600\n",
      "1/1 [==============================] - 0s 18ms/step - loss: 0.2543 - val_loss: 0.4743\n",
      "Epoch 138/600\n",
      "1/1 [==============================] - 0s 19ms/step - loss: 0.2541 - val_loss: 0.4762\n",
      "Epoch 139/600\n",
      "1/1 [==============================] - 0s 18ms/step - loss: 0.2540 - val_loss: 0.4780\n",
      "Epoch 140/600\n",
      "1/1 [==============================] - 0s 19ms/step - loss: 0.2538 - val_loss: 0.4796\n",
      "Epoch 141/600\n",
      "1/1 [==============================] - 0s 19ms/step - loss: 0.2536 - val_loss: 0.4811\n",
      "Epoch 142/600\n",
      "1/1 [==============================] - 0s 18ms/step - loss: 0.2535 - val_loss: 0.4825\n",
      "Epoch 143/600\n",
      "1/1 [==============================] - 0s 18ms/step - loss: 0.2533 - val_loss: 0.4837\n",
      "Epoch 144/600\n",
      "1/1 [==============================] - 0s 18ms/step - loss: 0.2532 - val_loss: 0.4849\n",
      "Epoch 145/600\n",
      "1/1 [==============================] - 0s 19ms/step - loss: 0.2530 - val_loss: 0.4859\n",
      "Epoch 146/600\n",
      "1/1 [==============================] - 0s 18ms/step - loss: 0.2529 - val_loss: 0.4868\n",
      "Epoch 147/600\n",
      "1/1 [==============================] - 0s 18ms/step - loss: 0.2527 - val_loss: 0.4877\n",
      "Epoch 148/600\n",
      "1/1 [==============================] - 0s 19ms/step - loss: 0.2526 - val_loss: 0.4884\n",
      "Epoch 149/600\n",
      "1/1 [==============================] - 0s 18ms/step - loss: 0.2525 - val_loss: 0.4890\n",
      "Epoch 150/600\n",
      "1/1 [==============================] - 0s 18ms/step - loss: 0.2523 - val_loss: 0.4896\n",
      "Epoch 151/600\n",
      "1/1 [==============================] - 0s 18ms/step - loss: 0.2522 - val_loss: 0.4900\n",
      "Epoch 152/600\n",
      "1/1 [==============================] - 0s 18ms/step - loss: 0.2520 - val_loss: 0.4904\n",
      "Epoch 153/600\n",
      "1/1 [==============================] - 0s 18ms/step - loss: 0.2519 - val_loss: 0.4908\n",
      "Epoch 154/600\n",
      "1/1 [==============================] - 0s 18ms/step - loss: 0.2518 - val_loss: 0.4910\n",
      "Epoch 155/600\n",
      "1/1 [==============================] - 0s 19ms/step - loss: 0.2516 - val_loss: 0.4912\n",
      "Epoch 156/600\n",
      "1/1 [==============================] - 0s 18ms/step - loss: 0.2515 - val_loss: 0.4913\n",
      "Epoch 157/600\n",
      "1/1 [==============================] - 0s 23ms/step - loss: 0.2514 - val_loss: 0.4914\n",
      "Epoch 158/600\n",
      "1/1 [==============================] - 0s 18ms/step - loss: 0.2512 - val_loss: 0.4914\n",
      "Epoch 159/600\n",
      "1/1 [==============================] - 0s 22ms/step - loss: 0.2511 - val_loss: 0.4914\n",
      "Epoch 160/600\n",
      "1/1 [==============================] - 0s 19ms/step - loss: 0.2509 - val_loss: 0.4913\n",
      "Epoch 161/600\n",
      "1/1 [==============================] - 0s 20ms/step - loss: 0.2508 - val_loss: 0.4911\n",
      "Epoch 162/600\n",
      "1/1 [==============================] - 0s 19ms/step - loss: 0.2507 - val_loss: 0.4910\n",
      "Epoch 163/600\n",
      "1/1 [==============================] - 0s 20ms/step - loss: 0.2505 - val_loss: 0.4908\n",
      "Epoch 164/600\n",
      "1/1 [==============================] - 0s 18ms/step - loss: 0.2504 - val_loss: 0.4905\n",
      "Epoch 165/600\n",
      "1/1 [==============================] - 0s 19ms/step - loss: 0.2502 - val_loss: 0.4902\n",
      "Epoch 166/600\n",
      "1/1 [==============================] - 0s 18ms/step - loss: 0.2501 - val_loss: 0.4899\n",
      "Epoch 167/600\n",
      "1/1 [==============================] - 0s 18ms/step - loss: 0.2499 - val_loss: 0.4895\n",
      "Epoch 168/600\n",
      "1/1 [==============================] - 0s 18ms/step - loss: 0.2498 - val_loss: 0.4892\n",
      "Epoch 169/600\n",
      "1/1 [==============================] - 0s 17ms/step - loss: 0.2496 - val_loss: 0.4888\n",
      "Epoch 170/600\n",
      "1/1 [==============================] - 0s 18ms/step - loss: 0.2495 - val_loss: 0.4883\n",
      "Epoch 171/600\n",
      "1/1 [==============================] - 0s 19ms/step - loss: 0.2493 - val_loss: 0.4879\n",
      "Epoch 172/600\n",
      "1/1 [==============================] - 0s 21ms/step - loss: 0.2491 - val_loss: 0.4874\n",
      "Epoch 173/600\n",
      "1/1 [==============================] - 0s 17ms/step - loss: 0.2490 - val_loss: 0.4869\n",
      "Epoch 174/600\n",
      "1/1 [==============================] - 0s 18ms/step - loss: 0.2488 - val_loss: 0.4864\n",
      "Epoch 175/600\n",
      "1/1 [==============================] - 0s 18ms/step - loss: 0.2487 - val_loss: 0.4859\n",
      "Epoch 176/600\n",
      "1/1 [==============================] - 0s 18ms/step - loss: 0.2485 - val_loss: 0.4854\n",
      "Epoch 177/600\n",
      "1/1 [==============================] - 0s 18ms/step - loss: 0.2483 - val_loss: 0.4848\n",
      "Epoch 178/600\n",
      "1/1 [==============================] - 0s 19ms/step - loss: 0.2482 - val_loss: 0.4843\n",
      "Epoch 179/600\n",
      "1/1 [==============================] - 0s 17ms/step - loss: 0.2480 - val_loss: 0.4837\n",
      "Epoch 180/600\n",
      "1/1 [==============================] - 0s 18ms/step - loss: 0.2478 - val_loss: 0.4831\n",
      "Epoch 181/600\n",
      "1/1 [==============================] - 0s 18ms/step - loss: 0.2477 - val_loss: 0.4825\n",
      "Epoch 182/600\n",
      "1/1 [==============================] - 0s 17ms/step - loss: 0.2475 - val_loss: 0.4819\n",
      "Epoch 183/600\n",
      "1/1 [==============================] - 0s 17ms/step - loss: 0.2473 - val_loss: 0.4813\n",
      "Epoch 184/600\n",
      "1/1 [==============================] - 0s 16ms/step - loss: 0.2471 - val_loss: 0.4807\n",
      "Epoch 185/600\n",
      "1/1 [==============================] - 0s 21ms/step - loss: 0.2469 - val_loss: 0.4801\n",
      "Epoch 186/600\n",
      "1/1 [==============================] - 0s 17ms/step - loss: 0.2468 - val_loss: 0.4794\n",
      "Epoch 187/600\n",
      "1/1 [==============================] - 0s 19ms/step - loss: 0.2466 - val_loss: 0.4788\n",
      "Epoch 188/600\n",
      "1/1 [==============================] - 0s 19ms/step - loss: 0.2464 - val_loss: 0.4782\n",
      "Epoch 189/600\n",
      "1/1 [==============================] - 0s 17ms/step - loss: 0.2462 - val_loss: 0.4775\n",
      "Epoch 190/600\n",
      "1/1 [==============================] - 0s 17ms/step - loss: 0.2460 - val_loss: 0.4769\n",
      "Epoch 191/600\n",
      "1/1 [==============================] - 0s 17ms/step - loss: 0.2458 - val_loss: 0.4762\n",
      "Epoch 192/600\n",
      "1/1 [==============================] - 0s 18ms/step - loss: 0.2456 - val_loss: 0.4755\n",
      "Epoch 193/600\n",
      "1/1 [==============================] - 0s 17ms/step - loss: 0.2454 - val_loss: 0.4749\n",
      "Epoch 194/600\n",
      "1/1 [==============================] - 0s 16ms/step - loss: 0.2452 - val_loss: 0.4742\n",
      "Epoch 195/600\n",
      "1/1 [==============================] - 0s 17ms/step - loss: 0.2450 - val_loss: 0.4735\n",
      "Epoch 196/600\n",
      "1/1 [==============================] - 0s 17ms/step - loss: 0.2448 - val_loss: 0.4728\n",
      "Epoch 197/600\n",
      "1/1 [==============================] - 0s 17ms/step - loss: 0.2446 - val_loss: 0.4721\n",
      "Epoch 198/600\n",
      "1/1 [==============================] - 0s 17ms/step - loss: 0.2444 - val_loss: 0.4714\n",
      "Epoch 199/600\n",
      "1/1 [==============================] - 0s 18ms/step - loss: 0.2442 - val_loss: 0.4707\n",
      "Epoch 200/600\n",
      "1/1 [==============================] - 0s 17ms/step - loss: 0.2440 - val_loss: 0.4700\n",
      "Epoch 201/600\n",
      "1/1 [==============================] - 0s 17ms/step - loss: 0.2438 - val_loss: 0.4693\n",
      "Epoch 202/600\n",
      "1/1 [==============================] - 0s 17ms/step - loss: 0.2436 - val_loss: 0.4686\n",
      "Epoch 203/600\n",
      "1/1 [==============================] - 0s 17ms/step - loss: 0.2434 - val_loss: 0.4679\n",
      "Epoch 204/600\n",
      "1/1 [==============================] - 0s 19ms/step - loss: 0.2431 - val_loss: 0.4672\n",
      "Epoch 205/600\n",
      "1/1 [==============================] - 0s 19ms/step - loss: 0.2429 - val_loss: 0.4664\n",
      "Epoch 206/600\n",
      "1/1 [==============================] - 0s 18ms/step - loss: 0.2427 - val_loss: 0.4657\n",
      "Epoch 207/600\n",
      "1/1 [==============================] - 0s 17ms/step - loss: 0.2425 - val_loss: 0.4649\n",
      "Epoch 208/600\n",
      "1/1 [==============================] - 0s 18ms/step - loss: 0.2422 - val_loss: 0.4642\n",
      "Epoch 209/600\n",
      "1/1 [==============================] - 0s 19ms/step - loss: 0.2420 - val_loss: 0.4634\n",
      "Epoch 210/600\n",
      "1/1 [==============================] - 0s 18ms/step - loss: 0.2417 - val_loss: 0.4627\n",
      "Epoch 211/600\n",
      "1/1 [==============================] - 0s 17ms/step - loss: 0.2415 - val_loss: 0.4619\n",
      "Epoch 212/600\n",
      "1/1 [==============================] - 0s 18ms/step - loss: 0.2413 - val_loss: 0.4611\n",
      "Epoch 213/600\n",
      "1/1 [==============================] - 0s 17ms/step - loss: 0.2410 - val_loss: 0.4603\n",
      "Epoch 214/600\n",
      "1/1 [==============================] - 0s 18ms/step - loss: 0.2407 - val_loss: 0.4595\n",
      "Epoch 215/600\n",
      "1/1 [==============================] - 0s 19ms/step - loss: 0.2405 - val_loss: 0.4587\n",
      "Epoch 216/600\n",
      "1/1 [==============================] - 0s 19ms/step - loss: 0.2402 - val_loss: 0.4578\n",
      "Epoch 217/600\n",
      "1/1 [==============================] - 0s 17ms/step - loss: 0.2400 - val_loss: 0.4570\n",
      "Epoch 218/600\n",
      "1/1 [==============================] - 0s 18ms/step - loss: 0.2397 - val_loss: 0.4561\n",
      "Epoch 219/600\n",
      "1/1 [==============================] - 0s 17ms/step - loss: 0.2394 - val_loss: 0.4552\n",
      "Epoch 220/600\n",
      "1/1 [==============================] - 0s 18ms/step - loss: 0.2391 - val_loss: 0.4544\n",
      "Epoch 221/600\n",
      "1/1 [==============================] - 0s 19ms/step - loss: 0.2388 - val_loss: 0.4535\n",
      "Epoch 222/600\n",
      "1/1 [==============================] - 0s 16ms/step - loss: 0.2386 - val_loss: 0.4525\n",
      "Epoch 223/600\n",
      "1/1 [==============================] - 0s 17ms/step - loss: 0.2383 - val_loss: 0.4516\n",
      "Epoch 224/600\n",
      "1/1 [==============================] - 0s 18ms/step - loss: 0.2380 - val_loss: 0.4507\n",
      "Epoch 225/600\n",
      "1/1 [==============================] - 0s 18ms/step - loss: 0.2377 - val_loss: 0.4497\n",
      "Epoch 226/600\n",
      "1/1 [==============================] - 0s 17ms/step - loss: 0.2374 - val_loss: 0.4487\n",
      "Epoch 227/600\n",
      "1/1 [==============================] - 0s 18ms/step - loss: 0.2370 - val_loss: 0.4477\n",
      "Epoch 228/600\n",
      "1/1 [==============================] - 0s 17ms/step - loss: 0.2367 - val_loss: 0.4467\n",
      "Epoch 229/600\n",
      "1/1 [==============================] - 0s 17ms/step - loss: 0.2364 - val_loss: 0.4456\n",
      "Epoch 230/600\n",
      "1/1 [==============================] - 0s 19ms/step - loss: 0.2361 - val_loss: 0.4445\n",
      "Epoch 231/600\n",
      "1/1 [==============================] - 0s 18ms/step - loss: 0.2357 - val_loss: 0.4434\n",
      "Epoch 232/600\n",
      "1/1 [==============================] - 0s 18ms/step - loss: 0.2354 - val_loss: 0.4423\n",
      "Epoch 233/600\n",
      "1/1 [==============================] - 0s 19ms/step - loss: 0.2350 - val_loss: 0.4412\n",
      "Epoch 234/600\n",
      "1/1 [==============================] - 0s 18ms/step - loss: 0.2347 - val_loss: 0.4400\n",
      "Epoch 235/600\n",
      "1/1 [==============================] - 0s 23ms/step - loss: 0.2343 - val_loss: 0.4388\n",
      "Epoch 236/600\n",
      "1/1 [==============================] - 0s 20ms/step - loss: 0.2339 - val_loss: 0.4375\n",
      "Epoch 237/600\n",
      "1/1 [==============================] - 0s 20ms/step - loss: 0.2335 - val_loss: 0.4362\n",
      "Epoch 238/600\n",
      "1/1 [==============================] - 0s 19ms/step - loss: 0.2332 - val_loss: 0.4349\n",
      "Epoch 239/600\n",
      "1/1 [==============================] - 0s 17ms/step - loss: 0.2328 - val_loss: 0.4335\n",
      "Epoch 240/600\n",
      "1/1 [==============================] - 0s 17ms/step - loss: 0.2323 - val_loss: 0.4321\n",
      "Epoch 241/600\n",
      "1/1 [==============================] - 0s 19ms/step - loss: 0.2319 - val_loss: 0.4307\n",
      "Epoch 242/600\n",
      "1/1 [==============================] - 0s 19ms/step - loss: 0.2315 - val_loss: 0.4292\n",
      "Epoch 243/600\n",
      "1/1 [==============================] - 0s 19ms/step - loss: 0.2311 - val_loss: 0.4276\n",
      "Epoch 244/600\n",
      "1/1 [==============================] - 0s 16ms/step - loss: 0.2306 - val_loss: 0.4260\n",
      "Epoch 245/600\n",
      "1/1 [==============================] - 0s 16ms/step - loss: 0.2302 - val_loss: 0.4243\n",
      "Epoch 246/600\n",
      "1/1 [==============================] - 0s 17ms/step - loss: 0.2297 - val_loss: 0.4226\n",
      "Epoch 247/600\n",
      "1/1 [==============================] - 0s 18ms/step - loss: 0.2292 - val_loss: 0.4208\n",
      "Epoch 248/600\n",
      "1/1 [==============================] - 0s 17ms/step - loss: 0.2287 - val_loss: 0.4189\n",
      "Epoch 249/600\n",
      "1/1 [==============================] - 0s 18ms/step - loss: 0.2282 - val_loss: 0.4169\n",
      "Epoch 250/600\n",
      "1/1 [==============================] - 0s 16ms/step - loss: 0.2276 - val_loss: 0.4149\n",
      "Epoch 251/600\n",
      "1/1 [==============================] - 0s 17ms/step - loss: 0.2271 - val_loss: 0.4127\n",
      "Epoch 252/600\n",
      "1/1 [==============================] - 0s 18ms/step - loss: 0.2265 - val_loss: 0.4104\n",
      "Epoch 253/600\n",
      "1/1 [==============================] - 0s 18ms/step - loss: 0.2259 - val_loss: 0.4080\n",
      "Epoch 254/600\n",
      "1/1 [==============================] - 0s 17ms/step - loss: 0.2253 - val_loss: 0.4055\n",
      "Epoch 255/600\n",
      "1/1 [==============================] - 0s 18ms/step - loss: 0.2247 - val_loss: 0.4028\n",
      "Epoch 256/600\n",
      "1/1 [==============================] - 0s 16ms/step - loss: 0.2240 - val_loss: 0.4000\n",
      "Epoch 257/600\n",
      "1/1 [==============================] - 0s 17ms/step - loss: 0.2233 - val_loss: 0.3970\n",
      "Epoch 258/600\n",
      "1/1 [==============================] - 0s 18ms/step - loss: 0.2226 - val_loss: 0.3937\n",
      "Epoch 259/600\n",
      "1/1 [==============================] - 0s 18ms/step - loss: 0.2219 - val_loss: 0.3903\n",
      "Epoch 260/600\n",
      "1/1 [==============================] - 0s 19ms/step - loss: 0.2211 - val_loss: 0.3866\n",
      "Epoch 261/600\n",
      "1/1 [==============================] - 0s 18ms/step - loss: 0.2203 - val_loss: 0.3826\n",
      "Epoch 262/600\n",
      "1/1 [==============================] - 0s 17ms/step - loss: 0.2194 - val_loss: 0.3782\n",
      "Epoch 263/600\n",
      "1/1 [==============================] - 0s 19ms/step - loss: 0.2185 - val_loss: 0.3735\n",
      "Epoch 264/600\n",
      "1/1 [==============================] - 0s 19ms/step - loss: 0.2176 - val_loss: 0.3684\n",
      "Epoch 265/600\n",
      "1/1 [==============================] - 0s 18ms/step - loss: 0.2166 - val_loss: 0.3629\n",
      "Epoch 266/600\n",
      "1/1 [==============================] - 0s 17ms/step - loss: 0.2155 - val_loss: 0.3568\n",
      "Epoch 267/600\n",
      "1/1 [==============================] - 0s 17ms/step - loss: 0.2145 - val_loss: 0.3501\n",
      "Epoch 268/600\n",
      "1/1 [==============================] - 0s 19ms/step - loss: 0.2133 - val_loss: 0.3429\n",
      "Epoch 269/600\n",
      "1/1 [==============================] - 0s 21ms/step - loss: 0.2122 - val_loss: 0.3350\n",
      "Epoch 270/600\n",
      "1/1 [==============================] - 0s 21ms/step - loss: 0.2110 - val_loss: 0.3265\n",
      "Epoch 271/600\n",
      "1/1 [==============================] - 0s 17ms/step - loss: 0.2098 - val_loss: 0.3174\n",
      "Epoch 272/600\n",
      "1/1 [==============================] - 0s 17ms/step - loss: 0.2087 - val_loss: 0.3079\n",
      "Epoch 273/600\n",
      "1/1 [==============================] - 0s 18ms/step - loss: 0.2077 - val_loss: 0.2982\n",
      "Epoch 274/600\n",
      "1/1 [==============================] - 0s 17ms/step - loss: 0.2068 - val_loss: 0.2887\n",
      "Epoch 275/600\n",
      "1/1 [==============================] - 0s 17ms/step - loss: 0.2061 - val_loss: 0.2801\n",
      "Epoch 276/600\n",
      "1/1 [==============================] - 0s 18ms/step - loss: 0.2056 - val_loss: 0.2729\n",
      "Epoch 277/600\n",
      "1/1 [==============================] - 0s 17ms/step - loss: 0.2052 - val_loss: 0.2679\n",
      "Epoch 278/600\n",
      "1/1 [==============================] - 0s 18ms/step - loss: 0.2049 - val_loss: 0.2655\n",
      "Epoch 279/600\n",
      "1/1 [==============================] - 0s 18ms/step - loss: 0.2044 - val_loss: 0.2658\n",
      "Epoch 280/600\n",
      "1/1 [==============================] - 0s 17ms/step - loss: 0.2037 - val_loss: 0.2687\n",
      "Epoch 281/600\n",
      "1/1 [==============================] - 0s 18ms/step - loss: 0.2028 - val_loss: 0.2735\n",
      "Epoch 282/600\n",
      "1/1 [==============================] - 0s 16ms/step - loss: 0.2018 - val_loss: 0.2798\n",
      "Epoch 283/600\n",
      "1/1 [==============================] - 0s 49ms/step - loss: 0.2008 - val_loss: 0.2868\n",
      "Epoch 284/600\n",
      "1/1 [==============================] - 0s 19ms/step - loss: 0.1999 - val_loss: 0.2939\n",
      "Epoch 285/600\n",
      "1/1 [==============================] - 0s 19ms/step - loss: 0.1991 - val_loss: 0.3006\n",
      "Epoch 286/600\n",
      "1/1 [==============================] - 0s 17ms/step - loss: 0.1985 - val_loss: 0.3064\n",
      "Epoch 287/600\n",
      "1/1 [==============================] - 0s 18ms/step - loss: 0.1979 - val_loss: 0.3110\n",
      "Epoch 288/600\n",
      "1/1 [==============================] - 0s 18ms/step - loss: 0.1974 - val_loss: 0.3143\n",
      "Epoch 289/600\n",
      "1/1 [==============================] - 0s 18ms/step - loss: 0.1969 - val_loss: 0.3161\n",
      "Epoch 290/600\n",
      "1/1 [==============================] - 0s 19ms/step - loss: 0.1964 - val_loss: 0.3166\n",
      "Epoch 291/600\n",
      "1/1 [==============================] - 0s 17ms/step - loss: 0.1958 - val_loss: 0.3156\n",
      "Epoch 292/600\n",
      "1/1 [==============================] - 0s 19ms/step - loss: 0.1952 - val_loss: 0.3135\n",
      "Epoch 293/600\n",
      "1/1 [==============================] - 0s 16ms/step - loss: 0.1945 - val_loss: 0.3104\n",
      "Epoch 294/600\n",
      "1/1 [==============================] - 0s 49ms/step - loss: 0.1939 - val_loss: 0.3066\n",
      "Epoch 295/600\n",
      "1/1 [==============================] - 0s 24ms/step - loss: 0.1933 - val_loss: 0.3026\n",
      "Epoch 296/600\n",
      "1/1 [==============================] - 0s 19ms/step - loss: 0.1927 - val_loss: 0.2986\n",
      "Epoch 297/600\n",
      "1/1 [==============================] - 0s 18ms/step - loss: 0.1922 - val_loss: 0.2952\n",
      "Epoch 298/600\n",
      "1/1 [==============================] - 0s 17ms/step - loss: 0.1918 - val_loss: 0.2927\n",
      "Epoch 299/600\n",
      "1/1 [==============================] - 0s 18ms/step - loss: 0.1914 - val_loss: 0.2913\n",
      "Epoch 300/600\n",
      "1/1 [==============================] - 0s 17ms/step - loss: 0.1910 - val_loss: 0.2912\n",
      "Epoch 301/600\n",
      "1/1 [==============================] - 0s 18ms/step - loss: 0.1906 - val_loss: 0.2922\n",
      "Epoch 302/600\n",
      "1/1 [==============================] - 0s 17ms/step - loss: 0.1901 - val_loss: 0.2943\n",
      "Epoch 303/600\n",
      "1/1 [==============================] - 0s 17ms/step - loss: 0.1897 - val_loss: 0.2970\n",
      "Epoch 304/600\n",
      "1/1 [==============================] - 0s 17ms/step - loss: 0.1892 - val_loss: 0.3001\n",
      "Epoch 305/600\n",
      "1/1 [==============================] - 0s 17ms/step - loss: 0.1888 - val_loss: 0.3032\n",
      "Epoch 306/600\n",
      "1/1 [==============================] - 0s 17ms/step - loss: 0.1884 - val_loss: 0.3059\n",
      "Epoch 307/600\n",
      "1/1 [==============================] - 0s 18ms/step - loss: 0.1880 - val_loss: 0.3080\n",
      "Epoch 308/600\n",
      "1/1 [==============================] - 0s 18ms/step - loss: 0.1876 - val_loss: 0.3094\n",
      "Epoch 309/600\n",
      "1/1 [==============================] - 0s 17ms/step - loss: 0.1873 - val_loss: 0.3099\n",
      "Epoch 310/600\n",
      "1/1 [==============================] - 0s 18ms/step - loss: 0.1869 - val_loss: 0.3097\n",
      "Epoch 311/600\n",
      "1/1 [==============================] - 0s 17ms/step - loss: 0.1866 - val_loss: 0.3087\n",
      "Epoch 312/600\n",
      "1/1 [==============================] - 0s 19ms/step - loss: 0.1862 - val_loss: 0.3072\n",
      "Epoch 313/600\n",
      "1/1 [==============================] - 0s 19ms/step - loss: 0.1859 - val_loss: 0.3054\n",
      "Epoch 314/600\n",
      "1/1 [==============================] - 0s 17ms/step - loss: 0.1855 - val_loss: 0.3035\n",
      "Epoch 315/600\n",
      "1/1 [==============================] - 0s 17ms/step - loss: 0.1852 - val_loss: 0.3018\n",
      "Epoch 316/600\n",
      "1/1 [==============================] - 0s 18ms/step - loss: 0.1848 - val_loss: 0.3004\n",
      "Epoch 317/600\n",
      "1/1 [==============================] - 0s 16ms/step - loss: 0.1845 - val_loss: 0.2995\n",
      "Epoch 318/600\n",
      "1/1 [==============================] - 0s 17ms/step - loss: 0.1842 - val_loss: 0.2990\n",
      "Epoch 319/600\n",
      "1/1 [==============================] - 0s 18ms/step - loss: 0.1839 - val_loss: 0.2992\n",
      "Epoch 320/600\n",
      "1/1 [==============================] - 0s 18ms/step - loss: 0.1836 - val_loss: 0.2997\n",
      "Epoch 321/600\n",
      "1/1 [==============================] - 0s 20ms/step - loss: 0.1832 - val_loss: 0.3006\n",
      "Epoch 322/600\n",
      "1/1 [==============================] - 0s 18ms/step - loss: 0.1829 - val_loss: 0.3016\n",
      "Epoch 323/600\n",
      "1/1 [==============================] - 0s 19ms/step - loss: 0.1826 - val_loss: 0.3026\n",
      "Epoch 324/600\n",
      "1/1 [==============================] - 0s 18ms/step - loss: 0.1823 - val_loss: 0.3035\n",
      "Epoch 325/600\n",
      "1/1 [==============================] - 0s 18ms/step - loss: 0.1820 - val_loss: 0.3041\n",
      "Epoch 326/600\n",
      "1/1 [==============================] - 0s 18ms/step - loss: 0.1817 - val_loss: 0.3044\n",
      "Epoch 327/600\n",
      "1/1 [==============================] - 0s 18ms/step - loss: 0.1814 - val_loss: 0.3043\n",
      "Epoch 328/600\n",
      "1/1 [==============================] - 0s 21ms/step - loss: 0.1811 - val_loss: 0.3039\n",
      "Epoch 329/600\n",
      "1/1 [==============================] - 0s 18ms/step - loss: 0.1808 - val_loss: 0.3032\n",
      "Epoch 330/600\n",
      "1/1 [==============================] - 0s 18ms/step - loss: 0.1805 - val_loss: 0.3023\n",
      "Epoch 331/600\n",
      "1/1 [==============================] - 0s 18ms/step - loss: 0.1802 - val_loss: 0.3013\n",
      "Epoch 332/600\n",
      "1/1 [==============================] - 0s 18ms/step - loss: 0.1799 - val_loss: 0.3003\n",
      "Epoch 333/600\n",
      "1/1 [==============================] - 0s 18ms/step - loss: 0.1796 - val_loss: 0.2994\n",
      "Epoch 334/600\n",
      "1/1 [==============================] - 0s 17ms/step - loss: 0.1793 - val_loss: 0.2987\n",
      "Epoch 335/600\n",
      "1/1 [==============================] - 0s 17ms/step - loss: 0.1790 - val_loss: 0.2981\n",
      "Epoch 336/600\n",
      "1/1 [==============================] - 0s 17ms/step - loss: 0.1787 - val_loss: 0.2978\n",
      "Epoch 337/600\n",
      "1/1 [==============================] - 0s 18ms/step - loss: 0.1785 - val_loss: 0.2976\n",
      "Epoch 338/600\n",
      "1/1 [==============================] - 0s 17ms/step - loss: 0.1782 - val_loss: 0.2976\n",
      "Epoch 339/600\n",
      "1/1 [==============================] - 0s 18ms/step - loss: 0.1779 - val_loss: 0.2977\n",
      "Epoch 340/600\n",
      "1/1 [==============================] - 0s 18ms/step - loss: 0.1776 - val_loss: 0.2978\n",
      "Epoch 341/600\n",
      "1/1 [==============================] - 0s 17ms/step - loss: 0.1773 - val_loss: 0.2979\n",
      "Epoch 342/600\n",
      "1/1 [==============================] - 0s 16ms/step - loss: 0.1770 - val_loss: 0.2980\n",
      "Epoch 343/600\n",
      "1/1 [==============================] - 0s 17ms/step - loss: 0.1767 - val_loss: 0.2979\n",
      "Epoch 344/600\n",
      "1/1 [==============================] - 0s 17ms/step - loss: 0.1765 - val_loss: 0.2977\n",
      "Epoch 345/600\n",
      "1/1 [==============================] - 0s 18ms/step - loss: 0.1762 - val_loss: 0.2973\n",
      "Epoch 346/600\n",
      "1/1 [==============================] - 0s 18ms/step - loss: 0.1759 - val_loss: 0.2968\n",
      "Epoch 347/600\n",
      "1/1 [==============================] - 0s 18ms/step - loss: 0.1756 - val_loss: 0.2963\n",
      "Epoch 348/600\n",
      "1/1 [==============================] - 0s 18ms/step - loss: 0.1753 - val_loss: 0.2956\n",
      "Epoch 349/600\n",
      "1/1 [==============================] - 0s 19ms/step - loss: 0.1751 - val_loss: 0.2950\n",
      "Epoch 350/600\n",
      "1/1 [==============================] - 0s 18ms/step - loss: 0.1748 - val_loss: 0.2943\n",
      "Epoch 351/600\n",
      "1/1 [==============================] - 0s 17ms/step - loss: 0.1745 - val_loss: 0.2937\n",
      "Epoch 352/600\n",
      "1/1 [==============================] - 0s 17ms/step - loss: 0.1742 - val_loss: 0.2932\n",
      "Epoch 353/600\n",
      "1/1 [==============================] - 0s 18ms/step - loss: 0.1740 - val_loss: 0.2927\n",
      "Epoch 354/600\n",
      "1/1 [==============================] - 0s 17ms/step - loss: 0.1737 - val_loss: 0.2923\n",
      "Epoch 355/600\n",
      "1/1 [==============================] - 0s 17ms/step - loss: 0.1734 - val_loss: 0.2920\n",
      "Epoch 356/600\n",
      "1/1 [==============================] - 0s 18ms/step - loss: 0.1731 - val_loss: 0.2917\n",
      "Epoch 357/600\n",
      "1/1 [==============================] - 0s 17ms/step - loss: 0.1729 - val_loss: 0.2915\n",
      "Epoch 358/600\n",
      "1/1 [==============================] - 0s 17ms/step - loss: 0.1726 - val_loss: 0.2913\n",
      "Epoch 359/600\n",
      "1/1 [==============================] - 0s 18ms/step - loss: 0.1723 - val_loss: 0.2911\n",
      "Epoch 360/600\n",
      "1/1 [==============================] - 0s 18ms/step - loss: 0.1721 - val_loss: 0.2908\n",
      "Epoch 361/600\n",
      "1/1 [==============================] - 0s 20ms/step - loss: 0.1718 - val_loss: 0.2905\n",
      "Epoch 362/600\n",
      "1/1 [==============================] - 0s 19ms/step - loss: 0.1716 - val_loss: 0.2901\n",
      "Epoch 363/600\n",
      "1/1 [==============================] - 0s 17ms/step - loss: 0.1713 - val_loss: 0.2897\n",
      "Epoch 364/600\n",
      "1/1 [==============================] - 0s 18ms/step - loss: 0.1710 - val_loss: 0.2893\n",
      "Epoch 365/600\n",
      "1/1 [==============================] - 0s 18ms/step - loss: 0.1708 - val_loss: 0.2888\n",
      "Epoch 366/600\n",
      "1/1 [==============================] - 0s 18ms/step - loss: 0.1705 - val_loss: 0.2883\n",
      "Epoch 367/600\n",
      "1/1 [==============================] - 0s 18ms/step - loss: 0.1703 - val_loss: 0.2878\n",
      "Epoch 368/600\n",
      "1/1 [==============================] - 0s 17ms/step - loss: 0.1700 - val_loss: 0.2873\n",
      "Epoch 369/600\n",
      "1/1 [==============================] - 0s 19ms/step - loss: 0.1698 - val_loss: 0.2869\n",
      "Epoch 370/600\n",
      "1/1 [==============================] - 0s 17ms/step - loss: 0.1695 - val_loss: 0.2864\n",
      "Epoch 371/600\n",
      "1/1 [==============================] - 0s 18ms/step - loss: 0.1693 - val_loss: 0.2860\n",
      "Epoch 372/600\n",
      "1/1 [==============================] - 0s 17ms/step - loss: 0.1690 - val_loss: 0.2856\n",
      "Epoch 373/600\n",
      "1/1 [==============================] - 0s 19ms/step - loss: 0.1688 - val_loss: 0.2853\n",
      "Epoch 374/600\n",
      "1/1 [==============================] - 0s 17ms/step - loss: 0.1685 - val_loss: 0.2850\n",
      "Epoch 375/600\n",
      "1/1 [==============================] - 0s 19ms/step - loss: 0.1683 - val_loss: 0.2847\n",
      "Epoch 376/600\n",
      "1/1 [==============================] - 0s 18ms/step - loss: 0.1680 - val_loss: 0.2844\n",
      "Epoch 377/600\n",
      "1/1 [==============================] - 0s 19ms/step - loss: 0.1678 - val_loss: 0.2841\n",
      "Epoch 378/600\n",
      "1/1 [==============================] - 0s 19ms/step - loss: 0.1676 - val_loss: 0.2838\n",
      "Epoch 379/600\n",
      "1/1 [==============================] - 0s 18ms/step - loss: 0.1673 - val_loss: 0.2834\n",
      "Epoch 380/600\n",
      "1/1 [==============================] - 0s 18ms/step - loss: 0.1671 - val_loss: 0.2831\n",
      "Epoch 381/600\n",
      "1/1 [==============================] - 0s 17ms/step - loss: 0.1668 - val_loss: 0.2828\n",
      "Epoch 382/600\n",
      "1/1 [==============================] - 0s 18ms/step - loss: 0.1666 - val_loss: 0.2824\n",
      "Epoch 383/600\n",
      "1/1 [==============================] - 0s 18ms/step - loss: 0.1664 - val_loss: 0.2820\n",
      "Epoch 384/600\n",
      "1/1 [==============================] - 0s 18ms/step - loss: 0.1661 - val_loss: 0.2817\n",
      "Epoch 385/600\n",
      "1/1 [==============================] - 0s 17ms/step - loss: 0.1659 - val_loss: 0.2813\n",
      "Epoch 386/600\n",
      "1/1 [==============================] - 0s 18ms/step - loss: 0.1657 - val_loss: 0.2809\n",
      "Epoch 387/600\n",
      "1/1 [==============================] - 0s 18ms/step - loss: 0.1655 - val_loss: 0.2806\n",
      "Epoch 388/600\n",
      "1/1 [==============================] - 0s 18ms/step - loss: 0.1652 - val_loss: 0.2802\n",
      "Epoch 389/600\n",
      "1/1 [==============================] - 0s 18ms/step - loss: 0.1650 - val_loss: 0.2799\n",
      "Epoch 390/600\n",
      "1/1 [==============================] - 0s 17ms/step - loss: 0.1648 - val_loss: 0.2796\n",
      "Epoch 391/600\n",
      "1/1 [==============================] - 0s 18ms/step - loss: 0.1646 - val_loss: 0.2793\n",
      "Epoch 392/600\n",
      "1/1 [==============================] - 0s 19ms/step - loss: 0.1643 - val_loss: 0.2790\n",
      "Epoch 393/600\n",
      "1/1 [==============================] - 0s 20ms/step - loss: 0.1641 - val_loss: 0.2787\n",
      "Epoch 394/600\n",
      "1/1 [==============================] - 0s 18ms/step - loss: 0.1639 - val_loss: 0.2784\n",
      "Epoch 395/600\n",
      "1/1 [==============================] - 0s 18ms/step - loss: 0.1637 - val_loss: 0.2781\n",
      "Epoch 396/600\n",
      "1/1 [==============================] - 0s 18ms/step - loss: 0.1635 - val_loss: 0.2779\n",
      "Epoch 397/600\n",
      "1/1 [==============================] - 0s 16ms/step - loss: 0.1632 - val_loss: 0.2776\n",
      "Epoch 398/600\n",
      "1/1 [==============================] - 0s 17ms/step - loss: 0.1630 - val_loss: 0.2773\n",
      "Epoch 399/600\n",
      "1/1 [==============================] - 0s 18ms/step - loss: 0.1628 - val_loss: 0.2770\n",
      "Epoch 400/600\n",
      "1/1 [==============================] - 0s 21ms/step - loss: 0.1626 - val_loss: 0.2767\n",
      "Epoch 401/600\n",
      "1/1 [==============================] - 0s 19ms/step - loss: 0.1624 - val_loss: 0.2764\n",
      "Epoch 402/600\n",
      "1/1 [==============================] - 0s 18ms/step - loss: 0.1622 - val_loss: 0.2761\n",
      "Epoch 403/600\n",
      "1/1 [==============================] - 0s 19ms/step - loss: 0.1620 - val_loss: 0.2758\n",
      "Epoch 404/600\n",
      "1/1 [==============================] - 0s 18ms/step - loss: 0.1617 - val_loss: 0.2755\n",
      "Epoch 405/600\n",
      "1/1 [==============================] - 0s 18ms/step - loss: 0.1615 - val_loss: 0.2752\n",
      "Epoch 406/600\n",
      "1/1 [==============================] - 0s 17ms/step - loss: 0.1613 - val_loss: 0.2749\n",
      "Epoch 407/600\n",
      "1/1 [==============================] - 0s 18ms/step - loss: 0.1611 - val_loss: 0.2746\n",
      "Epoch 408/600\n",
      "1/1 [==============================] - 0s 17ms/step - loss: 0.1609 - val_loss: 0.2743\n",
      "Epoch 409/600\n",
      "1/1 [==============================] - 0s 20ms/step - loss: 0.1607 - val_loss: 0.2740\n",
      "Epoch 410/600\n",
      "1/1 [==============================] - 0s 17ms/step - loss: 0.1605 - val_loss: 0.2738\n",
      "Epoch 411/600\n",
      "1/1 [==============================] - 0s 18ms/step - loss: 0.1603 - val_loss: 0.2735\n",
      "Epoch 412/600\n",
      "1/1 [==============================] - 0s 19ms/step - loss: 0.1601 - val_loss: 0.2732\n",
      "Epoch 413/600\n",
      "1/1 [==============================] - 0s 18ms/step - loss: 0.1599 - val_loss: 0.2729\n",
      "Epoch 414/600\n",
      "1/1 [==============================] - 0s 17ms/step - loss: 0.1597 - val_loss: 0.2726\n",
      "Epoch 415/600\n",
      "1/1 [==============================] - 0s 20ms/step - loss: 0.1595 - val_loss: 0.2723\n",
      "Epoch 416/600\n",
      "1/1 [==============================] - 0s 23ms/step - loss: 0.1593 - val_loss: 0.2720\n",
      "Epoch 417/600\n",
      "1/1 [==============================] - 0s 22ms/step - loss: 0.1591 - val_loss: 0.2717\n",
      "Epoch 418/600\n",
      "1/1 [==============================] - 0s 20ms/step - loss: 0.1589 - val_loss: 0.2714\n",
      "Epoch 419/600\n",
      "1/1 [==============================] - 0s 29ms/step - loss: 0.1587 - val_loss: 0.2710\n",
      "Epoch 420/600\n",
      "1/1 [==============================] - 0s 23ms/step - loss: 0.1585 - val_loss: 0.2707\n",
      "Epoch 421/600\n",
      "1/1 [==============================] - 0s 20ms/step - loss: 0.1583 - val_loss: 0.2704\n",
      "Epoch 422/600\n",
      "1/1 [==============================] - 0s 18ms/step - loss: 0.1581 - val_loss: 0.2700\n",
      "Epoch 423/600\n",
      "1/1 [==============================] - 0s 23ms/step - loss: 0.1579 - val_loss: 0.2697\n",
      "Epoch 424/600\n",
      "1/1 [==============================] - 0s 18ms/step - loss: 0.1577 - val_loss: 0.2693\n",
      "Epoch 425/600\n",
      "1/1 [==============================] - 0s 17ms/step - loss: 0.1575 - val_loss: 0.2690\n",
      "Epoch 426/600\n",
      "1/1 [==============================] - 0s 17ms/step - loss: 0.1573 - val_loss: 0.2686\n",
      "Epoch 427/600\n",
      "1/1 [==============================] - 0s 19ms/step - loss: 0.1571 - val_loss: 0.2682\n",
      "Epoch 428/600\n",
      "1/1 [==============================] - 0s 19ms/step - loss: 0.1569 - val_loss: 0.2679\n",
      "Epoch 429/600\n",
      "1/1 [==============================] - 0s 19ms/step - loss: 0.1567 - val_loss: 0.2675\n",
      "Epoch 430/600\n",
      "1/1 [==============================] - 0s 17ms/step - loss: 0.1565 - val_loss: 0.2671\n",
      "Epoch 431/600\n",
      "1/1 [==============================] - 0s 17ms/step - loss: 0.1563 - val_loss: 0.2667\n",
      "Epoch 432/600\n",
      "1/1 [==============================] - 0s 18ms/step - loss: 0.1561 - val_loss: 0.2663\n",
      "Epoch 433/600\n",
      "1/1 [==============================] - 0s 18ms/step - loss: 0.1559 - val_loss: 0.2658\n",
      "Epoch 434/600\n",
      "1/1 [==============================] - 0s 18ms/step - loss: 0.1557 - val_loss: 0.2654\n",
      "Epoch 435/600\n",
      "1/1 [==============================] - 0s 18ms/step - loss: 0.1555 - val_loss: 0.2649\n",
      "Epoch 436/600\n",
      "1/1 [==============================] - 0s 17ms/step - loss: 0.1553 - val_loss: 0.2645\n",
      "Epoch 437/600\n",
      "1/1 [==============================] - 0s 19ms/step - loss: 0.1551 - val_loss: 0.2640\n",
      "Epoch 438/600\n",
      "1/1 [==============================] - 0s 18ms/step - loss: 0.1549 - val_loss: 0.2635\n",
      "Epoch 439/600\n",
      "1/1 [==============================] - 0s 20ms/step - loss: 0.1547 - val_loss: 0.2630\n",
      "Epoch 440/600\n",
      "1/1 [==============================] - 0s 17ms/step - loss: 0.1545 - val_loss: 0.2624\n",
      "Epoch 441/600\n",
      "1/1 [==============================] - 0s 23ms/step - loss: 0.1543 - val_loss: 0.2619\n",
      "Epoch 442/600\n",
      "1/1 [==============================] - 0s 18ms/step - loss: 0.1541 - val_loss: 0.2613\n",
      "Epoch 443/600\n",
      "1/1 [==============================] - 0s 18ms/step - loss: 0.1539 - val_loss: 0.2608\n",
      "Epoch 444/600\n",
      "1/1 [==============================] - 0s 19ms/step - loss: 0.1537 - val_loss: 0.2602\n",
      "Epoch 445/600\n",
      "1/1 [==============================] - 0s 18ms/step - loss: 0.1535 - val_loss: 0.2596\n",
      "Epoch 446/600\n",
      "1/1 [==============================] - 0s 18ms/step - loss: 0.1533 - val_loss: 0.2590\n",
      "Epoch 447/600\n",
      "1/1 [==============================] - 0s 18ms/step - loss: 0.1531 - val_loss: 0.2583\n",
      "Epoch 448/600\n",
      "1/1 [==============================] - 0s 19ms/step - loss: 0.1529 - val_loss: 0.2577\n",
      "Epoch 449/600\n",
      "1/1 [==============================] - 0s 19ms/step - loss: 0.1527 - val_loss: 0.2571\n",
      "Epoch 450/600\n",
      "1/1 [==============================] - 0s 19ms/step - loss: 0.1525 - val_loss: 0.2564\n",
      "Epoch 451/600\n",
      "1/1 [==============================] - 0s 19ms/step - loss: 0.1523 - val_loss: 0.2557\n",
      "Epoch 452/600\n",
      "1/1 [==============================] - 0s 18ms/step - loss: 0.1521 - val_loss: 0.2551\n",
      "Epoch 453/600\n",
      "1/1 [==============================] - 0s 21ms/step - loss: 0.1519 - val_loss: 0.2544\n",
      "Epoch 454/600\n",
      "1/1 [==============================] - 0s 26ms/step - loss: 0.1517 - val_loss: 0.2537\n",
      "Epoch 455/600\n",
      "1/1 [==============================] - 0s 18ms/step - loss: 0.1515 - val_loss: 0.2531\n",
      "Epoch 456/600\n",
      "1/1 [==============================] - 0s 19ms/step - loss: 0.1513 - val_loss: 0.2524\n",
      "Epoch 457/600\n",
      "1/1 [==============================] - 0s 18ms/step - loss: 0.1511 - val_loss: 0.2518\n",
      "Epoch 458/600\n",
      "1/1 [==============================] - 0s 19ms/step - loss: 0.1509 - val_loss: 0.2512\n",
      "Epoch 459/600\n",
      "1/1 [==============================] - 0s 18ms/step - loss: 0.1507 - val_loss: 0.2507\n",
      "Epoch 460/600\n",
      "1/1 [==============================] - 0s 19ms/step - loss: 0.1505 - val_loss: 0.2501\n",
      "Epoch 461/600\n",
      "1/1 [==============================] - 0s 18ms/step - loss: 0.1503 - val_loss: 0.2496\n",
      "Epoch 462/600\n",
      "1/1 [==============================] - 0s 18ms/step - loss: 0.1502 - val_loss: 0.2492\n",
      "Epoch 463/600\n",
      "1/1 [==============================] - 0s 19ms/step - loss: 0.1500 - val_loss: 0.2487\n",
      "Epoch 464/600\n",
      "1/1 [==============================] - 0s 20ms/step - loss: 0.1498 - val_loss: 0.2484\n",
      "Epoch 465/600\n",
      "1/1 [==============================] - 0s 18ms/step - loss: 0.1496 - val_loss: 0.2480\n",
      "Epoch 466/600\n",
      "1/1 [==============================] - 0s 18ms/step - loss: 0.1494 - val_loss: 0.2477\n",
      "Epoch 467/600\n",
      "1/1 [==============================] - 0s 20ms/step - loss: 0.1492 - val_loss: 0.2474\n",
      "Epoch 468/600\n",
      "1/1 [==============================] - 0s 26ms/step - loss: 0.1491 - val_loss: 0.2472\n",
      "Epoch 469/600\n",
      "1/1 [==============================] - 0s 18ms/step - loss: 0.1489 - val_loss: 0.2469\n",
      "Epoch 470/600\n",
      "1/1 [==============================] - 0s 19ms/step - loss: 0.1487 - val_loss: 0.2467\n",
      "Epoch 471/600\n",
      "1/1 [==============================] - 0s 17ms/step - loss: 0.1486 - val_loss: 0.2464\n",
      "Epoch 472/600\n",
      "1/1 [==============================] - 0s 18ms/step - loss: 0.1484 - val_loss: 0.2462\n",
      "Epoch 473/600\n",
      "1/1 [==============================] - 0s 18ms/step - loss: 0.1482 - val_loss: 0.2460\n",
      "Epoch 474/600\n",
      "1/1 [==============================] - 0s 19ms/step - loss: 0.1481 - val_loss: 0.2457\n",
      "Epoch 475/600\n",
      "1/1 [==============================] - 0s 20ms/step - loss: 0.1479 - val_loss: 0.2455\n",
      "Epoch 476/600\n",
      "1/1 [==============================] - 0s 17ms/step - loss: 0.1477 - val_loss: 0.2452\n",
      "Epoch 477/600\n",
      "1/1 [==============================] - 0s 19ms/step - loss: 0.1476 - val_loss: 0.2450\n",
      "Epoch 478/600\n",
      "1/1 [==============================] - 0s 19ms/step - loss: 0.1474 - val_loss: 0.2448\n",
      "Epoch 479/600\n",
      "1/1 [==============================] - 0s 23ms/step - loss: 0.1472 - val_loss: 0.2445\n",
      "Epoch 480/600\n",
      "1/1 [==============================] - 0s 19ms/step - loss: 0.1471 - val_loss: 0.2443\n",
      "Epoch 481/600\n",
      "1/1 [==============================] - 0s 19ms/step - loss: 0.1469 - val_loss: 0.2441\n",
      "Epoch 482/600\n",
      "1/1 [==============================] - 0s 35ms/step - loss: 0.1468 - val_loss: 0.2439\n",
      "Epoch 483/600\n",
      "1/1 [==============================] - 0s 22ms/step - loss: 0.1466 - val_loss: 0.2437\n",
      "Epoch 484/600\n",
      "1/1 [==============================] - 0s 19ms/step - loss: 0.1465 - val_loss: 0.2435\n",
      "Epoch 485/600\n",
      "1/1 [==============================] - 0s 20ms/step - loss: 0.1463 - val_loss: 0.2433\n",
      "Epoch 486/600\n",
      "1/1 [==============================] - 0s 20ms/step - loss: 0.1462 - val_loss: 0.2431\n",
      "Epoch 487/600\n",
      "1/1 [==============================] - 0s 22ms/step - loss: 0.1460 - val_loss: 0.2429\n",
      "Epoch 488/600\n",
      "1/1 [==============================] - 0s 19ms/step - loss: 0.1459 - val_loss: 0.2427\n",
      "Epoch 489/600\n",
      "1/1 [==============================] - 0s 29ms/step - loss: 0.1457 - val_loss: 0.2425\n",
      "Epoch 490/600\n",
      "1/1 [==============================] - 0s 19ms/step - loss: 0.1456 - val_loss: 0.2423\n",
      "Epoch 491/600\n",
      "1/1 [==============================] - 0s 21ms/step - loss: 0.1454 - val_loss: 0.2421\n",
      "Epoch 492/600\n",
      "1/1 [==============================] - 0s 21ms/step - loss: 0.1453 - val_loss: 0.2419\n",
      "Epoch 493/600\n",
      "1/1 [==============================] - 0s 22ms/step - loss: 0.1451 - val_loss: 0.2417\n",
      "Epoch 494/600\n",
      "1/1 [==============================] - 0s 19ms/step - loss: 0.1450 - val_loss: 0.2415\n",
      "Epoch 495/600\n",
      "1/1 [==============================] - 0s 21ms/step - loss: 0.1448 - val_loss: 0.2413\n",
      "Epoch 496/600\n",
      "1/1 [==============================] - 0s 27ms/step - loss: 0.1447 - val_loss: 0.2412\n",
      "Epoch 497/600\n",
      "1/1 [==============================] - 0s 21ms/step - loss: 0.1446 - val_loss: 0.2410\n",
      "Epoch 498/600\n",
      "1/1 [==============================] - 0s 22ms/step - loss: 0.1444 - val_loss: 0.2408\n",
      "Epoch 499/600\n",
      "1/1 [==============================] - 0s 21ms/step - loss: 0.1443 - val_loss: 0.2406\n",
      "Epoch 500/600\n",
      "1/1 [==============================] - 0s 21ms/step - loss: 0.1442 - val_loss: 0.2405\n",
      "Epoch 501/600\n",
      "1/1 [==============================] - 0s 27ms/step - loss: 0.1440 - val_loss: 0.2403\n",
      "Epoch 502/600\n",
      "1/1 [==============================] - 0s 22ms/step - loss: 0.1439 - val_loss: 0.2401\n",
      "Epoch 503/600\n",
      "1/1 [==============================] - 0s 22ms/step - loss: 0.1438 - val_loss: 0.2400\n",
      "Epoch 504/600\n",
      "1/1 [==============================] - 0s 19ms/step - loss: 0.1436 - val_loss: 0.2398\n",
      "Epoch 505/600\n",
      "1/1 [==============================] - 0s 20ms/step - loss: 0.1435 - val_loss: 0.2396\n",
      "Epoch 506/600\n",
      "1/1 [==============================] - 0s 23ms/step - loss: 0.1434 - val_loss: 0.2395\n",
      "Epoch 507/600\n",
      "1/1 [==============================] - 0s 22ms/step - loss: 0.1432 - val_loss: 0.2393\n",
      "Epoch 508/600\n",
      "1/1 [==============================] - 0s 20ms/step - loss: 0.1431 - val_loss: 0.2392\n",
      "Epoch 509/600\n",
      "1/1 [==============================] - 0s 30ms/step - loss: 0.1430 - val_loss: 0.2390\n",
      "Epoch 510/600\n",
      "1/1 [==============================] - 0s 20ms/step - loss: 0.1429 - val_loss: 0.2389\n",
      "Epoch 511/600\n",
      "1/1 [==============================] - 0s 26ms/step - loss: 0.1427 - val_loss: 0.2387\n",
      "Epoch 512/600\n",
      "1/1 [==============================] - 0s 20ms/step - loss: 0.1426 - val_loss: 0.2386\n",
      "Epoch 513/600\n",
      "1/1 [==============================] - 0s 22ms/step - loss: 0.1425 - val_loss: 0.2385\n",
      "Epoch 514/600\n",
      "1/1 [==============================] - 0s 22ms/step - loss: 0.1424 - val_loss: 0.2383\n",
      "Epoch 515/600\n",
      "1/1 [==============================] - 0s 19ms/step - loss: 0.1422 - val_loss: 0.2382\n",
      "Epoch 516/600\n",
      "1/1 [==============================] - 0s 20ms/step - loss: 0.1421 - val_loss: 0.2380\n",
      "Epoch 517/600\n",
      "1/1 [==============================] - 0s 20ms/step - loss: 0.1420 - val_loss: 0.2379\n",
      "Epoch 518/600\n",
      "1/1 [==============================] - 0s 19ms/step - loss: 0.1419 - val_loss: 0.2378\n",
      "Epoch 519/600\n",
      "1/1 [==============================] - 0s 20ms/step - loss: 0.1418 - val_loss: 0.2376\n",
      "Epoch 520/600\n",
      "1/1 [==============================] - 0s 22ms/step - loss: 0.1417 - val_loss: 0.2375\n",
      "Epoch 521/600\n",
      "1/1 [==============================] - 0s 21ms/step - loss: 0.1415 - val_loss: 0.2374\n",
      "Epoch 522/600\n",
      "1/1 [==============================] - 0s 98ms/step - loss: 0.1414 - val_loss: 0.2372\n",
      "Epoch 523/600\n",
      "1/1 [==============================] - 0s 19ms/step - loss: 0.1413 - val_loss: 0.2371\n",
      "Epoch 524/600\n",
      "1/1 [==============================] - 0s 19ms/step - loss: 0.1412 - val_loss: 0.2370\n",
      "Epoch 525/600\n",
      "1/1 [==============================] - 0s 20ms/step - loss: 0.1411 - val_loss: 0.2369\n",
      "Epoch 526/600\n",
      "1/1 [==============================] - 0s 19ms/step - loss: 0.1410 - val_loss: 0.2367\n",
      "Epoch 527/600\n",
      "1/1 [==============================] - 0s 18ms/step - loss: 0.1409 - val_loss: 0.2366\n",
      "Epoch 528/600\n",
      "1/1 [==============================] - 0s 19ms/step - loss: 0.1408 - val_loss: 0.2365\n",
      "Epoch 529/600\n",
      "1/1 [==============================] - 0s 18ms/step - loss: 0.1406 - val_loss: 0.2364\n",
      "Epoch 530/600\n",
      "1/1 [==============================] - 0s 20ms/step - loss: 0.1405 - val_loss: 0.2363\n",
      "Epoch 531/600\n",
      "1/1 [==============================] - 0s 18ms/step - loss: 0.1404 - val_loss: 0.2361\n",
      "Epoch 532/600\n",
      "1/1 [==============================] - 0s 19ms/step - loss: 0.1403 - val_loss: 0.2360\n",
      "Epoch 533/600\n",
      "1/1 [==============================] - 0s 20ms/step - loss: 0.1402 - val_loss: 0.2359\n",
      "Epoch 534/600\n",
      "1/1 [==============================] - 0s 20ms/step - loss: 0.1401 - val_loss: 0.2358\n",
      "Epoch 535/600\n",
      "1/1 [==============================] - 0s 19ms/step - loss: 0.1400 - val_loss: 0.2357\n",
      "Epoch 536/600\n",
      "1/1 [==============================] - 0s 20ms/step - loss: 0.1399 - val_loss: 0.2356\n",
      "Epoch 537/600\n",
      "1/1 [==============================] - 0s 20ms/step - loss: 0.1398 - val_loss: 0.2355\n",
      "Epoch 538/600\n",
      "1/1 [==============================] - 0s 20ms/step - loss: 0.1397 - val_loss: 0.2354\n",
      "Epoch 539/600\n",
      "1/1 [==============================] - 0s 18ms/step - loss: 0.1396 - val_loss: 0.2353\n",
      "Epoch 540/600\n",
      "1/1 [==============================] - 0s 18ms/step - loss: 0.1395 - val_loss: 0.2352\n",
      "Epoch 541/600\n",
      "1/1 [==============================] - 0s 20ms/step - loss: 0.1394 - val_loss: 0.2351\n",
      "Epoch 542/600\n",
      "1/1 [==============================] - 0s 18ms/step - loss: 0.1393 - val_loss: 0.2350\n",
      "Epoch 543/600\n",
      "1/1 [==============================] - 0s 19ms/step - loss: 0.1392 - val_loss: 0.2349\n",
      "Epoch 544/600\n",
      "1/1 [==============================] - 0s 20ms/step - loss: 0.1391 - val_loss: 0.2348\n",
      "Epoch 545/600\n",
      "1/1 [==============================] - 0s 18ms/step - loss: 0.1390 - val_loss: 0.2347\n",
      "Epoch 546/600\n",
      "1/1 [==============================] - 0s 19ms/step - loss: 0.1389 - val_loss: 0.2346\n",
      "Epoch 547/600\n",
      "1/1 [==============================] - 0s 25ms/step - loss: 0.1388 - val_loss: 0.2345\n",
      "Epoch 548/600\n",
      "1/1 [==============================] - 0s 22ms/step - loss: 0.1387 - val_loss: 0.2344\n",
      "Epoch 549/600\n",
      "1/1 [==============================] - 0s 21ms/step - loss: 0.1386 - val_loss: 0.2343\n",
      "Epoch 550/600\n",
      "1/1 [==============================] - 0s 23ms/step - loss: 0.1385 - val_loss: 0.2342\n",
      "Epoch 551/600\n",
      "1/1 [==============================] - 0s 18ms/step - loss: 0.1385 - val_loss: 0.2341\n",
      "Epoch 552/600\n",
      "1/1 [==============================] - 0s 17ms/step - loss: 0.1384 - val_loss: 0.2340\n",
      "Epoch 553/600\n",
      "1/1 [==============================] - 0s 19ms/step - loss: 0.1383 - val_loss: 0.2339\n",
      "Epoch 554/600\n",
      "1/1 [==============================] - 0s 17ms/step - loss: 0.1382 - val_loss: 0.2338\n",
      "Epoch 555/600\n",
      "1/1 [==============================] - 0s 18ms/step - loss: 0.1381 - val_loss: 0.2338\n",
      "Epoch 556/600\n",
      "1/1 [==============================] - 0s 38ms/step - loss: 0.1380 - val_loss: 0.2337\n",
      "Epoch 557/600\n",
      "1/1 [==============================] - 0s 19ms/step - loss: 0.1379 - val_loss: 0.2336\n",
      "Epoch 558/600\n",
      "1/1 [==============================] - 0s 19ms/step - loss: 0.1378 - val_loss: 0.2335\n",
      "Epoch 559/600\n",
      "1/1 [==============================] - 0s 18ms/step - loss: 0.1377 - val_loss: 0.2334\n",
      "Epoch 560/600\n",
      "1/1 [==============================] - 0s 16ms/step - loss: 0.1377 - val_loss: 0.2333\n",
      "Epoch 561/600\n",
      "1/1 [==============================] - 0s 18ms/step - loss: 0.1376 - val_loss: 0.2332\n",
      "Epoch 562/600\n",
      "1/1 [==============================] - 0s 18ms/step - loss: 0.1375 - val_loss: 0.2332\n",
      "Epoch 563/600\n",
      "1/1 [==============================] - 0s 17ms/step - loss: 0.1374 - val_loss: 0.2331\n",
      "Epoch 564/600\n",
      "1/1 [==============================] - 0s 18ms/step - loss: 0.1373 - val_loss: 0.2330\n",
      "Epoch 565/600\n",
      "1/1 [==============================] - 0s 19ms/step - loss: 0.1372 - val_loss: 0.2329\n",
      "Epoch 566/600\n",
      "1/1 [==============================] - 0s 18ms/step - loss: 0.1372 - val_loss: 0.2328\n",
      "Epoch 567/600\n",
      "1/1 [==============================] - 0s 18ms/step - loss: 0.1371 - val_loss: 0.2328\n",
      "Epoch 568/600\n",
      "1/1 [==============================] - 0s 19ms/step - loss: 0.1370 - val_loss: 0.2327\n",
      "Epoch 569/600\n",
      "1/1 [==============================] - 0s 19ms/step - loss: 0.1369 - val_loss: 0.2326\n",
      "Epoch 570/600\n",
      "1/1 [==============================] - 0s 17ms/step - loss: 0.1368 - val_loss: 0.2325\n",
      "Epoch 571/600\n",
      "1/1 [==============================] - 0s 18ms/step - loss: 0.1368 - val_loss: 0.2325\n",
      "Epoch 572/600\n",
      "1/1 [==============================] - 0s 18ms/step - loss: 0.1367 - val_loss: 0.2324\n",
      "Epoch 573/600\n",
      "1/1 [==============================] - 0s 19ms/step - loss: 0.1366 - val_loss: 0.2323\n",
      "Epoch 574/600\n",
      "1/1 [==============================] - 0s 19ms/step - loss: 0.1365 - val_loss: 0.2322\n",
      "Epoch 575/600\n",
      "1/1 [==============================] - 0s 18ms/step - loss: 0.1365 - val_loss: 0.2322\n",
      "Epoch 576/600\n",
      "1/1 [==============================] - 0s 18ms/step - loss: 0.1364 - val_loss: 0.2321\n",
      "Epoch 577/600\n",
      "1/1 [==============================] - 0s 18ms/step - loss: 0.1363 - val_loss: 0.2320\n",
      "Epoch 578/600\n",
      "1/1 [==============================] - 0s 17ms/step - loss: 0.1362 - val_loss: 0.2320\n",
      "Epoch 579/600\n",
      "1/1 [==============================] - 0s 21ms/step - loss: 0.1362 - val_loss: 0.2319\n",
      "Epoch 580/600\n",
      "1/1 [==============================] - 0s 18ms/step - loss: 0.1361 - val_loss: 0.2318\n",
      "Epoch 581/600\n",
      "1/1 [==============================] - 0s 19ms/step - loss: 0.1360 - val_loss: 0.2318\n",
      "Epoch 582/600\n",
      "1/1 [==============================] - 0s 18ms/step - loss: 0.1359 - val_loss: 0.2317\n",
      "Epoch 583/600\n",
      "1/1 [==============================] - 0s 17ms/step - loss: 0.1359 - val_loss: 0.2316\n",
      "Epoch 584/600\n",
      "1/1 [==============================] - 0s 18ms/step - loss: 0.1358 - val_loss: 0.2316\n",
      "Epoch 585/600\n",
      "1/1 [==============================] - 0s 16ms/step - loss: 0.1357 - val_loss: 0.2315\n",
      "Epoch 586/600\n",
      "1/1 [==============================] - 0s 17ms/step - loss: 0.1356 - val_loss: 0.2314\n",
      "Epoch 587/600\n",
      "1/1 [==============================] - 0s 17ms/step - loss: 0.1356 - val_loss: 0.2314\n",
      "Epoch 588/600\n",
      "1/1 [==============================] - 0s 18ms/step - loss: 0.1355 - val_loss: 0.2313\n",
      "Epoch 589/600\n",
      "1/1 [==============================] - 0s 19ms/step - loss: 0.1354 - val_loss: 0.2313\n",
      "Epoch 590/600\n",
      "1/1 [==============================] - 0s 17ms/step - loss: 0.1354 - val_loss: 0.2312\n",
      "Epoch 591/600\n",
      "1/1 [==============================] - 0s 18ms/step - loss: 0.1353 - val_loss: 0.2311\n",
      "Epoch 592/600\n",
      "1/1 [==============================] - 0s 18ms/step - loss: 0.1352 - val_loss: 0.2311\n",
      "Epoch 593/600\n",
      "1/1 [==============================] - 0s 18ms/step - loss: 0.1352 - val_loss: 0.2310\n",
      "Epoch 594/600\n",
      "1/1 [==============================] - 0s 17ms/step - loss: 0.1351 - val_loss: 0.2309\n",
      "Epoch 595/600\n",
      "1/1 [==============================] - 0s 18ms/step - loss: 0.1350 - val_loss: 0.2309\n",
      "Epoch 596/600\n",
      "1/1 [==============================] - 0s 17ms/step - loss: 0.1350 - val_loss: 0.2308\n",
      "Epoch 597/600\n",
      "1/1 [==============================] - 0s 19ms/step - loss: 0.1349 - val_loss: 0.2308\n",
      "Epoch 598/600\n",
      "1/1 [==============================] - 0s 18ms/step - loss: 0.1348 - val_loss: 0.2307\n",
      "Epoch 599/600\n",
      "1/1 [==============================] - 0s 17ms/step - loss: 0.1348 - val_loss: 0.2307\n",
      "Epoch 600/600\n",
      "1/1 [==============================] - 0s 19ms/step - loss: 0.1347 - val_loss: 0.2306\n",
      "Model: \"sequential_35\"\n",
      "_________________________________________________________________\n",
      " Layer (type)                Output Shape              Param #   \n",
      "=================================================================\n",
      " simple_rnn_15 (SimpleRNN)   (None, 20)                440       \n",
      "                                                                 \n",
      " dense_35 (Dense)            (None, 1)                 21        \n",
      "                                                                 \n",
      "=================================================================\n",
      "Total params: 461\n",
      "Trainable params: 461\n",
      "Non-trainable params: 0\n",
      "_________________________________________________________________\n"
     ]
    }
   ],
   "source": [
    "model_rnn, train_history = neural_net_time_series(\n",
    "    train_X,\n",
    "    train_y,\n",
    "    test_X,\n",
    "    test_y,\n",
    "    model_name=\"simple_rnn\",\n",
    "    cell_units=20,\n",
    "    epochs=600,\n",
    "    core_model=KerasCoreModel.simpleRNN,\n",
    "    n_layers=1,\n",
    ")"
   ],
   "metadata": {
    "collapsed": false,
    "pycharm": {
     "name": "#%%\n"
    }
   }
  },
  {
   "cell_type": "code",
   "execution_count": 272,
   "outputs": [
    {
     "name": "stdout",
     "output_type": "stream",
     "text": [
      "1/1 [==============================] - 0s 136ms/step - loss: 0.1418\n",
      "MSE Test: 0.1418\n",
      "MAE: 0.1418, MAPE: 0.0748\n"
     ]
    }
   ],
   "source": [
    "model_rnn = keras.models.load_model(\"models/simple_rnn.h5\")\n",
    "mse_test = model_rnn.evaluate(test_X, test_y)\n",
    "print(f\"MSE Test: {mse_test:.4f}\")\n",
    "\n",
    "y_pred = model_rnn.predict(test_X).flatten()\n",
    "print(\n",
    "    f\"MAE: {mean_squared_error(y_true, y_pred):.4f}, MAPE: {mean_absolute_percentage_error(y_true, y_pred):.4f}\"\n",
    ")"
   ],
   "metadata": {
    "collapsed": false,
    "pycharm": {
     "name": "#%%\n"
    }
   }
  },
  {
   "cell_type": "markdown",
   "source": [
    "# Training curves"
   ],
   "metadata": {
    "collapsed": false,
    "pycharm": {
     "name": "#%% md\n"
    }
   }
  },
  {
   "cell_type": "code",
   "execution_count": 273,
   "outputs": [
    {
     "data": {
      "text/plain": "          loss   val_loss\n0    20.602638  14.960551\n1    19.939259  14.381579\n2    19.286793  13.815409\n3    18.644602  13.261894\n4    18.012592  12.721014\n..         ...        ...\n595   0.134960   0.230827\n596   0.134894   0.230769\n597   0.134828   0.230711\n598   0.134762   0.230653\n599   0.134697   0.230596\n\n[600 rows x 2 columns]",
      "text/html": "<div>\n<style scoped>\n    .dataframe tbody tr th:only-of-type {\n        vertical-align: middle;\n    }\n\n    .dataframe tbody tr th {\n        vertical-align: top;\n    }\n\n    .dataframe thead th {\n        text-align: right;\n    }\n</style>\n<table border=\"1\" class=\"dataframe\">\n  <thead>\n    <tr style=\"text-align: right;\">\n      <th></th>\n      <th>loss</th>\n      <th>val_loss</th>\n    </tr>\n  </thead>\n  <tbody>\n    <tr>\n      <th>0</th>\n      <td>20.602638</td>\n      <td>14.960551</td>\n    </tr>\n    <tr>\n      <th>1</th>\n      <td>19.939259</td>\n      <td>14.381579</td>\n    </tr>\n    <tr>\n      <th>2</th>\n      <td>19.286793</td>\n      <td>13.815409</td>\n    </tr>\n    <tr>\n      <th>3</th>\n      <td>18.644602</td>\n      <td>13.261894</td>\n    </tr>\n    <tr>\n      <th>4</th>\n      <td>18.012592</td>\n      <td>12.721014</td>\n    </tr>\n    <tr>\n      <th>...</th>\n      <td>...</td>\n      <td>...</td>\n    </tr>\n    <tr>\n      <th>595</th>\n      <td>0.134960</td>\n      <td>0.230827</td>\n    </tr>\n    <tr>\n      <th>596</th>\n      <td>0.134894</td>\n      <td>0.230769</td>\n    </tr>\n    <tr>\n      <th>597</th>\n      <td>0.134828</td>\n      <td>0.230711</td>\n    </tr>\n    <tr>\n      <th>598</th>\n      <td>0.134762</td>\n      <td>0.230653</td>\n    </tr>\n    <tr>\n      <th>599</th>\n      <td>0.134697</td>\n      <td>0.230596</td>\n    </tr>\n  </tbody>\n</table>\n<p>600 rows × 2 columns</p>\n</div>"
     },
     "metadata": {},
     "output_type": "display_data"
    },
    {
     "data": {
      "application/vnd.plotly.v1+json": {
       "data": [
        {
         "hovertemplate": "variable=loss<br>index=%{x}<br>value=%{y}<extra></extra>",
         "legendgroup": "loss",
         "line": {
          "color": "#636efa",
          "dash": "solid"
         },
         "marker": {
          "symbol": "circle"
         },
         "mode": "lines",
         "name": "loss",
         "showlegend": true,
         "x": [
          0,
          1,
          2,
          3,
          4,
          5,
          6,
          7,
          8,
          9,
          10,
          11,
          12,
          13,
          14,
          15,
          16,
          17,
          18,
          19,
          20,
          21,
          22,
          23,
          24,
          25,
          26,
          27,
          28,
          29,
          30,
          31,
          32,
          33,
          34,
          35,
          36,
          37,
          38,
          39,
          40,
          41,
          42,
          43,
          44,
          45,
          46,
          47,
          48,
          49,
          50,
          51,
          52,
          53,
          54,
          55,
          56,
          57,
          58,
          59,
          60,
          61,
          62,
          63,
          64,
          65,
          66,
          67,
          68,
          69,
          70,
          71,
          72,
          73,
          74,
          75,
          76,
          77,
          78,
          79,
          80,
          81,
          82,
          83,
          84,
          85,
          86,
          87,
          88,
          89,
          90,
          91,
          92,
          93,
          94,
          95,
          96,
          97,
          98,
          99,
          100,
          101,
          102,
          103,
          104,
          105,
          106,
          107,
          108,
          109,
          110,
          111,
          112,
          113,
          114,
          115,
          116,
          117,
          118,
          119,
          120,
          121,
          122,
          123,
          124,
          125,
          126,
          127,
          128,
          129,
          130,
          131,
          132,
          133,
          134,
          135,
          136,
          137,
          138,
          139,
          140,
          141,
          142,
          143,
          144,
          145,
          146,
          147,
          148,
          149,
          150,
          151,
          152,
          153,
          154,
          155,
          156,
          157,
          158,
          159,
          160,
          161,
          162,
          163,
          164,
          165,
          166,
          167,
          168,
          169,
          170,
          171,
          172,
          173,
          174,
          175,
          176,
          177,
          178,
          179,
          180,
          181,
          182,
          183,
          184,
          185,
          186,
          187,
          188,
          189,
          190,
          191,
          192,
          193,
          194,
          195,
          196,
          197,
          198,
          199,
          200,
          201,
          202,
          203,
          204,
          205,
          206,
          207,
          208,
          209,
          210,
          211,
          212,
          213,
          214,
          215,
          216,
          217,
          218,
          219,
          220,
          221,
          222,
          223,
          224,
          225,
          226,
          227,
          228,
          229,
          230,
          231,
          232,
          233,
          234,
          235,
          236,
          237,
          238,
          239,
          240,
          241,
          242,
          243,
          244,
          245,
          246,
          247,
          248,
          249,
          250,
          251,
          252,
          253,
          254,
          255,
          256,
          257,
          258,
          259,
          260,
          261,
          262,
          263,
          264,
          265,
          266,
          267,
          268,
          269,
          270,
          271,
          272,
          273,
          274,
          275,
          276,
          277,
          278,
          279,
          280,
          281,
          282,
          283,
          284,
          285,
          286,
          287,
          288,
          289,
          290,
          291,
          292,
          293,
          294,
          295,
          296,
          297,
          298,
          299,
          300,
          301,
          302,
          303,
          304,
          305,
          306,
          307,
          308,
          309,
          310,
          311,
          312,
          313,
          314,
          315,
          316,
          317,
          318,
          319,
          320,
          321,
          322,
          323,
          324,
          325,
          326,
          327,
          328,
          329,
          330,
          331,
          332,
          333,
          334,
          335,
          336,
          337,
          338,
          339,
          340,
          341,
          342,
          343,
          344,
          345,
          346,
          347,
          348,
          349,
          350,
          351,
          352,
          353,
          354,
          355,
          356,
          357,
          358,
          359,
          360,
          361,
          362,
          363,
          364,
          365,
          366,
          367,
          368,
          369,
          370,
          371,
          372,
          373,
          374,
          375,
          376,
          377,
          378,
          379,
          380,
          381,
          382,
          383,
          384,
          385,
          386,
          387,
          388,
          389,
          390,
          391,
          392,
          393,
          394,
          395,
          396,
          397,
          398,
          399,
          400,
          401,
          402,
          403,
          404,
          405,
          406,
          407,
          408,
          409,
          410,
          411,
          412,
          413,
          414,
          415,
          416,
          417,
          418,
          419,
          420,
          421,
          422,
          423,
          424,
          425,
          426,
          427,
          428,
          429,
          430,
          431,
          432,
          433,
          434,
          435,
          436,
          437,
          438,
          439,
          440,
          441,
          442,
          443,
          444,
          445,
          446,
          447,
          448,
          449,
          450,
          451,
          452,
          453,
          454,
          455,
          456,
          457,
          458,
          459,
          460,
          461,
          462,
          463,
          464,
          465,
          466,
          467,
          468,
          469,
          470,
          471,
          472,
          473,
          474,
          475,
          476,
          477,
          478,
          479,
          480,
          481,
          482,
          483,
          484,
          485,
          486,
          487,
          488,
          489,
          490,
          491,
          492,
          493,
          494,
          495,
          496,
          497,
          498,
          499,
          500,
          501,
          502,
          503,
          504,
          505,
          506,
          507,
          508,
          509,
          510,
          511,
          512,
          513,
          514,
          515,
          516,
          517,
          518,
          519,
          520,
          521,
          522,
          523,
          524,
          525,
          526,
          527,
          528,
          529,
          530,
          531,
          532,
          533,
          534,
          535,
          536,
          537,
          538,
          539,
          540,
          541,
          542,
          543,
          544,
          545,
          546,
          547,
          548,
          549,
          550,
          551,
          552,
          553,
          554,
          555,
          556,
          557,
          558,
          559,
          560,
          561,
          562,
          563,
          564,
          565,
          566,
          567,
          568,
          569,
          570,
          571,
          572,
          573,
          574,
          575,
          576,
          577,
          578,
          579,
          580,
          581,
          582,
          583,
          584,
          585,
          586,
          587,
          588,
          589,
          590,
          591,
          592,
          593,
          594,
          595,
          596,
          597,
          598,
          599
         ],
         "xaxis": "x",
         "y": [
          20.602638244628906,
          19.939258575439453,
          19.286792755126953,
          18.644601821899414,
          18.012592315673828,
          17.390888214111328,
          16.779600143432617,
          16.178817749023438,
          15.588664054870605,
          15.009356498718262,
          14.441207885742188,
          13.884602546691895,
          13.339967727661133,
          12.807741165161133,
          12.288342475891113,
          11.7821683883667,
          11.289575576782227,
          10.810894966125488,
          10.346436500549316,
          9.896490097045898,
          9.46131706237793,
          9.04112434387207,
          8.636062622070312,
          8.246200561523438,
          7.871528625488281,
          7.511946678161621,
          7.167281150817871,
          6.837285041809082,
          6.52164363861084,
          6.219998836517334,
          5.931941986083984,
          5.657027721405029,
          5.3947882652282715,
          5.144731521606445,
          4.906355857849121,
          4.6791534423828125,
          4.462615013122559,
          4.256236553192139,
          4.059523105621338,
          3.871994733810425,
          3.693183183670044,
          3.52264404296875,
          3.3599495887756348,
          3.2046923637390137,
          3.0564911365509033,
          2.914980173110962,
          2.7798218727111816,
          2.6506991386413574,
          2.5273139476776123,
          2.4093902111053467,
          2.2966723442077637,
          2.188920259475708,
          2.085916042327881,
          1.9874536991119385,
          1.8933460712432861,
          1.8034160137176514,
          1.7175025939941406,
          1.635453462600708,
          1.5571292638778687,
          1.4823957681655884,
          1.4111292362213135,
          1.3432109355926514,
          1.2785297632217407,
          1.216975212097168,
          1.1584432125091553,
          1.1028320789337158,
          1.050041913986206,
          0.999974250793457,
          0.952532172203064,
          0.9076188802719116,
          0.8651391863822937,
          0.8249984979629517,
          0.7871013879776001,
          0.7513559460639954,
          0.7176687717437744,
          0.6859487295150757,
          0.6561060547828674,
          0.6280524134635925,
          0.6017011404037476,
          0.5769685506820679,
          0.5537722110748291,
          0.53203284740448,
          0.5116745233535767,
          0.49262237548828125,
          0.4748064875602722,
          0.4581577777862549,
          0.44261112809181213,
          0.4281046986579895,
          0.41457897424697876,
          0.4019772410392761,
          0.39024582505226135,
          0.37933260202407837,
          0.36918991804122925,
          0.35977062582969666,
          0.35103124380111694,
          0.3429291844367981,
          0.33542600274086,
          0.3284832239151001,
          0.3220657706260681,
          0.3161391019821167,
          0.3106716573238373,
          0.3056330680847168,
          0.3009944558143616,
          0.29672861099243164,
          0.29280993342399597,
          0.2892138659954071,
          0.28591737151145935,
          0.28289923071861267,
          0.2801385819911957,
          0.27761608362197876,
          0.27531400322914124,
          0.27321547269821167,
          0.2713037133216858,
          0.26956453919410706,
          0.26798370480537415,
          0.2665478587150574,
          0.2652450203895569,
          0.26406341791152954,
          0.26299312710762024,
          0.2620237469673157,
          0.2611461579799652,
          0.2603519856929779,
          0.25963321328163147,
          0.25898289680480957,
          0.2583943009376526,
          0.2578608989715576,
          0.25737741589546204,
          0.2569386959075928,
          0.25653964281082153,
          0.2561762034893036,
          0.2558446526527405,
          0.25554078817367554,
          0.2552618682384491,
          0.25500476360321045,
          0.25476688146591187,
          0.25454550981521606,
          0.2543388605117798,
          0.2541448175907135,
          0.25396156311035156,
          0.2537876069545746,
          0.2536217272281647,
          0.25346237421035767,
          0.2533086836338043,
          0.2531595230102539,
          0.2530142366886139,
          0.25287190079689026,
          0.25273197889328003,
          0.2525936961174011,
          0.25245675444602966,
          0.25232070684432983,
          0.2521851658821106,
          0.25204968452453613,
          0.2519141733646393,
          0.25177812576293945,
          0.2516416907310486,
          0.2515045404434204,
          0.25136643648147583,
          0.2512274384498596,
          0.25108733773231506,
          0.2509461045265198,
          0.25080373883247375,
          0.2506597936153412,
          0.2505148947238922,
          0.2503684461116791,
          0.25022077560424805,
          0.2500714957714081,
          0.24992088973522186,
          0.24976880848407745,
          0.24961528182029724,
          0.2494603395462036,
          0.2493038922548294,
          0.24914589524269104,
          0.24898645281791687,
          0.248825341463089,
          0.24866294860839844,
          0.24849887192249298,
          0.24833297729492188,
          0.24816584587097168,
          0.24799685180187225,
          0.2478262484073639,
          0.2476540058851242,
          0.2474801242351532,
          0.2473045289516449,
          0.24712710082530975,
          0.24694781005382538,
          0.24676665663719177,
          0.24658378958702087,
          0.24639892578125,
          0.246211975812912,
          0.24602310359477997,
          0.24583235383033752,
          0.2456393539905548,
          0.24544420838356018,
          0.2452469766139984,
          0.24504730105400085,
          0.2448454350233078,
          0.24464130401611328,
          0.2444346398115158,
          0.24422550201416016,
          0.24401378631591797,
          0.2437995970249176,
          0.24358272552490234,
          0.24336305260658264,
          0.2431405484676361,
          0.24291518330574036,
          0.24268683791160583,
          0.24245548248291016,
          0.24222099781036377,
          0.2419833242893219,
          0.24174228310585022,
          0.2414979487657547,
          0.24125008285045624,
          0.24099865555763245,
          0.24074378609657288,
          0.24048466980457306,
          0.24022197723388672,
          0.23995523154735565,
          0.23968438804149628,
          0.23940923810005188,
          0.23912978172302246,
          0.23884578049182892,
          0.2385571002960205,
          0.23826360702514648,
          0.23796525597572327,
          0.23766174912452698,
          0.23735299706459045,
          0.2370387613773346,
          0.2367188185453415,
          0.23639294505119324,
          0.23606112599372864,
          0.23572297394275665,
          0.23537807166576385,
          0.23502659797668457,
          0.23466789722442627,
          0.2343018501996994,
          0.23392805457115173,
          0.23354637622833252,
          0.2331559956073761,
          0.23275689780712128,
          0.23234868049621582,
          0.2319306880235672,
          0.23150253295898438,
          0.23106364905834198,
          0.23061338067054749,
          0.2301512211561203,
          0.2296762764453888,
          0.22918789088726044,
          0.22868521511554718,
          0.22816717624664307,
          0.22763295471668243,
          0.22708137333393097,
          0.22651104629039764,
          0.22592075169086456,
          0.22530889511108398,
          0.22467389702796936,
          0.2240138053894043,
          0.2233266532421112,
          0.22261051833629608,
          0.22186264395713806,
          0.22108063101768494,
          0.22026212513446808,
          0.21940413117408752,
          0.21850427985191345,
          0.21756024658679962,
          0.21657037734985352,
          0.21553394198417664,
          0.21445254981517792,
          0.21333050727844238,
          0.2121766060590744,
          0.21100620925426483,
          0.20984411239624023,
          0.2087251842021942,
          0.20769643783569336,
          0.20681031048297882,
          0.2061111181974411,
          0.20560741424560547,
          0.20524244010448456,
          0.2048901617527008,
          0.20440363883972168,
          0.2036963403224945,
          0.20278623700141907,
          0.20177114009857178,
          0.20076918601989746,
          0.1998681277036667,
          0.19910359382629395,
          0.19846570491790771,
          0.19791623950004578,
          0.1974087953567505,
          0.19690163433551788,
          0.19636626541614532,
          0.19578930735588074,
          0.19517287611961365,
          0.1945325881242752,
          0.19389410316944122,
          0.19328537583351135,
          0.19273057579994202,
          0.19223956763744354,
          0.1918039321899414,
          0.1913987547159195,
          0.1909937560558319,
          0.19056718051433563,
          0.1901150643825531,
          0.1896505355834961,
          0.18919405341148376,
          0.18876339495182037,
          0.1883653700351715,
          0.18799611926078796,
          0.18764401972293854,
          0.1872963309288025,
          0.18694376945495605,
          0.18658344447612762,
          0.18621838092803955,
          0.18585550785064697,
          0.18550193309783936,
          0.18516181409358978,
          0.18483512103557587,
          0.18451759219169617,
          0.18420341610908508,
          0.18388764560222626,
          0.18356874585151672,
          0.18324784934520721,
          0.18292859196662903,
          0.18261393904685974,
          0.1823054999113083,
          0.1820024996995926,
          0.18170295655727386,
          0.18140463531017303,
          0.18110573291778564,
          0.1808060109615326,
          0.18050616979599,
          0.1802072674036026,
          0.1799107789993286,
          0.17961694300174713,
          0.17932568490505219,
          0.179035946726799,
          0.17874689400196075,
          0.17845797538757324,
          0.17816932499408722,
          0.17788082361221313,
          0.17759348452091217,
          0.17730753123760223,
          0.1770232617855072,
          0.17674018442630768,
          0.17645831406116486,
          0.1761772334575653,
          0.1758968085050583,
          0.17561697959899902,
          0.1753380000591278,
          0.1750602126121521,
          0.17478355765342712,
          0.17450830340385437,
          0.17423422634601593,
          0.17396141588687897,
          0.17368949949741364,
          0.17341867089271545,
          0.1731489598751068,
          0.17288027703762054,
          0.17261281609535217,
          0.17234687507152557,
          0.17208212614059448,
          0.1718188226222992,
          0.17155686020851135,
          0.17129608988761902,
          0.1710367202758789,
          0.1707785576581955,
          0.1705218255519867,
          0.17026646435260773,
          0.1700124442577362,
          0.169760063290596,
          0.1695089340209961,
          0.1692591905593872,
          0.16901102662086487,
          0.168764129281044,
          0.16851858794689178,
          0.16827456653118134,
          0.16803185641765594,
          0.16779053211212158,
          0.16755063831806183,
          0.16731210052967072,
          0.1670750081539154,
          0.1668390929698944,
          0.1666046679019928,
          0.1663714349269867,
          0.16613967716693878,
          0.1659090220928192,
          0.16567964851856232,
          0.16545166075229645,
          0.16522473096847534,
          0.16499903798103333,
          0.1647745668888092,
          0.16455134749412537,
          0.1643291711807251,
          0.16410814225673676,
          0.16388824582099915,
          0.16366933286190033,
          0.1634516417980194,
          0.163234680891037,
          0.1630191057920456,
          0.16280433535575867,
          0.1625906527042389,
          0.16237783432006836,
          0.1621660441160202,
          0.16195502877235413,
          0.16174501180648804,
          0.16153584420681,
          0.16132749617099762,
          0.16112001240253448,
          0.16091325879096985,
          0.16070732474327087,
          0.16050207614898682,
          0.1602977067232132,
          0.16009385883808136,
          0.1598908007144928,
          0.1596883237361908,
          0.15948644280433655,
          0.15928515791893005,
          0.15908434987068176,
          0.1588841825723648,
          0.1586843729019165,
          0.15848496556282043,
          0.15828602015972137,
          0.1580873429775238,
          0.15788908302783966,
          0.157691091299057,
          0.15749332308769226,
          0.15729552507400513,
          0.15709809958934784,
          0.15690076351165771,
          0.1567034125328064,
          0.15650606155395508,
          0.1563086211681366,
          0.1561110019683838,
          0.1559133529663086,
          0.15571539103984833,
          0.15551722049713135,
          0.15531890094280243,
          0.1551201492547989,
          0.15492099523544312,
          0.1547214686870575,
          0.15452159941196442,
          0.15432123839855194,
          0.15412044525146484,
          0.1539192497730255,
          0.15371766686439514,
          0.15351560711860657,
          0.1533133089542389,
          0.15311084687709808,
          0.15290820598602295,
          0.15270549058914185,
          0.1525028645992279,
          0.15230056643486023,
          0.15209874510765076,
          0.1518975794315338,
          0.1516973227262497,
          0.15149812400341034,
          0.15130025148391724,
          0.15110397338867188,
          0.1509092152118683,
          0.15071654319763184,
          0.15052571892738342,
          0.1503371298313141,
          0.15015047788619995,
          0.14996609091758728,
          0.14978376030921936,
          0.14960342645645142,
          0.1494249552488327,
          0.14924833178520203,
          0.14907331764698029,
          0.14889992773532867,
          0.14872780442237854,
          0.1485571414232254,
          0.1483876258134842,
          0.1482195258140564,
          0.14805252850055695,
          0.14788666367530823,
          0.14772211015224457,
          0.14755874872207642,
          0.14739678800106049,
          0.14723607897758484,
          0.1470767706632614,
          0.14691902697086334,
          0.14676256477832794,
          0.14660760760307312,
          0.14645400643348694,
          0.14630194008350372,
          0.14615118503570557,
          0.14600172638893127,
          0.14585351943969727,
          0.14570657908916473,
          0.14556081593036652,
          0.14541611075401306,
          0.1452726423740387,
          0.1451302170753479,
          0.14498881995677948,
          0.14484846591949463,
          0.14470909535884857,
          0.14457082748413086,
          0.14443357288837433,
          0.14429716765880585,
          0.14416179060935974,
          0.14402766525745392,
          0.14389429986476898,
          0.14376211166381836,
          0.14363080263137817,
          0.14350047707557678,
          0.14337113499641418,
          0.143242746591568,
          0.1431153267621994,
          0.1429888904094696,
          0.14286330342292786,
          0.1427387297153473,
          0.14261505007743835,
          0.14249229431152344,
          0.14237038791179657,
          0.14224939048290253,
          0.14212939143180847,
          0.1420101821422577,
          0.14189185202121735,
          0.1417745053768158,
          0.1416579782962799,
          0.14154234528541565,
          0.14142753183841705,
          0.14131370186805725,
          0.14120060205459595,
          0.14108853042125702,
          0.14097711443901062,
          0.14086668193340302,
          0.1407569944858551,
          0.14064832031726837,
          0.14054033160209656,
          0.14043322205543518,
          0.14032693207263947,
          0.14022143185138702,
          0.14011681079864502,
          0.14001290500164032,
          0.13990987837314606,
          0.1398075819015503,
          0.13970620930194855,
          0.13960544764995575,
          0.13950547575950623,
          0.13940629363059998,
          0.1393079310655594,
          0.13921038806438446,
          0.13911353051662445,
          0.13901741802692413,
          0.13892200589179993,
          0.138827383518219,
          0.13873347640037537,
          0.13864034414291382,
          0.1385478675365448,
          0.13845624029636383,
          0.13836513459682465,
          0.13827474415302277,
          0.13818521797657013,
          0.13809621334075928,
          0.13800795376300812,
          0.1379203349351883,
          0.13783347606658936,
          0.13774721324443817,
          0.13766160607337952,
          0.1375766396522522,
          0.13749238848686218,
          0.13740864396095276,
          0.1373257339000702,
          0.13724324107170105,
          0.13716144859790802,
          0.13708016276359558,
          0.13699963688850403,
          0.136919766664505,
          0.13684025406837463,
          0.13676145672798157,
          0.13668318092823029,
          0.13660559058189392,
          0.13652844727039337,
          0.13645191490650177,
          0.13637587428092957,
          0.1363004744052887,
          0.13622549176216125,
          0.13615116477012634,
          0.13607724010944366,
          0.13600389659404755,
          0.13593098521232605,
          0.1358586996793747,
          0.13578681647777557,
          0.13571539521217346,
          0.13564448058605194,
          0.1355741024017334,
          0.1355040967464447,
          0.13543453812599182,
          0.13536548614501953,
          0.13529691100120544,
          0.13522861897945404,
          0.13516083359718323,
          0.13509342074394226,
          0.1350264996290207,
          0.1349598467350006,
          0.13489365577697754,
          0.1348278969526291,
          0.1347624510526657,
          0.13469737768173218
         ],
         "yaxis": "y",
         "type": "scattergl"
        },
        {
         "hovertemplate": "variable=val_loss<br>index=%{x}<br>value=%{y}<extra></extra>",
         "legendgroup": "val_loss",
         "line": {
          "color": "#EF553B",
          "dash": "solid"
         },
         "marker": {
          "symbol": "circle"
         },
         "mode": "lines",
         "name": "val_loss",
         "showlegend": true,
         "x": [
          0,
          1,
          2,
          3,
          4,
          5,
          6,
          7,
          8,
          9,
          10,
          11,
          12,
          13,
          14,
          15,
          16,
          17,
          18,
          19,
          20,
          21,
          22,
          23,
          24,
          25,
          26,
          27,
          28,
          29,
          30,
          31,
          32,
          33,
          34,
          35,
          36,
          37,
          38,
          39,
          40,
          41,
          42,
          43,
          44,
          45,
          46,
          47,
          48,
          49,
          50,
          51,
          52,
          53,
          54,
          55,
          56,
          57,
          58,
          59,
          60,
          61,
          62,
          63,
          64,
          65,
          66,
          67,
          68,
          69,
          70,
          71,
          72,
          73,
          74,
          75,
          76,
          77,
          78,
          79,
          80,
          81,
          82,
          83,
          84,
          85,
          86,
          87,
          88,
          89,
          90,
          91,
          92,
          93,
          94,
          95,
          96,
          97,
          98,
          99,
          100,
          101,
          102,
          103,
          104,
          105,
          106,
          107,
          108,
          109,
          110,
          111,
          112,
          113,
          114,
          115,
          116,
          117,
          118,
          119,
          120,
          121,
          122,
          123,
          124,
          125,
          126,
          127,
          128,
          129,
          130,
          131,
          132,
          133,
          134,
          135,
          136,
          137,
          138,
          139,
          140,
          141,
          142,
          143,
          144,
          145,
          146,
          147,
          148,
          149,
          150,
          151,
          152,
          153,
          154,
          155,
          156,
          157,
          158,
          159,
          160,
          161,
          162,
          163,
          164,
          165,
          166,
          167,
          168,
          169,
          170,
          171,
          172,
          173,
          174,
          175,
          176,
          177,
          178,
          179,
          180,
          181,
          182,
          183,
          184,
          185,
          186,
          187,
          188,
          189,
          190,
          191,
          192,
          193,
          194,
          195,
          196,
          197,
          198,
          199,
          200,
          201,
          202,
          203,
          204,
          205,
          206,
          207,
          208,
          209,
          210,
          211,
          212,
          213,
          214,
          215,
          216,
          217,
          218,
          219,
          220,
          221,
          222,
          223,
          224,
          225,
          226,
          227,
          228,
          229,
          230,
          231,
          232,
          233,
          234,
          235,
          236,
          237,
          238,
          239,
          240,
          241,
          242,
          243,
          244,
          245,
          246,
          247,
          248,
          249,
          250,
          251,
          252,
          253,
          254,
          255,
          256,
          257,
          258,
          259,
          260,
          261,
          262,
          263,
          264,
          265,
          266,
          267,
          268,
          269,
          270,
          271,
          272,
          273,
          274,
          275,
          276,
          277,
          278,
          279,
          280,
          281,
          282,
          283,
          284,
          285,
          286,
          287,
          288,
          289,
          290,
          291,
          292,
          293,
          294,
          295,
          296,
          297,
          298,
          299,
          300,
          301,
          302,
          303,
          304,
          305,
          306,
          307,
          308,
          309,
          310,
          311,
          312,
          313,
          314,
          315,
          316,
          317,
          318,
          319,
          320,
          321,
          322,
          323,
          324,
          325,
          326,
          327,
          328,
          329,
          330,
          331,
          332,
          333,
          334,
          335,
          336,
          337,
          338,
          339,
          340,
          341,
          342,
          343,
          344,
          345,
          346,
          347,
          348,
          349,
          350,
          351,
          352,
          353,
          354,
          355,
          356,
          357,
          358,
          359,
          360,
          361,
          362,
          363,
          364,
          365,
          366,
          367,
          368,
          369,
          370,
          371,
          372,
          373,
          374,
          375,
          376,
          377,
          378,
          379,
          380,
          381,
          382,
          383,
          384,
          385,
          386,
          387,
          388,
          389,
          390,
          391,
          392,
          393,
          394,
          395,
          396,
          397,
          398,
          399,
          400,
          401,
          402,
          403,
          404,
          405,
          406,
          407,
          408,
          409,
          410,
          411,
          412,
          413,
          414,
          415,
          416,
          417,
          418,
          419,
          420,
          421,
          422,
          423,
          424,
          425,
          426,
          427,
          428,
          429,
          430,
          431,
          432,
          433,
          434,
          435,
          436,
          437,
          438,
          439,
          440,
          441,
          442,
          443,
          444,
          445,
          446,
          447,
          448,
          449,
          450,
          451,
          452,
          453,
          454,
          455,
          456,
          457,
          458,
          459,
          460,
          461,
          462,
          463,
          464,
          465,
          466,
          467,
          468,
          469,
          470,
          471,
          472,
          473,
          474,
          475,
          476,
          477,
          478,
          479,
          480,
          481,
          482,
          483,
          484,
          485,
          486,
          487,
          488,
          489,
          490,
          491,
          492,
          493,
          494,
          495,
          496,
          497,
          498,
          499,
          500,
          501,
          502,
          503,
          504,
          505,
          506,
          507,
          508,
          509,
          510,
          511,
          512,
          513,
          514,
          515,
          516,
          517,
          518,
          519,
          520,
          521,
          522,
          523,
          524,
          525,
          526,
          527,
          528,
          529,
          530,
          531,
          532,
          533,
          534,
          535,
          536,
          537,
          538,
          539,
          540,
          541,
          542,
          543,
          544,
          545,
          546,
          547,
          548,
          549,
          550,
          551,
          552,
          553,
          554,
          555,
          556,
          557,
          558,
          559,
          560,
          561,
          562,
          563,
          564,
          565,
          566,
          567,
          568,
          569,
          570,
          571,
          572,
          573,
          574,
          575,
          576,
          577,
          578,
          579,
          580,
          581,
          582,
          583,
          584,
          585,
          586,
          587,
          588,
          589,
          590,
          591,
          592,
          593,
          594,
          595,
          596,
          597,
          598,
          599
         ],
         "xaxis": "x",
         "y": [
          14.960551261901855,
          14.381579399108887,
          13.815408706665039,
          13.261894226074219,
          12.721014022827148,
          12.192667007446289,
          11.676712036132812,
          11.173026084899902,
          10.681581497192383,
          10.202451705932617,
          9.735811233520508,
          9.281900405883789,
          8.840986251831055,
          8.413337707519531,
          7.9991888999938965,
          7.598731994628906,
          7.212115287780762,
          6.839447975158691,
          6.480792999267578,
          6.136172294616699,
          5.805546760559082,
          5.488820552825928,
          5.185830593109131,
          4.896355152130127,
          4.620116233825684,
          4.356790542602539,
          4.106019020080566,
          3.8674144744873047,
          3.6405701637268066,
          3.425065517425537,
          3.2204692363739014,
          3.0263476371765137,
          2.842263698577881,
          2.667787551879883,
          2.502488136291504,
          2.3459486961364746,
          2.197758913040161,
          2.0575215816497803,
          1.9248554706573486,
          1.799391508102417,
          1.6807804107666016,
          1.5686885118484497,
          1.4627978801727295,
          1.3628120422363281,
          1.2684471607208252,
          1.1794407367706299,
          1.0955448150634766,
          1.016526222229004,
          0.9421690106391907,
          0.8722696304321289,
          0.8066374063491821,
          0.7450942993164062,
          0.6874727010726929,
          0.6336150765419006,
          0.5833710432052612,
          0.5365992784500122,
          0.4931631088256836,
          0.4529331624507904,
          0.4157818853855133,
          0.3815869390964508,
          0.35022807121276855,
          0.32158786058425903,
          0.2955491840839386,
          0.2719970643520355,
          0.2508174479007721,
          0.23189738392829895,
          0.2151244580745697,
          0.20038752257823944,
          0.18757659196853638,
          0.17658355832099915,
          0.16730156540870667,
          0.1596263349056244,
          0.15345612168312073,
          0.14869189262390137,
          0.14523744583129883,
          0.14300057291984558,
          0.14189200103282928,
          0.14182664453983307,
          0.14272308349609375,
          0.14450347423553467,
          0.1470944583415985,
          0.15042564272880554,
          0.15443125367164612,
          0.15904852747917175,
          0.1642184555530548,
          0.1698852926492691,
          0.17599621415138245,
          0.18250204622745514,
          0.1893557757139206,
          0.19651326537132263,
          0.2039335072040558,
          0.21157722175121307,
          0.2194078266620636,
          0.227390319108963,
          0.2354929894208908,
          0.24368441104888916,
          0.25193655490875244,
          0.26022231578826904,
          0.26851704716682434,
          0.27679693698883057,
          0.28503987193107605,
          0.29322636127471924,
          0.30133694410324097,
          0.30935513973236084,
          0.3172646462917328,
          0.3250511586666107,
          0.3327011168003082,
          0.34020307660102844,
          0.34754613041877747,
          0.3547207713127136,
          0.36171847581863403,
          0.3685328960418701,
          0.37515658140182495,
          0.3815847933292389,
          0.3878132402896881,
          0.3938385546207428,
          0.39965882897377014,
          0.405270516872406,
          0.41067415475845337,
          0.4158690869808197,
          0.42085474729537964,
          0.42563319206237793,
          0.43020519614219666,
          0.43457284569740295,
          0.4387390613555908,
          0.4427056312561035,
          0.4464759826660156,
          0.45005473494529724,
          0.4534451961517334,
          0.4566507935523987,
          0.45967674255371094,
          0.46252769231796265,
          0.465207576751709,
          0.4677217900753021,
          0.470075786113739,
          0.4722735285758972,
          0.47432056069374084,
          0.4762226641178131,
          0.4779844880104065,
          0.4796113967895508,
          0.4811086058616638,
          0.4824813902378082,
          0.4837343692779541,
          0.48487329483032227,
          0.4859023094177246,
          0.48682695627212524,
          0.48765236139297485,
          0.4883821904659271,
          0.48902177810668945,
          0.489574670791626,
          0.490046888589859,
          0.49044156074523926,
          0.49076253175735474,
          0.491014301776886,
          0.49120086431503296,
          0.4913259446620941,
          0.4913925230503082,
          0.49140486121177673,
          0.4913654327392578,
          0.491277277469635,
          0.4911445081233978,
          0.49096933007240295,
          0.4907546937465668,
          0.4905025064945221,
          0.4902166724205017,
          0.4898982644081116,
          0.489549458026886,
          0.4891739785671234,
          0.48877233266830444,
          0.4883468747138977,
          0.4878995418548584,
          0.4874311089515686,
          0.48694443702697754,
          0.48644059896469116,
          0.485920250415802,
          0.4853852689266205,
          0.48483696579933167,
          0.48427629470825195,
          0.4837034344673157,
          0.48312073945999146,
          0.48252803087234497,
          0.4819258749485016,
          0.4813157916069031,
          0.4806981086730957,
          0.4800729751586914,
          0.47944116592407227,
          0.47880348563194275,
          0.47815942764282227,
          0.4775100648403168,
          0.47685545682907104,
          0.4761955142021179,
          0.4755304455757141,
          0.4748610854148865,
          0.47418659925460815,
          0.4735071063041687,
          0.47282296419143677,
          0.47213417291641235,
          0.4714401364326477,
          0.47074103355407715,
          0.47003692388534546,
          0.469327837228775,
          0.4686122536659241,
          0.4678908884525299,
          0.4671638607978821,
          0.4664301872253418,
          0.465689480304718,
          0.4649418890476227,
          0.46418672800064087,
          0.46342331171035767,
          0.4626518785953522,
          0.46187132596969604,
          0.4610818922519684,
          0.4602819085121155,
          0.45947200059890747,
          0.4586513638496399,
          0.4578190743923187,
          0.45697441697120667,
          0.45611676573753357,
          0.4552462100982666,
          0.4543609023094177,
          0.45346131920814514,
          0.4525455832481384,
          0.4516131281852722,
          0.45066332817077637,
          0.4496954083442688,
          0.44870805740356445,
          0.4477001130580902,
          0.44667038321495056,
          0.4456184506416321,
          0.44454294443130493,
          0.44344156980514526,
          0.4423139691352844,
          0.44115781784057617,
          0.4399718642234802,
          0.4387548565864563,
          0.4375039041042328,
          0.4362177848815918,
          0.4348936080932617,
          0.4335293173789978,
          0.43212252855300903,
          0.4306694567203522,
          0.42916688323020935,
          0.4276120066642761,
          0.4260012209415436,
          0.4243289530277252,
          0.4225912094116211,
          0.42078280448913574,
          0.4188961386680603,
          0.4169263243675232,
          0.41486483812332153,
          0.41270264983177185,
          0.4104310870170593,
          0.40803781151771545,
          0.4055112898349762,
          0.40283674001693726,
          0.3999972939491272,
          0.3969742953777313,
          0.3937463164329529,
          0.3902891278266907,
          0.3865737318992615,
          0.38256868720054626,
          0.37823691964149475,
          0.37353822588920593,
          0.36842647194862366,
          0.36285400390625,
          0.3567684590816498,
          0.3501214385032654,
          0.3428686559200287,
          0.33498415350914,
          0.3264720141887665,
          0.3173888623714447,
          0.307873398065567,
          0.298181414604187,
          0.2887208163738251,
          0.2800624370574951,
          0.27289438247680664,
          0.2678860127925873,
          0.26549777388572693,
          0.2658413052558899,
          0.2686813771724701,
          0.27353712916374207,
          0.27979201078414917,
          0.286787748336792,
          0.293895423412323,
          0.30056729912757874,
          0.30637413263320923,
          0.3110119700431824,
          0.3142955005168915,
          0.31614232063293457,
          0.3165562152862549,
          0.3156188130378723,
          0.3134858310222626,
          0.3103857934474945,
          0.30662238597869873,
          0.3025641441345215,
          0.2986220419406891,
          0.29521089792251587,
          0.2926906645298004,
          0.2913133502006531,
          0.29118162393569946,
          0.2922383248806,
          0.2942870259284973,
          0.297030508518219,
          0.3001154363155365,
          0.303183376789093,
          0.3059097230434418,
          0.3080402910709381,
          0.30940914154052734,
          0.30994662642478943,
          0.3096775412559509,
          0.3087095022201538,
          0.3072138726711273,
          0.30540674924850464,
          0.30352309346199036,
          0.3017859160900116,
          0.30038541555404663,
          0.29945164918899536,
          0.2990456521511078,
          0.2991560995578766,
          0.29970574378967285,
          0.3005688488483429,
          0.3015919327735901,
          0.30261555314064026,
          0.30349400639533997,
          0.30411356687545776,
          0.30440178513526917,
          0.3043321669101715,
          0.30392327904701233,
          0.30323097109794617,
          0.30233827233314514,
          0.30134347081184387,
          0.3003465235233307,
          0.29943615198135376,
          0.2986809313297272,
          0.2981218695640564,
          0.29777178168296814,
          0.297613263130188,
          0.2976086437702179,
          0.2977023124694824,
          0.2978329658508301,
          0.2979394793510437,
          0.2979697585105896,
          0.2978857457637787,
          0.29766759276390076,
          0.2973112463951111,
          0.29683154821395874,
          0.29625484347343445,
          0.2956158220767975,
          0.2949534058570862,
          0.2943039536476135,
          0.29369843006134033,
          0.2931593656539917,
          0.2926979660987854,
          0.2923153340816498,
          0.2920015752315521,
          0.29174095392227173,
          0.2915114164352417,
          0.2912910282611847,
          0.29105764627456665,
          0.2907939851284027,
          0.2904873490333557,
          0.2901323437690735,
          0.28972935676574707,
          0.28928500413894653,
          0.2888094186782837,
          0.28831610083580017,
          0.2878193259239197,
          0.28733211755752563,
          0.2868659496307373,
          0.2864281237125397,
          0.2860223054885864,
          0.2856488823890686,
          0.28530412912368774,
          0.2849821150302887,
          0.28467512130737305,
          0.28437525033950806,
          0.28407394886016846,
          0.2837652862071991,
          0.28344470262527466,
          0.28311020135879517,
          0.2827613055706024,
          0.28240057826042175,
          0.2820310890674591,
          0.28165730834007263,
          0.28128567337989807,
          0.28091955184936523,
          0.2805634140968323,
          0.280220091342926,
          0.2798914313316345,
          0.27957671880722046,
          0.2792753279209137,
          0.2789842486381531,
          0.2787017822265625,
          0.2784235179424286,
          0.2781469225883484,
          0.27786877751350403,
          0.2775878608226776,
          0.2773018479347229,
          0.2770104706287384,
          0.2767147123813629,
          0.2764149308204651,
          0.2761126160621643,
          0.2758098840713501,
          0.2755076289176941,
          0.27520737051963806,
          0.27491018176078796,
          0.27461662888526917,
          0.27432623505592346,
          0.2740388810634613,
          0.27375301718711853,
          0.27346745133399963,
          0.2731809914112091,
          0.27289143204689026,
          0.272598534822464,
          0.2723005414009094,
          0.27199655771255493,
          0.27168625593185425,
          0.271369069814682,
          0.2710452973842621,
          0.2707158923149109,
          0.27037954330444336,
          0.27003753185272217,
          0.26968997716903687,
          0.269336462020874,
          0.26897770166397095,
          0.26861321926116943,
          0.2682417035102844,
          0.2678634822368622,
          0.26747649908065796,
          0.2670809328556061,
          0.26667505502700806,
          0.26625800132751465,
          0.2658291757106781,
          0.26538723707199097,
          0.2649323344230652,
          0.2644633650779724,
          0.2639802098274231,
          0.2634827196598053,
          0.2629701495170593,
          0.2624431550502777,
          0.26190072298049927,
          0.26134437322616577,
          0.2607730031013489,
          0.260187029838562,
          0.25958651304244995,
          0.25897282361984253,
          0.2583456039428711,
          0.2577068507671356,
          0.2570573687553406,
          0.2563994228839874,
          0.2557346522808075,
          0.25506702065467834,
          0.254399836063385,
          0.25373685359954834,
          0.2530824542045593,
          0.2524419128894806,
          0.2518202066421509,
          0.2512229084968567,
          0.2506546378135681,
          0.25012004375457764,
          0.24962230026721954,
          0.24916382133960724,
          0.24874529242515564,
          0.24836573004722595,
          0.24802300333976746,
          0.2477126568555832,
          0.24742946028709412,
          0.24716727435588837,
          0.24691978096961975,
          0.24668049812316895,
          0.24644525349140167,
          0.24620942771434784,
          0.24597163498401642,
          0.2457306832075119,
          0.24548837542533875,
          0.2452462911605835,
          0.24500732123851776,
          0.24477383494377136,
          0.244548037648201,
          0.24433055520057678,
          0.24412207305431366,
          0.2439202517271042,
          0.24372422695159912,
          0.2435307502746582,
          0.243337944149971,
          0.2431432008743286,
          0.24294547736644745,
          0.2427448034286499,
          0.24254059791564941,
          0.24233536422252655,
          0.24213019013404846,
          0.24192722141742706,
          0.24172794818878174,
          0.24153339862823486,
          0.2413446605205536,
          0.2411617785692215,
          0.2409830540418625,
          0.24080881476402283,
          0.24063685536384583,
          0.24046678841114044,
          0.2402976006269455,
          0.24012956023216248,
          0.23996266722679138,
          0.239797443151474,
          0.23963482677936554,
          0.23947560787200928,
          0.23932011425495148,
          0.23916900157928467,
          0.2390211820602417,
          0.238876074552536,
          0.23873385787010193,
          0.23859255015850067,
          0.23845236003398895,
          0.23831228911876678,
          0.2381725013256073,
          0.23803336918354034,
          0.2378949671983719,
          0.2377575933933258,
          0.23762273788452148,
          0.23748965561389923,
          0.23735924065113068,
          0.23723065853118896,
          0.23710453510284424,
          0.236979678273201,
          0.23685626685619354,
          0.2367340624332428,
          0.23661251366138458,
          0.23649144172668457,
          0.23637175559997559,
          0.2362534999847412,
          0.23613691329956055,
          0.23602251708507538,
          0.2359098196029663,
          0.23579910397529602,
          0.23569044470787048,
          0.23558339476585388,
          0.23547717928886414,
          0.23537269234657288,
          0.23526859283447266,
          0.23516583442687988,
          0.23506346344947815,
          0.2349626123905182,
          0.2348628044128418,
          0.23476453125476837,
          0.23466768860816956,
          0.2345716655254364,
          0.23447713255882263,
          0.23438365757465363,
          0.23429091274738312,
          0.2341988980770111,
          0.23410801589488983,
          0.23401768505573273,
          0.233927920460701,
          0.23383918404579163,
          0.23375146090984344,
          0.2336646020412445,
          0.23357823491096497,
          0.23349341750144958,
          0.2334095984697342,
          0.23332655429840088,
          0.2332446128129959,
          0.23316331207752228,
          0.23308280110359192,
          0.23300257325172424,
          0.23292365670204163,
          0.23284485936164856,
          0.23276738822460175,
          0.2326909750699997,
          0.23261547088623047,
          0.23254041373729706,
          0.23246696591377258,
          0.2323937863111496,
          0.23232150077819824,
          0.23224970698356628,
          0.2321789264678955,
          0.23210792243480682,
          0.23203818500041962,
          0.2319694310426712,
          0.23190124332904816,
          0.23183350265026093,
          0.2317667007446289,
          0.23170003294944763,
          0.2316344529390335,
          0.23156900703907013,
          0.2315044105052948,
          0.23144038021564484,
          0.23137693107128143,
          0.23131391406059265,
          0.23125150799751282,
          0.23118920624256134,
          0.23112817108631134,
          0.2310669869184494,
          0.2310062199831009,
          0.2309461534023285,
          0.23088669776916504,
          0.2308274805545807,
          0.23076900839805603,
          0.23071065545082092,
          0.23065301775932312,
          0.23059558868408203
         ],
         "yaxis": "y",
         "type": "scattergl"
        }
       ],
       "layout": {
        "template": {
         "data": {
          "bar": [
           {
            "error_x": {
             "color": "#2a3f5f"
            },
            "error_y": {
             "color": "#2a3f5f"
            },
            "marker": {
             "line": {
              "color": "#E5ECF6",
              "width": 0.5
             },
             "pattern": {
              "fillmode": "overlay",
              "size": 10,
              "solidity": 0.2
             }
            },
            "type": "bar"
           }
          ],
          "barpolar": [
           {
            "marker": {
             "line": {
              "color": "#E5ECF6",
              "width": 0.5
             },
             "pattern": {
              "fillmode": "overlay",
              "size": 10,
              "solidity": 0.2
             }
            },
            "type": "barpolar"
           }
          ],
          "carpet": [
           {
            "aaxis": {
             "endlinecolor": "#2a3f5f",
             "gridcolor": "white",
             "linecolor": "white",
             "minorgridcolor": "white",
             "startlinecolor": "#2a3f5f"
            },
            "baxis": {
             "endlinecolor": "#2a3f5f",
             "gridcolor": "white",
             "linecolor": "white",
             "minorgridcolor": "white",
             "startlinecolor": "#2a3f5f"
            },
            "type": "carpet"
           }
          ],
          "choropleth": [
           {
            "colorbar": {
             "outlinewidth": 0,
             "ticks": ""
            },
            "type": "choropleth"
           }
          ],
          "contour": [
           {
            "colorbar": {
             "outlinewidth": 0,
             "ticks": ""
            },
            "colorscale": [
             [
              0.0,
              "#0d0887"
             ],
             [
              0.1111111111111111,
              "#46039f"
             ],
             [
              0.2222222222222222,
              "#7201a8"
             ],
             [
              0.3333333333333333,
              "#9c179e"
             ],
             [
              0.4444444444444444,
              "#bd3786"
             ],
             [
              0.5555555555555556,
              "#d8576b"
             ],
             [
              0.6666666666666666,
              "#ed7953"
             ],
             [
              0.7777777777777778,
              "#fb9f3a"
             ],
             [
              0.8888888888888888,
              "#fdca26"
             ],
             [
              1.0,
              "#f0f921"
             ]
            ],
            "type": "contour"
           }
          ],
          "contourcarpet": [
           {
            "colorbar": {
             "outlinewidth": 0,
             "ticks": ""
            },
            "type": "contourcarpet"
           }
          ],
          "heatmap": [
           {
            "colorbar": {
             "outlinewidth": 0,
             "ticks": ""
            },
            "colorscale": [
             [
              0.0,
              "#0d0887"
             ],
             [
              0.1111111111111111,
              "#46039f"
             ],
             [
              0.2222222222222222,
              "#7201a8"
             ],
             [
              0.3333333333333333,
              "#9c179e"
             ],
             [
              0.4444444444444444,
              "#bd3786"
             ],
             [
              0.5555555555555556,
              "#d8576b"
             ],
             [
              0.6666666666666666,
              "#ed7953"
             ],
             [
              0.7777777777777778,
              "#fb9f3a"
             ],
             [
              0.8888888888888888,
              "#fdca26"
             ],
             [
              1.0,
              "#f0f921"
             ]
            ],
            "type": "heatmap"
           }
          ],
          "heatmapgl": [
           {
            "colorbar": {
             "outlinewidth": 0,
             "ticks": ""
            },
            "colorscale": [
             [
              0.0,
              "#0d0887"
             ],
             [
              0.1111111111111111,
              "#46039f"
             ],
             [
              0.2222222222222222,
              "#7201a8"
             ],
             [
              0.3333333333333333,
              "#9c179e"
             ],
             [
              0.4444444444444444,
              "#bd3786"
             ],
             [
              0.5555555555555556,
              "#d8576b"
             ],
             [
              0.6666666666666666,
              "#ed7953"
             ],
             [
              0.7777777777777778,
              "#fb9f3a"
             ],
             [
              0.8888888888888888,
              "#fdca26"
             ],
             [
              1.0,
              "#f0f921"
             ]
            ],
            "type": "heatmapgl"
           }
          ],
          "histogram": [
           {
            "marker": {
             "pattern": {
              "fillmode": "overlay",
              "size": 10,
              "solidity": 0.2
             }
            },
            "type": "histogram"
           }
          ],
          "histogram2d": [
           {
            "colorbar": {
             "outlinewidth": 0,
             "ticks": ""
            },
            "colorscale": [
             [
              0.0,
              "#0d0887"
             ],
             [
              0.1111111111111111,
              "#46039f"
             ],
             [
              0.2222222222222222,
              "#7201a8"
             ],
             [
              0.3333333333333333,
              "#9c179e"
             ],
             [
              0.4444444444444444,
              "#bd3786"
             ],
             [
              0.5555555555555556,
              "#d8576b"
             ],
             [
              0.6666666666666666,
              "#ed7953"
             ],
             [
              0.7777777777777778,
              "#fb9f3a"
             ],
             [
              0.8888888888888888,
              "#fdca26"
             ],
             [
              1.0,
              "#f0f921"
             ]
            ],
            "type": "histogram2d"
           }
          ],
          "histogram2dcontour": [
           {
            "colorbar": {
             "outlinewidth": 0,
             "ticks": ""
            },
            "colorscale": [
             [
              0.0,
              "#0d0887"
             ],
             [
              0.1111111111111111,
              "#46039f"
             ],
             [
              0.2222222222222222,
              "#7201a8"
             ],
             [
              0.3333333333333333,
              "#9c179e"
             ],
             [
              0.4444444444444444,
              "#bd3786"
             ],
             [
              0.5555555555555556,
              "#d8576b"
             ],
             [
              0.6666666666666666,
              "#ed7953"
             ],
             [
              0.7777777777777778,
              "#fb9f3a"
             ],
             [
              0.8888888888888888,
              "#fdca26"
             ],
             [
              1.0,
              "#f0f921"
             ]
            ],
            "type": "histogram2dcontour"
           }
          ],
          "mesh3d": [
           {
            "colorbar": {
             "outlinewidth": 0,
             "ticks": ""
            },
            "type": "mesh3d"
           }
          ],
          "parcoords": [
           {
            "line": {
             "colorbar": {
              "outlinewidth": 0,
              "ticks": ""
             }
            },
            "type": "parcoords"
           }
          ],
          "pie": [
           {
            "automargin": true,
            "type": "pie"
           }
          ],
          "scatter": [
           {
            "marker": {
             "colorbar": {
              "outlinewidth": 0,
              "ticks": ""
             }
            },
            "type": "scatter"
           }
          ],
          "scatter3d": [
           {
            "line": {
             "colorbar": {
              "outlinewidth": 0,
              "ticks": ""
             }
            },
            "marker": {
             "colorbar": {
              "outlinewidth": 0,
              "ticks": ""
             }
            },
            "type": "scatter3d"
           }
          ],
          "scattercarpet": [
           {
            "marker": {
             "colorbar": {
              "outlinewidth": 0,
              "ticks": ""
             }
            },
            "type": "scattercarpet"
           }
          ],
          "scattergeo": [
           {
            "marker": {
             "colorbar": {
              "outlinewidth": 0,
              "ticks": ""
             }
            },
            "type": "scattergeo"
           }
          ],
          "scattergl": [
           {
            "marker": {
             "colorbar": {
              "outlinewidth": 0,
              "ticks": ""
             }
            },
            "type": "scattergl"
           }
          ],
          "scattermapbox": [
           {
            "marker": {
             "colorbar": {
              "outlinewidth": 0,
              "ticks": ""
             }
            },
            "type": "scattermapbox"
           }
          ],
          "scatterpolar": [
           {
            "marker": {
             "colorbar": {
              "outlinewidth": 0,
              "ticks": ""
             }
            },
            "type": "scatterpolar"
           }
          ],
          "scatterpolargl": [
           {
            "marker": {
             "colorbar": {
              "outlinewidth": 0,
              "ticks": ""
             }
            },
            "type": "scatterpolargl"
           }
          ],
          "scatterternary": [
           {
            "marker": {
             "colorbar": {
              "outlinewidth": 0,
              "ticks": ""
             }
            },
            "type": "scatterternary"
           }
          ],
          "surface": [
           {
            "colorbar": {
             "outlinewidth": 0,
             "ticks": ""
            },
            "colorscale": [
             [
              0.0,
              "#0d0887"
             ],
             [
              0.1111111111111111,
              "#46039f"
             ],
             [
              0.2222222222222222,
              "#7201a8"
             ],
             [
              0.3333333333333333,
              "#9c179e"
             ],
             [
              0.4444444444444444,
              "#bd3786"
             ],
             [
              0.5555555555555556,
              "#d8576b"
             ],
             [
              0.6666666666666666,
              "#ed7953"
             ],
             [
              0.7777777777777778,
              "#fb9f3a"
             ],
             [
              0.8888888888888888,
              "#fdca26"
             ],
             [
              1.0,
              "#f0f921"
             ]
            ],
            "type": "surface"
           }
          ],
          "table": [
           {
            "cells": {
             "fill": {
              "color": "#EBF0F8"
             },
             "line": {
              "color": "white"
             }
            },
            "header": {
             "fill": {
              "color": "#C8D4E3"
             },
             "line": {
              "color": "white"
             }
            },
            "type": "table"
           }
          ]
         },
         "layout": {
          "annotationdefaults": {
           "arrowcolor": "#2a3f5f",
           "arrowhead": 0,
           "arrowwidth": 1
          },
          "autotypenumbers": "strict",
          "coloraxis": {
           "colorbar": {
            "outlinewidth": 0,
            "ticks": ""
           }
          },
          "colorscale": {
           "diverging": [
            [
             0,
             "#8e0152"
            ],
            [
             0.1,
             "#c51b7d"
            ],
            [
             0.2,
             "#de77ae"
            ],
            [
             0.3,
             "#f1b6da"
            ],
            [
             0.4,
             "#fde0ef"
            ],
            [
             0.5,
             "#f7f7f7"
            ],
            [
             0.6,
             "#e6f5d0"
            ],
            [
             0.7,
             "#b8e186"
            ],
            [
             0.8,
             "#7fbc41"
            ],
            [
             0.9,
             "#4d9221"
            ],
            [
             1,
             "#276419"
            ]
           ],
           "sequential": [
            [
             0.0,
             "#0d0887"
            ],
            [
             0.1111111111111111,
             "#46039f"
            ],
            [
             0.2222222222222222,
             "#7201a8"
            ],
            [
             0.3333333333333333,
             "#9c179e"
            ],
            [
             0.4444444444444444,
             "#bd3786"
            ],
            [
             0.5555555555555556,
             "#d8576b"
            ],
            [
             0.6666666666666666,
             "#ed7953"
            ],
            [
             0.7777777777777778,
             "#fb9f3a"
            ],
            [
             0.8888888888888888,
             "#fdca26"
            ],
            [
             1.0,
             "#f0f921"
            ]
           ],
           "sequentialminus": [
            [
             0.0,
             "#0d0887"
            ],
            [
             0.1111111111111111,
             "#46039f"
            ],
            [
             0.2222222222222222,
             "#7201a8"
            ],
            [
             0.3333333333333333,
             "#9c179e"
            ],
            [
             0.4444444444444444,
             "#bd3786"
            ],
            [
             0.5555555555555556,
             "#d8576b"
            ],
            [
             0.6666666666666666,
             "#ed7953"
            ],
            [
             0.7777777777777778,
             "#fb9f3a"
            ],
            [
             0.8888888888888888,
             "#fdca26"
            ],
            [
             1.0,
             "#f0f921"
            ]
           ]
          },
          "colorway": [
           "#636efa",
           "#EF553B",
           "#00cc96",
           "#ab63fa",
           "#FFA15A",
           "#19d3f3",
           "#FF6692",
           "#B6E880",
           "#FF97FF",
           "#FECB52"
          ],
          "font": {
           "color": "#2a3f5f"
          },
          "geo": {
           "bgcolor": "white",
           "lakecolor": "white",
           "landcolor": "#E5ECF6",
           "showlakes": true,
           "showland": true,
           "subunitcolor": "white"
          },
          "hoverlabel": {
           "align": "left"
          },
          "hovermode": "closest",
          "mapbox": {
           "style": "light"
          },
          "paper_bgcolor": "white",
          "plot_bgcolor": "#E5ECF6",
          "polar": {
           "angularaxis": {
            "gridcolor": "white",
            "linecolor": "white",
            "ticks": ""
           },
           "bgcolor": "#E5ECF6",
           "radialaxis": {
            "gridcolor": "white",
            "linecolor": "white",
            "ticks": ""
           }
          },
          "scene": {
           "xaxis": {
            "backgroundcolor": "#E5ECF6",
            "gridcolor": "white",
            "gridwidth": 2,
            "linecolor": "white",
            "showbackground": true,
            "ticks": "",
            "zerolinecolor": "white"
           },
           "yaxis": {
            "backgroundcolor": "#E5ECF6",
            "gridcolor": "white",
            "gridwidth": 2,
            "linecolor": "white",
            "showbackground": true,
            "ticks": "",
            "zerolinecolor": "white"
           },
           "zaxis": {
            "backgroundcolor": "#E5ECF6",
            "gridcolor": "white",
            "gridwidth": 2,
            "linecolor": "white",
            "showbackground": true,
            "ticks": "",
            "zerolinecolor": "white"
           }
          },
          "shapedefaults": {
           "line": {
            "color": "#2a3f5f"
           }
          },
          "ternary": {
           "aaxis": {
            "gridcolor": "white",
            "linecolor": "white",
            "ticks": ""
           },
           "baxis": {
            "gridcolor": "white",
            "linecolor": "white",
            "ticks": ""
           },
           "bgcolor": "#E5ECF6",
           "caxis": {
            "gridcolor": "white",
            "linecolor": "white",
            "ticks": ""
           }
          },
          "title": {
           "x": 0.05
          },
          "xaxis": {
           "automargin": true,
           "gridcolor": "white",
           "linecolor": "white",
           "ticks": "",
           "title": {
            "standoff": 15
           },
           "zerolinecolor": "white",
           "zerolinewidth": 2
          },
          "yaxis": {
           "automargin": true,
           "gridcolor": "white",
           "linecolor": "white",
           "ticks": "",
           "title": {
            "standoff": 15
           },
           "zerolinecolor": "white",
           "zerolinewidth": 2
          }
         }
        },
        "xaxis": {
         "anchor": "y",
         "domain": [
          0.0,
          1.0
         ],
         "title": {
          "text": "index"
         }
        },
        "yaxis": {
         "anchor": "x",
         "domain": [
          0.0,
          1.0
         ],
         "title": {
          "text": "value"
         }
        },
        "legend": {
         "title": {
          "text": "variable"
         },
         "tracegroupgap": 0
        },
        "margin": {
         "t": 60
        }
       },
       "config": {
        "plotlyServerURL": "https://plot.ly"
       }
      },
      "text/html": "<div>                            <div id=\"f8d758a9-8d68-4e95-817e-d477f001a234\" class=\"plotly-graph-div\" style=\"height:525px; width:100%;\"></div>            <script type=\"text/javascript\">                require([\"plotly\"], function(Plotly) {                    window.PLOTLYENV=window.PLOTLYENV || {};                                    if (document.getElementById(\"f8d758a9-8d68-4e95-817e-d477f001a234\")) {                    Plotly.newPlot(                        \"f8d758a9-8d68-4e95-817e-d477f001a234\",                        [{\"hovertemplate\":\"variable=loss<br>index=%{x}<br>value=%{y}<extra></extra>\",\"legendgroup\":\"loss\",\"line\":{\"color\":\"#636efa\",\"dash\":\"solid\"},\"marker\":{\"symbol\":\"circle\"},\"mode\":\"lines\",\"name\":\"loss\",\"showlegend\":true,\"x\":[0,1,2,3,4,5,6,7,8,9,10,11,12,13,14,15,16,17,18,19,20,21,22,23,24,25,26,27,28,29,30,31,32,33,34,35,36,37,38,39,40,41,42,43,44,45,46,47,48,49,50,51,52,53,54,55,56,57,58,59,60,61,62,63,64,65,66,67,68,69,70,71,72,73,74,75,76,77,78,79,80,81,82,83,84,85,86,87,88,89,90,91,92,93,94,95,96,97,98,99,100,101,102,103,104,105,106,107,108,109,110,111,112,113,114,115,116,117,118,119,120,121,122,123,124,125,126,127,128,129,130,131,132,133,134,135,136,137,138,139,140,141,142,143,144,145,146,147,148,149,150,151,152,153,154,155,156,157,158,159,160,161,162,163,164,165,166,167,168,169,170,171,172,173,174,175,176,177,178,179,180,181,182,183,184,185,186,187,188,189,190,191,192,193,194,195,196,197,198,199,200,201,202,203,204,205,206,207,208,209,210,211,212,213,214,215,216,217,218,219,220,221,222,223,224,225,226,227,228,229,230,231,232,233,234,235,236,237,238,239,240,241,242,243,244,245,246,247,248,249,250,251,252,253,254,255,256,257,258,259,260,261,262,263,264,265,266,267,268,269,270,271,272,273,274,275,276,277,278,279,280,281,282,283,284,285,286,287,288,289,290,291,292,293,294,295,296,297,298,299,300,301,302,303,304,305,306,307,308,309,310,311,312,313,314,315,316,317,318,319,320,321,322,323,324,325,326,327,328,329,330,331,332,333,334,335,336,337,338,339,340,341,342,343,344,345,346,347,348,349,350,351,352,353,354,355,356,357,358,359,360,361,362,363,364,365,366,367,368,369,370,371,372,373,374,375,376,377,378,379,380,381,382,383,384,385,386,387,388,389,390,391,392,393,394,395,396,397,398,399,400,401,402,403,404,405,406,407,408,409,410,411,412,413,414,415,416,417,418,419,420,421,422,423,424,425,426,427,428,429,430,431,432,433,434,435,436,437,438,439,440,441,442,443,444,445,446,447,448,449,450,451,452,453,454,455,456,457,458,459,460,461,462,463,464,465,466,467,468,469,470,471,472,473,474,475,476,477,478,479,480,481,482,483,484,485,486,487,488,489,490,491,492,493,494,495,496,497,498,499,500,501,502,503,504,505,506,507,508,509,510,511,512,513,514,515,516,517,518,519,520,521,522,523,524,525,526,527,528,529,530,531,532,533,534,535,536,537,538,539,540,541,542,543,544,545,546,547,548,549,550,551,552,553,554,555,556,557,558,559,560,561,562,563,564,565,566,567,568,569,570,571,572,573,574,575,576,577,578,579,580,581,582,583,584,585,586,587,588,589,590,591,592,593,594,595,596,597,598,599],\"xaxis\":\"x\",\"y\":[20.602638244628906,19.939258575439453,19.286792755126953,18.644601821899414,18.012592315673828,17.390888214111328,16.779600143432617,16.178817749023438,15.588664054870605,15.009356498718262,14.441207885742188,13.884602546691895,13.339967727661133,12.807741165161133,12.288342475891113,11.7821683883667,11.289575576782227,10.810894966125488,10.346436500549316,9.896490097045898,9.46131706237793,9.04112434387207,8.636062622070312,8.246200561523438,7.871528625488281,7.511946678161621,7.167281150817871,6.837285041809082,6.52164363861084,6.219998836517334,5.931941986083984,5.657027721405029,5.3947882652282715,5.144731521606445,4.906355857849121,4.6791534423828125,4.462615013122559,4.256236553192139,4.059523105621338,3.871994733810425,3.693183183670044,3.52264404296875,3.3599495887756348,3.2046923637390137,3.0564911365509033,2.914980173110962,2.7798218727111816,2.6506991386413574,2.5273139476776123,2.4093902111053467,2.2966723442077637,2.188920259475708,2.085916042327881,1.9874536991119385,1.8933460712432861,1.8034160137176514,1.7175025939941406,1.635453462600708,1.5571292638778687,1.4823957681655884,1.4111292362213135,1.3432109355926514,1.2785297632217407,1.216975212097168,1.1584432125091553,1.1028320789337158,1.050041913986206,0.999974250793457,0.952532172203064,0.9076188802719116,0.8651391863822937,0.8249984979629517,0.7871013879776001,0.7513559460639954,0.7176687717437744,0.6859487295150757,0.6561060547828674,0.6280524134635925,0.6017011404037476,0.5769685506820679,0.5537722110748291,0.53203284740448,0.5116745233535767,0.49262237548828125,0.4748064875602722,0.4581577777862549,0.44261112809181213,0.4281046986579895,0.41457897424697876,0.4019772410392761,0.39024582505226135,0.37933260202407837,0.36918991804122925,0.35977062582969666,0.35103124380111694,0.3429291844367981,0.33542600274086,0.3284832239151001,0.3220657706260681,0.3161391019821167,0.3106716573238373,0.3056330680847168,0.3009944558143616,0.29672861099243164,0.29280993342399597,0.2892138659954071,0.28591737151145935,0.28289923071861267,0.2801385819911957,0.27761608362197876,0.27531400322914124,0.27321547269821167,0.2713037133216858,0.26956453919410706,0.26798370480537415,0.2665478587150574,0.2652450203895569,0.26406341791152954,0.26299312710762024,0.2620237469673157,0.2611461579799652,0.2603519856929779,0.25963321328163147,0.25898289680480957,0.2583943009376526,0.2578608989715576,0.25737741589546204,0.2569386959075928,0.25653964281082153,0.2561762034893036,0.2558446526527405,0.25554078817367554,0.2552618682384491,0.25500476360321045,0.25476688146591187,0.25454550981521606,0.2543388605117798,0.2541448175907135,0.25396156311035156,0.2537876069545746,0.2536217272281647,0.25346237421035767,0.2533086836338043,0.2531595230102539,0.2530142366886139,0.25287190079689026,0.25273197889328003,0.2525936961174011,0.25245675444602966,0.25232070684432983,0.2521851658821106,0.25204968452453613,0.2519141733646393,0.25177812576293945,0.2516416907310486,0.2515045404434204,0.25136643648147583,0.2512274384498596,0.25108733773231506,0.2509461045265198,0.25080373883247375,0.2506597936153412,0.2505148947238922,0.2503684461116791,0.25022077560424805,0.2500714957714081,0.24992088973522186,0.24976880848407745,0.24961528182029724,0.2494603395462036,0.2493038922548294,0.24914589524269104,0.24898645281791687,0.248825341463089,0.24866294860839844,0.24849887192249298,0.24833297729492188,0.24816584587097168,0.24799685180187225,0.2478262484073639,0.2476540058851242,0.2474801242351532,0.2473045289516449,0.24712710082530975,0.24694781005382538,0.24676665663719177,0.24658378958702087,0.24639892578125,0.246211975812912,0.24602310359477997,0.24583235383033752,0.2456393539905548,0.24544420838356018,0.2452469766139984,0.24504730105400085,0.2448454350233078,0.24464130401611328,0.2444346398115158,0.24422550201416016,0.24401378631591797,0.2437995970249176,0.24358272552490234,0.24336305260658264,0.2431405484676361,0.24291518330574036,0.24268683791160583,0.24245548248291016,0.24222099781036377,0.2419833242893219,0.24174228310585022,0.2414979487657547,0.24125008285045624,0.24099865555763245,0.24074378609657288,0.24048466980457306,0.24022197723388672,0.23995523154735565,0.23968438804149628,0.23940923810005188,0.23912978172302246,0.23884578049182892,0.2385571002960205,0.23826360702514648,0.23796525597572327,0.23766174912452698,0.23735299706459045,0.2370387613773346,0.2367188185453415,0.23639294505119324,0.23606112599372864,0.23572297394275665,0.23537807166576385,0.23502659797668457,0.23466789722442627,0.2343018501996994,0.23392805457115173,0.23354637622833252,0.2331559956073761,0.23275689780712128,0.23234868049621582,0.2319306880235672,0.23150253295898438,0.23106364905834198,0.23061338067054749,0.2301512211561203,0.2296762764453888,0.22918789088726044,0.22868521511554718,0.22816717624664307,0.22763295471668243,0.22708137333393097,0.22651104629039764,0.22592075169086456,0.22530889511108398,0.22467389702796936,0.2240138053894043,0.2233266532421112,0.22261051833629608,0.22186264395713806,0.22108063101768494,0.22026212513446808,0.21940413117408752,0.21850427985191345,0.21756024658679962,0.21657037734985352,0.21553394198417664,0.21445254981517792,0.21333050727844238,0.2121766060590744,0.21100620925426483,0.20984411239624023,0.2087251842021942,0.20769643783569336,0.20681031048297882,0.2061111181974411,0.20560741424560547,0.20524244010448456,0.2048901617527008,0.20440363883972168,0.2036963403224945,0.20278623700141907,0.20177114009857178,0.20076918601989746,0.1998681277036667,0.19910359382629395,0.19846570491790771,0.19791623950004578,0.1974087953567505,0.19690163433551788,0.19636626541614532,0.19578930735588074,0.19517287611961365,0.1945325881242752,0.19389410316944122,0.19328537583351135,0.19273057579994202,0.19223956763744354,0.1918039321899414,0.1913987547159195,0.1909937560558319,0.19056718051433563,0.1901150643825531,0.1896505355834961,0.18919405341148376,0.18876339495182037,0.1883653700351715,0.18799611926078796,0.18764401972293854,0.1872963309288025,0.18694376945495605,0.18658344447612762,0.18621838092803955,0.18585550785064697,0.18550193309783936,0.18516181409358978,0.18483512103557587,0.18451759219169617,0.18420341610908508,0.18388764560222626,0.18356874585151672,0.18324784934520721,0.18292859196662903,0.18261393904685974,0.1823054999113083,0.1820024996995926,0.18170295655727386,0.18140463531017303,0.18110573291778564,0.1808060109615326,0.18050616979599,0.1802072674036026,0.1799107789993286,0.17961694300174713,0.17932568490505219,0.179035946726799,0.17874689400196075,0.17845797538757324,0.17816932499408722,0.17788082361221313,0.17759348452091217,0.17730753123760223,0.1770232617855072,0.17674018442630768,0.17645831406116486,0.1761772334575653,0.1758968085050583,0.17561697959899902,0.1753380000591278,0.1750602126121521,0.17478355765342712,0.17450830340385437,0.17423422634601593,0.17396141588687897,0.17368949949741364,0.17341867089271545,0.1731489598751068,0.17288027703762054,0.17261281609535217,0.17234687507152557,0.17208212614059448,0.1718188226222992,0.17155686020851135,0.17129608988761902,0.1710367202758789,0.1707785576581955,0.1705218255519867,0.17026646435260773,0.1700124442577362,0.169760063290596,0.1695089340209961,0.1692591905593872,0.16901102662086487,0.168764129281044,0.16851858794689178,0.16827456653118134,0.16803185641765594,0.16779053211212158,0.16755063831806183,0.16731210052967072,0.1670750081539154,0.1668390929698944,0.1666046679019928,0.1663714349269867,0.16613967716693878,0.1659090220928192,0.16567964851856232,0.16545166075229645,0.16522473096847534,0.16499903798103333,0.1647745668888092,0.16455134749412537,0.1643291711807251,0.16410814225673676,0.16388824582099915,0.16366933286190033,0.1634516417980194,0.163234680891037,0.1630191057920456,0.16280433535575867,0.1625906527042389,0.16237783432006836,0.1621660441160202,0.16195502877235413,0.16174501180648804,0.16153584420681,0.16132749617099762,0.16112001240253448,0.16091325879096985,0.16070732474327087,0.16050207614898682,0.1602977067232132,0.16009385883808136,0.1598908007144928,0.1596883237361908,0.15948644280433655,0.15928515791893005,0.15908434987068176,0.1588841825723648,0.1586843729019165,0.15848496556282043,0.15828602015972137,0.1580873429775238,0.15788908302783966,0.157691091299057,0.15749332308769226,0.15729552507400513,0.15709809958934784,0.15690076351165771,0.1567034125328064,0.15650606155395508,0.1563086211681366,0.1561110019683838,0.1559133529663086,0.15571539103984833,0.15551722049713135,0.15531890094280243,0.1551201492547989,0.15492099523544312,0.1547214686870575,0.15452159941196442,0.15432123839855194,0.15412044525146484,0.1539192497730255,0.15371766686439514,0.15351560711860657,0.1533133089542389,0.15311084687709808,0.15290820598602295,0.15270549058914185,0.1525028645992279,0.15230056643486023,0.15209874510765076,0.1518975794315338,0.1516973227262497,0.15149812400341034,0.15130025148391724,0.15110397338867188,0.1509092152118683,0.15071654319763184,0.15052571892738342,0.1503371298313141,0.15015047788619995,0.14996609091758728,0.14978376030921936,0.14960342645645142,0.1494249552488327,0.14924833178520203,0.14907331764698029,0.14889992773532867,0.14872780442237854,0.1485571414232254,0.1483876258134842,0.1482195258140564,0.14805252850055695,0.14788666367530823,0.14772211015224457,0.14755874872207642,0.14739678800106049,0.14723607897758484,0.1470767706632614,0.14691902697086334,0.14676256477832794,0.14660760760307312,0.14645400643348694,0.14630194008350372,0.14615118503570557,0.14600172638893127,0.14585351943969727,0.14570657908916473,0.14556081593036652,0.14541611075401306,0.1452726423740387,0.1451302170753479,0.14498881995677948,0.14484846591949463,0.14470909535884857,0.14457082748413086,0.14443357288837433,0.14429716765880585,0.14416179060935974,0.14402766525745392,0.14389429986476898,0.14376211166381836,0.14363080263137817,0.14350047707557678,0.14337113499641418,0.143242746591568,0.1431153267621994,0.1429888904094696,0.14286330342292786,0.1427387297153473,0.14261505007743835,0.14249229431152344,0.14237038791179657,0.14224939048290253,0.14212939143180847,0.1420101821422577,0.14189185202121735,0.1417745053768158,0.1416579782962799,0.14154234528541565,0.14142753183841705,0.14131370186805725,0.14120060205459595,0.14108853042125702,0.14097711443901062,0.14086668193340302,0.1407569944858551,0.14064832031726837,0.14054033160209656,0.14043322205543518,0.14032693207263947,0.14022143185138702,0.14011681079864502,0.14001290500164032,0.13990987837314606,0.1398075819015503,0.13970620930194855,0.13960544764995575,0.13950547575950623,0.13940629363059998,0.1393079310655594,0.13921038806438446,0.13911353051662445,0.13901741802692413,0.13892200589179993,0.138827383518219,0.13873347640037537,0.13864034414291382,0.1385478675365448,0.13845624029636383,0.13836513459682465,0.13827474415302277,0.13818521797657013,0.13809621334075928,0.13800795376300812,0.1379203349351883,0.13783347606658936,0.13774721324443817,0.13766160607337952,0.1375766396522522,0.13749238848686218,0.13740864396095276,0.1373257339000702,0.13724324107170105,0.13716144859790802,0.13708016276359558,0.13699963688850403,0.136919766664505,0.13684025406837463,0.13676145672798157,0.13668318092823029,0.13660559058189392,0.13652844727039337,0.13645191490650177,0.13637587428092957,0.1363004744052887,0.13622549176216125,0.13615116477012634,0.13607724010944366,0.13600389659404755,0.13593098521232605,0.1358586996793747,0.13578681647777557,0.13571539521217346,0.13564448058605194,0.1355741024017334,0.1355040967464447,0.13543453812599182,0.13536548614501953,0.13529691100120544,0.13522861897945404,0.13516083359718323,0.13509342074394226,0.1350264996290207,0.1349598467350006,0.13489365577697754,0.1348278969526291,0.1347624510526657,0.13469737768173218],\"yaxis\":\"y\",\"type\":\"scattergl\"},{\"hovertemplate\":\"variable=val_loss<br>index=%{x}<br>value=%{y}<extra></extra>\",\"legendgroup\":\"val_loss\",\"line\":{\"color\":\"#EF553B\",\"dash\":\"solid\"},\"marker\":{\"symbol\":\"circle\"},\"mode\":\"lines\",\"name\":\"val_loss\",\"showlegend\":true,\"x\":[0,1,2,3,4,5,6,7,8,9,10,11,12,13,14,15,16,17,18,19,20,21,22,23,24,25,26,27,28,29,30,31,32,33,34,35,36,37,38,39,40,41,42,43,44,45,46,47,48,49,50,51,52,53,54,55,56,57,58,59,60,61,62,63,64,65,66,67,68,69,70,71,72,73,74,75,76,77,78,79,80,81,82,83,84,85,86,87,88,89,90,91,92,93,94,95,96,97,98,99,100,101,102,103,104,105,106,107,108,109,110,111,112,113,114,115,116,117,118,119,120,121,122,123,124,125,126,127,128,129,130,131,132,133,134,135,136,137,138,139,140,141,142,143,144,145,146,147,148,149,150,151,152,153,154,155,156,157,158,159,160,161,162,163,164,165,166,167,168,169,170,171,172,173,174,175,176,177,178,179,180,181,182,183,184,185,186,187,188,189,190,191,192,193,194,195,196,197,198,199,200,201,202,203,204,205,206,207,208,209,210,211,212,213,214,215,216,217,218,219,220,221,222,223,224,225,226,227,228,229,230,231,232,233,234,235,236,237,238,239,240,241,242,243,244,245,246,247,248,249,250,251,252,253,254,255,256,257,258,259,260,261,262,263,264,265,266,267,268,269,270,271,272,273,274,275,276,277,278,279,280,281,282,283,284,285,286,287,288,289,290,291,292,293,294,295,296,297,298,299,300,301,302,303,304,305,306,307,308,309,310,311,312,313,314,315,316,317,318,319,320,321,322,323,324,325,326,327,328,329,330,331,332,333,334,335,336,337,338,339,340,341,342,343,344,345,346,347,348,349,350,351,352,353,354,355,356,357,358,359,360,361,362,363,364,365,366,367,368,369,370,371,372,373,374,375,376,377,378,379,380,381,382,383,384,385,386,387,388,389,390,391,392,393,394,395,396,397,398,399,400,401,402,403,404,405,406,407,408,409,410,411,412,413,414,415,416,417,418,419,420,421,422,423,424,425,426,427,428,429,430,431,432,433,434,435,436,437,438,439,440,441,442,443,444,445,446,447,448,449,450,451,452,453,454,455,456,457,458,459,460,461,462,463,464,465,466,467,468,469,470,471,472,473,474,475,476,477,478,479,480,481,482,483,484,485,486,487,488,489,490,491,492,493,494,495,496,497,498,499,500,501,502,503,504,505,506,507,508,509,510,511,512,513,514,515,516,517,518,519,520,521,522,523,524,525,526,527,528,529,530,531,532,533,534,535,536,537,538,539,540,541,542,543,544,545,546,547,548,549,550,551,552,553,554,555,556,557,558,559,560,561,562,563,564,565,566,567,568,569,570,571,572,573,574,575,576,577,578,579,580,581,582,583,584,585,586,587,588,589,590,591,592,593,594,595,596,597,598,599],\"xaxis\":\"x\",\"y\":[14.960551261901855,14.381579399108887,13.815408706665039,13.261894226074219,12.721014022827148,12.192667007446289,11.676712036132812,11.173026084899902,10.681581497192383,10.202451705932617,9.735811233520508,9.281900405883789,8.840986251831055,8.413337707519531,7.9991888999938965,7.598731994628906,7.212115287780762,6.839447975158691,6.480792999267578,6.136172294616699,5.805546760559082,5.488820552825928,5.185830593109131,4.896355152130127,4.620116233825684,4.356790542602539,4.106019020080566,3.8674144744873047,3.6405701637268066,3.425065517425537,3.2204692363739014,3.0263476371765137,2.842263698577881,2.667787551879883,2.502488136291504,2.3459486961364746,2.197758913040161,2.0575215816497803,1.9248554706573486,1.799391508102417,1.6807804107666016,1.5686885118484497,1.4627978801727295,1.3628120422363281,1.2684471607208252,1.1794407367706299,1.0955448150634766,1.016526222229004,0.9421690106391907,0.8722696304321289,0.8066374063491821,0.7450942993164062,0.6874727010726929,0.6336150765419006,0.5833710432052612,0.5365992784500122,0.4931631088256836,0.4529331624507904,0.4157818853855133,0.3815869390964508,0.35022807121276855,0.32158786058425903,0.2955491840839386,0.2719970643520355,0.2508174479007721,0.23189738392829895,0.2151244580745697,0.20038752257823944,0.18757659196853638,0.17658355832099915,0.16730156540870667,0.1596263349056244,0.15345612168312073,0.14869189262390137,0.14523744583129883,0.14300057291984558,0.14189200103282928,0.14182664453983307,0.14272308349609375,0.14450347423553467,0.1470944583415985,0.15042564272880554,0.15443125367164612,0.15904852747917175,0.1642184555530548,0.1698852926492691,0.17599621415138245,0.18250204622745514,0.1893557757139206,0.19651326537132263,0.2039335072040558,0.21157722175121307,0.2194078266620636,0.227390319108963,0.2354929894208908,0.24368441104888916,0.25193655490875244,0.26022231578826904,0.26851704716682434,0.27679693698883057,0.28503987193107605,0.29322636127471924,0.30133694410324097,0.30935513973236084,0.3172646462917328,0.3250511586666107,0.3327011168003082,0.34020307660102844,0.34754613041877747,0.3547207713127136,0.36171847581863403,0.3685328960418701,0.37515658140182495,0.3815847933292389,0.3878132402896881,0.3938385546207428,0.39965882897377014,0.405270516872406,0.41067415475845337,0.4158690869808197,0.42085474729537964,0.42563319206237793,0.43020519614219666,0.43457284569740295,0.4387390613555908,0.4427056312561035,0.4464759826660156,0.45005473494529724,0.4534451961517334,0.4566507935523987,0.45967674255371094,0.46252769231796265,0.465207576751709,0.4677217900753021,0.470075786113739,0.4722735285758972,0.47432056069374084,0.4762226641178131,0.4779844880104065,0.4796113967895508,0.4811086058616638,0.4824813902378082,0.4837343692779541,0.48487329483032227,0.4859023094177246,0.48682695627212524,0.48765236139297485,0.4883821904659271,0.48902177810668945,0.489574670791626,0.490046888589859,0.49044156074523926,0.49076253175735474,0.491014301776886,0.49120086431503296,0.4913259446620941,0.4913925230503082,0.49140486121177673,0.4913654327392578,0.491277277469635,0.4911445081233978,0.49096933007240295,0.4907546937465668,0.4905025064945221,0.4902166724205017,0.4898982644081116,0.489549458026886,0.4891739785671234,0.48877233266830444,0.4883468747138977,0.4878995418548584,0.4874311089515686,0.48694443702697754,0.48644059896469116,0.485920250415802,0.4853852689266205,0.48483696579933167,0.48427629470825195,0.4837034344673157,0.48312073945999146,0.48252803087234497,0.4819258749485016,0.4813157916069031,0.4806981086730957,0.4800729751586914,0.47944116592407227,0.47880348563194275,0.47815942764282227,0.4775100648403168,0.47685545682907104,0.4761955142021179,0.4755304455757141,0.4748610854148865,0.47418659925460815,0.4735071063041687,0.47282296419143677,0.47213417291641235,0.4714401364326477,0.47074103355407715,0.47003692388534546,0.469327837228775,0.4686122536659241,0.4678908884525299,0.4671638607978821,0.4664301872253418,0.465689480304718,0.4649418890476227,0.46418672800064087,0.46342331171035767,0.4626518785953522,0.46187132596969604,0.4610818922519684,0.4602819085121155,0.45947200059890747,0.4586513638496399,0.4578190743923187,0.45697441697120667,0.45611676573753357,0.4552462100982666,0.4543609023094177,0.45346131920814514,0.4525455832481384,0.4516131281852722,0.45066332817077637,0.4496954083442688,0.44870805740356445,0.4477001130580902,0.44667038321495056,0.4456184506416321,0.44454294443130493,0.44344156980514526,0.4423139691352844,0.44115781784057617,0.4399718642234802,0.4387548565864563,0.4375039041042328,0.4362177848815918,0.4348936080932617,0.4335293173789978,0.43212252855300903,0.4306694567203522,0.42916688323020935,0.4276120066642761,0.4260012209415436,0.4243289530277252,0.4225912094116211,0.42078280448913574,0.4188961386680603,0.4169263243675232,0.41486483812332153,0.41270264983177185,0.4104310870170593,0.40803781151771545,0.4055112898349762,0.40283674001693726,0.3999972939491272,0.3969742953777313,0.3937463164329529,0.3902891278266907,0.3865737318992615,0.38256868720054626,0.37823691964149475,0.37353822588920593,0.36842647194862366,0.36285400390625,0.3567684590816498,0.3501214385032654,0.3428686559200287,0.33498415350914,0.3264720141887665,0.3173888623714447,0.307873398065567,0.298181414604187,0.2887208163738251,0.2800624370574951,0.27289438247680664,0.2678860127925873,0.26549777388572693,0.2658413052558899,0.2686813771724701,0.27353712916374207,0.27979201078414917,0.286787748336792,0.293895423412323,0.30056729912757874,0.30637413263320923,0.3110119700431824,0.3142955005168915,0.31614232063293457,0.3165562152862549,0.3156188130378723,0.3134858310222626,0.3103857934474945,0.30662238597869873,0.3025641441345215,0.2986220419406891,0.29521089792251587,0.2926906645298004,0.2913133502006531,0.29118162393569946,0.2922383248806,0.2942870259284973,0.297030508518219,0.3001154363155365,0.303183376789093,0.3059097230434418,0.3080402910709381,0.30940914154052734,0.30994662642478943,0.3096775412559509,0.3087095022201538,0.3072138726711273,0.30540674924850464,0.30352309346199036,0.3017859160900116,0.30038541555404663,0.29945164918899536,0.2990456521511078,0.2991560995578766,0.29970574378967285,0.3005688488483429,0.3015919327735901,0.30261555314064026,0.30349400639533997,0.30411356687545776,0.30440178513526917,0.3043321669101715,0.30392327904701233,0.30323097109794617,0.30233827233314514,0.30134347081184387,0.3003465235233307,0.29943615198135376,0.2986809313297272,0.2981218695640564,0.29777178168296814,0.297613263130188,0.2976086437702179,0.2977023124694824,0.2978329658508301,0.2979394793510437,0.2979697585105896,0.2978857457637787,0.29766759276390076,0.2973112463951111,0.29683154821395874,0.29625484347343445,0.2956158220767975,0.2949534058570862,0.2943039536476135,0.29369843006134033,0.2931593656539917,0.2926979660987854,0.2923153340816498,0.2920015752315521,0.29174095392227173,0.2915114164352417,0.2912910282611847,0.29105764627456665,0.2907939851284027,0.2904873490333557,0.2901323437690735,0.28972935676574707,0.28928500413894653,0.2888094186782837,0.28831610083580017,0.2878193259239197,0.28733211755752563,0.2868659496307373,0.2864281237125397,0.2860223054885864,0.2856488823890686,0.28530412912368774,0.2849821150302887,0.28467512130737305,0.28437525033950806,0.28407394886016846,0.2837652862071991,0.28344470262527466,0.28311020135879517,0.2827613055706024,0.28240057826042175,0.2820310890674591,0.28165730834007263,0.28128567337989807,0.28091955184936523,0.2805634140968323,0.280220091342926,0.2798914313316345,0.27957671880722046,0.2792753279209137,0.2789842486381531,0.2787017822265625,0.2784235179424286,0.2781469225883484,0.27786877751350403,0.2775878608226776,0.2773018479347229,0.2770104706287384,0.2767147123813629,0.2764149308204651,0.2761126160621643,0.2758098840713501,0.2755076289176941,0.27520737051963806,0.27491018176078796,0.27461662888526917,0.27432623505592346,0.2740388810634613,0.27375301718711853,0.27346745133399963,0.2731809914112091,0.27289143204689026,0.272598534822464,0.2723005414009094,0.27199655771255493,0.27168625593185425,0.271369069814682,0.2710452973842621,0.2707158923149109,0.27037954330444336,0.27003753185272217,0.26968997716903687,0.269336462020874,0.26897770166397095,0.26861321926116943,0.2682417035102844,0.2678634822368622,0.26747649908065796,0.2670809328556061,0.26667505502700806,0.26625800132751465,0.2658291757106781,0.26538723707199097,0.2649323344230652,0.2644633650779724,0.2639802098274231,0.2634827196598053,0.2629701495170593,0.2624431550502777,0.26190072298049927,0.26134437322616577,0.2607730031013489,0.260187029838562,0.25958651304244995,0.25897282361984253,0.2583456039428711,0.2577068507671356,0.2570573687553406,0.2563994228839874,0.2557346522808075,0.25506702065467834,0.254399836063385,0.25373685359954834,0.2530824542045593,0.2524419128894806,0.2518202066421509,0.2512229084968567,0.2506546378135681,0.25012004375457764,0.24962230026721954,0.24916382133960724,0.24874529242515564,0.24836573004722595,0.24802300333976746,0.2477126568555832,0.24742946028709412,0.24716727435588837,0.24691978096961975,0.24668049812316895,0.24644525349140167,0.24620942771434784,0.24597163498401642,0.2457306832075119,0.24548837542533875,0.2452462911605835,0.24500732123851776,0.24477383494377136,0.244548037648201,0.24433055520057678,0.24412207305431366,0.2439202517271042,0.24372422695159912,0.2435307502746582,0.243337944149971,0.2431432008743286,0.24294547736644745,0.2427448034286499,0.24254059791564941,0.24233536422252655,0.24213019013404846,0.24192722141742706,0.24172794818878174,0.24153339862823486,0.2413446605205536,0.2411617785692215,0.2409830540418625,0.24080881476402283,0.24063685536384583,0.24046678841114044,0.2402976006269455,0.24012956023216248,0.23996266722679138,0.239797443151474,0.23963482677936554,0.23947560787200928,0.23932011425495148,0.23916900157928467,0.2390211820602417,0.238876074552536,0.23873385787010193,0.23859255015850067,0.23845236003398895,0.23831228911876678,0.2381725013256073,0.23803336918354034,0.2378949671983719,0.2377575933933258,0.23762273788452148,0.23748965561389923,0.23735924065113068,0.23723065853118896,0.23710453510284424,0.236979678273201,0.23685626685619354,0.2367340624332428,0.23661251366138458,0.23649144172668457,0.23637175559997559,0.2362534999847412,0.23613691329956055,0.23602251708507538,0.2359098196029663,0.23579910397529602,0.23569044470787048,0.23558339476585388,0.23547717928886414,0.23537269234657288,0.23526859283447266,0.23516583442687988,0.23506346344947815,0.2349626123905182,0.2348628044128418,0.23476453125476837,0.23466768860816956,0.2345716655254364,0.23447713255882263,0.23438365757465363,0.23429091274738312,0.2341988980770111,0.23410801589488983,0.23401768505573273,0.233927920460701,0.23383918404579163,0.23375146090984344,0.2336646020412445,0.23357823491096497,0.23349341750144958,0.2334095984697342,0.23332655429840088,0.2332446128129959,0.23316331207752228,0.23308280110359192,0.23300257325172424,0.23292365670204163,0.23284485936164856,0.23276738822460175,0.2326909750699997,0.23261547088623047,0.23254041373729706,0.23246696591377258,0.2323937863111496,0.23232150077819824,0.23224970698356628,0.2321789264678955,0.23210792243480682,0.23203818500041962,0.2319694310426712,0.23190124332904816,0.23183350265026093,0.2317667007446289,0.23170003294944763,0.2316344529390335,0.23156900703907013,0.2315044105052948,0.23144038021564484,0.23137693107128143,0.23131391406059265,0.23125150799751282,0.23118920624256134,0.23112817108631134,0.2310669869184494,0.2310062199831009,0.2309461534023285,0.23088669776916504,0.2308274805545807,0.23076900839805603,0.23071065545082092,0.23065301775932312,0.23059558868408203],\"yaxis\":\"y\",\"type\":\"scattergl\"}],                        {\"template\":{\"data\":{\"bar\":[{\"error_x\":{\"color\":\"#2a3f5f\"},\"error_y\":{\"color\":\"#2a3f5f\"},\"marker\":{\"line\":{\"color\":\"#E5ECF6\",\"width\":0.5},\"pattern\":{\"fillmode\":\"overlay\",\"size\":10,\"solidity\":0.2}},\"type\":\"bar\"}],\"barpolar\":[{\"marker\":{\"line\":{\"color\":\"#E5ECF6\",\"width\":0.5},\"pattern\":{\"fillmode\":\"overlay\",\"size\":10,\"solidity\":0.2}},\"type\":\"barpolar\"}],\"carpet\":[{\"aaxis\":{\"endlinecolor\":\"#2a3f5f\",\"gridcolor\":\"white\",\"linecolor\":\"white\",\"minorgridcolor\":\"white\",\"startlinecolor\":\"#2a3f5f\"},\"baxis\":{\"endlinecolor\":\"#2a3f5f\",\"gridcolor\":\"white\",\"linecolor\":\"white\",\"minorgridcolor\":\"white\",\"startlinecolor\":\"#2a3f5f\"},\"type\":\"carpet\"}],\"choropleth\":[{\"colorbar\":{\"outlinewidth\":0,\"ticks\":\"\"},\"type\":\"choropleth\"}],\"contour\":[{\"colorbar\":{\"outlinewidth\":0,\"ticks\":\"\"},\"colorscale\":[[0.0,\"#0d0887\"],[0.1111111111111111,\"#46039f\"],[0.2222222222222222,\"#7201a8\"],[0.3333333333333333,\"#9c179e\"],[0.4444444444444444,\"#bd3786\"],[0.5555555555555556,\"#d8576b\"],[0.6666666666666666,\"#ed7953\"],[0.7777777777777778,\"#fb9f3a\"],[0.8888888888888888,\"#fdca26\"],[1.0,\"#f0f921\"]],\"type\":\"contour\"}],\"contourcarpet\":[{\"colorbar\":{\"outlinewidth\":0,\"ticks\":\"\"},\"type\":\"contourcarpet\"}],\"heatmap\":[{\"colorbar\":{\"outlinewidth\":0,\"ticks\":\"\"},\"colorscale\":[[0.0,\"#0d0887\"],[0.1111111111111111,\"#46039f\"],[0.2222222222222222,\"#7201a8\"],[0.3333333333333333,\"#9c179e\"],[0.4444444444444444,\"#bd3786\"],[0.5555555555555556,\"#d8576b\"],[0.6666666666666666,\"#ed7953\"],[0.7777777777777778,\"#fb9f3a\"],[0.8888888888888888,\"#fdca26\"],[1.0,\"#f0f921\"]],\"type\":\"heatmap\"}],\"heatmapgl\":[{\"colorbar\":{\"outlinewidth\":0,\"ticks\":\"\"},\"colorscale\":[[0.0,\"#0d0887\"],[0.1111111111111111,\"#46039f\"],[0.2222222222222222,\"#7201a8\"],[0.3333333333333333,\"#9c179e\"],[0.4444444444444444,\"#bd3786\"],[0.5555555555555556,\"#d8576b\"],[0.6666666666666666,\"#ed7953\"],[0.7777777777777778,\"#fb9f3a\"],[0.8888888888888888,\"#fdca26\"],[1.0,\"#f0f921\"]],\"type\":\"heatmapgl\"}],\"histogram\":[{\"marker\":{\"pattern\":{\"fillmode\":\"overlay\",\"size\":10,\"solidity\":0.2}},\"type\":\"histogram\"}],\"histogram2d\":[{\"colorbar\":{\"outlinewidth\":0,\"ticks\":\"\"},\"colorscale\":[[0.0,\"#0d0887\"],[0.1111111111111111,\"#46039f\"],[0.2222222222222222,\"#7201a8\"],[0.3333333333333333,\"#9c179e\"],[0.4444444444444444,\"#bd3786\"],[0.5555555555555556,\"#d8576b\"],[0.6666666666666666,\"#ed7953\"],[0.7777777777777778,\"#fb9f3a\"],[0.8888888888888888,\"#fdca26\"],[1.0,\"#f0f921\"]],\"type\":\"histogram2d\"}],\"histogram2dcontour\":[{\"colorbar\":{\"outlinewidth\":0,\"ticks\":\"\"},\"colorscale\":[[0.0,\"#0d0887\"],[0.1111111111111111,\"#46039f\"],[0.2222222222222222,\"#7201a8\"],[0.3333333333333333,\"#9c179e\"],[0.4444444444444444,\"#bd3786\"],[0.5555555555555556,\"#d8576b\"],[0.6666666666666666,\"#ed7953\"],[0.7777777777777778,\"#fb9f3a\"],[0.8888888888888888,\"#fdca26\"],[1.0,\"#f0f921\"]],\"type\":\"histogram2dcontour\"}],\"mesh3d\":[{\"colorbar\":{\"outlinewidth\":0,\"ticks\":\"\"},\"type\":\"mesh3d\"}],\"parcoords\":[{\"line\":{\"colorbar\":{\"outlinewidth\":0,\"ticks\":\"\"}},\"type\":\"parcoords\"}],\"pie\":[{\"automargin\":true,\"type\":\"pie\"}],\"scatter\":[{\"marker\":{\"colorbar\":{\"outlinewidth\":0,\"ticks\":\"\"}},\"type\":\"scatter\"}],\"scatter3d\":[{\"line\":{\"colorbar\":{\"outlinewidth\":0,\"ticks\":\"\"}},\"marker\":{\"colorbar\":{\"outlinewidth\":0,\"ticks\":\"\"}},\"type\":\"scatter3d\"}],\"scattercarpet\":[{\"marker\":{\"colorbar\":{\"outlinewidth\":0,\"ticks\":\"\"}},\"type\":\"scattercarpet\"}],\"scattergeo\":[{\"marker\":{\"colorbar\":{\"outlinewidth\":0,\"ticks\":\"\"}},\"type\":\"scattergeo\"}],\"scattergl\":[{\"marker\":{\"colorbar\":{\"outlinewidth\":0,\"ticks\":\"\"}},\"type\":\"scattergl\"}],\"scattermapbox\":[{\"marker\":{\"colorbar\":{\"outlinewidth\":0,\"ticks\":\"\"}},\"type\":\"scattermapbox\"}],\"scatterpolar\":[{\"marker\":{\"colorbar\":{\"outlinewidth\":0,\"ticks\":\"\"}},\"type\":\"scatterpolar\"}],\"scatterpolargl\":[{\"marker\":{\"colorbar\":{\"outlinewidth\":0,\"ticks\":\"\"}},\"type\":\"scatterpolargl\"}],\"scatterternary\":[{\"marker\":{\"colorbar\":{\"outlinewidth\":0,\"ticks\":\"\"}},\"type\":\"scatterternary\"}],\"surface\":[{\"colorbar\":{\"outlinewidth\":0,\"ticks\":\"\"},\"colorscale\":[[0.0,\"#0d0887\"],[0.1111111111111111,\"#46039f\"],[0.2222222222222222,\"#7201a8\"],[0.3333333333333333,\"#9c179e\"],[0.4444444444444444,\"#bd3786\"],[0.5555555555555556,\"#d8576b\"],[0.6666666666666666,\"#ed7953\"],[0.7777777777777778,\"#fb9f3a\"],[0.8888888888888888,\"#fdca26\"],[1.0,\"#f0f921\"]],\"type\":\"surface\"}],\"table\":[{\"cells\":{\"fill\":{\"color\":\"#EBF0F8\"},\"line\":{\"color\":\"white\"}},\"header\":{\"fill\":{\"color\":\"#C8D4E3\"},\"line\":{\"color\":\"white\"}},\"type\":\"table\"}]},\"layout\":{\"annotationdefaults\":{\"arrowcolor\":\"#2a3f5f\",\"arrowhead\":0,\"arrowwidth\":1},\"autotypenumbers\":\"strict\",\"coloraxis\":{\"colorbar\":{\"outlinewidth\":0,\"ticks\":\"\"}},\"colorscale\":{\"diverging\":[[0,\"#8e0152\"],[0.1,\"#c51b7d\"],[0.2,\"#de77ae\"],[0.3,\"#f1b6da\"],[0.4,\"#fde0ef\"],[0.5,\"#f7f7f7\"],[0.6,\"#e6f5d0\"],[0.7,\"#b8e186\"],[0.8,\"#7fbc41\"],[0.9,\"#4d9221\"],[1,\"#276419\"]],\"sequential\":[[0.0,\"#0d0887\"],[0.1111111111111111,\"#46039f\"],[0.2222222222222222,\"#7201a8\"],[0.3333333333333333,\"#9c179e\"],[0.4444444444444444,\"#bd3786\"],[0.5555555555555556,\"#d8576b\"],[0.6666666666666666,\"#ed7953\"],[0.7777777777777778,\"#fb9f3a\"],[0.8888888888888888,\"#fdca26\"],[1.0,\"#f0f921\"]],\"sequentialminus\":[[0.0,\"#0d0887\"],[0.1111111111111111,\"#46039f\"],[0.2222222222222222,\"#7201a8\"],[0.3333333333333333,\"#9c179e\"],[0.4444444444444444,\"#bd3786\"],[0.5555555555555556,\"#d8576b\"],[0.6666666666666666,\"#ed7953\"],[0.7777777777777778,\"#fb9f3a\"],[0.8888888888888888,\"#fdca26\"],[1.0,\"#f0f921\"]]},\"colorway\":[\"#636efa\",\"#EF553B\",\"#00cc96\",\"#ab63fa\",\"#FFA15A\",\"#19d3f3\",\"#FF6692\",\"#B6E880\",\"#FF97FF\",\"#FECB52\"],\"font\":{\"color\":\"#2a3f5f\"},\"geo\":{\"bgcolor\":\"white\",\"lakecolor\":\"white\",\"landcolor\":\"#E5ECF6\",\"showlakes\":true,\"showland\":true,\"subunitcolor\":\"white\"},\"hoverlabel\":{\"align\":\"left\"},\"hovermode\":\"closest\",\"mapbox\":{\"style\":\"light\"},\"paper_bgcolor\":\"white\",\"plot_bgcolor\":\"#E5ECF6\",\"polar\":{\"angularaxis\":{\"gridcolor\":\"white\",\"linecolor\":\"white\",\"ticks\":\"\"},\"bgcolor\":\"#E5ECF6\",\"radialaxis\":{\"gridcolor\":\"white\",\"linecolor\":\"white\",\"ticks\":\"\"}},\"scene\":{\"xaxis\":{\"backgroundcolor\":\"#E5ECF6\",\"gridcolor\":\"white\",\"gridwidth\":2,\"linecolor\":\"white\",\"showbackground\":true,\"ticks\":\"\",\"zerolinecolor\":\"white\"},\"yaxis\":{\"backgroundcolor\":\"#E5ECF6\",\"gridcolor\":\"white\",\"gridwidth\":2,\"linecolor\":\"white\",\"showbackground\":true,\"ticks\":\"\",\"zerolinecolor\":\"white\"},\"zaxis\":{\"backgroundcolor\":\"#E5ECF6\",\"gridcolor\":\"white\",\"gridwidth\":2,\"linecolor\":\"white\",\"showbackground\":true,\"ticks\":\"\",\"zerolinecolor\":\"white\"}},\"shapedefaults\":{\"line\":{\"color\":\"#2a3f5f\"}},\"ternary\":{\"aaxis\":{\"gridcolor\":\"white\",\"linecolor\":\"white\",\"ticks\":\"\"},\"baxis\":{\"gridcolor\":\"white\",\"linecolor\":\"white\",\"ticks\":\"\"},\"bgcolor\":\"#E5ECF6\",\"caxis\":{\"gridcolor\":\"white\",\"linecolor\":\"white\",\"ticks\":\"\"}},\"title\":{\"x\":0.05},\"xaxis\":{\"automargin\":true,\"gridcolor\":\"white\",\"linecolor\":\"white\",\"ticks\":\"\",\"title\":{\"standoff\":15},\"zerolinecolor\":\"white\",\"zerolinewidth\":2},\"yaxis\":{\"automargin\":true,\"gridcolor\":\"white\",\"linecolor\":\"white\",\"ticks\":\"\",\"title\":{\"standoff\":15},\"zerolinecolor\":\"white\",\"zerolinewidth\":2}}},\"xaxis\":{\"anchor\":\"y\",\"domain\":[0.0,1.0],\"title\":{\"text\":\"index\"}},\"yaxis\":{\"anchor\":\"x\",\"domain\":[0.0,1.0],\"title\":{\"text\":\"value\"}},\"legend\":{\"title\":{\"text\":\"variable\"},\"tracegroupgap\":0},\"margin\":{\"t\":60}},                        {\"responsive\": true}                    ).then(function(){\n                            \nvar gd = document.getElementById('f8d758a9-8d68-4e95-817e-d477f001a234');\nvar x = new MutationObserver(function (mutations, observer) {{\n        var display = window.getComputedStyle(gd).display;\n        if (!display || display === 'none') {{\n            console.log([gd, 'removed!']);\n            Plotly.purge(gd);\n            observer.disconnect();\n        }}\n}});\n\n// Listen for the removal of the full notebook cells\nvar notebookContainer = gd.closest('#notebook-container');\nif (notebookContainer) {{\n    x.observe(notebookContainer, {childList: true});\n}}\n\n// Listen for the clearing of the current output cell\nvar outputEl = gd.closest('.output');\nif (outputEl) {{\n    x.observe(outputEl, {childList: true});\n}}\n\n                        })                };                });            </script>        </div>"
     },
     "metadata": {},
     "output_type": "display_data"
    }
   ],
   "source": [
    "epochs_df = pd.DataFrame(train_history.history)\n",
    "display(epochs_df)\n",
    "fig = px.line(epochs_df)\n",
    "fig.show()"
   ],
   "metadata": {
    "collapsed": false,
    "pycharm": {
     "name": "#%%\n"
    }
   }
  },
  {
   "cell_type": "markdown",
   "source": [
    "# Plot estimation"
   ],
   "metadata": {
    "collapsed": false,
    "pycharm": {
     "name": "#%% md\n"
    }
   }
  },
  {
   "cell_type": "code",
   "execution_count": 274,
   "outputs": [
    {
     "data": {
      "application/vnd.plotly.v1+json": {
       "data": [
        {
         "hovertemplate": "x=%{x}<br>y=%{y}<extra></extra>",
         "legendgroup": "",
         "line": {
          "color": "#636efa",
          "dash": "solid"
         },
         "marker": {
          "symbol": "circle"
         },
         "mode": "lines",
         "name": "",
         "orientation": "v",
         "showlegend": false,
         "x": [
          "2007-07-31T00:00:00",
          "2007-08-31T00:00:00",
          "2007-09-30T00:00:00",
          "2007-10-31T00:00:00",
          "2007-11-30T00:00:00",
          "2007-12-31T00:00:00",
          "2008-01-31T00:00:00",
          "2008-02-29T00:00:00",
          "2008-03-31T00:00:00",
          "2008-04-30T00:00:00",
          "2008-05-31T00:00:00",
          "2008-06-30T00:00:00",
          "2008-07-31T00:00:00",
          "2008-08-31T00:00:00",
          "2008-09-30T00:00:00",
          "2008-10-31T00:00:00",
          "2008-11-30T00:00:00",
          "2008-12-31T00:00:00",
          "2009-01-31T00:00:00",
          "2009-02-28T00:00:00",
          "2009-03-31T00:00:00",
          "2009-04-30T00:00:00",
          "2009-05-31T00:00:00",
          "2009-06-30T00:00:00",
          "2009-07-31T00:00:00",
          "2009-08-31T00:00:00",
          "2009-09-30T00:00:00",
          "2009-10-31T00:00:00",
          "2009-11-30T00:00:00",
          "2009-12-31T00:00:00",
          "2010-01-31T00:00:00",
          "2010-02-28T00:00:00",
          "2010-03-31T00:00:00",
          "2010-04-30T00:00:00",
          "2010-05-31T00:00:00",
          "2010-06-30T00:00:00",
          "2010-07-31T00:00:00",
          "2010-08-31T00:00:00",
          "2010-09-30T00:00:00",
          "2010-10-31T00:00:00",
          "2010-11-30T00:00:00",
          "2010-12-31T00:00:00"
         ],
         "xaxis": "x",
         "y": [
          4.671220000000001,
          4.6892200000000015,
          5.0440600000000115,
          5.346,
          5.506060000000012,
          5.849220000000001,
          5.328,
          4.54,
          4.847220000000001,
          4.750060000000012,
          4.972440000000002,
          4.79,
          4.2,
          4.3996600000000035,
          4.588020000000004,
          4.9872200000000015,
          5.182,
          5.043220000000001,
          5.524,
          4.462,
          4.566,
          4.420040000000008,
          4.191220000000001,
          3.756020000000004,
          4.1,
          4.418,
          4.234,
          4.827220000000001,
          5.444,
          5.090440000000002,
          4.874060000000012,
          4.8408399999999965,
          4.514060000000012,
          4.0128199999999925,
          4.116020000000003,
          4.032819999999992,
          3.41,
          3.9700400000000085,
          3.8792799999999694,
          4.704020000000003,
          4.432,
          3.882
         ],
         "yaxis": "y",
         "type": "scatter"
        },
        {
         "mode": "lines",
         "name": "Simple RNN",
         "x": [
          "2010-03-31T00:00:00",
          "2010-04-30T00:00:00",
          "2010-05-31T00:00:00",
          "2010-06-30T00:00:00",
          "2010-07-31T00:00:00",
          "2010-08-31T00:00:00",
          "2010-09-30T00:00:00",
          "2010-10-31T00:00:00",
          "2010-11-30T00:00:00",
          "2010-12-31T00:00:00"
         ],
         "y": [
          4.06910514831543,
          4.125767707824707,
          4.167656421661377,
          4.105349540710449,
          4.137905120849609,
          4.169850826263428,
          4.021576881408691,
          4.136882781982422,
          3.9502880573272705,
          4.118408679962158
         ],
         "type": "scatter"
        }
       ],
       "layout": {
        "template": {
         "data": {
          "bar": [
           {
            "error_x": {
             "color": "#2a3f5f"
            },
            "error_y": {
             "color": "#2a3f5f"
            },
            "marker": {
             "line": {
              "color": "#E5ECF6",
              "width": 0.5
             },
             "pattern": {
              "fillmode": "overlay",
              "size": 10,
              "solidity": 0.2
             }
            },
            "type": "bar"
           }
          ],
          "barpolar": [
           {
            "marker": {
             "line": {
              "color": "#E5ECF6",
              "width": 0.5
             },
             "pattern": {
              "fillmode": "overlay",
              "size": 10,
              "solidity": 0.2
             }
            },
            "type": "barpolar"
           }
          ],
          "carpet": [
           {
            "aaxis": {
             "endlinecolor": "#2a3f5f",
             "gridcolor": "white",
             "linecolor": "white",
             "minorgridcolor": "white",
             "startlinecolor": "#2a3f5f"
            },
            "baxis": {
             "endlinecolor": "#2a3f5f",
             "gridcolor": "white",
             "linecolor": "white",
             "minorgridcolor": "white",
             "startlinecolor": "#2a3f5f"
            },
            "type": "carpet"
           }
          ],
          "choropleth": [
           {
            "colorbar": {
             "outlinewidth": 0,
             "ticks": ""
            },
            "type": "choropleth"
           }
          ],
          "contour": [
           {
            "colorbar": {
             "outlinewidth": 0,
             "ticks": ""
            },
            "colorscale": [
             [
              0.0,
              "#0d0887"
             ],
             [
              0.1111111111111111,
              "#46039f"
             ],
             [
              0.2222222222222222,
              "#7201a8"
             ],
             [
              0.3333333333333333,
              "#9c179e"
             ],
             [
              0.4444444444444444,
              "#bd3786"
             ],
             [
              0.5555555555555556,
              "#d8576b"
             ],
             [
              0.6666666666666666,
              "#ed7953"
             ],
             [
              0.7777777777777778,
              "#fb9f3a"
             ],
             [
              0.8888888888888888,
              "#fdca26"
             ],
             [
              1.0,
              "#f0f921"
             ]
            ],
            "type": "contour"
           }
          ],
          "contourcarpet": [
           {
            "colorbar": {
             "outlinewidth": 0,
             "ticks": ""
            },
            "type": "contourcarpet"
           }
          ],
          "heatmap": [
           {
            "colorbar": {
             "outlinewidth": 0,
             "ticks": ""
            },
            "colorscale": [
             [
              0.0,
              "#0d0887"
             ],
             [
              0.1111111111111111,
              "#46039f"
             ],
             [
              0.2222222222222222,
              "#7201a8"
             ],
             [
              0.3333333333333333,
              "#9c179e"
             ],
             [
              0.4444444444444444,
              "#bd3786"
             ],
             [
              0.5555555555555556,
              "#d8576b"
             ],
             [
              0.6666666666666666,
              "#ed7953"
             ],
             [
              0.7777777777777778,
              "#fb9f3a"
             ],
             [
              0.8888888888888888,
              "#fdca26"
             ],
             [
              1.0,
              "#f0f921"
             ]
            ],
            "type": "heatmap"
           }
          ],
          "heatmapgl": [
           {
            "colorbar": {
             "outlinewidth": 0,
             "ticks": ""
            },
            "colorscale": [
             [
              0.0,
              "#0d0887"
             ],
             [
              0.1111111111111111,
              "#46039f"
             ],
             [
              0.2222222222222222,
              "#7201a8"
             ],
             [
              0.3333333333333333,
              "#9c179e"
             ],
             [
              0.4444444444444444,
              "#bd3786"
             ],
             [
              0.5555555555555556,
              "#d8576b"
             ],
             [
              0.6666666666666666,
              "#ed7953"
             ],
             [
              0.7777777777777778,
              "#fb9f3a"
             ],
             [
              0.8888888888888888,
              "#fdca26"
             ],
             [
              1.0,
              "#f0f921"
             ]
            ],
            "type": "heatmapgl"
           }
          ],
          "histogram": [
           {
            "marker": {
             "pattern": {
              "fillmode": "overlay",
              "size": 10,
              "solidity": 0.2
             }
            },
            "type": "histogram"
           }
          ],
          "histogram2d": [
           {
            "colorbar": {
             "outlinewidth": 0,
             "ticks": ""
            },
            "colorscale": [
             [
              0.0,
              "#0d0887"
             ],
             [
              0.1111111111111111,
              "#46039f"
             ],
             [
              0.2222222222222222,
              "#7201a8"
             ],
             [
              0.3333333333333333,
              "#9c179e"
             ],
             [
              0.4444444444444444,
              "#bd3786"
             ],
             [
              0.5555555555555556,
              "#d8576b"
             ],
             [
              0.6666666666666666,
              "#ed7953"
             ],
             [
              0.7777777777777778,
              "#fb9f3a"
             ],
             [
              0.8888888888888888,
              "#fdca26"
             ],
             [
              1.0,
              "#f0f921"
             ]
            ],
            "type": "histogram2d"
           }
          ],
          "histogram2dcontour": [
           {
            "colorbar": {
             "outlinewidth": 0,
             "ticks": ""
            },
            "colorscale": [
             [
              0.0,
              "#0d0887"
             ],
             [
              0.1111111111111111,
              "#46039f"
             ],
             [
              0.2222222222222222,
              "#7201a8"
             ],
             [
              0.3333333333333333,
              "#9c179e"
             ],
             [
              0.4444444444444444,
              "#bd3786"
             ],
             [
              0.5555555555555556,
              "#d8576b"
             ],
             [
              0.6666666666666666,
              "#ed7953"
             ],
             [
              0.7777777777777778,
              "#fb9f3a"
             ],
             [
              0.8888888888888888,
              "#fdca26"
             ],
             [
              1.0,
              "#f0f921"
             ]
            ],
            "type": "histogram2dcontour"
           }
          ],
          "mesh3d": [
           {
            "colorbar": {
             "outlinewidth": 0,
             "ticks": ""
            },
            "type": "mesh3d"
           }
          ],
          "parcoords": [
           {
            "line": {
             "colorbar": {
              "outlinewidth": 0,
              "ticks": ""
             }
            },
            "type": "parcoords"
           }
          ],
          "pie": [
           {
            "automargin": true,
            "type": "pie"
           }
          ],
          "scatter": [
           {
            "marker": {
             "colorbar": {
              "outlinewidth": 0,
              "ticks": ""
             }
            },
            "type": "scatter"
           }
          ],
          "scatter3d": [
           {
            "line": {
             "colorbar": {
              "outlinewidth": 0,
              "ticks": ""
             }
            },
            "marker": {
             "colorbar": {
              "outlinewidth": 0,
              "ticks": ""
             }
            },
            "type": "scatter3d"
           }
          ],
          "scattercarpet": [
           {
            "marker": {
             "colorbar": {
              "outlinewidth": 0,
              "ticks": ""
             }
            },
            "type": "scattercarpet"
           }
          ],
          "scattergeo": [
           {
            "marker": {
             "colorbar": {
              "outlinewidth": 0,
              "ticks": ""
             }
            },
            "type": "scattergeo"
           }
          ],
          "scattergl": [
           {
            "marker": {
             "colorbar": {
              "outlinewidth": 0,
              "ticks": ""
             }
            },
            "type": "scattergl"
           }
          ],
          "scattermapbox": [
           {
            "marker": {
             "colorbar": {
              "outlinewidth": 0,
              "ticks": ""
             }
            },
            "type": "scattermapbox"
           }
          ],
          "scatterpolar": [
           {
            "marker": {
             "colorbar": {
              "outlinewidth": 0,
              "ticks": ""
             }
            },
            "type": "scatterpolar"
           }
          ],
          "scatterpolargl": [
           {
            "marker": {
             "colorbar": {
              "outlinewidth": 0,
              "ticks": ""
             }
            },
            "type": "scatterpolargl"
           }
          ],
          "scatterternary": [
           {
            "marker": {
             "colorbar": {
              "outlinewidth": 0,
              "ticks": ""
             }
            },
            "type": "scatterternary"
           }
          ],
          "surface": [
           {
            "colorbar": {
             "outlinewidth": 0,
             "ticks": ""
            },
            "colorscale": [
             [
              0.0,
              "#0d0887"
             ],
             [
              0.1111111111111111,
              "#46039f"
             ],
             [
              0.2222222222222222,
              "#7201a8"
             ],
             [
              0.3333333333333333,
              "#9c179e"
             ],
             [
              0.4444444444444444,
              "#bd3786"
             ],
             [
              0.5555555555555556,
              "#d8576b"
             ],
             [
              0.6666666666666666,
              "#ed7953"
             ],
             [
              0.7777777777777778,
              "#fb9f3a"
             ],
             [
              0.8888888888888888,
              "#fdca26"
             ],
             [
              1.0,
              "#f0f921"
             ]
            ],
            "type": "surface"
           }
          ],
          "table": [
           {
            "cells": {
             "fill": {
              "color": "#EBF0F8"
             },
             "line": {
              "color": "white"
             }
            },
            "header": {
             "fill": {
              "color": "#C8D4E3"
             },
             "line": {
              "color": "white"
             }
            },
            "type": "table"
           }
          ]
         },
         "layout": {
          "annotationdefaults": {
           "arrowcolor": "#2a3f5f",
           "arrowhead": 0,
           "arrowwidth": 1
          },
          "autotypenumbers": "strict",
          "coloraxis": {
           "colorbar": {
            "outlinewidth": 0,
            "ticks": ""
           }
          },
          "colorscale": {
           "diverging": [
            [
             0,
             "#8e0152"
            ],
            [
             0.1,
             "#c51b7d"
            ],
            [
             0.2,
             "#de77ae"
            ],
            [
             0.3,
             "#f1b6da"
            ],
            [
             0.4,
             "#fde0ef"
            ],
            [
             0.5,
             "#f7f7f7"
            ],
            [
             0.6,
             "#e6f5d0"
            ],
            [
             0.7,
             "#b8e186"
            ],
            [
             0.8,
             "#7fbc41"
            ],
            [
             0.9,
             "#4d9221"
            ],
            [
             1,
             "#276419"
            ]
           ],
           "sequential": [
            [
             0.0,
             "#0d0887"
            ],
            [
             0.1111111111111111,
             "#46039f"
            ],
            [
             0.2222222222222222,
             "#7201a8"
            ],
            [
             0.3333333333333333,
             "#9c179e"
            ],
            [
             0.4444444444444444,
             "#bd3786"
            ],
            [
             0.5555555555555556,
             "#d8576b"
            ],
            [
             0.6666666666666666,
             "#ed7953"
            ],
            [
             0.7777777777777778,
             "#fb9f3a"
            ],
            [
             0.8888888888888888,
             "#fdca26"
            ],
            [
             1.0,
             "#f0f921"
            ]
           ],
           "sequentialminus": [
            [
             0.0,
             "#0d0887"
            ],
            [
             0.1111111111111111,
             "#46039f"
            ],
            [
             0.2222222222222222,
             "#7201a8"
            ],
            [
             0.3333333333333333,
             "#9c179e"
            ],
            [
             0.4444444444444444,
             "#bd3786"
            ],
            [
             0.5555555555555556,
             "#d8576b"
            ],
            [
             0.6666666666666666,
             "#ed7953"
            ],
            [
             0.7777777777777778,
             "#fb9f3a"
            ],
            [
             0.8888888888888888,
             "#fdca26"
            ],
            [
             1.0,
             "#f0f921"
            ]
           ]
          },
          "colorway": [
           "#636efa",
           "#EF553B",
           "#00cc96",
           "#ab63fa",
           "#FFA15A",
           "#19d3f3",
           "#FF6692",
           "#B6E880",
           "#FF97FF",
           "#FECB52"
          ],
          "font": {
           "color": "#2a3f5f"
          },
          "geo": {
           "bgcolor": "white",
           "lakecolor": "white",
           "landcolor": "#E5ECF6",
           "showlakes": true,
           "showland": true,
           "subunitcolor": "white"
          },
          "hoverlabel": {
           "align": "left"
          },
          "hovermode": "closest",
          "mapbox": {
           "style": "light"
          },
          "paper_bgcolor": "white",
          "plot_bgcolor": "#E5ECF6",
          "polar": {
           "angularaxis": {
            "gridcolor": "white",
            "linecolor": "white",
            "ticks": ""
           },
           "bgcolor": "#E5ECF6",
           "radialaxis": {
            "gridcolor": "white",
            "linecolor": "white",
            "ticks": ""
           }
          },
          "scene": {
           "xaxis": {
            "backgroundcolor": "#E5ECF6",
            "gridcolor": "white",
            "gridwidth": 2,
            "linecolor": "white",
            "showbackground": true,
            "ticks": "",
            "zerolinecolor": "white"
           },
           "yaxis": {
            "backgroundcolor": "#E5ECF6",
            "gridcolor": "white",
            "gridwidth": 2,
            "linecolor": "white",
            "showbackground": true,
            "ticks": "",
            "zerolinecolor": "white"
           },
           "zaxis": {
            "backgroundcolor": "#E5ECF6",
            "gridcolor": "white",
            "gridwidth": 2,
            "linecolor": "white",
            "showbackground": true,
            "ticks": "",
            "zerolinecolor": "white"
           }
          },
          "shapedefaults": {
           "line": {
            "color": "#2a3f5f"
           }
          },
          "ternary": {
           "aaxis": {
            "gridcolor": "white",
            "linecolor": "white",
            "ticks": ""
           },
           "baxis": {
            "gridcolor": "white",
            "linecolor": "white",
            "ticks": ""
           },
           "bgcolor": "#E5ECF6",
           "caxis": {
            "gridcolor": "white",
            "linecolor": "white",
            "ticks": ""
           }
          },
          "title": {
           "x": 0.05
          },
          "xaxis": {
           "automargin": true,
           "gridcolor": "white",
           "linecolor": "white",
           "ticks": "",
           "title": {
            "standoff": 15
           },
           "zerolinecolor": "white",
           "zerolinewidth": 2
          },
          "yaxis": {
           "automargin": true,
           "gridcolor": "white",
           "linecolor": "white",
           "ticks": "",
           "title": {
            "standoff": 15
           },
           "zerolinecolor": "white",
           "zerolinewidth": 2
          }
         }
        },
        "xaxis": {
         "anchor": "y",
         "domain": [
          0.0,
          1.0
         ],
         "title": {
          "text": "Time"
         }
        },
        "yaxis": {
         "anchor": "x",
         "domain": [
          0.0,
          1.0
         ],
         "title": {
          "text": "Global_active_power"
         }
        },
        "legend": {
         "tracegroupgap": 0
        },
        "margin": {
         "t": 60
        },
        "title": {
         "text": "Monthly 99% percentile Global_active_power"
        },
        "width": 1000
       },
       "config": {
        "plotlyServerURL": "https://plot.ly"
       }
      },
      "text/html": "<div>                            <div id=\"0e3e0912-0ce6-49d7-855a-6c222481143b\" class=\"plotly-graph-div\" style=\"height:525px; width:1000px;\"></div>            <script type=\"text/javascript\">                require([\"plotly\"], function(Plotly) {                    window.PLOTLYENV=window.PLOTLYENV || {};                                    if (document.getElementById(\"0e3e0912-0ce6-49d7-855a-6c222481143b\")) {                    Plotly.newPlot(                        \"0e3e0912-0ce6-49d7-855a-6c222481143b\",                        [{\"hovertemplate\":\"x=%{x}<br>y=%{y}<extra></extra>\",\"legendgroup\":\"\",\"line\":{\"color\":\"#636efa\",\"dash\":\"solid\"},\"marker\":{\"symbol\":\"circle\"},\"mode\":\"lines\",\"name\":\"\",\"orientation\":\"v\",\"showlegend\":false,\"x\":[\"2007-07-31T00:00:00\",\"2007-08-31T00:00:00\",\"2007-09-30T00:00:00\",\"2007-10-31T00:00:00\",\"2007-11-30T00:00:00\",\"2007-12-31T00:00:00\",\"2008-01-31T00:00:00\",\"2008-02-29T00:00:00\",\"2008-03-31T00:00:00\",\"2008-04-30T00:00:00\",\"2008-05-31T00:00:00\",\"2008-06-30T00:00:00\",\"2008-07-31T00:00:00\",\"2008-08-31T00:00:00\",\"2008-09-30T00:00:00\",\"2008-10-31T00:00:00\",\"2008-11-30T00:00:00\",\"2008-12-31T00:00:00\",\"2009-01-31T00:00:00\",\"2009-02-28T00:00:00\",\"2009-03-31T00:00:00\",\"2009-04-30T00:00:00\",\"2009-05-31T00:00:00\",\"2009-06-30T00:00:00\",\"2009-07-31T00:00:00\",\"2009-08-31T00:00:00\",\"2009-09-30T00:00:00\",\"2009-10-31T00:00:00\",\"2009-11-30T00:00:00\",\"2009-12-31T00:00:00\",\"2010-01-31T00:00:00\",\"2010-02-28T00:00:00\",\"2010-03-31T00:00:00\",\"2010-04-30T00:00:00\",\"2010-05-31T00:00:00\",\"2010-06-30T00:00:00\",\"2010-07-31T00:00:00\",\"2010-08-31T00:00:00\",\"2010-09-30T00:00:00\",\"2010-10-31T00:00:00\",\"2010-11-30T00:00:00\",\"2010-12-31T00:00:00\"],\"xaxis\":\"x\",\"y\":[4.671220000000001,4.6892200000000015,5.0440600000000115,5.346,5.506060000000012,5.849220000000001,5.328,4.54,4.847220000000001,4.750060000000012,4.972440000000002,4.79,4.2,4.3996600000000035,4.588020000000004,4.9872200000000015,5.182,5.043220000000001,5.524,4.462,4.566,4.420040000000008,4.191220000000001,3.756020000000004,4.1,4.418,4.234,4.827220000000001,5.444,5.090440000000002,4.874060000000012,4.8408399999999965,4.514060000000012,4.0128199999999925,4.116020000000003,4.032819999999992,3.41,3.9700400000000085,3.8792799999999694,4.704020000000003,4.432,3.882],\"yaxis\":\"y\",\"type\":\"scatter\"},{\"mode\":\"lines\",\"name\":\"Simple RNN\",\"x\":[\"2010-03-31T00:00:00\",\"2010-04-30T00:00:00\",\"2010-05-31T00:00:00\",\"2010-06-30T00:00:00\",\"2010-07-31T00:00:00\",\"2010-08-31T00:00:00\",\"2010-09-30T00:00:00\",\"2010-10-31T00:00:00\",\"2010-11-30T00:00:00\",\"2010-12-31T00:00:00\"],\"y\":[4.06910514831543,4.125767707824707,4.167656421661377,4.105349540710449,4.137905120849609,4.169850826263428,4.021576881408691,4.136882781982422,3.9502880573272705,4.118408679962158],\"type\":\"scatter\"}],                        {\"template\":{\"data\":{\"bar\":[{\"error_x\":{\"color\":\"#2a3f5f\"},\"error_y\":{\"color\":\"#2a3f5f\"},\"marker\":{\"line\":{\"color\":\"#E5ECF6\",\"width\":0.5},\"pattern\":{\"fillmode\":\"overlay\",\"size\":10,\"solidity\":0.2}},\"type\":\"bar\"}],\"barpolar\":[{\"marker\":{\"line\":{\"color\":\"#E5ECF6\",\"width\":0.5},\"pattern\":{\"fillmode\":\"overlay\",\"size\":10,\"solidity\":0.2}},\"type\":\"barpolar\"}],\"carpet\":[{\"aaxis\":{\"endlinecolor\":\"#2a3f5f\",\"gridcolor\":\"white\",\"linecolor\":\"white\",\"minorgridcolor\":\"white\",\"startlinecolor\":\"#2a3f5f\"},\"baxis\":{\"endlinecolor\":\"#2a3f5f\",\"gridcolor\":\"white\",\"linecolor\":\"white\",\"minorgridcolor\":\"white\",\"startlinecolor\":\"#2a3f5f\"},\"type\":\"carpet\"}],\"choropleth\":[{\"colorbar\":{\"outlinewidth\":0,\"ticks\":\"\"},\"type\":\"choropleth\"}],\"contour\":[{\"colorbar\":{\"outlinewidth\":0,\"ticks\":\"\"},\"colorscale\":[[0.0,\"#0d0887\"],[0.1111111111111111,\"#46039f\"],[0.2222222222222222,\"#7201a8\"],[0.3333333333333333,\"#9c179e\"],[0.4444444444444444,\"#bd3786\"],[0.5555555555555556,\"#d8576b\"],[0.6666666666666666,\"#ed7953\"],[0.7777777777777778,\"#fb9f3a\"],[0.8888888888888888,\"#fdca26\"],[1.0,\"#f0f921\"]],\"type\":\"contour\"}],\"contourcarpet\":[{\"colorbar\":{\"outlinewidth\":0,\"ticks\":\"\"},\"type\":\"contourcarpet\"}],\"heatmap\":[{\"colorbar\":{\"outlinewidth\":0,\"ticks\":\"\"},\"colorscale\":[[0.0,\"#0d0887\"],[0.1111111111111111,\"#46039f\"],[0.2222222222222222,\"#7201a8\"],[0.3333333333333333,\"#9c179e\"],[0.4444444444444444,\"#bd3786\"],[0.5555555555555556,\"#d8576b\"],[0.6666666666666666,\"#ed7953\"],[0.7777777777777778,\"#fb9f3a\"],[0.8888888888888888,\"#fdca26\"],[1.0,\"#f0f921\"]],\"type\":\"heatmap\"}],\"heatmapgl\":[{\"colorbar\":{\"outlinewidth\":0,\"ticks\":\"\"},\"colorscale\":[[0.0,\"#0d0887\"],[0.1111111111111111,\"#46039f\"],[0.2222222222222222,\"#7201a8\"],[0.3333333333333333,\"#9c179e\"],[0.4444444444444444,\"#bd3786\"],[0.5555555555555556,\"#d8576b\"],[0.6666666666666666,\"#ed7953\"],[0.7777777777777778,\"#fb9f3a\"],[0.8888888888888888,\"#fdca26\"],[1.0,\"#f0f921\"]],\"type\":\"heatmapgl\"}],\"histogram\":[{\"marker\":{\"pattern\":{\"fillmode\":\"overlay\",\"size\":10,\"solidity\":0.2}},\"type\":\"histogram\"}],\"histogram2d\":[{\"colorbar\":{\"outlinewidth\":0,\"ticks\":\"\"},\"colorscale\":[[0.0,\"#0d0887\"],[0.1111111111111111,\"#46039f\"],[0.2222222222222222,\"#7201a8\"],[0.3333333333333333,\"#9c179e\"],[0.4444444444444444,\"#bd3786\"],[0.5555555555555556,\"#d8576b\"],[0.6666666666666666,\"#ed7953\"],[0.7777777777777778,\"#fb9f3a\"],[0.8888888888888888,\"#fdca26\"],[1.0,\"#f0f921\"]],\"type\":\"histogram2d\"}],\"histogram2dcontour\":[{\"colorbar\":{\"outlinewidth\":0,\"ticks\":\"\"},\"colorscale\":[[0.0,\"#0d0887\"],[0.1111111111111111,\"#46039f\"],[0.2222222222222222,\"#7201a8\"],[0.3333333333333333,\"#9c179e\"],[0.4444444444444444,\"#bd3786\"],[0.5555555555555556,\"#d8576b\"],[0.6666666666666666,\"#ed7953\"],[0.7777777777777778,\"#fb9f3a\"],[0.8888888888888888,\"#fdca26\"],[1.0,\"#f0f921\"]],\"type\":\"histogram2dcontour\"}],\"mesh3d\":[{\"colorbar\":{\"outlinewidth\":0,\"ticks\":\"\"},\"type\":\"mesh3d\"}],\"parcoords\":[{\"line\":{\"colorbar\":{\"outlinewidth\":0,\"ticks\":\"\"}},\"type\":\"parcoords\"}],\"pie\":[{\"automargin\":true,\"type\":\"pie\"}],\"scatter\":[{\"marker\":{\"colorbar\":{\"outlinewidth\":0,\"ticks\":\"\"}},\"type\":\"scatter\"}],\"scatter3d\":[{\"line\":{\"colorbar\":{\"outlinewidth\":0,\"ticks\":\"\"}},\"marker\":{\"colorbar\":{\"outlinewidth\":0,\"ticks\":\"\"}},\"type\":\"scatter3d\"}],\"scattercarpet\":[{\"marker\":{\"colorbar\":{\"outlinewidth\":0,\"ticks\":\"\"}},\"type\":\"scattercarpet\"}],\"scattergeo\":[{\"marker\":{\"colorbar\":{\"outlinewidth\":0,\"ticks\":\"\"}},\"type\":\"scattergeo\"}],\"scattergl\":[{\"marker\":{\"colorbar\":{\"outlinewidth\":0,\"ticks\":\"\"}},\"type\":\"scattergl\"}],\"scattermapbox\":[{\"marker\":{\"colorbar\":{\"outlinewidth\":0,\"ticks\":\"\"}},\"type\":\"scattermapbox\"}],\"scatterpolar\":[{\"marker\":{\"colorbar\":{\"outlinewidth\":0,\"ticks\":\"\"}},\"type\":\"scatterpolar\"}],\"scatterpolargl\":[{\"marker\":{\"colorbar\":{\"outlinewidth\":0,\"ticks\":\"\"}},\"type\":\"scatterpolargl\"}],\"scatterternary\":[{\"marker\":{\"colorbar\":{\"outlinewidth\":0,\"ticks\":\"\"}},\"type\":\"scatterternary\"}],\"surface\":[{\"colorbar\":{\"outlinewidth\":0,\"ticks\":\"\"},\"colorscale\":[[0.0,\"#0d0887\"],[0.1111111111111111,\"#46039f\"],[0.2222222222222222,\"#7201a8\"],[0.3333333333333333,\"#9c179e\"],[0.4444444444444444,\"#bd3786\"],[0.5555555555555556,\"#d8576b\"],[0.6666666666666666,\"#ed7953\"],[0.7777777777777778,\"#fb9f3a\"],[0.8888888888888888,\"#fdca26\"],[1.0,\"#f0f921\"]],\"type\":\"surface\"}],\"table\":[{\"cells\":{\"fill\":{\"color\":\"#EBF0F8\"},\"line\":{\"color\":\"white\"}},\"header\":{\"fill\":{\"color\":\"#C8D4E3\"},\"line\":{\"color\":\"white\"}},\"type\":\"table\"}]},\"layout\":{\"annotationdefaults\":{\"arrowcolor\":\"#2a3f5f\",\"arrowhead\":0,\"arrowwidth\":1},\"autotypenumbers\":\"strict\",\"coloraxis\":{\"colorbar\":{\"outlinewidth\":0,\"ticks\":\"\"}},\"colorscale\":{\"diverging\":[[0,\"#8e0152\"],[0.1,\"#c51b7d\"],[0.2,\"#de77ae\"],[0.3,\"#f1b6da\"],[0.4,\"#fde0ef\"],[0.5,\"#f7f7f7\"],[0.6,\"#e6f5d0\"],[0.7,\"#b8e186\"],[0.8,\"#7fbc41\"],[0.9,\"#4d9221\"],[1,\"#276419\"]],\"sequential\":[[0.0,\"#0d0887\"],[0.1111111111111111,\"#46039f\"],[0.2222222222222222,\"#7201a8\"],[0.3333333333333333,\"#9c179e\"],[0.4444444444444444,\"#bd3786\"],[0.5555555555555556,\"#d8576b\"],[0.6666666666666666,\"#ed7953\"],[0.7777777777777778,\"#fb9f3a\"],[0.8888888888888888,\"#fdca26\"],[1.0,\"#f0f921\"]],\"sequentialminus\":[[0.0,\"#0d0887\"],[0.1111111111111111,\"#46039f\"],[0.2222222222222222,\"#7201a8\"],[0.3333333333333333,\"#9c179e\"],[0.4444444444444444,\"#bd3786\"],[0.5555555555555556,\"#d8576b\"],[0.6666666666666666,\"#ed7953\"],[0.7777777777777778,\"#fb9f3a\"],[0.8888888888888888,\"#fdca26\"],[1.0,\"#f0f921\"]]},\"colorway\":[\"#636efa\",\"#EF553B\",\"#00cc96\",\"#ab63fa\",\"#FFA15A\",\"#19d3f3\",\"#FF6692\",\"#B6E880\",\"#FF97FF\",\"#FECB52\"],\"font\":{\"color\":\"#2a3f5f\"},\"geo\":{\"bgcolor\":\"white\",\"lakecolor\":\"white\",\"landcolor\":\"#E5ECF6\",\"showlakes\":true,\"showland\":true,\"subunitcolor\":\"white\"},\"hoverlabel\":{\"align\":\"left\"},\"hovermode\":\"closest\",\"mapbox\":{\"style\":\"light\"},\"paper_bgcolor\":\"white\",\"plot_bgcolor\":\"#E5ECF6\",\"polar\":{\"angularaxis\":{\"gridcolor\":\"white\",\"linecolor\":\"white\",\"ticks\":\"\"},\"bgcolor\":\"#E5ECF6\",\"radialaxis\":{\"gridcolor\":\"white\",\"linecolor\":\"white\",\"ticks\":\"\"}},\"scene\":{\"xaxis\":{\"backgroundcolor\":\"#E5ECF6\",\"gridcolor\":\"white\",\"gridwidth\":2,\"linecolor\":\"white\",\"showbackground\":true,\"ticks\":\"\",\"zerolinecolor\":\"white\"},\"yaxis\":{\"backgroundcolor\":\"#E5ECF6\",\"gridcolor\":\"white\",\"gridwidth\":2,\"linecolor\":\"white\",\"showbackground\":true,\"ticks\":\"\",\"zerolinecolor\":\"white\"},\"zaxis\":{\"backgroundcolor\":\"#E5ECF6\",\"gridcolor\":\"white\",\"gridwidth\":2,\"linecolor\":\"white\",\"showbackground\":true,\"ticks\":\"\",\"zerolinecolor\":\"white\"}},\"shapedefaults\":{\"line\":{\"color\":\"#2a3f5f\"}},\"ternary\":{\"aaxis\":{\"gridcolor\":\"white\",\"linecolor\":\"white\",\"ticks\":\"\"},\"baxis\":{\"gridcolor\":\"white\",\"linecolor\":\"white\",\"ticks\":\"\"},\"bgcolor\":\"#E5ECF6\",\"caxis\":{\"gridcolor\":\"white\",\"linecolor\":\"white\",\"ticks\":\"\"}},\"title\":{\"x\":0.05},\"xaxis\":{\"automargin\":true,\"gridcolor\":\"white\",\"linecolor\":\"white\",\"ticks\":\"\",\"title\":{\"standoff\":15},\"zerolinecolor\":\"white\",\"zerolinewidth\":2},\"yaxis\":{\"automargin\":true,\"gridcolor\":\"white\",\"linecolor\":\"white\",\"ticks\":\"\",\"title\":{\"standoff\":15},\"zerolinecolor\":\"white\",\"zerolinewidth\":2}}},\"xaxis\":{\"anchor\":\"y\",\"domain\":[0.0,1.0],\"title\":{\"text\":\"Time\"}},\"yaxis\":{\"anchor\":\"x\",\"domain\":[0.0,1.0],\"title\":{\"text\":\"Global_active_power\"}},\"legend\":{\"tracegroupgap\":0},\"margin\":{\"t\":60},\"title\":{\"text\":\"Monthly 99% percentile Global_active_power\"},\"width\":1000},                        {\"responsive\": true}                    ).then(function(){\n                            \nvar gd = document.getElementById('0e3e0912-0ce6-49d7-855a-6c222481143b');\nvar x = new MutationObserver(function (mutations, observer) {{\n        var display = window.getComputedStyle(gd).display;\n        if (!display || display === 'none') {{\n            console.log([gd, 'removed!']);\n            Plotly.purge(gd);\n            observer.disconnect();\n        }}\n}});\n\n// Listen for the removal of the full notebook cells\nvar notebookContainer = gd.closest('#notebook-container');\nif (notebookContainer) {{\n    x.observe(notebookContainer, {childList: true});\n}}\n\n// Listen for the clearing of the current output cell\nvar outputEl = gd.closest('.output');\nif (outputEl) {{\n    x.observe(outputEl, {childList: true});\n}}\n\n                        })                };                });            </script>        </div>"
     },
     "metadata": {},
     "output_type": "display_data"
    }
   ],
   "source": [
    "figure = px.line(x=df_monthly.index, y=df_monthly[var])\n",
    "figure.add_scatter(\n",
    "    x=y_true.index,\n",
    "    y=model_rnn.predict(test_X).flatten(),\n",
    "    mode=\"lines\",\n",
    "    name=\"Simple RNN\",\n",
    ")\n",
    "figure.update_layout(\n",
    "    title=f\"Monthly 99% percentile {var}\",\n",
    "    width=1000,\n",
    "    xaxis_title=\"Time\",\n",
    "    yaxis_title=f\"{var}\",\n",
    ")\n",
    "figure.show()"
   ],
   "metadata": {
    "collapsed": false,
    "pycharm": {
     "name": "#%%\n"
    }
   }
  },
  {
   "cell_type": "markdown",
   "source": [
    "# Long-Short term memory (LSTM)"
   ],
   "metadata": {
    "collapsed": false,
    "pycharm": {
     "name": "#%% md\n"
    }
   }
  },
  {
   "cell_type": "code",
   "execution_count": 279,
   "outputs": [
    {
     "name": "stdout",
     "output_type": "stream",
     "text": [
      "Model loaded: KerasCoreModel.lstm\n",
      "LSTM\n",
      "model.add(LSTM(cell_units, input_shape=(train_X.shape[1],1)))\n",
      "Epoch 1/500\n",
      "1/1 [==============================] - 2s 2s/step - loss: 30.7592 - val_loss: 24.0244\n",
      "Epoch 2/500\n",
      "1/1 [==============================] - 0s 35ms/step - loss: 30.1060 - val_loss: 23.4432\n",
      "Epoch 3/500\n",
      "1/1 [==============================] - 0s 35ms/step - loss: 29.4668 - val_loss: 22.8757\n",
      "Epoch 4/500\n",
      "1/1 [==============================] - 0s 38ms/step - loss: 28.8417 - val_loss: 22.3217\n",
      "Epoch 5/500\n",
      "1/1 [==============================] - 0s 41ms/step - loss: 28.2309 - val_loss: 21.7812\n",
      "Epoch 6/500\n",
      "1/1 [==============================] - 0s 34ms/step - loss: 27.6339 - val_loss: 21.2538\n",
      "Epoch 7/500\n",
      "1/1 [==============================] - 0s 38ms/step - loss: 27.0505 - val_loss: 20.7392\n",
      "Epoch 8/500\n",
      "1/1 [==============================] - 0s 35ms/step - loss: 26.4801 - val_loss: 20.2370\n",
      "Epoch 9/500\n",
      "1/1 [==============================] - 0s 35ms/step - loss: 25.9225 - val_loss: 19.7469\n",
      "Epoch 10/500\n",
      "1/1 [==============================] - 0s 33ms/step - loss: 25.3771 - val_loss: 19.2683\n",
      "Epoch 11/500\n",
      "1/1 [==============================] - 0s 35ms/step - loss: 24.8434 - val_loss: 18.8010\n",
      "Epoch 12/500\n",
      "1/1 [==============================] - 0s 42ms/step - loss: 24.3209 - val_loss: 18.3444\n",
      "Epoch 13/500\n",
      "1/1 [==============================] - 0s 37ms/step - loss: 23.8091 - val_loss: 17.8980\n",
      "Epoch 14/500\n",
      "1/1 [==============================] - 0s 35ms/step - loss: 23.3074 - val_loss: 17.4613\n",
      "Epoch 15/500\n",
      "1/1 [==============================] - 0s 34ms/step - loss: 22.8154 - val_loss: 17.0338\n",
      "Epoch 16/500\n",
      "1/1 [==============================] - 0s 33ms/step - loss: 22.3324 - val_loss: 16.6151\n",
      "Epoch 17/500\n",
      "1/1 [==============================] - 0s 34ms/step - loss: 21.8580 - val_loss: 16.2047\n",
      "Epoch 18/500\n",
      "1/1 [==============================] - 0s 36ms/step - loss: 21.3918 - val_loss: 15.8021\n",
      "Epoch 19/500\n",
      "1/1 [==============================] - 0s 35ms/step - loss: 20.9333 - val_loss: 15.4070\n",
      "Epoch 20/500\n",
      "1/1 [==============================] - 0s 35ms/step - loss: 20.4820 - val_loss: 15.0189\n",
      "Epoch 21/500\n",
      "1/1 [==============================] - 0s 36ms/step - loss: 20.0376 - val_loss: 14.6375\n",
      "Epoch 22/500\n",
      "1/1 [==============================] - 0s 34ms/step - loss: 19.5998 - val_loss: 14.2624\n",
      "Epoch 23/500\n",
      "1/1 [==============================] - 0s 40ms/step - loss: 19.1683 - val_loss: 13.8934\n",
      "Epoch 24/500\n",
      "1/1 [==============================] - 0s 49ms/step - loss: 18.7426 - val_loss: 13.5301\n",
      "Epoch 25/500\n",
      "1/1 [==============================] - 0s 40ms/step - loss: 18.3226 - val_loss: 13.1723\n",
      "Epoch 26/500\n",
      "1/1 [==============================] - 0s 41ms/step - loss: 17.9081 - val_loss: 12.8197\n",
      "Epoch 27/500\n",
      "1/1 [==============================] - 0s 35ms/step - loss: 17.4987 - val_loss: 12.4721\n",
      "Epoch 28/500\n",
      "1/1 [==============================] - 0s 38ms/step - loss: 17.0942 - val_loss: 12.1293\n",
      "Epoch 29/500\n",
      "1/1 [==============================] - 0s 33ms/step - loss: 16.6946 - val_loss: 11.7910\n",
      "Epoch 30/500\n",
      "1/1 [==============================] - 0s 40ms/step - loss: 16.2994 - val_loss: 11.4571\n",
      "Epoch 31/500\n",
      "1/1 [==============================] - 0s 46ms/step - loss: 15.9086 - val_loss: 11.1274\n",
      "Epoch 32/500\n",
      "1/1 [==============================] - 0s 36ms/step - loss: 15.5220 - val_loss: 10.8016\n",
      "Epoch 33/500\n",
      "1/1 [==============================] - 0s 38ms/step - loss: 15.1394 - val_loss: 10.4797\n",
      "Epoch 34/500\n",
      "1/1 [==============================] - 0s 58ms/step - loss: 14.7606 - val_loss: 10.1616\n",
      "Epoch 35/500\n",
      "1/1 [==============================] - 0s 37ms/step - loss: 14.3854 - val_loss: 9.8469\n",
      "Epoch 36/500\n",
      "1/1 [==============================] - 0s 34ms/step - loss: 14.0137 - val_loss: 9.5358\n",
      "Epoch 37/500\n",
      "1/1 [==============================] - 0s 42ms/step - loss: 13.6452 - val_loss: 9.2279\n",
      "Epoch 38/500\n",
      "1/1 [==============================] - 0s 43ms/step - loss: 13.2798 - val_loss: 8.9233\n",
      "Epoch 39/500\n",
      "1/1 [==============================] - 0s 36ms/step - loss: 12.9174 - val_loss: 8.6219\n",
      "Epoch 40/500\n",
      "1/1 [==============================] - 0s 34ms/step - loss: 12.5576 - val_loss: 8.3237\n",
      "Epoch 41/500\n",
      "1/1 [==============================] - 0s 32ms/step - loss: 12.2005 - val_loss: 8.0287\n",
      "Epoch 42/500\n",
      "1/1 [==============================] - 0s 33ms/step - loss: 11.8458 - val_loss: 7.7369\n",
      "Epoch 43/500\n",
      "1/1 [==============================] - 0s 34ms/step - loss: 11.4936 - val_loss: 7.4486\n",
      "Epoch 44/500\n",
      "1/1 [==============================] - 0s 35ms/step - loss: 11.1437 - val_loss: 7.1637\n",
      "Epoch 45/500\n",
      "1/1 [==============================] - 0s 35ms/step - loss: 10.7962 - val_loss: 6.8826\n",
      "Epoch 46/500\n",
      "1/1 [==============================] - 0s 42ms/step - loss: 10.4514 - val_loss: 6.6054\n",
      "Epoch 47/500\n",
      "1/1 [==============================] - 0s 45ms/step - loss: 10.1093 - val_loss: 6.3325\n",
      "Epoch 48/500\n",
      "1/1 [==============================] - 0s 35ms/step - loss: 9.7702 - val_loss: 6.0641\n",
      "Epoch 49/500\n",
      "1/1 [==============================] - 0s 43ms/step - loss: 9.4345 - val_loss: 5.8004\n",
      "Epoch 50/500\n",
      "1/1 [==============================] - 0s 40ms/step - loss: 9.1026 - val_loss: 5.5418\n",
      "Epoch 51/500\n",
      "1/1 [==============================] - 0s 38ms/step - loss: 8.7747 - val_loss: 5.2883\n",
      "Epoch 52/500\n",
      "1/1 [==============================] - 0s 44ms/step - loss: 8.4513 - val_loss: 5.0402\n",
      "Epoch 53/500\n",
      "1/1 [==============================] - 0s 37ms/step - loss: 8.1327 - val_loss: 4.7975\n",
      "Epoch 54/500\n",
      "1/1 [==============================] - 0s 37ms/step - loss: 7.8191 - val_loss: 4.5603\n",
      "Epoch 55/500\n",
      "1/1 [==============================] - 0s 36ms/step - loss: 7.5107 - val_loss: 4.3286\n",
      "Epoch 56/500\n",
      "1/1 [==============================] - 0s 36ms/step - loss: 7.2077 - val_loss: 4.1024\n",
      "Epoch 57/500\n",
      "1/1 [==============================] - 0s 37ms/step - loss: 6.9101 - val_loss: 3.8817\n",
      "Epoch 58/500\n",
      "1/1 [==============================] - 0s 37ms/step - loss: 6.6181 - val_loss: 3.6665\n",
      "Epoch 59/500\n",
      "1/1 [==============================] - 0s 35ms/step - loss: 6.3317 - val_loss: 3.4569\n",
      "Epoch 60/500\n",
      "1/1 [==============================] - 0s 35ms/step - loss: 6.0509 - val_loss: 3.2530\n",
      "Epoch 61/500\n",
      "1/1 [==============================] - 0s 36ms/step - loss: 5.7760 - val_loss: 3.0549\n",
      "Epoch 62/500\n",
      "1/1 [==============================] - 0s 35ms/step - loss: 5.5070 - val_loss: 2.8626\n",
      "Epoch 63/500\n",
      "1/1 [==============================] - 0s 35ms/step - loss: 5.2441 - val_loss: 2.6764\n",
      "Epoch 64/500\n",
      "1/1 [==============================] - 0s 36ms/step - loss: 4.9875 - val_loss: 2.4965\n",
      "Epoch 65/500\n",
      "1/1 [==============================] - 0s 35ms/step - loss: 4.7373 - val_loss: 2.3229\n",
      "Epoch 66/500\n",
      "1/1 [==============================] - 0s 36ms/step - loss: 4.4938 - val_loss: 2.1558\n",
      "Epoch 67/500\n",
      "1/1 [==============================] - 0s 35ms/step - loss: 4.2570 - val_loss: 1.9954\n",
      "Epoch 68/500\n",
      "1/1 [==============================] - 0s 35ms/step - loss: 4.0272 - val_loss: 1.8416\n",
      "Epoch 69/500\n",
      "1/1 [==============================] - 0s 36ms/step - loss: 3.8044 - val_loss: 1.6947\n",
      "Epoch 70/500\n",
      "1/1 [==============================] - 0s 38ms/step - loss: 3.5887 - val_loss: 1.5546\n",
      "Epoch 71/500\n",
      "1/1 [==============================] - 0s 36ms/step - loss: 3.3802 - val_loss: 1.4214\n",
      "Epoch 72/500\n",
      "1/1 [==============================] - 0s 35ms/step - loss: 3.1790 - val_loss: 1.2950\n",
      "Epoch 73/500\n",
      "1/1 [==============================] - 0s 36ms/step - loss: 2.9850 - val_loss: 1.1756\n",
      "Epoch 74/500\n",
      "1/1 [==============================] - 0s 38ms/step - loss: 2.7983 - val_loss: 1.0630\n",
      "Epoch 75/500\n",
      "1/1 [==============================] - 0s 35ms/step - loss: 2.6189 - val_loss: 0.9573\n",
      "Epoch 76/500\n",
      "1/1 [==============================] - 0s 35ms/step - loss: 2.4468 - val_loss: 0.8584\n",
      "Epoch 77/500\n",
      "1/1 [==============================] - 0s 33ms/step - loss: 2.2819 - val_loss: 0.7663\n",
      "Epoch 78/500\n",
      "1/1 [==============================] - 0s 39ms/step - loss: 2.1243 - val_loss: 0.6809\n",
      "Epoch 79/500\n",
      "1/1 [==============================] - 0s 39ms/step - loss: 1.9739 - val_loss: 0.6022\n",
      "Epoch 80/500\n",
      "1/1 [==============================] - 0s 36ms/step - loss: 1.8307 - val_loss: 0.5301\n",
      "Epoch 81/500\n",
      "1/1 [==============================] - 0s 37ms/step - loss: 1.6947 - val_loss: 0.4645\n",
      "Epoch 82/500\n",
      "1/1 [==============================] - 0s 36ms/step - loss: 1.5659 - val_loss: 0.4054\n",
      "Epoch 83/500\n",
      "1/1 [==============================] - 0s 34ms/step - loss: 1.4442 - val_loss: 0.3525\n",
      "Epoch 84/500\n",
      "1/1 [==============================] - 0s 35ms/step - loss: 1.3295 - val_loss: 0.3058\n",
      "Epoch 85/500\n",
      "1/1 [==============================] - 0s 34ms/step - loss: 1.2218 - val_loss: 0.2651\n",
      "Epoch 86/500\n",
      "1/1 [==============================] - 0s 35ms/step - loss: 1.1210 - val_loss: 0.2302\n",
      "Epoch 87/500\n",
      "1/1 [==============================] - 0s 35ms/step - loss: 1.0270 - val_loss: 0.2009\n",
      "Epoch 88/500\n",
      "1/1 [==============================] - 0s 33ms/step - loss: 0.9397 - val_loss: 0.1770\n",
      "Epoch 89/500\n",
      "1/1 [==============================] - 0s 34ms/step - loss: 0.8588 - val_loss: 0.1581\n",
      "Epoch 90/500\n",
      "1/1 [==============================] - 0s 34ms/step - loss: 0.7843 - val_loss: 0.1441\n",
      "Epoch 91/500\n",
      "1/1 [==============================] - 0s 34ms/step - loss: 0.7160 - val_loss: 0.1346\n",
      "Epoch 92/500\n",
      "1/1 [==============================] - 0s 34ms/step - loss: 0.6536 - val_loss: 0.1292\n",
      "Epoch 93/500\n",
      "1/1 [==============================] - 0s 33ms/step - loss: 0.5969 - val_loss: 0.1278\n",
      "Epoch 94/500\n",
      "1/1 [==============================] - 0s 19ms/step - loss: 0.5456 - val_loss: 0.1298\n",
      "Epoch 95/500\n",
      "1/1 [==============================] - 0s 18ms/step - loss: 0.4995 - val_loss: 0.1351\n",
      "Epoch 96/500\n",
      "1/1 [==============================] - 0s 18ms/step - loss: 0.4582 - val_loss: 0.1431\n",
      "Epoch 97/500\n",
      "1/1 [==============================] - 0s 20ms/step - loss: 0.4215 - val_loss: 0.1537\n",
      "Epoch 98/500\n",
      "1/1 [==============================] - 0s 19ms/step - loss: 0.3890 - val_loss: 0.1663\n",
      "Epoch 99/500\n",
      "1/1 [==============================] - 0s 19ms/step - loss: 0.3605 - val_loss: 0.1808\n",
      "Epoch 100/500\n",
      "1/1 [==============================] - 0s 18ms/step - loss: 0.3356 - val_loss: 0.1968\n",
      "Epoch 101/500\n",
      "1/1 [==============================] - 0s 20ms/step - loss: 0.3140 - val_loss: 0.2140\n",
      "Epoch 102/500\n",
      "1/1 [==============================] - 0s 18ms/step - loss: 0.2954 - val_loss: 0.2321\n",
      "Epoch 103/500\n",
      "1/1 [==============================] - 0s 19ms/step - loss: 0.2795 - val_loss: 0.2508\n",
      "Epoch 104/500\n",
      "1/1 [==============================] - 0s 18ms/step - loss: 0.2661 - val_loss: 0.2699\n",
      "Epoch 105/500\n",
      "1/1 [==============================] - 0s 18ms/step - loss: 0.2548 - val_loss: 0.2891\n",
      "Epoch 106/500\n",
      "1/1 [==============================] - 0s 19ms/step - loss: 0.2455 - val_loss: 0.3084\n",
      "Epoch 107/500\n",
      "1/1 [==============================] - 0s 22ms/step - loss: 0.2379 - val_loss: 0.3274\n",
      "Epoch 108/500\n",
      "1/1 [==============================] - 0s 20ms/step - loss: 0.2317 - val_loss: 0.3460\n",
      "Epoch 109/500\n",
      "1/1 [==============================] - 0s 20ms/step - loss: 0.2268 - val_loss: 0.3640\n",
      "Epoch 110/500\n",
      "1/1 [==============================] - 0s 20ms/step - loss: 0.2231 - val_loss: 0.3814\n",
      "Epoch 111/500\n",
      "1/1 [==============================] - 0s 157ms/step - loss: 0.2202 - val_loss: 0.3981\n",
      "Epoch 112/500\n",
      "1/1 [==============================] - 0s 21ms/step - loss: 0.2181 - val_loss: 0.4139\n",
      "Epoch 113/500\n",
      "1/1 [==============================] - 0s 19ms/step - loss: 0.2166 - val_loss: 0.4288\n",
      "Epoch 114/500\n",
      "1/1 [==============================] - 0s 19ms/step - loss: 0.2157 - val_loss: 0.4427\n",
      "Epoch 115/500\n",
      "1/1 [==============================] - 0s 19ms/step - loss: 0.2151 - val_loss: 0.4557\n",
      "Epoch 116/500\n",
      "1/1 [==============================] - 0s 19ms/step - loss: 0.2149 - val_loss: 0.4676\n",
      "Epoch 117/500\n",
      "1/1 [==============================] - 0s 20ms/step - loss: 0.2150 - val_loss: 0.4785\n",
      "Epoch 118/500\n",
      "1/1 [==============================] - 0s 18ms/step - loss: 0.2152 - val_loss: 0.4884\n",
      "Epoch 119/500\n",
      "1/1 [==============================] - 0s 18ms/step - loss: 0.2155 - val_loss: 0.4972\n",
      "Epoch 120/500\n",
      "1/1 [==============================] - 0s 19ms/step - loss: 0.2159 - val_loss: 0.5050\n",
      "Epoch 121/500\n",
      "1/1 [==============================] - 0s 19ms/step - loss: 0.2164 - val_loss: 0.5119\n",
      "Epoch 122/500\n",
      "1/1 [==============================] - 0s 20ms/step - loss: 0.2168 - val_loss: 0.5178\n",
      "Epoch 123/500\n",
      "1/1 [==============================] - 0s 18ms/step - loss: 0.2173 - val_loss: 0.5228\n",
      "Epoch 124/500\n",
      "1/1 [==============================] - 0s 19ms/step - loss: 0.2177 - val_loss: 0.5269\n",
      "Epoch 125/500\n",
      "1/1 [==============================] - 0s 19ms/step - loss: 0.2180 - val_loss: 0.5303\n",
      "Epoch 126/500\n",
      "1/1 [==============================] - 0s 18ms/step - loss: 0.2183 - val_loss: 0.5328\n",
      "Epoch 127/500\n",
      "1/1 [==============================] - 0s 19ms/step - loss: 0.2186 - val_loss: 0.5347\n",
      "Epoch 128/500\n",
      "1/1 [==============================] - 0s 20ms/step - loss: 0.2187 - val_loss: 0.5359\n",
      "Epoch 129/500\n",
      "1/1 [==============================] - 0s 19ms/step - loss: 0.2188 - val_loss: 0.5364\n",
      "Epoch 130/500\n",
      "1/1 [==============================] - 0s 18ms/step - loss: 0.2189 - val_loss: 0.5365\n",
      "Epoch 131/500\n",
      "1/1 [==============================] - 0s 18ms/step - loss: 0.2189 - val_loss: 0.5360\n",
      "Epoch 132/500\n",
      "1/1 [==============================] - 0s 19ms/step - loss: 0.2188 - val_loss: 0.5350\n",
      "Epoch 133/500\n",
      "1/1 [==============================] - 0s 21ms/step - loss: 0.2187 - val_loss: 0.5337\n",
      "Epoch 134/500\n",
      "1/1 [==============================] - 0s 18ms/step - loss: 0.2186 - val_loss: 0.5320\n",
      "Epoch 135/500\n",
      "1/1 [==============================] - 0s 18ms/step - loss: 0.2184 - val_loss: 0.5300\n",
      "Epoch 136/500\n",
      "1/1 [==============================] - 0s 19ms/step - loss: 0.2182 - val_loss: 0.5277\n",
      "Epoch 137/500\n",
      "1/1 [==============================] - 0s 21ms/step - loss: 0.2180 - val_loss: 0.5252\n",
      "Epoch 138/500\n",
      "1/1 [==============================] - 0s 19ms/step - loss: 0.2177 - val_loss: 0.5225\n",
      "Epoch 139/500\n",
      "1/1 [==============================] - 0s 18ms/step - loss: 0.2175 - val_loss: 0.5196\n",
      "Epoch 140/500\n",
      "1/1 [==============================] - 0s 19ms/step - loss: 0.2172 - val_loss: 0.5167\n",
      "Epoch 141/500\n",
      "1/1 [==============================] - 0s 19ms/step - loss: 0.2170 - val_loss: 0.5136\n",
      "Epoch 142/500\n",
      "1/1 [==============================] - 0s 20ms/step - loss: 0.2167 - val_loss: 0.5105\n",
      "Epoch 143/500\n",
      "1/1 [==============================] - 0s 18ms/step - loss: 0.2165 - val_loss: 0.5073\n",
      "Epoch 144/500\n",
      "1/1 [==============================] - 0s 20ms/step - loss: 0.2162 - val_loss: 0.5041\n",
      "Epoch 145/500\n",
      "1/1 [==============================] - 0s 18ms/step - loss: 0.2160 - val_loss: 0.5010\n",
      "Epoch 146/500\n",
      "1/1 [==============================] - 0s 19ms/step - loss: 0.2158 - val_loss: 0.4978\n",
      "Epoch 147/500\n",
      "1/1 [==============================] - 0s 18ms/step - loss: 0.2156 - val_loss: 0.4948\n",
      "Epoch 148/500\n",
      "1/1 [==============================] - 0s 18ms/step - loss: 0.2154 - val_loss: 0.4917\n",
      "Epoch 149/500\n",
      "1/1 [==============================] - 0s 19ms/step - loss: 0.2152 - val_loss: 0.4888\n",
      "Epoch 150/500\n",
      "1/1 [==============================] - 0s 19ms/step - loss: 0.2151 - val_loss: 0.4859\n",
      "Epoch 151/500\n",
      "1/1 [==============================] - 0s 19ms/step - loss: 0.2149 - val_loss: 0.4831\n",
      "Epoch 152/500\n",
      "1/1 [==============================] - 0s 19ms/step - loss: 0.2148 - val_loss: 0.4804\n",
      "Epoch 153/500\n",
      "1/1 [==============================] - 0s 20ms/step - loss: 0.2147 - val_loss: 0.4778\n",
      "Epoch 154/500\n",
      "1/1 [==============================] - 0s 19ms/step - loss: 0.2146 - val_loss: 0.4754\n",
      "Epoch 155/500\n",
      "1/1 [==============================] - 0s 19ms/step - loss: 0.2145 - val_loss: 0.4730\n",
      "Epoch 156/500\n",
      "1/1 [==============================] - 0s 18ms/step - loss: 0.2144 - val_loss: 0.4708\n",
      "Epoch 157/500\n",
      "1/1 [==============================] - 0s 19ms/step - loss: 0.2144 - val_loss: 0.4687\n",
      "Epoch 158/500\n",
      "1/1 [==============================] - 0s 18ms/step - loss: 0.2143 - val_loss: 0.4667\n",
      "Epoch 159/500\n",
      "1/1 [==============================] - 0s 18ms/step - loss: 0.2143 - val_loss: 0.4648\n",
      "Epoch 160/500\n",
      "1/1 [==============================] - 0s 19ms/step - loss: 0.2142 - val_loss: 0.4630\n",
      "Epoch 161/500\n",
      "1/1 [==============================] - 0s 18ms/step - loss: 0.2142 - val_loss: 0.4614\n",
      "Epoch 162/500\n",
      "1/1 [==============================] - 0s 19ms/step - loss: 0.2141 - val_loss: 0.4599\n",
      "Epoch 163/500\n",
      "1/1 [==============================] - 0s 18ms/step - loss: 0.2141 - val_loss: 0.4585\n",
      "Epoch 164/500\n",
      "1/1 [==============================] - 0s 19ms/step - loss: 0.2141 - val_loss: 0.4572\n",
      "Epoch 165/500\n",
      "1/1 [==============================] - 0s 19ms/step - loss: 0.2141 - val_loss: 0.4560\n",
      "Epoch 166/500\n",
      "1/1 [==============================] - 0s 19ms/step - loss: 0.2141 - val_loss: 0.4550\n",
      "Epoch 167/500\n",
      "1/1 [==============================] - 0s 19ms/step - loss: 0.2140 - val_loss: 0.4540\n",
      "Epoch 168/500\n",
      "1/1 [==============================] - 0s 20ms/step - loss: 0.2140 - val_loss: 0.4531\n",
      "Epoch 169/500\n",
      "1/1 [==============================] - 0s 19ms/step - loss: 0.2140 - val_loss: 0.4523\n",
      "Epoch 170/500\n",
      "1/1 [==============================] - 0s 19ms/step - loss: 0.2140 - val_loss: 0.4516\n",
      "Epoch 171/500\n",
      "1/1 [==============================] - 0s 18ms/step - loss: 0.2140 - val_loss: 0.4510\n",
      "Epoch 172/500\n",
      "1/1 [==============================] - 0s 19ms/step - loss: 0.2140 - val_loss: 0.4505\n",
      "Epoch 173/500\n",
      "1/1 [==============================] - 0s 18ms/step - loss: 0.2140 - val_loss: 0.4501\n",
      "Epoch 174/500\n",
      "1/1 [==============================] - 0s 19ms/step - loss: 0.2140 - val_loss: 0.4497\n",
      "Epoch 175/500\n",
      "1/1 [==============================] - 0s 18ms/step - loss: 0.2139 - val_loss: 0.4494\n",
      "Epoch 176/500\n",
      "1/1 [==============================] - 0s 18ms/step - loss: 0.2139 - val_loss: 0.4491\n",
      "Epoch 177/500\n",
      "1/1 [==============================] - 0s 18ms/step - loss: 0.2139 - val_loss: 0.4489\n",
      "Epoch 178/500\n",
      "1/1 [==============================] - 0s 19ms/step - loss: 0.2139 - val_loss: 0.4488\n",
      "Epoch 179/500\n",
      "1/1 [==============================] - 0s 19ms/step - loss: 0.2139 - val_loss: 0.4487\n",
      "Epoch 180/500\n",
      "1/1 [==============================] - 0s 18ms/step - loss: 0.2139 - val_loss: 0.4486\n",
      "Epoch 181/500\n",
      "1/1 [==============================] - 0s 20ms/step - loss: 0.2139 - val_loss: 0.4486\n",
      "Epoch 182/500\n",
      "1/1 [==============================] - 0s 19ms/step - loss: 0.2139 - val_loss: 0.4486\n",
      "Epoch 183/500\n",
      "1/1 [==============================] - 0s 20ms/step - loss: 0.2138 - val_loss: 0.4487\n",
      "Epoch 184/500\n",
      "1/1 [==============================] - 0s 19ms/step - loss: 0.2138 - val_loss: 0.4488\n",
      "Epoch 185/500\n",
      "1/1 [==============================] - 0s 19ms/step - loss: 0.2138 - val_loss: 0.4489\n",
      "Epoch 186/500\n",
      "1/1 [==============================] - 0s 18ms/step - loss: 0.2138 - val_loss: 0.4490\n",
      "Epoch 187/500\n",
      "1/1 [==============================] - 0s 18ms/step - loss: 0.2138 - val_loss: 0.4491\n",
      "Epoch 188/500\n",
      "1/1 [==============================] - 0s 18ms/step - loss: 0.2138 - val_loss: 0.4493\n",
      "Epoch 189/500\n",
      "1/1 [==============================] - 0s 18ms/step - loss: 0.2137 - val_loss: 0.4495\n",
      "Epoch 190/500\n",
      "1/1 [==============================] - 0s 19ms/step - loss: 0.2137 - val_loss: 0.4497\n",
      "Epoch 191/500\n",
      "1/1 [==============================] - 0s 18ms/step - loss: 0.2137 - val_loss: 0.4499\n",
      "Epoch 192/500\n",
      "1/1 [==============================] - 0s 18ms/step - loss: 0.2137 - val_loss: 0.4501\n",
      "Epoch 193/500\n",
      "1/1 [==============================] - 0s 19ms/step - loss: 0.2137 - val_loss: 0.4503\n",
      "Epoch 194/500\n",
      "1/1 [==============================] - 0s 20ms/step - loss: 0.2137 - val_loss: 0.4505\n",
      "Epoch 195/500\n",
      "1/1 [==============================] - 0s 18ms/step - loss: 0.2137 - val_loss: 0.4507\n",
      "Epoch 196/500\n",
      "1/1 [==============================] - 0s 18ms/step - loss: 0.2136 - val_loss: 0.4509\n",
      "Epoch 197/500\n",
      "1/1 [==============================] - 0s 19ms/step - loss: 0.2136 - val_loss: 0.4511\n",
      "Epoch 198/500\n",
      "1/1 [==============================] - 0s 20ms/step - loss: 0.2136 - val_loss: 0.4513\n",
      "Epoch 199/500\n",
      "1/1 [==============================] - 0s 18ms/step - loss: 0.2136 - val_loss: 0.4514\n",
      "Epoch 200/500\n",
      "1/1 [==============================] - 0s 20ms/step - loss: 0.2136 - val_loss: 0.4516\n",
      "Epoch 201/500\n",
      "1/1 [==============================] - 0s 19ms/step - loss: 0.2136 - val_loss: 0.4518\n",
      "Epoch 202/500\n",
      "1/1 [==============================] - 0s 18ms/step - loss: 0.2135 - val_loss: 0.4519\n",
      "Epoch 203/500\n",
      "1/1 [==============================] - 0s 18ms/step - loss: 0.2135 - val_loss: 0.4521\n",
      "Epoch 204/500\n",
      "1/1 [==============================] - 0s 19ms/step - loss: 0.2135 - val_loss: 0.4522\n",
      "Epoch 205/500\n",
      "1/1 [==============================] - 0s 19ms/step - loss: 0.2135 - val_loss: 0.4524\n",
      "Epoch 206/500\n",
      "1/1 [==============================] - 0s 19ms/step - loss: 0.2135 - val_loss: 0.4525\n",
      "Epoch 207/500\n",
      "1/1 [==============================] - 0s 23ms/step - loss: 0.2135 - val_loss: 0.4526\n",
      "Epoch 208/500\n",
      "1/1 [==============================] - 0s 22ms/step - loss: 0.2135 - val_loss: 0.4527\n",
      "Epoch 209/500\n",
      "1/1 [==============================] - 0s 46ms/step - loss: 0.2134 - val_loss: 0.4528\n",
      "Epoch 210/500\n",
      "1/1 [==============================] - 0s 34ms/step - loss: 0.2134 - val_loss: 0.4529\n",
      "Epoch 211/500\n",
      "1/1 [==============================] - 0s 21ms/step - loss: 0.2134 - val_loss: 0.4529\n",
      "Epoch 212/500\n",
      "1/1 [==============================] - 0s 22ms/step - loss: 0.2134 - val_loss: 0.4530\n",
      "Epoch 213/500\n",
      "1/1 [==============================] - 0s 27ms/step - loss: 0.2134 - val_loss: 0.4530\n",
      "Epoch 214/500\n",
      "1/1 [==============================] - 0s 22ms/step - loss: 0.2134 - val_loss: 0.4531\n",
      "Epoch 215/500\n",
      "1/1 [==============================] - 0s 22ms/step - loss: 0.2133 - val_loss: 0.4531\n",
      "Epoch 216/500\n",
      "1/1 [==============================] - 0s 22ms/step - loss: 0.2133 - val_loss: 0.4531\n",
      "Epoch 217/500\n",
      "1/1 [==============================] - 0s 20ms/step - loss: 0.2133 - val_loss: 0.4531\n",
      "Epoch 218/500\n",
      "1/1 [==============================] - 0s 28ms/step - loss: 0.2133 - val_loss: 0.4531\n",
      "Epoch 219/500\n",
      "1/1 [==============================] - 0s 19ms/step - loss: 0.2133 - val_loss: 0.4531\n",
      "Epoch 220/500\n",
      "1/1 [==============================] - 0s 20ms/step - loss: 0.2133 - val_loss: 0.4531\n",
      "Epoch 221/500\n",
      "1/1 [==============================] - 0s 19ms/step - loss: 0.2133 - val_loss: 0.4531\n",
      "Epoch 222/500\n",
      "1/1 [==============================] - 0s 20ms/step - loss: 0.2132 - val_loss: 0.4531\n",
      "Epoch 223/500\n",
      "1/1 [==============================] - 0s 21ms/step - loss: 0.2132 - val_loss: 0.4530\n",
      "Epoch 224/500\n",
      "1/1 [==============================] - 0s 20ms/step - loss: 0.2132 - val_loss: 0.4530\n",
      "Epoch 225/500\n",
      "1/1 [==============================] - 0s 19ms/step - loss: 0.2132 - val_loss: 0.4530\n",
      "Epoch 226/500\n",
      "1/1 [==============================] - 0s 20ms/step - loss: 0.2132 - val_loss: 0.4529\n",
      "Epoch 227/500\n",
      "1/1 [==============================] - 0s 23ms/step - loss: 0.2132 - val_loss: 0.4529\n",
      "Epoch 228/500\n",
      "1/1 [==============================] - 0s 22ms/step - loss: 0.2131 - val_loss: 0.4528\n",
      "Epoch 229/500\n",
      "1/1 [==============================] - 0s 20ms/step - loss: 0.2131 - val_loss: 0.4528\n",
      "Epoch 230/500\n",
      "1/1 [==============================] - 0s 19ms/step - loss: 0.2131 - val_loss: 0.4527\n",
      "Epoch 231/500\n",
      "1/1 [==============================] - 0s 18ms/step - loss: 0.2131 - val_loss: 0.4526\n",
      "Epoch 232/500\n",
      "1/1 [==============================] - 0s 19ms/step - loss: 0.2131 - val_loss: 0.4526\n",
      "Epoch 233/500\n",
      "1/1 [==============================] - 0s 19ms/step - loss: 0.2131 - val_loss: 0.4525\n",
      "Epoch 234/500\n",
      "1/1 [==============================] - 0s 20ms/step - loss: 0.2131 - val_loss: 0.4524\n",
      "Epoch 235/500\n",
      "1/1 [==============================] - 0s 19ms/step - loss: 0.2130 - val_loss: 0.4524\n",
      "Epoch 236/500\n",
      "1/1 [==============================] - 0s 19ms/step - loss: 0.2130 - val_loss: 0.4523\n",
      "Epoch 237/500\n",
      "1/1 [==============================] - 0s 21ms/step - loss: 0.2130 - val_loss: 0.4522\n",
      "Epoch 238/500\n",
      "1/1 [==============================] - 0s 20ms/step - loss: 0.2130 - val_loss: 0.4522\n",
      "Epoch 239/500\n",
      "1/1 [==============================] - 0s 19ms/step - loss: 0.2130 - val_loss: 0.4521\n",
      "Epoch 240/500\n",
      "1/1 [==============================] - 0s 19ms/step - loss: 0.2130 - val_loss: 0.4520\n",
      "Epoch 241/500\n",
      "1/1 [==============================] - 0s 20ms/step - loss: 0.2129 - val_loss: 0.4519\n",
      "Epoch 242/500\n",
      "1/1 [==============================] - 0s 20ms/step - loss: 0.2129 - val_loss: 0.4519\n",
      "Epoch 243/500\n",
      "1/1 [==============================] - 0s 18ms/step - loss: 0.2129 - val_loss: 0.4518\n",
      "Epoch 244/500\n",
      "1/1 [==============================] - 0s 20ms/step - loss: 0.2129 - val_loss: 0.4517\n",
      "Epoch 245/500\n",
      "1/1 [==============================] - 0s 20ms/step - loss: 0.2129 - val_loss: 0.4517\n",
      "Epoch 246/500\n",
      "1/1 [==============================] - 0s 19ms/step - loss: 0.2129 - val_loss: 0.4516\n",
      "Epoch 247/500\n",
      "1/1 [==============================] - 0s 18ms/step - loss: 0.2128 - val_loss: 0.4515\n",
      "Epoch 248/500\n",
      "1/1 [==============================] - 0s 20ms/step - loss: 0.2128 - val_loss: 0.4515\n",
      "Epoch 249/500\n",
      "1/1 [==============================] - 0s 19ms/step - loss: 0.2128 - val_loss: 0.4514\n",
      "Epoch 250/500\n",
      "1/1 [==============================] - 0s 20ms/step - loss: 0.2128 - val_loss: 0.4513\n",
      "Epoch 251/500\n",
      "1/1 [==============================] - 0s 88ms/step - loss: 0.2128 - val_loss: 0.4513\n",
      "Epoch 252/500\n",
      "1/1 [==============================] - 0s 21ms/step - loss: 0.2128 - val_loss: 0.4512\n",
      "Epoch 253/500\n",
      "1/1 [==============================] - 0s 19ms/step - loss: 0.2128 - val_loss: 0.4512\n",
      "Epoch 254/500\n",
      "1/1 [==============================] - 0s 19ms/step - loss: 0.2127 - val_loss: 0.4511\n",
      "Epoch 255/500\n",
      "1/1 [==============================] - 0s 19ms/step - loss: 0.2127 - val_loss: 0.4511\n",
      "Epoch 256/500\n",
      "1/1 [==============================] - 0s 19ms/step - loss: 0.2127 - val_loss: 0.4510\n",
      "Epoch 257/500\n",
      "1/1 [==============================] - 0s 19ms/step - loss: 0.2127 - val_loss: 0.4509\n",
      "Epoch 258/500\n",
      "1/1 [==============================] - 0s 20ms/step - loss: 0.2127 - val_loss: 0.4509\n",
      "Epoch 259/500\n",
      "1/1 [==============================] - 0s 20ms/step - loss: 0.2127 - val_loss: 0.4508\n",
      "Epoch 260/500\n",
      "1/1 [==============================] - 0s 20ms/step - loss: 0.2126 - val_loss: 0.4508\n",
      "Epoch 261/500\n",
      "1/1 [==============================] - 0s 19ms/step - loss: 0.2126 - val_loss: 0.4507\n",
      "Epoch 262/500\n",
      "1/1 [==============================] - 0s 19ms/step - loss: 0.2126 - val_loss: 0.4507\n",
      "Epoch 263/500\n",
      "1/1 [==============================] - 0s 19ms/step - loss: 0.2126 - val_loss: 0.4506\n",
      "Epoch 264/500\n",
      "1/1 [==============================] - 0s 21ms/step - loss: 0.2126 - val_loss: 0.4506\n",
      "Epoch 265/500\n",
      "1/1 [==============================] - 0s 29ms/step - loss: 0.2126 - val_loss: 0.4505\n",
      "Epoch 266/500\n",
      "1/1 [==============================] - 0s 20ms/step - loss: 0.2125 - val_loss: 0.4505\n",
      "Epoch 267/500\n",
      "1/1 [==============================] - 0s 20ms/step - loss: 0.2125 - val_loss: 0.4504\n",
      "Epoch 268/500\n",
      "1/1 [==============================] - 0s 17ms/step - loss: 0.2125 - val_loss: 0.4504\n",
      "Epoch 269/500\n",
      "1/1 [==============================] - 0s 20ms/step - loss: 0.2125 - val_loss: 0.4503\n",
      "Epoch 270/500\n",
      "1/1 [==============================] - 0s 20ms/step - loss: 0.2125 - val_loss: 0.4503\n",
      "Epoch 271/500\n",
      "1/1 [==============================] - 0s 19ms/step - loss: 0.2125 - val_loss: 0.4503\n",
      "Epoch 272/500\n",
      "1/1 [==============================] - 0s 20ms/step - loss: 0.2124 - val_loss: 0.4502\n",
      "Epoch 273/500\n",
      "1/1 [==============================] - 0s 20ms/step - loss: 0.2124 - val_loss: 0.4502\n",
      "Epoch 274/500\n",
      "1/1 [==============================] - 0s 22ms/step - loss: 0.2124 - val_loss: 0.4501\n",
      "Epoch 275/500\n",
      "1/1 [==============================] - 0s 20ms/step - loss: 0.2124 - val_loss: 0.4501\n",
      "Epoch 276/500\n",
      "1/1 [==============================] - 0s 19ms/step - loss: 0.2124 - val_loss: 0.4500\n",
      "Epoch 277/500\n",
      "1/1 [==============================] - 0s 19ms/step - loss: 0.2124 - val_loss: 0.4500\n",
      "Epoch 278/500\n",
      "1/1 [==============================] - 0s 23ms/step - loss: 0.2123 - val_loss: 0.4499\n",
      "Epoch 279/500\n",
      "1/1 [==============================] - 0s 21ms/step - loss: 0.2123 - val_loss: 0.4499\n",
      "Epoch 280/500\n",
      "1/1 [==============================] - 0s 19ms/step - loss: 0.2123 - val_loss: 0.4498\n",
      "Epoch 281/500\n",
      "1/1 [==============================] - 0s 19ms/step - loss: 0.2123 - val_loss: 0.4498\n",
      "Epoch 282/500\n",
      "1/1 [==============================] - 0s 18ms/step - loss: 0.2123 - val_loss: 0.4498\n",
      "Epoch 283/500\n",
      "1/1 [==============================] - 0s 19ms/step - loss: 0.2123 - val_loss: 0.4497\n",
      "Epoch 284/500\n",
      "1/1 [==============================] - 0s 18ms/step - loss: 0.2122 - val_loss: 0.4497\n",
      "Epoch 285/500\n",
      "1/1 [==============================] - 0s 19ms/step - loss: 0.2122 - val_loss: 0.4496\n",
      "Epoch 286/500\n",
      "1/1 [==============================] - 0s 19ms/step - loss: 0.2122 - val_loss: 0.4496\n",
      "Epoch 287/500\n",
      "1/1 [==============================] - 0s 19ms/step - loss: 0.2122 - val_loss: 0.4495\n",
      "Epoch 288/500\n",
      "1/1 [==============================] - 0s 18ms/step - loss: 0.2122 - val_loss: 0.4495\n",
      "Epoch 289/500\n",
      "1/1 [==============================] - 0s 20ms/step - loss: 0.2122 - val_loss: 0.4494\n",
      "Epoch 290/500\n",
      "1/1 [==============================] - 0s 19ms/step - loss: 0.2121 - val_loss: 0.4494\n",
      "Epoch 291/500\n",
      "1/1 [==============================] - 0s 18ms/step - loss: 0.2121 - val_loss: 0.4493\n",
      "Epoch 292/500\n",
      "1/1 [==============================] - 0s 21ms/step - loss: 0.2121 - val_loss: 0.4493\n",
      "Epoch 293/500\n",
      "1/1 [==============================] - 0s 18ms/step - loss: 0.2121 - val_loss: 0.4493\n",
      "Epoch 294/500\n",
      "1/1 [==============================] - 0s 20ms/step - loss: 0.2121 - val_loss: 0.4492\n",
      "Epoch 295/500\n",
      "1/1 [==============================] - 0s 19ms/step - loss: 0.2121 - val_loss: 0.4492\n",
      "Epoch 296/500\n",
      "1/1 [==============================] - 0s 19ms/step - loss: 0.2120 - val_loss: 0.4491\n",
      "Epoch 297/500\n",
      "1/1 [==============================] - 0s 19ms/step - loss: 0.2120 - val_loss: 0.4491\n",
      "Epoch 298/500\n",
      "1/1 [==============================] - 0s 17ms/step - loss: 0.2120 - val_loss: 0.4490\n",
      "Epoch 299/500\n",
      "1/1 [==============================] - 0s 19ms/step - loss: 0.2120 - val_loss: 0.4490\n",
      "Epoch 300/500\n",
      "1/1 [==============================] - 0s 19ms/step - loss: 0.2120 - val_loss: 0.4489\n",
      "Epoch 301/500\n",
      "1/1 [==============================] - 0s 19ms/step - loss: 0.2120 - val_loss: 0.4489\n",
      "Epoch 302/500\n",
      "1/1 [==============================] - 0s 18ms/step - loss: 0.2119 - val_loss: 0.4488\n",
      "Epoch 303/500\n",
      "1/1 [==============================] - 0s 18ms/step - loss: 0.2119 - val_loss: 0.4488\n",
      "Epoch 304/500\n",
      "1/1 [==============================] - 0s 18ms/step - loss: 0.2119 - val_loss: 0.4487\n",
      "Epoch 305/500\n",
      "1/1 [==============================] - 0s 19ms/step - loss: 0.2119 - val_loss: 0.4487\n",
      "Epoch 306/500\n",
      "1/1 [==============================] - 0s 36ms/step - loss: 0.2119 - val_loss: 0.4486\n",
      "Epoch 307/500\n",
      "1/1 [==============================] - 0s 18ms/step - loss: 0.2118 - val_loss: 0.4486\n",
      "Epoch 308/500\n",
      "1/1 [==============================] - 0s 22ms/step - loss: 0.2118 - val_loss: 0.4485\n",
      "Epoch 309/500\n",
      "1/1 [==============================] - 0s 19ms/step - loss: 0.2118 - val_loss: 0.4485\n",
      "Epoch 310/500\n",
      "1/1 [==============================] - 0s 21ms/step - loss: 0.2118 - val_loss: 0.4484\n",
      "Epoch 311/500\n",
      "1/1 [==============================] - 0s 19ms/step - loss: 0.2118 - val_loss: 0.4484\n",
      "Epoch 312/500\n",
      "1/1 [==============================] - 0s 20ms/step - loss: 0.2118 - val_loss: 0.4483\n",
      "Epoch 313/500\n",
      "1/1 [==============================] - 0s 20ms/step - loss: 0.2117 - val_loss: 0.4483\n",
      "Epoch 314/500\n",
      "1/1 [==============================] - 0s 21ms/step - loss: 0.2117 - val_loss: 0.4482\n",
      "Epoch 315/500\n",
      "1/1 [==============================] - 0s 19ms/step - loss: 0.2117 - val_loss: 0.4482\n",
      "Epoch 316/500\n",
      "1/1 [==============================] - 0s 50ms/step - loss: 0.2117 - val_loss: 0.4481\n",
      "Epoch 317/500\n",
      "1/1 [==============================] - 0s 19ms/step - loss: 0.2117 - val_loss: 0.4481\n",
      "Epoch 318/500\n",
      "1/1 [==============================] - 0s 19ms/step - loss: 0.2117 - val_loss: 0.4480\n",
      "Epoch 319/500\n",
      "1/1 [==============================] - 0s 18ms/step - loss: 0.2116 - val_loss: 0.4480\n",
      "Epoch 320/500\n",
      "1/1 [==============================] - 0s 21ms/step - loss: 0.2116 - val_loss: 0.4479\n",
      "Epoch 321/500\n",
      "1/1 [==============================] - 0s 30ms/step - loss: 0.2116 - val_loss: 0.4479\n",
      "Epoch 322/500\n",
      "1/1 [==============================] - 0s 20ms/step - loss: 0.2116 - val_loss: 0.4478\n",
      "Epoch 323/500\n",
      "1/1 [==============================] - 0s 20ms/step - loss: 0.2116 - val_loss: 0.4478\n",
      "Epoch 324/500\n",
      "1/1 [==============================] - 0s 19ms/step - loss: 0.2116 - val_loss: 0.4477\n",
      "Epoch 325/500\n",
      "1/1 [==============================] - 0s 19ms/step - loss: 0.2115 - val_loss: 0.4477\n",
      "Epoch 326/500\n",
      "1/1 [==============================] - 0s 20ms/step - loss: 0.2115 - val_loss: 0.4476\n",
      "Epoch 327/500\n",
      "1/1 [==============================] - 0s 20ms/step - loss: 0.2115 - val_loss: 0.4476\n",
      "Epoch 328/500\n",
      "1/1 [==============================] - 0s 19ms/step - loss: 0.2115 - val_loss: 0.4475\n",
      "Epoch 329/500\n",
      "1/1 [==============================] - 0s 19ms/step - loss: 0.2115 - val_loss: 0.4475\n",
      "Epoch 330/500\n",
      "1/1 [==============================] - 0s 19ms/step - loss: 0.2114 - val_loss: 0.4474\n",
      "Epoch 331/500\n",
      "1/1 [==============================] - 0s 20ms/step - loss: 0.2114 - val_loss: 0.4474\n",
      "Epoch 332/500\n",
      "1/1 [==============================] - 0s 19ms/step - loss: 0.2114 - val_loss: 0.4473\n",
      "Epoch 333/500\n",
      "1/1 [==============================] - 0s 20ms/step - loss: 0.2114 - val_loss: 0.4473\n",
      "Epoch 334/500\n",
      "1/1 [==============================] - 0s 19ms/step - loss: 0.2114 - val_loss: 0.4472\n",
      "Epoch 335/500\n",
      "1/1 [==============================] - 0s 24ms/step - loss: 0.2114 - val_loss: 0.4472\n",
      "Epoch 336/500\n",
      "1/1 [==============================] - 0s 20ms/step - loss: 0.2113 - val_loss: 0.4471\n",
      "Epoch 337/500\n",
      "1/1 [==============================] - 0s 19ms/step - loss: 0.2113 - val_loss: 0.4471\n",
      "Epoch 338/500\n",
      "1/1 [==============================] - 0s 19ms/step - loss: 0.2113 - val_loss: 0.4470\n",
      "Epoch 339/500\n",
      "1/1 [==============================] - 0s 19ms/step - loss: 0.2113 - val_loss: 0.4470\n",
      "Epoch 340/500\n",
      "1/1 [==============================] - 0s 20ms/step - loss: 0.2113 - val_loss: 0.4469\n",
      "Epoch 341/500\n",
      "1/1 [==============================] - 0s 19ms/step - loss: 0.2113 - val_loss: 0.4469\n",
      "Epoch 342/500\n",
      "1/1 [==============================] - 0s 19ms/step - loss: 0.2112 - val_loss: 0.4468\n",
      "Epoch 343/500\n",
      "1/1 [==============================] - 0s 20ms/step - loss: 0.2112 - val_loss: 0.4468\n",
      "Epoch 344/500\n",
      "1/1 [==============================] - 0s 18ms/step - loss: 0.2112 - val_loss: 0.4467\n",
      "Epoch 345/500\n",
      "1/1 [==============================] - 0s 19ms/step - loss: 0.2112 - val_loss: 0.4467\n",
      "Epoch 346/500\n",
      "1/1 [==============================] - 0s 19ms/step - loss: 0.2112 - val_loss: 0.4466\n",
      "Epoch 347/500\n",
      "1/1 [==============================] - 0s 20ms/step - loss: 0.2111 - val_loss: 0.4466\n",
      "Epoch 348/500\n",
      "1/1 [==============================] - 0s 21ms/step - loss: 0.2111 - val_loss: 0.4465\n",
      "Epoch 349/500\n",
      "1/1 [==============================] - 0s 20ms/step - loss: 0.2111 - val_loss: 0.4465\n",
      "Epoch 350/500\n",
      "1/1 [==============================] - 0s 21ms/step - loss: 0.2111 - val_loss: 0.4464\n",
      "Epoch 351/500\n",
      "1/1 [==============================] - 0s 20ms/step - loss: 0.2111 - val_loss: 0.4464\n",
      "Epoch 352/500\n",
      "1/1 [==============================] - 0s 18ms/step - loss: 0.2111 - val_loss: 0.4463\n",
      "Epoch 353/500\n",
      "1/1 [==============================] - 0s 20ms/step - loss: 0.2110 - val_loss: 0.4463\n",
      "Epoch 354/500\n",
      "1/1 [==============================] - 0s 19ms/step - loss: 0.2110 - val_loss: 0.4462\n",
      "Epoch 355/500\n",
      "1/1 [==============================] - 0s 21ms/step - loss: 0.2110 - val_loss: 0.4462\n",
      "Epoch 356/500\n",
      "1/1 [==============================] - 0s 19ms/step - loss: 0.2110 - val_loss: 0.4461\n",
      "Epoch 357/500\n",
      "1/1 [==============================] - 0s 19ms/step - loss: 0.2110 - val_loss: 0.4460\n",
      "Epoch 358/500\n",
      "1/1 [==============================] - 0s 19ms/step - loss: 0.2109 - val_loss: 0.4460\n",
      "Epoch 359/500\n",
      "1/1 [==============================] - 0s 21ms/step - loss: 0.2109 - val_loss: 0.4459\n",
      "Epoch 360/500\n",
      "1/1 [==============================] - 0s 20ms/step - loss: 0.2109 - val_loss: 0.4459\n",
      "Epoch 361/500\n",
      "1/1 [==============================] - 0s 19ms/step - loss: 0.2109 - val_loss: 0.4458\n",
      "Epoch 362/500\n",
      "1/1 [==============================] - 0s 19ms/step - loss: 0.2109 - val_loss: 0.4458\n",
      "Epoch 363/500\n",
      "1/1 [==============================] - 0s 19ms/step - loss: 0.2109 - val_loss: 0.4457\n",
      "Epoch 364/500\n",
      "1/1 [==============================] - 0s 20ms/step - loss: 0.2108 - val_loss: 0.4457\n",
      "Epoch 365/500\n",
      "1/1 [==============================] - 0s 21ms/step - loss: 0.2108 - val_loss: 0.4456\n",
      "Epoch 366/500\n",
      "1/1 [==============================] - 0s 20ms/step - loss: 0.2108 - val_loss: 0.4456\n",
      "Epoch 367/500\n",
      "1/1 [==============================] - 0s 18ms/step - loss: 0.2108 - val_loss: 0.4455\n",
      "Epoch 368/500\n",
      "1/1 [==============================] - 0s 21ms/step - loss: 0.2108 - val_loss: 0.4455\n",
      "Epoch 369/500\n",
      "1/1 [==============================] - 0s 19ms/step - loss: 0.2107 - val_loss: 0.4454\n",
      "Epoch 370/500\n",
      "1/1 [==============================] - 0s 21ms/step - loss: 0.2107 - val_loss: 0.4454\n",
      "Epoch 371/500\n",
      "1/1 [==============================] - 0s 19ms/step - loss: 0.2107 - val_loss: 0.4453\n",
      "Epoch 372/500\n",
      "1/1 [==============================] - 0s 19ms/step - loss: 0.2107 - val_loss: 0.4453\n",
      "Epoch 373/500\n",
      "1/1 [==============================] - 0s 20ms/step - loss: 0.2107 - val_loss: 0.4452\n",
      "Epoch 374/500\n",
      "1/1 [==============================] - 0s 19ms/step - loss: 0.2106 - val_loss: 0.4452\n",
      "Epoch 375/500\n",
      "1/1 [==============================] - 0s 20ms/step - loss: 0.2106 - val_loss: 0.4451\n",
      "Epoch 376/500\n",
      "1/1 [==============================] - 0s 20ms/step - loss: 0.2106 - val_loss: 0.4451\n",
      "Epoch 377/500\n",
      "1/1 [==============================] - 0s 19ms/step - loss: 0.2106 - val_loss: 0.4450\n",
      "Epoch 378/500\n",
      "1/1 [==============================] - 0s 19ms/step - loss: 0.2106 - val_loss: 0.4450\n",
      "Epoch 379/500\n",
      "1/1 [==============================] - 0s 18ms/step - loss: 0.2106 - val_loss: 0.4449\n",
      "Epoch 380/500\n",
      "1/1 [==============================] - 0s 20ms/step - loss: 0.2105 - val_loss: 0.4448\n",
      "Epoch 381/500\n",
      "1/1 [==============================] - 0s 20ms/step - loss: 0.2105 - val_loss: 0.4448\n",
      "Epoch 382/500\n",
      "1/1 [==============================] - 0s 18ms/step - loss: 0.2105 - val_loss: 0.4447\n",
      "Epoch 383/500\n",
      "1/1 [==============================] - 0s 18ms/step - loss: 0.2105 - val_loss: 0.4447\n",
      "Epoch 384/500\n",
      "1/1 [==============================] - 0s 18ms/step - loss: 0.2105 - val_loss: 0.4446\n",
      "Epoch 385/500\n",
      "1/1 [==============================] - 0s 19ms/step - loss: 0.2104 - val_loss: 0.4446\n",
      "Epoch 386/500\n",
      "1/1 [==============================] - 0s 18ms/step - loss: 0.2104 - val_loss: 0.4445\n",
      "Epoch 387/500\n",
      "1/1 [==============================] - 0s 19ms/step - loss: 0.2104 - val_loss: 0.4445\n",
      "Epoch 388/500\n",
      "1/1 [==============================] - 0s 19ms/step - loss: 0.2104 - val_loss: 0.4444\n",
      "Epoch 389/500\n",
      "1/1 [==============================] - 0s 18ms/step - loss: 0.2104 - val_loss: 0.4444\n",
      "Epoch 390/500\n",
      "1/1 [==============================] - 0s 19ms/step - loss: 0.2104 - val_loss: 0.4443\n",
      "Epoch 391/500\n",
      "1/1 [==============================] - 0s 18ms/step - loss: 0.2103 - val_loss: 0.4443\n",
      "Epoch 392/500\n",
      "1/1 [==============================] - 0s 28ms/step - loss: 0.2103 - val_loss: 0.4442\n",
      "Epoch 393/500\n",
      "1/1 [==============================] - 0s 20ms/step - loss: 0.2103 - val_loss: 0.4442\n",
      "Epoch 394/500\n",
      "1/1 [==============================] - 0s 19ms/step - loss: 0.2103 - val_loss: 0.4441\n",
      "Epoch 395/500\n",
      "1/1 [==============================] - 0s 19ms/step - loss: 0.2103 - val_loss: 0.4441\n",
      "Epoch 396/500\n",
      "1/1 [==============================] - 0s 18ms/step - loss: 0.2102 - val_loss: 0.4440\n",
      "Epoch 397/500\n",
      "1/1 [==============================] - 0s 19ms/step - loss: 0.2102 - val_loss: 0.4439\n",
      "Epoch 398/500\n",
      "1/1 [==============================] - 0s 19ms/step - loss: 0.2102 - val_loss: 0.4439\n",
      "Epoch 399/500\n",
      "1/1 [==============================] - 0s 18ms/step - loss: 0.2102 - val_loss: 0.4438\n",
      "Epoch 400/500\n",
      "1/1 [==============================] - 0s 19ms/step - loss: 0.2102 - val_loss: 0.4438\n",
      "Epoch 401/500\n",
      "1/1 [==============================] - 0s 18ms/step - loss: 0.2101 - val_loss: 0.4437\n",
      "Epoch 402/500\n",
      "1/1 [==============================] - 0s 19ms/step - loss: 0.2101 - val_loss: 0.4437\n",
      "Epoch 403/500\n",
      "1/1 [==============================] - 0s 19ms/step - loss: 0.2101 - val_loss: 0.4436\n",
      "Epoch 404/500\n",
      "1/1 [==============================] - 0s 18ms/step - loss: 0.2101 - val_loss: 0.4436\n",
      "Epoch 405/500\n",
      "1/1 [==============================] - 0s 18ms/step - loss: 0.2101 - val_loss: 0.4435\n",
      "Epoch 406/500\n",
      "1/1 [==============================] - 0s 17ms/step - loss: 0.2100 - val_loss: 0.4435\n",
      "Epoch 407/500\n",
      "1/1 [==============================] - 0s 21ms/step - loss: 0.2100 - val_loss: 0.4434\n",
      "Epoch 408/500\n",
      "1/1 [==============================] - 0s 18ms/step - loss: 0.2100 - val_loss: 0.4434\n",
      "Epoch 409/500\n",
      "1/1 [==============================] - 0s 19ms/step - loss: 0.2100 - val_loss: 0.4433\n",
      "Epoch 410/500\n",
      "1/1 [==============================] - 0s 22ms/step - loss: 0.2100 - val_loss: 0.4432\n",
      "Epoch 411/500\n",
      "1/1 [==============================] - 0s 18ms/step - loss: 0.2100 - val_loss: 0.4432\n",
      "Epoch 412/500\n",
      "1/1 [==============================] - 0s 19ms/step - loss: 0.2099 - val_loss: 0.4431\n",
      "Epoch 413/500\n",
      "1/1 [==============================] - 0s 19ms/step - loss: 0.2099 - val_loss: 0.4431\n",
      "Epoch 414/500\n",
      "1/1 [==============================] - 0s 18ms/step - loss: 0.2099 - val_loss: 0.4430\n",
      "Epoch 415/500\n",
      "1/1 [==============================] - 0s 19ms/step - loss: 0.2099 - val_loss: 0.4430\n",
      "Epoch 416/500\n",
      "1/1 [==============================] - 0s 18ms/step - loss: 0.2099 - val_loss: 0.4429\n",
      "Epoch 417/500\n",
      "1/1 [==============================] - 0s 18ms/step - loss: 0.2098 - val_loss: 0.4429\n",
      "Epoch 418/500\n",
      "1/1 [==============================] - 0s 18ms/step - loss: 0.2098 - val_loss: 0.4428\n",
      "Epoch 419/500\n",
      "1/1 [==============================] - 0s 19ms/step - loss: 0.2098 - val_loss: 0.4428\n",
      "Epoch 420/500\n",
      "1/1 [==============================] - 0s 19ms/step - loss: 0.2098 - val_loss: 0.4427\n",
      "Epoch 421/500\n",
      "1/1 [==============================] - 0s 19ms/step - loss: 0.2098 - val_loss: 0.4426\n",
      "Epoch 422/500\n",
      "1/1 [==============================] - 0s 19ms/step - loss: 0.2097 - val_loss: 0.4426\n",
      "Epoch 423/500\n",
      "1/1 [==============================] - 0s 18ms/step - loss: 0.2097 - val_loss: 0.4425\n",
      "Epoch 424/500\n",
      "1/1 [==============================] - 0s 20ms/step - loss: 0.2097 - val_loss: 0.4425\n",
      "Epoch 425/500\n",
      "1/1 [==============================] - 0s 20ms/step - loss: 0.2097 - val_loss: 0.4424\n",
      "Epoch 426/500\n",
      "1/1 [==============================] - 0s 18ms/step - loss: 0.2097 - val_loss: 0.4424\n",
      "Epoch 427/500\n",
      "1/1 [==============================] - 0s 18ms/step - loss: 0.2096 - val_loss: 0.4423\n",
      "Epoch 428/500\n",
      "1/1 [==============================] - 0s 17ms/step - loss: 0.2096 - val_loss: 0.4423\n",
      "Epoch 429/500\n",
      "1/1 [==============================] - 0s 19ms/step - loss: 0.2096 - val_loss: 0.4422\n",
      "Epoch 430/500\n",
      "1/1 [==============================] - 0s 19ms/step - loss: 0.2096 - val_loss: 0.4421\n",
      "Epoch 431/500\n",
      "1/1 [==============================] - 0s 18ms/step - loss: 0.2096 - val_loss: 0.4421\n",
      "Epoch 432/500\n",
      "1/1 [==============================] - 0s 19ms/step - loss: 0.2095 - val_loss: 0.4420\n",
      "Epoch 433/500\n",
      "1/1 [==============================] - 0s 19ms/step - loss: 0.2095 - val_loss: 0.4420\n",
      "Epoch 434/500\n",
      "1/1 [==============================] - 0s 18ms/step - loss: 0.2095 - val_loss: 0.4419\n",
      "Epoch 435/500\n",
      "1/1 [==============================] - 0s 19ms/step - loss: 0.2095 - val_loss: 0.4419\n",
      "Epoch 436/500\n",
      "1/1 [==============================] - 0s 17ms/step - loss: 0.2095 - val_loss: 0.4418\n",
      "Epoch 437/500\n",
      "1/1 [==============================] - 0s 19ms/step - loss: 0.2094 - val_loss: 0.4418\n",
      "Epoch 438/500\n",
      "1/1 [==============================] - 0s 18ms/step - loss: 0.2094 - val_loss: 0.4417\n",
      "Epoch 439/500\n",
      "1/1 [==============================] - 0s 19ms/step - loss: 0.2094 - val_loss: 0.4416\n",
      "Epoch 440/500\n",
      "1/1 [==============================] - 0s 18ms/step - loss: 0.2094 - val_loss: 0.4416\n",
      "Epoch 441/500\n",
      "1/1 [==============================] - 0s 19ms/step - loss: 0.2094 - val_loss: 0.4415\n",
      "Epoch 442/500\n",
      "1/1 [==============================] - 0s 18ms/step - loss: 0.2093 - val_loss: 0.4415\n",
      "Epoch 443/500\n",
      "1/1 [==============================] - 0s 19ms/step - loss: 0.2093 - val_loss: 0.4414\n",
      "Epoch 444/500\n",
      "1/1 [==============================] - 0s 18ms/step - loss: 0.2093 - val_loss: 0.4414\n",
      "Epoch 445/500\n",
      "1/1 [==============================] - 0s 20ms/step - loss: 0.2093 - val_loss: 0.4413\n",
      "Epoch 446/500\n",
      "1/1 [==============================] - 0s 19ms/step - loss: 0.2093 - val_loss: 0.4413\n",
      "Epoch 447/500\n",
      "1/1 [==============================] - 0s 20ms/step - loss: 0.2093 - val_loss: 0.4412\n",
      "Epoch 448/500\n",
      "1/1 [==============================] - 0s 17ms/step - loss: 0.2092 - val_loss: 0.4411\n",
      "Epoch 449/500\n",
      "1/1 [==============================] - 0s 18ms/step - loss: 0.2092 - val_loss: 0.4411\n",
      "Epoch 450/500\n",
      "1/1 [==============================] - 0s 19ms/step - loss: 0.2092 - val_loss: 0.4410\n",
      "Epoch 451/500\n",
      "1/1 [==============================] - 0s 20ms/step - loss: 0.2092 - val_loss: 0.4410\n",
      "Epoch 452/500\n",
      "1/1 [==============================] - 0s 18ms/step - loss: 0.2092 - val_loss: 0.4409\n",
      "Epoch 453/500\n",
      "1/1 [==============================] - 0s 19ms/step - loss: 0.2091 - val_loss: 0.4409\n",
      "Epoch 454/500\n",
      "1/1 [==============================] - 0s 18ms/step - loss: 0.2091 - val_loss: 0.4408\n",
      "Epoch 455/500\n",
      "1/1 [==============================] - 0s 20ms/step - loss: 0.2091 - val_loss: 0.4408\n",
      "Epoch 456/500\n",
      "1/1 [==============================] - 0s 19ms/step - loss: 0.2091 - val_loss: 0.4407\n",
      "Epoch 457/500\n",
      "1/1 [==============================] - 0s 19ms/step - loss: 0.2091 - val_loss: 0.4406\n",
      "Epoch 458/500\n",
      "1/1 [==============================] - 0s 19ms/step - loss: 0.2090 - val_loss: 0.4406\n",
      "Epoch 459/500\n",
      "1/1 [==============================] - 0s 19ms/step - loss: 0.2090 - val_loss: 0.4405\n",
      "Epoch 460/500\n",
      "1/1 [==============================] - 0s 18ms/step - loss: 0.2090 - val_loss: 0.4405\n",
      "Epoch 461/500\n",
      "1/1 [==============================] - 0s 19ms/step - loss: 0.2090 - val_loss: 0.4404\n",
      "Epoch 462/500\n",
      "1/1 [==============================] - 0s 18ms/step - loss: 0.2090 - val_loss: 0.4404\n",
      "Epoch 463/500\n",
      "1/1 [==============================] - 0s 18ms/step - loss: 0.2089 - val_loss: 0.4403\n",
      "Epoch 464/500\n",
      "1/1 [==============================] - 0s 18ms/step - loss: 0.2089 - val_loss: 0.4402\n",
      "Epoch 465/500\n",
      "1/1 [==============================] - 0s 18ms/step - loss: 0.2089 - val_loss: 0.4402\n",
      "Epoch 466/500\n",
      "1/1 [==============================] - 0s 17ms/step - loss: 0.2089 - val_loss: 0.4401\n",
      "Epoch 467/500\n",
      "1/1 [==============================] - 0s 20ms/step - loss: 0.2089 - val_loss: 0.4401\n",
      "Epoch 468/500\n",
      "1/1 [==============================] - 0s 18ms/step - loss: 0.2088 - val_loss: 0.4400\n",
      "Epoch 469/500\n",
      "1/1 [==============================] - 0s 28ms/step - loss: 0.2088 - val_loss: 0.4400\n",
      "Epoch 470/500\n",
      "1/1 [==============================] - 0s 20ms/step - loss: 0.2088 - val_loss: 0.4399\n",
      "Epoch 471/500\n",
      "1/1 [==============================] - 0s 20ms/step - loss: 0.2088 - val_loss: 0.4398\n",
      "Epoch 472/500\n",
      "1/1 [==============================] - 0s 19ms/step - loss: 0.2088 - val_loss: 0.4398\n",
      "Epoch 473/500\n",
      "1/1 [==============================] - 0s 18ms/step - loss: 0.2087 - val_loss: 0.4397\n",
      "Epoch 474/500\n",
      "1/1 [==============================] - 0s 20ms/step - loss: 0.2087 - val_loss: 0.4397\n",
      "Epoch 475/500\n",
      "1/1 [==============================] - 0s 18ms/step - loss: 0.2087 - val_loss: 0.4396\n",
      "Epoch 476/500\n",
      "1/1 [==============================] - 0s 19ms/step - loss: 0.2087 - val_loss: 0.4396\n",
      "Epoch 477/500\n",
      "1/1 [==============================] - 0s 19ms/step - loss: 0.2086 - val_loss: 0.4395\n",
      "Epoch 478/500\n",
      "1/1 [==============================] - 0s 18ms/step - loss: 0.2086 - val_loss: 0.4394\n",
      "Epoch 479/500\n",
      "1/1 [==============================] - 0s 19ms/step - loss: 0.2086 - val_loss: 0.4394\n",
      "Epoch 480/500\n",
      "1/1 [==============================] - 0s 17ms/step - loss: 0.2086 - val_loss: 0.4393\n",
      "Epoch 481/500\n",
      "1/1 [==============================] - 0s 19ms/step - loss: 0.2086 - val_loss: 0.4393\n",
      "Epoch 482/500\n",
      "1/1 [==============================] - 0s 17ms/step - loss: 0.2085 - val_loss: 0.4392\n",
      "Epoch 483/500\n",
      "1/1 [==============================] - 0s 20ms/step - loss: 0.2085 - val_loss: 0.4392\n",
      "Epoch 484/500\n",
      "1/1 [==============================] - 0s 18ms/step - loss: 0.2085 - val_loss: 0.4391\n",
      "Epoch 485/500\n",
      "1/1 [==============================] - 0s 19ms/step - loss: 0.2085 - val_loss: 0.4390\n",
      "Epoch 486/500\n",
      "1/1 [==============================] - 0s 20ms/step - loss: 0.2085 - val_loss: 0.4390\n",
      "Epoch 487/500\n",
      "1/1 [==============================] - 0s 18ms/step - loss: 0.2084 - val_loss: 0.4389\n",
      "Epoch 488/500\n",
      "1/1 [==============================] - 0s 20ms/step - loss: 0.2084 - val_loss: 0.4389\n",
      "Epoch 489/500\n",
      "1/1 [==============================] - 0s 20ms/step - loss: 0.2084 - val_loss: 0.4388\n",
      "Epoch 490/500\n",
      "1/1 [==============================] - 0s 19ms/step - loss: 0.2084 - val_loss: 0.4388\n",
      "Epoch 491/500\n",
      "1/1 [==============================] - 0s 18ms/step - loss: 0.2084 - val_loss: 0.4387\n",
      "Epoch 492/500\n",
      "1/1 [==============================] - 0s 19ms/step - loss: 0.2083 - val_loss: 0.4386\n",
      "Epoch 493/500\n",
      "1/1 [==============================] - 0s 19ms/step - loss: 0.2083 - val_loss: 0.4386\n",
      "Epoch 494/500\n",
      "1/1 [==============================] - 0s 18ms/step - loss: 0.2083 - val_loss: 0.4385\n",
      "Epoch 495/500\n",
      "1/1 [==============================] - 0s 19ms/step - loss: 0.2083 - val_loss: 0.4385\n",
      "Epoch 496/500\n",
      "1/1 [==============================] - 0s 18ms/step - loss: 0.2083 - val_loss: 0.4384\n",
      "Epoch 497/500\n",
      "1/1 [==============================] - 0s 19ms/step - loss: 0.2082 - val_loss: 0.4383\n",
      "Epoch 498/500\n",
      "1/1 [==============================] - 0s 20ms/step - loss: 0.2082 - val_loss: 0.4383\n",
      "Epoch 499/500\n",
      "1/1 [==============================] - 0s 18ms/step - loss: 0.2082 - val_loss: 0.4382\n",
      "Epoch 500/500\n",
      "1/1 [==============================] - 0s 22ms/step - loss: 0.2082 - val_loss: 0.4382\n",
      "Model: \"sequential_37\"\n",
      "_________________________________________________________________\n",
      " Layer (type)                Output Shape              Param #   \n",
      "=================================================================\n",
      " lstm_26 (LSTM)              (None, 30)                3840      \n",
      "                                                                 \n",
      " dense_37 (Dense)            (None, 1)                 31        \n",
      "                                                                 \n",
      "=================================================================\n",
      "Total params: 3,871\n",
      "Trainable params: 3,871\n",
      "Non-trainable params: 0\n",
      "_________________________________________________________________\n"
     ]
    }
   ],
   "source": [
    "model_lstm, train_history_ltsm = neural_net_time_series(\n",
    "    train_X,\n",
    "    train_y,\n",
    "    test_X,\n",
    "    test_y,\n",
    "    cell_units=30,\n",
    "    epochs=500,\n",
    "    core_model=KerasCoreModel.lstm,\n",
    "    n_layers=1,\n",
    "    model_name=\"simple_ltsm\",\n",
    ")"
   ],
   "metadata": {
    "collapsed": false,
    "pycharm": {
     "name": "#%%\n"
    }
   }
  },
  {
   "cell_type": "code",
   "execution_count": 280,
   "outputs": [
    {
     "name": "stdout",
     "output_type": "stream",
     "text": [
      "MAE: 0.1278, MAPE: 0.0698\n"
     ]
    }
   ],
   "source": [
    "model_lstm = keras.models.load_model(\"models/simple_ltsm.h5\")\n",
    "y_pred_lstm = model_lstm.predict(test_X).flatten()\n",
    "print(\n",
    "    f\"MAE: {mean_squared_error(y_true, y_pred_lstm):.4f}, MAPE: {mean_absolute_percentage_error(y_true, y_pred_lstm):.4f}\"\n",
    ")"
   ],
   "metadata": {
    "collapsed": false,
    "pycharm": {
     "name": "#%%\n"
    }
   }
  },
  {
   "cell_type": "code",
   "execution_count": 281,
   "outputs": [
    {
     "data": {
      "text/plain": "          loss   val_loss\n0    30.759192  24.024384\n1    30.105957  23.443239\n2    29.466761  22.875681\n3    28.841726  22.321728\n4    28.230862  21.781206\n..         ...        ...\n495   0.208259   0.438407\n496   0.208238   0.438349\n497   0.208217   0.438291\n498   0.208196   0.438233\n499   0.208176   0.438175\n\n[500 rows x 2 columns]",
      "text/html": "<div>\n<style scoped>\n    .dataframe tbody tr th:only-of-type {\n        vertical-align: middle;\n    }\n\n    .dataframe tbody tr th {\n        vertical-align: top;\n    }\n\n    .dataframe thead th {\n        text-align: right;\n    }\n</style>\n<table border=\"1\" class=\"dataframe\">\n  <thead>\n    <tr style=\"text-align: right;\">\n      <th></th>\n      <th>loss</th>\n      <th>val_loss</th>\n    </tr>\n  </thead>\n  <tbody>\n    <tr>\n      <th>0</th>\n      <td>30.759192</td>\n      <td>24.024384</td>\n    </tr>\n    <tr>\n      <th>1</th>\n      <td>30.105957</td>\n      <td>23.443239</td>\n    </tr>\n    <tr>\n      <th>2</th>\n      <td>29.466761</td>\n      <td>22.875681</td>\n    </tr>\n    <tr>\n      <th>3</th>\n      <td>28.841726</td>\n      <td>22.321728</td>\n    </tr>\n    <tr>\n      <th>4</th>\n      <td>28.230862</td>\n      <td>21.781206</td>\n    </tr>\n    <tr>\n      <th>...</th>\n      <td>...</td>\n      <td>...</td>\n    </tr>\n    <tr>\n      <th>495</th>\n      <td>0.208259</td>\n      <td>0.438407</td>\n    </tr>\n    <tr>\n      <th>496</th>\n      <td>0.208238</td>\n      <td>0.438349</td>\n    </tr>\n    <tr>\n      <th>497</th>\n      <td>0.208217</td>\n      <td>0.438291</td>\n    </tr>\n    <tr>\n      <th>498</th>\n      <td>0.208196</td>\n      <td>0.438233</td>\n    </tr>\n    <tr>\n      <th>499</th>\n      <td>0.208176</td>\n      <td>0.438175</td>\n    </tr>\n  </tbody>\n</table>\n<p>500 rows × 2 columns</p>\n</div>"
     },
     "metadata": {},
     "output_type": "display_data"
    },
    {
     "data": {
      "application/vnd.plotly.v1+json": {
       "data": [
        {
         "hovertemplate": "variable=loss<br>index=%{x}<br>value=%{y}<extra></extra>",
         "legendgroup": "loss",
         "line": {
          "color": "#636efa",
          "dash": "solid"
         },
         "marker": {
          "symbol": "circle"
         },
         "mode": "lines",
         "name": "loss",
         "orientation": "v",
         "showlegend": true,
         "x": [
          0,
          1,
          2,
          3,
          4,
          5,
          6,
          7,
          8,
          9,
          10,
          11,
          12,
          13,
          14,
          15,
          16,
          17,
          18,
          19,
          20,
          21,
          22,
          23,
          24,
          25,
          26,
          27,
          28,
          29,
          30,
          31,
          32,
          33,
          34,
          35,
          36,
          37,
          38,
          39,
          40,
          41,
          42,
          43,
          44,
          45,
          46,
          47,
          48,
          49,
          50,
          51,
          52,
          53,
          54,
          55,
          56,
          57,
          58,
          59,
          60,
          61,
          62,
          63,
          64,
          65,
          66,
          67,
          68,
          69,
          70,
          71,
          72,
          73,
          74,
          75,
          76,
          77,
          78,
          79,
          80,
          81,
          82,
          83,
          84,
          85,
          86,
          87,
          88,
          89,
          90,
          91,
          92,
          93,
          94,
          95,
          96,
          97,
          98,
          99,
          100,
          101,
          102,
          103,
          104,
          105,
          106,
          107,
          108,
          109,
          110,
          111,
          112,
          113,
          114,
          115,
          116,
          117,
          118,
          119,
          120,
          121,
          122,
          123,
          124,
          125,
          126,
          127,
          128,
          129,
          130,
          131,
          132,
          133,
          134,
          135,
          136,
          137,
          138,
          139,
          140,
          141,
          142,
          143,
          144,
          145,
          146,
          147,
          148,
          149,
          150,
          151,
          152,
          153,
          154,
          155,
          156,
          157,
          158,
          159,
          160,
          161,
          162,
          163,
          164,
          165,
          166,
          167,
          168,
          169,
          170,
          171,
          172,
          173,
          174,
          175,
          176,
          177,
          178,
          179,
          180,
          181,
          182,
          183,
          184,
          185,
          186,
          187,
          188,
          189,
          190,
          191,
          192,
          193,
          194,
          195,
          196,
          197,
          198,
          199,
          200,
          201,
          202,
          203,
          204,
          205,
          206,
          207,
          208,
          209,
          210,
          211,
          212,
          213,
          214,
          215,
          216,
          217,
          218,
          219,
          220,
          221,
          222,
          223,
          224,
          225,
          226,
          227,
          228,
          229,
          230,
          231,
          232,
          233,
          234,
          235,
          236,
          237,
          238,
          239,
          240,
          241,
          242,
          243,
          244,
          245,
          246,
          247,
          248,
          249,
          250,
          251,
          252,
          253,
          254,
          255,
          256,
          257,
          258,
          259,
          260,
          261,
          262,
          263,
          264,
          265,
          266,
          267,
          268,
          269,
          270,
          271,
          272,
          273,
          274,
          275,
          276,
          277,
          278,
          279,
          280,
          281,
          282,
          283,
          284,
          285,
          286,
          287,
          288,
          289,
          290,
          291,
          292,
          293,
          294,
          295,
          296,
          297,
          298,
          299,
          300,
          301,
          302,
          303,
          304,
          305,
          306,
          307,
          308,
          309,
          310,
          311,
          312,
          313,
          314,
          315,
          316,
          317,
          318,
          319,
          320,
          321,
          322,
          323,
          324,
          325,
          326,
          327,
          328,
          329,
          330,
          331,
          332,
          333,
          334,
          335,
          336,
          337,
          338,
          339,
          340,
          341,
          342,
          343,
          344,
          345,
          346,
          347,
          348,
          349,
          350,
          351,
          352,
          353,
          354,
          355,
          356,
          357,
          358,
          359,
          360,
          361,
          362,
          363,
          364,
          365,
          366,
          367,
          368,
          369,
          370,
          371,
          372,
          373,
          374,
          375,
          376,
          377,
          378,
          379,
          380,
          381,
          382,
          383,
          384,
          385,
          386,
          387,
          388,
          389,
          390,
          391,
          392,
          393,
          394,
          395,
          396,
          397,
          398,
          399,
          400,
          401,
          402,
          403,
          404,
          405,
          406,
          407,
          408,
          409,
          410,
          411,
          412,
          413,
          414,
          415,
          416,
          417,
          418,
          419,
          420,
          421,
          422,
          423,
          424,
          425,
          426,
          427,
          428,
          429,
          430,
          431,
          432,
          433,
          434,
          435,
          436,
          437,
          438,
          439,
          440,
          441,
          442,
          443,
          444,
          445,
          446,
          447,
          448,
          449,
          450,
          451,
          452,
          453,
          454,
          455,
          456,
          457,
          458,
          459,
          460,
          461,
          462,
          463,
          464,
          465,
          466,
          467,
          468,
          469,
          470,
          471,
          472,
          473,
          474,
          475,
          476,
          477,
          478,
          479,
          480,
          481,
          482,
          483,
          484,
          485,
          486,
          487,
          488,
          489,
          490,
          491,
          492,
          493,
          494,
          495,
          496,
          497,
          498,
          499
         ],
         "xaxis": "x",
         "y": [
          30.759191513061523,
          30.10595703125,
          29.466760635375977,
          28.841726303100586,
          28.23086166381836,
          27.633899688720703,
          27.050457000732422,
          26.480133056640625,
          25.9224910736084,
          25.377071380615234,
          24.8433780670166,
          24.32088851928711,
          23.809080123901367,
          23.307415008544922,
          22.81536293029785,
          22.3324031829834,
          21.858041763305664,
          21.391799926757812,
          20.93325424194336,
          20.481985092163086,
          20.03762435913086,
          19.59981918334961,
          19.168251037597656,
          18.742618560791016,
          18.322647094726562,
          17.908084869384766,
          17.49869155883789,
          17.094249725341797,
          16.69455337524414,
          16.29940414428711,
          15.908613204956055,
          15.522000312805176,
          15.139378547668457,
          14.760571479797363,
          14.385396957397461,
          14.013671875,
          13.64521598815918,
          13.279844284057617,
          12.917376518249512,
          12.557645797729492,
          12.2005033493042,
          11.845832824707031,
          11.493562698364258,
          11.1436767578125,
          10.796232223510742,
          10.451356887817383,
          10.1092529296875,
          9.770195007324219,
          9.434507369995117,
          9.102550506591797,
          8.774696350097656,
          8.451295852661133,
          8.132661819458008,
          7.819055080413818,
          7.510672092437744,
          7.2076520919799805,
          6.910096168518066,
          6.618075370788574,
          6.331662178039551,
          6.050940036773682,
          5.7760162353515625,
          5.507026195526123,
          5.244129657745361,
          4.987502098083496,
          4.737324237823486,
          4.493769645690918,
          4.257000923156738,
          4.027158260345459,
          3.804356336593628,
          3.5886855125427246,
          3.3802103996276855,
          3.178974151611328,
          2.9850034713745117,
          2.7983107566833496,
          2.618898391723633,
          2.4467613697052,
          2.2818894386291504,
          2.12427020072937,
          1.9738861322402954,
          1.8307138681411743,
          1.694728136062622,
          1.565893530845642,
          1.4441665410995483,
          1.3294917345046997,
          1.2217991352081299,
          1.121002435684204,
          1.026996374130249,
          0.9396549463272095,
          0.858829140663147,
          0.784347414970398,
          0.7160141468048096,
          0.6536105871200562,
          0.5968961715698242,
          0.5456103086471558,
          0.4994756579399109,
          0.45819997787475586,
          0.42148154973983765,
          0.38901081681251526,
          0.36047497391700745,
          0.3355619013309479,
          0.3139631748199463,
          0.2953781485557556,
          0.2795141339302063,
          0.2660919725894928,
          0.25484567880630493,
          0.24552445113658905,
          0.23789358139038086,
          0.2317357063293457,
          0.2268499881029129,
          0.2230532169342041,
          0.22017879784107208,
          0.21807663142681122,
          0.21661274135112762,
          0.21566839516162872,
          0.21513858437538147,
          0.21493248641490936,
          0.2149716168642044,
          0.21518869698047638,
          0.2155272513628006,
          0.2159406691789627,
          0.21639037132263184,
          0.21684613823890686,
          0.21728363633155823,
          0.21768517792224884,
          0.21803829073905945,
          0.2183341681957245,
          0.21856817603111267,
          0.21873852610588074,
          0.21884603798389435,
          0.2188929319381714,
          0.2188837230205536,
          0.21882304549217224,
          0.21871690452098846,
          0.21857133507728577,
          0.21839292347431183,
          0.21818765997886658,
          0.2179618775844574,
          0.21772107481956482,
          0.21747072041034698,
          0.21721558272838593,
          0.2169598788022995,
          0.2167072296142578,
          0.21646113693714142,
          0.2162237912416458,
          0.21599745750427246,
          0.21578364074230194,
          0.21558380126953125,
          0.2153984010219574,
          0.21522769331932068,
          0.21507199108600616,
          0.214930921792984,
          0.21480421721935272,
          0.21469120681285858,
          0.21459093689918518,
          0.21450281143188477,
          0.21442577242851257,
          0.21435880661010742,
          0.21430110931396484,
          0.21425151824951172,
          0.21420907974243164,
          0.2141730785369873,
          0.21414229273796082,
          0.214116171002388,
          0.21409368515014648,
          0.21407456696033478,
          0.2140578031539917,
          0.21404290199279785,
          0.21402963995933533,
          0.2140173465013504,
          0.2140057533979416,
          0.21399445831775665,
          0.21398356556892395,
          0.21397241950035095,
          0.2139611542224884,
          0.21394968032836914,
          0.21393778920173645,
          0.21392543613910675,
          0.21391265094280243,
          0.21389956772327423,
          0.21388570964336395,
          0.2138717621564865,
          0.21385736763477325,
          0.21384260058403015,
          0.21382752060890198,
          0.21381226181983948,
          0.21379666030406952,
          0.21378111839294434,
          0.21376526355743408,
          0.21374937891960144,
          0.2137334793806076,
          0.21371746063232422,
          0.21370168030261993,
          0.21368567645549774,
          0.21366986632347107,
          0.21365384757518768,
          0.21363826096057892,
          0.21362252533435822,
          0.21360692381858826,
          0.21359145641326904,
          0.21357591450214386,
          0.21356049180030823,
          0.2135452777147293,
          0.2135298252105713,
          0.21351464092731476,
          0.21349942684173584,
          0.2134842574596405,
          0.2134692221879959,
          0.21345405280590057,
          0.21343901753425598,
          0.21342387795448303,
          0.21340885758399963,
          0.21339377760887146,
          0.21337859332561493,
          0.2133636474609375,
          0.2133484184741974,
          0.21333327889442444,
          0.2133181095123291,
          0.21330292522907257,
          0.2132876217365265,
          0.21327237784862518,
          0.21325714886188507,
          0.2132418155670166,
          0.21322651207447052,
          0.21321110427379608,
          0.21319563686847687,
          0.21318025887012482,
          0.21316468715667725,
          0.21314923465251923,
          0.21313360333442688,
          0.21311822533607483,
          0.2131025493144989,
          0.21308699250221252,
          0.2130713015794754,
          0.21305561065673828,
          0.21303991973400116,
          0.21302422881126404,
          0.21300849318504333,
          0.21299271285533905,
          0.21297697722911835,
          0.21296100318431854,
          0.21294522285461426,
          0.21292944252490997,
          0.21291348338127136,
          0.2128976583480835,
          0.21288156509399414,
          0.21286562085151672,
          0.2128496915102005,
          0.21283367276191711,
          0.2128177136182785,
          0.21280157566070557,
          0.21278543770313263,
          0.21276946365833282,
          0.2127532660961151,
          0.21273717284202576,
          0.21272096037864685,
          0.21270474791526794,
          0.2126886546611786,
          0.21267230808734894,
          0.21265606582164764,
          0.21263977885246277,
          0.2126234471797943,
          0.21260705590248108,
          0.2125907838344574,
          0.21257448196411133,
          0.21255798637866974,
          0.2125416249036789,
          0.21252509951591492,
          0.2125086784362793,
          0.21249213814735413,
          0.2124757021665573,
          0.21245920658111572,
          0.21244248747825623,
          0.21242590248584747,
          0.2124093472957611,
          0.2123926430940628,
          0.21237611770629883,
          0.21235942840576172,
          0.2123427391052246,
          0.2123260796070099,
          0.21230927109718323,
          0.21229247748851776,
          0.21227578818798065,
          0.21225886046886444,
          0.21224217116832733,
          0.2122252732515335,
          0.21220842003822327,
          0.21219146251678467,
          0.21217462420463562,
          0.21215768158435822,
          0.21214088797569275,
          0.2121238261461258,
          0.2121068686246872,
          0.21208985149860382,
          0.21207275986671448,
          0.21205583214759827,
          0.21203866600990295,
          0.2120216190814972,
          0.21200446784496307,
          0.21198733150959015,
          0.21197018027305603,
          0.21195301413536072,
          0.2119358479976654,
          0.21191856265068054,
          0.21190135180950165,
          0.2118842601776123,
          0.2118668556213379,
          0.21184960007667542,
          0.21183228492736816,
          0.21181492507457733,
          0.2117975950241089,
          0.21178030967712402,
          0.21176286041736603,
          0.2117454558610916,
          0.2117280513048172,
          0.21171052753925323,
          0.21169313788414001,
          0.2116757333278656,
          0.21165809035301208,
          0.2116405963897705,
          0.21162310242652893,
          0.21160554885864258,
          0.21158790588378906,
          0.2115703523159027,
          0.21155276894569397,
          0.21153512597084045,
          0.21151748299598694,
          0.21149985492229462,
          0.21148209273815155,
          0.21146436035633087,
          0.21144671738147736,
          0.2114289253950119,
          0.21141114830970764,
          0.21139338612556458,
          0.21137556433677673,
          0.21135783195495605,
          0.21133998036384583,
          0.21132203936576843,
          0.21130414307117462,
          0.21128630638122559,
          0.21126845479011536,
          0.21125051379203796,
          0.21123257279396057,
          0.21121451258659363,
          0.21119654178619385,
          0.21117863059043884,
          0.2111605703830719,
          0.21114256978034973,
          0.2111244946718216,
          0.2111063450574875,
          0.2110883891582489,
          0.211070254445076,
          0.21105210483074188,
          0.2110339105129242,
          0.21101593971252441,
          0.21099765598773956,
          0.21097955107688904,
          0.21096117794513702,
          0.21094302833080292,
          0.21092483401298523,
          0.21090653538703918,
          0.21088819205760956,
          0.2108699083328247,
          0.21085162460803986,
          0.2108333557844162,
          0.21081490814685822,
          0.21079662442207336,
          0.21077828109264374,
          0.21075978875160217,
          0.21074147522449493,
          0.21072301268577576,
          0.2107044756412506,
          0.21068616211414337,
          0.21066756546497345,
          0.21064898371696472,
          0.21063053607940674,
          0.21061208844184875,
          0.21059350669384003,
          0.2105749100446701,
          0.21055622398853302,
          0.2105376273393631,
          0.21051904559135437,
          0.21050040423870087,
          0.2104816883802414,
          0.21046295762062073,
          0.21044430136680603,
          0.21042566001415253,
          0.21040686964988708,
          0.21038833260536194,
          0.2103693187236786,
          0.2103506326675415,
          0.2103317677974701,
          0.21031299233436584,
          0.21029408276081085,
          0.21027538180351257,
          0.21025648713111877,
          0.2102375477552414,
          0.2102186232805252,
          0.2101997435092926,
          0.21018075942993164,
          0.21016177535057068,
          0.2101428061723709,
          0.21012386679649353,
          0.21010485291481018,
          0.21008577942848206,
          0.2100667655467987,
          0.21004772186279297,
          0.210028737783432,
          0.21000957489013672,
          0.20999041199684143,
          0.20997123420238495,
          0.2099522054195404,
          0.20993304252624512,
          0.20991376042366028,
          0.20989462733268738,
          0.20987530052661896,
          0.20985619723796844,
          0.20983688533306122,
          0.20981769263744354,
          0.20979830622673035,
          0.2097790688276291,
          0.2097596675157547,
          0.20974032580852509,
          0.20972108840942383,
          0.20970158278942108,
          0.20968227088451385,
          0.20966282486915588,
          0.20964336395263672,
          0.20962409675121307,
          0.2096043825149536,
          0.20958499610424042,
          0.2095654010772705,
          0.20954594016075134,
          0.20952634513378143,
          0.20950686931610107,
          0.20948736369609833,
          0.20946769416332245,
          0.20944812893867493,
          0.20942851901054382,
          0.20940890908241272,
          0.2093891203403473,
          0.2093695104122162,
          0.20934978127479553,
          0.20933008193969727,
          0.2093103677034378,
          0.20929045975208282,
          0.20927083492279053,
          0.20925107598304749,
          0.2092311829328537,
          0.20921139419078827,
          0.20919151604175568,
          0.2091715782880783,
          0.20915170013904572,
          0.2091318666934967,
          0.20911197364330292,
          0.2090919017791748,
          0.20907199382781982,
          0.20905204117298126,
          0.2090320885181427,
          0.20901206135749817,
          0.20899195969104767,
          0.20897193253040314,
          0.20895199477672577,
          0.2089318484067917,
          0.2089117020368576,
          0.20889167487621307,
          0.20887145400047302,
          0.20885124802589417,
          0.20883116126060486,
          0.20881089568138123,
          0.20879068970680237,
          0.20877042412757874,
          0.2087501585483551,
          0.20872990787029266,
          0.20870967209339142,
          0.20868930220603943,
          0.2086690366268158,
          0.20864872634410858,
          0.2086283415555954,
          0.20860779285430908,
          0.20858745276927948,
          0.20856709778308868,
          0.20854659378528595,
          0.20852620899677277,
          0.20850558578968048,
          0.20848512649536133,
          0.20846466720104218,
          0.20844416320323944,
          0.20842352509498596,
          0.20840302109718323,
          0.20838245749473572,
          0.2083619087934494,
          0.20834121108055115,
          0.20832066237926483,
          0.20830002427101135,
          0.20827922224998474,
          0.20825858414173126,
          0.2082379311323166,
          0.2082170993089676,
          0.20819635689258575,
          0.2081756591796875
         ],
         "yaxis": "y",
         "type": "scatter"
        },
        {
         "hovertemplate": "variable=val_loss<br>index=%{x}<br>value=%{y}<extra></extra>",
         "legendgroup": "val_loss",
         "line": {
          "color": "#EF553B",
          "dash": "solid"
         },
         "marker": {
          "symbol": "circle"
         },
         "mode": "lines",
         "name": "val_loss",
         "orientation": "v",
         "showlegend": true,
         "x": [
          0,
          1,
          2,
          3,
          4,
          5,
          6,
          7,
          8,
          9,
          10,
          11,
          12,
          13,
          14,
          15,
          16,
          17,
          18,
          19,
          20,
          21,
          22,
          23,
          24,
          25,
          26,
          27,
          28,
          29,
          30,
          31,
          32,
          33,
          34,
          35,
          36,
          37,
          38,
          39,
          40,
          41,
          42,
          43,
          44,
          45,
          46,
          47,
          48,
          49,
          50,
          51,
          52,
          53,
          54,
          55,
          56,
          57,
          58,
          59,
          60,
          61,
          62,
          63,
          64,
          65,
          66,
          67,
          68,
          69,
          70,
          71,
          72,
          73,
          74,
          75,
          76,
          77,
          78,
          79,
          80,
          81,
          82,
          83,
          84,
          85,
          86,
          87,
          88,
          89,
          90,
          91,
          92,
          93,
          94,
          95,
          96,
          97,
          98,
          99,
          100,
          101,
          102,
          103,
          104,
          105,
          106,
          107,
          108,
          109,
          110,
          111,
          112,
          113,
          114,
          115,
          116,
          117,
          118,
          119,
          120,
          121,
          122,
          123,
          124,
          125,
          126,
          127,
          128,
          129,
          130,
          131,
          132,
          133,
          134,
          135,
          136,
          137,
          138,
          139,
          140,
          141,
          142,
          143,
          144,
          145,
          146,
          147,
          148,
          149,
          150,
          151,
          152,
          153,
          154,
          155,
          156,
          157,
          158,
          159,
          160,
          161,
          162,
          163,
          164,
          165,
          166,
          167,
          168,
          169,
          170,
          171,
          172,
          173,
          174,
          175,
          176,
          177,
          178,
          179,
          180,
          181,
          182,
          183,
          184,
          185,
          186,
          187,
          188,
          189,
          190,
          191,
          192,
          193,
          194,
          195,
          196,
          197,
          198,
          199,
          200,
          201,
          202,
          203,
          204,
          205,
          206,
          207,
          208,
          209,
          210,
          211,
          212,
          213,
          214,
          215,
          216,
          217,
          218,
          219,
          220,
          221,
          222,
          223,
          224,
          225,
          226,
          227,
          228,
          229,
          230,
          231,
          232,
          233,
          234,
          235,
          236,
          237,
          238,
          239,
          240,
          241,
          242,
          243,
          244,
          245,
          246,
          247,
          248,
          249,
          250,
          251,
          252,
          253,
          254,
          255,
          256,
          257,
          258,
          259,
          260,
          261,
          262,
          263,
          264,
          265,
          266,
          267,
          268,
          269,
          270,
          271,
          272,
          273,
          274,
          275,
          276,
          277,
          278,
          279,
          280,
          281,
          282,
          283,
          284,
          285,
          286,
          287,
          288,
          289,
          290,
          291,
          292,
          293,
          294,
          295,
          296,
          297,
          298,
          299,
          300,
          301,
          302,
          303,
          304,
          305,
          306,
          307,
          308,
          309,
          310,
          311,
          312,
          313,
          314,
          315,
          316,
          317,
          318,
          319,
          320,
          321,
          322,
          323,
          324,
          325,
          326,
          327,
          328,
          329,
          330,
          331,
          332,
          333,
          334,
          335,
          336,
          337,
          338,
          339,
          340,
          341,
          342,
          343,
          344,
          345,
          346,
          347,
          348,
          349,
          350,
          351,
          352,
          353,
          354,
          355,
          356,
          357,
          358,
          359,
          360,
          361,
          362,
          363,
          364,
          365,
          366,
          367,
          368,
          369,
          370,
          371,
          372,
          373,
          374,
          375,
          376,
          377,
          378,
          379,
          380,
          381,
          382,
          383,
          384,
          385,
          386,
          387,
          388,
          389,
          390,
          391,
          392,
          393,
          394,
          395,
          396,
          397,
          398,
          399,
          400,
          401,
          402,
          403,
          404,
          405,
          406,
          407,
          408,
          409,
          410,
          411,
          412,
          413,
          414,
          415,
          416,
          417,
          418,
          419,
          420,
          421,
          422,
          423,
          424,
          425,
          426,
          427,
          428,
          429,
          430,
          431,
          432,
          433,
          434,
          435,
          436,
          437,
          438,
          439,
          440,
          441,
          442,
          443,
          444,
          445,
          446,
          447,
          448,
          449,
          450,
          451,
          452,
          453,
          454,
          455,
          456,
          457,
          458,
          459,
          460,
          461,
          462,
          463,
          464,
          465,
          466,
          467,
          468,
          469,
          470,
          471,
          472,
          473,
          474,
          475,
          476,
          477,
          478,
          479,
          480,
          481,
          482,
          483,
          484,
          485,
          486,
          487,
          488,
          489,
          490,
          491,
          492,
          493,
          494,
          495,
          496,
          497,
          498,
          499
         ],
         "xaxis": "x",
         "y": [
          24.024383544921875,
          23.443239212036133,
          22.875680923461914,
          22.321727752685547,
          21.781206130981445,
          21.25380516052246,
          20.73918914794922,
          20.237003326416016,
          19.746862411499023,
          19.268342971801758,
          18.801002502441406,
          18.344369888305664,
          17.8979549407959,
          17.46126937866211,
          17.033811569213867,
          16.615102767944336,
          16.204681396484375,
          15.802105903625488,
          15.406967163085938,
          15.018872261047363,
          14.637466430664062,
          14.262408256530762,
          13.893386840820312,
          13.530108451843262,
          13.1723051071167,
          12.819722175598145,
          12.472124099731445,
          12.129289627075195,
          11.791013717651367,
          11.457098007202148,
          11.127362251281738,
          10.80163288116455,
          10.479748725891113,
          10.161563873291016,
          9.846940040588379,
          9.535758018493652,
          9.227912902832031,
          8.923323631286621,
          8.62193489074707,
          8.323724746704102,
          8.028706550598145,
          7.736947536468506,
          7.448554992675781,
          7.163690090179443,
          6.882559299468994,
          6.605401039123535,
          6.332479000091553,
          6.06406307220459,
          5.800413608551025,
          5.541762351989746,
          5.288301944732666,
          5.040177345275879,
          4.797483921051025,
          4.560271739959717,
          4.328560829162598,
          4.102356433868408,
          3.8816604614257812,
          3.6664977073669434,
          3.4569153785705566,
          3.252995729446411,
          3.0548503398895264,
          2.8626151084899902,
          2.676443576812744,
          2.4964892864227295,
          2.322904109954834,
          2.155825138092041,
          1.995370864868164,
          1.8416364192962646,
          1.6946942806243896,
          1.5545949935913086,
          1.4213684797286987,
          1.2950286865234375,
          1.1755759716033936,
          1.0629990100860596,
          0.9572749137878418,
          0.8583752512931824,
          0.766261100769043,
          0.6808845400810242,
          0.6021865606307983,
          0.5300964117050171,
          0.46452778577804565,
          0.40537890791893005,
          0.35252845287323,
          0.30583420395851135,
          0.26513200998306274,
          0.2302338182926178,
          0.20092768967151642,
          0.17697730660438538,
          0.1581231653690338,
          0.1440839320421219,
          0.13455843925476074,
          0.12922871112823486,
          0.12776324152946472,
          0.12982122600078583,
          0.13505545258522034,
          0.14311747252941132,
          0.15366052091121674,
          0.166344553232193,
          0.18083827197551727,
          0.1968238651752472,
          0.21399736404418945,
          0.2320733517408371,
          0.2507847249507904,
          0.26988333463668823,
          0.289143830537796,
          0.3083612620830536,
          0.3273508846759796,
          0.3459506630897522,
          0.36401844024658203,
          0.38143178820610046,
          0.3980880379676819,
          0.41390109062194824,
          0.4288043975830078,
          0.44274601340293884,
          0.4556889533996582,
          0.46760958433151245,
          0.47849807143211365,
          0.4883529543876648,
          0.4971856474876404,
          0.5050159692764282,
          0.5118693113327026,
          0.5177800059318542,
          0.522786021232605,
          0.5269309282302856,
          0.5302618741989136,
          0.5328269004821777,
          0.5346773266792297,
          0.5358661413192749,
          0.5364450216293335,
          0.5364676117897034,
          0.5359840393066406,
          0.5350466966629028,
          0.5337035655975342,
          0.5320031046867371,
          0.5299903154373169,
          0.5277085304260254,
          0.5251988172531128,
          0.5224989652633667,
          0.5196454524993896,
          0.5166712403297424,
          0.5136075019836426,
          0.5104827880859375,
          0.5073217749595642,
          0.5041489601135254,
          0.500984787940979,
          0.49784812331199646,
          0.4947558343410492,
          0.4917224943637848,
          0.48876112699508667,
          0.48588237166404724,
          0.4830964505672455,
          0.4804103374481201,
          0.47783058881759644,
          0.47536253929138184,
          0.4730098843574524,
          0.4707759916782379,
          0.4686625599861145,
          0.4666697084903717,
          0.4647979736328125,
          0.4630468785762787,
          0.4614153504371643,
          0.45990052819252014,
          0.4585011899471283,
          0.4572141170501709,
          0.45603567361831665,
          0.45496314764022827,
          0.45399123430252075,
          0.4531174302101135,
          0.45233696699142456,
          0.4516445994377136,
          0.4510376453399658,
          0.45051008462905884,
          0.4500578045845032,
          0.44967585802078247,
          0.4493602216243744,
          0.4491063058376312,
          0.44890886545181274,
          0.4487639367580414,
          0.4486677646636963,
          0.4486144483089447,
          0.4486019015312195,
          0.44862493872642517,
          0.44867977499961853,
          0.4487627148628235,
          0.44887083768844604,
          0.4490002691745758,
          0.4491485059261322,
          0.4493115544319153,
          0.4494875371456146,
          0.4496726095676422,
          0.44986575841903687,
          0.4500636160373688,
          0.45026445388793945,
          0.4504668712615967,
          0.4506681561470032,
          0.4508669972419739,
          0.4510624408721924,
          0.4512525498867035,
          0.45143651962280273,
          0.45161372423171997,
          0.45178237557411194,
          0.4519428312778473,
          0.4520936608314514,
          0.45223468542099,
          0.45236635208129883,
          0.4524868428707123,
          0.45259690284729004,
          0.4526960849761963,
          0.45278486609458923,
          0.4528633654117584,
          0.45293092727661133,
          0.4529879689216614,
          0.45303621888160706,
          0.45307403802871704,
          0.4531024098396301,
          0.45312175154685974,
          0.4531327784061432,
          0.4531354010105133,
          0.453130304813385,
          0.45311832427978516,
          0.45309871435165405,
          0.45307397842407227,
          0.45304208993911743,
          0.4530053734779358,
          0.4529641568660736,
          0.45291757583618164,
          0.45286720991134644,
          0.4528132379055023,
          0.45275601744651794,
          0.4526965022087097,
          0.4526342749595642,
          0.4525696635246277,
          0.45250362157821655,
          0.45243558287620544,
          0.4523671269416809,
          0.4522972106933594,
          0.45222726464271545,
          0.45215678215026855,
          0.45208626985549927,
          0.45201587677001953,
          0.45194584131240845,
          0.451876163482666,
          0.4518067240715027,
          0.45173829793930054,
          0.45167064666748047,
          0.4516039788722992,
          0.4515385031700134,
          0.4514736235141754,
          0.4514097273349762,
          0.4513470232486725,
          0.4512854516506195,
          0.4512251913547516,
          0.4511662423610687,
          0.4511079788208008,
          0.4510507583618164,
          0.45099449157714844,
          0.4509401321411133,
          0.4508857727050781,
          0.45083266496658325,
          0.4507807791233063,
          0.4507296085357666,
          0.4506794512271881,
          0.45062947273254395,
          0.45058029890060425,
          0.45053237676620483,
          0.4504842758178711,
          0.4504374563694,
          0.4503907263278961,
          0.45034462213516235,
          0.4502984583377838,
          0.45025283098220825,
          0.4502074122428894,
          0.4501626491546631,
          0.45011743903160095,
          0.4500727653503418,
          0.4500277638435364,
          0.4499831795692444,
          0.4499383568763733,
          0.44989389181137085,
          0.44984903931617737,
          0.44980448484420776,
          0.4497593939304352,
          0.4497148096561432,
          0.4496692717075348,
          0.4496242105960846,
          0.44957923889160156,
          0.4495334029197693,
          0.4494878649711609,
          0.4494418203830719,
          0.44939595460891724,
          0.4493491053581238,
          0.44930320978164673,
          0.4492567181587219,
          0.4492092728614807,
          0.4491625428199768,
          0.4491147994995117,
          0.4490676820278168,
          0.44902005791664124,
          0.4489717483520508,
          0.4489240050315857,
          0.448875367641449,
          0.44882717728614807,
          0.4487788677215576,
          0.4487297534942627,
          0.44868096709251404,
          0.4486319422721863,
          0.44858279824256897,
          0.44853344559669495,
          0.44848400354385376,
          0.4484345018863678,
          0.44838494062423706,
          0.4483349323272705,
          0.4482855200767517,
          0.448235422372818,
          0.4481852650642395,
          0.44813528656959534,
          0.4480854570865631,
          0.4480348527431488,
          0.4479847848415375,
          0.44793468713760376,
          0.4478841722011566,
          0.4478340744972229,
          0.44778361916542053,
          0.44773322343826294,
          0.4476824700832367,
          0.4476320743560791,
          0.4475816786289215,
          0.44753098487854004,
          0.44748005270957947,
          0.4474298357963562,
          0.4473790228366852,
          0.4473281800746918,
          0.44727760553359985,
          0.4472268223762512,
          0.447176069021225,
          0.4471249580383301,
          0.44707411527633667,
          0.4470234811306,
          0.4469727575778961,
          0.44692182540893555,
          0.4468703269958496,
          0.44681960344314575,
          0.4467686116695404,
          0.44671759009361267,
          0.4466664791107178,
          0.4466148018836975,
          0.44656357169151306,
          0.4465126097202301,
          0.44646137952804565,
          0.4464101791381836,
          0.446358859539032,
          0.4463069438934326,
          0.4462555944919586,
          0.4462042450904846,
          0.44615262746810913,
          0.4461011290550232,
          0.4460497796535492,
          0.4459978938102722,
          0.44594627618789673,
          0.44589391350746155,
          0.4458422064781189,
          0.4457903504371643,
          0.44573861360549927,
          0.4456869065761566,
          0.44563475251197815,
          0.44558268785476685,
          0.4455307126045227,
          0.4454785883426666,
          0.4454263150691986,
          0.44537416100502014,
          0.44532161951065063,
          0.4452695846557617,
          0.44521722197532654,
          0.44516438245773315,
          0.4451116621494293,
          0.44505900144577026,
          0.44500645995140076,
          0.4449537396430969,
          0.4449009895324707,
          0.44484835863113403,
          0.4447954297065735,
          0.44474250078201294,
          0.4446895718574524,
          0.4446364939212799,
          0.4445834755897522,
          0.44453057646751404,
          0.4444770812988281,
          0.44442448019981384,
          0.44437137246131897,
          0.4443180561065674,
          0.4442649781703949,
          0.4442114233970642,
          0.44415783882141113,
          0.4441041946411133,
          0.44405072927474976,
          0.4439971446990967,
          0.44394320249557495,
          0.4438897669315338,
          0.4438358247280121,
          0.44378191232681274,
          0.44372814893722534,
          0.44367486238479614,
          0.4436206817626953,
          0.4435669481754303,
          0.4435129165649414,
          0.4434587061405182,
          0.4434046149253845,
          0.44335031509399414,
          0.4432966113090515,
          0.443242609500885,
          0.44318804144859314,
          0.4431335926055908,
          0.4430791735649109,
          0.44302472472190857,
          0.4429705739021301,
          0.4429159164428711,
          0.44286125898361206,
          0.4428064227104187,
          0.4427517354488373,
          0.4426971971988678,
          0.44264277815818787,
          0.4425874650478363,
          0.4425325393676758,
          0.44247764348983765,
          0.4424231946468353,
          0.4423680305480957,
          0.4423128068447113,
          0.4422575831413269,
          0.44220295548439026,
          0.44214779138565063,
          0.44209232926368713,
          0.442037433385849,
          0.4419820308685303,
          0.4419265687465668,
          0.44187086820602417,
          0.4418157935142517,
          0.4417603015899658,
          0.44170457124710083,
          0.4416491389274597,
          0.44159334897994995,
          0.44153738021850586,
          0.4414820671081543,
          0.4414258599281311,
          0.44137054681777954,
          0.4413144588470459,
          0.4412582516670227,
          0.44120272994041443,
          0.44114646315574646,
          0.4410901665687561,
          0.4410342574119568,
          0.44097763299942017,
          0.4409218728542328,
          0.4408654272556305,
          0.44080910086631775,
          0.4407528042793274,
          0.44069600105285645,
          0.4406398832798004,
          0.4405832290649414,
          0.4405268132686615,
          0.4404699206352234,
          0.4404136538505554,
          0.44035688042640686,
          0.440300315618515,
          0.4402431547641754,
          0.4401867389678955,
          0.44012966752052307,
          0.4400728642940521,
          0.440015971660614,
          0.4399589002132416,
          0.43990153074264526,
          0.43984484672546387,
          0.4397875666618347,
          0.4397307336330414,
          0.4396732747554779,
          0.43961596488952637,
          0.4395589828491211,
          0.4395013749599457,
          0.4394441545009613,
          0.4393866956233978,
          0.4393293857574463,
          0.43927207589149475,
          0.43921416997909546,
          0.4391568601131439,
          0.43909960985183716,
          0.43904176354408264,
          0.438984215259552,
          0.4389270842075348,
          0.43886899948120117,
          0.4388113021850586,
          0.4387536644935608,
          0.43869566917419434,
          0.4386378824710846,
          0.43858033418655396,
          0.4385220408439636,
          0.4384642541408539,
          0.43840664625167847,
          0.43834906816482544,
          0.4382905960083008,
          0.43823274970054626,
          0.43817466497421265
         ],
         "yaxis": "y",
         "type": "scatter"
        }
       ],
       "layout": {
        "template": {
         "data": {
          "bar": [
           {
            "error_x": {
             "color": "#2a3f5f"
            },
            "error_y": {
             "color": "#2a3f5f"
            },
            "marker": {
             "line": {
              "color": "#E5ECF6",
              "width": 0.5
             },
             "pattern": {
              "fillmode": "overlay",
              "size": 10,
              "solidity": 0.2
             }
            },
            "type": "bar"
           }
          ],
          "barpolar": [
           {
            "marker": {
             "line": {
              "color": "#E5ECF6",
              "width": 0.5
             },
             "pattern": {
              "fillmode": "overlay",
              "size": 10,
              "solidity": 0.2
             }
            },
            "type": "barpolar"
           }
          ],
          "carpet": [
           {
            "aaxis": {
             "endlinecolor": "#2a3f5f",
             "gridcolor": "white",
             "linecolor": "white",
             "minorgridcolor": "white",
             "startlinecolor": "#2a3f5f"
            },
            "baxis": {
             "endlinecolor": "#2a3f5f",
             "gridcolor": "white",
             "linecolor": "white",
             "minorgridcolor": "white",
             "startlinecolor": "#2a3f5f"
            },
            "type": "carpet"
           }
          ],
          "choropleth": [
           {
            "colorbar": {
             "outlinewidth": 0,
             "ticks": ""
            },
            "type": "choropleth"
           }
          ],
          "contour": [
           {
            "colorbar": {
             "outlinewidth": 0,
             "ticks": ""
            },
            "colorscale": [
             [
              0.0,
              "#0d0887"
             ],
             [
              0.1111111111111111,
              "#46039f"
             ],
             [
              0.2222222222222222,
              "#7201a8"
             ],
             [
              0.3333333333333333,
              "#9c179e"
             ],
             [
              0.4444444444444444,
              "#bd3786"
             ],
             [
              0.5555555555555556,
              "#d8576b"
             ],
             [
              0.6666666666666666,
              "#ed7953"
             ],
             [
              0.7777777777777778,
              "#fb9f3a"
             ],
             [
              0.8888888888888888,
              "#fdca26"
             ],
             [
              1.0,
              "#f0f921"
             ]
            ],
            "type": "contour"
           }
          ],
          "contourcarpet": [
           {
            "colorbar": {
             "outlinewidth": 0,
             "ticks": ""
            },
            "type": "contourcarpet"
           }
          ],
          "heatmap": [
           {
            "colorbar": {
             "outlinewidth": 0,
             "ticks": ""
            },
            "colorscale": [
             [
              0.0,
              "#0d0887"
             ],
             [
              0.1111111111111111,
              "#46039f"
             ],
             [
              0.2222222222222222,
              "#7201a8"
             ],
             [
              0.3333333333333333,
              "#9c179e"
             ],
             [
              0.4444444444444444,
              "#bd3786"
             ],
             [
              0.5555555555555556,
              "#d8576b"
             ],
             [
              0.6666666666666666,
              "#ed7953"
             ],
             [
              0.7777777777777778,
              "#fb9f3a"
             ],
             [
              0.8888888888888888,
              "#fdca26"
             ],
             [
              1.0,
              "#f0f921"
             ]
            ],
            "type": "heatmap"
           }
          ],
          "heatmapgl": [
           {
            "colorbar": {
             "outlinewidth": 0,
             "ticks": ""
            },
            "colorscale": [
             [
              0.0,
              "#0d0887"
             ],
             [
              0.1111111111111111,
              "#46039f"
             ],
             [
              0.2222222222222222,
              "#7201a8"
             ],
             [
              0.3333333333333333,
              "#9c179e"
             ],
             [
              0.4444444444444444,
              "#bd3786"
             ],
             [
              0.5555555555555556,
              "#d8576b"
             ],
             [
              0.6666666666666666,
              "#ed7953"
             ],
             [
              0.7777777777777778,
              "#fb9f3a"
             ],
             [
              0.8888888888888888,
              "#fdca26"
             ],
             [
              1.0,
              "#f0f921"
             ]
            ],
            "type": "heatmapgl"
           }
          ],
          "histogram": [
           {
            "marker": {
             "pattern": {
              "fillmode": "overlay",
              "size": 10,
              "solidity": 0.2
             }
            },
            "type": "histogram"
           }
          ],
          "histogram2d": [
           {
            "colorbar": {
             "outlinewidth": 0,
             "ticks": ""
            },
            "colorscale": [
             [
              0.0,
              "#0d0887"
             ],
             [
              0.1111111111111111,
              "#46039f"
             ],
             [
              0.2222222222222222,
              "#7201a8"
             ],
             [
              0.3333333333333333,
              "#9c179e"
             ],
             [
              0.4444444444444444,
              "#bd3786"
             ],
             [
              0.5555555555555556,
              "#d8576b"
             ],
             [
              0.6666666666666666,
              "#ed7953"
             ],
             [
              0.7777777777777778,
              "#fb9f3a"
             ],
             [
              0.8888888888888888,
              "#fdca26"
             ],
             [
              1.0,
              "#f0f921"
             ]
            ],
            "type": "histogram2d"
           }
          ],
          "histogram2dcontour": [
           {
            "colorbar": {
             "outlinewidth": 0,
             "ticks": ""
            },
            "colorscale": [
             [
              0.0,
              "#0d0887"
             ],
             [
              0.1111111111111111,
              "#46039f"
             ],
             [
              0.2222222222222222,
              "#7201a8"
             ],
             [
              0.3333333333333333,
              "#9c179e"
             ],
             [
              0.4444444444444444,
              "#bd3786"
             ],
             [
              0.5555555555555556,
              "#d8576b"
             ],
             [
              0.6666666666666666,
              "#ed7953"
             ],
             [
              0.7777777777777778,
              "#fb9f3a"
             ],
             [
              0.8888888888888888,
              "#fdca26"
             ],
             [
              1.0,
              "#f0f921"
             ]
            ],
            "type": "histogram2dcontour"
           }
          ],
          "mesh3d": [
           {
            "colorbar": {
             "outlinewidth": 0,
             "ticks": ""
            },
            "type": "mesh3d"
           }
          ],
          "parcoords": [
           {
            "line": {
             "colorbar": {
              "outlinewidth": 0,
              "ticks": ""
             }
            },
            "type": "parcoords"
           }
          ],
          "pie": [
           {
            "automargin": true,
            "type": "pie"
           }
          ],
          "scatter": [
           {
            "marker": {
             "colorbar": {
              "outlinewidth": 0,
              "ticks": ""
             }
            },
            "type": "scatter"
           }
          ],
          "scatter3d": [
           {
            "line": {
             "colorbar": {
              "outlinewidth": 0,
              "ticks": ""
             }
            },
            "marker": {
             "colorbar": {
              "outlinewidth": 0,
              "ticks": ""
             }
            },
            "type": "scatter3d"
           }
          ],
          "scattercarpet": [
           {
            "marker": {
             "colorbar": {
              "outlinewidth": 0,
              "ticks": ""
             }
            },
            "type": "scattercarpet"
           }
          ],
          "scattergeo": [
           {
            "marker": {
             "colorbar": {
              "outlinewidth": 0,
              "ticks": ""
             }
            },
            "type": "scattergeo"
           }
          ],
          "scattergl": [
           {
            "marker": {
             "colorbar": {
              "outlinewidth": 0,
              "ticks": ""
             }
            },
            "type": "scattergl"
           }
          ],
          "scattermapbox": [
           {
            "marker": {
             "colorbar": {
              "outlinewidth": 0,
              "ticks": ""
             }
            },
            "type": "scattermapbox"
           }
          ],
          "scatterpolar": [
           {
            "marker": {
             "colorbar": {
              "outlinewidth": 0,
              "ticks": ""
             }
            },
            "type": "scatterpolar"
           }
          ],
          "scatterpolargl": [
           {
            "marker": {
             "colorbar": {
              "outlinewidth": 0,
              "ticks": ""
             }
            },
            "type": "scatterpolargl"
           }
          ],
          "scatterternary": [
           {
            "marker": {
             "colorbar": {
              "outlinewidth": 0,
              "ticks": ""
             }
            },
            "type": "scatterternary"
           }
          ],
          "surface": [
           {
            "colorbar": {
             "outlinewidth": 0,
             "ticks": ""
            },
            "colorscale": [
             [
              0.0,
              "#0d0887"
             ],
             [
              0.1111111111111111,
              "#46039f"
             ],
             [
              0.2222222222222222,
              "#7201a8"
             ],
             [
              0.3333333333333333,
              "#9c179e"
             ],
             [
              0.4444444444444444,
              "#bd3786"
             ],
             [
              0.5555555555555556,
              "#d8576b"
             ],
             [
              0.6666666666666666,
              "#ed7953"
             ],
             [
              0.7777777777777778,
              "#fb9f3a"
             ],
             [
              0.8888888888888888,
              "#fdca26"
             ],
             [
              1.0,
              "#f0f921"
             ]
            ],
            "type": "surface"
           }
          ],
          "table": [
           {
            "cells": {
             "fill": {
              "color": "#EBF0F8"
             },
             "line": {
              "color": "white"
             }
            },
            "header": {
             "fill": {
              "color": "#C8D4E3"
             },
             "line": {
              "color": "white"
             }
            },
            "type": "table"
           }
          ]
         },
         "layout": {
          "annotationdefaults": {
           "arrowcolor": "#2a3f5f",
           "arrowhead": 0,
           "arrowwidth": 1
          },
          "autotypenumbers": "strict",
          "coloraxis": {
           "colorbar": {
            "outlinewidth": 0,
            "ticks": ""
           }
          },
          "colorscale": {
           "diverging": [
            [
             0,
             "#8e0152"
            ],
            [
             0.1,
             "#c51b7d"
            ],
            [
             0.2,
             "#de77ae"
            ],
            [
             0.3,
             "#f1b6da"
            ],
            [
             0.4,
             "#fde0ef"
            ],
            [
             0.5,
             "#f7f7f7"
            ],
            [
             0.6,
             "#e6f5d0"
            ],
            [
             0.7,
             "#b8e186"
            ],
            [
             0.8,
             "#7fbc41"
            ],
            [
             0.9,
             "#4d9221"
            ],
            [
             1,
             "#276419"
            ]
           ],
           "sequential": [
            [
             0.0,
             "#0d0887"
            ],
            [
             0.1111111111111111,
             "#46039f"
            ],
            [
             0.2222222222222222,
             "#7201a8"
            ],
            [
             0.3333333333333333,
             "#9c179e"
            ],
            [
             0.4444444444444444,
             "#bd3786"
            ],
            [
             0.5555555555555556,
             "#d8576b"
            ],
            [
             0.6666666666666666,
             "#ed7953"
            ],
            [
             0.7777777777777778,
             "#fb9f3a"
            ],
            [
             0.8888888888888888,
             "#fdca26"
            ],
            [
             1.0,
             "#f0f921"
            ]
           ],
           "sequentialminus": [
            [
             0.0,
             "#0d0887"
            ],
            [
             0.1111111111111111,
             "#46039f"
            ],
            [
             0.2222222222222222,
             "#7201a8"
            ],
            [
             0.3333333333333333,
             "#9c179e"
            ],
            [
             0.4444444444444444,
             "#bd3786"
            ],
            [
             0.5555555555555556,
             "#d8576b"
            ],
            [
             0.6666666666666666,
             "#ed7953"
            ],
            [
             0.7777777777777778,
             "#fb9f3a"
            ],
            [
             0.8888888888888888,
             "#fdca26"
            ],
            [
             1.0,
             "#f0f921"
            ]
           ]
          },
          "colorway": [
           "#636efa",
           "#EF553B",
           "#00cc96",
           "#ab63fa",
           "#FFA15A",
           "#19d3f3",
           "#FF6692",
           "#B6E880",
           "#FF97FF",
           "#FECB52"
          ],
          "font": {
           "color": "#2a3f5f"
          },
          "geo": {
           "bgcolor": "white",
           "lakecolor": "white",
           "landcolor": "#E5ECF6",
           "showlakes": true,
           "showland": true,
           "subunitcolor": "white"
          },
          "hoverlabel": {
           "align": "left"
          },
          "hovermode": "closest",
          "mapbox": {
           "style": "light"
          },
          "paper_bgcolor": "white",
          "plot_bgcolor": "#E5ECF6",
          "polar": {
           "angularaxis": {
            "gridcolor": "white",
            "linecolor": "white",
            "ticks": ""
           },
           "bgcolor": "#E5ECF6",
           "radialaxis": {
            "gridcolor": "white",
            "linecolor": "white",
            "ticks": ""
           }
          },
          "scene": {
           "xaxis": {
            "backgroundcolor": "#E5ECF6",
            "gridcolor": "white",
            "gridwidth": 2,
            "linecolor": "white",
            "showbackground": true,
            "ticks": "",
            "zerolinecolor": "white"
           },
           "yaxis": {
            "backgroundcolor": "#E5ECF6",
            "gridcolor": "white",
            "gridwidth": 2,
            "linecolor": "white",
            "showbackground": true,
            "ticks": "",
            "zerolinecolor": "white"
           },
           "zaxis": {
            "backgroundcolor": "#E5ECF6",
            "gridcolor": "white",
            "gridwidth": 2,
            "linecolor": "white",
            "showbackground": true,
            "ticks": "",
            "zerolinecolor": "white"
           }
          },
          "shapedefaults": {
           "line": {
            "color": "#2a3f5f"
           }
          },
          "ternary": {
           "aaxis": {
            "gridcolor": "white",
            "linecolor": "white",
            "ticks": ""
           },
           "baxis": {
            "gridcolor": "white",
            "linecolor": "white",
            "ticks": ""
           },
           "bgcolor": "#E5ECF6",
           "caxis": {
            "gridcolor": "white",
            "linecolor": "white",
            "ticks": ""
           }
          },
          "title": {
           "x": 0.05
          },
          "xaxis": {
           "automargin": true,
           "gridcolor": "white",
           "linecolor": "white",
           "ticks": "",
           "title": {
            "standoff": 15
           },
           "zerolinecolor": "white",
           "zerolinewidth": 2
          },
          "yaxis": {
           "automargin": true,
           "gridcolor": "white",
           "linecolor": "white",
           "ticks": "",
           "title": {
            "standoff": 15
           },
           "zerolinecolor": "white",
           "zerolinewidth": 2
          }
         }
        },
        "xaxis": {
         "anchor": "y",
         "domain": [
          0.0,
          1.0
         ],
         "title": {
          "text": "index"
         }
        },
        "yaxis": {
         "anchor": "x",
         "domain": [
          0.0,
          1.0
         ],
         "title": {
          "text": "value"
         }
        },
        "legend": {
         "title": {
          "text": "variable"
         },
         "tracegroupgap": 0
        },
        "margin": {
         "t": 60
        }
       },
       "config": {
        "plotlyServerURL": "https://plot.ly"
       }
      },
      "text/html": "<div>                            <div id=\"9d300222-039f-4438-b13d-17c275d16de2\" class=\"plotly-graph-div\" style=\"height:525px; width:100%;\"></div>            <script type=\"text/javascript\">                require([\"plotly\"], function(Plotly) {                    window.PLOTLYENV=window.PLOTLYENV || {};                                    if (document.getElementById(\"9d300222-039f-4438-b13d-17c275d16de2\")) {                    Plotly.newPlot(                        \"9d300222-039f-4438-b13d-17c275d16de2\",                        [{\"hovertemplate\":\"variable=loss<br>index=%{x}<br>value=%{y}<extra></extra>\",\"legendgroup\":\"loss\",\"line\":{\"color\":\"#636efa\",\"dash\":\"solid\"},\"marker\":{\"symbol\":\"circle\"},\"mode\":\"lines\",\"name\":\"loss\",\"orientation\":\"v\",\"showlegend\":true,\"x\":[0,1,2,3,4,5,6,7,8,9,10,11,12,13,14,15,16,17,18,19,20,21,22,23,24,25,26,27,28,29,30,31,32,33,34,35,36,37,38,39,40,41,42,43,44,45,46,47,48,49,50,51,52,53,54,55,56,57,58,59,60,61,62,63,64,65,66,67,68,69,70,71,72,73,74,75,76,77,78,79,80,81,82,83,84,85,86,87,88,89,90,91,92,93,94,95,96,97,98,99,100,101,102,103,104,105,106,107,108,109,110,111,112,113,114,115,116,117,118,119,120,121,122,123,124,125,126,127,128,129,130,131,132,133,134,135,136,137,138,139,140,141,142,143,144,145,146,147,148,149,150,151,152,153,154,155,156,157,158,159,160,161,162,163,164,165,166,167,168,169,170,171,172,173,174,175,176,177,178,179,180,181,182,183,184,185,186,187,188,189,190,191,192,193,194,195,196,197,198,199,200,201,202,203,204,205,206,207,208,209,210,211,212,213,214,215,216,217,218,219,220,221,222,223,224,225,226,227,228,229,230,231,232,233,234,235,236,237,238,239,240,241,242,243,244,245,246,247,248,249,250,251,252,253,254,255,256,257,258,259,260,261,262,263,264,265,266,267,268,269,270,271,272,273,274,275,276,277,278,279,280,281,282,283,284,285,286,287,288,289,290,291,292,293,294,295,296,297,298,299,300,301,302,303,304,305,306,307,308,309,310,311,312,313,314,315,316,317,318,319,320,321,322,323,324,325,326,327,328,329,330,331,332,333,334,335,336,337,338,339,340,341,342,343,344,345,346,347,348,349,350,351,352,353,354,355,356,357,358,359,360,361,362,363,364,365,366,367,368,369,370,371,372,373,374,375,376,377,378,379,380,381,382,383,384,385,386,387,388,389,390,391,392,393,394,395,396,397,398,399,400,401,402,403,404,405,406,407,408,409,410,411,412,413,414,415,416,417,418,419,420,421,422,423,424,425,426,427,428,429,430,431,432,433,434,435,436,437,438,439,440,441,442,443,444,445,446,447,448,449,450,451,452,453,454,455,456,457,458,459,460,461,462,463,464,465,466,467,468,469,470,471,472,473,474,475,476,477,478,479,480,481,482,483,484,485,486,487,488,489,490,491,492,493,494,495,496,497,498,499],\"xaxis\":\"x\",\"y\":[30.759191513061523,30.10595703125,29.466760635375977,28.841726303100586,28.23086166381836,27.633899688720703,27.050457000732422,26.480133056640625,25.9224910736084,25.377071380615234,24.8433780670166,24.32088851928711,23.809080123901367,23.307415008544922,22.81536293029785,22.3324031829834,21.858041763305664,21.391799926757812,20.93325424194336,20.481985092163086,20.03762435913086,19.59981918334961,19.168251037597656,18.742618560791016,18.322647094726562,17.908084869384766,17.49869155883789,17.094249725341797,16.69455337524414,16.29940414428711,15.908613204956055,15.522000312805176,15.139378547668457,14.760571479797363,14.385396957397461,14.013671875,13.64521598815918,13.279844284057617,12.917376518249512,12.557645797729492,12.2005033493042,11.845832824707031,11.493562698364258,11.1436767578125,10.796232223510742,10.451356887817383,10.1092529296875,9.770195007324219,9.434507369995117,9.102550506591797,8.774696350097656,8.451295852661133,8.132661819458008,7.819055080413818,7.510672092437744,7.2076520919799805,6.910096168518066,6.618075370788574,6.331662178039551,6.050940036773682,5.7760162353515625,5.507026195526123,5.244129657745361,4.987502098083496,4.737324237823486,4.493769645690918,4.257000923156738,4.027158260345459,3.804356336593628,3.5886855125427246,3.3802103996276855,3.178974151611328,2.9850034713745117,2.7983107566833496,2.618898391723633,2.4467613697052,2.2818894386291504,2.12427020072937,1.9738861322402954,1.8307138681411743,1.694728136062622,1.565893530845642,1.4441665410995483,1.3294917345046997,1.2217991352081299,1.121002435684204,1.026996374130249,0.9396549463272095,0.858829140663147,0.784347414970398,0.7160141468048096,0.6536105871200562,0.5968961715698242,0.5456103086471558,0.4994756579399109,0.45819997787475586,0.42148154973983765,0.38901081681251526,0.36047497391700745,0.3355619013309479,0.3139631748199463,0.2953781485557556,0.2795141339302063,0.2660919725894928,0.25484567880630493,0.24552445113658905,0.23789358139038086,0.2317357063293457,0.2268499881029129,0.2230532169342041,0.22017879784107208,0.21807663142681122,0.21661274135112762,0.21566839516162872,0.21513858437538147,0.21493248641490936,0.2149716168642044,0.21518869698047638,0.2155272513628006,0.2159406691789627,0.21639037132263184,0.21684613823890686,0.21728363633155823,0.21768517792224884,0.21803829073905945,0.2183341681957245,0.21856817603111267,0.21873852610588074,0.21884603798389435,0.2188929319381714,0.2188837230205536,0.21882304549217224,0.21871690452098846,0.21857133507728577,0.21839292347431183,0.21818765997886658,0.2179618775844574,0.21772107481956482,0.21747072041034698,0.21721558272838593,0.2169598788022995,0.2167072296142578,0.21646113693714142,0.2162237912416458,0.21599745750427246,0.21578364074230194,0.21558380126953125,0.2153984010219574,0.21522769331932068,0.21507199108600616,0.214930921792984,0.21480421721935272,0.21469120681285858,0.21459093689918518,0.21450281143188477,0.21442577242851257,0.21435880661010742,0.21430110931396484,0.21425151824951172,0.21420907974243164,0.2141730785369873,0.21414229273796082,0.214116171002388,0.21409368515014648,0.21407456696033478,0.2140578031539917,0.21404290199279785,0.21402963995933533,0.2140173465013504,0.2140057533979416,0.21399445831775665,0.21398356556892395,0.21397241950035095,0.2139611542224884,0.21394968032836914,0.21393778920173645,0.21392543613910675,0.21391265094280243,0.21389956772327423,0.21388570964336395,0.2138717621564865,0.21385736763477325,0.21384260058403015,0.21382752060890198,0.21381226181983948,0.21379666030406952,0.21378111839294434,0.21376526355743408,0.21374937891960144,0.2137334793806076,0.21371746063232422,0.21370168030261993,0.21368567645549774,0.21366986632347107,0.21365384757518768,0.21363826096057892,0.21362252533435822,0.21360692381858826,0.21359145641326904,0.21357591450214386,0.21356049180030823,0.2135452777147293,0.2135298252105713,0.21351464092731476,0.21349942684173584,0.2134842574596405,0.2134692221879959,0.21345405280590057,0.21343901753425598,0.21342387795448303,0.21340885758399963,0.21339377760887146,0.21337859332561493,0.2133636474609375,0.2133484184741974,0.21333327889442444,0.2133181095123291,0.21330292522907257,0.2132876217365265,0.21327237784862518,0.21325714886188507,0.2132418155670166,0.21322651207447052,0.21321110427379608,0.21319563686847687,0.21318025887012482,0.21316468715667725,0.21314923465251923,0.21313360333442688,0.21311822533607483,0.2131025493144989,0.21308699250221252,0.2130713015794754,0.21305561065673828,0.21303991973400116,0.21302422881126404,0.21300849318504333,0.21299271285533905,0.21297697722911835,0.21296100318431854,0.21294522285461426,0.21292944252490997,0.21291348338127136,0.2128976583480835,0.21288156509399414,0.21286562085151672,0.2128496915102005,0.21283367276191711,0.2128177136182785,0.21280157566070557,0.21278543770313263,0.21276946365833282,0.2127532660961151,0.21273717284202576,0.21272096037864685,0.21270474791526794,0.2126886546611786,0.21267230808734894,0.21265606582164764,0.21263977885246277,0.2126234471797943,0.21260705590248108,0.2125907838344574,0.21257448196411133,0.21255798637866974,0.2125416249036789,0.21252509951591492,0.2125086784362793,0.21249213814735413,0.2124757021665573,0.21245920658111572,0.21244248747825623,0.21242590248584747,0.2124093472957611,0.2123926430940628,0.21237611770629883,0.21235942840576172,0.2123427391052246,0.2123260796070099,0.21230927109718323,0.21229247748851776,0.21227578818798065,0.21225886046886444,0.21224217116832733,0.2122252732515335,0.21220842003822327,0.21219146251678467,0.21217462420463562,0.21215768158435822,0.21214088797569275,0.2121238261461258,0.2121068686246872,0.21208985149860382,0.21207275986671448,0.21205583214759827,0.21203866600990295,0.2120216190814972,0.21200446784496307,0.21198733150959015,0.21197018027305603,0.21195301413536072,0.2119358479976654,0.21191856265068054,0.21190135180950165,0.2118842601776123,0.2118668556213379,0.21184960007667542,0.21183228492736816,0.21181492507457733,0.2117975950241089,0.21178030967712402,0.21176286041736603,0.2117454558610916,0.2117280513048172,0.21171052753925323,0.21169313788414001,0.2116757333278656,0.21165809035301208,0.2116405963897705,0.21162310242652893,0.21160554885864258,0.21158790588378906,0.2115703523159027,0.21155276894569397,0.21153512597084045,0.21151748299598694,0.21149985492229462,0.21148209273815155,0.21146436035633087,0.21144671738147736,0.2114289253950119,0.21141114830970764,0.21139338612556458,0.21137556433677673,0.21135783195495605,0.21133998036384583,0.21132203936576843,0.21130414307117462,0.21128630638122559,0.21126845479011536,0.21125051379203796,0.21123257279396057,0.21121451258659363,0.21119654178619385,0.21117863059043884,0.2111605703830719,0.21114256978034973,0.2111244946718216,0.2111063450574875,0.2110883891582489,0.211070254445076,0.21105210483074188,0.2110339105129242,0.21101593971252441,0.21099765598773956,0.21097955107688904,0.21096117794513702,0.21094302833080292,0.21092483401298523,0.21090653538703918,0.21088819205760956,0.2108699083328247,0.21085162460803986,0.2108333557844162,0.21081490814685822,0.21079662442207336,0.21077828109264374,0.21075978875160217,0.21074147522449493,0.21072301268577576,0.2107044756412506,0.21068616211414337,0.21066756546497345,0.21064898371696472,0.21063053607940674,0.21061208844184875,0.21059350669384003,0.2105749100446701,0.21055622398853302,0.2105376273393631,0.21051904559135437,0.21050040423870087,0.2104816883802414,0.21046295762062073,0.21044430136680603,0.21042566001415253,0.21040686964988708,0.21038833260536194,0.2103693187236786,0.2103506326675415,0.2103317677974701,0.21031299233436584,0.21029408276081085,0.21027538180351257,0.21025648713111877,0.2102375477552414,0.2102186232805252,0.2101997435092926,0.21018075942993164,0.21016177535057068,0.2101428061723709,0.21012386679649353,0.21010485291481018,0.21008577942848206,0.2100667655467987,0.21004772186279297,0.210028737783432,0.21000957489013672,0.20999041199684143,0.20997123420238495,0.2099522054195404,0.20993304252624512,0.20991376042366028,0.20989462733268738,0.20987530052661896,0.20985619723796844,0.20983688533306122,0.20981769263744354,0.20979830622673035,0.2097790688276291,0.2097596675157547,0.20974032580852509,0.20972108840942383,0.20970158278942108,0.20968227088451385,0.20966282486915588,0.20964336395263672,0.20962409675121307,0.2096043825149536,0.20958499610424042,0.2095654010772705,0.20954594016075134,0.20952634513378143,0.20950686931610107,0.20948736369609833,0.20946769416332245,0.20944812893867493,0.20942851901054382,0.20940890908241272,0.2093891203403473,0.2093695104122162,0.20934978127479553,0.20933008193969727,0.2093103677034378,0.20929045975208282,0.20927083492279053,0.20925107598304749,0.2092311829328537,0.20921139419078827,0.20919151604175568,0.2091715782880783,0.20915170013904572,0.2091318666934967,0.20911197364330292,0.2090919017791748,0.20907199382781982,0.20905204117298126,0.2090320885181427,0.20901206135749817,0.20899195969104767,0.20897193253040314,0.20895199477672577,0.2089318484067917,0.2089117020368576,0.20889167487621307,0.20887145400047302,0.20885124802589417,0.20883116126060486,0.20881089568138123,0.20879068970680237,0.20877042412757874,0.2087501585483551,0.20872990787029266,0.20870967209339142,0.20868930220603943,0.2086690366268158,0.20864872634410858,0.2086283415555954,0.20860779285430908,0.20858745276927948,0.20856709778308868,0.20854659378528595,0.20852620899677277,0.20850558578968048,0.20848512649536133,0.20846466720104218,0.20844416320323944,0.20842352509498596,0.20840302109718323,0.20838245749473572,0.2083619087934494,0.20834121108055115,0.20832066237926483,0.20830002427101135,0.20827922224998474,0.20825858414173126,0.2082379311323166,0.2082170993089676,0.20819635689258575,0.2081756591796875],\"yaxis\":\"y\",\"type\":\"scatter\"},{\"hovertemplate\":\"variable=val_loss<br>index=%{x}<br>value=%{y}<extra></extra>\",\"legendgroup\":\"val_loss\",\"line\":{\"color\":\"#EF553B\",\"dash\":\"solid\"},\"marker\":{\"symbol\":\"circle\"},\"mode\":\"lines\",\"name\":\"val_loss\",\"orientation\":\"v\",\"showlegend\":true,\"x\":[0,1,2,3,4,5,6,7,8,9,10,11,12,13,14,15,16,17,18,19,20,21,22,23,24,25,26,27,28,29,30,31,32,33,34,35,36,37,38,39,40,41,42,43,44,45,46,47,48,49,50,51,52,53,54,55,56,57,58,59,60,61,62,63,64,65,66,67,68,69,70,71,72,73,74,75,76,77,78,79,80,81,82,83,84,85,86,87,88,89,90,91,92,93,94,95,96,97,98,99,100,101,102,103,104,105,106,107,108,109,110,111,112,113,114,115,116,117,118,119,120,121,122,123,124,125,126,127,128,129,130,131,132,133,134,135,136,137,138,139,140,141,142,143,144,145,146,147,148,149,150,151,152,153,154,155,156,157,158,159,160,161,162,163,164,165,166,167,168,169,170,171,172,173,174,175,176,177,178,179,180,181,182,183,184,185,186,187,188,189,190,191,192,193,194,195,196,197,198,199,200,201,202,203,204,205,206,207,208,209,210,211,212,213,214,215,216,217,218,219,220,221,222,223,224,225,226,227,228,229,230,231,232,233,234,235,236,237,238,239,240,241,242,243,244,245,246,247,248,249,250,251,252,253,254,255,256,257,258,259,260,261,262,263,264,265,266,267,268,269,270,271,272,273,274,275,276,277,278,279,280,281,282,283,284,285,286,287,288,289,290,291,292,293,294,295,296,297,298,299,300,301,302,303,304,305,306,307,308,309,310,311,312,313,314,315,316,317,318,319,320,321,322,323,324,325,326,327,328,329,330,331,332,333,334,335,336,337,338,339,340,341,342,343,344,345,346,347,348,349,350,351,352,353,354,355,356,357,358,359,360,361,362,363,364,365,366,367,368,369,370,371,372,373,374,375,376,377,378,379,380,381,382,383,384,385,386,387,388,389,390,391,392,393,394,395,396,397,398,399,400,401,402,403,404,405,406,407,408,409,410,411,412,413,414,415,416,417,418,419,420,421,422,423,424,425,426,427,428,429,430,431,432,433,434,435,436,437,438,439,440,441,442,443,444,445,446,447,448,449,450,451,452,453,454,455,456,457,458,459,460,461,462,463,464,465,466,467,468,469,470,471,472,473,474,475,476,477,478,479,480,481,482,483,484,485,486,487,488,489,490,491,492,493,494,495,496,497,498,499],\"xaxis\":\"x\",\"y\":[24.024383544921875,23.443239212036133,22.875680923461914,22.321727752685547,21.781206130981445,21.25380516052246,20.73918914794922,20.237003326416016,19.746862411499023,19.268342971801758,18.801002502441406,18.344369888305664,17.8979549407959,17.46126937866211,17.033811569213867,16.615102767944336,16.204681396484375,15.802105903625488,15.406967163085938,15.018872261047363,14.637466430664062,14.262408256530762,13.893386840820312,13.530108451843262,13.1723051071167,12.819722175598145,12.472124099731445,12.129289627075195,11.791013717651367,11.457098007202148,11.127362251281738,10.80163288116455,10.479748725891113,10.161563873291016,9.846940040588379,9.535758018493652,9.227912902832031,8.923323631286621,8.62193489074707,8.323724746704102,8.028706550598145,7.736947536468506,7.448554992675781,7.163690090179443,6.882559299468994,6.605401039123535,6.332479000091553,6.06406307220459,5.800413608551025,5.541762351989746,5.288301944732666,5.040177345275879,4.797483921051025,4.560271739959717,4.328560829162598,4.102356433868408,3.8816604614257812,3.6664977073669434,3.4569153785705566,3.252995729446411,3.0548503398895264,2.8626151084899902,2.676443576812744,2.4964892864227295,2.322904109954834,2.155825138092041,1.995370864868164,1.8416364192962646,1.6946942806243896,1.5545949935913086,1.4213684797286987,1.2950286865234375,1.1755759716033936,1.0629990100860596,0.9572749137878418,0.8583752512931824,0.766261100769043,0.6808845400810242,0.6021865606307983,0.5300964117050171,0.46452778577804565,0.40537890791893005,0.35252845287323,0.30583420395851135,0.26513200998306274,0.2302338182926178,0.20092768967151642,0.17697730660438538,0.1581231653690338,0.1440839320421219,0.13455843925476074,0.12922871112823486,0.12776324152946472,0.12982122600078583,0.13505545258522034,0.14311747252941132,0.15366052091121674,0.166344553232193,0.18083827197551727,0.1968238651752472,0.21399736404418945,0.2320733517408371,0.2507847249507904,0.26988333463668823,0.289143830537796,0.3083612620830536,0.3273508846759796,0.3459506630897522,0.36401844024658203,0.38143178820610046,0.3980880379676819,0.41390109062194824,0.4288043975830078,0.44274601340293884,0.4556889533996582,0.46760958433151245,0.47849807143211365,0.4883529543876648,0.4971856474876404,0.5050159692764282,0.5118693113327026,0.5177800059318542,0.522786021232605,0.5269309282302856,0.5302618741989136,0.5328269004821777,0.5346773266792297,0.5358661413192749,0.5364450216293335,0.5364676117897034,0.5359840393066406,0.5350466966629028,0.5337035655975342,0.5320031046867371,0.5299903154373169,0.5277085304260254,0.5251988172531128,0.5224989652633667,0.5196454524993896,0.5166712403297424,0.5136075019836426,0.5104827880859375,0.5073217749595642,0.5041489601135254,0.500984787940979,0.49784812331199646,0.4947558343410492,0.4917224943637848,0.48876112699508667,0.48588237166404724,0.4830964505672455,0.4804103374481201,0.47783058881759644,0.47536253929138184,0.4730098843574524,0.4707759916782379,0.4686625599861145,0.4666697084903717,0.4647979736328125,0.4630468785762787,0.4614153504371643,0.45990052819252014,0.4585011899471283,0.4572141170501709,0.45603567361831665,0.45496314764022827,0.45399123430252075,0.4531174302101135,0.45233696699142456,0.4516445994377136,0.4510376453399658,0.45051008462905884,0.4500578045845032,0.44967585802078247,0.4493602216243744,0.4491063058376312,0.44890886545181274,0.4487639367580414,0.4486677646636963,0.4486144483089447,0.4486019015312195,0.44862493872642517,0.44867977499961853,0.4487627148628235,0.44887083768844604,0.4490002691745758,0.4491485059261322,0.4493115544319153,0.4494875371456146,0.4496726095676422,0.44986575841903687,0.4500636160373688,0.45026445388793945,0.4504668712615967,0.4506681561470032,0.4508669972419739,0.4510624408721924,0.4512525498867035,0.45143651962280273,0.45161372423171997,0.45178237557411194,0.4519428312778473,0.4520936608314514,0.45223468542099,0.45236635208129883,0.4524868428707123,0.45259690284729004,0.4526960849761963,0.45278486609458923,0.4528633654117584,0.45293092727661133,0.4529879689216614,0.45303621888160706,0.45307403802871704,0.4531024098396301,0.45312175154685974,0.4531327784061432,0.4531354010105133,0.453130304813385,0.45311832427978516,0.45309871435165405,0.45307397842407227,0.45304208993911743,0.4530053734779358,0.4529641568660736,0.45291757583618164,0.45286720991134644,0.4528132379055023,0.45275601744651794,0.4526965022087097,0.4526342749595642,0.4525696635246277,0.45250362157821655,0.45243558287620544,0.4523671269416809,0.4522972106933594,0.45222726464271545,0.45215678215026855,0.45208626985549927,0.45201587677001953,0.45194584131240845,0.451876163482666,0.4518067240715027,0.45173829793930054,0.45167064666748047,0.4516039788722992,0.4515385031700134,0.4514736235141754,0.4514097273349762,0.4513470232486725,0.4512854516506195,0.4512251913547516,0.4511662423610687,0.4511079788208008,0.4510507583618164,0.45099449157714844,0.4509401321411133,0.4508857727050781,0.45083266496658325,0.4507807791233063,0.4507296085357666,0.4506794512271881,0.45062947273254395,0.45058029890060425,0.45053237676620483,0.4504842758178711,0.4504374563694,0.4503907263278961,0.45034462213516235,0.4502984583377838,0.45025283098220825,0.4502074122428894,0.4501626491546631,0.45011743903160095,0.4500727653503418,0.4500277638435364,0.4499831795692444,0.4499383568763733,0.44989389181137085,0.44984903931617737,0.44980448484420776,0.4497593939304352,0.4497148096561432,0.4496692717075348,0.4496242105960846,0.44957923889160156,0.4495334029197693,0.4494878649711609,0.4494418203830719,0.44939595460891724,0.4493491053581238,0.44930320978164673,0.4492567181587219,0.4492092728614807,0.4491625428199768,0.4491147994995117,0.4490676820278168,0.44902005791664124,0.4489717483520508,0.4489240050315857,0.448875367641449,0.44882717728614807,0.4487788677215576,0.4487297534942627,0.44868096709251404,0.4486319422721863,0.44858279824256897,0.44853344559669495,0.44848400354385376,0.4484345018863678,0.44838494062423706,0.4483349323272705,0.4482855200767517,0.448235422372818,0.4481852650642395,0.44813528656959534,0.4480854570865631,0.4480348527431488,0.4479847848415375,0.44793468713760376,0.4478841722011566,0.4478340744972229,0.44778361916542053,0.44773322343826294,0.4476824700832367,0.4476320743560791,0.4475816786289215,0.44753098487854004,0.44748005270957947,0.4474298357963562,0.4473790228366852,0.4473281800746918,0.44727760553359985,0.4472268223762512,0.447176069021225,0.4471249580383301,0.44707411527633667,0.4470234811306,0.4469727575778961,0.44692182540893555,0.4468703269958496,0.44681960344314575,0.4467686116695404,0.44671759009361267,0.4466664791107178,0.4466148018836975,0.44656357169151306,0.4465126097202301,0.44646137952804565,0.4464101791381836,0.446358859539032,0.4463069438934326,0.4462555944919586,0.4462042450904846,0.44615262746810913,0.4461011290550232,0.4460497796535492,0.4459978938102722,0.44594627618789673,0.44589391350746155,0.4458422064781189,0.4457903504371643,0.44573861360549927,0.4456869065761566,0.44563475251197815,0.44558268785476685,0.4455307126045227,0.4454785883426666,0.4454263150691986,0.44537416100502014,0.44532161951065063,0.4452695846557617,0.44521722197532654,0.44516438245773315,0.4451116621494293,0.44505900144577026,0.44500645995140076,0.4449537396430969,0.4449009895324707,0.44484835863113403,0.4447954297065735,0.44474250078201294,0.4446895718574524,0.4446364939212799,0.4445834755897522,0.44453057646751404,0.4444770812988281,0.44442448019981384,0.44437137246131897,0.4443180561065674,0.4442649781703949,0.4442114233970642,0.44415783882141113,0.4441041946411133,0.44405072927474976,0.4439971446990967,0.44394320249557495,0.4438897669315338,0.4438358247280121,0.44378191232681274,0.44372814893722534,0.44367486238479614,0.4436206817626953,0.4435669481754303,0.4435129165649414,0.4434587061405182,0.4434046149253845,0.44335031509399414,0.4432966113090515,0.443242609500885,0.44318804144859314,0.4431335926055908,0.4430791735649109,0.44302472472190857,0.4429705739021301,0.4429159164428711,0.44286125898361206,0.4428064227104187,0.4427517354488373,0.4426971971988678,0.44264277815818787,0.4425874650478363,0.4425325393676758,0.44247764348983765,0.4424231946468353,0.4423680305480957,0.4423128068447113,0.4422575831413269,0.44220295548439026,0.44214779138565063,0.44209232926368713,0.442037433385849,0.4419820308685303,0.4419265687465668,0.44187086820602417,0.4418157935142517,0.4417603015899658,0.44170457124710083,0.4416491389274597,0.44159334897994995,0.44153738021850586,0.4414820671081543,0.4414258599281311,0.44137054681777954,0.4413144588470459,0.4412582516670227,0.44120272994041443,0.44114646315574646,0.4410901665687561,0.4410342574119568,0.44097763299942017,0.4409218728542328,0.4408654272556305,0.44080910086631775,0.4407528042793274,0.44069600105285645,0.4406398832798004,0.4405832290649414,0.4405268132686615,0.4404699206352234,0.4404136538505554,0.44035688042640686,0.440300315618515,0.4402431547641754,0.4401867389678955,0.44012966752052307,0.4400728642940521,0.440015971660614,0.4399589002132416,0.43990153074264526,0.43984484672546387,0.4397875666618347,0.4397307336330414,0.4396732747554779,0.43961596488952637,0.4395589828491211,0.4395013749599457,0.4394441545009613,0.4393866956233978,0.4393293857574463,0.43927207589149475,0.43921416997909546,0.4391568601131439,0.43909960985183716,0.43904176354408264,0.438984215259552,0.4389270842075348,0.43886899948120117,0.4388113021850586,0.4387536644935608,0.43869566917419434,0.4386378824710846,0.43858033418655396,0.4385220408439636,0.4384642541408539,0.43840664625167847,0.43834906816482544,0.4382905960083008,0.43823274970054626,0.43817466497421265],\"yaxis\":\"y\",\"type\":\"scatter\"}],                        {\"template\":{\"data\":{\"bar\":[{\"error_x\":{\"color\":\"#2a3f5f\"},\"error_y\":{\"color\":\"#2a3f5f\"},\"marker\":{\"line\":{\"color\":\"#E5ECF6\",\"width\":0.5},\"pattern\":{\"fillmode\":\"overlay\",\"size\":10,\"solidity\":0.2}},\"type\":\"bar\"}],\"barpolar\":[{\"marker\":{\"line\":{\"color\":\"#E5ECF6\",\"width\":0.5},\"pattern\":{\"fillmode\":\"overlay\",\"size\":10,\"solidity\":0.2}},\"type\":\"barpolar\"}],\"carpet\":[{\"aaxis\":{\"endlinecolor\":\"#2a3f5f\",\"gridcolor\":\"white\",\"linecolor\":\"white\",\"minorgridcolor\":\"white\",\"startlinecolor\":\"#2a3f5f\"},\"baxis\":{\"endlinecolor\":\"#2a3f5f\",\"gridcolor\":\"white\",\"linecolor\":\"white\",\"minorgridcolor\":\"white\",\"startlinecolor\":\"#2a3f5f\"},\"type\":\"carpet\"}],\"choropleth\":[{\"colorbar\":{\"outlinewidth\":0,\"ticks\":\"\"},\"type\":\"choropleth\"}],\"contour\":[{\"colorbar\":{\"outlinewidth\":0,\"ticks\":\"\"},\"colorscale\":[[0.0,\"#0d0887\"],[0.1111111111111111,\"#46039f\"],[0.2222222222222222,\"#7201a8\"],[0.3333333333333333,\"#9c179e\"],[0.4444444444444444,\"#bd3786\"],[0.5555555555555556,\"#d8576b\"],[0.6666666666666666,\"#ed7953\"],[0.7777777777777778,\"#fb9f3a\"],[0.8888888888888888,\"#fdca26\"],[1.0,\"#f0f921\"]],\"type\":\"contour\"}],\"contourcarpet\":[{\"colorbar\":{\"outlinewidth\":0,\"ticks\":\"\"},\"type\":\"contourcarpet\"}],\"heatmap\":[{\"colorbar\":{\"outlinewidth\":0,\"ticks\":\"\"},\"colorscale\":[[0.0,\"#0d0887\"],[0.1111111111111111,\"#46039f\"],[0.2222222222222222,\"#7201a8\"],[0.3333333333333333,\"#9c179e\"],[0.4444444444444444,\"#bd3786\"],[0.5555555555555556,\"#d8576b\"],[0.6666666666666666,\"#ed7953\"],[0.7777777777777778,\"#fb9f3a\"],[0.8888888888888888,\"#fdca26\"],[1.0,\"#f0f921\"]],\"type\":\"heatmap\"}],\"heatmapgl\":[{\"colorbar\":{\"outlinewidth\":0,\"ticks\":\"\"},\"colorscale\":[[0.0,\"#0d0887\"],[0.1111111111111111,\"#46039f\"],[0.2222222222222222,\"#7201a8\"],[0.3333333333333333,\"#9c179e\"],[0.4444444444444444,\"#bd3786\"],[0.5555555555555556,\"#d8576b\"],[0.6666666666666666,\"#ed7953\"],[0.7777777777777778,\"#fb9f3a\"],[0.8888888888888888,\"#fdca26\"],[1.0,\"#f0f921\"]],\"type\":\"heatmapgl\"}],\"histogram\":[{\"marker\":{\"pattern\":{\"fillmode\":\"overlay\",\"size\":10,\"solidity\":0.2}},\"type\":\"histogram\"}],\"histogram2d\":[{\"colorbar\":{\"outlinewidth\":0,\"ticks\":\"\"},\"colorscale\":[[0.0,\"#0d0887\"],[0.1111111111111111,\"#46039f\"],[0.2222222222222222,\"#7201a8\"],[0.3333333333333333,\"#9c179e\"],[0.4444444444444444,\"#bd3786\"],[0.5555555555555556,\"#d8576b\"],[0.6666666666666666,\"#ed7953\"],[0.7777777777777778,\"#fb9f3a\"],[0.8888888888888888,\"#fdca26\"],[1.0,\"#f0f921\"]],\"type\":\"histogram2d\"}],\"histogram2dcontour\":[{\"colorbar\":{\"outlinewidth\":0,\"ticks\":\"\"},\"colorscale\":[[0.0,\"#0d0887\"],[0.1111111111111111,\"#46039f\"],[0.2222222222222222,\"#7201a8\"],[0.3333333333333333,\"#9c179e\"],[0.4444444444444444,\"#bd3786\"],[0.5555555555555556,\"#d8576b\"],[0.6666666666666666,\"#ed7953\"],[0.7777777777777778,\"#fb9f3a\"],[0.8888888888888888,\"#fdca26\"],[1.0,\"#f0f921\"]],\"type\":\"histogram2dcontour\"}],\"mesh3d\":[{\"colorbar\":{\"outlinewidth\":0,\"ticks\":\"\"},\"type\":\"mesh3d\"}],\"parcoords\":[{\"line\":{\"colorbar\":{\"outlinewidth\":0,\"ticks\":\"\"}},\"type\":\"parcoords\"}],\"pie\":[{\"automargin\":true,\"type\":\"pie\"}],\"scatter\":[{\"marker\":{\"colorbar\":{\"outlinewidth\":0,\"ticks\":\"\"}},\"type\":\"scatter\"}],\"scatter3d\":[{\"line\":{\"colorbar\":{\"outlinewidth\":0,\"ticks\":\"\"}},\"marker\":{\"colorbar\":{\"outlinewidth\":0,\"ticks\":\"\"}},\"type\":\"scatter3d\"}],\"scattercarpet\":[{\"marker\":{\"colorbar\":{\"outlinewidth\":0,\"ticks\":\"\"}},\"type\":\"scattercarpet\"}],\"scattergeo\":[{\"marker\":{\"colorbar\":{\"outlinewidth\":0,\"ticks\":\"\"}},\"type\":\"scattergeo\"}],\"scattergl\":[{\"marker\":{\"colorbar\":{\"outlinewidth\":0,\"ticks\":\"\"}},\"type\":\"scattergl\"}],\"scattermapbox\":[{\"marker\":{\"colorbar\":{\"outlinewidth\":0,\"ticks\":\"\"}},\"type\":\"scattermapbox\"}],\"scatterpolar\":[{\"marker\":{\"colorbar\":{\"outlinewidth\":0,\"ticks\":\"\"}},\"type\":\"scatterpolar\"}],\"scatterpolargl\":[{\"marker\":{\"colorbar\":{\"outlinewidth\":0,\"ticks\":\"\"}},\"type\":\"scatterpolargl\"}],\"scatterternary\":[{\"marker\":{\"colorbar\":{\"outlinewidth\":0,\"ticks\":\"\"}},\"type\":\"scatterternary\"}],\"surface\":[{\"colorbar\":{\"outlinewidth\":0,\"ticks\":\"\"},\"colorscale\":[[0.0,\"#0d0887\"],[0.1111111111111111,\"#46039f\"],[0.2222222222222222,\"#7201a8\"],[0.3333333333333333,\"#9c179e\"],[0.4444444444444444,\"#bd3786\"],[0.5555555555555556,\"#d8576b\"],[0.6666666666666666,\"#ed7953\"],[0.7777777777777778,\"#fb9f3a\"],[0.8888888888888888,\"#fdca26\"],[1.0,\"#f0f921\"]],\"type\":\"surface\"}],\"table\":[{\"cells\":{\"fill\":{\"color\":\"#EBF0F8\"},\"line\":{\"color\":\"white\"}},\"header\":{\"fill\":{\"color\":\"#C8D4E3\"},\"line\":{\"color\":\"white\"}},\"type\":\"table\"}]},\"layout\":{\"annotationdefaults\":{\"arrowcolor\":\"#2a3f5f\",\"arrowhead\":0,\"arrowwidth\":1},\"autotypenumbers\":\"strict\",\"coloraxis\":{\"colorbar\":{\"outlinewidth\":0,\"ticks\":\"\"}},\"colorscale\":{\"diverging\":[[0,\"#8e0152\"],[0.1,\"#c51b7d\"],[0.2,\"#de77ae\"],[0.3,\"#f1b6da\"],[0.4,\"#fde0ef\"],[0.5,\"#f7f7f7\"],[0.6,\"#e6f5d0\"],[0.7,\"#b8e186\"],[0.8,\"#7fbc41\"],[0.9,\"#4d9221\"],[1,\"#276419\"]],\"sequential\":[[0.0,\"#0d0887\"],[0.1111111111111111,\"#46039f\"],[0.2222222222222222,\"#7201a8\"],[0.3333333333333333,\"#9c179e\"],[0.4444444444444444,\"#bd3786\"],[0.5555555555555556,\"#d8576b\"],[0.6666666666666666,\"#ed7953\"],[0.7777777777777778,\"#fb9f3a\"],[0.8888888888888888,\"#fdca26\"],[1.0,\"#f0f921\"]],\"sequentialminus\":[[0.0,\"#0d0887\"],[0.1111111111111111,\"#46039f\"],[0.2222222222222222,\"#7201a8\"],[0.3333333333333333,\"#9c179e\"],[0.4444444444444444,\"#bd3786\"],[0.5555555555555556,\"#d8576b\"],[0.6666666666666666,\"#ed7953\"],[0.7777777777777778,\"#fb9f3a\"],[0.8888888888888888,\"#fdca26\"],[1.0,\"#f0f921\"]]},\"colorway\":[\"#636efa\",\"#EF553B\",\"#00cc96\",\"#ab63fa\",\"#FFA15A\",\"#19d3f3\",\"#FF6692\",\"#B6E880\",\"#FF97FF\",\"#FECB52\"],\"font\":{\"color\":\"#2a3f5f\"},\"geo\":{\"bgcolor\":\"white\",\"lakecolor\":\"white\",\"landcolor\":\"#E5ECF6\",\"showlakes\":true,\"showland\":true,\"subunitcolor\":\"white\"},\"hoverlabel\":{\"align\":\"left\"},\"hovermode\":\"closest\",\"mapbox\":{\"style\":\"light\"},\"paper_bgcolor\":\"white\",\"plot_bgcolor\":\"#E5ECF6\",\"polar\":{\"angularaxis\":{\"gridcolor\":\"white\",\"linecolor\":\"white\",\"ticks\":\"\"},\"bgcolor\":\"#E5ECF6\",\"radialaxis\":{\"gridcolor\":\"white\",\"linecolor\":\"white\",\"ticks\":\"\"}},\"scene\":{\"xaxis\":{\"backgroundcolor\":\"#E5ECF6\",\"gridcolor\":\"white\",\"gridwidth\":2,\"linecolor\":\"white\",\"showbackground\":true,\"ticks\":\"\",\"zerolinecolor\":\"white\"},\"yaxis\":{\"backgroundcolor\":\"#E5ECF6\",\"gridcolor\":\"white\",\"gridwidth\":2,\"linecolor\":\"white\",\"showbackground\":true,\"ticks\":\"\",\"zerolinecolor\":\"white\"},\"zaxis\":{\"backgroundcolor\":\"#E5ECF6\",\"gridcolor\":\"white\",\"gridwidth\":2,\"linecolor\":\"white\",\"showbackground\":true,\"ticks\":\"\",\"zerolinecolor\":\"white\"}},\"shapedefaults\":{\"line\":{\"color\":\"#2a3f5f\"}},\"ternary\":{\"aaxis\":{\"gridcolor\":\"white\",\"linecolor\":\"white\",\"ticks\":\"\"},\"baxis\":{\"gridcolor\":\"white\",\"linecolor\":\"white\",\"ticks\":\"\"},\"bgcolor\":\"#E5ECF6\",\"caxis\":{\"gridcolor\":\"white\",\"linecolor\":\"white\",\"ticks\":\"\"}},\"title\":{\"x\":0.05},\"xaxis\":{\"automargin\":true,\"gridcolor\":\"white\",\"linecolor\":\"white\",\"ticks\":\"\",\"title\":{\"standoff\":15},\"zerolinecolor\":\"white\",\"zerolinewidth\":2},\"yaxis\":{\"automargin\":true,\"gridcolor\":\"white\",\"linecolor\":\"white\",\"ticks\":\"\",\"title\":{\"standoff\":15},\"zerolinecolor\":\"white\",\"zerolinewidth\":2}}},\"xaxis\":{\"anchor\":\"y\",\"domain\":[0.0,1.0],\"title\":{\"text\":\"index\"}},\"yaxis\":{\"anchor\":\"x\",\"domain\":[0.0,1.0],\"title\":{\"text\":\"value\"}},\"legend\":{\"title\":{\"text\":\"variable\"},\"tracegroupgap\":0},\"margin\":{\"t\":60}},                        {\"responsive\": true}                    ).then(function(){\n                            \nvar gd = document.getElementById('9d300222-039f-4438-b13d-17c275d16de2');\nvar x = new MutationObserver(function (mutations, observer) {{\n        var display = window.getComputedStyle(gd).display;\n        if (!display || display === 'none') {{\n            console.log([gd, 'removed!']);\n            Plotly.purge(gd);\n            observer.disconnect();\n        }}\n}});\n\n// Listen for the removal of the full notebook cells\nvar notebookContainer = gd.closest('#notebook-container');\nif (notebookContainer) {{\n    x.observe(notebookContainer, {childList: true});\n}}\n\n// Listen for the clearing of the current output cell\nvar outputEl = gd.closest('.output');\nif (outputEl) {{\n    x.observe(outputEl, {childList: true});\n}}\n\n                        })                };                });            </script>        </div>"
     },
     "metadata": {},
     "output_type": "display_data"
    }
   ],
   "source": [
    "epochs_lstm_df = pd.DataFrame(train_history_ltsm.history)\n",
    "display(epochs_lstm_df)\n",
    "fig = px.line(epochs_lstm_df)\n",
    "fig.show()"
   ],
   "metadata": {
    "collapsed": false,
    "pycharm": {
     "name": "#%%\n"
    }
   }
  },
  {
   "cell_type": "code",
   "execution_count": 282,
   "outputs": [
    {
     "data": {
      "application/vnd.plotly.v1+json": {
       "data": [
        {
         "hovertemplate": "x=%{x}<br>y=%{y}<extra></extra>",
         "legendgroup": "",
         "line": {
          "color": "#636efa",
          "dash": "solid"
         },
         "marker": {
          "symbol": "circle"
         },
         "mode": "lines",
         "name": "",
         "orientation": "v",
         "showlegend": false,
         "x": [
          "2007-07-31T00:00:00",
          "2007-08-31T00:00:00",
          "2007-09-30T00:00:00",
          "2007-10-31T00:00:00",
          "2007-11-30T00:00:00",
          "2007-12-31T00:00:00",
          "2008-01-31T00:00:00",
          "2008-02-29T00:00:00",
          "2008-03-31T00:00:00",
          "2008-04-30T00:00:00",
          "2008-05-31T00:00:00",
          "2008-06-30T00:00:00",
          "2008-07-31T00:00:00",
          "2008-08-31T00:00:00",
          "2008-09-30T00:00:00",
          "2008-10-31T00:00:00",
          "2008-11-30T00:00:00",
          "2008-12-31T00:00:00",
          "2009-01-31T00:00:00",
          "2009-02-28T00:00:00",
          "2009-03-31T00:00:00",
          "2009-04-30T00:00:00",
          "2009-05-31T00:00:00",
          "2009-06-30T00:00:00",
          "2009-07-31T00:00:00",
          "2009-08-31T00:00:00",
          "2009-09-30T00:00:00",
          "2009-10-31T00:00:00",
          "2009-11-30T00:00:00",
          "2009-12-31T00:00:00",
          "2010-01-31T00:00:00",
          "2010-02-28T00:00:00",
          "2010-03-31T00:00:00",
          "2010-04-30T00:00:00",
          "2010-05-31T00:00:00",
          "2010-06-30T00:00:00",
          "2010-07-31T00:00:00",
          "2010-08-31T00:00:00",
          "2010-09-30T00:00:00",
          "2010-10-31T00:00:00",
          "2010-11-30T00:00:00",
          "2010-12-31T00:00:00"
         ],
         "xaxis": "x",
         "y": [
          4.671220000000001,
          4.6892200000000015,
          5.0440600000000115,
          5.346,
          5.506060000000012,
          5.849220000000001,
          5.328,
          4.54,
          4.847220000000001,
          4.750060000000012,
          4.972440000000002,
          4.79,
          4.2,
          4.3996600000000035,
          4.588020000000004,
          4.9872200000000015,
          5.182,
          5.043220000000001,
          5.524,
          4.462,
          4.566,
          4.420040000000008,
          4.191220000000001,
          3.756020000000004,
          4.1,
          4.418,
          4.234,
          4.827220000000001,
          5.444,
          5.090440000000002,
          4.874060000000012,
          4.8408399999999965,
          4.514060000000012,
          4.0128199999999925,
          4.116020000000003,
          4.032819999999992,
          3.41,
          3.9700400000000085,
          3.8792799999999694,
          4.704020000000003,
          4.432,
          3.882
         ],
         "yaxis": "y",
         "type": "scatter"
        },
        {
         "mode": "lines",
         "name": "Simple LTSM",
         "x": [
          "2010-03-31T00:00:00",
          "2010-04-30T00:00:00",
          "2010-05-31T00:00:00",
          "2010-06-30T00:00:00",
          "2010-07-31T00:00:00",
          "2010-08-31T00:00:00",
          "2010-09-30T00:00:00",
          "2010-10-31T00:00:00",
          "2010-11-30T00:00:00",
          "2010-12-31T00:00:00"
         ],
         "y": [
          4.06679105758667,
          4.076516151428223,
          4.09544563293457,
          4.100766181945801,
          4.106995105743408,
          4.125688552856445,
          4.119132995605469,
          4.118819236755371,
          4.0963134765625,
          4.0959696769714355
         ],
         "type": "scatter"
        }
       ],
       "layout": {
        "template": {
         "data": {
          "bar": [
           {
            "error_x": {
             "color": "#2a3f5f"
            },
            "error_y": {
             "color": "#2a3f5f"
            },
            "marker": {
             "line": {
              "color": "#E5ECF6",
              "width": 0.5
             },
             "pattern": {
              "fillmode": "overlay",
              "size": 10,
              "solidity": 0.2
             }
            },
            "type": "bar"
           }
          ],
          "barpolar": [
           {
            "marker": {
             "line": {
              "color": "#E5ECF6",
              "width": 0.5
             },
             "pattern": {
              "fillmode": "overlay",
              "size": 10,
              "solidity": 0.2
             }
            },
            "type": "barpolar"
           }
          ],
          "carpet": [
           {
            "aaxis": {
             "endlinecolor": "#2a3f5f",
             "gridcolor": "white",
             "linecolor": "white",
             "minorgridcolor": "white",
             "startlinecolor": "#2a3f5f"
            },
            "baxis": {
             "endlinecolor": "#2a3f5f",
             "gridcolor": "white",
             "linecolor": "white",
             "minorgridcolor": "white",
             "startlinecolor": "#2a3f5f"
            },
            "type": "carpet"
           }
          ],
          "choropleth": [
           {
            "colorbar": {
             "outlinewidth": 0,
             "ticks": ""
            },
            "type": "choropleth"
           }
          ],
          "contour": [
           {
            "colorbar": {
             "outlinewidth": 0,
             "ticks": ""
            },
            "colorscale": [
             [
              0.0,
              "#0d0887"
             ],
             [
              0.1111111111111111,
              "#46039f"
             ],
             [
              0.2222222222222222,
              "#7201a8"
             ],
             [
              0.3333333333333333,
              "#9c179e"
             ],
             [
              0.4444444444444444,
              "#bd3786"
             ],
             [
              0.5555555555555556,
              "#d8576b"
             ],
             [
              0.6666666666666666,
              "#ed7953"
             ],
             [
              0.7777777777777778,
              "#fb9f3a"
             ],
             [
              0.8888888888888888,
              "#fdca26"
             ],
             [
              1.0,
              "#f0f921"
             ]
            ],
            "type": "contour"
           }
          ],
          "contourcarpet": [
           {
            "colorbar": {
             "outlinewidth": 0,
             "ticks": ""
            },
            "type": "contourcarpet"
           }
          ],
          "heatmap": [
           {
            "colorbar": {
             "outlinewidth": 0,
             "ticks": ""
            },
            "colorscale": [
             [
              0.0,
              "#0d0887"
             ],
             [
              0.1111111111111111,
              "#46039f"
             ],
             [
              0.2222222222222222,
              "#7201a8"
             ],
             [
              0.3333333333333333,
              "#9c179e"
             ],
             [
              0.4444444444444444,
              "#bd3786"
             ],
             [
              0.5555555555555556,
              "#d8576b"
             ],
             [
              0.6666666666666666,
              "#ed7953"
             ],
             [
              0.7777777777777778,
              "#fb9f3a"
             ],
             [
              0.8888888888888888,
              "#fdca26"
             ],
             [
              1.0,
              "#f0f921"
             ]
            ],
            "type": "heatmap"
           }
          ],
          "heatmapgl": [
           {
            "colorbar": {
             "outlinewidth": 0,
             "ticks": ""
            },
            "colorscale": [
             [
              0.0,
              "#0d0887"
             ],
             [
              0.1111111111111111,
              "#46039f"
             ],
             [
              0.2222222222222222,
              "#7201a8"
             ],
             [
              0.3333333333333333,
              "#9c179e"
             ],
             [
              0.4444444444444444,
              "#bd3786"
             ],
             [
              0.5555555555555556,
              "#d8576b"
             ],
             [
              0.6666666666666666,
              "#ed7953"
             ],
             [
              0.7777777777777778,
              "#fb9f3a"
             ],
             [
              0.8888888888888888,
              "#fdca26"
             ],
             [
              1.0,
              "#f0f921"
             ]
            ],
            "type": "heatmapgl"
           }
          ],
          "histogram": [
           {
            "marker": {
             "pattern": {
              "fillmode": "overlay",
              "size": 10,
              "solidity": 0.2
             }
            },
            "type": "histogram"
           }
          ],
          "histogram2d": [
           {
            "colorbar": {
             "outlinewidth": 0,
             "ticks": ""
            },
            "colorscale": [
             [
              0.0,
              "#0d0887"
             ],
             [
              0.1111111111111111,
              "#46039f"
             ],
             [
              0.2222222222222222,
              "#7201a8"
             ],
             [
              0.3333333333333333,
              "#9c179e"
             ],
             [
              0.4444444444444444,
              "#bd3786"
             ],
             [
              0.5555555555555556,
              "#d8576b"
             ],
             [
              0.6666666666666666,
              "#ed7953"
             ],
             [
              0.7777777777777778,
              "#fb9f3a"
             ],
             [
              0.8888888888888888,
              "#fdca26"
             ],
             [
              1.0,
              "#f0f921"
             ]
            ],
            "type": "histogram2d"
           }
          ],
          "histogram2dcontour": [
           {
            "colorbar": {
             "outlinewidth": 0,
             "ticks": ""
            },
            "colorscale": [
             [
              0.0,
              "#0d0887"
             ],
             [
              0.1111111111111111,
              "#46039f"
             ],
             [
              0.2222222222222222,
              "#7201a8"
             ],
             [
              0.3333333333333333,
              "#9c179e"
             ],
             [
              0.4444444444444444,
              "#bd3786"
             ],
             [
              0.5555555555555556,
              "#d8576b"
             ],
             [
              0.6666666666666666,
              "#ed7953"
             ],
             [
              0.7777777777777778,
              "#fb9f3a"
             ],
             [
              0.8888888888888888,
              "#fdca26"
             ],
             [
              1.0,
              "#f0f921"
             ]
            ],
            "type": "histogram2dcontour"
           }
          ],
          "mesh3d": [
           {
            "colorbar": {
             "outlinewidth": 0,
             "ticks": ""
            },
            "type": "mesh3d"
           }
          ],
          "parcoords": [
           {
            "line": {
             "colorbar": {
              "outlinewidth": 0,
              "ticks": ""
             }
            },
            "type": "parcoords"
           }
          ],
          "pie": [
           {
            "automargin": true,
            "type": "pie"
           }
          ],
          "scatter": [
           {
            "marker": {
             "colorbar": {
              "outlinewidth": 0,
              "ticks": ""
             }
            },
            "type": "scatter"
           }
          ],
          "scatter3d": [
           {
            "line": {
             "colorbar": {
              "outlinewidth": 0,
              "ticks": ""
             }
            },
            "marker": {
             "colorbar": {
              "outlinewidth": 0,
              "ticks": ""
             }
            },
            "type": "scatter3d"
           }
          ],
          "scattercarpet": [
           {
            "marker": {
             "colorbar": {
              "outlinewidth": 0,
              "ticks": ""
             }
            },
            "type": "scattercarpet"
           }
          ],
          "scattergeo": [
           {
            "marker": {
             "colorbar": {
              "outlinewidth": 0,
              "ticks": ""
             }
            },
            "type": "scattergeo"
           }
          ],
          "scattergl": [
           {
            "marker": {
             "colorbar": {
              "outlinewidth": 0,
              "ticks": ""
             }
            },
            "type": "scattergl"
           }
          ],
          "scattermapbox": [
           {
            "marker": {
             "colorbar": {
              "outlinewidth": 0,
              "ticks": ""
             }
            },
            "type": "scattermapbox"
           }
          ],
          "scatterpolar": [
           {
            "marker": {
             "colorbar": {
              "outlinewidth": 0,
              "ticks": ""
             }
            },
            "type": "scatterpolar"
           }
          ],
          "scatterpolargl": [
           {
            "marker": {
             "colorbar": {
              "outlinewidth": 0,
              "ticks": ""
             }
            },
            "type": "scatterpolargl"
           }
          ],
          "scatterternary": [
           {
            "marker": {
             "colorbar": {
              "outlinewidth": 0,
              "ticks": ""
             }
            },
            "type": "scatterternary"
           }
          ],
          "surface": [
           {
            "colorbar": {
             "outlinewidth": 0,
             "ticks": ""
            },
            "colorscale": [
             [
              0.0,
              "#0d0887"
             ],
             [
              0.1111111111111111,
              "#46039f"
             ],
             [
              0.2222222222222222,
              "#7201a8"
             ],
             [
              0.3333333333333333,
              "#9c179e"
             ],
             [
              0.4444444444444444,
              "#bd3786"
             ],
             [
              0.5555555555555556,
              "#d8576b"
             ],
             [
              0.6666666666666666,
              "#ed7953"
             ],
             [
              0.7777777777777778,
              "#fb9f3a"
             ],
             [
              0.8888888888888888,
              "#fdca26"
             ],
             [
              1.0,
              "#f0f921"
             ]
            ],
            "type": "surface"
           }
          ],
          "table": [
           {
            "cells": {
             "fill": {
              "color": "#EBF0F8"
             },
             "line": {
              "color": "white"
             }
            },
            "header": {
             "fill": {
              "color": "#C8D4E3"
             },
             "line": {
              "color": "white"
             }
            },
            "type": "table"
           }
          ]
         },
         "layout": {
          "annotationdefaults": {
           "arrowcolor": "#2a3f5f",
           "arrowhead": 0,
           "arrowwidth": 1
          },
          "autotypenumbers": "strict",
          "coloraxis": {
           "colorbar": {
            "outlinewidth": 0,
            "ticks": ""
           }
          },
          "colorscale": {
           "diverging": [
            [
             0,
             "#8e0152"
            ],
            [
             0.1,
             "#c51b7d"
            ],
            [
             0.2,
             "#de77ae"
            ],
            [
             0.3,
             "#f1b6da"
            ],
            [
             0.4,
             "#fde0ef"
            ],
            [
             0.5,
             "#f7f7f7"
            ],
            [
             0.6,
             "#e6f5d0"
            ],
            [
             0.7,
             "#b8e186"
            ],
            [
             0.8,
             "#7fbc41"
            ],
            [
             0.9,
             "#4d9221"
            ],
            [
             1,
             "#276419"
            ]
           ],
           "sequential": [
            [
             0.0,
             "#0d0887"
            ],
            [
             0.1111111111111111,
             "#46039f"
            ],
            [
             0.2222222222222222,
             "#7201a8"
            ],
            [
             0.3333333333333333,
             "#9c179e"
            ],
            [
             0.4444444444444444,
             "#bd3786"
            ],
            [
             0.5555555555555556,
             "#d8576b"
            ],
            [
             0.6666666666666666,
             "#ed7953"
            ],
            [
             0.7777777777777778,
             "#fb9f3a"
            ],
            [
             0.8888888888888888,
             "#fdca26"
            ],
            [
             1.0,
             "#f0f921"
            ]
           ],
           "sequentialminus": [
            [
             0.0,
             "#0d0887"
            ],
            [
             0.1111111111111111,
             "#46039f"
            ],
            [
             0.2222222222222222,
             "#7201a8"
            ],
            [
             0.3333333333333333,
             "#9c179e"
            ],
            [
             0.4444444444444444,
             "#bd3786"
            ],
            [
             0.5555555555555556,
             "#d8576b"
            ],
            [
             0.6666666666666666,
             "#ed7953"
            ],
            [
             0.7777777777777778,
             "#fb9f3a"
            ],
            [
             0.8888888888888888,
             "#fdca26"
            ],
            [
             1.0,
             "#f0f921"
            ]
           ]
          },
          "colorway": [
           "#636efa",
           "#EF553B",
           "#00cc96",
           "#ab63fa",
           "#FFA15A",
           "#19d3f3",
           "#FF6692",
           "#B6E880",
           "#FF97FF",
           "#FECB52"
          ],
          "font": {
           "color": "#2a3f5f"
          },
          "geo": {
           "bgcolor": "white",
           "lakecolor": "white",
           "landcolor": "#E5ECF6",
           "showlakes": true,
           "showland": true,
           "subunitcolor": "white"
          },
          "hoverlabel": {
           "align": "left"
          },
          "hovermode": "closest",
          "mapbox": {
           "style": "light"
          },
          "paper_bgcolor": "white",
          "plot_bgcolor": "#E5ECF6",
          "polar": {
           "angularaxis": {
            "gridcolor": "white",
            "linecolor": "white",
            "ticks": ""
           },
           "bgcolor": "#E5ECF6",
           "radialaxis": {
            "gridcolor": "white",
            "linecolor": "white",
            "ticks": ""
           }
          },
          "scene": {
           "xaxis": {
            "backgroundcolor": "#E5ECF6",
            "gridcolor": "white",
            "gridwidth": 2,
            "linecolor": "white",
            "showbackground": true,
            "ticks": "",
            "zerolinecolor": "white"
           },
           "yaxis": {
            "backgroundcolor": "#E5ECF6",
            "gridcolor": "white",
            "gridwidth": 2,
            "linecolor": "white",
            "showbackground": true,
            "ticks": "",
            "zerolinecolor": "white"
           },
           "zaxis": {
            "backgroundcolor": "#E5ECF6",
            "gridcolor": "white",
            "gridwidth": 2,
            "linecolor": "white",
            "showbackground": true,
            "ticks": "",
            "zerolinecolor": "white"
           }
          },
          "shapedefaults": {
           "line": {
            "color": "#2a3f5f"
           }
          },
          "ternary": {
           "aaxis": {
            "gridcolor": "white",
            "linecolor": "white",
            "ticks": ""
           },
           "baxis": {
            "gridcolor": "white",
            "linecolor": "white",
            "ticks": ""
           },
           "bgcolor": "#E5ECF6",
           "caxis": {
            "gridcolor": "white",
            "linecolor": "white",
            "ticks": ""
           }
          },
          "title": {
           "x": 0.05
          },
          "xaxis": {
           "automargin": true,
           "gridcolor": "white",
           "linecolor": "white",
           "ticks": "",
           "title": {
            "standoff": 15
           },
           "zerolinecolor": "white",
           "zerolinewidth": 2
          },
          "yaxis": {
           "automargin": true,
           "gridcolor": "white",
           "linecolor": "white",
           "ticks": "",
           "title": {
            "standoff": 15
           },
           "zerolinecolor": "white",
           "zerolinewidth": 2
          }
         }
        },
        "xaxis": {
         "anchor": "y",
         "domain": [
          0.0,
          1.0
         ],
         "title": {
          "text": "Time"
         }
        },
        "yaxis": {
         "anchor": "x",
         "domain": [
          0.0,
          1.0
         ],
         "title": {
          "text": "Global_active_power"
         }
        },
        "legend": {
         "tracegroupgap": 0
        },
        "margin": {
         "t": 60
        },
        "title": {
         "text": "Monthly 99% percentile Global_active_power"
        },
        "width": 1000
       },
       "config": {
        "plotlyServerURL": "https://plot.ly"
       }
      },
      "text/html": "<div>                            <div id=\"8b7624df-da0c-44fd-b563-5f9ff20c5197\" class=\"plotly-graph-div\" style=\"height:525px; width:1000px;\"></div>            <script type=\"text/javascript\">                require([\"plotly\"], function(Plotly) {                    window.PLOTLYENV=window.PLOTLYENV || {};                                    if (document.getElementById(\"8b7624df-da0c-44fd-b563-5f9ff20c5197\")) {                    Plotly.newPlot(                        \"8b7624df-da0c-44fd-b563-5f9ff20c5197\",                        [{\"hovertemplate\":\"x=%{x}<br>y=%{y}<extra></extra>\",\"legendgroup\":\"\",\"line\":{\"color\":\"#636efa\",\"dash\":\"solid\"},\"marker\":{\"symbol\":\"circle\"},\"mode\":\"lines\",\"name\":\"\",\"orientation\":\"v\",\"showlegend\":false,\"x\":[\"2007-07-31T00:00:00\",\"2007-08-31T00:00:00\",\"2007-09-30T00:00:00\",\"2007-10-31T00:00:00\",\"2007-11-30T00:00:00\",\"2007-12-31T00:00:00\",\"2008-01-31T00:00:00\",\"2008-02-29T00:00:00\",\"2008-03-31T00:00:00\",\"2008-04-30T00:00:00\",\"2008-05-31T00:00:00\",\"2008-06-30T00:00:00\",\"2008-07-31T00:00:00\",\"2008-08-31T00:00:00\",\"2008-09-30T00:00:00\",\"2008-10-31T00:00:00\",\"2008-11-30T00:00:00\",\"2008-12-31T00:00:00\",\"2009-01-31T00:00:00\",\"2009-02-28T00:00:00\",\"2009-03-31T00:00:00\",\"2009-04-30T00:00:00\",\"2009-05-31T00:00:00\",\"2009-06-30T00:00:00\",\"2009-07-31T00:00:00\",\"2009-08-31T00:00:00\",\"2009-09-30T00:00:00\",\"2009-10-31T00:00:00\",\"2009-11-30T00:00:00\",\"2009-12-31T00:00:00\",\"2010-01-31T00:00:00\",\"2010-02-28T00:00:00\",\"2010-03-31T00:00:00\",\"2010-04-30T00:00:00\",\"2010-05-31T00:00:00\",\"2010-06-30T00:00:00\",\"2010-07-31T00:00:00\",\"2010-08-31T00:00:00\",\"2010-09-30T00:00:00\",\"2010-10-31T00:00:00\",\"2010-11-30T00:00:00\",\"2010-12-31T00:00:00\"],\"xaxis\":\"x\",\"y\":[4.671220000000001,4.6892200000000015,5.0440600000000115,5.346,5.506060000000012,5.849220000000001,5.328,4.54,4.847220000000001,4.750060000000012,4.972440000000002,4.79,4.2,4.3996600000000035,4.588020000000004,4.9872200000000015,5.182,5.043220000000001,5.524,4.462,4.566,4.420040000000008,4.191220000000001,3.756020000000004,4.1,4.418,4.234,4.827220000000001,5.444,5.090440000000002,4.874060000000012,4.8408399999999965,4.514060000000012,4.0128199999999925,4.116020000000003,4.032819999999992,3.41,3.9700400000000085,3.8792799999999694,4.704020000000003,4.432,3.882],\"yaxis\":\"y\",\"type\":\"scatter\"},{\"mode\":\"lines\",\"name\":\"Simple LTSM\",\"x\":[\"2010-03-31T00:00:00\",\"2010-04-30T00:00:00\",\"2010-05-31T00:00:00\",\"2010-06-30T00:00:00\",\"2010-07-31T00:00:00\",\"2010-08-31T00:00:00\",\"2010-09-30T00:00:00\",\"2010-10-31T00:00:00\",\"2010-11-30T00:00:00\",\"2010-12-31T00:00:00\"],\"y\":[4.06679105758667,4.076516151428223,4.09544563293457,4.100766181945801,4.106995105743408,4.125688552856445,4.119132995605469,4.118819236755371,4.0963134765625,4.0959696769714355],\"type\":\"scatter\"}],                        {\"template\":{\"data\":{\"bar\":[{\"error_x\":{\"color\":\"#2a3f5f\"},\"error_y\":{\"color\":\"#2a3f5f\"},\"marker\":{\"line\":{\"color\":\"#E5ECF6\",\"width\":0.5},\"pattern\":{\"fillmode\":\"overlay\",\"size\":10,\"solidity\":0.2}},\"type\":\"bar\"}],\"barpolar\":[{\"marker\":{\"line\":{\"color\":\"#E5ECF6\",\"width\":0.5},\"pattern\":{\"fillmode\":\"overlay\",\"size\":10,\"solidity\":0.2}},\"type\":\"barpolar\"}],\"carpet\":[{\"aaxis\":{\"endlinecolor\":\"#2a3f5f\",\"gridcolor\":\"white\",\"linecolor\":\"white\",\"minorgridcolor\":\"white\",\"startlinecolor\":\"#2a3f5f\"},\"baxis\":{\"endlinecolor\":\"#2a3f5f\",\"gridcolor\":\"white\",\"linecolor\":\"white\",\"minorgridcolor\":\"white\",\"startlinecolor\":\"#2a3f5f\"},\"type\":\"carpet\"}],\"choropleth\":[{\"colorbar\":{\"outlinewidth\":0,\"ticks\":\"\"},\"type\":\"choropleth\"}],\"contour\":[{\"colorbar\":{\"outlinewidth\":0,\"ticks\":\"\"},\"colorscale\":[[0.0,\"#0d0887\"],[0.1111111111111111,\"#46039f\"],[0.2222222222222222,\"#7201a8\"],[0.3333333333333333,\"#9c179e\"],[0.4444444444444444,\"#bd3786\"],[0.5555555555555556,\"#d8576b\"],[0.6666666666666666,\"#ed7953\"],[0.7777777777777778,\"#fb9f3a\"],[0.8888888888888888,\"#fdca26\"],[1.0,\"#f0f921\"]],\"type\":\"contour\"}],\"contourcarpet\":[{\"colorbar\":{\"outlinewidth\":0,\"ticks\":\"\"},\"type\":\"contourcarpet\"}],\"heatmap\":[{\"colorbar\":{\"outlinewidth\":0,\"ticks\":\"\"},\"colorscale\":[[0.0,\"#0d0887\"],[0.1111111111111111,\"#46039f\"],[0.2222222222222222,\"#7201a8\"],[0.3333333333333333,\"#9c179e\"],[0.4444444444444444,\"#bd3786\"],[0.5555555555555556,\"#d8576b\"],[0.6666666666666666,\"#ed7953\"],[0.7777777777777778,\"#fb9f3a\"],[0.8888888888888888,\"#fdca26\"],[1.0,\"#f0f921\"]],\"type\":\"heatmap\"}],\"heatmapgl\":[{\"colorbar\":{\"outlinewidth\":0,\"ticks\":\"\"},\"colorscale\":[[0.0,\"#0d0887\"],[0.1111111111111111,\"#46039f\"],[0.2222222222222222,\"#7201a8\"],[0.3333333333333333,\"#9c179e\"],[0.4444444444444444,\"#bd3786\"],[0.5555555555555556,\"#d8576b\"],[0.6666666666666666,\"#ed7953\"],[0.7777777777777778,\"#fb9f3a\"],[0.8888888888888888,\"#fdca26\"],[1.0,\"#f0f921\"]],\"type\":\"heatmapgl\"}],\"histogram\":[{\"marker\":{\"pattern\":{\"fillmode\":\"overlay\",\"size\":10,\"solidity\":0.2}},\"type\":\"histogram\"}],\"histogram2d\":[{\"colorbar\":{\"outlinewidth\":0,\"ticks\":\"\"},\"colorscale\":[[0.0,\"#0d0887\"],[0.1111111111111111,\"#46039f\"],[0.2222222222222222,\"#7201a8\"],[0.3333333333333333,\"#9c179e\"],[0.4444444444444444,\"#bd3786\"],[0.5555555555555556,\"#d8576b\"],[0.6666666666666666,\"#ed7953\"],[0.7777777777777778,\"#fb9f3a\"],[0.8888888888888888,\"#fdca26\"],[1.0,\"#f0f921\"]],\"type\":\"histogram2d\"}],\"histogram2dcontour\":[{\"colorbar\":{\"outlinewidth\":0,\"ticks\":\"\"},\"colorscale\":[[0.0,\"#0d0887\"],[0.1111111111111111,\"#46039f\"],[0.2222222222222222,\"#7201a8\"],[0.3333333333333333,\"#9c179e\"],[0.4444444444444444,\"#bd3786\"],[0.5555555555555556,\"#d8576b\"],[0.6666666666666666,\"#ed7953\"],[0.7777777777777778,\"#fb9f3a\"],[0.8888888888888888,\"#fdca26\"],[1.0,\"#f0f921\"]],\"type\":\"histogram2dcontour\"}],\"mesh3d\":[{\"colorbar\":{\"outlinewidth\":0,\"ticks\":\"\"},\"type\":\"mesh3d\"}],\"parcoords\":[{\"line\":{\"colorbar\":{\"outlinewidth\":0,\"ticks\":\"\"}},\"type\":\"parcoords\"}],\"pie\":[{\"automargin\":true,\"type\":\"pie\"}],\"scatter\":[{\"marker\":{\"colorbar\":{\"outlinewidth\":0,\"ticks\":\"\"}},\"type\":\"scatter\"}],\"scatter3d\":[{\"line\":{\"colorbar\":{\"outlinewidth\":0,\"ticks\":\"\"}},\"marker\":{\"colorbar\":{\"outlinewidth\":0,\"ticks\":\"\"}},\"type\":\"scatter3d\"}],\"scattercarpet\":[{\"marker\":{\"colorbar\":{\"outlinewidth\":0,\"ticks\":\"\"}},\"type\":\"scattercarpet\"}],\"scattergeo\":[{\"marker\":{\"colorbar\":{\"outlinewidth\":0,\"ticks\":\"\"}},\"type\":\"scattergeo\"}],\"scattergl\":[{\"marker\":{\"colorbar\":{\"outlinewidth\":0,\"ticks\":\"\"}},\"type\":\"scattergl\"}],\"scattermapbox\":[{\"marker\":{\"colorbar\":{\"outlinewidth\":0,\"ticks\":\"\"}},\"type\":\"scattermapbox\"}],\"scatterpolar\":[{\"marker\":{\"colorbar\":{\"outlinewidth\":0,\"ticks\":\"\"}},\"type\":\"scatterpolar\"}],\"scatterpolargl\":[{\"marker\":{\"colorbar\":{\"outlinewidth\":0,\"ticks\":\"\"}},\"type\":\"scatterpolargl\"}],\"scatterternary\":[{\"marker\":{\"colorbar\":{\"outlinewidth\":0,\"ticks\":\"\"}},\"type\":\"scatterternary\"}],\"surface\":[{\"colorbar\":{\"outlinewidth\":0,\"ticks\":\"\"},\"colorscale\":[[0.0,\"#0d0887\"],[0.1111111111111111,\"#46039f\"],[0.2222222222222222,\"#7201a8\"],[0.3333333333333333,\"#9c179e\"],[0.4444444444444444,\"#bd3786\"],[0.5555555555555556,\"#d8576b\"],[0.6666666666666666,\"#ed7953\"],[0.7777777777777778,\"#fb9f3a\"],[0.8888888888888888,\"#fdca26\"],[1.0,\"#f0f921\"]],\"type\":\"surface\"}],\"table\":[{\"cells\":{\"fill\":{\"color\":\"#EBF0F8\"},\"line\":{\"color\":\"white\"}},\"header\":{\"fill\":{\"color\":\"#C8D4E3\"},\"line\":{\"color\":\"white\"}},\"type\":\"table\"}]},\"layout\":{\"annotationdefaults\":{\"arrowcolor\":\"#2a3f5f\",\"arrowhead\":0,\"arrowwidth\":1},\"autotypenumbers\":\"strict\",\"coloraxis\":{\"colorbar\":{\"outlinewidth\":0,\"ticks\":\"\"}},\"colorscale\":{\"diverging\":[[0,\"#8e0152\"],[0.1,\"#c51b7d\"],[0.2,\"#de77ae\"],[0.3,\"#f1b6da\"],[0.4,\"#fde0ef\"],[0.5,\"#f7f7f7\"],[0.6,\"#e6f5d0\"],[0.7,\"#b8e186\"],[0.8,\"#7fbc41\"],[0.9,\"#4d9221\"],[1,\"#276419\"]],\"sequential\":[[0.0,\"#0d0887\"],[0.1111111111111111,\"#46039f\"],[0.2222222222222222,\"#7201a8\"],[0.3333333333333333,\"#9c179e\"],[0.4444444444444444,\"#bd3786\"],[0.5555555555555556,\"#d8576b\"],[0.6666666666666666,\"#ed7953\"],[0.7777777777777778,\"#fb9f3a\"],[0.8888888888888888,\"#fdca26\"],[1.0,\"#f0f921\"]],\"sequentialminus\":[[0.0,\"#0d0887\"],[0.1111111111111111,\"#46039f\"],[0.2222222222222222,\"#7201a8\"],[0.3333333333333333,\"#9c179e\"],[0.4444444444444444,\"#bd3786\"],[0.5555555555555556,\"#d8576b\"],[0.6666666666666666,\"#ed7953\"],[0.7777777777777778,\"#fb9f3a\"],[0.8888888888888888,\"#fdca26\"],[1.0,\"#f0f921\"]]},\"colorway\":[\"#636efa\",\"#EF553B\",\"#00cc96\",\"#ab63fa\",\"#FFA15A\",\"#19d3f3\",\"#FF6692\",\"#B6E880\",\"#FF97FF\",\"#FECB52\"],\"font\":{\"color\":\"#2a3f5f\"},\"geo\":{\"bgcolor\":\"white\",\"lakecolor\":\"white\",\"landcolor\":\"#E5ECF6\",\"showlakes\":true,\"showland\":true,\"subunitcolor\":\"white\"},\"hoverlabel\":{\"align\":\"left\"},\"hovermode\":\"closest\",\"mapbox\":{\"style\":\"light\"},\"paper_bgcolor\":\"white\",\"plot_bgcolor\":\"#E5ECF6\",\"polar\":{\"angularaxis\":{\"gridcolor\":\"white\",\"linecolor\":\"white\",\"ticks\":\"\"},\"bgcolor\":\"#E5ECF6\",\"radialaxis\":{\"gridcolor\":\"white\",\"linecolor\":\"white\",\"ticks\":\"\"}},\"scene\":{\"xaxis\":{\"backgroundcolor\":\"#E5ECF6\",\"gridcolor\":\"white\",\"gridwidth\":2,\"linecolor\":\"white\",\"showbackground\":true,\"ticks\":\"\",\"zerolinecolor\":\"white\"},\"yaxis\":{\"backgroundcolor\":\"#E5ECF6\",\"gridcolor\":\"white\",\"gridwidth\":2,\"linecolor\":\"white\",\"showbackground\":true,\"ticks\":\"\",\"zerolinecolor\":\"white\"},\"zaxis\":{\"backgroundcolor\":\"#E5ECF6\",\"gridcolor\":\"white\",\"gridwidth\":2,\"linecolor\":\"white\",\"showbackground\":true,\"ticks\":\"\",\"zerolinecolor\":\"white\"}},\"shapedefaults\":{\"line\":{\"color\":\"#2a3f5f\"}},\"ternary\":{\"aaxis\":{\"gridcolor\":\"white\",\"linecolor\":\"white\",\"ticks\":\"\"},\"baxis\":{\"gridcolor\":\"white\",\"linecolor\":\"white\",\"ticks\":\"\"},\"bgcolor\":\"#E5ECF6\",\"caxis\":{\"gridcolor\":\"white\",\"linecolor\":\"white\",\"ticks\":\"\"}},\"title\":{\"x\":0.05},\"xaxis\":{\"automargin\":true,\"gridcolor\":\"white\",\"linecolor\":\"white\",\"ticks\":\"\",\"title\":{\"standoff\":15},\"zerolinecolor\":\"white\",\"zerolinewidth\":2},\"yaxis\":{\"automargin\":true,\"gridcolor\":\"white\",\"linecolor\":\"white\",\"ticks\":\"\",\"title\":{\"standoff\":15},\"zerolinecolor\":\"white\",\"zerolinewidth\":2}}},\"xaxis\":{\"anchor\":\"y\",\"domain\":[0.0,1.0],\"title\":{\"text\":\"Time\"}},\"yaxis\":{\"anchor\":\"x\",\"domain\":[0.0,1.0],\"title\":{\"text\":\"Global_active_power\"}},\"legend\":{\"tracegroupgap\":0},\"margin\":{\"t\":60},\"title\":{\"text\":\"Monthly 99% percentile Global_active_power\"},\"width\":1000},                        {\"responsive\": true}                    ).then(function(){\n                            \nvar gd = document.getElementById('8b7624df-da0c-44fd-b563-5f9ff20c5197');\nvar x = new MutationObserver(function (mutations, observer) {{\n        var display = window.getComputedStyle(gd).display;\n        if (!display || display === 'none') {{\n            console.log([gd, 'removed!']);\n            Plotly.purge(gd);\n            observer.disconnect();\n        }}\n}});\n\n// Listen for the removal of the full notebook cells\nvar notebookContainer = gd.closest('#notebook-container');\nif (notebookContainer) {{\n    x.observe(notebookContainer, {childList: true});\n}}\n\n// Listen for the clearing of the current output cell\nvar outputEl = gd.closest('.output');\nif (outputEl) {{\n    x.observe(outputEl, {childList: true});\n}}\n\n                        })                };                });            </script>        </div>"
     },
     "metadata": {},
     "output_type": "display_data"
    }
   ],
   "source": [
    "figure = px.line(x=df_monthly.index, y=df_monthly[var])\n",
    "figure.add_scatter(x=y_true.index, y=y_pred_lstm, mode=\"lines\", name=\"Simple LTSM\")\n",
    "figure.update_layout(\n",
    "    title=f\"Monthly 99% percentile {var}\",\n",
    "    width=1000,\n",
    "    xaxis_title=\"Time\",\n",
    "    yaxis_title=f\"{var}\",\n",
    ")\n",
    "figure.show()"
   ],
   "metadata": {
    "collapsed": false,
    "pycharm": {
     "name": "#%%\n"
    }
   }
  },
  {
   "cell_type": "markdown",
   "source": [
    "# Stack two LSTM layers\n"
   ],
   "metadata": {
    "collapsed": false,
    "pycharm": {
     "name": "#%% md\n"
    }
   }
  },
  {
   "cell_type": "code",
   "execution_count": 244,
   "outputs": [
    {
     "name": "stdout",
     "output_type": "stream",
     "text": [
      "Model loaded: KerasCoreModel.lstm\n",
      "LSTM\n",
      "model.add(LSTM(cell_units, input_shape=(train_X.shape[1],1), return_sequences=True))\n",
      "model.add(LSTM(cell_units, input_shape=(train_X.shape[1],1)))\n",
      "Epoch 1/400\n",
      "1/1 [==============================] - 3s 3s/step - loss: 20.3978 - val_loss: 14.9693\n",
      "Epoch 2/400\n",
      "1/1 [==============================] - 0s 42ms/step - loss: 20.1603 - val_loss: 14.7672\n",
      "Epoch 3/400\n",
      "1/1 [==============================] - 0s 43ms/step - loss: 19.9214 - val_loss: 14.5640\n",
      "Epoch 4/400\n",
      "1/1 [==============================] - 0s 44ms/step - loss: 19.6809 - val_loss: 14.3597\n",
      "Epoch 5/400\n",
      "1/1 [==============================] - 0s 44ms/step - loss: 19.4389 - val_loss: 14.1544\n",
      "Epoch 6/400\n",
      "1/1 [==============================] - 0s 41ms/step - loss: 19.1953 - val_loss: 13.9480\n",
      "Epoch 7/400\n",
      "1/1 [==============================] - 0s 39ms/step - loss: 18.9503 - val_loss: 13.7406\n",
      "Epoch 8/400\n",
      "1/1 [==============================] - 0s 41ms/step - loss: 18.7037 - val_loss: 13.5320\n",
      "Epoch 9/400\n",
      "1/1 [==============================] - 0s 40ms/step - loss: 18.4556 - val_loss: 13.3222\n",
      "Epoch 10/400\n",
      "1/1 [==============================] - 0s 46ms/step - loss: 18.2059 - val_loss: 13.1113\n",
      "Epoch 11/400\n",
      "1/1 [==============================] - 0s 51ms/step - loss: 17.9547 - val_loss: 12.8992\n",
      "Epoch 12/400\n",
      "1/1 [==============================] - 0s 44ms/step - loss: 17.7019 - val_loss: 12.6861\n",
      "Epoch 13/400\n",
      "1/1 [==============================] - 0s 40ms/step - loss: 17.4476 - val_loss: 12.4719\n",
      "Epoch 14/400\n",
      "1/1 [==============================] - 0s 38ms/step - loss: 17.1920 - val_loss: 12.2568\n",
      "Epoch 15/400\n",
      "1/1 [==============================] - 0s 42ms/step - loss: 16.9351 - val_loss: 12.0409\n",
      "Epoch 16/400\n",
      "1/1 [==============================] - 0s 44ms/step - loss: 16.6769 - val_loss: 11.8242\n",
      "Epoch 17/400\n",
      "1/1 [==============================] - 0s 42ms/step - loss: 16.4177 - val_loss: 11.6069\n",
      "Epoch 18/400\n",
      "1/1 [==============================] - 0s 44ms/step - loss: 16.1576 - val_loss: 11.3890\n",
      "Epoch 19/400\n",
      "1/1 [==============================] - 0s 39ms/step - loss: 15.8966 - val_loss: 11.1707\n",
      "Epoch 20/400\n",
      "1/1 [==============================] - 0s 40ms/step - loss: 15.6349 - val_loss: 10.9521\n",
      "Epoch 21/400\n",
      "1/1 [==============================] - 0s 47ms/step - loss: 15.3727 - val_loss: 10.7334\n",
      "Epoch 22/400\n",
      "1/1 [==============================] - 0s 42ms/step - loss: 15.1102 - val_loss: 10.5147\n",
      "Epoch 23/400\n",
      "1/1 [==============================] - 0s 42ms/step - loss: 14.8474 - val_loss: 10.2962\n",
      "Epoch 24/400\n",
      "1/1 [==============================] - 0s 43ms/step - loss: 14.5846 - val_loss: 10.0780\n",
      "Epoch 25/400\n",
      "1/1 [==============================] - 0s 44ms/step - loss: 14.3220 - val_loss: 9.8602\n",
      "Epoch 26/400\n",
      "1/1 [==============================] - 0s 44ms/step - loss: 14.0596 - val_loss: 9.6431\n",
      "Epoch 27/400\n",
      "1/1 [==============================] - 0s 41ms/step - loss: 13.7978 - val_loss: 9.4267\n",
      "Epoch 28/400\n",
      "1/1 [==============================] - 0s 40ms/step - loss: 13.5366 - val_loss: 9.2114\n",
      "Epoch 29/400\n",
      "1/1 [==============================] - 0s 42ms/step - loss: 13.2762 - val_loss: 8.9971\n",
      "Epoch 30/400\n",
      "1/1 [==============================] - 0s 41ms/step - loss: 13.0169 - val_loss: 8.7841\n",
      "Epoch 31/400\n",
      "1/1 [==============================] - 0s 40ms/step - loss: 12.7588 - val_loss: 8.5726\n",
      "Epoch 32/400\n",
      "1/1 [==============================] - 0s 46ms/step - loss: 12.5021 - val_loss: 8.3626\n",
      "Epoch 33/400\n",
      "1/1 [==============================] - 0s 43ms/step - loss: 12.2469 - val_loss: 8.1544\n",
      "Epoch 34/400\n",
      "1/1 [==============================] - 0s 42ms/step - loss: 11.9935 - val_loss: 7.9481\n",
      "Epoch 35/400\n",
      "1/1 [==============================] - 0s 45ms/step - loss: 11.7418 - val_loss: 7.7438\n",
      "Epoch 36/400\n",
      "1/1 [==============================] - 0s 41ms/step - loss: 11.4922 - val_loss: 7.5416\n",
      "Epoch 37/400\n",
      "1/1 [==============================] - 0s 39ms/step - loss: 11.2448 - val_loss: 7.3417\n",
      "Epoch 38/400\n",
      "1/1 [==============================] - 0s 40ms/step - loss: 10.9996 - val_loss: 7.1442\n",
      "Epoch 39/400\n",
      "1/1 [==============================] - 0s 42ms/step - loss: 10.7568 - val_loss: 6.9492\n",
      "Epoch 40/400\n",
      "1/1 [==============================] - 0s 43ms/step - loss: 10.5166 - val_loss: 6.7568\n",
      "Epoch 41/400\n",
      "1/1 [==============================] - 0s 39ms/step - loss: 10.2790 - val_loss: 6.5670\n",
      "Epoch 42/400\n",
      "1/1 [==============================] - 0s 41ms/step - loss: 10.0441 - val_loss: 6.3800\n",
      "Epoch 43/400\n",
      "1/1 [==============================] - 0s 38ms/step - loss: 9.8120 - val_loss: 6.1958\n",
      "Epoch 44/400\n",
      "1/1 [==============================] - 0s 43ms/step - loss: 9.5827 - val_loss: 6.0145\n",
      "Epoch 45/400\n",
      "1/1 [==============================] - 0s 42ms/step - loss: 9.3565 - val_loss: 5.8362\n",
      "Epoch 46/400\n",
      "1/1 [==============================] - 0s 44ms/step - loss: 9.1333 - val_loss: 5.6608\n",
      "Epoch 47/400\n",
      "1/1 [==============================] - 0s 46ms/step - loss: 8.9131 - val_loss: 5.4885\n",
      "Epoch 48/400\n",
      "1/1 [==============================] - 0s 44ms/step - loss: 8.6961 - val_loss: 5.3193\n",
      "Epoch 49/400\n",
      "1/1 [==============================] - 0s 42ms/step - loss: 8.4823 - val_loss: 5.1532\n",
      "Epoch 50/400\n",
      "1/1 [==============================] - 0s 38ms/step - loss: 8.2717 - val_loss: 4.9903\n",
      "Epoch 51/400\n",
      "1/1 [==============================] - 0s 42ms/step - loss: 8.0645 - val_loss: 4.8305\n",
      "Epoch 52/400\n",
      "1/1 [==============================] - 0s 54ms/step - loss: 7.8605 - val_loss: 4.6740\n",
      "Epoch 53/400\n",
      "1/1 [==============================] - 0s 43ms/step - loss: 7.6599 - val_loss: 4.5208\n",
      "Epoch 54/400\n",
      "1/1 [==============================] - 0s 40ms/step - loss: 7.4627 - val_loss: 4.3708\n",
      "Epoch 55/400\n",
      "1/1 [==============================] - 0s 39ms/step - loss: 7.2689 - val_loss: 4.2241\n",
      "Epoch 56/400\n",
      "1/1 [==============================] - 0s 42ms/step - loss: 7.0786 - val_loss: 4.0808\n",
      "Epoch 57/400\n",
      "1/1 [==============================] - 0s 48ms/step - loss: 6.8918 - val_loss: 3.9407\n",
      "Epoch 58/400\n",
      "1/1 [==============================] - 0s 48ms/step - loss: 6.7086 - val_loss: 3.8040\n",
      "Epoch 59/400\n",
      "1/1 [==============================] - 0s 57ms/step - loss: 6.5289 - val_loss: 3.6707\n",
      "Epoch 60/400\n",
      "1/1 [==============================] - 0s 51ms/step - loss: 6.3528 - val_loss: 3.5408\n",
      "Epoch 61/400\n",
      "1/1 [==============================] - 0s 44ms/step - loss: 6.1803 - val_loss: 3.4142\n",
      "Epoch 62/400\n",
      "1/1 [==============================] - 0s 40ms/step - loss: 6.0115 - val_loss: 3.2910\n",
      "Epoch 63/400\n",
      "1/1 [==============================] - 0s 41ms/step - loss: 5.8463 - val_loss: 3.1711\n",
      "Epoch 64/400\n",
      "1/1 [==============================] - 0s 39ms/step - loss: 5.6848 - val_loss: 3.0546\n",
      "Epoch 65/400\n",
      "1/1 [==============================] - 0s 44ms/step - loss: 5.5270 - val_loss: 2.9415\n",
      "Epoch 66/400\n",
      "1/1 [==============================] - 0s 44ms/step - loss: 5.3729 - val_loss: 2.8317\n",
      "Epoch 67/400\n",
      "1/1 [==============================] - 0s 60ms/step - loss: 5.2225 - val_loss: 2.7252\n",
      "Epoch 68/400\n",
      "1/1 [==============================] - 0s 71ms/step - loss: 5.0758 - val_loss: 2.6220\n",
      "Epoch 69/400\n",
      "1/1 [==============================] - 0s 41ms/step - loss: 4.9328 - val_loss: 2.5221\n",
      "Epoch 70/400\n",
      "1/1 [==============================] - 0s 45ms/step - loss: 4.7934 - val_loss: 2.4254\n",
      "Epoch 71/400\n",
      "1/1 [==============================] - 0s 41ms/step - loss: 4.6578 - val_loss: 2.3318\n",
      "Epoch 72/400\n",
      "1/1 [==============================] - 0s 40ms/step - loss: 4.5257 - val_loss: 2.2414\n",
      "Epoch 73/400\n",
      "1/1 [==============================] - 0s 45ms/step - loss: 4.3973 - val_loss: 2.1541\n",
      "Epoch 74/400\n",
      "1/1 [==============================] - 0s 43ms/step - loss: 4.2724 - val_loss: 2.0698\n",
      "Epoch 75/400\n",
      "1/1 [==============================] - 0s 41ms/step - loss: 4.1510 - val_loss: 1.9884\n",
      "Epoch 76/400\n",
      "1/1 [==============================] - 0s 39ms/step - loss: 4.0331 - val_loss: 1.9100\n",
      "Epoch 77/400\n",
      "1/1 [==============================] - 0s 40ms/step - loss: 3.9186 - val_loss: 1.8344\n",
      "Epoch 78/400\n",
      "1/1 [==============================] - 0s 42ms/step - loss: 3.8074 - val_loss: 1.7615\n",
      "Epoch 79/400\n",
      "1/1 [==============================] - 0s 43ms/step - loss: 3.6995 - val_loss: 1.6913\n",
      "Epoch 80/400\n",
      "1/1 [==============================] - 0s 53ms/step - loss: 3.5947 - val_loss: 1.6238\n",
      "Epoch 81/400\n",
      "1/1 [==============================] - 0s 43ms/step - loss: 3.4932 - val_loss: 1.5588\n",
      "Epoch 82/400\n",
      "1/1 [==============================] - 0s 53ms/step - loss: 3.3946 - val_loss: 1.4963\n",
      "Epoch 83/400\n",
      "1/1 [==============================] - 0s 63ms/step - loss: 3.2991 - val_loss: 1.4362\n",
      "Epoch 84/400\n",
      "1/1 [==============================] - 0s 63ms/step - loss: 3.2065 - val_loss: 1.3783\n",
      "Epoch 85/400\n",
      "1/1 [==============================] - 0s 53ms/step - loss: 3.1166 - val_loss: 1.3228\n",
      "Epoch 86/400\n",
      "1/1 [==============================] - 0s 52ms/step - loss: 3.0296 - val_loss: 1.2694\n",
      "Epoch 87/400\n",
      "1/1 [==============================] - 0s 51ms/step - loss: 2.9451 - val_loss: 1.2181\n",
      "Epoch 88/400\n",
      "1/1 [==============================] - 0s 51ms/step - loss: 2.8633 - val_loss: 1.1688\n",
      "Epoch 89/400\n",
      "1/1 [==============================] - 0s 68ms/step - loss: 2.7840 - val_loss: 1.1214\n",
      "Epoch 90/400\n",
      "1/1 [==============================] - 0s 47ms/step - loss: 2.7071 - val_loss: 1.0760\n",
      "Epoch 91/400\n",
      "1/1 [==============================] - 0s 58ms/step - loss: 2.6325 - val_loss: 1.0323\n",
      "Epoch 92/400\n",
      "1/1 [==============================] - 0s 42ms/step - loss: 2.5602 - val_loss: 0.9904\n",
      "Epoch 93/400\n",
      "1/1 [==============================] - 0s 73ms/step - loss: 2.4901 - val_loss: 0.9501\n",
      "Epoch 94/400\n",
      "1/1 [==============================] - 0s 50ms/step - loss: 2.4221 - val_loss: 0.9115\n",
      "Epoch 95/400\n",
      "1/1 [==============================] - 0s 60ms/step - loss: 2.3561 - val_loss: 0.8744\n",
      "Epoch 96/400\n",
      "1/1 [==============================] - 0s 125ms/step - loss: 2.2922 - val_loss: 0.8389\n",
      "Epoch 97/400\n",
      "1/1 [==============================] - 0s 68ms/step - loss: 2.2301 - val_loss: 0.8047\n",
      "Epoch 98/400\n",
      "1/1 [==============================] - 0s 47ms/step - loss: 2.1699 - val_loss: 0.7720\n",
      "Epoch 99/400\n",
      "1/1 [==============================] - 0s 55ms/step - loss: 2.1114 - val_loss: 0.7405\n",
      "Epoch 100/400\n",
      "1/1 [==============================] - 0s 52ms/step - loss: 2.0547 - val_loss: 0.7104\n",
      "Epoch 101/400\n",
      "1/1 [==============================] - 0s 55ms/step - loss: 1.9996 - val_loss: 0.6815\n",
      "Epoch 102/400\n",
      "1/1 [==============================] - 0s 67ms/step - loss: 1.9461 - val_loss: 0.6538\n",
      "Epoch 103/400\n",
      "1/1 [==============================] - 0s 59ms/step - loss: 1.8941 - val_loss: 0.6272\n",
      "Epoch 104/400\n",
      "1/1 [==============================] - 0s 56ms/step - loss: 1.8436 - val_loss: 0.6017\n",
      "Epoch 105/400\n",
      "1/1 [==============================] - 0s 54ms/step - loss: 1.7946 - val_loss: 0.5773\n",
      "Epoch 106/400\n",
      "1/1 [==============================] - 0s 89ms/step - loss: 1.7469 - val_loss: 0.5540\n",
      "Epoch 107/400\n",
      "1/1 [==============================] - 0s 63ms/step - loss: 1.7005 - val_loss: 0.5316\n",
      "Epoch 108/400\n",
      "1/1 [==============================] - 0s 51ms/step - loss: 1.6554 - val_loss: 0.5101\n",
      "Epoch 109/400\n",
      "1/1 [==============================] - 0s 61ms/step - loss: 1.6116 - val_loss: 0.4896\n",
      "Epoch 110/400\n",
      "1/1 [==============================] - 0s 66ms/step - loss: 1.5690 - val_loss: 0.4700\n",
      "Epoch 111/400\n",
      "1/1 [==============================] - 0s 62ms/step - loss: 1.5275 - val_loss: 0.4512\n",
      "Epoch 112/400\n",
      "1/1 [==============================] - 0s 51ms/step - loss: 1.4871 - val_loss: 0.4333\n",
      "Epoch 113/400\n",
      "1/1 [==============================] - 0s 44ms/step - loss: 1.4478 - val_loss: 0.4161\n",
      "Epoch 114/400\n",
      "1/1 [==============================] - 0s 57ms/step - loss: 1.4095 - val_loss: 0.3997\n",
      "Epoch 115/400\n",
      "1/1 [==============================] - 0s 40ms/step - loss: 1.3723 - val_loss: 0.3841\n",
      "Epoch 116/400\n",
      "1/1 [==============================] - 0s 44ms/step - loss: 1.3360 - val_loss: 0.3692\n",
      "Epoch 117/400\n",
      "1/1 [==============================] - 0s 46ms/step - loss: 1.3006 - val_loss: 0.3550\n",
      "Epoch 118/400\n",
      "1/1 [==============================] - 0s 46ms/step - loss: 1.2661 - val_loss: 0.3415\n",
      "Epoch 119/400\n",
      "1/1 [==============================] - 0s 46ms/step - loss: 1.2326 - val_loss: 0.3286\n",
      "Epoch 120/400\n",
      "1/1 [==============================] - 0s 42ms/step - loss: 1.1998 - val_loss: 0.3164\n",
      "Epoch 121/400\n",
      "1/1 [==============================] - 0s 50ms/step - loss: 1.1680 - val_loss: 0.3048\n",
      "Epoch 122/400\n",
      "1/1 [==============================] - 0s 44ms/step - loss: 1.1369 - val_loss: 0.2939\n",
      "Epoch 123/400\n",
      "1/1 [==============================] - 0s 43ms/step - loss: 1.1066 - val_loss: 0.2835\n",
      "Epoch 124/400\n",
      "1/1 [==============================] - 0s 41ms/step - loss: 1.0771 - val_loss: 0.2736\n",
      "Epoch 125/400\n",
      "1/1 [==============================] - 0s 44ms/step - loss: 1.0483 - val_loss: 0.2644\n",
      "Epoch 126/400\n",
      "1/1 [==============================] - 0s 39ms/step - loss: 1.0202 - val_loss: 0.2557\n",
      "Epoch 127/400\n",
      "1/1 [==============================] - 0s 39ms/step - loss: 0.9929 - val_loss: 0.2475\n",
      "Epoch 128/400\n",
      "1/1 [==============================] - 0s 40ms/step - loss: 0.9663 - val_loss: 0.2398\n",
      "Epoch 129/400\n",
      "1/1 [==============================] - 0s 40ms/step - loss: 0.9403 - val_loss: 0.2327\n",
      "Epoch 130/400\n",
      "1/1 [==============================] - 0s 41ms/step - loss: 0.9151 - val_loss: 0.2260\n",
      "Epoch 131/400\n",
      "1/1 [==============================] - 0s 42ms/step - loss: 0.8905 - val_loss: 0.2198\n",
      "Epoch 132/400\n",
      "1/1 [==============================] - 0s 42ms/step - loss: 0.8665 - val_loss: 0.2141\n",
      "Epoch 133/400\n",
      "1/1 [==============================] - 0s 47ms/step - loss: 0.8432 - val_loss: 0.2089\n",
      "Epoch 134/400\n",
      "1/1 [==============================] - 0s 41ms/step - loss: 0.8205 - val_loss: 0.2041\n",
      "Epoch 135/400\n",
      "1/1 [==============================] - 0s 41ms/step - loss: 0.7984 - val_loss: 0.1997\n",
      "Epoch 136/400\n",
      "1/1 [==============================] - 0s 41ms/step - loss: 0.7769 - val_loss: 0.1958\n",
      "Epoch 137/400\n",
      "1/1 [==============================] - 0s 47ms/step - loss: 0.7561 - val_loss: 0.1923\n",
      "Epoch 138/400\n",
      "1/1 [==============================] - 0s 50ms/step - loss: 0.7358 - val_loss: 0.1891\n",
      "Epoch 139/400\n",
      "1/1 [==============================] - 0s 42ms/step - loss: 0.7161 - val_loss: 0.1864\n",
      "Epoch 140/400\n",
      "1/1 [==============================] - 0s 42ms/step - loss: 0.6970 - val_loss: 0.1841\n",
      "Epoch 141/400\n",
      "1/1 [==============================] - 0s 50ms/step - loss: 0.6784 - val_loss: 0.1821\n",
      "Epoch 142/400\n",
      "1/1 [==============================] - 0s 41ms/step - loss: 0.6604 - val_loss: 0.1805\n",
      "Epoch 143/400\n",
      "1/1 [==============================] - 0s 41ms/step - loss: 0.6429 - val_loss: 0.1792\n",
      "Epoch 144/400\n",
      "1/1 [==============================] - 0s 45ms/step - loss: 0.6260 - val_loss: 0.1782\n",
      "Epoch 145/400\n",
      "1/1 [==============================] - 0s 38ms/step - loss: 0.6095 - val_loss: 0.1776\n",
      "Epoch 146/400\n",
      "1/1 [==============================] - 0s 38ms/step - loss: 0.5936 - val_loss: 0.1773\n",
      "Epoch 147/400\n",
      "1/1 [==============================] - 0s 41ms/step - loss: 0.5782 - val_loss: 0.1773\n",
      "Epoch 148/400\n",
      "1/1 [==============================] - 0s 20ms/step - loss: 0.5633 - val_loss: 0.1775\n",
      "Epoch 149/400\n",
      "1/1 [==============================] - 0s 22ms/step - loss: 0.5489 - val_loss: 0.1781\n",
      "Epoch 150/400\n",
      "1/1 [==============================] - 0s 23ms/step - loss: 0.5349 - val_loss: 0.1789\n",
      "Epoch 151/400\n",
      "1/1 [==============================] - 0s 23ms/step - loss: 0.5214 - val_loss: 0.1800\n",
      "Epoch 152/400\n",
      "1/1 [==============================] - 0s 22ms/step - loss: 0.5083 - val_loss: 0.1813\n",
      "Epoch 153/400\n",
      "1/1 [==============================] - 0s 19ms/step - loss: 0.4957 - val_loss: 0.1828\n",
      "Epoch 154/400\n",
      "1/1 [==============================] - 0s 20ms/step - loss: 0.4835 - val_loss: 0.1846\n",
      "Epoch 155/400\n",
      "1/1 [==============================] - 0s 20ms/step - loss: 0.4718 - val_loss: 0.1865\n",
      "Epoch 156/400\n",
      "1/1 [==============================] - 0s 21ms/step - loss: 0.4604 - val_loss: 0.1887\n",
      "Epoch 157/400\n",
      "1/1 [==============================] - 0s 20ms/step - loss: 0.4495 - val_loss: 0.1910\n",
      "Epoch 158/400\n",
      "1/1 [==============================] - 0s 19ms/step - loss: 0.4389 - val_loss: 0.1936\n",
      "Epoch 159/400\n",
      "1/1 [==============================] - 0s 19ms/step - loss: 0.4287 - val_loss: 0.1962\n",
      "Epoch 160/400\n",
      "1/1 [==============================] - 0s 20ms/step - loss: 0.4189 - val_loss: 0.1991\n",
      "Epoch 161/400\n",
      "1/1 [==============================] - 0s 20ms/step - loss: 0.4094 - val_loss: 0.2021\n",
      "Epoch 162/400\n",
      "1/1 [==============================] - 0s 18ms/step - loss: 0.4002 - val_loss: 0.2052\n",
      "Epoch 163/400\n",
      "1/1 [==============================] - 0s 22ms/step - loss: 0.3914 - val_loss: 0.2085\n",
      "Epoch 164/400\n",
      "1/1 [==============================] - 0s 21ms/step - loss: 0.3830 - val_loss: 0.2119\n",
      "Epoch 165/400\n",
      "1/1 [==============================] - 0s 19ms/step - loss: 0.3748 - val_loss: 0.2154\n",
      "Epoch 166/400\n",
      "1/1 [==============================] - 0s 19ms/step - loss: 0.3670 - val_loss: 0.2190\n",
      "Epoch 167/400\n",
      "1/1 [==============================] - 0s 20ms/step - loss: 0.3594 - val_loss: 0.2227\n",
      "Epoch 168/400\n",
      "1/1 [==============================] - 0s 19ms/step - loss: 0.3522 - val_loss: 0.2265\n",
      "Epoch 169/400\n",
      "1/1 [==============================] - 0s 20ms/step - loss: 0.3452 - val_loss: 0.2304\n",
      "Epoch 170/400\n",
      "1/1 [==============================] - 0s 22ms/step - loss: 0.3385 - val_loss: 0.2343\n",
      "Epoch 171/400\n",
      "1/1 [==============================] - 0s 21ms/step - loss: 0.3320 - val_loss: 0.2384\n",
      "Epoch 172/400\n",
      "1/1 [==============================] - 0s 20ms/step - loss: 0.3258 - val_loss: 0.2424\n",
      "Epoch 173/400\n",
      "1/1 [==============================] - 0s 21ms/step - loss: 0.3198 - val_loss: 0.2466\n",
      "Epoch 174/400\n",
      "1/1 [==============================] - 0s 19ms/step - loss: 0.3141 - val_loss: 0.2507\n",
      "Epoch 175/400\n",
      "1/1 [==============================] - 0s 20ms/step - loss: 0.3086 - val_loss: 0.2550\n",
      "Epoch 176/400\n",
      "1/1 [==============================] - 0s 19ms/step - loss: 0.3033 - val_loss: 0.2592\n",
      "Epoch 177/400\n",
      "1/1 [==============================] - 0s 20ms/step - loss: 0.2983 - val_loss: 0.2635\n",
      "Epoch 178/400\n",
      "1/1 [==============================] - 0s 20ms/step - loss: 0.2934 - val_loss: 0.2678\n",
      "Epoch 179/400\n",
      "1/1 [==============================] - 0s 19ms/step - loss: 0.2887 - val_loss: 0.2722\n",
      "Epoch 180/400\n",
      "1/1 [==============================] - 0s 20ms/step - loss: 0.2842 - val_loss: 0.2765\n",
      "Epoch 181/400\n",
      "1/1 [==============================] - 0s 21ms/step - loss: 0.2799 - val_loss: 0.2809\n",
      "Epoch 182/400\n",
      "1/1 [==============================] - 0s 21ms/step - loss: 0.2758 - val_loss: 0.2853\n",
      "Epoch 183/400\n",
      "1/1 [==============================] - 0s 22ms/step - loss: 0.2719 - val_loss: 0.2896\n",
      "Epoch 184/400\n",
      "1/1 [==============================] - 0s 26ms/step - loss: 0.2681 - val_loss: 0.2940\n",
      "Epoch 185/400\n",
      "1/1 [==============================] - 0s 20ms/step - loss: 0.2644 - val_loss: 0.2984\n",
      "Epoch 186/400\n",
      "1/1 [==============================] - 0s 24ms/step - loss: 0.2610 - val_loss: 0.3027\n",
      "Epoch 187/400\n",
      "1/1 [==============================] - 0s 23ms/step - loss: 0.2576 - val_loss: 0.3071\n",
      "Epoch 188/400\n",
      "1/1 [==============================] - 0s 20ms/step - loss: 0.2544 - val_loss: 0.3114\n",
      "Epoch 189/400\n",
      "1/1 [==============================] - 0s 20ms/step - loss: 0.2514 - val_loss: 0.3157\n",
      "Epoch 190/400\n",
      "1/1 [==============================] - 0s 21ms/step - loss: 0.2485 - val_loss: 0.3200\n",
      "Epoch 191/400\n",
      "1/1 [==============================] - 0s 23ms/step - loss: 0.2457 - val_loss: 0.3243\n",
      "Epoch 192/400\n",
      "1/1 [==============================] - 0s 20ms/step - loss: 0.2430 - val_loss: 0.3286\n",
      "Epoch 193/400\n",
      "1/1 [==============================] - 0s 21ms/step - loss: 0.2404 - val_loss: 0.3328\n",
      "Epoch 194/400\n",
      "1/1 [==============================] - 0s 24ms/step - loss: 0.2379 - val_loss: 0.3370\n",
      "Epoch 195/400\n",
      "1/1 [==============================] - 0s 23ms/step - loss: 0.2356 - val_loss: 0.3412\n",
      "Epoch 196/400\n",
      "1/1 [==============================] - 0s 21ms/step - loss: 0.2333 - val_loss: 0.3453\n",
      "Epoch 197/400\n",
      "1/1 [==============================] - 0s 29ms/step - loss: 0.2312 - val_loss: 0.3494\n",
      "Epoch 198/400\n",
      "1/1 [==============================] - 0s 20ms/step - loss: 0.2291 - val_loss: 0.3534\n",
      "Epoch 199/400\n",
      "1/1 [==============================] - 0s 21ms/step - loss: 0.2271 - val_loss: 0.3575\n",
      "Epoch 200/400\n",
      "1/1 [==============================] - 0s 21ms/step - loss: 0.2253 - val_loss: 0.3614\n",
      "Epoch 201/400\n",
      "1/1 [==============================] - 0s 20ms/step - loss: 0.2235 - val_loss: 0.3654\n",
      "Epoch 202/400\n",
      "1/1 [==============================] - 0s 19ms/step - loss: 0.2217 - val_loss: 0.3693\n",
      "Epoch 203/400\n",
      "1/1 [==============================] - 0s 19ms/step - loss: 0.2201 - val_loss: 0.3731\n",
      "Epoch 204/400\n",
      "1/1 [==============================] - 0s 20ms/step - loss: 0.2185 - val_loss: 0.3769\n",
      "Epoch 205/400\n",
      "1/1 [==============================] - 0s 19ms/step - loss: 0.2170 - val_loss: 0.3807\n",
      "Epoch 206/400\n",
      "1/1 [==============================] - 0s 21ms/step - loss: 0.2156 - val_loss: 0.3844\n",
      "Epoch 207/400\n",
      "1/1 [==============================] - 0s 21ms/step - loss: 0.2142 - val_loss: 0.3881\n",
      "Epoch 208/400\n",
      "1/1 [==============================] - 0s 26ms/step - loss: 0.2129 - val_loss: 0.3917\n",
      "Epoch 209/400\n",
      "1/1 [==============================] - 0s 21ms/step - loss: 0.2116 - val_loss: 0.3953\n",
      "Epoch 210/400\n",
      "1/1 [==============================] - 0s 30ms/step - loss: 0.2105 - val_loss: 0.3988\n",
      "Epoch 211/400\n",
      "1/1 [==============================] - 0s 22ms/step - loss: 0.2093 - val_loss: 0.4023\n",
      "Epoch 212/400\n",
      "1/1 [==============================] - 0s 20ms/step - loss: 0.2082 - val_loss: 0.4057\n",
      "Epoch 213/400\n",
      "1/1 [==============================] - 0s 20ms/step - loss: 0.2072 - val_loss: 0.4091\n",
      "Epoch 214/400\n",
      "1/1 [==============================] - 0s 19ms/step - loss: 0.2062 - val_loss: 0.4124\n",
      "Epoch 215/400\n",
      "1/1 [==============================] - 0s 19ms/step - loss: 0.2052 - val_loss: 0.4157\n",
      "Epoch 216/400\n",
      "1/1 [==============================] - 0s 20ms/step - loss: 0.2043 - val_loss: 0.4189\n",
      "Epoch 217/400\n",
      "1/1 [==============================] - 0s 23ms/step - loss: 0.2035 - val_loss: 0.4221\n",
      "Epoch 218/400\n",
      "1/1 [==============================] - 0s 25ms/step - loss: 0.2027 - val_loss: 0.4252\n",
      "Epoch 219/400\n",
      "1/1 [==============================] - 0s 25ms/step - loss: 0.2019 - val_loss: 0.4283\n",
      "Epoch 220/400\n",
      "1/1 [==============================] - 0s 24ms/step - loss: 0.2011 - val_loss: 0.4313\n",
      "Epoch 221/400\n",
      "1/1 [==============================] - 0s 25ms/step - loss: 0.2004 - val_loss: 0.4343\n",
      "Epoch 222/400\n",
      "1/1 [==============================] - 0s 25ms/step - loss: 0.1997 - val_loss: 0.4372\n",
      "Epoch 223/400\n",
      "1/1 [==============================] - 0s 21ms/step - loss: 0.1991 - val_loss: 0.4401\n",
      "Epoch 224/400\n",
      "1/1 [==============================] - 0s 24ms/step - loss: 0.1985 - val_loss: 0.4429\n",
      "Epoch 225/400\n",
      "1/1 [==============================] - 0s 24ms/step - loss: 0.1979 - val_loss: 0.4457\n",
      "Epoch 226/400\n",
      "1/1 [==============================] - 0s 21ms/step - loss: 0.1973 - val_loss: 0.4484\n",
      "Epoch 227/400\n",
      "1/1 [==============================] - 0s 24ms/step - loss: 0.1968 - val_loss: 0.4511\n",
      "Epoch 228/400\n",
      "1/1 [==============================] - 0s 22ms/step - loss: 0.1963 - val_loss: 0.4537\n",
      "Epoch 229/400\n",
      "1/1 [==============================] - 0s 22ms/step - loss: 0.1958 - val_loss: 0.4563\n",
      "Epoch 230/400\n",
      "1/1 [==============================] - 0s 21ms/step - loss: 0.1954 - val_loss: 0.4589\n",
      "Epoch 231/400\n",
      "1/1 [==============================] - 0s 23ms/step - loss: 0.1949 - val_loss: 0.4614\n",
      "Epoch 232/400\n",
      "1/1 [==============================] - 0s 21ms/step - loss: 0.1945 - val_loss: 0.4638\n",
      "Epoch 233/400\n",
      "1/1 [==============================] - 0s 20ms/step - loss: 0.1941 - val_loss: 0.4662\n",
      "Epoch 234/400\n",
      "1/1 [==============================] - 0s 48ms/step - loss: 0.1937 - val_loss: 0.4685\n",
      "Epoch 235/400\n",
      "1/1 [==============================] - 0s 24ms/step - loss: 0.1934 - val_loss: 0.4708\n",
      "Epoch 236/400\n",
      "1/1 [==============================] - 0s 22ms/step - loss: 0.1930 - val_loss: 0.4731\n",
      "Epoch 237/400\n",
      "1/1 [==============================] - 0s 23ms/step - loss: 0.1927 - val_loss: 0.4753\n",
      "Epoch 238/400\n",
      "1/1 [==============================] - 0s 19ms/step - loss: 0.1924 - val_loss: 0.4775\n",
      "Epoch 239/400\n",
      "1/1 [==============================] - 0s 20ms/step - loss: 0.1921 - val_loss: 0.4796\n",
      "Epoch 240/400\n",
      "1/1 [==============================] - 0s 22ms/step - loss: 0.1918 - val_loss: 0.4817\n",
      "Epoch 241/400\n",
      "1/1 [==============================] - 0s 21ms/step - loss: 0.1916 - val_loss: 0.4837\n",
      "Epoch 242/400\n",
      "1/1 [==============================] - 0s 22ms/step - loss: 0.1913 - val_loss: 0.4857\n",
      "Epoch 243/400\n",
      "1/1 [==============================] - 0s 23ms/step - loss: 0.1911 - val_loss: 0.4877\n",
      "Epoch 244/400\n",
      "1/1 [==============================] - 0s 33ms/step - loss: 0.1908 - val_loss: 0.4896\n",
      "Epoch 245/400\n",
      "1/1 [==============================] - 0s 22ms/step - loss: 0.1906 - val_loss: 0.4915\n",
      "Epoch 246/400\n",
      "1/1 [==============================] - 0s 22ms/step - loss: 0.1904 - val_loss: 0.4933\n",
      "Epoch 247/400\n",
      "1/1 [==============================] - 0s 24ms/step - loss: 0.1902 - val_loss: 0.4951\n",
      "Epoch 248/400\n",
      "1/1 [==============================] - 0s 24ms/step - loss: 0.1900 - val_loss: 0.4969\n",
      "Epoch 249/400\n",
      "1/1 [==============================] - 0s 21ms/step - loss: 0.1899 - val_loss: 0.4986\n",
      "Epoch 250/400\n",
      "1/1 [==============================] - 0s 22ms/step - loss: 0.1897 - val_loss: 0.5003\n",
      "Epoch 251/400\n",
      "1/1 [==============================] - 0s 26ms/step - loss: 0.1895 - val_loss: 0.5019\n",
      "Epoch 252/400\n",
      "1/1 [==============================] - 0s 21ms/step - loss: 0.1894 - val_loss: 0.5035\n",
      "Epoch 253/400\n",
      "1/1 [==============================] - 0s 21ms/step - loss: 0.1892 - val_loss: 0.5051\n",
      "Epoch 254/400\n",
      "1/1 [==============================] - 0s 19ms/step - loss: 0.1891 - val_loss: 0.5067\n",
      "Epoch 255/400\n",
      "1/1 [==============================] - 0s 20ms/step - loss: 0.1890 - val_loss: 0.5082\n",
      "Epoch 256/400\n",
      "1/1 [==============================] - 0s 19ms/step - loss: 0.1889 - val_loss: 0.5096\n",
      "Epoch 257/400\n",
      "1/1 [==============================] - 0s 21ms/step - loss: 0.1887 - val_loss: 0.5111\n",
      "Epoch 258/400\n",
      "1/1 [==============================] - 0s 20ms/step - loss: 0.1886 - val_loss: 0.5125\n",
      "Epoch 259/400\n",
      "1/1 [==============================] - 0s 19ms/step - loss: 0.1885 - val_loss: 0.5138\n",
      "Epoch 260/400\n",
      "1/1 [==============================] - 0s 21ms/step - loss: 0.1884 - val_loss: 0.5152\n",
      "Epoch 261/400\n",
      "1/1 [==============================] - 0s 22ms/step - loss: 0.1883 - val_loss: 0.5165\n",
      "Epoch 262/400\n",
      "1/1 [==============================] - 0s 20ms/step - loss: 0.1882 - val_loss: 0.5178\n",
      "Epoch 263/400\n",
      "1/1 [==============================] - 0s 22ms/step - loss: 0.1882 - val_loss: 0.5190\n",
      "Epoch 264/400\n",
      "1/1 [==============================] - 0s 21ms/step - loss: 0.1881 - val_loss: 0.5202\n",
      "Epoch 265/400\n",
      "1/1 [==============================] - 0s 19ms/step - loss: 0.1880 - val_loss: 0.5214\n",
      "Epoch 266/400\n",
      "1/1 [==============================] - 0s 21ms/step - loss: 0.1879 - val_loss: 0.5226\n",
      "Epoch 267/400\n",
      "1/1 [==============================] - 0s 21ms/step - loss: 0.1879 - val_loss: 0.5237\n",
      "Epoch 268/400\n",
      "1/1 [==============================] - 0s 20ms/step - loss: 0.1878 - val_loss: 0.5248\n",
      "Epoch 269/400\n",
      "1/1 [==============================] - 0s 21ms/step - loss: 0.1877 - val_loss: 0.5259\n",
      "Epoch 270/400\n",
      "1/1 [==============================] - 0s 21ms/step - loss: 0.1877 - val_loss: 0.5270\n",
      "Epoch 271/400\n",
      "1/1 [==============================] - 0s 23ms/step - loss: 0.1876 - val_loss: 0.5280\n",
      "Epoch 272/400\n",
      "1/1 [==============================] - 0s 22ms/step - loss: 0.1876 - val_loss: 0.5290\n",
      "Epoch 273/400\n",
      "1/1 [==============================] - 0s 23ms/step - loss: 0.1875 - val_loss: 0.5300\n",
      "Epoch 274/400\n",
      "1/1 [==============================] - 0s 42ms/step - loss: 0.1875 - val_loss: 0.5309\n",
      "Epoch 275/400\n",
      "1/1 [==============================] - 0s 21ms/step - loss: 0.1874 - val_loss: 0.5318\n",
      "Epoch 276/400\n",
      "1/1 [==============================] - 0s 30ms/step - loss: 0.1874 - val_loss: 0.5327\n",
      "Epoch 277/400\n",
      "1/1 [==============================] - 0s 24ms/step - loss: 0.1874 - val_loss: 0.5336\n",
      "Epoch 278/400\n",
      "1/1 [==============================] - 0s 22ms/step - loss: 0.1873 - val_loss: 0.5345\n",
      "Epoch 279/400\n",
      "1/1 [==============================] - 0s 22ms/step - loss: 0.1873 - val_loss: 0.5353\n",
      "Epoch 280/400\n",
      "1/1 [==============================] - 0s 26ms/step - loss: 0.1873 - val_loss: 0.5361\n",
      "Epoch 281/400\n",
      "1/1 [==============================] - 0s 24ms/step - loss: 0.1872 - val_loss: 0.5369\n",
      "Epoch 282/400\n",
      "1/1 [==============================] - 0s 25ms/step - loss: 0.1872 - val_loss: 0.5377\n",
      "Epoch 283/400\n",
      "1/1 [==============================] - 0s 26ms/step - loss: 0.1872 - val_loss: 0.5385\n",
      "Epoch 284/400\n",
      "1/1 [==============================] - 0s 30ms/step - loss: 0.1871 - val_loss: 0.5392\n",
      "Epoch 285/400\n",
      "1/1 [==============================] - 0s 24ms/step - loss: 0.1871 - val_loss: 0.5399\n",
      "Epoch 286/400\n",
      "1/1 [==============================] - 0s 35ms/step - loss: 0.1871 - val_loss: 0.5406\n",
      "Epoch 287/400\n",
      "1/1 [==============================] - 0s 23ms/step - loss: 0.1871 - val_loss: 0.5413\n",
      "Epoch 288/400\n",
      "1/1 [==============================] - 0s 22ms/step - loss: 0.1871 - val_loss: 0.5419\n",
      "Epoch 289/400\n",
      "1/1 [==============================] - 0s 29ms/step - loss: 0.1870 - val_loss: 0.5426\n",
      "Epoch 290/400\n",
      "1/1 [==============================] - 0s 26ms/step - loss: 0.1870 - val_loss: 0.5432\n",
      "Epoch 291/400\n",
      "1/1 [==============================] - 0s 34ms/step - loss: 0.1870 - val_loss: 0.5438\n",
      "Epoch 292/400\n",
      "1/1 [==============================] - 0s 23ms/step - loss: 0.1870 - val_loss: 0.5444\n",
      "Epoch 293/400\n",
      "1/1 [==============================] - 0s 24ms/step - loss: 0.1870 - val_loss: 0.5450\n",
      "Epoch 294/400\n",
      "1/1 [==============================] - 0s 43ms/step - loss: 0.1869 - val_loss: 0.5455\n",
      "Epoch 295/400\n",
      "1/1 [==============================] - 0s 24ms/step - loss: 0.1869 - val_loss: 0.5461\n",
      "Epoch 296/400\n",
      "1/1 [==============================] - 0s 25ms/step - loss: 0.1869 - val_loss: 0.5466\n",
      "Epoch 297/400\n",
      "1/1 [==============================] - 0s 25ms/step - loss: 0.1869 - val_loss: 0.5471\n",
      "Epoch 298/400\n",
      "1/1 [==============================] - 0s 23ms/step - loss: 0.1869 - val_loss: 0.5476\n",
      "Epoch 299/400\n",
      "1/1 [==============================] - 0s 52ms/step - loss: 0.1869 - val_loss: 0.5481\n",
      "Epoch 300/400\n",
      "1/1 [==============================] - 0s 22ms/step - loss: 0.1869 - val_loss: 0.5486\n",
      "Epoch 301/400\n",
      "1/1 [==============================] - 0s 23ms/step - loss: 0.1869 - val_loss: 0.5490\n",
      "Epoch 302/400\n",
      "1/1 [==============================] - 0s 28ms/step - loss: 0.1869 - val_loss: 0.5495\n",
      "Epoch 303/400\n",
      "1/1 [==============================] - 0s 58ms/step - loss: 0.1868 - val_loss: 0.5499\n",
      "Epoch 304/400\n",
      "1/1 [==============================] - 0s 27ms/step - loss: 0.1868 - val_loss: 0.5503\n",
      "Epoch 305/400\n",
      "1/1 [==============================] - 0s 24ms/step - loss: 0.1868 - val_loss: 0.5507\n",
      "Epoch 306/400\n",
      "1/1 [==============================] - 0s 25ms/step - loss: 0.1868 - val_loss: 0.5511\n",
      "Epoch 307/400\n",
      "1/1 [==============================] - 0s 41ms/step - loss: 0.1868 - val_loss: 0.5515\n",
      "Epoch 308/400\n",
      "1/1 [==============================] - 0s 24ms/step - loss: 0.1868 - val_loss: 0.5519\n",
      "Epoch 309/400\n",
      "1/1 [==============================] - 0s 24ms/step - loss: 0.1868 - val_loss: 0.5523\n",
      "Epoch 310/400\n",
      "1/1 [==============================] - 0s 33ms/step - loss: 0.1868 - val_loss: 0.5526\n",
      "Epoch 311/400\n",
      "1/1 [==============================] - 0s 45ms/step - loss: 0.1868 - val_loss: 0.5530\n",
      "Epoch 312/400\n",
      "1/1 [==============================] - 0s 36ms/step - loss: 0.1868 - val_loss: 0.5533\n",
      "Epoch 313/400\n",
      "1/1 [==============================] - 0s 41ms/step - loss: 0.1868 - val_loss: 0.5536\n",
      "Epoch 314/400\n",
      "1/1 [==============================] - 0s 24ms/step - loss: 0.1868 - val_loss: 0.5539\n",
      "Epoch 315/400\n",
      "1/1 [==============================] - 0s 40ms/step - loss: 0.1868 - val_loss: 0.5542\n",
      "Epoch 316/400\n",
      "1/1 [==============================] - 0s 23ms/step - loss: 0.1868 - val_loss: 0.5545\n",
      "Epoch 317/400\n",
      "1/1 [==============================] - 0s 24ms/step - loss: 0.1868 - val_loss: 0.5548\n",
      "Epoch 318/400\n",
      "1/1 [==============================] - 0s 29ms/step - loss: 0.1868 - val_loss: 0.5551\n",
      "Epoch 319/400\n",
      "1/1 [==============================] - 0s 23ms/step - loss: 0.1868 - val_loss: 0.5554\n",
      "Epoch 320/400\n",
      "1/1 [==============================] - 0s 37ms/step - loss: 0.1868 - val_loss: 0.5556\n",
      "Epoch 321/400\n",
      "1/1 [==============================] - 0s 21ms/step - loss: 0.1868 - val_loss: 0.5559\n",
      "Epoch 322/400\n",
      "1/1 [==============================] - 0s 22ms/step - loss: 0.1868 - val_loss: 0.5561\n",
      "Epoch 323/400\n",
      "1/1 [==============================] - 0s 21ms/step - loss: 0.1868 - val_loss: 0.5564\n",
      "Epoch 324/400\n",
      "1/1 [==============================] - 0s 23ms/step - loss: 0.1867 - val_loss: 0.5566\n",
      "Epoch 325/400\n",
      "1/1 [==============================] - 0s 28ms/step - loss: 0.1867 - val_loss: 0.5568\n",
      "Epoch 326/400\n",
      "1/1 [==============================] - 0s 25ms/step - loss: 0.1867 - val_loss: 0.5570\n",
      "Epoch 327/400\n",
      "1/1 [==============================] - 0s 24ms/step - loss: 0.1867 - val_loss: 0.5572\n",
      "Epoch 328/400\n",
      "1/1 [==============================] - 0s 27ms/step - loss: 0.1867 - val_loss: 0.5574\n",
      "Epoch 329/400\n",
      "1/1 [==============================] - 0s 25ms/step - loss: 0.1867 - val_loss: 0.5576\n",
      "Epoch 330/400\n",
      "1/1 [==============================] - 0s 24ms/step - loss: 0.1867 - val_loss: 0.5578\n",
      "Epoch 331/400\n",
      "1/1 [==============================] - 0s 21ms/step - loss: 0.1867 - val_loss: 0.5580\n",
      "Epoch 332/400\n",
      "1/1 [==============================] - 0s 23ms/step - loss: 0.1867 - val_loss: 0.5582\n",
      "Epoch 333/400\n",
      "1/1 [==============================] - 0s 24ms/step - loss: 0.1867 - val_loss: 0.5584\n",
      "Epoch 334/400\n",
      "1/1 [==============================] - 0s 28ms/step - loss: 0.1867 - val_loss: 0.5585\n",
      "Epoch 335/400\n",
      "1/1 [==============================] - 0s 24ms/step - loss: 0.1867 - val_loss: 0.5587\n",
      "Epoch 336/400\n",
      "1/1 [==============================] - 0s 23ms/step - loss: 0.1867 - val_loss: 0.5589\n",
      "Epoch 337/400\n",
      "1/1 [==============================] - 0s 27ms/step - loss: 0.1867 - val_loss: 0.5590\n",
      "Epoch 338/400\n",
      "1/1 [==============================] - 0s 31ms/step - loss: 0.1867 - val_loss: 0.5592\n",
      "Epoch 339/400\n",
      "1/1 [==============================] - 0s 54ms/step - loss: 0.1867 - val_loss: 0.5593\n",
      "Epoch 340/400\n",
      "1/1 [==============================] - 0s 24ms/step - loss: 0.1867 - val_loss: 0.5594\n",
      "Epoch 341/400\n",
      "1/1 [==============================] - 0s 23ms/step - loss: 0.1867 - val_loss: 0.5596\n",
      "Epoch 342/400\n",
      "1/1 [==============================] - 0s 23ms/step - loss: 0.1867 - val_loss: 0.5597\n",
      "Epoch 343/400\n",
      "1/1 [==============================] - 0s 50ms/step - loss: 0.1867 - val_loss: 0.5598\n",
      "Epoch 344/400\n",
      "1/1 [==============================] - 0s 23ms/step - loss: 0.1867 - val_loss: 0.5599\n",
      "Epoch 345/400\n",
      "1/1 [==============================] - 0s 21ms/step - loss: 0.1867 - val_loss: 0.5601\n",
      "Epoch 346/400\n",
      "1/1 [==============================] - 0s 22ms/step - loss: 0.1867 - val_loss: 0.5602\n",
      "Epoch 347/400\n",
      "1/1 [==============================] - 0s 22ms/step - loss: 0.1867 - val_loss: 0.5603\n",
      "Epoch 348/400\n",
      "1/1 [==============================] - 0s 24ms/step - loss: 0.1867 - val_loss: 0.5604\n",
      "Epoch 349/400\n",
      "1/1 [==============================] - 0s 25ms/step - loss: 0.1867 - val_loss: 0.5605\n",
      "Epoch 350/400\n",
      "1/1 [==============================] - 0s 24ms/step - loss: 0.1867 - val_loss: 0.5606\n",
      "Epoch 351/400\n",
      "1/1 [==============================] - 0s 47ms/step - loss: 0.1867 - val_loss: 0.5607\n",
      "Epoch 352/400\n",
      "1/1 [==============================] - 0s 21ms/step - loss: 0.1867 - val_loss: 0.5608\n",
      "Epoch 353/400\n",
      "1/1 [==============================] - 0s 22ms/step - loss: 0.1867 - val_loss: 0.5609\n",
      "Epoch 354/400\n",
      "1/1 [==============================] - 0s 22ms/step - loss: 0.1867 - val_loss: 0.5609\n",
      "Epoch 355/400\n",
      "1/1 [==============================] - 0s 21ms/step - loss: 0.1867 - val_loss: 0.5610\n",
      "Epoch 356/400\n",
      "1/1 [==============================] - 0s 73ms/step - loss: 0.1867 - val_loss: 0.5611\n",
      "Epoch 357/400\n",
      "1/1 [==============================] - 0s 21ms/step - loss: 0.1867 - val_loss: 0.5612\n",
      "Epoch 358/400\n",
      "1/1 [==============================] - 0s 23ms/step - loss: 0.1867 - val_loss: 0.5613\n",
      "Epoch 359/400\n",
      "1/1 [==============================] - 0s 26ms/step - loss: 0.1867 - val_loss: 0.5613\n",
      "Epoch 360/400\n",
      "1/1 [==============================] - 0s 27ms/step - loss: 0.1867 - val_loss: 0.5614\n",
      "Epoch 361/400\n",
      "1/1 [==============================] - 0s 21ms/step - loss: 0.1867 - val_loss: 0.5615\n",
      "Epoch 362/400\n",
      "1/1 [==============================] - 0s 23ms/step - loss: 0.1867 - val_loss: 0.5615\n",
      "Epoch 363/400\n",
      "1/1 [==============================] - 0s 56ms/step - loss: 0.1867 - val_loss: 0.5616\n",
      "Epoch 364/400\n",
      "1/1 [==============================] - 0s 30ms/step - loss: 0.1867 - val_loss: 0.5616\n",
      "Epoch 365/400\n",
      "1/1 [==============================] - 0s 34ms/step - loss: 0.1867 - val_loss: 0.5617\n",
      "Epoch 366/400\n",
      "1/1 [==============================] - 0s 21ms/step - loss: 0.1867 - val_loss: 0.5618\n",
      "Epoch 367/400\n",
      "1/1 [==============================] - 0s 22ms/step - loss: 0.1867 - val_loss: 0.5618\n",
      "Epoch 368/400\n",
      "1/1 [==============================] - 0s 23ms/step - loss: 0.1867 - val_loss: 0.5619\n",
      "Epoch 369/400\n",
      "1/1 [==============================] - 0s 23ms/step - loss: 0.1867 - val_loss: 0.5619\n",
      "Epoch 370/400\n",
      "1/1 [==============================] - 0s 25ms/step - loss: 0.1867 - val_loss: 0.5620\n",
      "Epoch 371/400\n",
      "1/1 [==============================] - 0s 28ms/step - loss: 0.1867 - val_loss: 0.5620\n",
      "Epoch 372/400\n",
      "1/1 [==============================] - 0s 24ms/step - loss: 0.1867 - val_loss: 0.5620\n",
      "Epoch 373/400\n",
      "1/1 [==============================] - 0s 22ms/step - loss: 0.1867 - val_loss: 0.5621\n",
      "Epoch 374/400\n",
      "1/1 [==============================] - 0s 22ms/step - loss: 0.1867 - val_loss: 0.5621\n",
      "Epoch 375/400\n",
      "1/1 [==============================] - 0s 34ms/step - loss: 0.1867 - val_loss: 0.5622\n",
      "Epoch 376/400\n",
      "1/1 [==============================] - 0s 22ms/step - loss: 0.1867 - val_loss: 0.5622\n",
      "Epoch 377/400\n",
      "1/1 [==============================] - 0s 22ms/step - loss: 0.1867 - val_loss: 0.5622\n",
      "Epoch 378/400\n",
      "1/1 [==============================] - 0s 21ms/step - loss: 0.1867 - val_loss: 0.5623\n",
      "Epoch 379/400\n",
      "1/1 [==============================] - 0s 26ms/step - loss: 0.1867 - val_loss: 0.5623\n",
      "Epoch 380/400\n",
      "1/1 [==============================] - 0s 24ms/step - loss: 0.1867 - val_loss: 0.5623\n",
      "Epoch 381/400\n",
      "1/1 [==============================] - 0s 22ms/step - loss: 0.1867 - val_loss: 0.5624\n",
      "Epoch 382/400\n",
      "1/1 [==============================] - 0s 22ms/step - loss: 0.1867 - val_loss: 0.5624\n",
      "Epoch 383/400\n",
      "1/1 [==============================] - 0s 23ms/step - loss: 0.1867 - val_loss: 0.5624\n",
      "Epoch 384/400\n",
      "1/1 [==============================] - 0s 22ms/step - loss: 0.1867 - val_loss: 0.5625\n",
      "Epoch 385/400\n",
      "1/1 [==============================] - 0s 27ms/step - loss: 0.1867 - val_loss: 0.5625\n",
      "Epoch 386/400\n",
      "1/1 [==============================] - 0s 26ms/step - loss: 0.1867 - val_loss: 0.5625\n",
      "Epoch 387/400\n",
      "1/1 [==============================] - 0s 23ms/step - loss: 0.1867 - val_loss: 0.5625\n",
      "Epoch 388/400\n",
      "1/1 [==============================] - 0s 30ms/step - loss: 0.1867 - val_loss: 0.5626\n",
      "Epoch 389/400\n",
      "1/1 [==============================] - 0s 38ms/step - loss: 0.1867 - val_loss: 0.5626\n",
      "Epoch 390/400\n",
      "1/1 [==============================] - 0s 24ms/step - loss: 0.1867 - val_loss: 0.5626\n",
      "Epoch 391/400\n",
      "1/1 [==============================] - 0s 30ms/step - loss: 0.1867 - val_loss: 0.5626\n",
      "Epoch 392/400\n",
      "1/1 [==============================] - 0s 32ms/step - loss: 0.1867 - val_loss: 0.5626\n",
      "Epoch 393/400\n",
      "1/1 [==============================] - 0s 62ms/step - loss: 0.1867 - val_loss: 0.5627\n",
      "Epoch 394/400\n",
      "1/1 [==============================] - 0s 39ms/step - loss: 0.1867 - val_loss: 0.5627\n",
      "Epoch 395/400\n",
      "1/1 [==============================] - 0s 29ms/step - loss: 0.1867 - val_loss: 0.5627\n",
      "Epoch 396/400\n",
      "1/1 [==============================] - 0s 23ms/step - loss: 0.1867 - val_loss: 0.5627\n",
      "Epoch 397/400\n",
      "1/1 [==============================] - 0s 47ms/step - loss: 0.1867 - val_loss: 0.5627\n",
      "Epoch 398/400\n",
      "1/1 [==============================] - 0s 28ms/step - loss: 0.1867 - val_loss: 0.5627\n",
      "Epoch 399/400\n",
      "1/1 [==============================] - 0s 21ms/step - loss: 0.1867 - val_loss: 0.5628\n",
      "Epoch 400/400\n",
      "1/1 [==============================] - 0s 26ms/step - loss: 0.1867 - val_loss: 0.5628\n",
      "Model: \"sequential_29\"\n",
      "_________________________________________________________________\n",
      " Layer (type)                Output Shape              Param #   \n",
      "=================================================================\n",
      " lstm_23 (LSTM)              (None, None, 10)          480       \n",
      "                                                                 \n",
      " lstm_24 (LSTM)              (None, 10)                840       \n",
      "                                                                 \n",
      " dense_29 (Dense)            (None, 1)                 11        \n",
      "                                                                 \n",
      "=================================================================\n",
      "Total params: 1,331\n",
      "Trainable params: 1,331\n",
      "Non-trainable params: 0\n",
      "_________________________________________________________________\n"
     ]
    }
   ],
   "source": [
    "model_double_lstm, train_history_double_ltsm = neural_net_time_series(\n",
    "    train_X,\n",
    "    train_y,\n",
    "    test_X,\n",
    "    test_y,\n",
    "    cell_units=10,\n",
    "    epochs=400,\n",
    "    core_model=KerasCoreModel.lstm,\n",
    "    n_layers=2,\n",
    "    model_name=\"double_ltsm\",\n",
    ")"
   ],
   "metadata": {
    "collapsed": false,
    "pycharm": {
     "name": "#%%\n"
    }
   }
  },
  {
   "cell_type": "code",
   "execution_count": 245,
   "outputs": [
    {
     "name": "stdout",
     "output_type": "stream",
     "text": [
      "MAE: 0.1773, MAPE: 0.0876\n"
     ]
    }
   ],
   "source": [
    "model_double_lstm = keras.models.load_model(\"models/double_ltsm.h5\")\n",
    "y_pred_2lstm = model_double_lstm.predict(test_X).flatten()\n",
    "print(\n",
    "    f\"MAE: {mean_squared_error(y_true, y_pred_2lstm):.4f}, MAPE: {mean_absolute_percentage_error(y_true, y_pred_2lstm):.4f}\"\n",
    ")"
   ],
   "metadata": {
    "collapsed": false,
    "pycharm": {
     "name": "#%%\n"
    }
   }
  },
  {
   "cell_type": "code",
   "execution_count": 246,
   "outputs": [
    {
     "data": {
      "text/plain": "          loss   val_loss\n0    20.397760  14.969345\n1    20.160313  14.767198\n2    19.921362  14.564003\n3    19.680882  14.359749\n4    19.438869  14.154431\n..         ...        ...\n395   0.186689   0.562713\n396   0.186689   0.562730\n397   0.186688   0.562744\n398   0.186688   0.562759\n399   0.186687   0.562773\n\n[400 rows x 2 columns]",
      "text/html": "<div>\n<style scoped>\n    .dataframe tbody tr th:only-of-type {\n        vertical-align: middle;\n    }\n\n    .dataframe tbody tr th {\n        vertical-align: top;\n    }\n\n    .dataframe thead th {\n        text-align: right;\n    }\n</style>\n<table border=\"1\" class=\"dataframe\">\n  <thead>\n    <tr style=\"text-align: right;\">\n      <th></th>\n      <th>loss</th>\n      <th>val_loss</th>\n    </tr>\n  </thead>\n  <tbody>\n    <tr>\n      <th>0</th>\n      <td>20.397760</td>\n      <td>14.969345</td>\n    </tr>\n    <tr>\n      <th>1</th>\n      <td>20.160313</td>\n      <td>14.767198</td>\n    </tr>\n    <tr>\n      <th>2</th>\n      <td>19.921362</td>\n      <td>14.564003</td>\n    </tr>\n    <tr>\n      <th>3</th>\n      <td>19.680882</td>\n      <td>14.359749</td>\n    </tr>\n    <tr>\n      <th>4</th>\n      <td>19.438869</td>\n      <td>14.154431</td>\n    </tr>\n    <tr>\n      <th>...</th>\n      <td>...</td>\n      <td>...</td>\n    </tr>\n    <tr>\n      <th>395</th>\n      <td>0.186689</td>\n      <td>0.562713</td>\n    </tr>\n    <tr>\n      <th>396</th>\n      <td>0.186689</td>\n      <td>0.562730</td>\n    </tr>\n    <tr>\n      <th>397</th>\n      <td>0.186688</td>\n      <td>0.562744</td>\n    </tr>\n    <tr>\n      <th>398</th>\n      <td>0.186688</td>\n      <td>0.562759</td>\n    </tr>\n    <tr>\n      <th>399</th>\n      <td>0.186687</td>\n      <td>0.562773</td>\n    </tr>\n  </tbody>\n</table>\n<p>400 rows × 2 columns</p>\n</div>"
     },
     "metadata": {},
     "output_type": "display_data"
    },
    {
     "data": {
      "application/vnd.plotly.v1+json": {
       "data": [
        {
         "hovertemplate": "variable=loss<br>index=%{x}<br>value=%{y}<extra></extra>",
         "legendgroup": "loss",
         "line": {
          "color": "#636efa",
          "dash": "solid"
         },
         "marker": {
          "symbol": "circle"
         },
         "mode": "lines",
         "name": "loss",
         "orientation": "v",
         "showlegend": true,
         "x": [
          0,
          1,
          2,
          3,
          4,
          5,
          6,
          7,
          8,
          9,
          10,
          11,
          12,
          13,
          14,
          15,
          16,
          17,
          18,
          19,
          20,
          21,
          22,
          23,
          24,
          25,
          26,
          27,
          28,
          29,
          30,
          31,
          32,
          33,
          34,
          35,
          36,
          37,
          38,
          39,
          40,
          41,
          42,
          43,
          44,
          45,
          46,
          47,
          48,
          49,
          50,
          51,
          52,
          53,
          54,
          55,
          56,
          57,
          58,
          59,
          60,
          61,
          62,
          63,
          64,
          65,
          66,
          67,
          68,
          69,
          70,
          71,
          72,
          73,
          74,
          75,
          76,
          77,
          78,
          79,
          80,
          81,
          82,
          83,
          84,
          85,
          86,
          87,
          88,
          89,
          90,
          91,
          92,
          93,
          94,
          95,
          96,
          97,
          98,
          99,
          100,
          101,
          102,
          103,
          104,
          105,
          106,
          107,
          108,
          109,
          110,
          111,
          112,
          113,
          114,
          115,
          116,
          117,
          118,
          119,
          120,
          121,
          122,
          123,
          124,
          125,
          126,
          127,
          128,
          129,
          130,
          131,
          132,
          133,
          134,
          135,
          136,
          137,
          138,
          139,
          140,
          141,
          142,
          143,
          144,
          145,
          146,
          147,
          148,
          149,
          150,
          151,
          152,
          153,
          154,
          155,
          156,
          157,
          158,
          159,
          160,
          161,
          162,
          163,
          164,
          165,
          166,
          167,
          168,
          169,
          170,
          171,
          172,
          173,
          174,
          175,
          176,
          177,
          178,
          179,
          180,
          181,
          182,
          183,
          184,
          185,
          186,
          187,
          188,
          189,
          190,
          191,
          192,
          193,
          194,
          195,
          196,
          197,
          198,
          199,
          200,
          201,
          202,
          203,
          204,
          205,
          206,
          207,
          208,
          209,
          210,
          211,
          212,
          213,
          214,
          215,
          216,
          217,
          218,
          219,
          220,
          221,
          222,
          223,
          224,
          225,
          226,
          227,
          228,
          229,
          230,
          231,
          232,
          233,
          234,
          235,
          236,
          237,
          238,
          239,
          240,
          241,
          242,
          243,
          244,
          245,
          246,
          247,
          248,
          249,
          250,
          251,
          252,
          253,
          254,
          255,
          256,
          257,
          258,
          259,
          260,
          261,
          262,
          263,
          264,
          265,
          266,
          267,
          268,
          269,
          270,
          271,
          272,
          273,
          274,
          275,
          276,
          277,
          278,
          279,
          280,
          281,
          282,
          283,
          284,
          285,
          286,
          287,
          288,
          289,
          290,
          291,
          292,
          293,
          294,
          295,
          296,
          297,
          298,
          299,
          300,
          301,
          302,
          303,
          304,
          305,
          306,
          307,
          308,
          309,
          310,
          311,
          312,
          313,
          314,
          315,
          316,
          317,
          318,
          319,
          320,
          321,
          322,
          323,
          324,
          325,
          326,
          327,
          328,
          329,
          330,
          331,
          332,
          333,
          334,
          335,
          336,
          337,
          338,
          339,
          340,
          341,
          342,
          343,
          344,
          345,
          346,
          347,
          348,
          349,
          350,
          351,
          352,
          353,
          354,
          355,
          356,
          357,
          358,
          359,
          360,
          361,
          362,
          363,
          364,
          365,
          366,
          367,
          368,
          369,
          370,
          371,
          372,
          373,
          374,
          375,
          376,
          377,
          378,
          379,
          380,
          381,
          382,
          383,
          384,
          385,
          386,
          387,
          388,
          389,
          390,
          391,
          392,
          393,
          394,
          395,
          396,
          397,
          398,
          399
         ],
         "xaxis": "x",
         "y": [
          20.39776039123535,
          20.16031265258789,
          19.921361923217773,
          19.68088150024414,
          19.43886947631836,
          19.19533348083496,
          18.950288772583008,
          18.703720092773438,
          18.45560073852539,
          18.205913543701172,
          17.95465850830078,
          17.701875686645508,
          17.44762420654297,
          17.191984176635742,
          16.9350528717041,
          16.676925659179688,
          16.417722702026367,
          16.15756607055664,
          15.896589279174805,
          15.634933471679688,
          15.372749328613281,
          15.110194206237793,
          14.847433090209961,
          14.584633827209473,
          14.32197093963623,
          14.059623718261719,
          13.797767639160156,
          13.536582946777344,
          13.276249885559082,
          13.01694393157959,
          12.758842468261719,
          12.502119064331055,
          12.24693775177002,
          11.993463516235352,
          11.741849899291992,
          11.492246627807617,
          11.244790077209473,
          10.999617576599121,
          10.75684928894043,
          10.516596794128418,
          10.27896785736084,
          10.044060707092285,
          9.811958312988281,
          9.582743644714355,
          9.356491088867188,
          9.133261680603027,
          8.913119316101074,
          8.69611930847168,
          8.48231029510498,
          8.27173900604248,
          8.064452171325684,
          7.8604888916015625,
          7.659886837005615,
          7.462687015533447,
          7.2689208984375,
          7.0786261558532715,
          6.891834259033203,
          6.708576202392578,
          6.5288825035095215,
          6.352783203125,
          6.180301666259766,
          6.011462688446045,
          5.846285343170166,
          5.684788703918457,
          5.526984691619873,
          5.372881889343262,
          5.2224812507629395,
          5.07578182220459,
          4.932774543762207,
          4.793446063995361,
          4.657773494720459,
          4.525730133056641,
          4.397281646728516,
          4.2723894119262695,
          4.151004791259766,
          4.033078193664551,
          3.918551206588745,
          3.8073642253875732,
          3.699450969696045,
          3.594740152359009,
          3.4931628704071045,
          3.394641876220703,
          3.2990994453430176,
          3.2064590454101562,
          3.1166396141052246,
          3.029561996459961,
          2.9451451301574707,
          2.8633086681365967,
          2.7839736938476562,
          2.707059621810913,
          2.632490396499634,
          2.5601871013641357,
          2.490074634552002,
          2.4220805168151855,
          2.356131076812744,
          2.2921557426452637,
          2.2300865650177,
          2.169856309890747,
          2.111400604248047,
          2.0546557903289795,
          1.9995625019073486,
          1.9460608959197998,
          1.8940954208374023,
          1.843610167503357,
          1.7945525646209717,
          1.7468725442886353,
          1.700520634651184,
          1.6554491519927979,
          1.6116142272949219,
          1.5689716339111328,
          1.5274795293807983,
          1.4870986938476562,
          1.4477908611297607,
          1.4095197916030884,
          1.3722505569458008,
          1.3359508514404297,
          1.300589680671692,
          1.2661372423171997,
          1.2325655221939087,
          1.1998497247695923,
          1.1679638624191284,
          1.1368865966796875,
          1.1065952777862549,
          1.0770710706710815,
          1.0482944250106812,
          1.0202492475509644,
          0.9929192662239075,
          0.9662887454032898,
          0.9403451681137085,
          0.9150744676589966,
          0.8904648423194885,
          0.8665048480033875,
          0.8431836366653442,
          0.8204905390739441,
          0.7984151840209961,
          0.7769481539726257,
          0.7560795545578003,
          0.7358000874519348,
          0.7161003351211548,
          0.6969707608222961,
          0.6784016489982605,
          0.6603838205337524,
          0.6429072618484497,
          0.6259626746177673,
          0.6095396876335144,
          0.5936289429664612,
          0.5782202482223511,
          0.5633031725883484,
          0.5488674640655518,
          0.5349026918411255,
          0.5213989615440369,
          0.5083450675010681,
          0.4957309663295746,
          0.48354583978652954,
          0.4717792570590973,
          0.4604201018810272,
          0.4494585394859314,
          0.43888357281684875,
          0.4286850094795227,
          0.4188527762889862,
          0.40937623381614685,
          0.40024492144584656,
          0.3914490342140198,
          0.382979154586792,
          0.37482473254203796,
          0.36697623133659363,
          0.35942456126213074,
          0.3521598279476166,
          0.3451736271381378,
          0.3384559452533722,
          0.3319990336894989,
          0.32579365372657776,
          0.31983116269111633,
          0.31410399079322815,
          0.3086036145687103,
          0.30332231521606445,
          0.29825231432914734,
          0.29338666796684265,
          0.28871726989746094,
          0.2842375934123993,
          0.2799404263496399,
          0.2758198082447052,
          0.27186843752861023,
          0.2680807411670685,
          0.2644498646259308,
          0.2609706223011017,
          0.2576371729373932,
          0.25444337725639343,
          0.25138428807258606,
          0.24845506250858307,
          0.24565009772777557,
          0.2429647147655487,
          0.24039407074451447,
          0.237933948636055,
          0.2355799823999405,
          0.23332776129245758,
          0.23117312788963318,
          0.22911246120929718,
          0.22714188694953918,
          0.2252575010061264,
          0.223456010222435,
          0.22173404693603516,
          0.22008803486824036,
          0.2185153067111969,
          0.21701255440711975,
          0.21557685732841492,
          0.21420550346374512,
          0.2128957360982895,
          0.21164502203464508,
          0.2104508876800537,
          0.20931069552898407,
          0.20822252333164215,
          0.20718391239643097,
          0.20619270205497742,
          0.20524711906909943,
          0.2043450027704239,
          0.20348450541496277,
          0.2026636302471161,
          0.20188109576702118,
          0.20113489031791687,
          0.20042352378368378,
          0.19974550604820251,
          0.19909921288490295,
          0.1984834372997284,
          0.19789664447307587,
          0.19733765721321106,
          0.19680513441562653,
          0.1962980031967163,
          0.19581522047519684,
          0.1953554004430771,
          0.19491764903068542,
          0.19450105726718903,
          0.19410458207130432,
          0.19372715055942535,
          0.19336827099323273,
          0.19302675127983093,
          0.19270186126232147,
          0.192392960190773,
          0.19209925830364227,
          0.19181998074054718,
          0.19155444204807281,
          0.19130219519138336,
          0.1910623013973236,
          0.19083452224731445,
          0.19061803817749023,
          0.19041238725185394,
          0.19021712243556976,
          0.19003166258335114,
          0.18985560536384583,
          0.18968847393989563,
          0.18952973186969757,
          0.18937914073467255,
          0.18923620879650116,
          0.18910057842731476,
          0.1889721155166626,
          0.18885008990764618,
          0.18873444199562073,
          0.18862475454807281,
          0.18852080404758453,
          0.18842218816280365,
          0.188328817486763,
          0.18824031949043274,
          0.18815644085407257,
          0.18807704746723175,
          0.18800173699855804,
          0.18793055415153503,
          0.18786297738552094,
          0.18779917061328888,
          0.18773864209651947,
          0.1876814067363739,
          0.18762728571891785,
          0.18757610023021698,
          0.18752746284008026,
          0.18748171627521515,
          0.18743832409381866,
          0.1873973160982132,
          0.1873585432767868,
          0.18732193112373352,
          0.18728730082511902,
          0.1872546374797821,
          0.18722371757030487,
          0.1871943473815918,
          0.1871667355298996,
          0.18714074790477753,
          0.1871161311864853,
          0.1870928555727005,
          0.18707092106342316,
          0.18705017864704132,
          0.18703055381774902,
          0.18701209127902985,
          0.18699471652507782,
          0.1869783252477646,
          0.18696273863315582,
          0.18694810569286346,
          0.18693433701992035,
          0.18692122399806976,
          0.18690893054008484,
          0.18689744174480438,
          0.1868864744901657,
          0.18687617778778076,
          0.18686653673648834,
          0.18685735762119293,
          0.1868487149477005,
          0.18684051930904388,
          0.18683280050754547,
          0.18682564795017242,
          0.18681876361370087,
          0.1868124008178711,
          0.18680629134178162,
          0.18680058419704437,
          0.1867952197790146,
          0.1867900937795639,
          0.18678538501262665,
          0.18678084015846252,
          0.18677660822868347,
          0.18677258491516113,
          0.1867688000202179,
          0.1867651641368866,
          0.1867617517709732,
          0.1867585927248001,
          0.18675556778907776,
          0.18675272166728973,
          0.18675003945827484,
          0.1867474764585495,
          0.18674509227275848,
          0.18674281239509583,
          0.1867407113313675,
          0.18673864006996155,
          0.18673671782016754,
          0.18673484027385712,
          0.18673311173915863,
          0.18673141300678253,
          0.18672995269298553,
          0.18672847747802734,
          0.18672704696655273,
          0.1867257058620453,
          0.18672434985637665,
          0.18672320246696472,
          0.18672193586826324,
          0.1867208480834961,
          0.18671979010105133,
          0.18671880662441254,
          0.18671777844429016,
          0.18671680986881256,
          0.18671594560146332,
          0.18671517074108124,
          0.186714306473732,
          0.18671342730522156,
          0.18671266734600067,
          0.18671190738677979,
          0.18671119213104248,
          0.18671049177646637,
          0.18670985102653503,
          0.1867092102766037,
          0.18670853972434998,
          0.18670794367790222,
          0.1867073029279709,
          0.18670673668384552,
          0.18670617043972015,
          0.1867056041955948,
          0.18670499324798584,
          0.18670451641082764,
          0.1867038905620575,
          0.1867033988237381,
          0.18670286238193512,
          0.1867024153470993,
          0.18670186400413513,
          0.18670140206813812,
          0.18670089542865753,
          0.18670037388801575,
          0.18669995665550232,
          0.1866995245218277,
          0.18669910728931427,
          0.1866985708475113,
          0.18669816851615906,
          0.18669773638248444,
          0.18669721484184265,
          0.18669676780700684,
          0.18669629096984863,
          0.1866959035396576,
          0.1866954267024994,
          0.18669505417346954,
          0.18669459223747253,
          0.18669413030147552,
          0.18669378757476807,
          0.18669331073760986,
          0.18669281899929047,
          0.18669237196445465,
          0.186692014336586,
          0.18669159710407257,
          0.18669117987155914,
          0.18669073283672333,
          0.18669025599956512,
          0.18668988347053528,
          0.18668951094150543,
          0.18668900430202484,
          0.1866885870695114,
          0.18668821454048157,
          0.18668781220912933,
          0.1866873949766159
         ],
         "yaxis": "y",
         "type": "scatter"
        },
        {
         "hovertemplate": "variable=val_loss<br>index=%{x}<br>value=%{y}<extra></extra>",
         "legendgroup": "val_loss",
         "line": {
          "color": "#EF553B",
          "dash": "solid"
         },
         "marker": {
          "symbol": "circle"
         },
         "mode": "lines",
         "name": "val_loss",
         "orientation": "v",
         "showlegend": true,
         "x": [
          0,
          1,
          2,
          3,
          4,
          5,
          6,
          7,
          8,
          9,
          10,
          11,
          12,
          13,
          14,
          15,
          16,
          17,
          18,
          19,
          20,
          21,
          22,
          23,
          24,
          25,
          26,
          27,
          28,
          29,
          30,
          31,
          32,
          33,
          34,
          35,
          36,
          37,
          38,
          39,
          40,
          41,
          42,
          43,
          44,
          45,
          46,
          47,
          48,
          49,
          50,
          51,
          52,
          53,
          54,
          55,
          56,
          57,
          58,
          59,
          60,
          61,
          62,
          63,
          64,
          65,
          66,
          67,
          68,
          69,
          70,
          71,
          72,
          73,
          74,
          75,
          76,
          77,
          78,
          79,
          80,
          81,
          82,
          83,
          84,
          85,
          86,
          87,
          88,
          89,
          90,
          91,
          92,
          93,
          94,
          95,
          96,
          97,
          98,
          99,
          100,
          101,
          102,
          103,
          104,
          105,
          106,
          107,
          108,
          109,
          110,
          111,
          112,
          113,
          114,
          115,
          116,
          117,
          118,
          119,
          120,
          121,
          122,
          123,
          124,
          125,
          126,
          127,
          128,
          129,
          130,
          131,
          132,
          133,
          134,
          135,
          136,
          137,
          138,
          139,
          140,
          141,
          142,
          143,
          144,
          145,
          146,
          147,
          148,
          149,
          150,
          151,
          152,
          153,
          154,
          155,
          156,
          157,
          158,
          159,
          160,
          161,
          162,
          163,
          164,
          165,
          166,
          167,
          168,
          169,
          170,
          171,
          172,
          173,
          174,
          175,
          176,
          177,
          178,
          179,
          180,
          181,
          182,
          183,
          184,
          185,
          186,
          187,
          188,
          189,
          190,
          191,
          192,
          193,
          194,
          195,
          196,
          197,
          198,
          199,
          200,
          201,
          202,
          203,
          204,
          205,
          206,
          207,
          208,
          209,
          210,
          211,
          212,
          213,
          214,
          215,
          216,
          217,
          218,
          219,
          220,
          221,
          222,
          223,
          224,
          225,
          226,
          227,
          228,
          229,
          230,
          231,
          232,
          233,
          234,
          235,
          236,
          237,
          238,
          239,
          240,
          241,
          242,
          243,
          244,
          245,
          246,
          247,
          248,
          249,
          250,
          251,
          252,
          253,
          254,
          255,
          256,
          257,
          258,
          259,
          260,
          261,
          262,
          263,
          264,
          265,
          266,
          267,
          268,
          269,
          270,
          271,
          272,
          273,
          274,
          275,
          276,
          277,
          278,
          279,
          280,
          281,
          282,
          283,
          284,
          285,
          286,
          287,
          288,
          289,
          290,
          291,
          292,
          293,
          294,
          295,
          296,
          297,
          298,
          299,
          300,
          301,
          302,
          303,
          304,
          305,
          306,
          307,
          308,
          309,
          310,
          311,
          312,
          313,
          314,
          315,
          316,
          317,
          318,
          319,
          320,
          321,
          322,
          323,
          324,
          325,
          326,
          327,
          328,
          329,
          330,
          331,
          332,
          333,
          334,
          335,
          336,
          337,
          338,
          339,
          340,
          341,
          342,
          343,
          344,
          345,
          346,
          347,
          348,
          349,
          350,
          351,
          352,
          353,
          354,
          355,
          356,
          357,
          358,
          359,
          360,
          361,
          362,
          363,
          364,
          365,
          366,
          367,
          368,
          369,
          370,
          371,
          372,
          373,
          374,
          375,
          376,
          377,
          378,
          379,
          380,
          381,
          382,
          383,
          384,
          385,
          386,
          387,
          388,
          389,
          390,
          391,
          392,
          393,
          394,
          395,
          396,
          397,
          398,
          399
         ],
         "xaxis": "x",
         "y": [
          14.969345092773438,
          14.767197608947754,
          14.564002990722656,
          14.359748840332031,
          14.154431343078613,
          13.948044776916504,
          13.740569114685059,
          13.531962394714355,
          13.3222017288208,
          13.111282348632812,
          12.899230003356934,
          12.6860933303833,
          12.471940040588379,
          12.256848335266113,
          12.040904998779297,
          11.82420825958252,
          11.606864929199219,
          11.388988494873047,
          11.170703887939453,
          10.952140808105469,
          10.733436584472656,
          10.514740943908691,
          10.296198844909668,
          10.077969551086426,
          9.860209465026855,
          9.643078804016113,
          9.426743507385254,
          9.211363792419434,
          8.997100830078125,
          8.7841215133667,
          8.572576522827148,
          8.362625122070312,
          8.154415130615234,
          7.9480881690979,
          7.743783473968506,
          7.541627883911133,
          7.341742038726807,
          7.14423942565918,
          6.949224948883057,
          6.756793975830078,
          6.567033767700195,
          6.380023956298828,
          6.195836544036865,
          6.014535427093506,
          5.836180210113525,
          5.660823822021484,
          5.488513946533203,
          5.3192925453186035,
          5.153199672698975,
          4.990271091461182,
          4.830538749694824,
          4.674031734466553,
          4.520777225494385,
          4.3707990646362305,
          4.224117755889893,
          4.080755233764648,
          3.9407246112823486,
          3.804041624069214,
          3.670717239379883,
          3.5407588481903076,
          3.4141719341278076,
          3.2909576892852783,
          3.1711137294769287,
          3.054630994796753,
          2.9415013790130615,
          2.831705331802368,
          2.7252233028411865,
          2.622028112411499,
          2.522088050842285,
          2.425368070602417,
          2.3318240642547607,
          2.241410493850708,
          2.154076337814331,
          2.0697643756866455,
          1.988416314125061,
          1.909967303276062,
          1.8343520164489746,
          1.7615011930465698,
          1.6913431882858276,
          1.623805046081543,
          1.5588120222091675,
          1.4962884187698364,
          1.4361591339111328,
          1.3783472776412964,
          1.3227776288986206,
          1.2693747282028198,
          1.2180641889572144,
          1.1687730550765991,
          1.1214289665222168,
          1.0759620666503906,
          1.0323033332824707,
          0.9903855323791504,
          0.9501447677612305,
          0.9115180969238281,
          0.8744441866874695,
          0.8388654589653015,
          0.8047253489494324,
          0.7719697952270508,
          0.7405465245246887,
          0.7104061245918274,
          0.6815004348754883,
          0.6537842750549316,
          0.6272133588790894,
          0.6017458438873291,
          0.5773418545722961,
          0.5539626479148865,
          0.5315708518028259,
          0.5101327896118164,
          0.4896138906478882,
          0.46998241543769836,
          0.4512079656124115,
          0.4332610070705414,
          0.4161144196987152,
          0.39974141120910645,
          0.3841169774532318,
          0.36921754479408264,
          0.3550201654434204,
          0.341503769159317,
          0.32864847779273987,
          0.3164343237876892,
          0.304843932390213,
          0.2938598692417145,
          0.28346583247184753,
          0.2736463248729706,
          0.2643866539001465,
          0.2556729018688202,
          0.2474914789199829,
          0.2398296594619751,
          0.23267443478107452,
          0.22601379454135895,
          0.21983586251735687,
          0.21412916481494904,
          0.20888181030750275,
          0.20408254861831665,
          0.1997200846672058,
          0.1957828849554062,
          0.1922597438097,
          0.18913894891738892,
          0.18640948832035065,
          0.184059739112854,
          0.18207813799381256,
          0.1804531067609787,
          0.17917291820049286,
          0.17822635173797607,
          0.17760145664215088,
          0.17728650569915771,
          0.17727018892765045,
          0.17754065990447998,
          0.17808681726455688,
          0.17889688909053802,
          0.17995943129062653,
          0.18126358091831207,
          0.1827983260154724,
          0.18455229699611664,
          0.18651491403579712,
          0.18867583572864532,
          0.19102467596530914,
          0.19355089962482452,
          0.19624485075473785,
          0.19909663498401642,
          0.2020968645811081,
          0.20523661375045776,
          0.20850582420825958,
          0.21189691126346588,
          0.21540088951587677,
          0.21900959312915802,
          0.22271482646465302,
          0.22650893032550812,
          0.23038522899150848,
          0.2343350052833557,
          0.2383524775505066,
          0.24243074655532837,
          0.2465631365776062,
          0.2507435083389282,
          0.25496628880500793,
          0.2592254877090454,
          0.2635153830051422,
          0.26783159375190735,
          0.27216818928718567,
          0.27652159333229065,
          0.2808862626552582,
          0.28525856137275696,
          0.28963327407836914,
          0.2940080761909485,
          0.298378050327301,
          0.3027402460575104,
          0.3070913255214691,
          0.31142815947532654,
          0.3157474100589752,
          0.32004669308662415,
          0.32432326674461365,
          0.32857516407966614,
          0.3327990174293518,
          0.33699357509613037,
          0.34115633368492126,
          0.3452858626842499,
          0.3493795096874237,
          0.35343673825263977,
          0.35745513439178467,
          0.3614337742328644,
          0.36537137627601624,
          0.36926671862602234,
          0.3731188476085663,
          0.3769260346889496,
          0.38068798184394836,
          0.38440433144569397,
          0.3880734443664551,
          0.39169546961784363,
          0.3952690064907074,
          0.3987944424152374,
          0.402271032333374,
          0.405698299407959,
          0.4090753495693207,
          0.41240358352661133,
          0.415680855512619,
          0.4189084470272064,
          0.4220859706401825,
          0.4252133071422577,
          0.4282899796962738,
          0.4313167631626129,
          0.4342935383319855,
          0.43722033500671387,
          0.44009730219841003,
          0.44292449951171875,
          0.4457026720046997,
          0.44843241572380066,
          0.45111289620399475,
          0.45374467968940735,
          0.45632898807525635,
          0.45886552333831787,
          0.4613543450832367,
          0.4637965261936188,
          0.46619248390197754,
          0.46854206919670105,
          0.4708464443683624,
          0.4731053113937378,
          0.4753199517726898,
          0.4774904251098633,
          0.47961702942848206,
          0.4817006289958954,
          0.48374199867248535,
          0.4857414960861206,
          0.487699031829834,
          0.4896157681941986,
          0.4914926588535309,
          0.49332940578460693,
          0.4951268434524536,
          0.49688592553138733,
          0.49860668182373047,
          0.5002900958061218,
          0.5019362568855286,
          0.5035461783409119,
          0.5051202178001404,
          0.5066593885421753,
          0.5081636905670166,
          0.509634256362915,
          0.5110707879066467,
          0.5124746561050415,
          0.513846218585968,
          0.5151854753494263,
          0.5164937376976013,
          0.5177716016769409,
          0.5190192461013794,
          0.5202376842498779,
          0.5214259624481201,
          0.5225863456726074,
          0.5237188339233398,
          0.524823784828186,
          0.5259023904800415,
          0.5269535183906555,
          0.5279796719551086,
          0.5289804935455322,
          0.5299558043479919,
          0.530907154083252,
          0.5318343043327332,
          0.5327387452125549,
          0.5336194634437561,
          0.5344783663749695,
          0.535315215587616,
          0.5361300110816956,
          0.5369246006011963,
          0.5376984477043152,
          0.5384511947631836,
          0.5391852855682373,
          0.5398998260498047,
          0.540595293045044,
          0.5412723422050476,
          0.541931688785553,
          0.5425729155540466,
          0.5431973934173584,
          0.5438048243522644,
          0.544395923614502,
          0.5449709892272949,
          0.5455296039581299,
          0.546073853969574,
          0.5466029047966003,
          0.5471171736717224,
          0.5476168990135193,
          0.5481025576591492,
          0.5485753417015076,
          0.5490342974662781,
          0.5494807362556458,
          0.5499141812324524,
          0.5503354072570801,
          0.5507448315620422,
          0.551141619682312,
          0.5515275597572327,
          0.5519027709960938,
          0.552266538143158,
          0.5526196956634521,
          0.552962601184845,
          0.5532953143119812,
          0.5536183714866638,
          0.5539319515228271,
          0.5542362332344055,
          0.5545311570167542,
          0.5548179149627686,
          0.5550954937934875,
          0.5553645491600037,
          0.5556253790855408,
          0.5558786392211914,
          0.556124210357666,
          0.5563622713088989,
          0.5565931797027588,
          0.556816577911377,
          0.5570329427719116,
          0.5572430491447449,
          0.5574464201927185,
          0.5576429963111877,
          0.5578336119651794,
          0.5580182671546936,
          0.5581973195075989,
          0.5583704113960266,
          0.558538019657135,
          0.5587001442909241,
          0.5588570833206177,
          0.5590091347694397,
          0.5591560006141663,
          0.5592979788780212,
          0.5594354271888733,
          0.5595690011978149,
          0.5596974492073059,
          0.5598217844963074,
          0.5599415898323059,
          0.5600578784942627,
          0.5601704716682434,
          0.5602787137031555,
          0.5603840947151184,
          0.560485303401947,
          0.5605833530426025,
          0.5606779456138611,
          0.5607686638832092,
          0.5608569979667664,
          0.5609423518180847,
          0.5610244274139404,
          0.5611035823822021,
          0.5611802935600281,
          0.5612540245056152,
          0.5613252520561218,
          0.5613943934440613,
          0.5614598989486694,
          0.5615243315696716,
          0.5615854859352112,
          0.5616452097892761,
          0.5617024302482605,
          0.5617572665214539,
          0.5618102550506592,
          0.561861515045166,
          0.5619108080863953,
          0.5619586110115051,
          0.5620035529136658,
          0.5620477795600891,
          0.5620902180671692,
          0.5621309876441956,
          0.5621703267097473,
          0.562207818031311,
          0.5622438788414001,
          0.5622786283493042,
          0.562312662601471,
          0.5623447895050049,
          0.5623757243156433,
          0.5624051094055176,
          0.5624340176582336,
          0.5624610781669617,
          0.5624875426292419,
          0.5625123381614685,
          0.5625367760658264,
          0.5625598430633545,
          0.5625826120376587,
          0.5626031756401062,
          0.5626241564750671,
          0.5626431703567505,
          0.5626621842384338,
          0.5626797676086426,
          0.5626974701881409,
          0.5627134442329407,
          0.56272953748703,
          0.5627443790435791,
          0.5627586245536804,
          0.5627726912498474
         ],
         "yaxis": "y",
         "type": "scatter"
        }
       ],
       "layout": {
        "template": {
         "data": {
          "bar": [
           {
            "error_x": {
             "color": "#2a3f5f"
            },
            "error_y": {
             "color": "#2a3f5f"
            },
            "marker": {
             "line": {
              "color": "#E5ECF6",
              "width": 0.5
             },
             "pattern": {
              "fillmode": "overlay",
              "size": 10,
              "solidity": 0.2
             }
            },
            "type": "bar"
           }
          ],
          "barpolar": [
           {
            "marker": {
             "line": {
              "color": "#E5ECF6",
              "width": 0.5
             },
             "pattern": {
              "fillmode": "overlay",
              "size": 10,
              "solidity": 0.2
             }
            },
            "type": "barpolar"
           }
          ],
          "carpet": [
           {
            "aaxis": {
             "endlinecolor": "#2a3f5f",
             "gridcolor": "white",
             "linecolor": "white",
             "minorgridcolor": "white",
             "startlinecolor": "#2a3f5f"
            },
            "baxis": {
             "endlinecolor": "#2a3f5f",
             "gridcolor": "white",
             "linecolor": "white",
             "minorgridcolor": "white",
             "startlinecolor": "#2a3f5f"
            },
            "type": "carpet"
           }
          ],
          "choropleth": [
           {
            "colorbar": {
             "outlinewidth": 0,
             "ticks": ""
            },
            "type": "choropleth"
           }
          ],
          "contour": [
           {
            "colorbar": {
             "outlinewidth": 0,
             "ticks": ""
            },
            "colorscale": [
             [
              0.0,
              "#0d0887"
             ],
             [
              0.1111111111111111,
              "#46039f"
             ],
             [
              0.2222222222222222,
              "#7201a8"
             ],
             [
              0.3333333333333333,
              "#9c179e"
             ],
             [
              0.4444444444444444,
              "#bd3786"
             ],
             [
              0.5555555555555556,
              "#d8576b"
             ],
             [
              0.6666666666666666,
              "#ed7953"
             ],
             [
              0.7777777777777778,
              "#fb9f3a"
             ],
             [
              0.8888888888888888,
              "#fdca26"
             ],
             [
              1.0,
              "#f0f921"
             ]
            ],
            "type": "contour"
           }
          ],
          "contourcarpet": [
           {
            "colorbar": {
             "outlinewidth": 0,
             "ticks": ""
            },
            "type": "contourcarpet"
           }
          ],
          "heatmap": [
           {
            "colorbar": {
             "outlinewidth": 0,
             "ticks": ""
            },
            "colorscale": [
             [
              0.0,
              "#0d0887"
             ],
             [
              0.1111111111111111,
              "#46039f"
             ],
             [
              0.2222222222222222,
              "#7201a8"
             ],
             [
              0.3333333333333333,
              "#9c179e"
             ],
             [
              0.4444444444444444,
              "#bd3786"
             ],
             [
              0.5555555555555556,
              "#d8576b"
             ],
             [
              0.6666666666666666,
              "#ed7953"
             ],
             [
              0.7777777777777778,
              "#fb9f3a"
             ],
             [
              0.8888888888888888,
              "#fdca26"
             ],
             [
              1.0,
              "#f0f921"
             ]
            ],
            "type": "heatmap"
           }
          ],
          "heatmapgl": [
           {
            "colorbar": {
             "outlinewidth": 0,
             "ticks": ""
            },
            "colorscale": [
             [
              0.0,
              "#0d0887"
             ],
             [
              0.1111111111111111,
              "#46039f"
             ],
             [
              0.2222222222222222,
              "#7201a8"
             ],
             [
              0.3333333333333333,
              "#9c179e"
             ],
             [
              0.4444444444444444,
              "#bd3786"
             ],
             [
              0.5555555555555556,
              "#d8576b"
             ],
             [
              0.6666666666666666,
              "#ed7953"
             ],
             [
              0.7777777777777778,
              "#fb9f3a"
             ],
             [
              0.8888888888888888,
              "#fdca26"
             ],
             [
              1.0,
              "#f0f921"
             ]
            ],
            "type": "heatmapgl"
           }
          ],
          "histogram": [
           {
            "marker": {
             "pattern": {
              "fillmode": "overlay",
              "size": 10,
              "solidity": 0.2
             }
            },
            "type": "histogram"
           }
          ],
          "histogram2d": [
           {
            "colorbar": {
             "outlinewidth": 0,
             "ticks": ""
            },
            "colorscale": [
             [
              0.0,
              "#0d0887"
             ],
             [
              0.1111111111111111,
              "#46039f"
             ],
             [
              0.2222222222222222,
              "#7201a8"
             ],
             [
              0.3333333333333333,
              "#9c179e"
             ],
             [
              0.4444444444444444,
              "#bd3786"
             ],
             [
              0.5555555555555556,
              "#d8576b"
             ],
             [
              0.6666666666666666,
              "#ed7953"
             ],
             [
              0.7777777777777778,
              "#fb9f3a"
             ],
             [
              0.8888888888888888,
              "#fdca26"
             ],
             [
              1.0,
              "#f0f921"
             ]
            ],
            "type": "histogram2d"
           }
          ],
          "histogram2dcontour": [
           {
            "colorbar": {
             "outlinewidth": 0,
             "ticks": ""
            },
            "colorscale": [
             [
              0.0,
              "#0d0887"
             ],
             [
              0.1111111111111111,
              "#46039f"
             ],
             [
              0.2222222222222222,
              "#7201a8"
             ],
             [
              0.3333333333333333,
              "#9c179e"
             ],
             [
              0.4444444444444444,
              "#bd3786"
             ],
             [
              0.5555555555555556,
              "#d8576b"
             ],
             [
              0.6666666666666666,
              "#ed7953"
             ],
             [
              0.7777777777777778,
              "#fb9f3a"
             ],
             [
              0.8888888888888888,
              "#fdca26"
             ],
             [
              1.0,
              "#f0f921"
             ]
            ],
            "type": "histogram2dcontour"
           }
          ],
          "mesh3d": [
           {
            "colorbar": {
             "outlinewidth": 0,
             "ticks": ""
            },
            "type": "mesh3d"
           }
          ],
          "parcoords": [
           {
            "line": {
             "colorbar": {
              "outlinewidth": 0,
              "ticks": ""
             }
            },
            "type": "parcoords"
           }
          ],
          "pie": [
           {
            "automargin": true,
            "type": "pie"
           }
          ],
          "scatter": [
           {
            "marker": {
             "colorbar": {
              "outlinewidth": 0,
              "ticks": ""
             }
            },
            "type": "scatter"
           }
          ],
          "scatter3d": [
           {
            "line": {
             "colorbar": {
              "outlinewidth": 0,
              "ticks": ""
             }
            },
            "marker": {
             "colorbar": {
              "outlinewidth": 0,
              "ticks": ""
             }
            },
            "type": "scatter3d"
           }
          ],
          "scattercarpet": [
           {
            "marker": {
             "colorbar": {
              "outlinewidth": 0,
              "ticks": ""
             }
            },
            "type": "scattercarpet"
           }
          ],
          "scattergeo": [
           {
            "marker": {
             "colorbar": {
              "outlinewidth": 0,
              "ticks": ""
             }
            },
            "type": "scattergeo"
           }
          ],
          "scattergl": [
           {
            "marker": {
             "colorbar": {
              "outlinewidth": 0,
              "ticks": ""
             }
            },
            "type": "scattergl"
           }
          ],
          "scattermapbox": [
           {
            "marker": {
             "colorbar": {
              "outlinewidth": 0,
              "ticks": ""
             }
            },
            "type": "scattermapbox"
           }
          ],
          "scatterpolar": [
           {
            "marker": {
             "colorbar": {
              "outlinewidth": 0,
              "ticks": ""
             }
            },
            "type": "scatterpolar"
           }
          ],
          "scatterpolargl": [
           {
            "marker": {
             "colorbar": {
              "outlinewidth": 0,
              "ticks": ""
             }
            },
            "type": "scatterpolargl"
           }
          ],
          "scatterternary": [
           {
            "marker": {
             "colorbar": {
              "outlinewidth": 0,
              "ticks": ""
             }
            },
            "type": "scatterternary"
           }
          ],
          "surface": [
           {
            "colorbar": {
             "outlinewidth": 0,
             "ticks": ""
            },
            "colorscale": [
             [
              0.0,
              "#0d0887"
             ],
             [
              0.1111111111111111,
              "#46039f"
             ],
             [
              0.2222222222222222,
              "#7201a8"
             ],
             [
              0.3333333333333333,
              "#9c179e"
             ],
             [
              0.4444444444444444,
              "#bd3786"
             ],
             [
              0.5555555555555556,
              "#d8576b"
             ],
             [
              0.6666666666666666,
              "#ed7953"
             ],
             [
              0.7777777777777778,
              "#fb9f3a"
             ],
             [
              0.8888888888888888,
              "#fdca26"
             ],
             [
              1.0,
              "#f0f921"
             ]
            ],
            "type": "surface"
           }
          ],
          "table": [
           {
            "cells": {
             "fill": {
              "color": "#EBF0F8"
             },
             "line": {
              "color": "white"
             }
            },
            "header": {
             "fill": {
              "color": "#C8D4E3"
             },
             "line": {
              "color": "white"
             }
            },
            "type": "table"
           }
          ]
         },
         "layout": {
          "annotationdefaults": {
           "arrowcolor": "#2a3f5f",
           "arrowhead": 0,
           "arrowwidth": 1
          },
          "autotypenumbers": "strict",
          "coloraxis": {
           "colorbar": {
            "outlinewidth": 0,
            "ticks": ""
           }
          },
          "colorscale": {
           "diverging": [
            [
             0,
             "#8e0152"
            ],
            [
             0.1,
             "#c51b7d"
            ],
            [
             0.2,
             "#de77ae"
            ],
            [
             0.3,
             "#f1b6da"
            ],
            [
             0.4,
             "#fde0ef"
            ],
            [
             0.5,
             "#f7f7f7"
            ],
            [
             0.6,
             "#e6f5d0"
            ],
            [
             0.7,
             "#b8e186"
            ],
            [
             0.8,
             "#7fbc41"
            ],
            [
             0.9,
             "#4d9221"
            ],
            [
             1,
             "#276419"
            ]
           ],
           "sequential": [
            [
             0.0,
             "#0d0887"
            ],
            [
             0.1111111111111111,
             "#46039f"
            ],
            [
             0.2222222222222222,
             "#7201a8"
            ],
            [
             0.3333333333333333,
             "#9c179e"
            ],
            [
             0.4444444444444444,
             "#bd3786"
            ],
            [
             0.5555555555555556,
             "#d8576b"
            ],
            [
             0.6666666666666666,
             "#ed7953"
            ],
            [
             0.7777777777777778,
             "#fb9f3a"
            ],
            [
             0.8888888888888888,
             "#fdca26"
            ],
            [
             1.0,
             "#f0f921"
            ]
           ],
           "sequentialminus": [
            [
             0.0,
             "#0d0887"
            ],
            [
             0.1111111111111111,
             "#46039f"
            ],
            [
             0.2222222222222222,
             "#7201a8"
            ],
            [
             0.3333333333333333,
             "#9c179e"
            ],
            [
             0.4444444444444444,
             "#bd3786"
            ],
            [
             0.5555555555555556,
             "#d8576b"
            ],
            [
             0.6666666666666666,
             "#ed7953"
            ],
            [
             0.7777777777777778,
             "#fb9f3a"
            ],
            [
             0.8888888888888888,
             "#fdca26"
            ],
            [
             1.0,
             "#f0f921"
            ]
           ]
          },
          "colorway": [
           "#636efa",
           "#EF553B",
           "#00cc96",
           "#ab63fa",
           "#FFA15A",
           "#19d3f3",
           "#FF6692",
           "#B6E880",
           "#FF97FF",
           "#FECB52"
          ],
          "font": {
           "color": "#2a3f5f"
          },
          "geo": {
           "bgcolor": "white",
           "lakecolor": "white",
           "landcolor": "#E5ECF6",
           "showlakes": true,
           "showland": true,
           "subunitcolor": "white"
          },
          "hoverlabel": {
           "align": "left"
          },
          "hovermode": "closest",
          "mapbox": {
           "style": "light"
          },
          "paper_bgcolor": "white",
          "plot_bgcolor": "#E5ECF6",
          "polar": {
           "angularaxis": {
            "gridcolor": "white",
            "linecolor": "white",
            "ticks": ""
           },
           "bgcolor": "#E5ECF6",
           "radialaxis": {
            "gridcolor": "white",
            "linecolor": "white",
            "ticks": ""
           }
          },
          "scene": {
           "xaxis": {
            "backgroundcolor": "#E5ECF6",
            "gridcolor": "white",
            "gridwidth": 2,
            "linecolor": "white",
            "showbackground": true,
            "ticks": "",
            "zerolinecolor": "white"
           },
           "yaxis": {
            "backgroundcolor": "#E5ECF6",
            "gridcolor": "white",
            "gridwidth": 2,
            "linecolor": "white",
            "showbackground": true,
            "ticks": "",
            "zerolinecolor": "white"
           },
           "zaxis": {
            "backgroundcolor": "#E5ECF6",
            "gridcolor": "white",
            "gridwidth": 2,
            "linecolor": "white",
            "showbackground": true,
            "ticks": "",
            "zerolinecolor": "white"
           }
          },
          "shapedefaults": {
           "line": {
            "color": "#2a3f5f"
           }
          },
          "ternary": {
           "aaxis": {
            "gridcolor": "white",
            "linecolor": "white",
            "ticks": ""
           },
           "baxis": {
            "gridcolor": "white",
            "linecolor": "white",
            "ticks": ""
           },
           "bgcolor": "#E5ECF6",
           "caxis": {
            "gridcolor": "white",
            "linecolor": "white",
            "ticks": ""
           }
          },
          "title": {
           "x": 0.05
          },
          "xaxis": {
           "automargin": true,
           "gridcolor": "white",
           "linecolor": "white",
           "ticks": "",
           "title": {
            "standoff": 15
           },
           "zerolinecolor": "white",
           "zerolinewidth": 2
          },
          "yaxis": {
           "automargin": true,
           "gridcolor": "white",
           "linecolor": "white",
           "ticks": "",
           "title": {
            "standoff": 15
           },
           "zerolinecolor": "white",
           "zerolinewidth": 2
          }
         }
        },
        "xaxis": {
         "anchor": "y",
         "domain": [
          0.0,
          1.0
         ],
         "title": {
          "text": "index"
         }
        },
        "yaxis": {
         "anchor": "x",
         "domain": [
          0.0,
          1.0
         ],
         "title": {
          "text": "value"
         }
        },
        "legend": {
         "title": {
          "text": "variable"
         },
         "tracegroupgap": 0
        },
        "margin": {
         "t": 60
        }
       },
       "config": {
        "plotlyServerURL": "https://plot.ly"
       }
      },
      "text/html": "<div>                            <div id=\"f671a70e-4559-406b-8b59-3497a0535f6a\" class=\"plotly-graph-div\" style=\"height:525px; width:100%;\"></div>            <script type=\"text/javascript\">                require([\"plotly\"], function(Plotly) {                    window.PLOTLYENV=window.PLOTLYENV || {};                                    if (document.getElementById(\"f671a70e-4559-406b-8b59-3497a0535f6a\")) {                    Plotly.newPlot(                        \"f671a70e-4559-406b-8b59-3497a0535f6a\",                        [{\"hovertemplate\":\"variable=loss<br>index=%{x}<br>value=%{y}<extra></extra>\",\"legendgroup\":\"loss\",\"line\":{\"color\":\"#636efa\",\"dash\":\"solid\"},\"marker\":{\"symbol\":\"circle\"},\"mode\":\"lines\",\"name\":\"loss\",\"orientation\":\"v\",\"showlegend\":true,\"x\":[0,1,2,3,4,5,6,7,8,9,10,11,12,13,14,15,16,17,18,19,20,21,22,23,24,25,26,27,28,29,30,31,32,33,34,35,36,37,38,39,40,41,42,43,44,45,46,47,48,49,50,51,52,53,54,55,56,57,58,59,60,61,62,63,64,65,66,67,68,69,70,71,72,73,74,75,76,77,78,79,80,81,82,83,84,85,86,87,88,89,90,91,92,93,94,95,96,97,98,99,100,101,102,103,104,105,106,107,108,109,110,111,112,113,114,115,116,117,118,119,120,121,122,123,124,125,126,127,128,129,130,131,132,133,134,135,136,137,138,139,140,141,142,143,144,145,146,147,148,149,150,151,152,153,154,155,156,157,158,159,160,161,162,163,164,165,166,167,168,169,170,171,172,173,174,175,176,177,178,179,180,181,182,183,184,185,186,187,188,189,190,191,192,193,194,195,196,197,198,199,200,201,202,203,204,205,206,207,208,209,210,211,212,213,214,215,216,217,218,219,220,221,222,223,224,225,226,227,228,229,230,231,232,233,234,235,236,237,238,239,240,241,242,243,244,245,246,247,248,249,250,251,252,253,254,255,256,257,258,259,260,261,262,263,264,265,266,267,268,269,270,271,272,273,274,275,276,277,278,279,280,281,282,283,284,285,286,287,288,289,290,291,292,293,294,295,296,297,298,299,300,301,302,303,304,305,306,307,308,309,310,311,312,313,314,315,316,317,318,319,320,321,322,323,324,325,326,327,328,329,330,331,332,333,334,335,336,337,338,339,340,341,342,343,344,345,346,347,348,349,350,351,352,353,354,355,356,357,358,359,360,361,362,363,364,365,366,367,368,369,370,371,372,373,374,375,376,377,378,379,380,381,382,383,384,385,386,387,388,389,390,391,392,393,394,395,396,397,398,399],\"xaxis\":\"x\",\"y\":[20.39776039123535,20.16031265258789,19.921361923217773,19.68088150024414,19.43886947631836,19.19533348083496,18.950288772583008,18.703720092773438,18.45560073852539,18.205913543701172,17.95465850830078,17.701875686645508,17.44762420654297,17.191984176635742,16.9350528717041,16.676925659179688,16.417722702026367,16.15756607055664,15.896589279174805,15.634933471679688,15.372749328613281,15.110194206237793,14.847433090209961,14.584633827209473,14.32197093963623,14.059623718261719,13.797767639160156,13.536582946777344,13.276249885559082,13.01694393157959,12.758842468261719,12.502119064331055,12.24693775177002,11.993463516235352,11.741849899291992,11.492246627807617,11.244790077209473,10.999617576599121,10.75684928894043,10.516596794128418,10.27896785736084,10.044060707092285,9.811958312988281,9.582743644714355,9.356491088867188,9.133261680603027,8.913119316101074,8.69611930847168,8.48231029510498,8.27173900604248,8.064452171325684,7.8604888916015625,7.659886837005615,7.462687015533447,7.2689208984375,7.0786261558532715,6.891834259033203,6.708576202392578,6.5288825035095215,6.352783203125,6.180301666259766,6.011462688446045,5.846285343170166,5.684788703918457,5.526984691619873,5.372881889343262,5.2224812507629395,5.07578182220459,4.932774543762207,4.793446063995361,4.657773494720459,4.525730133056641,4.397281646728516,4.2723894119262695,4.151004791259766,4.033078193664551,3.918551206588745,3.8073642253875732,3.699450969696045,3.594740152359009,3.4931628704071045,3.394641876220703,3.2990994453430176,3.2064590454101562,3.1166396141052246,3.029561996459961,2.9451451301574707,2.8633086681365967,2.7839736938476562,2.707059621810913,2.632490396499634,2.5601871013641357,2.490074634552002,2.4220805168151855,2.356131076812744,2.2921557426452637,2.2300865650177,2.169856309890747,2.111400604248047,2.0546557903289795,1.9995625019073486,1.9460608959197998,1.8940954208374023,1.843610167503357,1.7945525646209717,1.7468725442886353,1.700520634651184,1.6554491519927979,1.6116142272949219,1.5689716339111328,1.5274795293807983,1.4870986938476562,1.4477908611297607,1.4095197916030884,1.3722505569458008,1.3359508514404297,1.300589680671692,1.2661372423171997,1.2325655221939087,1.1998497247695923,1.1679638624191284,1.1368865966796875,1.1065952777862549,1.0770710706710815,1.0482944250106812,1.0202492475509644,0.9929192662239075,0.9662887454032898,0.9403451681137085,0.9150744676589966,0.8904648423194885,0.8665048480033875,0.8431836366653442,0.8204905390739441,0.7984151840209961,0.7769481539726257,0.7560795545578003,0.7358000874519348,0.7161003351211548,0.6969707608222961,0.6784016489982605,0.6603838205337524,0.6429072618484497,0.6259626746177673,0.6095396876335144,0.5936289429664612,0.5782202482223511,0.5633031725883484,0.5488674640655518,0.5349026918411255,0.5213989615440369,0.5083450675010681,0.4957309663295746,0.48354583978652954,0.4717792570590973,0.4604201018810272,0.4494585394859314,0.43888357281684875,0.4286850094795227,0.4188527762889862,0.40937623381614685,0.40024492144584656,0.3914490342140198,0.382979154586792,0.37482473254203796,0.36697623133659363,0.35942456126213074,0.3521598279476166,0.3451736271381378,0.3384559452533722,0.3319990336894989,0.32579365372657776,0.31983116269111633,0.31410399079322815,0.3086036145687103,0.30332231521606445,0.29825231432914734,0.29338666796684265,0.28871726989746094,0.2842375934123993,0.2799404263496399,0.2758198082447052,0.27186843752861023,0.2680807411670685,0.2644498646259308,0.2609706223011017,0.2576371729373932,0.25444337725639343,0.25138428807258606,0.24845506250858307,0.24565009772777557,0.2429647147655487,0.24039407074451447,0.237933948636055,0.2355799823999405,0.23332776129245758,0.23117312788963318,0.22911246120929718,0.22714188694953918,0.2252575010061264,0.223456010222435,0.22173404693603516,0.22008803486824036,0.2185153067111969,0.21701255440711975,0.21557685732841492,0.21420550346374512,0.2128957360982895,0.21164502203464508,0.2104508876800537,0.20931069552898407,0.20822252333164215,0.20718391239643097,0.20619270205497742,0.20524711906909943,0.2043450027704239,0.20348450541496277,0.2026636302471161,0.20188109576702118,0.20113489031791687,0.20042352378368378,0.19974550604820251,0.19909921288490295,0.1984834372997284,0.19789664447307587,0.19733765721321106,0.19680513441562653,0.1962980031967163,0.19581522047519684,0.1953554004430771,0.19491764903068542,0.19450105726718903,0.19410458207130432,0.19372715055942535,0.19336827099323273,0.19302675127983093,0.19270186126232147,0.192392960190773,0.19209925830364227,0.19181998074054718,0.19155444204807281,0.19130219519138336,0.1910623013973236,0.19083452224731445,0.19061803817749023,0.19041238725185394,0.19021712243556976,0.19003166258335114,0.18985560536384583,0.18968847393989563,0.18952973186969757,0.18937914073467255,0.18923620879650116,0.18910057842731476,0.1889721155166626,0.18885008990764618,0.18873444199562073,0.18862475454807281,0.18852080404758453,0.18842218816280365,0.188328817486763,0.18824031949043274,0.18815644085407257,0.18807704746723175,0.18800173699855804,0.18793055415153503,0.18786297738552094,0.18779917061328888,0.18773864209651947,0.1876814067363739,0.18762728571891785,0.18757610023021698,0.18752746284008026,0.18748171627521515,0.18743832409381866,0.1873973160982132,0.1873585432767868,0.18732193112373352,0.18728730082511902,0.1872546374797821,0.18722371757030487,0.1871943473815918,0.1871667355298996,0.18714074790477753,0.1871161311864853,0.1870928555727005,0.18707092106342316,0.18705017864704132,0.18703055381774902,0.18701209127902985,0.18699471652507782,0.1869783252477646,0.18696273863315582,0.18694810569286346,0.18693433701992035,0.18692122399806976,0.18690893054008484,0.18689744174480438,0.1868864744901657,0.18687617778778076,0.18686653673648834,0.18685735762119293,0.1868487149477005,0.18684051930904388,0.18683280050754547,0.18682564795017242,0.18681876361370087,0.1868124008178711,0.18680629134178162,0.18680058419704437,0.1867952197790146,0.1867900937795639,0.18678538501262665,0.18678084015846252,0.18677660822868347,0.18677258491516113,0.1867688000202179,0.1867651641368866,0.1867617517709732,0.1867585927248001,0.18675556778907776,0.18675272166728973,0.18675003945827484,0.1867474764585495,0.18674509227275848,0.18674281239509583,0.1867407113313675,0.18673864006996155,0.18673671782016754,0.18673484027385712,0.18673311173915863,0.18673141300678253,0.18672995269298553,0.18672847747802734,0.18672704696655273,0.1867257058620453,0.18672434985637665,0.18672320246696472,0.18672193586826324,0.1867208480834961,0.18671979010105133,0.18671880662441254,0.18671777844429016,0.18671680986881256,0.18671594560146332,0.18671517074108124,0.186714306473732,0.18671342730522156,0.18671266734600067,0.18671190738677979,0.18671119213104248,0.18671049177646637,0.18670985102653503,0.1867092102766037,0.18670853972434998,0.18670794367790222,0.1867073029279709,0.18670673668384552,0.18670617043972015,0.1867056041955948,0.18670499324798584,0.18670451641082764,0.1867038905620575,0.1867033988237381,0.18670286238193512,0.1867024153470993,0.18670186400413513,0.18670140206813812,0.18670089542865753,0.18670037388801575,0.18669995665550232,0.1866995245218277,0.18669910728931427,0.1866985708475113,0.18669816851615906,0.18669773638248444,0.18669721484184265,0.18669676780700684,0.18669629096984863,0.1866959035396576,0.1866954267024994,0.18669505417346954,0.18669459223747253,0.18669413030147552,0.18669378757476807,0.18669331073760986,0.18669281899929047,0.18669237196445465,0.186692014336586,0.18669159710407257,0.18669117987155914,0.18669073283672333,0.18669025599956512,0.18668988347053528,0.18668951094150543,0.18668900430202484,0.1866885870695114,0.18668821454048157,0.18668781220912933,0.1866873949766159],\"yaxis\":\"y\",\"type\":\"scatter\"},{\"hovertemplate\":\"variable=val_loss<br>index=%{x}<br>value=%{y}<extra></extra>\",\"legendgroup\":\"val_loss\",\"line\":{\"color\":\"#EF553B\",\"dash\":\"solid\"},\"marker\":{\"symbol\":\"circle\"},\"mode\":\"lines\",\"name\":\"val_loss\",\"orientation\":\"v\",\"showlegend\":true,\"x\":[0,1,2,3,4,5,6,7,8,9,10,11,12,13,14,15,16,17,18,19,20,21,22,23,24,25,26,27,28,29,30,31,32,33,34,35,36,37,38,39,40,41,42,43,44,45,46,47,48,49,50,51,52,53,54,55,56,57,58,59,60,61,62,63,64,65,66,67,68,69,70,71,72,73,74,75,76,77,78,79,80,81,82,83,84,85,86,87,88,89,90,91,92,93,94,95,96,97,98,99,100,101,102,103,104,105,106,107,108,109,110,111,112,113,114,115,116,117,118,119,120,121,122,123,124,125,126,127,128,129,130,131,132,133,134,135,136,137,138,139,140,141,142,143,144,145,146,147,148,149,150,151,152,153,154,155,156,157,158,159,160,161,162,163,164,165,166,167,168,169,170,171,172,173,174,175,176,177,178,179,180,181,182,183,184,185,186,187,188,189,190,191,192,193,194,195,196,197,198,199,200,201,202,203,204,205,206,207,208,209,210,211,212,213,214,215,216,217,218,219,220,221,222,223,224,225,226,227,228,229,230,231,232,233,234,235,236,237,238,239,240,241,242,243,244,245,246,247,248,249,250,251,252,253,254,255,256,257,258,259,260,261,262,263,264,265,266,267,268,269,270,271,272,273,274,275,276,277,278,279,280,281,282,283,284,285,286,287,288,289,290,291,292,293,294,295,296,297,298,299,300,301,302,303,304,305,306,307,308,309,310,311,312,313,314,315,316,317,318,319,320,321,322,323,324,325,326,327,328,329,330,331,332,333,334,335,336,337,338,339,340,341,342,343,344,345,346,347,348,349,350,351,352,353,354,355,356,357,358,359,360,361,362,363,364,365,366,367,368,369,370,371,372,373,374,375,376,377,378,379,380,381,382,383,384,385,386,387,388,389,390,391,392,393,394,395,396,397,398,399],\"xaxis\":\"x\",\"y\":[14.969345092773438,14.767197608947754,14.564002990722656,14.359748840332031,14.154431343078613,13.948044776916504,13.740569114685059,13.531962394714355,13.3222017288208,13.111282348632812,12.899230003356934,12.6860933303833,12.471940040588379,12.256848335266113,12.040904998779297,11.82420825958252,11.606864929199219,11.388988494873047,11.170703887939453,10.952140808105469,10.733436584472656,10.514740943908691,10.296198844909668,10.077969551086426,9.860209465026855,9.643078804016113,9.426743507385254,9.211363792419434,8.997100830078125,8.7841215133667,8.572576522827148,8.362625122070312,8.154415130615234,7.9480881690979,7.743783473968506,7.541627883911133,7.341742038726807,7.14423942565918,6.949224948883057,6.756793975830078,6.567033767700195,6.380023956298828,6.195836544036865,6.014535427093506,5.836180210113525,5.660823822021484,5.488513946533203,5.3192925453186035,5.153199672698975,4.990271091461182,4.830538749694824,4.674031734466553,4.520777225494385,4.3707990646362305,4.224117755889893,4.080755233764648,3.9407246112823486,3.804041624069214,3.670717239379883,3.5407588481903076,3.4141719341278076,3.2909576892852783,3.1711137294769287,3.054630994796753,2.9415013790130615,2.831705331802368,2.7252233028411865,2.622028112411499,2.522088050842285,2.425368070602417,2.3318240642547607,2.241410493850708,2.154076337814331,2.0697643756866455,1.988416314125061,1.909967303276062,1.8343520164489746,1.7615011930465698,1.6913431882858276,1.623805046081543,1.5588120222091675,1.4962884187698364,1.4361591339111328,1.3783472776412964,1.3227776288986206,1.2693747282028198,1.2180641889572144,1.1687730550765991,1.1214289665222168,1.0759620666503906,1.0323033332824707,0.9903855323791504,0.9501447677612305,0.9115180969238281,0.8744441866874695,0.8388654589653015,0.8047253489494324,0.7719697952270508,0.7405465245246887,0.7104061245918274,0.6815004348754883,0.6537842750549316,0.6272133588790894,0.6017458438873291,0.5773418545722961,0.5539626479148865,0.5315708518028259,0.5101327896118164,0.4896138906478882,0.46998241543769836,0.4512079656124115,0.4332610070705414,0.4161144196987152,0.39974141120910645,0.3841169774532318,0.36921754479408264,0.3550201654434204,0.341503769159317,0.32864847779273987,0.3164343237876892,0.304843932390213,0.2938598692417145,0.28346583247184753,0.2736463248729706,0.2643866539001465,0.2556729018688202,0.2474914789199829,0.2398296594619751,0.23267443478107452,0.22601379454135895,0.21983586251735687,0.21412916481494904,0.20888181030750275,0.20408254861831665,0.1997200846672058,0.1957828849554062,0.1922597438097,0.18913894891738892,0.18640948832035065,0.184059739112854,0.18207813799381256,0.1804531067609787,0.17917291820049286,0.17822635173797607,0.17760145664215088,0.17728650569915771,0.17727018892765045,0.17754065990447998,0.17808681726455688,0.17889688909053802,0.17995943129062653,0.18126358091831207,0.1827983260154724,0.18455229699611664,0.18651491403579712,0.18867583572864532,0.19102467596530914,0.19355089962482452,0.19624485075473785,0.19909663498401642,0.2020968645811081,0.20523661375045776,0.20850582420825958,0.21189691126346588,0.21540088951587677,0.21900959312915802,0.22271482646465302,0.22650893032550812,0.23038522899150848,0.2343350052833557,0.2383524775505066,0.24243074655532837,0.2465631365776062,0.2507435083389282,0.25496628880500793,0.2592254877090454,0.2635153830051422,0.26783159375190735,0.27216818928718567,0.27652159333229065,0.2808862626552582,0.28525856137275696,0.28963327407836914,0.2940080761909485,0.298378050327301,0.3027402460575104,0.3070913255214691,0.31142815947532654,0.3157474100589752,0.32004669308662415,0.32432326674461365,0.32857516407966614,0.3327990174293518,0.33699357509613037,0.34115633368492126,0.3452858626842499,0.3493795096874237,0.35343673825263977,0.35745513439178467,0.3614337742328644,0.36537137627601624,0.36926671862602234,0.3731188476085663,0.3769260346889496,0.38068798184394836,0.38440433144569397,0.3880734443664551,0.39169546961784363,0.3952690064907074,0.3987944424152374,0.402271032333374,0.405698299407959,0.4090753495693207,0.41240358352661133,0.415680855512619,0.4189084470272064,0.4220859706401825,0.4252133071422577,0.4282899796962738,0.4313167631626129,0.4342935383319855,0.43722033500671387,0.44009730219841003,0.44292449951171875,0.4457026720046997,0.44843241572380066,0.45111289620399475,0.45374467968940735,0.45632898807525635,0.45886552333831787,0.4613543450832367,0.4637965261936188,0.46619248390197754,0.46854206919670105,0.4708464443683624,0.4731053113937378,0.4753199517726898,0.4774904251098633,0.47961702942848206,0.4817006289958954,0.48374199867248535,0.4857414960861206,0.487699031829834,0.4896157681941986,0.4914926588535309,0.49332940578460693,0.4951268434524536,0.49688592553138733,0.49860668182373047,0.5002900958061218,0.5019362568855286,0.5035461783409119,0.5051202178001404,0.5066593885421753,0.5081636905670166,0.509634256362915,0.5110707879066467,0.5124746561050415,0.513846218585968,0.5151854753494263,0.5164937376976013,0.5177716016769409,0.5190192461013794,0.5202376842498779,0.5214259624481201,0.5225863456726074,0.5237188339233398,0.524823784828186,0.5259023904800415,0.5269535183906555,0.5279796719551086,0.5289804935455322,0.5299558043479919,0.530907154083252,0.5318343043327332,0.5327387452125549,0.5336194634437561,0.5344783663749695,0.535315215587616,0.5361300110816956,0.5369246006011963,0.5376984477043152,0.5384511947631836,0.5391852855682373,0.5398998260498047,0.540595293045044,0.5412723422050476,0.541931688785553,0.5425729155540466,0.5431973934173584,0.5438048243522644,0.544395923614502,0.5449709892272949,0.5455296039581299,0.546073853969574,0.5466029047966003,0.5471171736717224,0.5476168990135193,0.5481025576591492,0.5485753417015076,0.5490342974662781,0.5494807362556458,0.5499141812324524,0.5503354072570801,0.5507448315620422,0.551141619682312,0.5515275597572327,0.5519027709960938,0.552266538143158,0.5526196956634521,0.552962601184845,0.5532953143119812,0.5536183714866638,0.5539319515228271,0.5542362332344055,0.5545311570167542,0.5548179149627686,0.5550954937934875,0.5553645491600037,0.5556253790855408,0.5558786392211914,0.556124210357666,0.5563622713088989,0.5565931797027588,0.556816577911377,0.5570329427719116,0.5572430491447449,0.5574464201927185,0.5576429963111877,0.5578336119651794,0.5580182671546936,0.5581973195075989,0.5583704113960266,0.558538019657135,0.5587001442909241,0.5588570833206177,0.5590091347694397,0.5591560006141663,0.5592979788780212,0.5594354271888733,0.5595690011978149,0.5596974492073059,0.5598217844963074,0.5599415898323059,0.5600578784942627,0.5601704716682434,0.5602787137031555,0.5603840947151184,0.560485303401947,0.5605833530426025,0.5606779456138611,0.5607686638832092,0.5608569979667664,0.5609423518180847,0.5610244274139404,0.5611035823822021,0.5611802935600281,0.5612540245056152,0.5613252520561218,0.5613943934440613,0.5614598989486694,0.5615243315696716,0.5615854859352112,0.5616452097892761,0.5617024302482605,0.5617572665214539,0.5618102550506592,0.561861515045166,0.5619108080863953,0.5619586110115051,0.5620035529136658,0.5620477795600891,0.5620902180671692,0.5621309876441956,0.5621703267097473,0.562207818031311,0.5622438788414001,0.5622786283493042,0.562312662601471,0.5623447895050049,0.5623757243156433,0.5624051094055176,0.5624340176582336,0.5624610781669617,0.5624875426292419,0.5625123381614685,0.5625367760658264,0.5625598430633545,0.5625826120376587,0.5626031756401062,0.5626241564750671,0.5626431703567505,0.5626621842384338,0.5626797676086426,0.5626974701881409,0.5627134442329407,0.56272953748703,0.5627443790435791,0.5627586245536804,0.5627726912498474],\"yaxis\":\"y\",\"type\":\"scatter\"}],                        {\"template\":{\"data\":{\"bar\":[{\"error_x\":{\"color\":\"#2a3f5f\"},\"error_y\":{\"color\":\"#2a3f5f\"},\"marker\":{\"line\":{\"color\":\"#E5ECF6\",\"width\":0.5},\"pattern\":{\"fillmode\":\"overlay\",\"size\":10,\"solidity\":0.2}},\"type\":\"bar\"}],\"barpolar\":[{\"marker\":{\"line\":{\"color\":\"#E5ECF6\",\"width\":0.5},\"pattern\":{\"fillmode\":\"overlay\",\"size\":10,\"solidity\":0.2}},\"type\":\"barpolar\"}],\"carpet\":[{\"aaxis\":{\"endlinecolor\":\"#2a3f5f\",\"gridcolor\":\"white\",\"linecolor\":\"white\",\"minorgridcolor\":\"white\",\"startlinecolor\":\"#2a3f5f\"},\"baxis\":{\"endlinecolor\":\"#2a3f5f\",\"gridcolor\":\"white\",\"linecolor\":\"white\",\"minorgridcolor\":\"white\",\"startlinecolor\":\"#2a3f5f\"},\"type\":\"carpet\"}],\"choropleth\":[{\"colorbar\":{\"outlinewidth\":0,\"ticks\":\"\"},\"type\":\"choropleth\"}],\"contour\":[{\"colorbar\":{\"outlinewidth\":0,\"ticks\":\"\"},\"colorscale\":[[0.0,\"#0d0887\"],[0.1111111111111111,\"#46039f\"],[0.2222222222222222,\"#7201a8\"],[0.3333333333333333,\"#9c179e\"],[0.4444444444444444,\"#bd3786\"],[0.5555555555555556,\"#d8576b\"],[0.6666666666666666,\"#ed7953\"],[0.7777777777777778,\"#fb9f3a\"],[0.8888888888888888,\"#fdca26\"],[1.0,\"#f0f921\"]],\"type\":\"contour\"}],\"contourcarpet\":[{\"colorbar\":{\"outlinewidth\":0,\"ticks\":\"\"},\"type\":\"contourcarpet\"}],\"heatmap\":[{\"colorbar\":{\"outlinewidth\":0,\"ticks\":\"\"},\"colorscale\":[[0.0,\"#0d0887\"],[0.1111111111111111,\"#46039f\"],[0.2222222222222222,\"#7201a8\"],[0.3333333333333333,\"#9c179e\"],[0.4444444444444444,\"#bd3786\"],[0.5555555555555556,\"#d8576b\"],[0.6666666666666666,\"#ed7953\"],[0.7777777777777778,\"#fb9f3a\"],[0.8888888888888888,\"#fdca26\"],[1.0,\"#f0f921\"]],\"type\":\"heatmap\"}],\"heatmapgl\":[{\"colorbar\":{\"outlinewidth\":0,\"ticks\":\"\"},\"colorscale\":[[0.0,\"#0d0887\"],[0.1111111111111111,\"#46039f\"],[0.2222222222222222,\"#7201a8\"],[0.3333333333333333,\"#9c179e\"],[0.4444444444444444,\"#bd3786\"],[0.5555555555555556,\"#d8576b\"],[0.6666666666666666,\"#ed7953\"],[0.7777777777777778,\"#fb9f3a\"],[0.8888888888888888,\"#fdca26\"],[1.0,\"#f0f921\"]],\"type\":\"heatmapgl\"}],\"histogram\":[{\"marker\":{\"pattern\":{\"fillmode\":\"overlay\",\"size\":10,\"solidity\":0.2}},\"type\":\"histogram\"}],\"histogram2d\":[{\"colorbar\":{\"outlinewidth\":0,\"ticks\":\"\"},\"colorscale\":[[0.0,\"#0d0887\"],[0.1111111111111111,\"#46039f\"],[0.2222222222222222,\"#7201a8\"],[0.3333333333333333,\"#9c179e\"],[0.4444444444444444,\"#bd3786\"],[0.5555555555555556,\"#d8576b\"],[0.6666666666666666,\"#ed7953\"],[0.7777777777777778,\"#fb9f3a\"],[0.8888888888888888,\"#fdca26\"],[1.0,\"#f0f921\"]],\"type\":\"histogram2d\"}],\"histogram2dcontour\":[{\"colorbar\":{\"outlinewidth\":0,\"ticks\":\"\"},\"colorscale\":[[0.0,\"#0d0887\"],[0.1111111111111111,\"#46039f\"],[0.2222222222222222,\"#7201a8\"],[0.3333333333333333,\"#9c179e\"],[0.4444444444444444,\"#bd3786\"],[0.5555555555555556,\"#d8576b\"],[0.6666666666666666,\"#ed7953\"],[0.7777777777777778,\"#fb9f3a\"],[0.8888888888888888,\"#fdca26\"],[1.0,\"#f0f921\"]],\"type\":\"histogram2dcontour\"}],\"mesh3d\":[{\"colorbar\":{\"outlinewidth\":0,\"ticks\":\"\"},\"type\":\"mesh3d\"}],\"parcoords\":[{\"line\":{\"colorbar\":{\"outlinewidth\":0,\"ticks\":\"\"}},\"type\":\"parcoords\"}],\"pie\":[{\"automargin\":true,\"type\":\"pie\"}],\"scatter\":[{\"marker\":{\"colorbar\":{\"outlinewidth\":0,\"ticks\":\"\"}},\"type\":\"scatter\"}],\"scatter3d\":[{\"line\":{\"colorbar\":{\"outlinewidth\":0,\"ticks\":\"\"}},\"marker\":{\"colorbar\":{\"outlinewidth\":0,\"ticks\":\"\"}},\"type\":\"scatter3d\"}],\"scattercarpet\":[{\"marker\":{\"colorbar\":{\"outlinewidth\":0,\"ticks\":\"\"}},\"type\":\"scattercarpet\"}],\"scattergeo\":[{\"marker\":{\"colorbar\":{\"outlinewidth\":0,\"ticks\":\"\"}},\"type\":\"scattergeo\"}],\"scattergl\":[{\"marker\":{\"colorbar\":{\"outlinewidth\":0,\"ticks\":\"\"}},\"type\":\"scattergl\"}],\"scattermapbox\":[{\"marker\":{\"colorbar\":{\"outlinewidth\":0,\"ticks\":\"\"}},\"type\":\"scattermapbox\"}],\"scatterpolar\":[{\"marker\":{\"colorbar\":{\"outlinewidth\":0,\"ticks\":\"\"}},\"type\":\"scatterpolar\"}],\"scatterpolargl\":[{\"marker\":{\"colorbar\":{\"outlinewidth\":0,\"ticks\":\"\"}},\"type\":\"scatterpolargl\"}],\"scatterternary\":[{\"marker\":{\"colorbar\":{\"outlinewidth\":0,\"ticks\":\"\"}},\"type\":\"scatterternary\"}],\"surface\":[{\"colorbar\":{\"outlinewidth\":0,\"ticks\":\"\"},\"colorscale\":[[0.0,\"#0d0887\"],[0.1111111111111111,\"#46039f\"],[0.2222222222222222,\"#7201a8\"],[0.3333333333333333,\"#9c179e\"],[0.4444444444444444,\"#bd3786\"],[0.5555555555555556,\"#d8576b\"],[0.6666666666666666,\"#ed7953\"],[0.7777777777777778,\"#fb9f3a\"],[0.8888888888888888,\"#fdca26\"],[1.0,\"#f0f921\"]],\"type\":\"surface\"}],\"table\":[{\"cells\":{\"fill\":{\"color\":\"#EBF0F8\"},\"line\":{\"color\":\"white\"}},\"header\":{\"fill\":{\"color\":\"#C8D4E3\"},\"line\":{\"color\":\"white\"}},\"type\":\"table\"}]},\"layout\":{\"annotationdefaults\":{\"arrowcolor\":\"#2a3f5f\",\"arrowhead\":0,\"arrowwidth\":1},\"autotypenumbers\":\"strict\",\"coloraxis\":{\"colorbar\":{\"outlinewidth\":0,\"ticks\":\"\"}},\"colorscale\":{\"diverging\":[[0,\"#8e0152\"],[0.1,\"#c51b7d\"],[0.2,\"#de77ae\"],[0.3,\"#f1b6da\"],[0.4,\"#fde0ef\"],[0.5,\"#f7f7f7\"],[0.6,\"#e6f5d0\"],[0.7,\"#b8e186\"],[0.8,\"#7fbc41\"],[0.9,\"#4d9221\"],[1,\"#276419\"]],\"sequential\":[[0.0,\"#0d0887\"],[0.1111111111111111,\"#46039f\"],[0.2222222222222222,\"#7201a8\"],[0.3333333333333333,\"#9c179e\"],[0.4444444444444444,\"#bd3786\"],[0.5555555555555556,\"#d8576b\"],[0.6666666666666666,\"#ed7953\"],[0.7777777777777778,\"#fb9f3a\"],[0.8888888888888888,\"#fdca26\"],[1.0,\"#f0f921\"]],\"sequentialminus\":[[0.0,\"#0d0887\"],[0.1111111111111111,\"#46039f\"],[0.2222222222222222,\"#7201a8\"],[0.3333333333333333,\"#9c179e\"],[0.4444444444444444,\"#bd3786\"],[0.5555555555555556,\"#d8576b\"],[0.6666666666666666,\"#ed7953\"],[0.7777777777777778,\"#fb9f3a\"],[0.8888888888888888,\"#fdca26\"],[1.0,\"#f0f921\"]]},\"colorway\":[\"#636efa\",\"#EF553B\",\"#00cc96\",\"#ab63fa\",\"#FFA15A\",\"#19d3f3\",\"#FF6692\",\"#B6E880\",\"#FF97FF\",\"#FECB52\"],\"font\":{\"color\":\"#2a3f5f\"},\"geo\":{\"bgcolor\":\"white\",\"lakecolor\":\"white\",\"landcolor\":\"#E5ECF6\",\"showlakes\":true,\"showland\":true,\"subunitcolor\":\"white\"},\"hoverlabel\":{\"align\":\"left\"},\"hovermode\":\"closest\",\"mapbox\":{\"style\":\"light\"},\"paper_bgcolor\":\"white\",\"plot_bgcolor\":\"#E5ECF6\",\"polar\":{\"angularaxis\":{\"gridcolor\":\"white\",\"linecolor\":\"white\",\"ticks\":\"\"},\"bgcolor\":\"#E5ECF6\",\"radialaxis\":{\"gridcolor\":\"white\",\"linecolor\":\"white\",\"ticks\":\"\"}},\"scene\":{\"xaxis\":{\"backgroundcolor\":\"#E5ECF6\",\"gridcolor\":\"white\",\"gridwidth\":2,\"linecolor\":\"white\",\"showbackground\":true,\"ticks\":\"\",\"zerolinecolor\":\"white\"},\"yaxis\":{\"backgroundcolor\":\"#E5ECF6\",\"gridcolor\":\"white\",\"gridwidth\":2,\"linecolor\":\"white\",\"showbackground\":true,\"ticks\":\"\",\"zerolinecolor\":\"white\"},\"zaxis\":{\"backgroundcolor\":\"#E5ECF6\",\"gridcolor\":\"white\",\"gridwidth\":2,\"linecolor\":\"white\",\"showbackground\":true,\"ticks\":\"\",\"zerolinecolor\":\"white\"}},\"shapedefaults\":{\"line\":{\"color\":\"#2a3f5f\"}},\"ternary\":{\"aaxis\":{\"gridcolor\":\"white\",\"linecolor\":\"white\",\"ticks\":\"\"},\"baxis\":{\"gridcolor\":\"white\",\"linecolor\":\"white\",\"ticks\":\"\"},\"bgcolor\":\"#E5ECF6\",\"caxis\":{\"gridcolor\":\"white\",\"linecolor\":\"white\",\"ticks\":\"\"}},\"title\":{\"x\":0.05},\"xaxis\":{\"automargin\":true,\"gridcolor\":\"white\",\"linecolor\":\"white\",\"ticks\":\"\",\"title\":{\"standoff\":15},\"zerolinecolor\":\"white\",\"zerolinewidth\":2},\"yaxis\":{\"automargin\":true,\"gridcolor\":\"white\",\"linecolor\":\"white\",\"ticks\":\"\",\"title\":{\"standoff\":15},\"zerolinecolor\":\"white\",\"zerolinewidth\":2}}},\"xaxis\":{\"anchor\":\"y\",\"domain\":[0.0,1.0],\"title\":{\"text\":\"index\"}},\"yaxis\":{\"anchor\":\"x\",\"domain\":[0.0,1.0],\"title\":{\"text\":\"value\"}},\"legend\":{\"title\":{\"text\":\"variable\"},\"tracegroupgap\":0},\"margin\":{\"t\":60}},                        {\"responsive\": true}                    ).then(function(){\n                            \nvar gd = document.getElementById('f671a70e-4559-406b-8b59-3497a0535f6a');\nvar x = new MutationObserver(function (mutations, observer) {{\n        var display = window.getComputedStyle(gd).display;\n        if (!display || display === 'none') {{\n            console.log([gd, 'removed!']);\n            Plotly.purge(gd);\n            observer.disconnect();\n        }}\n}});\n\n// Listen for the removal of the full notebook cells\nvar notebookContainer = gd.closest('#notebook-container');\nif (notebookContainer) {{\n    x.observe(notebookContainer, {childList: true});\n}}\n\n// Listen for the clearing of the current output cell\nvar outputEl = gd.closest('.output');\nif (outputEl) {{\n    x.observe(outputEl, {childList: true});\n}}\n\n                        })                };                });            </script>        </div>"
     },
     "metadata": {},
     "output_type": "display_data"
    }
   ],
   "source": [
    "epochs_2lstm_df = pd.DataFrame(train_history_double_ltsm.history)\n",
    "display(epochs_2lstm_df)\n",
    "fig = px.line(epochs_2lstm_df)\n",
    "fig.show()"
   ],
   "metadata": {
    "collapsed": false,
    "pycharm": {
     "name": "#%%\n"
    }
   }
  },
  {
   "cell_type": "code",
   "execution_count": 247,
   "outputs": [
    {
     "data": {
      "application/vnd.plotly.v1+json": {
       "data": [
        {
         "hovertemplate": "x=%{x}<br>y=%{y}<extra></extra>",
         "legendgroup": "",
         "line": {
          "color": "#636efa",
          "dash": "solid"
         },
         "marker": {
          "symbol": "circle"
         },
         "mode": "lines",
         "name": "",
         "orientation": "v",
         "showlegend": false,
         "x": [
          "2007-07-31T00:00:00",
          "2007-08-31T00:00:00",
          "2007-09-30T00:00:00",
          "2007-10-31T00:00:00",
          "2007-11-30T00:00:00",
          "2007-12-31T00:00:00",
          "2008-01-31T00:00:00",
          "2008-02-29T00:00:00",
          "2008-03-31T00:00:00",
          "2008-04-30T00:00:00",
          "2008-05-31T00:00:00",
          "2008-06-30T00:00:00",
          "2008-07-31T00:00:00",
          "2008-08-31T00:00:00",
          "2008-09-30T00:00:00",
          "2008-10-31T00:00:00",
          "2008-11-30T00:00:00",
          "2008-12-31T00:00:00",
          "2009-01-31T00:00:00",
          "2009-02-28T00:00:00",
          "2009-03-31T00:00:00",
          "2009-04-30T00:00:00",
          "2009-05-31T00:00:00",
          "2009-06-30T00:00:00",
          "2009-07-31T00:00:00",
          "2009-08-31T00:00:00",
          "2009-09-30T00:00:00",
          "2009-10-31T00:00:00",
          "2009-11-30T00:00:00",
          "2009-12-31T00:00:00",
          "2010-01-31T00:00:00",
          "2010-02-28T00:00:00",
          "2010-03-31T00:00:00",
          "2010-04-30T00:00:00",
          "2010-05-31T00:00:00",
          "2010-06-30T00:00:00",
          "2010-07-31T00:00:00",
          "2010-08-31T00:00:00",
          "2010-09-30T00:00:00",
          "2010-10-31T00:00:00",
          "2010-11-30T00:00:00",
          "2010-12-31T00:00:00"
         ],
         "xaxis": "x",
         "y": [
          4.671220000000001,
          4.6892200000000015,
          5.0440600000000115,
          5.346,
          5.506060000000012,
          5.849220000000001,
          5.328,
          4.54,
          4.847220000000001,
          4.750060000000012,
          4.972440000000002,
          4.79,
          4.2,
          4.3996600000000035,
          4.588020000000004,
          4.9872200000000015,
          5.182,
          5.043220000000001,
          5.524,
          4.462,
          4.566,
          4.420040000000008,
          4.191220000000001,
          3.756020000000004,
          4.1,
          4.418,
          4.234,
          4.827220000000001,
          5.444,
          5.090440000000002,
          4.874060000000012,
          4.8408399999999965,
          4.514060000000012,
          4.0128199999999925,
          4.116020000000003,
          4.032819999999992,
          3.41,
          3.9700400000000085,
          3.8792799999999694,
          4.704020000000003,
          4.432,
          3.882
         ],
         "yaxis": "y",
         "type": "scatter"
        },
        {
         "mode": "lines",
         "name": "Double LSTM",
         "x": [
          "2010-07-31T00:00:00",
          "2010-08-31T00:00:00",
          "2010-09-30T00:00:00",
          "2010-10-31T00:00:00",
          "2010-11-30T00:00:00",
          "2010-12-31T00:00:00"
         ],
         "y": [
          4.059843063354492,
          4.055752277374268,
          4.0517683029174805,
          4.048275470733643,
          4.049483299255371,
          4.0490522384643555
         ],
         "type": "scatter"
        }
       ],
       "layout": {
        "template": {
         "data": {
          "bar": [
           {
            "error_x": {
             "color": "#2a3f5f"
            },
            "error_y": {
             "color": "#2a3f5f"
            },
            "marker": {
             "line": {
              "color": "#E5ECF6",
              "width": 0.5
             },
             "pattern": {
              "fillmode": "overlay",
              "size": 10,
              "solidity": 0.2
             }
            },
            "type": "bar"
           }
          ],
          "barpolar": [
           {
            "marker": {
             "line": {
              "color": "#E5ECF6",
              "width": 0.5
             },
             "pattern": {
              "fillmode": "overlay",
              "size": 10,
              "solidity": 0.2
             }
            },
            "type": "barpolar"
           }
          ],
          "carpet": [
           {
            "aaxis": {
             "endlinecolor": "#2a3f5f",
             "gridcolor": "white",
             "linecolor": "white",
             "minorgridcolor": "white",
             "startlinecolor": "#2a3f5f"
            },
            "baxis": {
             "endlinecolor": "#2a3f5f",
             "gridcolor": "white",
             "linecolor": "white",
             "minorgridcolor": "white",
             "startlinecolor": "#2a3f5f"
            },
            "type": "carpet"
           }
          ],
          "choropleth": [
           {
            "colorbar": {
             "outlinewidth": 0,
             "ticks": ""
            },
            "type": "choropleth"
           }
          ],
          "contour": [
           {
            "colorbar": {
             "outlinewidth": 0,
             "ticks": ""
            },
            "colorscale": [
             [
              0.0,
              "#0d0887"
             ],
             [
              0.1111111111111111,
              "#46039f"
             ],
             [
              0.2222222222222222,
              "#7201a8"
             ],
             [
              0.3333333333333333,
              "#9c179e"
             ],
             [
              0.4444444444444444,
              "#bd3786"
             ],
             [
              0.5555555555555556,
              "#d8576b"
             ],
             [
              0.6666666666666666,
              "#ed7953"
             ],
             [
              0.7777777777777778,
              "#fb9f3a"
             ],
             [
              0.8888888888888888,
              "#fdca26"
             ],
             [
              1.0,
              "#f0f921"
             ]
            ],
            "type": "contour"
           }
          ],
          "contourcarpet": [
           {
            "colorbar": {
             "outlinewidth": 0,
             "ticks": ""
            },
            "type": "contourcarpet"
           }
          ],
          "heatmap": [
           {
            "colorbar": {
             "outlinewidth": 0,
             "ticks": ""
            },
            "colorscale": [
             [
              0.0,
              "#0d0887"
             ],
             [
              0.1111111111111111,
              "#46039f"
             ],
             [
              0.2222222222222222,
              "#7201a8"
             ],
             [
              0.3333333333333333,
              "#9c179e"
             ],
             [
              0.4444444444444444,
              "#bd3786"
             ],
             [
              0.5555555555555556,
              "#d8576b"
             ],
             [
              0.6666666666666666,
              "#ed7953"
             ],
             [
              0.7777777777777778,
              "#fb9f3a"
             ],
             [
              0.8888888888888888,
              "#fdca26"
             ],
             [
              1.0,
              "#f0f921"
             ]
            ],
            "type": "heatmap"
           }
          ],
          "heatmapgl": [
           {
            "colorbar": {
             "outlinewidth": 0,
             "ticks": ""
            },
            "colorscale": [
             [
              0.0,
              "#0d0887"
             ],
             [
              0.1111111111111111,
              "#46039f"
             ],
             [
              0.2222222222222222,
              "#7201a8"
             ],
             [
              0.3333333333333333,
              "#9c179e"
             ],
             [
              0.4444444444444444,
              "#bd3786"
             ],
             [
              0.5555555555555556,
              "#d8576b"
             ],
             [
              0.6666666666666666,
              "#ed7953"
             ],
             [
              0.7777777777777778,
              "#fb9f3a"
             ],
             [
              0.8888888888888888,
              "#fdca26"
             ],
             [
              1.0,
              "#f0f921"
             ]
            ],
            "type": "heatmapgl"
           }
          ],
          "histogram": [
           {
            "marker": {
             "pattern": {
              "fillmode": "overlay",
              "size": 10,
              "solidity": 0.2
             }
            },
            "type": "histogram"
           }
          ],
          "histogram2d": [
           {
            "colorbar": {
             "outlinewidth": 0,
             "ticks": ""
            },
            "colorscale": [
             [
              0.0,
              "#0d0887"
             ],
             [
              0.1111111111111111,
              "#46039f"
             ],
             [
              0.2222222222222222,
              "#7201a8"
             ],
             [
              0.3333333333333333,
              "#9c179e"
             ],
             [
              0.4444444444444444,
              "#bd3786"
             ],
             [
              0.5555555555555556,
              "#d8576b"
             ],
             [
              0.6666666666666666,
              "#ed7953"
             ],
             [
              0.7777777777777778,
              "#fb9f3a"
             ],
             [
              0.8888888888888888,
              "#fdca26"
             ],
             [
              1.0,
              "#f0f921"
             ]
            ],
            "type": "histogram2d"
           }
          ],
          "histogram2dcontour": [
           {
            "colorbar": {
             "outlinewidth": 0,
             "ticks": ""
            },
            "colorscale": [
             [
              0.0,
              "#0d0887"
             ],
             [
              0.1111111111111111,
              "#46039f"
             ],
             [
              0.2222222222222222,
              "#7201a8"
             ],
             [
              0.3333333333333333,
              "#9c179e"
             ],
             [
              0.4444444444444444,
              "#bd3786"
             ],
             [
              0.5555555555555556,
              "#d8576b"
             ],
             [
              0.6666666666666666,
              "#ed7953"
             ],
             [
              0.7777777777777778,
              "#fb9f3a"
             ],
             [
              0.8888888888888888,
              "#fdca26"
             ],
             [
              1.0,
              "#f0f921"
             ]
            ],
            "type": "histogram2dcontour"
           }
          ],
          "mesh3d": [
           {
            "colorbar": {
             "outlinewidth": 0,
             "ticks": ""
            },
            "type": "mesh3d"
           }
          ],
          "parcoords": [
           {
            "line": {
             "colorbar": {
              "outlinewidth": 0,
              "ticks": ""
             }
            },
            "type": "parcoords"
           }
          ],
          "pie": [
           {
            "automargin": true,
            "type": "pie"
           }
          ],
          "scatter": [
           {
            "marker": {
             "colorbar": {
              "outlinewidth": 0,
              "ticks": ""
             }
            },
            "type": "scatter"
           }
          ],
          "scatter3d": [
           {
            "line": {
             "colorbar": {
              "outlinewidth": 0,
              "ticks": ""
             }
            },
            "marker": {
             "colorbar": {
              "outlinewidth": 0,
              "ticks": ""
             }
            },
            "type": "scatter3d"
           }
          ],
          "scattercarpet": [
           {
            "marker": {
             "colorbar": {
              "outlinewidth": 0,
              "ticks": ""
             }
            },
            "type": "scattercarpet"
           }
          ],
          "scattergeo": [
           {
            "marker": {
             "colorbar": {
              "outlinewidth": 0,
              "ticks": ""
             }
            },
            "type": "scattergeo"
           }
          ],
          "scattergl": [
           {
            "marker": {
             "colorbar": {
              "outlinewidth": 0,
              "ticks": ""
             }
            },
            "type": "scattergl"
           }
          ],
          "scattermapbox": [
           {
            "marker": {
             "colorbar": {
              "outlinewidth": 0,
              "ticks": ""
             }
            },
            "type": "scattermapbox"
           }
          ],
          "scatterpolar": [
           {
            "marker": {
             "colorbar": {
              "outlinewidth": 0,
              "ticks": ""
             }
            },
            "type": "scatterpolar"
           }
          ],
          "scatterpolargl": [
           {
            "marker": {
             "colorbar": {
              "outlinewidth": 0,
              "ticks": ""
             }
            },
            "type": "scatterpolargl"
           }
          ],
          "scatterternary": [
           {
            "marker": {
             "colorbar": {
              "outlinewidth": 0,
              "ticks": ""
             }
            },
            "type": "scatterternary"
           }
          ],
          "surface": [
           {
            "colorbar": {
             "outlinewidth": 0,
             "ticks": ""
            },
            "colorscale": [
             [
              0.0,
              "#0d0887"
             ],
             [
              0.1111111111111111,
              "#46039f"
             ],
             [
              0.2222222222222222,
              "#7201a8"
             ],
             [
              0.3333333333333333,
              "#9c179e"
             ],
             [
              0.4444444444444444,
              "#bd3786"
             ],
             [
              0.5555555555555556,
              "#d8576b"
             ],
             [
              0.6666666666666666,
              "#ed7953"
             ],
             [
              0.7777777777777778,
              "#fb9f3a"
             ],
             [
              0.8888888888888888,
              "#fdca26"
             ],
             [
              1.0,
              "#f0f921"
             ]
            ],
            "type": "surface"
           }
          ],
          "table": [
           {
            "cells": {
             "fill": {
              "color": "#EBF0F8"
             },
             "line": {
              "color": "white"
             }
            },
            "header": {
             "fill": {
              "color": "#C8D4E3"
             },
             "line": {
              "color": "white"
             }
            },
            "type": "table"
           }
          ]
         },
         "layout": {
          "annotationdefaults": {
           "arrowcolor": "#2a3f5f",
           "arrowhead": 0,
           "arrowwidth": 1
          },
          "autotypenumbers": "strict",
          "coloraxis": {
           "colorbar": {
            "outlinewidth": 0,
            "ticks": ""
           }
          },
          "colorscale": {
           "diverging": [
            [
             0,
             "#8e0152"
            ],
            [
             0.1,
             "#c51b7d"
            ],
            [
             0.2,
             "#de77ae"
            ],
            [
             0.3,
             "#f1b6da"
            ],
            [
             0.4,
             "#fde0ef"
            ],
            [
             0.5,
             "#f7f7f7"
            ],
            [
             0.6,
             "#e6f5d0"
            ],
            [
             0.7,
             "#b8e186"
            ],
            [
             0.8,
             "#7fbc41"
            ],
            [
             0.9,
             "#4d9221"
            ],
            [
             1,
             "#276419"
            ]
           ],
           "sequential": [
            [
             0.0,
             "#0d0887"
            ],
            [
             0.1111111111111111,
             "#46039f"
            ],
            [
             0.2222222222222222,
             "#7201a8"
            ],
            [
             0.3333333333333333,
             "#9c179e"
            ],
            [
             0.4444444444444444,
             "#bd3786"
            ],
            [
             0.5555555555555556,
             "#d8576b"
            ],
            [
             0.6666666666666666,
             "#ed7953"
            ],
            [
             0.7777777777777778,
             "#fb9f3a"
            ],
            [
             0.8888888888888888,
             "#fdca26"
            ],
            [
             1.0,
             "#f0f921"
            ]
           ],
           "sequentialminus": [
            [
             0.0,
             "#0d0887"
            ],
            [
             0.1111111111111111,
             "#46039f"
            ],
            [
             0.2222222222222222,
             "#7201a8"
            ],
            [
             0.3333333333333333,
             "#9c179e"
            ],
            [
             0.4444444444444444,
             "#bd3786"
            ],
            [
             0.5555555555555556,
             "#d8576b"
            ],
            [
             0.6666666666666666,
             "#ed7953"
            ],
            [
             0.7777777777777778,
             "#fb9f3a"
            ],
            [
             0.8888888888888888,
             "#fdca26"
            ],
            [
             1.0,
             "#f0f921"
            ]
           ]
          },
          "colorway": [
           "#636efa",
           "#EF553B",
           "#00cc96",
           "#ab63fa",
           "#FFA15A",
           "#19d3f3",
           "#FF6692",
           "#B6E880",
           "#FF97FF",
           "#FECB52"
          ],
          "font": {
           "color": "#2a3f5f"
          },
          "geo": {
           "bgcolor": "white",
           "lakecolor": "white",
           "landcolor": "#E5ECF6",
           "showlakes": true,
           "showland": true,
           "subunitcolor": "white"
          },
          "hoverlabel": {
           "align": "left"
          },
          "hovermode": "closest",
          "mapbox": {
           "style": "light"
          },
          "paper_bgcolor": "white",
          "plot_bgcolor": "#E5ECF6",
          "polar": {
           "angularaxis": {
            "gridcolor": "white",
            "linecolor": "white",
            "ticks": ""
           },
           "bgcolor": "#E5ECF6",
           "radialaxis": {
            "gridcolor": "white",
            "linecolor": "white",
            "ticks": ""
           }
          },
          "scene": {
           "xaxis": {
            "backgroundcolor": "#E5ECF6",
            "gridcolor": "white",
            "gridwidth": 2,
            "linecolor": "white",
            "showbackground": true,
            "ticks": "",
            "zerolinecolor": "white"
           },
           "yaxis": {
            "backgroundcolor": "#E5ECF6",
            "gridcolor": "white",
            "gridwidth": 2,
            "linecolor": "white",
            "showbackground": true,
            "ticks": "",
            "zerolinecolor": "white"
           },
           "zaxis": {
            "backgroundcolor": "#E5ECF6",
            "gridcolor": "white",
            "gridwidth": 2,
            "linecolor": "white",
            "showbackground": true,
            "ticks": "",
            "zerolinecolor": "white"
           }
          },
          "shapedefaults": {
           "line": {
            "color": "#2a3f5f"
           }
          },
          "ternary": {
           "aaxis": {
            "gridcolor": "white",
            "linecolor": "white",
            "ticks": ""
           },
           "baxis": {
            "gridcolor": "white",
            "linecolor": "white",
            "ticks": ""
           },
           "bgcolor": "#E5ECF6",
           "caxis": {
            "gridcolor": "white",
            "linecolor": "white",
            "ticks": ""
           }
          },
          "title": {
           "x": 0.05
          },
          "xaxis": {
           "automargin": true,
           "gridcolor": "white",
           "linecolor": "white",
           "ticks": "",
           "title": {
            "standoff": 15
           },
           "zerolinecolor": "white",
           "zerolinewidth": 2
          },
          "yaxis": {
           "automargin": true,
           "gridcolor": "white",
           "linecolor": "white",
           "ticks": "",
           "title": {
            "standoff": 15
           },
           "zerolinecolor": "white",
           "zerolinewidth": 2
          }
         }
        },
        "xaxis": {
         "anchor": "y",
         "domain": [
          0.0,
          1.0
         ],
         "title": {
          "text": "Time"
         }
        },
        "yaxis": {
         "anchor": "x",
         "domain": [
          0.0,
          1.0
         ],
         "title": {
          "text": "Global_active_power"
         }
        },
        "legend": {
         "tracegroupgap": 0
        },
        "margin": {
         "t": 60
        },
        "title": {
         "text": "Monthly 99% percentile Global_active_power"
        },
        "width": 1000
       },
       "config": {
        "plotlyServerURL": "https://plot.ly"
       }
      },
      "text/html": "<div>                            <div id=\"49348a30-f4dc-42bc-a01e-599f8f5c03d1\" class=\"plotly-graph-div\" style=\"height:525px; width:1000px;\"></div>            <script type=\"text/javascript\">                require([\"plotly\"], function(Plotly) {                    window.PLOTLYENV=window.PLOTLYENV || {};                                    if (document.getElementById(\"49348a30-f4dc-42bc-a01e-599f8f5c03d1\")) {                    Plotly.newPlot(                        \"49348a30-f4dc-42bc-a01e-599f8f5c03d1\",                        [{\"hovertemplate\":\"x=%{x}<br>y=%{y}<extra></extra>\",\"legendgroup\":\"\",\"line\":{\"color\":\"#636efa\",\"dash\":\"solid\"},\"marker\":{\"symbol\":\"circle\"},\"mode\":\"lines\",\"name\":\"\",\"orientation\":\"v\",\"showlegend\":false,\"x\":[\"2007-07-31T00:00:00\",\"2007-08-31T00:00:00\",\"2007-09-30T00:00:00\",\"2007-10-31T00:00:00\",\"2007-11-30T00:00:00\",\"2007-12-31T00:00:00\",\"2008-01-31T00:00:00\",\"2008-02-29T00:00:00\",\"2008-03-31T00:00:00\",\"2008-04-30T00:00:00\",\"2008-05-31T00:00:00\",\"2008-06-30T00:00:00\",\"2008-07-31T00:00:00\",\"2008-08-31T00:00:00\",\"2008-09-30T00:00:00\",\"2008-10-31T00:00:00\",\"2008-11-30T00:00:00\",\"2008-12-31T00:00:00\",\"2009-01-31T00:00:00\",\"2009-02-28T00:00:00\",\"2009-03-31T00:00:00\",\"2009-04-30T00:00:00\",\"2009-05-31T00:00:00\",\"2009-06-30T00:00:00\",\"2009-07-31T00:00:00\",\"2009-08-31T00:00:00\",\"2009-09-30T00:00:00\",\"2009-10-31T00:00:00\",\"2009-11-30T00:00:00\",\"2009-12-31T00:00:00\",\"2010-01-31T00:00:00\",\"2010-02-28T00:00:00\",\"2010-03-31T00:00:00\",\"2010-04-30T00:00:00\",\"2010-05-31T00:00:00\",\"2010-06-30T00:00:00\",\"2010-07-31T00:00:00\",\"2010-08-31T00:00:00\",\"2010-09-30T00:00:00\",\"2010-10-31T00:00:00\",\"2010-11-30T00:00:00\",\"2010-12-31T00:00:00\"],\"xaxis\":\"x\",\"y\":[4.671220000000001,4.6892200000000015,5.0440600000000115,5.346,5.506060000000012,5.849220000000001,5.328,4.54,4.847220000000001,4.750060000000012,4.972440000000002,4.79,4.2,4.3996600000000035,4.588020000000004,4.9872200000000015,5.182,5.043220000000001,5.524,4.462,4.566,4.420040000000008,4.191220000000001,3.756020000000004,4.1,4.418,4.234,4.827220000000001,5.444,5.090440000000002,4.874060000000012,4.8408399999999965,4.514060000000012,4.0128199999999925,4.116020000000003,4.032819999999992,3.41,3.9700400000000085,3.8792799999999694,4.704020000000003,4.432,3.882],\"yaxis\":\"y\",\"type\":\"scatter\"},{\"mode\":\"lines\",\"name\":\"Double LSTM\",\"x\":[\"2010-07-31T00:00:00\",\"2010-08-31T00:00:00\",\"2010-09-30T00:00:00\",\"2010-10-31T00:00:00\",\"2010-11-30T00:00:00\",\"2010-12-31T00:00:00\"],\"y\":[4.059843063354492,4.055752277374268,4.0517683029174805,4.048275470733643,4.049483299255371,4.0490522384643555],\"type\":\"scatter\"}],                        {\"template\":{\"data\":{\"bar\":[{\"error_x\":{\"color\":\"#2a3f5f\"},\"error_y\":{\"color\":\"#2a3f5f\"},\"marker\":{\"line\":{\"color\":\"#E5ECF6\",\"width\":0.5},\"pattern\":{\"fillmode\":\"overlay\",\"size\":10,\"solidity\":0.2}},\"type\":\"bar\"}],\"barpolar\":[{\"marker\":{\"line\":{\"color\":\"#E5ECF6\",\"width\":0.5},\"pattern\":{\"fillmode\":\"overlay\",\"size\":10,\"solidity\":0.2}},\"type\":\"barpolar\"}],\"carpet\":[{\"aaxis\":{\"endlinecolor\":\"#2a3f5f\",\"gridcolor\":\"white\",\"linecolor\":\"white\",\"minorgridcolor\":\"white\",\"startlinecolor\":\"#2a3f5f\"},\"baxis\":{\"endlinecolor\":\"#2a3f5f\",\"gridcolor\":\"white\",\"linecolor\":\"white\",\"minorgridcolor\":\"white\",\"startlinecolor\":\"#2a3f5f\"},\"type\":\"carpet\"}],\"choropleth\":[{\"colorbar\":{\"outlinewidth\":0,\"ticks\":\"\"},\"type\":\"choropleth\"}],\"contour\":[{\"colorbar\":{\"outlinewidth\":0,\"ticks\":\"\"},\"colorscale\":[[0.0,\"#0d0887\"],[0.1111111111111111,\"#46039f\"],[0.2222222222222222,\"#7201a8\"],[0.3333333333333333,\"#9c179e\"],[0.4444444444444444,\"#bd3786\"],[0.5555555555555556,\"#d8576b\"],[0.6666666666666666,\"#ed7953\"],[0.7777777777777778,\"#fb9f3a\"],[0.8888888888888888,\"#fdca26\"],[1.0,\"#f0f921\"]],\"type\":\"contour\"}],\"contourcarpet\":[{\"colorbar\":{\"outlinewidth\":0,\"ticks\":\"\"},\"type\":\"contourcarpet\"}],\"heatmap\":[{\"colorbar\":{\"outlinewidth\":0,\"ticks\":\"\"},\"colorscale\":[[0.0,\"#0d0887\"],[0.1111111111111111,\"#46039f\"],[0.2222222222222222,\"#7201a8\"],[0.3333333333333333,\"#9c179e\"],[0.4444444444444444,\"#bd3786\"],[0.5555555555555556,\"#d8576b\"],[0.6666666666666666,\"#ed7953\"],[0.7777777777777778,\"#fb9f3a\"],[0.8888888888888888,\"#fdca26\"],[1.0,\"#f0f921\"]],\"type\":\"heatmap\"}],\"heatmapgl\":[{\"colorbar\":{\"outlinewidth\":0,\"ticks\":\"\"},\"colorscale\":[[0.0,\"#0d0887\"],[0.1111111111111111,\"#46039f\"],[0.2222222222222222,\"#7201a8\"],[0.3333333333333333,\"#9c179e\"],[0.4444444444444444,\"#bd3786\"],[0.5555555555555556,\"#d8576b\"],[0.6666666666666666,\"#ed7953\"],[0.7777777777777778,\"#fb9f3a\"],[0.8888888888888888,\"#fdca26\"],[1.0,\"#f0f921\"]],\"type\":\"heatmapgl\"}],\"histogram\":[{\"marker\":{\"pattern\":{\"fillmode\":\"overlay\",\"size\":10,\"solidity\":0.2}},\"type\":\"histogram\"}],\"histogram2d\":[{\"colorbar\":{\"outlinewidth\":0,\"ticks\":\"\"},\"colorscale\":[[0.0,\"#0d0887\"],[0.1111111111111111,\"#46039f\"],[0.2222222222222222,\"#7201a8\"],[0.3333333333333333,\"#9c179e\"],[0.4444444444444444,\"#bd3786\"],[0.5555555555555556,\"#d8576b\"],[0.6666666666666666,\"#ed7953\"],[0.7777777777777778,\"#fb9f3a\"],[0.8888888888888888,\"#fdca26\"],[1.0,\"#f0f921\"]],\"type\":\"histogram2d\"}],\"histogram2dcontour\":[{\"colorbar\":{\"outlinewidth\":0,\"ticks\":\"\"},\"colorscale\":[[0.0,\"#0d0887\"],[0.1111111111111111,\"#46039f\"],[0.2222222222222222,\"#7201a8\"],[0.3333333333333333,\"#9c179e\"],[0.4444444444444444,\"#bd3786\"],[0.5555555555555556,\"#d8576b\"],[0.6666666666666666,\"#ed7953\"],[0.7777777777777778,\"#fb9f3a\"],[0.8888888888888888,\"#fdca26\"],[1.0,\"#f0f921\"]],\"type\":\"histogram2dcontour\"}],\"mesh3d\":[{\"colorbar\":{\"outlinewidth\":0,\"ticks\":\"\"},\"type\":\"mesh3d\"}],\"parcoords\":[{\"line\":{\"colorbar\":{\"outlinewidth\":0,\"ticks\":\"\"}},\"type\":\"parcoords\"}],\"pie\":[{\"automargin\":true,\"type\":\"pie\"}],\"scatter\":[{\"marker\":{\"colorbar\":{\"outlinewidth\":0,\"ticks\":\"\"}},\"type\":\"scatter\"}],\"scatter3d\":[{\"line\":{\"colorbar\":{\"outlinewidth\":0,\"ticks\":\"\"}},\"marker\":{\"colorbar\":{\"outlinewidth\":0,\"ticks\":\"\"}},\"type\":\"scatter3d\"}],\"scattercarpet\":[{\"marker\":{\"colorbar\":{\"outlinewidth\":0,\"ticks\":\"\"}},\"type\":\"scattercarpet\"}],\"scattergeo\":[{\"marker\":{\"colorbar\":{\"outlinewidth\":0,\"ticks\":\"\"}},\"type\":\"scattergeo\"}],\"scattergl\":[{\"marker\":{\"colorbar\":{\"outlinewidth\":0,\"ticks\":\"\"}},\"type\":\"scattergl\"}],\"scattermapbox\":[{\"marker\":{\"colorbar\":{\"outlinewidth\":0,\"ticks\":\"\"}},\"type\":\"scattermapbox\"}],\"scatterpolar\":[{\"marker\":{\"colorbar\":{\"outlinewidth\":0,\"ticks\":\"\"}},\"type\":\"scatterpolar\"}],\"scatterpolargl\":[{\"marker\":{\"colorbar\":{\"outlinewidth\":0,\"ticks\":\"\"}},\"type\":\"scatterpolargl\"}],\"scatterternary\":[{\"marker\":{\"colorbar\":{\"outlinewidth\":0,\"ticks\":\"\"}},\"type\":\"scatterternary\"}],\"surface\":[{\"colorbar\":{\"outlinewidth\":0,\"ticks\":\"\"},\"colorscale\":[[0.0,\"#0d0887\"],[0.1111111111111111,\"#46039f\"],[0.2222222222222222,\"#7201a8\"],[0.3333333333333333,\"#9c179e\"],[0.4444444444444444,\"#bd3786\"],[0.5555555555555556,\"#d8576b\"],[0.6666666666666666,\"#ed7953\"],[0.7777777777777778,\"#fb9f3a\"],[0.8888888888888888,\"#fdca26\"],[1.0,\"#f0f921\"]],\"type\":\"surface\"}],\"table\":[{\"cells\":{\"fill\":{\"color\":\"#EBF0F8\"},\"line\":{\"color\":\"white\"}},\"header\":{\"fill\":{\"color\":\"#C8D4E3\"},\"line\":{\"color\":\"white\"}},\"type\":\"table\"}]},\"layout\":{\"annotationdefaults\":{\"arrowcolor\":\"#2a3f5f\",\"arrowhead\":0,\"arrowwidth\":1},\"autotypenumbers\":\"strict\",\"coloraxis\":{\"colorbar\":{\"outlinewidth\":0,\"ticks\":\"\"}},\"colorscale\":{\"diverging\":[[0,\"#8e0152\"],[0.1,\"#c51b7d\"],[0.2,\"#de77ae\"],[0.3,\"#f1b6da\"],[0.4,\"#fde0ef\"],[0.5,\"#f7f7f7\"],[0.6,\"#e6f5d0\"],[0.7,\"#b8e186\"],[0.8,\"#7fbc41\"],[0.9,\"#4d9221\"],[1,\"#276419\"]],\"sequential\":[[0.0,\"#0d0887\"],[0.1111111111111111,\"#46039f\"],[0.2222222222222222,\"#7201a8\"],[0.3333333333333333,\"#9c179e\"],[0.4444444444444444,\"#bd3786\"],[0.5555555555555556,\"#d8576b\"],[0.6666666666666666,\"#ed7953\"],[0.7777777777777778,\"#fb9f3a\"],[0.8888888888888888,\"#fdca26\"],[1.0,\"#f0f921\"]],\"sequentialminus\":[[0.0,\"#0d0887\"],[0.1111111111111111,\"#46039f\"],[0.2222222222222222,\"#7201a8\"],[0.3333333333333333,\"#9c179e\"],[0.4444444444444444,\"#bd3786\"],[0.5555555555555556,\"#d8576b\"],[0.6666666666666666,\"#ed7953\"],[0.7777777777777778,\"#fb9f3a\"],[0.8888888888888888,\"#fdca26\"],[1.0,\"#f0f921\"]]},\"colorway\":[\"#636efa\",\"#EF553B\",\"#00cc96\",\"#ab63fa\",\"#FFA15A\",\"#19d3f3\",\"#FF6692\",\"#B6E880\",\"#FF97FF\",\"#FECB52\"],\"font\":{\"color\":\"#2a3f5f\"},\"geo\":{\"bgcolor\":\"white\",\"lakecolor\":\"white\",\"landcolor\":\"#E5ECF6\",\"showlakes\":true,\"showland\":true,\"subunitcolor\":\"white\"},\"hoverlabel\":{\"align\":\"left\"},\"hovermode\":\"closest\",\"mapbox\":{\"style\":\"light\"},\"paper_bgcolor\":\"white\",\"plot_bgcolor\":\"#E5ECF6\",\"polar\":{\"angularaxis\":{\"gridcolor\":\"white\",\"linecolor\":\"white\",\"ticks\":\"\"},\"bgcolor\":\"#E5ECF6\",\"radialaxis\":{\"gridcolor\":\"white\",\"linecolor\":\"white\",\"ticks\":\"\"}},\"scene\":{\"xaxis\":{\"backgroundcolor\":\"#E5ECF6\",\"gridcolor\":\"white\",\"gridwidth\":2,\"linecolor\":\"white\",\"showbackground\":true,\"ticks\":\"\",\"zerolinecolor\":\"white\"},\"yaxis\":{\"backgroundcolor\":\"#E5ECF6\",\"gridcolor\":\"white\",\"gridwidth\":2,\"linecolor\":\"white\",\"showbackground\":true,\"ticks\":\"\",\"zerolinecolor\":\"white\"},\"zaxis\":{\"backgroundcolor\":\"#E5ECF6\",\"gridcolor\":\"white\",\"gridwidth\":2,\"linecolor\":\"white\",\"showbackground\":true,\"ticks\":\"\",\"zerolinecolor\":\"white\"}},\"shapedefaults\":{\"line\":{\"color\":\"#2a3f5f\"}},\"ternary\":{\"aaxis\":{\"gridcolor\":\"white\",\"linecolor\":\"white\",\"ticks\":\"\"},\"baxis\":{\"gridcolor\":\"white\",\"linecolor\":\"white\",\"ticks\":\"\"},\"bgcolor\":\"#E5ECF6\",\"caxis\":{\"gridcolor\":\"white\",\"linecolor\":\"white\",\"ticks\":\"\"}},\"title\":{\"x\":0.05},\"xaxis\":{\"automargin\":true,\"gridcolor\":\"white\",\"linecolor\":\"white\",\"ticks\":\"\",\"title\":{\"standoff\":15},\"zerolinecolor\":\"white\",\"zerolinewidth\":2},\"yaxis\":{\"automargin\":true,\"gridcolor\":\"white\",\"linecolor\":\"white\",\"ticks\":\"\",\"title\":{\"standoff\":15},\"zerolinecolor\":\"white\",\"zerolinewidth\":2}}},\"xaxis\":{\"anchor\":\"y\",\"domain\":[0.0,1.0],\"title\":{\"text\":\"Time\"}},\"yaxis\":{\"anchor\":\"x\",\"domain\":[0.0,1.0],\"title\":{\"text\":\"Global_active_power\"}},\"legend\":{\"tracegroupgap\":0},\"margin\":{\"t\":60},\"title\":{\"text\":\"Monthly 99% percentile Global_active_power\"},\"width\":1000},                        {\"responsive\": true}                    ).then(function(){\n                            \nvar gd = document.getElementById('49348a30-f4dc-42bc-a01e-599f8f5c03d1');\nvar x = new MutationObserver(function (mutations, observer) {{\n        var display = window.getComputedStyle(gd).display;\n        if (!display || display === 'none') {{\n            console.log([gd, 'removed!']);\n            Plotly.purge(gd);\n            observer.disconnect();\n        }}\n}});\n\n// Listen for the removal of the full notebook cells\nvar notebookContainer = gd.closest('#notebook-container');\nif (notebookContainer) {{\n    x.observe(notebookContainer, {childList: true});\n}}\n\n// Listen for the clearing of the current output cell\nvar outputEl = gd.closest('.output');\nif (outputEl) {{\n    x.observe(outputEl, {childList: true});\n}}\n\n                        })                };                });            </script>        </div>"
     },
     "metadata": {},
     "output_type": "display_data"
    }
   ],
   "source": [
    "figure = px.line(x=df_monthly.index, y=df_monthly[var])\n",
    "figure.add_scatter(x=y_true.index, y=y_pred_2lstm, mode=\"lines\", name=\"Double LSTM\")\n",
    "figure.update_layout(\n",
    "    title=f\"Monthly 99% percentile {var}\",\n",
    "    width=1000,\n",
    "    xaxis_title=\"Time\",\n",
    "    yaxis_title=f\"{var}\",\n",
    ")\n",
    "figure.show()"
   ],
   "metadata": {
    "collapsed": false,
    "pycharm": {
     "name": "#%%\n"
    }
   }
  },
  {
   "cell_type": "markdown",
   "source": [
    "# GRU"
   ],
   "metadata": {
    "collapsed": false,
    "pycharm": {
     "name": "#%% md\n"
    }
   }
  },
  {
   "cell_type": "code",
   "execution_count": 248,
   "outputs": [
    {
     "name": "stdout",
     "output_type": "stream",
     "text": [
      "Model loaded: KerasCoreModel.gru\n",
      "GRU\n",
      "model.add(GRU(cell_units, input_shape=(train_X.shape[1],1), return_sequences=True))\n",
      "model.add(GRU(cell_units, input_shape=(train_X.shape[1],1)))\n",
      "Epoch 1/500\n",
      "1/1 [==============================] - 3s 3s/step - loss: 24.0994 - val_loss: 16.9161\n",
      "Epoch 2/500\n",
      "1/1 [==============================] - 0s 45ms/step - loss: 22.6894 - val_loss: 15.7851\n",
      "Epoch 3/500\n",
      "1/1 [==============================] - 0s 39ms/step - loss: 21.3226 - val_loss: 14.6966\n",
      "Epoch 4/500\n",
      "1/1 [==============================] - 0s 43ms/step - loss: 20.0014 - val_loss: 13.6520\n",
      "Epoch 5/500\n",
      "1/1 [==============================] - 0s 41ms/step - loss: 18.7279 - val_loss: 12.6521\n",
      "Epoch 6/500\n",
      "1/1 [==============================] - 0s 45ms/step - loss: 17.5036 - val_loss: 11.6971\n",
      "Epoch 7/500\n",
      "1/1 [==============================] - 0s 42ms/step - loss: 16.3290 - val_loss: 10.7867\n",
      "Epoch 8/500\n",
      "1/1 [==============================] - 0s 42ms/step - loss: 15.2043 - val_loss: 9.9203\n",
      "Epoch 9/500\n",
      "1/1 [==============================] - 0s 37ms/step - loss: 14.1290 - val_loss: 9.0973\n",
      "Epoch 10/500\n",
      "1/1 [==============================] - 0s 40ms/step - loss: 13.1027 - val_loss: 8.3170\n",
      "Epoch 11/500\n",
      "1/1 [==============================] - 0s 39ms/step - loss: 12.1248 - val_loss: 7.5788\n",
      "Epoch 12/500\n",
      "1/1 [==============================] - 0s 40ms/step - loss: 11.1946 - val_loss: 6.8818\n",
      "Epoch 13/500\n",
      "1/1 [==============================] - 0s 44ms/step - loss: 10.3112 - val_loss: 6.2253\n",
      "Epoch 14/500\n",
      "1/1 [==============================] - 0s 42ms/step - loss: 9.4737 - val_loss: 5.6085\n",
      "Epoch 15/500\n",
      "1/1 [==============================] - 0s 40ms/step - loss: 8.6812 - val_loss: 5.0304\n",
      "Epoch 16/500\n",
      "1/1 [==============================] - 0s 40ms/step - loss: 7.9326 - val_loss: 4.4903\n",
      "Epoch 17/500\n",
      "1/1 [==============================] - 0s 43ms/step - loss: 7.2268 - val_loss: 3.9872\n",
      "Epoch 18/500\n",
      "1/1 [==============================] - 0s 40ms/step - loss: 6.5626 - val_loss: 3.5202\n",
      "Epoch 19/500\n",
      "1/1 [==============================] - 0s 40ms/step - loss: 5.9390 - val_loss: 3.0885\n",
      "Epoch 20/500\n",
      "1/1 [==============================] - 0s 41ms/step - loss: 5.3549 - val_loss: 2.6912\n",
      "Epoch 21/500\n",
      "1/1 [==============================] - 0s 39ms/step - loss: 4.8091 - val_loss: 2.3275\n",
      "Epoch 22/500\n",
      "1/1 [==============================] - 0s 43ms/step - loss: 4.3007 - val_loss: 1.9965\n",
      "Epoch 23/500\n",
      "1/1 [==============================] - 0s 41ms/step - loss: 3.8286 - val_loss: 1.6973\n",
      "Epoch 24/500\n",
      "1/1 [==============================] - 0s 39ms/step - loss: 3.3919 - val_loss: 1.4290\n",
      "Epoch 25/500\n",
      "1/1 [==============================] - 0s 41ms/step - loss: 2.9896 - val_loss: 1.1908\n",
      "Epoch 26/500\n",
      "1/1 [==============================] - 0s 45ms/step - loss: 2.6207 - val_loss: 0.9815\n",
      "Epoch 27/500\n",
      "1/1 [==============================] - 0s 44ms/step - loss: 2.2841 - val_loss: 0.8000\n",
      "Epoch 28/500\n",
      "1/1 [==============================] - 0s 40ms/step - loss: 1.9788 - val_loss: 0.6453\n",
      "Epoch 29/500\n",
      "1/1 [==============================] - 0s 39ms/step - loss: 1.7037 - val_loss: 0.5160\n",
      "Epoch 30/500\n",
      "1/1 [==============================] - 0s 43ms/step - loss: 1.4575 - val_loss: 0.4106\n",
      "Epoch 31/500\n",
      "1/1 [==============================] - 0s 40ms/step - loss: 1.2391 - val_loss: 0.3277\n",
      "Epoch 32/500\n",
      "1/1 [==============================] - 0s 41ms/step - loss: 1.0469 - val_loss: 0.2657\n",
      "Epoch 33/500\n",
      "1/1 [==============================] - 0s 39ms/step - loss: 0.8796 - val_loss: 0.2227\n",
      "Epoch 34/500\n",
      "1/1 [==============================] - 0s 42ms/step - loss: 0.7356 - val_loss: 0.1970\n",
      "Epoch 35/500\n",
      "1/1 [==============================] - 0s 39ms/step - loss: 0.6131 - val_loss: 0.1866\n",
      "Epoch 36/500\n",
      "1/1 [==============================] - 0s 20ms/step - loss: 0.5105 - val_loss: 0.1896\n",
      "Epoch 37/500\n",
      "1/1 [==============================] - 0s 20ms/step - loss: 0.4259 - val_loss: 0.2039\n",
      "Epoch 38/500\n",
      "1/1 [==============================] - 0s 21ms/step - loss: 0.3575 - val_loss: 0.2278\n",
      "Epoch 39/500\n",
      "1/1 [==============================] - 0s 20ms/step - loss: 0.3034 - val_loss: 0.2591\n",
      "Epoch 40/500\n",
      "1/1 [==============================] - 0s 21ms/step - loss: 0.2617 - val_loss: 0.2963\n",
      "Epoch 41/500\n",
      "1/1 [==============================] - 0s 23ms/step - loss: 0.2308 - val_loss: 0.3376\n",
      "Epoch 42/500\n",
      "1/1 [==============================] - 0s 21ms/step - loss: 0.2089 - val_loss: 0.3814\n",
      "Epoch 43/500\n",
      "1/1 [==============================] - 0s 20ms/step - loss: 0.1945 - val_loss: 0.4265\n",
      "Epoch 44/500\n",
      "1/1 [==============================] - 0s 19ms/step - loss: 0.1861 - val_loss: 0.4716\n",
      "Epoch 45/500\n",
      "1/1 [==============================] - 0s 20ms/step - loss: 0.1825 - val_loss: 0.5158\n",
      "Epoch 46/500\n",
      "1/1 [==============================] - 0s 20ms/step - loss: 0.1825 - val_loss: 0.5581\n",
      "Epoch 47/500\n",
      "1/1 [==============================] - 0s 20ms/step - loss: 0.1851 - val_loss: 0.5979\n",
      "Epoch 48/500\n",
      "1/1 [==============================] - 0s 22ms/step - loss: 0.1896 - val_loss: 0.6347\n",
      "Epoch 49/500\n",
      "1/1 [==============================] - 0s 20ms/step - loss: 0.1951 - val_loss: 0.6680\n",
      "Epoch 50/500\n",
      "1/1 [==============================] - 0s 21ms/step - loss: 0.2012 - val_loss: 0.6976\n",
      "Epoch 51/500\n",
      "1/1 [==============================] - 0s 20ms/step - loss: 0.2073 - val_loss: 0.7234\n",
      "Epoch 52/500\n",
      "1/1 [==============================] - 0s 20ms/step - loss: 0.2132 - val_loss: 0.7451\n",
      "Epoch 53/500\n",
      "1/1 [==============================] - 0s 21ms/step - loss: 0.2185 - val_loss: 0.7629\n",
      "Epoch 54/500\n",
      "1/1 [==============================] - 0s 20ms/step - loss: 0.2230 - val_loss: 0.7769\n",
      "Epoch 55/500\n",
      "1/1 [==============================] - 0s 21ms/step - loss: 0.2267 - val_loss: 0.7871\n",
      "Epoch 56/500\n",
      "1/1 [==============================] - 0s 20ms/step - loss: 0.2295 - val_loss: 0.7939\n",
      "Epoch 57/500\n",
      "1/1 [==============================] - 0s 20ms/step - loss: 0.2313 - val_loss: 0.7973\n",
      "Epoch 58/500\n",
      "1/1 [==============================] - 0s 20ms/step - loss: 0.2322 - val_loss: 0.7977\n",
      "Epoch 59/500\n",
      "1/1 [==============================] - 0s 20ms/step - loss: 0.2323 - val_loss: 0.7953\n",
      "Epoch 60/500\n",
      "1/1 [==============================] - 0s 20ms/step - loss: 0.2315 - val_loss: 0.7905\n",
      "Epoch 61/500\n",
      "1/1 [==============================] - 0s 20ms/step - loss: 0.2301 - val_loss: 0.7834\n",
      "Epoch 62/500\n",
      "1/1 [==============================] - 0s 22ms/step - loss: 0.2281 - val_loss: 0.7744\n",
      "Epoch 63/500\n",
      "1/1 [==============================] - 0s 20ms/step - loss: 0.2256 - val_loss: 0.7638\n",
      "Epoch 64/500\n",
      "1/1 [==============================] - 0s 20ms/step - loss: 0.2227 - val_loss: 0.7519\n",
      "Epoch 65/500\n",
      "1/1 [==============================] - 0s 23ms/step - loss: 0.2196 - val_loss: 0.7388\n",
      "Epoch 66/500\n",
      "1/1 [==============================] - 0s 47ms/step - loss: 0.2162 - val_loss: 0.7249\n",
      "Epoch 67/500\n",
      "1/1 [==============================] - 0s 22ms/step - loss: 0.2128 - val_loss: 0.7104\n",
      "Epoch 68/500\n",
      "1/1 [==============================] - 0s 28ms/step - loss: 0.2093 - val_loss: 0.6954\n",
      "Epoch 69/500\n",
      "1/1 [==============================] - 0s 20ms/step - loss: 0.2059 - val_loss: 0.6802\n",
      "Epoch 70/500\n",
      "1/1 [==============================] - 0s 22ms/step - loss: 0.2027 - val_loss: 0.6650\n",
      "Epoch 71/500\n",
      "1/1 [==============================] - 0s 20ms/step - loss: 0.1995 - val_loss: 0.6498\n",
      "Epoch 72/500\n",
      "1/1 [==============================] - 0s 20ms/step - loss: 0.1967 - val_loss: 0.6349\n",
      "Epoch 73/500\n",
      "1/1 [==============================] - 0s 20ms/step - loss: 0.1940 - val_loss: 0.6203\n",
      "Epoch 74/500\n",
      "1/1 [==============================] - 0s 22ms/step - loss: 0.1916 - val_loss: 0.6061\n",
      "Epoch 75/500\n",
      "1/1 [==============================] - 0s 21ms/step - loss: 0.1894 - val_loss: 0.5925\n",
      "Epoch 76/500\n",
      "1/1 [==============================] - 0s 21ms/step - loss: 0.1875 - val_loss: 0.5794\n",
      "Epoch 77/500\n",
      "1/1 [==============================] - 0s 20ms/step - loss: 0.1859 - val_loss: 0.5670\n",
      "Epoch 78/500\n",
      "1/1 [==============================] - 0s 21ms/step - loss: 0.1845 - val_loss: 0.5552\n",
      "Epoch 79/500\n",
      "1/1 [==============================] - 0s 20ms/step - loss: 0.1834 - val_loss: 0.5442\n",
      "Epoch 80/500\n",
      "1/1 [==============================] - 0s 20ms/step - loss: 0.1825 - val_loss: 0.5338\n",
      "Epoch 81/500\n",
      "1/1 [==============================] - 0s 21ms/step - loss: 0.1818 - val_loss: 0.5242\n",
      "Epoch 82/500\n",
      "1/1 [==============================] - 0s 20ms/step - loss: 0.1812 - val_loss: 0.5154\n",
      "Epoch 83/500\n",
      "1/1 [==============================] - 0s 20ms/step - loss: 0.1808 - val_loss: 0.5072\n",
      "Epoch 84/500\n",
      "1/1 [==============================] - 0s 23ms/step - loss: 0.1806 - val_loss: 0.4998\n",
      "Epoch 85/500\n",
      "1/1 [==============================] - 0s 21ms/step - loss: 0.1804 - val_loss: 0.4931\n",
      "Epoch 86/500\n",
      "1/1 [==============================] - 0s 27ms/step - loss: 0.1803 - val_loss: 0.4870\n",
      "Epoch 87/500\n",
      "1/1 [==============================] - 0s 21ms/step - loss: 0.1803 - val_loss: 0.4816\n",
      "Epoch 88/500\n",
      "1/1 [==============================] - 0s 25ms/step - loss: 0.1803 - val_loss: 0.4769\n",
      "Epoch 89/500\n",
      "1/1 [==============================] - 0s 21ms/step - loss: 0.1804 - val_loss: 0.4728\n",
      "Epoch 90/500\n",
      "1/1 [==============================] - 0s 21ms/step - loss: 0.1805 - val_loss: 0.4692\n",
      "Epoch 91/500\n",
      "1/1 [==============================] - 0s 21ms/step - loss: 0.1806 - val_loss: 0.4662\n",
      "Epoch 92/500\n",
      "1/1 [==============================] - 0s 21ms/step - loss: 0.1807 - val_loss: 0.4637\n",
      "Epoch 93/500\n",
      "1/1 [==============================] - 0s 21ms/step - loss: 0.1808 - val_loss: 0.4617\n",
      "Epoch 94/500\n",
      "1/1 [==============================] - 0s 21ms/step - loss: 0.1809 - val_loss: 0.4602\n",
      "Epoch 95/500\n",
      "1/1 [==============================] - 0s 21ms/step - loss: 0.1809 - val_loss: 0.4591\n",
      "Epoch 96/500\n",
      "1/1 [==============================] - 0s 21ms/step - loss: 0.1809 - val_loss: 0.4584\n",
      "Epoch 97/500\n",
      "1/1 [==============================] - 0s 22ms/step - loss: 0.1810 - val_loss: 0.4580\n",
      "Epoch 98/500\n",
      "1/1 [==============================] - 0s 20ms/step - loss: 0.1809 - val_loss: 0.4580\n",
      "Epoch 99/500\n",
      "1/1 [==============================] - 0s 20ms/step - loss: 0.1809 - val_loss: 0.4583\n",
      "Epoch 100/500\n",
      "1/1 [==============================] - 0s 22ms/step - loss: 0.1809 - val_loss: 0.4589\n",
      "Epoch 101/500\n",
      "1/1 [==============================] - 0s 22ms/step - loss: 0.1808 - val_loss: 0.4597\n",
      "Epoch 102/500\n",
      "1/1 [==============================] - 0s 23ms/step - loss: 0.1807 - val_loss: 0.4607\n",
      "Epoch 103/500\n",
      "1/1 [==============================] - 0s 20ms/step - loss: 0.1807 - val_loss: 0.4620\n",
      "Epoch 104/500\n",
      "1/1 [==============================] - 0s 20ms/step - loss: 0.1806 - val_loss: 0.4633\n",
      "Epoch 105/500\n",
      "1/1 [==============================] - 0s 20ms/step - loss: 0.1805 - val_loss: 0.4648\n",
      "Epoch 106/500\n",
      "1/1 [==============================] - 0s 22ms/step - loss: 0.1804 - val_loss: 0.4664\n",
      "Epoch 107/500\n",
      "1/1 [==============================] - 0s 20ms/step - loss: 0.1803 - val_loss: 0.4681\n",
      "Epoch 108/500\n",
      "1/1 [==============================] - 0s 20ms/step - loss: 0.1802 - val_loss: 0.4699\n",
      "Epoch 109/500\n",
      "1/1 [==============================] - 0s 19ms/step - loss: 0.1801 - val_loss: 0.4716\n",
      "Epoch 110/500\n",
      "1/1 [==============================] - 0s 24ms/step - loss: 0.1800 - val_loss: 0.4734\n",
      "Epoch 111/500\n",
      "1/1 [==============================] - 0s 22ms/step - loss: 0.1799 - val_loss: 0.4752\n",
      "Epoch 112/500\n",
      "1/1 [==============================] - 0s 22ms/step - loss: 0.1798 - val_loss: 0.4770\n",
      "Epoch 113/500\n",
      "1/1 [==============================] - 0s 22ms/step - loss: 0.1798 - val_loss: 0.4787\n",
      "Epoch 114/500\n",
      "1/1 [==============================] - 0s 22ms/step - loss: 0.1797 - val_loss: 0.4804\n",
      "Epoch 115/500\n",
      "1/1 [==============================] - 0s 24ms/step - loss: 0.1797 - val_loss: 0.4820\n",
      "Epoch 116/500\n",
      "1/1 [==============================] - 0s 26ms/step - loss: 0.1796 - val_loss: 0.4835\n",
      "Epoch 117/500\n",
      "1/1 [==============================] - 0s 26ms/step - loss: 0.1796 - val_loss: 0.4850\n",
      "Epoch 118/500\n",
      "1/1 [==============================] - 0s 24ms/step - loss: 0.1795 - val_loss: 0.4863\n",
      "Epoch 119/500\n",
      "1/1 [==============================] - 0s 33ms/step - loss: 0.1795 - val_loss: 0.4876\n",
      "Epoch 120/500\n",
      "1/1 [==============================] - 0s 26ms/step - loss: 0.1795 - val_loss: 0.4887\n",
      "Epoch 121/500\n",
      "1/1 [==============================] - 0s 24ms/step - loss: 0.1794 - val_loss: 0.4898\n",
      "Epoch 122/500\n",
      "1/1 [==============================] - 0s 27ms/step - loss: 0.1794 - val_loss: 0.4907\n",
      "Epoch 123/500\n",
      "1/1 [==============================] - 0s 23ms/step - loss: 0.1794 - val_loss: 0.4915\n",
      "Epoch 124/500\n",
      "1/1 [==============================] - 0s 23ms/step - loss: 0.1794 - val_loss: 0.4922\n",
      "Epoch 125/500\n",
      "1/1 [==============================] - 0s 23ms/step - loss: 0.1793 - val_loss: 0.4928\n",
      "Epoch 126/500\n",
      "1/1 [==============================] - 0s 23ms/step - loss: 0.1793 - val_loss: 0.4933\n",
      "Epoch 127/500\n",
      "1/1 [==============================] - 0s 22ms/step - loss: 0.1793 - val_loss: 0.4937\n",
      "Epoch 128/500\n",
      "1/1 [==============================] - 0s 26ms/step - loss: 0.1793 - val_loss: 0.4940\n",
      "Epoch 129/500\n",
      "1/1 [==============================] - 0s 23ms/step - loss: 0.1792 - val_loss: 0.4942\n",
      "Epoch 130/500\n",
      "1/1 [==============================] - 0s 25ms/step - loss: 0.1792 - val_loss: 0.4943\n",
      "Epoch 131/500\n",
      "1/1 [==============================] - 0s 26ms/step - loss: 0.1792 - val_loss: 0.4943\n",
      "Epoch 132/500\n",
      "1/1 [==============================] - 0s 21ms/step - loss: 0.1792 - val_loss: 0.4943\n",
      "Epoch 133/500\n",
      "1/1 [==============================] - 0s 21ms/step - loss: 0.1791 - val_loss: 0.4942\n",
      "Epoch 134/500\n",
      "1/1 [==============================] - 0s 23ms/step - loss: 0.1791 - val_loss: 0.4940\n",
      "Epoch 135/500\n",
      "1/1 [==============================] - 0s 21ms/step - loss: 0.1791 - val_loss: 0.4937\n",
      "Epoch 136/500\n",
      "1/1 [==============================] - 0s 20ms/step - loss: 0.1790 - val_loss: 0.4935\n",
      "Epoch 137/500\n",
      "1/1 [==============================] - 0s 21ms/step - loss: 0.1790 - val_loss: 0.4931\n",
      "Epoch 138/500\n",
      "1/1 [==============================] - 0s 21ms/step - loss: 0.1790 - val_loss: 0.4928\n",
      "Epoch 139/500\n",
      "1/1 [==============================] - 0s 21ms/step - loss: 0.1790 - val_loss: 0.4924\n",
      "Epoch 140/500\n",
      "1/1 [==============================] - 0s 21ms/step - loss: 0.1789 - val_loss: 0.4920\n",
      "Epoch 141/500\n",
      "1/1 [==============================] - 0s 22ms/step - loss: 0.1789 - val_loss: 0.4916\n",
      "Epoch 142/500\n",
      "1/1 [==============================] - 0s 21ms/step - loss: 0.1789 - val_loss: 0.4911\n",
      "Epoch 143/500\n",
      "1/1 [==============================] - 0s 21ms/step - loss: 0.1788 - val_loss: 0.4907\n",
      "Epoch 144/500\n",
      "1/1 [==============================] - 0s 21ms/step - loss: 0.1788 - val_loss: 0.4902\n",
      "Epoch 145/500\n",
      "1/1 [==============================] - 0s 21ms/step - loss: 0.1788 - val_loss: 0.4898\n",
      "Epoch 146/500\n",
      "1/1 [==============================] - 0s 21ms/step - loss: 0.1787 - val_loss: 0.4894\n",
      "Epoch 147/500\n",
      "1/1 [==============================] - 0s 21ms/step - loss: 0.1787 - val_loss: 0.4889\n",
      "Epoch 148/500\n",
      "1/1 [==============================] - 0s 21ms/step - loss: 0.1787 - val_loss: 0.4885\n",
      "Epoch 149/500\n",
      "1/1 [==============================] - 0s 22ms/step - loss: 0.1787 - val_loss: 0.4881\n",
      "Epoch 150/500\n",
      "1/1 [==============================] - 0s 22ms/step - loss: 0.1786 - val_loss: 0.4877\n",
      "Epoch 151/500\n",
      "1/1 [==============================] - 0s 21ms/step - loss: 0.1786 - val_loss: 0.4874\n",
      "Epoch 152/500\n",
      "1/1 [==============================] - 0s 21ms/step - loss: 0.1786 - val_loss: 0.4870\n",
      "Epoch 153/500\n",
      "1/1 [==============================] - 0s 21ms/step - loss: 0.1785 - val_loss: 0.4867\n",
      "Epoch 154/500\n",
      "1/1 [==============================] - 0s 22ms/step - loss: 0.1785 - val_loss: 0.4864\n",
      "Epoch 155/500\n",
      "1/1 [==============================] - 0s 24ms/step - loss: 0.1785 - val_loss: 0.4861\n",
      "Epoch 156/500\n",
      "1/1 [==============================] - 0s 21ms/step - loss: 0.1784 - val_loss: 0.4859\n",
      "Epoch 157/500\n",
      "1/1 [==============================] - 0s 22ms/step - loss: 0.1784 - val_loss: 0.4857\n",
      "Epoch 158/500\n",
      "1/1 [==============================] - 0s 20ms/step - loss: 0.1784 - val_loss: 0.4854\n",
      "Epoch 159/500\n",
      "1/1 [==============================] - 0s 21ms/step - loss: 0.1784 - val_loss: 0.4853\n",
      "Epoch 160/500\n",
      "1/1 [==============================] - 0s 20ms/step - loss: 0.1783 - val_loss: 0.4851\n",
      "Epoch 161/500\n",
      "1/1 [==============================] - 0s 22ms/step - loss: 0.1783 - val_loss: 0.4849\n",
      "Epoch 162/500\n",
      "1/1 [==============================] - 0s 20ms/step - loss: 0.1783 - val_loss: 0.4848\n",
      "Epoch 163/500\n",
      "1/1 [==============================] - 0s 21ms/step - loss: 0.1782 - val_loss: 0.4847\n",
      "Epoch 164/500\n",
      "1/1 [==============================] - 0s 19ms/step - loss: 0.1782 - val_loss: 0.4846\n",
      "Epoch 165/500\n",
      "1/1 [==============================] - 0s 21ms/step - loss: 0.1782 - val_loss: 0.4845\n",
      "Epoch 166/500\n",
      "1/1 [==============================] - 0s 21ms/step - loss: 0.1782 - val_loss: 0.4844\n",
      "Epoch 167/500\n",
      "1/1 [==============================] - 0s 20ms/step - loss: 0.1781 - val_loss: 0.4844\n",
      "Epoch 168/500\n",
      "1/1 [==============================] - 0s 20ms/step - loss: 0.1781 - val_loss: 0.4843\n",
      "Epoch 169/500\n",
      "1/1 [==============================] - 0s 21ms/step - loss: 0.1781 - val_loss: 0.4843\n",
      "Epoch 170/500\n",
      "1/1 [==============================] - 0s 21ms/step - loss: 0.1780 - val_loss: 0.4842\n",
      "Epoch 171/500\n",
      "1/1 [==============================] - 0s 20ms/step - loss: 0.1780 - val_loss: 0.4842\n",
      "Epoch 172/500\n",
      "1/1 [==============================] - 0s 20ms/step - loss: 0.1780 - val_loss: 0.4842\n",
      "Epoch 173/500\n",
      "1/1 [==============================] - 0s 21ms/step - loss: 0.1779 - val_loss: 0.4842\n",
      "Epoch 174/500\n",
      "1/1 [==============================] - 0s 23ms/step - loss: 0.1779 - val_loss: 0.4841\n",
      "Epoch 175/500\n",
      "1/1 [==============================] - 0s 20ms/step - loss: 0.1779 - val_loss: 0.4841\n",
      "Epoch 176/500\n",
      "1/1 [==============================] - 0s 20ms/step - loss: 0.1778 - val_loss: 0.4841\n",
      "Epoch 177/500\n",
      "1/1 [==============================] - 0s 22ms/step - loss: 0.1778 - val_loss: 0.4840\n",
      "Epoch 178/500\n",
      "1/1 [==============================] - 0s 22ms/step - loss: 0.1778 - val_loss: 0.4840\n",
      "Epoch 179/500\n",
      "1/1 [==============================] - 0s 21ms/step - loss: 0.1777 - val_loss: 0.4840\n",
      "Epoch 180/500\n",
      "1/1 [==============================] - 0s 21ms/step - loss: 0.1777 - val_loss: 0.4839\n",
      "Epoch 181/500\n",
      "1/1 [==============================] - 0s 20ms/step - loss: 0.1777 - val_loss: 0.4839\n",
      "Epoch 182/500\n",
      "1/1 [==============================] - 0s 20ms/step - loss: 0.1777 - val_loss: 0.4838\n",
      "Epoch 183/500\n",
      "1/1 [==============================] - 0s 23ms/step - loss: 0.1776 - val_loss: 0.4838\n",
      "Epoch 184/500\n",
      "1/1 [==============================] - 0s 20ms/step - loss: 0.1776 - val_loss: 0.4837\n",
      "Epoch 185/500\n",
      "1/1 [==============================] - 0s 23ms/step - loss: 0.1776 - val_loss: 0.4837\n",
      "Epoch 186/500\n",
      "1/1 [==============================] - 0s 21ms/step - loss: 0.1775 - val_loss: 0.4836\n",
      "Epoch 187/500\n",
      "1/1 [==============================] - 0s 21ms/step - loss: 0.1775 - val_loss: 0.4835\n",
      "Epoch 188/500\n",
      "1/1 [==============================] - 0s 21ms/step - loss: 0.1775 - val_loss: 0.4834\n",
      "Epoch 189/500\n",
      "1/1 [==============================] - 0s 21ms/step - loss: 0.1774 - val_loss: 0.4833\n",
      "Epoch 190/500\n",
      "1/1 [==============================] - 0s 21ms/step - loss: 0.1774 - val_loss: 0.4833\n",
      "Epoch 191/500\n",
      "1/1 [==============================] - 0s 21ms/step - loss: 0.1774 - val_loss: 0.4832\n",
      "Epoch 192/500\n",
      "1/1 [==============================] - 0s 21ms/step - loss: 0.1773 - val_loss: 0.4831\n",
      "Epoch 193/500\n",
      "1/1 [==============================] - 0s 21ms/step - loss: 0.1773 - val_loss: 0.4829\n",
      "Epoch 194/500\n",
      "1/1 [==============================] - 0s 21ms/step - loss: 0.1773 - val_loss: 0.4828\n",
      "Epoch 195/500\n",
      "1/1 [==============================] - 0s 20ms/step - loss: 0.1772 - val_loss: 0.4827\n",
      "Epoch 196/500\n",
      "1/1 [==============================] - 0s 24ms/step - loss: 0.1772 - val_loss: 0.4826\n",
      "Epoch 197/500\n",
      "1/1 [==============================] - 0s 22ms/step - loss: 0.1772 - val_loss: 0.4825\n",
      "Epoch 198/500\n",
      "1/1 [==============================] - 0s 20ms/step - loss: 0.1771 - val_loss: 0.4823\n",
      "Epoch 199/500\n",
      "1/1 [==============================] - 0s 22ms/step - loss: 0.1771 - val_loss: 0.4822\n",
      "Epoch 200/500\n",
      "1/1 [==============================] - 0s 23ms/step - loss: 0.1771 - val_loss: 0.4821\n",
      "Epoch 201/500\n",
      "1/1 [==============================] - 0s 23ms/step - loss: 0.1770 - val_loss: 0.4820\n",
      "Epoch 202/500\n",
      "1/1 [==============================] - 0s 21ms/step - loss: 0.1770 - val_loss: 0.4818\n",
      "Epoch 203/500\n",
      "1/1 [==============================] - 0s 23ms/step - loss: 0.1770 - val_loss: 0.4817\n",
      "Epoch 204/500\n",
      "1/1 [==============================] - 0s 22ms/step - loss: 0.1769 - val_loss: 0.4815\n",
      "Epoch 205/500\n",
      "1/1 [==============================] - 0s 23ms/step - loss: 0.1769 - val_loss: 0.4814\n",
      "Epoch 206/500\n",
      "1/1 [==============================] - 0s 21ms/step - loss: 0.1768 - val_loss: 0.4813\n",
      "Epoch 207/500\n",
      "1/1 [==============================] - 0s 21ms/step - loss: 0.1768 - val_loss: 0.4811\n",
      "Epoch 208/500\n",
      "1/1 [==============================] - 0s 21ms/step - loss: 0.1768 - val_loss: 0.4810\n",
      "Epoch 209/500\n",
      "1/1 [==============================] - 0s 35ms/step - loss: 0.1767 - val_loss: 0.4809\n",
      "Epoch 210/500\n",
      "1/1 [==============================] - 0s 21ms/step - loss: 0.1767 - val_loss: 0.4807\n",
      "Epoch 211/500\n",
      "1/1 [==============================] - 0s 24ms/step - loss: 0.1767 - val_loss: 0.4806\n",
      "Epoch 212/500\n",
      "1/1 [==============================] - 0s 26ms/step - loss: 0.1766 - val_loss: 0.4804\n",
      "Epoch 213/500\n",
      "1/1 [==============================] - 0s 22ms/step - loss: 0.1766 - val_loss: 0.4803\n",
      "Epoch 214/500\n",
      "1/1 [==============================] - 0s 22ms/step - loss: 0.1766 - val_loss: 0.4802\n",
      "Epoch 215/500\n",
      "1/1 [==============================] - 0s 26ms/step - loss: 0.1765 - val_loss: 0.4800\n",
      "Epoch 216/500\n",
      "1/1 [==============================] - 0s 23ms/step - loss: 0.1765 - val_loss: 0.4799\n",
      "Epoch 217/500\n",
      "1/1 [==============================] - 0s 25ms/step - loss: 0.1765 - val_loss: 0.4798\n",
      "Epoch 218/500\n",
      "1/1 [==============================] - 0s 25ms/step - loss: 0.1764 - val_loss: 0.4796\n",
      "Epoch 219/500\n",
      "1/1 [==============================] - 0s 24ms/step - loss: 0.1764 - val_loss: 0.4795\n",
      "Epoch 220/500\n",
      "1/1 [==============================] - 0s 22ms/step - loss: 0.1763 - val_loss: 0.4793\n",
      "Epoch 221/500\n",
      "1/1 [==============================] - 0s 26ms/step - loss: 0.1763 - val_loss: 0.4792\n",
      "Epoch 222/500\n",
      "1/1 [==============================] - 0s 28ms/step - loss: 0.1763 - val_loss: 0.4791\n",
      "Epoch 223/500\n",
      "1/1 [==============================] - 0s 22ms/step - loss: 0.1762 - val_loss: 0.4789\n",
      "Epoch 224/500\n",
      "1/1 [==============================] - 0s 24ms/step - loss: 0.1762 - val_loss: 0.4788\n",
      "Epoch 225/500\n",
      "1/1 [==============================] - 0s 22ms/step - loss: 0.1762 - val_loss: 0.4787\n",
      "Epoch 226/500\n",
      "1/1 [==============================] - 0s 21ms/step - loss: 0.1761 - val_loss: 0.4785\n",
      "Epoch 227/500\n",
      "1/1 [==============================] - 0s 21ms/step - loss: 0.1761 - val_loss: 0.4784\n",
      "Epoch 228/500\n",
      "1/1 [==============================] - 0s 21ms/step - loss: 0.1760 - val_loss: 0.4783\n",
      "Epoch 229/500\n",
      "1/1 [==============================] - 0s 20ms/step - loss: 0.1760 - val_loss: 0.4781\n",
      "Epoch 230/500\n",
      "1/1 [==============================] - 0s 21ms/step - loss: 0.1760 - val_loss: 0.4780\n",
      "Epoch 231/500\n",
      "1/1 [==============================] - 0s 21ms/step - loss: 0.1759 - val_loss: 0.4778\n",
      "Epoch 232/500\n",
      "1/1 [==============================] - 0s 21ms/step - loss: 0.1759 - val_loss: 0.4777\n",
      "Epoch 233/500\n",
      "1/1 [==============================] - 0s 21ms/step - loss: 0.1758 - val_loss: 0.4776\n",
      "Epoch 234/500\n",
      "1/1 [==============================] - 0s 22ms/step - loss: 0.1758 - val_loss: 0.4774\n",
      "Epoch 235/500\n",
      "1/1 [==============================] - 0s 23ms/step - loss: 0.1758 - val_loss: 0.4773\n",
      "Epoch 236/500\n",
      "1/1 [==============================] - 0s 21ms/step - loss: 0.1757 - val_loss: 0.4771\n",
      "Epoch 237/500\n",
      "1/1 [==============================] - 0s 21ms/step - loss: 0.1757 - val_loss: 0.4770\n",
      "Epoch 238/500\n",
      "1/1 [==============================] - 0s 21ms/step - loss: 0.1756 - val_loss: 0.4768\n",
      "Epoch 239/500\n",
      "1/1 [==============================] - 0s 21ms/step - loss: 0.1756 - val_loss: 0.4767\n",
      "Epoch 240/500\n",
      "1/1 [==============================] - 0s 20ms/step - loss: 0.1756 - val_loss: 0.4766\n",
      "Epoch 241/500\n",
      "1/1 [==============================] - 0s 21ms/step - loss: 0.1755 - val_loss: 0.4764\n",
      "Epoch 242/500\n",
      "1/1 [==============================] - 0s 20ms/step - loss: 0.1755 - val_loss: 0.4763\n",
      "Epoch 243/500\n",
      "1/1 [==============================] - 0s 20ms/step - loss: 0.1754 - val_loss: 0.4761\n",
      "Epoch 244/500\n",
      "1/1 [==============================] - 0s 21ms/step - loss: 0.1754 - val_loss: 0.4759\n",
      "Epoch 245/500\n",
      "1/1 [==============================] - 0s 21ms/step - loss: 0.1754 - val_loss: 0.4758\n",
      "Epoch 246/500\n",
      "1/1 [==============================] - 0s 24ms/step - loss: 0.1753 - val_loss: 0.4756\n",
      "Epoch 247/500\n",
      "1/1 [==============================] - 0s 21ms/step - loss: 0.1753 - val_loss: 0.4755\n",
      "Epoch 248/500\n",
      "1/1 [==============================] - 0s 21ms/step - loss: 0.1752 - val_loss: 0.4753\n",
      "Epoch 249/500\n",
      "1/1 [==============================] - 0s 21ms/step - loss: 0.1752 - val_loss: 0.4752\n",
      "Epoch 250/500\n",
      "1/1 [==============================] - 0s 21ms/step - loss: 0.1751 - val_loss: 0.4750\n",
      "Epoch 251/500\n",
      "1/1 [==============================] - 0s 21ms/step - loss: 0.1751 - val_loss: 0.4748\n",
      "Epoch 252/500\n",
      "1/1 [==============================] - 0s 21ms/step - loss: 0.1751 - val_loss: 0.4747\n",
      "Epoch 253/500\n",
      "1/1 [==============================] - 0s 20ms/step - loss: 0.1750 - val_loss: 0.4745\n",
      "Epoch 254/500\n",
      "1/1 [==============================] - 0s 21ms/step - loss: 0.1750 - val_loss: 0.4743\n",
      "Epoch 255/500\n",
      "1/1 [==============================] - 0s 20ms/step - loss: 0.1749 - val_loss: 0.4742\n",
      "Epoch 256/500\n",
      "1/1 [==============================] - 0s 21ms/step - loss: 0.1749 - val_loss: 0.4740\n",
      "Epoch 257/500\n",
      "1/1 [==============================] - 0s 20ms/step - loss: 0.1748 - val_loss: 0.4738\n",
      "Epoch 258/500\n",
      "1/1 [==============================] - 0s 19ms/step - loss: 0.1748 - val_loss: 0.4737\n",
      "Epoch 259/500\n",
      "1/1 [==============================] - 0s 20ms/step - loss: 0.1747 - val_loss: 0.4735\n",
      "Epoch 260/500\n",
      "1/1 [==============================] - 0s 20ms/step - loss: 0.1747 - val_loss: 0.4733\n",
      "Epoch 261/500\n",
      "1/1 [==============================] - 0s 20ms/step - loss: 0.1747 - val_loss: 0.4731\n",
      "Epoch 262/500\n",
      "1/1 [==============================] - 0s 25ms/step - loss: 0.1746 - val_loss: 0.4730\n",
      "Epoch 263/500\n",
      "1/1 [==============================] - 0s 23ms/step - loss: 0.1746 - val_loss: 0.4728\n",
      "Epoch 264/500\n",
      "1/1 [==============================] - 0s 24ms/step - loss: 0.1745 - val_loss: 0.4726\n",
      "Epoch 265/500\n",
      "1/1 [==============================] - 0s 23ms/step - loss: 0.1745 - val_loss: 0.4724\n",
      "Epoch 266/500\n",
      "1/1 [==============================] - 0s 21ms/step - loss: 0.1744 - val_loss: 0.4723\n",
      "Epoch 267/500\n",
      "1/1 [==============================] - 0s 21ms/step - loss: 0.1744 - val_loss: 0.4721\n",
      "Epoch 268/500\n",
      "1/1 [==============================] - 0s 25ms/step - loss: 0.1743 - val_loss: 0.4719\n",
      "Epoch 269/500\n",
      "1/1 [==============================] - 0s 22ms/step - loss: 0.1743 - val_loss: 0.4717\n",
      "Epoch 270/500\n",
      "1/1 [==============================] - 0s 20ms/step - loss: 0.1742 - val_loss: 0.4715\n",
      "Epoch 271/500\n",
      "1/1 [==============================] - 0s 21ms/step - loss: 0.1742 - val_loss: 0.4714\n",
      "Epoch 272/500\n",
      "1/1 [==============================] - 0s 22ms/step - loss: 0.1741 - val_loss: 0.4712\n",
      "Epoch 273/500\n",
      "1/1 [==============================] - 0s 21ms/step - loss: 0.1741 - val_loss: 0.4710\n",
      "Epoch 274/500\n",
      "1/1 [==============================] - 0s 21ms/step - loss: 0.1740 - val_loss: 0.4708\n",
      "Epoch 275/500\n",
      "1/1 [==============================] - 0s 22ms/step - loss: 0.1740 - val_loss: 0.4706\n",
      "Epoch 276/500\n",
      "1/1 [==============================] - 0s 20ms/step - loss: 0.1739 - val_loss: 0.4704\n",
      "Epoch 277/500\n",
      "1/1 [==============================] - 0s 20ms/step - loss: 0.1739 - val_loss: 0.4702\n",
      "Epoch 278/500\n",
      "1/1 [==============================] - 0s 20ms/step - loss: 0.1738 - val_loss: 0.4701\n",
      "Epoch 279/500\n",
      "1/1 [==============================] - 0s 34ms/step - loss: 0.1738 - val_loss: 0.4699\n",
      "Epoch 280/500\n",
      "1/1 [==============================] - 0s 22ms/step - loss: 0.1737 - val_loss: 0.4697\n",
      "Epoch 281/500\n",
      "1/1 [==============================] - 0s 25ms/step - loss: 0.1737 - val_loss: 0.4695\n",
      "Epoch 282/500\n",
      "1/1 [==============================] - 0s 25ms/step - loss: 0.1736 - val_loss: 0.4693\n",
      "Epoch 283/500\n",
      "1/1 [==============================] - 0s 24ms/step - loss: 0.1736 - val_loss: 0.4691\n",
      "Epoch 284/500\n",
      "1/1 [==============================] - 0s 20ms/step - loss: 0.1735 - val_loss: 0.4689\n",
      "Epoch 285/500\n",
      "1/1 [==============================] - 0s 19ms/step - loss: 0.1735 - val_loss: 0.4687\n",
      "Epoch 286/500\n",
      "1/1 [==============================] - 0s 22ms/step - loss: 0.1734 - val_loss: 0.4686\n",
      "Epoch 287/500\n",
      "1/1 [==============================] - 0s 22ms/step - loss: 0.1734 - val_loss: 0.4684\n",
      "Epoch 288/500\n",
      "1/1 [==============================] - 0s 22ms/step - loss: 0.1733 - val_loss: 0.4682\n",
      "Epoch 289/500\n",
      "1/1 [==============================] - 0s 20ms/step - loss: 0.1733 - val_loss: 0.4680\n",
      "Epoch 290/500\n",
      "1/1 [==============================] - 0s 23ms/step - loss: 0.1732 - val_loss: 0.4678\n",
      "Epoch 291/500\n",
      "1/1 [==============================] - 0s 21ms/step - loss: 0.1732 - val_loss: 0.4676\n",
      "Epoch 292/500\n",
      "1/1 [==============================] - 0s 21ms/step - loss: 0.1731 - val_loss: 0.4674\n",
      "Epoch 293/500\n",
      "1/1 [==============================] - 0s 64ms/step - loss: 0.1731 - val_loss: 0.4672\n",
      "Epoch 294/500\n",
      "1/1 [==============================] - 0s 53ms/step - loss: 0.1730 - val_loss: 0.4670\n",
      "Epoch 295/500\n",
      "1/1 [==============================] - 0s 64ms/step - loss: 0.1730 - val_loss: 0.4668\n",
      "Epoch 296/500\n",
      "1/1 [==============================] - 0s 26ms/step - loss: 0.1729 - val_loss: 0.4667\n",
      "Epoch 297/500\n",
      "1/1 [==============================] - 0s 22ms/step - loss: 0.1729 - val_loss: 0.4665\n",
      "Epoch 298/500\n",
      "1/1 [==============================] - 0s 22ms/step - loss: 0.1728 - val_loss: 0.4663\n",
      "Epoch 299/500\n",
      "1/1 [==============================] - 0s 22ms/step - loss: 0.1728 - val_loss: 0.4661\n",
      "Epoch 300/500\n",
      "1/1 [==============================] - 0s 21ms/step - loss: 0.1727 - val_loss: 0.4659\n",
      "Epoch 301/500\n",
      "1/1 [==============================] - 0s 24ms/step - loss: 0.1726 - val_loss: 0.4657\n",
      "Epoch 302/500\n",
      "1/1 [==============================] - 0s 23ms/step - loss: 0.1726 - val_loss: 0.4655\n",
      "Epoch 303/500\n",
      "1/1 [==============================] - 0s 22ms/step - loss: 0.1725 - val_loss: 0.4654\n",
      "Epoch 304/500\n",
      "1/1 [==============================] - 0s 21ms/step - loss: 0.1725 - val_loss: 0.4652\n",
      "Epoch 305/500\n",
      "1/1 [==============================] - 0s 20ms/step - loss: 0.1724 - val_loss: 0.4650\n",
      "Epoch 306/500\n",
      "1/1 [==============================] - 0s 22ms/step - loss: 0.1724 - val_loss: 0.4648\n",
      "Epoch 307/500\n",
      "1/1 [==============================] - 0s 23ms/step - loss: 0.1723 - val_loss: 0.4646\n",
      "Epoch 308/500\n",
      "1/1 [==============================] - 0s 23ms/step - loss: 0.1723 - val_loss: 0.4645\n",
      "Epoch 309/500\n",
      "1/1 [==============================] - 0s 25ms/step - loss: 0.1722 - val_loss: 0.4643\n",
      "Epoch 310/500\n",
      "1/1 [==============================] - 0s 22ms/step - loss: 0.1722 - val_loss: 0.4641\n",
      "Epoch 311/500\n",
      "1/1 [==============================] - 0s 20ms/step - loss: 0.1721 - val_loss: 0.4639\n",
      "Epoch 312/500\n",
      "1/1 [==============================] - 0s 20ms/step - loss: 0.1720 - val_loss: 0.4638\n",
      "Epoch 313/500\n",
      "1/1 [==============================] - 0s 21ms/step - loss: 0.1720 - val_loss: 0.4636\n",
      "Epoch 314/500\n",
      "1/1 [==============================] - 0s 19ms/step - loss: 0.1719 - val_loss: 0.4634\n",
      "Epoch 315/500\n",
      "1/1 [==============================] - 0s 21ms/step - loss: 0.1719 - val_loss: 0.4632\n",
      "Epoch 316/500\n",
      "1/1 [==============================] - 0s 20ms/step - loss: 0.1718 - val_loss: 0.4631\n",
      "Epoch 317/500\n",
      "1/1 [==============================] - 0s 20ms/step - loss: 0.1718 - val_loss: 0.4629\n",
      "Epoch 318/500\n",
      "1/1 [==============================] - 0s 22ms/step - loss: 0.1717 - val_loss: 0.4627\n",
      "Epoch 319/500\n",
      "1/1 [==============================] - 0s 21ms/step - loss: 0.1716 - val_loss: 0.4626\n",
      "Epoch 320/500\n",
      "1/1 [==============================] - 0s 21ms/step - loss: 0.1716 - val_loss: 0.4624\n",
      "Epoch 321/500\n",
      "1/1 [==============================] - 0s 22ms/step - loss: 0.1715 - val_loss: 0.4623\n",
      "Epoch 322/500\n",
      "1/1 [==============================] - 0s 20ms/step - loss: 0.1715 - val_loss: 0.4621\n",
      "Epoch 323/500\n",
      "1/1 [==============================] - 0s 22ms/step - loss: 0.1714 - val_loss: 0.4619\n",
      "Epoch 324/500\n",
      "1/1 [==============================] - 0s 20ms/step - loss: 0.1714 - val_loss: 0.4618\n",
      "Epoch 325/500\n",
      "1/1 [==============================] - 0s 20ms/step - loss: 0.1713 - val_loss: 0.4616\n",
      "Epoch 326/500\n",
      "1/1 [==============================] - 0s 21ms/step - loss: 0.1712 - val_loss: 0.4615\n",
      "Epoch 327/500\n",
      "1/1 [==============================] - 0s 20ms/step - loss: 0.1712 - val_loss: 0.4613\n",
      "Epoch 328/500\n",
      "1/1 [==============================] - 0s 21ms/step - loss: 0.1711 - val_loss: 0.4612\n",
      "Epoch 329/500\n",
      "1/1 [==============================] - 0s 21ms/step - loss: 0.1711 - val_loss: 0.4610\n",
      "Epoch 330/500\n",
      "1/1 [==============================] - 0s 20ms/step - loss: 0.1710 - val_loss: 0.4609\n",
      "Epoch 331/500\n",
      "1/1 [==============================] - 0s 22ms/step - loss: 0.1710 - val_loss: 0.4607\n",
      "Epoch 332/500\n",
      "1/1 [==============================] - 0s 21ms/step - loss: 0.1709 - val_loss: 0.4606\n",
      "Epoch 333/500\n",
      "1/1 [==============================] - 0s 22ms/step - loss: 0.1708 - val_loss: 0.4604\n",
      "Epoch 334/500\n",
      "1/1 [==============================] - 0s 20ms/step - loss: 0.1708 - val_loss: 0.4603\n",
      "Epoch 335/500\n",
      "1/1 [==============================] - 0s 21ms/step - loss: 0.1707 - val_loss: 0.4601\n",
      "Epoch 336/500\n",
      "1/1 [==============================] - 0s 21ms/step - loss: 0.1707 - val_loss: 0.4600\n",
      "Epoch 337/500\n",
      "1/1 [==============================] - 0s 24ms/step - loss: 0.1706 - val_loss: 0.4599\n",
      "Epoch 338/500\n",
      "1/1 [==============================] - 0s 21ms/step - loss: 0.1706 - val_loss: 0.4597\n",
      "Epoch 339/500\n",
      "1/1 [==============================] - 0s 20ms/step - loss: 0.1705 - val_loss: 0.4596\n",
      "Epoch 340/500\n",
      "1/1 [==============================] - 0s 21ms/step - loss: 0.1705 - val_loss: 0.4594\n",
      "Epoch 341/500\n",
      "1/1 [==============================] - 0s 23ms/step - loss: 0.1704 - val_loss: 0.4593\n",
      "Epoch 342/500\n",
      "1/1 [==============================] - 0s 32ms/step - loss: 0.1703 - val_loss: 0.4592\n",
      "Epoch 343/500\n",
      "1/1 [==============================] - 0s 35ms/step - loss: 0.1703 - val_loss: 0.4590\n",
      "Epoch 344/500\n",
      "1/1 [==============================] - 0s 54ms/step - loss: 0.1702 - val_loss: 0.4589\n",
      "Epoch 345/500\n",
      "1/1 [==============================] - 0s 55ms/step - loss: 0.1702 - val_loss: 0.4588\n",
      "Epoch 346/500\n",
      "1/1 [==============================] - 0s 156ms/step - loss: 0.1701 - val_loss: 0.4586\n",
      "Epoch 347/500\n",
      "1/1 [==============================] - 0s 45ms/step - loss: 0.1701 - val_loss: 0.4585\n",
      "Epoch 348/500\n",
      "1/1 [==============================] - 0s 35ms/step - loss: 0.1700 - val_loss: 0.4584\n",
      "Epoch 349/500\n",
      "1/1 [==============================] - 0s 24ms/step - loss: 0.1699 - val_loss: 0.4582\n",
      "Epoch 350/500\n",
      "1/1 [==============================] - 0s 30ms/step - loss: 0.1699 - val_loss: 0.4581\n",
      "Epoch 351/500\n",
      "1/1 [==============================] - 0s 24ms/step - loss: 0.1698 - val_loss: 0.4580\n",
      "Epoch 352/500\n",
      "1/1 [==============================] - 0s 41ms/step - loss: 0.1698 - val_loss: 0.4578\n",
      "Epoch 353/500\n",
      "1/1 [==============================] - 0s 32ms/step - loss: 0.1697 - val_loss: 0.4577\n",
      "Epoch 354/500\n",
      "1/1 [==============================] - 0s 23ms/step - loss: 0.1697 - val_loss: 0.4576\n",
      "Epoch 355/500\n",
      "1/1 [==============================] - 0s 23ms/step - loss: 0.1696 - val_loss: 0.4575\n",
      "Epoch 356/500\n",
      "1/1 [==============================] - 0s 23ms/step - loss: 0.1695 - val_loss: 0.4573\n",
      "Epoch 357/500\n",
      "1/1 [==============================] - 0s 40ms/step - loss: 0.1695 - val_loss: 0.4572\n",
      "Epoch 358/500\n",
      "1/1 [==============================] - 0s 26ms/step - loss: 0.1694 - val_loss: 0.4571\n",
      "Epoch 359/500\n",
      "1/1 [==============================] - 0s 25ms/step - loss: 0.1694 - val_loss: 0.4569\n",
      "Epoch 360/500\n",
      "1/1 [==============================] - 0s 22ms/step - loss: 0.1693 - val_loss: 0.4568\n",
      "Epoch 361/500\n",
      "1/1 [==============================] - 0s 25ms/step - loss: 0.1693 - val_loss: 0.4567\n",
      "Epoch 362/500\n",
      "1/1 [==============================] - 0s 23ms/step - loss: 0.1692 - val_loss: 0.4566\n",
      "Epoch 363/500\n",
      "1/1 [==============================] - 0s 23ms/step - loss: 0.1691 - val_loss: 0.4564\n",
      "Epoch 364/500\n",
      "1/1 [==============================] - 0s 23ms/step - loss: 0.1691 - val_loss: 0.4563\n",
      "Epoch 365/500\n",
      "1/1 [==============================] - 0s 24ms/step - loss: 0.1690 - val_loss: 0.4562\n",
      "Epoch 366/500\n",
      "1/1 [==============================] - 0s 26ms/step - loss: 0.1690 - val_loss: 0.4561\n",
      "Epoch 367/500\n",
      "1/1 [==============================] - 0s 23ms/step - loss: 0.1689 - val_loss: 0.4559\n",
      "Epoch 368/500\n",
      "1/1 [==============================] - 0s 24ms/step - loss: 0.1689 - val_loss: 0.4558\n",
      "Epoch 369/500\n",
      "1/1 [==============================] - 0s 29ms/step - loss: 0.1688 - val_loss: 0.4557\n",
      "Epoch 370/500\n",
      "1/1 [==============================] - 0s 28ms/step - loss: 0.1688 - val_loss: 0.4556\n",
      "Epoch 371/500\n",
      "1/1 [==============================] - 0s 23ms/step - loss: 0.1687 - val_loss: 0.4554\n",
      "Epoch 372/500\n",
      "1/1 [==============================] - 0s 23ms/step - loss: 0.1686 - val_loss: 0.4553\n",
      "Epoch 373/500\n",
      "1/1 [==============================] - 0s 46ms/step - loss: 0.1686 - val_loss: 0.4552\n",
      "Epoch 374/500\n",
      "1/1 [==============================] - 0s 32ms/step - loss: 0.1685 - val_loss: 0.4550\n",
      "Epoch 375/500\n",
      "1/1 [==============================] - 0s 29ms/step - loss: 0.1685 - val_loss: 0.4549\n",
      "Epoch 376/500\n",
      "1/1 [==============================] - 0s 23ms/step - loss: 0.1684 - val_loss: 0.4548\n",
      "Epoch 377/500\n",
      "1/1 [==============================] - 0s 27ms/step - loss: 0.1684 - val_loss: 0.4547\n",
      "Epoch 378/500\n",
      "1/1 [==============================] - 0s 23ms/step - loss: 0.1683 - val_loss: 0.4545\n",
      "Epoch 379/500\n",
      "1/1 [==============================] - 0s 24ms/step - loss: 0.1682 - val_loss: 0.4544\n",
      "Epoch 380/500\n",
      "1/1 [==============================] - 0s 33ms/step - loss: 0.1682 - val_loss: 0.4543\n",
      "Epoch 381/500\n",
      "1/1 [==============================] - 0s 24ms/step - loss: 0.1681 - val_loss: 0.4542\n",
      "Epoch 382/500\n",
      "1/1 [==============================] - 0s 27ms/step - loss: 0.1681 - val_loss: 0.4540\n",
      "Epoch 383/500\n",
      "1/1 [==============================] - 0s 26ms/step - loss: 0.1680 - val_loss: 0.4539\n",
      "Epoch 384/500\n",
      "1/1 [==============================] - 0s 23ms/step - loss: 0.1680 - val_loss: 0.4538\n",
      "Epoch 385/500\n",
      "1/1 [==============================] - 0s 29ms/step - loss: 0.1679 - val_loss: 0.4537\n",
      "Epoch 386/500\n",
      "1/1 [==============================] - 0s 33ms/step - loss: 0.1679 - val_loss: 0.4535\n",
      "Epoch 387/500\n",
      "1/1 [==============================] - 0s 40ms/step - loss: 0.1678 - val_loss: 0.4534\n",
      "Epoch 388/500\n",
      "1/1 [==============================] - 0s 48ms/step - loss: 0.1677 - val_loss: 0.4533\n",
      "Epoch 389/500\n",
      "1/1 [==============================] - 0s 40ms/step - loss: 0.1677 - val_loss: 0.4531\n",
      "Epoch 390/500\n",
      "1/1 [==============================] - 0s 53ms/step - loss: 0.1676 - val_loss: 0.4530\n",
      "Epoch 391/500\n",
      "1/1 [==============================] - 0s 70ms/step - loss: 0.1676 - val_loss: 0.4529\n",
      "Epoch 392/500\n",
      "1/1 [==============================] - 0s 24ms/step - loss: 0.1675 - val_loss: 0.4528\n",
      "Epoch 393/500\n",
      "1/1 [==============================] - 0s 26ms/step - loss: 0.1675 - val_loss: 0.4526\n",
      "Epoch 394/500\n",
      "1/1 [==============================] - 0s 25ms/step - loss: 0.1674 - val_loss: 0.4525\n",
      "Epoch 395/500\n",
      "1/1 [==============================] - 0s 27ms/step - loss: 0.1674 - val_loss: 0.4524\n",
      "Epoch 396/500\n",
      "1/1 [==============================] - 0s 29ms/step - loss: 0.1673 - val_loss: 0.4522\n",
      "Epoch 397/500\n",
      "1/1 [==============================] - 0s 24ms/step - loss: 0.1672 - val_loss: 0.4521\n",
      "Epoch 398/500\n",
      "1/1 [==============================] - 0s 26ms/step - loss: 0.1672 - val_loss: 0.4520\n",
      "Epoch 399/500\n",
      "1/1 [==============================] - 0s 28ms/step - loss: 0.1671 - val_loss: 0.4519\n",
      "Epoch 400/500\n",
      "1/1 [==============================] - 0s 32ms/step - loss: 0.1671 - val_loss: 0.4517\n",
      "Epoch 401/500\n",
      "1/1 [==============================] - 0s 56ms/step - loss: 0.1670 - val_loss: 0.4516\n",
      "Epoch 402/500\n",
      "1/1 [==============================] - 0s 57ms/step - loss: 0.1670 - val_loss: 0.4515\n",
      "Epoch 403/500\n",
      "1/1 [==============================] - 0s 57ms/step - loss: 0.1669 - val_loss: 0.4513\n",
      "Epoch 404/500\n",
      "1/1 [==============================] - 0s 28ms/step - loss: 0.1668 - val_loss: 0.4512\n",
      "Epoch 405/500\n",
      "1/1 [==============================] - 0s 25ms/step - loss: 0.1668 - val_loss: 0.4511\n",
      "Epoch 406/500\n",
      "1/1 [==============================] - 0s 26ms/step - loss: 0.1667 - val_loss: 0.4509\n",
      "Epoch 407/500\n",
      "1/1 [==============================] - 0s 28ms/step - loss: 0.1667 - val_loss: 0.4508\n",
      "Epoch 408/500\n",
      "1/1 [==============================] - 0s 28ms/step - loss: 0.1666 - val_loss: 0.4507\n",
      "Epoch 409/500\n",
      "1/1 [==============================] - 0s 80ms/step - loss: 0.1666 - val_loss: 0.4505\n",
      "Epoch 410/500\n",
      "1/1 [==============================] - 0s 31ms/step - loss: 0.1665 - val_loss: 0.4504\n",
      "Epoch 411/500\n",
      "1/1 [==============================] - 0s 25ms/step - loss: 0.1664 - val_loss: 0.4503\n",
      "Epoch 412/500\n",
      "1/1 [==============================] - 0s 27ms/step - loss: 0.1664 - val_loss: 0.4501\n",
      "Epoch 413/500\n",
      "1/1 [==============================] - 0s 26ms/step - loss: 0.1663 - val_loss: 0.4500\n",
      "Epoch 414/500\n",
      "1/1 [==============================] - 0s 26ms/step - loss: 0.1663 - val_loss: 0.4499\n",
      "Epoch 415/500\n",
      "1/1 [==============================] - 0s 31ms/step - loss: 0.1662 - val_loss: 0.4497\n",
      "Epoch 416/500\n",
      "1/1 [==============================] - 0s 34ms/step - loss: 0.1662 - val_loss: 0.4496\n",
      "Epoch 417/500\n",
      "1/1 [==============================] - 0s 25ms/step - loss: 0.1661 - val_loss: 0.4495\n",
      "Epoch 418/500\n",
      "1/1 [==============================] - 0s 32ms/step - loss: 0.1660 - val_loss: 0.4493\n",
      "Epoch 419/500\n",
      "1/1 [==============================] - 0s 30ms/step - loss: 0.1660 - val_loss: 0.4492\n",
      "Epoch 420/500\n",
      "1/1 [==============================] - 0s 28ms/step - loss: 0.1659 - val_loss: 0.4491\n",
      "Epoch 421/500\n",
      "1/1 [==============================] - 0s 25ms/step - loss: 0.1659 - val_loss: 0.4489\n",
      "Epoch 422/500\n",
      "1/1 [==============================] - 0s 35ms/step - loss: 0.1658 - val_loss: 0.4488\n",
      "Epoch 423/500\n",
      "1/1 [==============================] - 0s 120ms/step - loss: 0.1658 - val_loss: 0.4487\n",
      "Epoch 424/500\n",
      "1/1 [==============================] - 0s 30ms/step - loss: 0.1657 - val_loss: 0.4485\n",
      "Epoch 425/500\n",
      "1/1 [==============================] - 0s 25ms/step - loss: 0.1656 - val_loss: 0.4484\n",
      "Epoch 426/500\n",
      "1/1 [==============================] - 0s 75ms/step - loss: 0.1656 - val_loss: 0.4482\n",
      "Epoch 427/500\n",
      "1/1 [==============================] - 0s 49ms/step - loss: 0.1655 - val_loss: 0.4481\n",
      "Epoch 428/500\n",
      "1/1 [==============================] - 0s 50ms/step - loss: 0.1655 - val_loss: 0.4480\n",
      "Epoch 429/500\n",
      "1/1 [==============================] - 0s 43ms/step - loss: 0.1654 - val_loss: 0.4478\n",
      "Epoch 430/500\n",
      "1/1 [==============================] - 0s 34ms/step - loss: 0.1653 - val_loss: 0.4477\n",
      "Epoch 431/500\n",
      "1/1 [==============================] - 0s 38ms/step - loss: 0.1653 - val_loss: 0.4475\n",
      "Epoch 432/500\n",
      "1/1 [==============================] - 0s 27ms/step - loss: 0.1652 - val_loss: 0.4474\n",
      "Epoch 433/500\n",
      "1/1 [==============================] - 0s 61ms/step - loss: 0.1652 - val_loss: 0.4473\n",
      "Epoch 434/500\n",
      "1/1 [==============================] - 0s 57ms/step - loss: 0.1651 - val_loss: 0.4471\n",
      "Epoch 435/500\n",
      "1/1 [==============================] - 0s 38ms/step - loss: 0.1651 - val_loss: 0.4470\n",
      "Epoch 436/500\n",
      "1/1 [==============================] - 0s 33ms/step - loss: 0.1650 - val_loss: 0.4468\n",
      "Epoch 437/500\n",
      "1/1 [==============================] - 0s 24ms/step - loss: 0.1649 - val_loss: 0.4467\n",
      "Epoch 438/500\n",
      "1/1 [==============================] - 0s 33ms/step - loss: 0.1649 - val_loss: 0.4466\n",
      "Epoch 439/500\n",
      "1/1 [==============================] - 0s 27ms/step - loss: 0.1648 - val_loss: 0.4464\n",
      "Epoch 440/500\n",
      "1/1 [==============================] - 0s 31ms/step - loss: 0.1648 - val_loss: 0.4463\n",
      "Epoch 441/500\n",
      "1/1 [==============================] - 0s 25ms/step - loss: 0.1647 - val_loss: 0.4461\n",
      "Epoch 442/500\n",
      "1/1 [==============================] - 0s 25ms/step - loss: 0.1646 - val_loss: 0.4460\n",
      "Epoch 443/500\n",
      "1/1 [==============================] - 0s 22ms/step - loss: 0.1646 - val_loss: 0.4458\n",
      "Epoch 444/500\n",
      "1/1 [==============================] - 0s 22ms/step - loss: 0.1645 - val_loss: 0.4457\n",
      "Epoch 445/500\n",
      "1/1 [==============================] - 0s 23ms/step - loss: 0.1645 - val_loss: 0.4455\n",
      "Epoch 446/500\n",
      "1/1 [==============================] - 0s 24ms/step - loss: 0.1644 - val_loss: 0.4454\n",
      "Epoch 447/500\n",
      "1/1 [==============================] - 0s 29ms/step - loss: 0.1643 - val_loss: 0.4453\n",
      "Epoch 448/500\n",
      "1/1 [==============================] - 0s 21ms/step - loss: 0.1643 - val_loss: 0.4451\n",
      "Epoch 449/500\n",
      "1/1 [==============================] - 0s 24ms/step - loss: 0.1642 - val_loss: 0.4450\n",
      "Epoch 450/500\n",
      "1/1 [==============================] - 0s 28ms/step - loss: 0.1642 - val_loss: 0.4448\n",
      "Epoch 451/500\n",
      "1/1 [==============================] - 0s 25ms/step - loss: 0.1641 - val_loss: 0.4447\n",
      "Epoch 452/500\n",
      "1/1 [==============================] - 0s 34ms/step - loss: 0.1640 - val_loss: 0.4445\n",
      "Epoch 453/500\n",
      "1/1 [==============================] - 0s 26ms/step - loss: 0.1640 - val_loss: 0.4444\n",
      "Epoch 454/500\n",
      "1/1 [==============================] - 0s 24ms/step - loss: 0.1639 - val_loss: 0.4442\n",
      "Epoch 455/500\n",
      "1/1 [==============================] - 0s 22ms/step - loss: 0.1639 - val_loss: 0.4441\n",
      "Epoch 456/500\n",
      "1/1 [==============================] - 0s 22ms/step - loss: 0.1638 - val_loss: 0.4439\n",
      "Epoch 457/500\n",
      "1/1 [==============================] - 0s 23ms/step - loss: 0.1637 - val_loss: 0.4438\n",
      "Epoch 458/500\n",
      "1/1 [==============================] - 0s 22ms/step - loss: 0.1637 - val_loss: 0.4436\n",
      "Epoch 459/500\n",
      "1/1 [==============================] - 0s 22ms/step - loss: 0.1636 - val_loss: 0.4435\n",
      "Epoch 460/500\n",
      "1/1 [==============================] - 0s 23ms/step - loss: 0.1636 - val_loss: 0.4433\n",
      "Epoch 461/500\n",
      "1/1 [==============================] - 0s 26ms/step - loss: 0.1635 - val_loss: 0.4432\n",
      "Epoch 462/500\n",
      "1/1 [==============================] - 0s 23ms/step - loss: 0.1634 - val_loss: 0.4430\n",
      "Epoch 463/500\n",
      "1/1 [==============================] - 0s 23ms/step - loss: 0.1634 - val_loss: 0.4429\n",
      "Epoch 464/500\n",
      "1/1 [==============================] - 0s 23ms/step - loss: 0.1633 - val_loss: 0.4427\n",
      "Epoch 465/500\n",
      "1/1 [==============================] - 0s 23ms/step - loss: 0.1632 - val_loss: 0.4426\n",
      "Epoch 466/500\n",
      "1/1 [==============================] - 0s 22ms/step - loss: 0.1632 - val_loss: 0.4424\n",
      "Epoch 467/500\n",
      "1/1 [==============================] - 0s 21ms/step - loss: 0.1631 - val_loss: 0.4422\n",
      "Epoch 468/500\n",
      "1/1 [==============================] - 0s 21ms/step - loss: 0.1631 - val_loss: 0.4421\n",
      "Epoch 469/500\n",
      "1/1 [==============================] - 0s 22ms/step - loss: 0.1630 - val_loss: 0.4419\n",
      "Epoch 470/500\n",
      "1/1 [==============================] - 0s 24ms/step - loss: 0.1629 - val_loss: 0.4418\n",
      "Epoch 471/500\n",
      "1/1 [==============================] - 0s 22ms/step - loss: 0.1629 - val_loss: 0.4416\n",
      "Epoch 472/500\n",
      "1/1 [==============================] - 0s 21ms/step - loss: 0.1628 - val_loss: 0.4415\n",
      "Epoch 473/500\n",
      "1/1 [==============================] - 0s 20ms/step - loss: 0.1627 - val_loss: 0.4413\n",
      "Epoch 474/500\n",
      "1/1 [==============================] - 0s 23ms/step - loss: 0.1627 - val_loss: 0.4412\n",
      "Epoch 475/500\n",
      "1/1 [==============================] - 0s 20ms/step - loss: 0.1626 - val_loss: 0.4410\n",
      "Epoch 476/500\n",
      "1/1 [==============================] - 0s 24ms/step - loss: 0.1626 - val_loss: 0.4408\n",
      "Epoch 477/500\n",
      "1/1 [==============================] - 0s 21ms/step - loss: 0.1625 - val_loss: 0.4407\n",
      "Epoch 478/500\n",
      "1/1 [==============================] - 0s 23ms/step - loss: 0.1624 - val_loss: 0.4405\n",
      "Epoch 479/500\n",
      "1/1 [==============================] - 0s 22ms/step - loss: 0.1624 - val_loss: 0.4404\n",
      "Epoch 480/500\n",
      "1/1 [==============================] - 0s 21ms/step - loss: 0.1623 - val_loss: 0.4402\n",
      "Epoch 481/500\n",
      "1/1 [==============================] - 0s 21ms/step - loss: 0.1622 - val_loss: 0.4400\n",
      "Epoch 482/500\n",
      "1/1 [==============================] - 0s 21ms/step - loss: 0.1622 - val_loss: 0.4399\n",
      "Epoch 483/500\n",
      "1/1 [==============================] - 0s 24ms/step - loss: 0.1621 - val_loss: 0.4397\n",
      "Epoch 484/500\n",
      "1/1 [==============================] - 0s 22ms/step - loss: 0.1620 - val_loss: 0.4395\n",
      "Epoch 485/500\n",
      "1/1 [==============================] - 0s 21ms/step - loss: 0.1620 - val_loss: 0.4394\n",
      "Epoch 486/500\n",
      "1/1 [==============================] - 0s 20ms/step - loss: 0.1619 - val_loss: 0.4392\n",
      "Epoch 487/500\n",
      "1/1 [==============================] - 0s 21ms/step - loss: 0.1618 - val_loss: 0.4391\n",
      "Epoch 488/500\n",
      "1/1 [==============================] - 0s 20ms/step - loss: 0.1618 - val_loss: 0.4389\n",
      "Epoch 489/500\n",
      "1/1 [==============================] - 0s 21ms/step - loss: 0.1617 - val_loss: 0.4387\n",
      "Epoch 490/500\n",
      "1/1 [==============================] - 0s 22ms/step - loss: 0.1616 - val_loss: 0.4386\n",
      "Epoch 491/500\n",
      "1/1 [==============================] - 0s 21ms/step - loss: 0.1616 - val_loss: 0.4384\n",
      "Epoch 492/500\n",
      "1/1 [==============================] - 0s 23ms/step - loss: 0.1615 - val_loss: 0.4382\n",
      "Epoch 493/500\n",
      "1/1 [==============================] - 0s 21ms/step - loss: 0.1615 - val_loss: 0.4381\n",
      "Epoch 494/500\n",
      "1/1 [==============================] - 0s 21ms/step - loss: 0.1614 - val_loss: 0.4379\n",
      "Epoch 495/500\n",
      "1/1 [==============================] - 0s 21ms/step - loss: 0.1613 - val_loss: 0.4377\n",
      "Epoch 496/500\n",
      "1/1 [==============================] - 0s 22ms/step - loss: 0.1613 - val_loss: 0.4376\n",
      "Epoch 497/500\n",
      "1/1 [==============================] - 0s 25ms/step - loss: 0.1612 - val_loss: 0.4374\n",
      "Epoch 498/500\n",
      "1/1 [==============================] - 0s 46ms/step - loss: 0.1611 - val_loss: 0.4372\n",
      "Epoch 499/500\n",
      "1/1 [==============================] - 0s 23ms/step - loss: 0.1611 - val_loss: 0.4370\n",
      "Epoch 500/500\n",
      "1/1 [==============================] - 0s 20ms/step - loss: 0.1610 - val_loss: 0.4369\n",
      "Model: \"sequential_30\"\n",
      "_________________________________________________________________\n",
      " Layer (type)                Output Shape              Param #   \n",
      "=================================================================\n",
      " gru_6 (GRU)                 (None, None, 25)          2100      \n",
      "                                                                 \n",
      " gru_7 (GRU)                 (None, 25)                3900      \n",
      "                                                                 \n",
      " dense_30 (Dense)            (None, 1)                 26        \n",
      "                                                                 \n",
      "=================================================================\n",
      "Total params: 6,026\n",
      "Trainable params: 6,026\n",
      "Non-trainable params: 0\n",
      "_________________________________________________________________\n"
     ]
    }
   ],
   "source": [
    "model_gru, train_history_double_gru = neural_net_time_series(\n",
    "    train_X,\n",
    "    train_y,\n",
    "    test_X,\n",
    "    test_y,\n",
    "    cell_units=25,\n",
    "    epochs=500,\n",
    "    core_model=KerasCoreModel.gru,\n",
    "    n_layers=2,\n",
    "    model_name=\"double_gru\",\n",
    ")"
   ],
   "metadata": {
    "collapsed": false,
    "pycharm": {
     "name": "#%%\n"
    }
   }
  },
  {
   "cell_type": "code",
   "execution_count": 249,
   "outputs": [
    {
     "name": "stdout",
     "output_type": "stream",
     "text": [
      "MAE: 0.1866, MAPE: 0.0862\n"
     ]
    }
   ],
   "source": [
    "model_double_gru = keras.models.load_model(\"models/double_gru.h5\")\n",
    "y_pred_2gru = model_double_gru.predict(test_X).flatten()\n",
    "print(\n",
    "    f\"MAE: {mean_squared_error(y_true, y_pred_2gru):.4f}, MAPE: {mean_absolute_percentage_error(y_true, y_pred_2gru):.4f}\"\n",
    ")"
   ],
   "metadata": {
    "collapsed": false,
    "pycharm": {
     "name": "#%%\n"
    }
   }
  },
  {
   "cell_type": "code",
   "execution_count": 250,
   "outputs": [
    {
     "data": {
      "text/plain": "          loss   val_loss\n0    24.099360  16.916092\n1    22.689432  15.785130\n2    21.322645  14.696640\n3    20.001431  13.652027\n4    18.727936  12.652133\n..         ...        ...\n495   0.161251   0.437554\n496   0.161184   0.437384\n497   0.161117   0.437213\n498   0.161050   0.437042\n499   0.160983   0.436870\n\n[500 rows x 2 columns]",
      "text/html": "<div>\n<style scoped>\n    .dataframe tbody tr th:only-of-type {\n        vertical-align: middle;\n    }\n\n    .dataframe tbody tr th {\n        vertical-align: top;\n    }\n\n    .dataframe thead th {\n        text-align: right;\n    }\n</style>\n<table border=\"1\" class=\"dataframe\">\n  <thead>\n    <tr style=\"text-align: right;\">\n      <th></th>\n      <th>loss</th>\n      <th>val_loss</th>\n    </tr>\n  </thead>\n  <tbody>\n    <tr>\n      <th>0</th>\n      <td>24.099360</td>\n      <td>16.916092</td>\n    </tr>\n    <tr>\n      <th>1</th>\n      <td>22.689432</td>\n      <td>15.785130</td>\n    </tr>\n    <tr>\n      <th>2</th>\n      <td>21.322645</td>\n      <td>14.696640</td>\n    </tr>\n    <tr>\n      <th>3</th>\n      <td>20.001431</td>\n      <td>13.652027</td>\n    </tr>\n    <tr>\n      <th>4</th>\n      <td>18.727936</td>\n      <td>12.652133</td>\n    </tr>\n    <tr>\n      <th>...</th>\n      <td>...</td>\n      <td>...</td>\n    </tr>\n    <tr>\n      <th>495</th>\n      <td>0.161251</td>\n      <td>0.437554</td>\n    </tr>\n    <tr>\n      <th>496</th>\n      <td>0.161184</td>\n      <td>0.437384</td>\n    </tr>\n    <tr>\n      <th>497</th>\n      <td>0.161117</td>\n      <td>0.437213</td>\n    </tr>\n    <tr>\n      <th>498</th>\n      <td>0.161050</td>\n      <td>0.437042</td>\n    </tr>\n    <tr>\n      <th>499</th>\n      <td>0.160983</td>\n      <td>0.436870</td>\n    </tr>\n  </tbody>\n</table>\n<p>500 rows × 2 columns</p>\n</div>"
     },
     "metadata": {},
     "output_type": "display_data"
    },
    {
     "data": {
      "application/vnd.plotly.v1+json": {
       "data": [
        {
         "hovertemplate": "variable=loss<br>index=%{x}<br>value=%{y}<extra></extra>",
         "legendgroup": "loss",
         "line": {
          "color": "#636efa",
          "dash": "solid"
         },
         "marker": {
          "symbol": "circle"
         },
         "mode": "lines",
         "name": "loss",
         "orientation": "v",
         "showlegend": true,
         "x": [
          0,
          1,
          2,
          3,
          4,
          5,
          6,
          7,
          8,
          9,
          10,
          11,
          12,
          13,
          14,
          15,
          16,
          17,
          18,
          19,
          20,
          21,
          22,
          23,
          24,
          25,
          26,
          27,
          28,
          29,
          30,
          31,
          32,
          33,
          34,
          35,
          36,
          37,
          38,
          39,
          40,
          41,
          42,
          43,
          44,
          45,
          46,
          47,
          48,
          49,
          50,
          51,
          52,
          53,
          54,
          55,
          56,
          57,
          58,
          59,
          60,
          61,
          62,
          63,
          64,
          65,
          66,
          67,
          68,
          69,
          70,
          71,
          72,
          73,
          74,
          75,
          76,
          77,
          78,
          79,
          80,
          81,
          82,
          83,
          84,
          85,
          86,
          87,
          88,
          89,
          90,
          91,
          92,
          93,
          94,
          95,
          96,
          97,
          98,
          99,
          100,
          101,
          102,
          103,
          104,
          105,
          106,
          107,
          108,
          109,
          110,
          111,
          112,
          113,
          114,
          115,
          116,
          117,
          118,
          119,
          120,
          121,
          122,
          123,
          124,
          125,
          126,
          127,
          128,
          129,
          130,
          131,
          132,
          133,
          134,
          135,
          136,
          137,
          138,
          139,
          140,
          141,
          142,
          143,
          144,
          145,
          146,
          147,
          148,
          149,
          150,
          151,
          152,
          153,
          154,
          155,
          156,
          157,
          158,
          159,
          160,
          161,
          162,
          163,
          164,
          165,
          166,
          167,
          168,
          169,
          170,
          171,
          172,
          173,
          174,
          175,
          176,
          177,
          178,
          179,
          180,
          181,
          182,
          183,
          184,
          185,
          186,
          187,
          188,
          189,
          190,
          191,
          192,
          193,
          194,
          195,
          196,
          197,
          198,
          199,
          200,
          201,
          202,
          203,
          204,
          205,
          206,
          207,
          208,
          209,
          210,
          211,
          212,
          213,
          214,
          215,
          216,
          217,
          218,
          219,
          220,
          221,
          222,
          223,
          224,
          225,
          226,
          227,
          228,
          229,
          230,
          231,
          232,
          233,
          234,
          235,
          236,
          237,
          238,
          239,
          240,
          241,
          242,
          243,
          244,
          245,
          246,
          247,
          248,
          249,
          250,
          251,
          252,
          253,
          254,
          255,
          256,
          257,
          258,
          259,
          260,
          261,
          262,
          263,
          264,
          265,
          266,
          267,
          268,
          269,
          270,
          271,
          272,
          273,
          274,
          275,
          276,
          277,
          278,
          279,
          280,
          281,
          282,
          283,
          284,
          285,
          286,
          287,
          288,
          289,
          290,
          291,
          292,
          293,
          294,
          295,
          296,
          297,
          298,
          299,
          300,
          301,
          302,
          303,
          304,
          305,
          306,
          307,
          308,
          309,
          310,
          311,
          312,
          313,
          314,
          315,
          316,
          317,
          318,
          319,
          320,
          321,
          322,
          323,
          324,
          325,
          326,
          327,
          328,
          329,
          330,
          331,
          332,
          333,
          334,
          335,
          336,
          337,
          338,
          339,
          340,
          341,
          342,
          343,
          344,
          345,
          346,
          347,
          348,
          349,
          350,
          351,
          352,
          353,
          354,
          355,
          356,
          357,
          358,
          359,
          360,
          361,
          362,
          363,
          364,
          365,
          366,
          367,
          368,
          369,
          370,
          371,
          372,
          373,
          374,
          375,
          376,
          377,
          378,
          379,
          380,
          381,
          382,
          383,
          384,
          385,
          386,
          387,
          388,
          389,
          390,
          391,
          392,
          393,
          394,
          395,
          396,
          397,
          398,
          399,
          400,
          401,
          402,
          403,
          404,
          405,
          406,
          407,
          408,
          409,
          410,
          411,
          412,
          413,
          414,
          415,
          416,
          417,
          418,
          419,
          420,
          421,
          422,
          423,
          424,
          425,
          426,
          427,
          428,
          429,
          430,
          431,
          432,
          433,
          434,
          435,
          436,
          437,
          438,
          439,
          440,
          441,
          442,
          443,
          444,
          445,
          446,
          447,
          448,
          449,
          450,
          451,
          452,
          453,
          454,
          455,
          456,
          457,
          458,
          459,
          460,
          461,
          462,
          463,
          464,
          465,
          466,
          467,
          468,
          469,
          470,
          471,
          472,
          473,
          474,
          475,
          476,
          477,
          478,
          479,
          480,
          481,
          482,
          483,
          484,
          485,
          486,
          487,
          488,
          489,
          490,
          491,
          492,
          493,
          494,
          495,
          496,
          497,
          498,
          499
         ],
         "xaxis": "x",
         "y": [
          24.0993595123291,
          22.68943214416504,
          21.32264518737793,
          20.00143051147461,
          18.727935791015625,
          17.503604888916016,
          16.329030990600586,
          15.204252243041992,
          14.128969192504883,
          13.102696418762207,
          12.124810218811035,
          11.194586753845215,
          10.311201095581055,
          9.473737716674805,
          8.6812162399292,
          7.932589054107666,
          7.226759910583496,
          6.562606334686279,
          5.939005374908447,
          5.354859352111816,
          4.809096336364746,
          4.300685882568359,
          3.828623056411743,
          3.39192533493042,
          2.989607572555542,
          2.6206746101379395,
          2.2841005325317383,
          1.9788163900375366,
          1.70369553565979,
          1.4575411081314087,
          1.2390735149383545,
          1.0469199419021606,
          0.879608690738678,
          0.735564112663269,
          0.6131157279014587,
          0.5105083584785461,
          0.42592185735702515,
          0.35750168561935425,
          0.30338749289512634,
          0.2617489993572235,
          0.23081755638122559,
          0.20891690254211426,
          0.1944863647222519,
          0.18609833717346191,
          0.1824706643819809,
          0.1824699491262436,
          0.1851125806570053,
          0.18955910205841064,
          0.195107102394104,
          0.201180562376976,
          0.20731939375400543,
          0.21316657960414886,
          0.21845702826976776,
          0.22300441563129425,
          0.22669075429439545,
          0.22945544123649597,
          0.2312840223312378,
          0.2322005182504654,
          0.23225811123847961,
          0.23153206706047058,
          0.2301127165555954,
          0.2281004935503006,
          0.22560007870197296,
          0.22271694242954254,
          0.21955391764640808,
          0.21620862185955048,
          0.21277056634426117,
          0.20932038128376007,
          0.20592865347862244,
          0.2026553452014923,
          0.19954988360404968,
          0.19665026664733887,
          0.19398514926433563,
          0.19157306849956512,
          0.18942396342754364,
          0.18754012882709503,
          0.18591701984405518,
          0.18454445898532867,
          0.18340785801410675,
          0.1824888437986374,
          0.18176671862602234,
          0.18121930956840515,
          0.18082377314567566,
          0.18055684864521027,
          0.1803964078426361,
          0.18032114207744598,
          0.18031147122383118,
          0.1803497076034546,
          0.18042004108428955,
          0.18050909042358398,
          0.18060527741909027,
          0.18069955706596375,
          0.18078462779521942,
          0.1808551847934723,
          0.18090783059597015,
          0.1809403896331787,
          0.1809520721435547,
          0.18094341456890106,
          0.18091559410095215,
          0.18087027966976166,
          0.18080981075763702,
          0.18073679506778717,
          0.1806541234254837,
          0.18056432902812958,
          0.18046991527080536,
          0.18037350475788116,
          0.18027719855308533,
          0.18018260598182678,
          0.1800917536020279,
          0.18000534176826477,
          0.17992441356182098,
          0.17984959483146667,
          0.17978116869926453,
          0.1797190010547638,
          0.17966309189796448,
          0.17961303889751434,
          0.17956838011741638,
          0.17952860891819,
          0.17949292063713074,
          0.17946076393127441,
          0.1794315129518509,
          0.17940449714660645,
          0.1793791949748993,
          0.17935486137866974,
          0.17933127284049988,
          0.1793079376220703,
          0.1792844980955124,
          0.17926062643527985,
          0.17923633754253387,
          0.17921127378940582,
          0.1791854053735733,
          0.17915889620780945,
          0.1791316270828247,
          0.17910358309745789,
          0.1790749728679657,
          0.1790458858013153,
          0.17901618778705597,
          0.17898626625537872,
          0.17895610630512238,
          0.1789257526397705,
          0.1788952648639679,
          0.17886479198932648,
          0.1788344383239746,
          0.17880411446094513,
          0.17877395451068878,
          0.17874397337436676,
          0.17871417105197906,
          0.17868433892726898,
          0.178654745221138,
          0.1786252111196518,
          0.17859582602977753,
          0.1785665601491928,
          0.17853716015815735,
          0.17850792407989502,
          0.1784786880016327,
          0.17844946682453156,
          0.17841999232769012,
          0.17839060723781586,
          0.17836110293865204,
          0.1783314198255539,
          0.17830170691013336,
          0.1782718449831009,
          0.17824186384677887,
          0.1782117784023285,
          0.17818155884742737,
          0.17815114557743073,
          0.17812064290046692,
          0.17809006571769714,
          0.17805936932563782,
          0.17802850902080536,
          0.17799757421016693,
          0.17796650528907776,
          0.17793545126914978,
          0.17790411412715912,
          0.17787274718284607,
          0.17784135043621063,
          0.17780978977680206,
          0.17777810990810394,
          0.17774640023708344,
          0.177714541554451,
          0.17768259346485138,
          0.1776505559682846,
          0.17761839926242828,
          0.17758621275424957,
          0.17755380272865295,
          0.1775212436914444,
          0.17748865485191345,
          0.17745590209960938,
          0.17742319405078888,
          0.1773901879787445,
          0.17735709249973297,
          0.17732389271259308,
          0.17729051411151886,
          0.17725715041160583,
          0.17722363770008087,
          0.17718982696533203,
          0.177156001329422,
          0.17712214589118958,
          0.17708805203437805,
          0.17705382406711578,
          0.17701952159404755,
          0.17698515951633453,
          0.17695043981075287,
          0.1769157499074936,
          0.1768808364868164,
          0.17684592306613922,
          0.17681081593036652,
          0.1767755001783371,
          0.17673997581005096,
          0.1767044961452484,
          0.17666888236999512,
          0.17663291096687317,
          0.17659685015678406,
          0.17656078934669495,
          0.17652450501918793,
          0.17648795247077942,
          0.1764514148235321,
          0.17641472816467285,
          0.1763777881860733,
          0.17634066939353943,
          0.17630340158939362,
          0.17626604437828064,
          0.17622841894626617,
          0.17619068920612335,
          0.1761527806520462,
          0.17611466348171234,
          0.17607641220092773,
          0.17603799700737,
          0.17599932849407196,
          0.17596052587032318,
          0.17592157423496246,
          0.17588244378566742,
          0.17584308981895447,
          0.1758035272359848,
          0.17576384544372559,
          0.17572398483753204,
          0.17568381130695343,
          0.17564347386360168,
          0.1756030172109604,
          0.17556235194206238,
          0.17552153766155243,
          0.1754804402589798,
          0.17543908953666687,
          0.17539756000041962,
          0.17535580694675446,
          0.17531393468379974,
          0.175271674990654,
          0.17522938549518585,
          0.17518684267997742,
          0.1751440018415451,
          0.17510093748569489,
          0.17505764961242676,
          0.1750141680240631,
          0.17497052252292633,
          0.1749264895915985,
          0.17488230764865875,
          0.17483803629875183,
          0.17479336261749268,
          0.17474853992462158,
          0.174703449010849,
          0.17465801537036896,
          0.17461241781711578,
          0.1745665818452835,
          0.17452046275138855,
          0.17447420954704285,
          0.17442765831947327,
          0.1743808090686798,
          0.17433378100395203,
          0.17428646981716156,
          0.17423884570598602,
          0.1741911619901657,
          0.17414304614067078,
          0.1740947961807251,
          0.17404623329639435,
          0.17399750649929047,
          0.17394836246967316,
          0.17389914393424988,
          0.17384961247444153,
          0.17379990220069885,
          0.17374984920024872,
          0.1736995428800583,
          0.17364904284477234,
          0.1735983043909073,
          0.17354750633239746,
          0.17349614202976227,
          0.1734447479248047,
          0.173393115401268,
          0.17334114015102386,
          0.17328909039497375,
          0.17323671281337738,
          0.17318420112133026,
          0.17313146591186523,
          0.17307846248149872,
          0.17302532494068146,
          0.1729719191789627,
          0.17291836440563202,
          0.17286460101604462,
          0.17281071841716766,
          0.17275652289390564,
          0.17270232737064362,
          0.17264781892299652,
          0.17259319126605988,
          0.17253835499286652,
          0.17248336970806122,
          0.17242829501628876,
          0.17237307131290436,
          0.17231766879558563,
          0.17226223647594452,
          0.17220653593540192,
          0.17215080559253693,
          0.17209506034851074,
          0.17203903198242188,
          0.17198297381401062,
          0.17192670702934265,
          0.17187054455280304,
          0.1718142032623291,
          0.17175772786140442,
          0.17170129716396332,
          0.1716446876525879,
          0.17158810794353485,
          0.17153143882751465,
          0.17147469520568848,
          0.17141792178153992,
          0.17136113345623016,
          0.17130421102046967,
          0.17124740779399872,
          0.17119041085243225,
          0.17113354802131653,
          0.17107656598091125,
          0.17101968824863434,
          0.17096267640590668,
          0.17090575397014618,
          0.17084874212741852,
          0.1707918345928192,
          0.17073477804660797,
          0.17067782580852509,
          0.17062100768089294,
          0.17056386172771454,
          0.17050698399543762,
          0.17045018076896667,
          0.17039325833320618,
          0.17033636569976807,
          0.17027951776981354,
          0.17022265493869781,
          0.17016588151454926,
          0.17010915279388428,
          0.17005231976509094,
          0.16999571025371552,
          0.16993896663188934,
          0.16988232731819153,
          0.16982565820217133,
          0.1697690486907959,
          0.16971251368522644,
          0.16965600848197937,
          0.16959942877292633,
          0.16954295337200165,
          0.16948656737804413,
          0.16943004727363586,
          0.16937367618083954,
          0.1693173199892044,
          0.1692609041929245,
          0.1692046970129013,
          0.16914837062358856,
          0.1690920740365982,
          0.16903580725193024,
          0.16897960007190704,
          0.16892340779304504,
          0.16886718571186066,
          0.16881094872951508,
          0.16875486075878143,
          0.16869862377643585,
          0.1686425507068634,
          0.16858647763729095,
          0.16853031516075134,
          0.16847416758537292,
          0.16841807961463928,
          0.16836200654506683,
          0.1683058887720108,
          0.16824981570243835,
          0.1681937724351883,
          0.16813752055168152,
          0.16808155179023743,
          0.16802524030208588,
          0.1679692566394806,
          0.16791312396526337,
          0.16785693168640137,
          0.1678008735179901,
          0.16774466633796692,
          0.1676885336637497,
          0.16763226687908173,
          0.16757610440254211,
          0.16751983761787415,
          0.16746357083320618,
          0.16740727424621582,
          0.1673508733510971,
          0.16729463636875153,
          0.16723820567131042,
          0.16718174517154694,
          0.16712531447410583,
          0.16706885397434235,
          0.16701237857341766,
          0.16695573925971985,
          0.166899174451828,
          0.1668425351381302,
          0.16678574681282043,
          0.16672907769680023,
          0.16667230427265167,
          0.16661545634269714,
          0.16655854880809784,
          0.16650159657001495,
          0.1664445549249649,
          0.16638755798339844,
          0.16633038222789764,
          0.16627326607704163,
          0.16621603071689606,
          0.16615870594978333,
          0.1661013662815094,
          0.1660439670085907,
          0.16598643362522125,
          0.16592887043952942,
          0.16587117314338684,
          0.16581352055072784,
          0.1657557636499405,
          0.16569793224334717,
          0.16564001142978668,
          0.16558204591274261,
          0.16552400588989258,
          0.16546572744846344,
          0.16540756821632385,
          0.16534917056560516,
          0.1652907431125641,
          0.16523228585720062,
          0.16517367959022522,
          0.1651151180267334,
          0.16505630314350128,
          0.16499748826026917,
          0.1649385243654251,
          0.16487939655780792,
          0.16482026875019073,
          0.16476106643676758,
          0.16470178961753845,
          0.1646423041820526,
          0.16458281874656677,
          0.1645231544971466,
          0.16446341574192047,
          0.16440360248088837,
          0.1643436849117279,
          0.1642836481332779,
          0.16422346234321594,
          0.16416318714618683,
          0.16410286724567413,
          0.16404230892658234,
          0.16398175060749054,
          0.1639210432767868,
          0.16386021673679352,
          0.16379928588867188,
          0.16373825073242188,
          0.1636771261692047,
          0.16361571848392487,
          0.1635543555021286,
          0.163492813706398,
          0.16343103349208832,
          0.16336925327777863,
          0.16330741345882416,
          0.16324536502361298,
          0.16318318247795105,
          0.163120836019516,
          0.16305837035179138,
          0.162995845079422,
          0.1629331409931183,
          0.16287030279636383,
          0.16280727088451385,
          0.16274429857730865,
          0.1626809984445572,
          0.1626175493001938,
          0.16255398094654083,
          0.1624903678894043,
          0.16242647171020508,
          0.16236244142055511,
          0.16229836642742157,
          0.1622341424226761,
          0.1621696650981903,
          0.16210505366325378,
          0.1620403379201889,
          0.16197548806667328,
          0.16191039979457855,
          0.16184528172016144,
          0.16177979111671448,
          0.1617143154144287,
          0.16164875030517578,
          0.16158291697502136,
          0.16151687502861023,
          0.16145066916942596,
          0.16138434410095215,
          0.16131779551506042,
          0.16125115752220154,
          0.16118429601192474,
          0.1611173450946808,
          0.16105003654956818,
          0.16098269820213318
         ],
         "yaxis": "y",
         "type": "scatter"
        },
        {
         "hovertemplate": "variable=val_loss<br>index=%{x}<br>value=%{y}<extra></extra>",
         "legendgroup": "val_loss",
         "line": {
          "color": "#EF553B",
          "dash": "solid"
         },
         "marker": {
          "symbol": "circle"
         },
         "mode": "lines",
         "name": "val_loss",
         "orientation": "v",
         "showlegend": true,
         "x": [
          0,
          1,
          2,
          3,
          4,
          5,
          6,
          7,
          8,
          9,
          10,
          11,
          12,
          13,
          14,
          15,
          16,
          17,
          18,
          19,
          20,
          21,
          22,
          23,
          24,
          25,
          26,
          27,
          28,
          29,
          30,
          31,
          32,
          33,
          34,
          35,
          36,
          37,
          38,
          39,
          40,
          41,
          42,
          43,
          44,
          45,
          46,
          47,
          48,
          49,
          50,
          51,
          52,
          53,
          54,
          55,
          56,
          57,
          58,
          59,
          60,
          61,
          62,
          63,
          64,
          65,
          66,
          67,
          68,
          69,
          70,
          71,
          72,
          73,
          74,
          75,
          76,
          77,
          78,
          79,
          80,
          81,
          82,
          83,
          84,
          85,
          86,
          87,
          88,
          89,
          90,
          91,
          92,
          93,
          94,
          95,
          96,
          97,
          98,
          99,
          100,
          101,
          102,
          103,
          104,
          105,
          106,
          107,
          108,
          109,
          110,
          111,
          112,
          113,
          114,
          115,
          116,
          117,
          118,
          119,
          120,
          121,
          122,
          123,
          124,
          125,
          126,
          127,
          128,
          129,
          130,
          131,
          132,
          133,
          134,
          135,
          136,
          137,
          138,
          139,
          140,
          141,
          142,
          143,
          144,
          145,
          146,
          147,
          148,
          149,
          150,
          151,
          152,
          153,
          154,
          155,
          156,
          157,
          158,
          159,
          160,
          161,
          162,
          163,
          164,
          165,
          166,
          167,
          168,
          169,
          170,
          171,
          172,
          173,
          174,
          175,
          176,
          177,
          178,
          179,
          180,
          181,
          182,
          183,
          184,
          185,
          186,
          187,
          188,
          189,
          190,
          191,
          192,
          193,
          194,
          195,
          196,
          197,
          198,
          199,
          200,
          201,
          202,
          203,
          204,
          205,
          206,
          207,
          208,
          209,
          210,
          211,
          212,
          213,
          214,
          215,
          216,
          217,
          218,
          219,
          220,
          221,
          222,
          223,
          224,
          225,
          226,
          227,
          228,
          229,
          230,
          231,
          232,
          233,
          234,
          235,
          236,
          237,
          238,
          239,
          240,
          241,
          242,
          243,
          244,
          245,
          246,
          247,
          248,
          249,
          250,
          251,
          252,
          253,
          254,
          255,
          256,
          257,
          258,
          259,
          260,
          261,
          262,
          263,
          264,
          265,
          266,
          267,
          268,
          269,
          270,
          271,
          272,
          273,
          274,
          275,
          276,
          277,
          278,
          279,
          280,
          281,
          282,
          283,
          284,
          285,
          286,
          287,
          288,
          289,
          290,
          291,
          292,
          293,
          294,
          295,
          296,
          297,
          298,
          299,
          300,
          301,
          302,
          303,
          304,
          305,
          306,
          307,
          308,
          309,
          310,
          311,
          312,
          313,
          314,
          315,
          316,
          317,
          318,
          319,
          320,
          321,
          322,
          323,
          324,
          325,
          326,
          327,
          328,
          329,
          330,
          331,
          332,
          333,
          334,
          335,
          336,
          337,
          338,
          339,
          340,
          341,
          342,
          343,
          344,
          345,
          346,
          347,
          348,
          349,
          350,
          351,
          352,
          353,
          354,
          355,
          356,
          357,
          358,
          359,
          360,
          361,
          362,
          363,
          364,
          365,
          366,
          367,
          368,
          369,
          370,
          371,
          372,
          373,
          374,
          375,
          376,
          377,
          378,
          379,
          380,
          381,
          382,
          383,
          384,
          385,
          386,
          387,
          388,
          389,
          390,
          391,
          392,
          393,
          394,
          395,
          396,
          397,
          398,
          399,
          400,
          401,
          402,
          403,
          404,
          405,
          406,
          407,
          408,
          409,
          410,
          411,
          412,
          413,
          414,
          415,
          416,
          417,
          418,
          419,
          420,
          421,
          422,
          423,
          424,
          425,
          426,
          427,
          428,
          429,
          430,
          431,
          432,
          433,
          434,
          435,
          436,
          437,
          438,
          439,
          440,
          441,
          442,
          443,
          444,
          445,
          446,
          447,
          448,
          449,
          450,
          451,
          452,
          453,
          454,
          455,
          456,
          457,
          458,
          459,
          460,
          461,
          462,
          463,
          464,
          465,
          466,
          467,
          468,
          469,
          470,
          471,
          472,
          473,
          474,
          475,
          476,
          477,
          478,
          479,
          480,
          481,
          482,
          483,
          484,
          485,
          486,
          487,
          488,
          489,
          490,
          491,
          492,
          493,
          494,
          495,
          496,
          497,
          498,
          499
         ],
         "xaxis": "x",
         "y": [
          16.916091918945312,
          15.78512954711914,
          14.696640014648438,
          13.652027130126953,
          12.652132987976074,
          11.697100639343262,
          10.786652565002441,
          9.920263290405273,
          9.097293853759766,
          8.317049980163574,
          7.5788140296936035,
          6.881832122802734,
          6.225317478179932,
          5.608453750610352,
          5.030393123626709,
          4.4902567863464355,
          3.987154960632324,
          3.5201990604400635,
          3.0885136127471924,
          2.6912338733673096,
          2.3275084495544434,
          1.9964851140975952,
          1.6972967386245728,
          1.4290424585342407,
          1.1907726526260376,
          0.9814717769622803,
          0.8000459671020508,
          0.6453060507774353,
          0.5159609913825989,
          0.4106067419052124,
          0.32772281765937805,
          0.2656717300415039,
          0.22270645201206207,
          0.19698534905910492,
          0.18659229576587677,
          0.18956662714481354,
          0.2039361149072647,
          0.22775453329086304,
          0.2591363191604614,
          0.29629310965538025,
          0.3375580608844757,
          0.38141223788261414,
          0.42649853229522705,
          0.47162818908691406,
          0.515784502029419,
          0.5581182241439819,
          0.5979408621788025,
          0.6347150802612305,
          0.6680408120155334,
          0.697642982006073,
          0.7233557105064392,
          0.7451127171516418,
          0.762928307056427,
          0.7768898010253906,
          0.7871398329734802,
          0.7938690185546875,
          0.7973048090934753,
          0.7976994514465332,
          0.795326292514801,
          0.7904682159423828,
          0.7834126949310303,
          0.7744457125663757,
          0.7638487219810486,
          0.7518936991691589,
          0.7388387322425842,
          0.7249284386634827,
          0.7103884220123291,
          0.6954283118247986,
          0.6802365779876709,
          0.6649850010871887,
          0.6498243808746338,
          0.6348877549171448,
          0.6202893853187561,
          0.6061251163482666,
          0.5924782752990723,
          0.5794135928153992,
          0.5669825673103333,
          0.5552263259887695,
          0.5441713333129883,
          0.5338378548622131,
          0.5242338180541992,
          0.515361487865448,
          0.5072164535522461,
          0.49978765845298767,
          0.4930605888366699,
          0.4870169162750244,
          0.4816342890262604,
          0.4768873155117035,
          0.4727507531642914,
          0.4691953957080841,
          0.46619200706481934,
          0.4637112617492676,
          0.46172022819519043,
          0.4601897895336151,
          0.4590878486633301,
          0.4583825170993805,
          0.45804277062416077,
          0.4580368995666504,
          0.4583345353603363,
          0.4589051902294159,
          0.4597186744213104,
          0.46074604988098145,
          0.46195802092552185,
          0.4633280038833618,
          0.4648282825946808,
          0.4664338529109955,
          0.46811994910240173,
          0.4698619544506073,
          0.4716404974460602,
          0.47343263030052185,
          0.4752202033996582,
          0.476985365152359,
          0.47871196269989014,
          0.4803864657878876,
          0.4819953143596649,
          0.4835273325443268,
          0.4849731922149658,
          0.486325740814209,
          0.4875774383544922,
          0.48872411251068115,
          0.4897625744342804,
          0.49069079756736755,
          0.49150803685188293,
          0.4922146499156952,
          0.49281248450279236,
          0.4933043420314789,
          0.4936939775943756,
          0.49398520588874817,
          0.4941827356815338,
          0.49429336190223694,
          0.4943220317363739,
          0.49427521228790283,
          0.4941599369049072,
          0.4939819574356079,
          0.4937492311000824,
          0.49346816539764404,
          0.49314555525779724,
          0.492788165807724,
          0.49240198731422424,
          0.491992324590683,
          0.4915667474269867,
          0.49112939834594727,
          0.4906851351261139,
          0.4902397394180298,
          0.489796906709671,
          0.4893605709075928,
          0.4889337122440338,
          0.4885193109512329,
          0.48812082409858704,
          0.4877387285232544,
          0.4873768091201782,
          0.48703470826148987,
          0.48671436309814453,
          0.48641636967658997,
          0.4861401319503784,
          0.48588666319847107,
          0.4856562614440918,
          0.4854464530944824,
          0.4852582514286041,
          0.4850901663303375,
          0.48494139313697815,
          0.484810471534729,
          0.48469600081443787,
          0.4845971167087555,
          0.48451152443885803,
          0.4844389855861664,
          0.4843765199184418,
          0.48432421684265137,
          0.48427942395210266,
          0.48424032330513,
          0.48420703411102295,
          0.4841773211956024,
          0.48415061831474304,
          0.4841242730617523,
          0.484097957611084,
          0.4840703010559082,
          0.4840414226055145,
          0.4840105473995209,
          0.4839751720428467,
          0.4839358627796173,
          0.48389220237731934,
          0.48384329676628113,
          0.483789324760437,
          0.4837299883365631,
          0.4836646020412445,
          0.48359382152557373,
          0.483517050743103,
          0.4834345281124115,
          0.48334646224975586,
          0.48325315117836,
          0.48315438628196716,
          0.48305121064186096,
          0.48294293880462646,
          0.482830673456192,
          0.4827136695384979,
          0.4825937747955322,
          0.4824702739715576,
          0.48234400153160095,
          0.4822153151035309,
          0.48208341002464294,
          0.4819502830505371,
          0.48181554675102234,
          0.48167940974235535,
          0.48154258728027344,
          0.4814048707485199,
          0.48126670718193054,
          0.4811277389526367,
          0.4809889495372772,
          0.48085030913352966,
          0.48071154952049255,
          0.4805734157562256,
          0.48043540120124817,
          0.4802974462509155,
          0.4801604747772217,
          0.4800235331058502,
          0.479886919260025,
          0.47975125908851624,
          0.4796159565448761,
          0.4794798195362091,
          0.4793448746204376,
          0.4792100191116333,
          0.4790748655796051,
          0.4789399802684784,
          0.47880473732948303,
          0.47866979241371155,
          0.478534072637558,
          0.47839781641960144,
          0.47826138138771057,
          0.4781246483325958,
          0.47798633575439453,
          0.4778475761413574,
          0.4777078628540039,
          0.47756755352020264,
          0.47742578387260437,
          0.4772833585739136,
          0.47713926434516907,
          0.4769945442676544,
          0.47684812545776367,
          0.4767007529735565,
          0.47655248641967773,
          0.47640261054039,
          0.47625088691711426,
          0.4760984480381012,
          0.47594407200813293,
          0.47578850388526917,
          0.4756323993206024,
          0.47547420859336853,
          0.47531500458717346,
          0.4751547873020172,
          0.4749928414821625,
          0.47482988238334656,
          0.47466516494750977,
          0.47450020909309387,
          0.4743334949016571,
          0.47416603565216064,
          0.473996639251709,
          0.4738270044326782,
          0.4736558198928833,
          0.4734840393066406,
          0.473311185836792,
          0.4731370508670807,
          0.47296205163002014,
          0.4727867543697357,
          0.4726097583770752,
          0.47243213653564453,
          0.47225406765937805,
          0.4720750153064728,
          0.471894770860672,
          0.47171416878700256,
          0.4715328514575958,
          0.47135043144226074,
          0.471167653799057,
          0.4709838628768921,
          0.47079965472221375,
          0.47061488032341003,
          0.470429390668869,
          0.47024357318878174,
          0.4700566232204437,
          0.4698697030544281,
          0.4696824550628662,
          0.46949484944343567,
          0.4693061411380768,
          0.46911779046058655,
          0.46892860531806946,
          0.4687398374080658,
          0.4685504138469696,
          0.4683612585067749,
          0.4681719243526459,
          0.4679819643497467,
          0.4677923023700714,
          0.4676031172275543,
          0.4674142897129059,
          0.46722495555877686,
          0.4670362174510956,
          0.466848224401474,
          0.4666600227355957,
          0.46647223830223083,
          0.46628525853157043,
          0.4660987854003906,
          0.46591290831565857,
          0.46572765707969666,
          0.46554315090179443,
          0.46536001563072205,
          0.465177059173584,
          0.4649958312511444,
          0.46481528878211975,
          0.4646354913711548,
          0.4644571840763092,
          0.46427974104881287,
          0.464104026556015,
          0.46392926573753357,
          0.46375563740730286,
          0.4635838270187378,
          0.46341267228126526,
          0.46324363350868225,
          0.4630756676197052,
          0.4629092216491699,
          0.4627438485622406,
          0.4625798761844635,
          0.46241748332977295,
          0.46225643157958984,
          0.46209749579429626,
          0.46193909645080566,
          0.4617823362350464,
          0.4616267681121826,
          0.4614727795124054,
          0.46132028102874756,
          0.4611692428588867,
          0.46101880073547363,
          0.4608699381351471,
          0.4607226848602295,
          0.46057626605033875,
          0.4604308307170868,
          0.4602867066860199,
          0.4601440727710724,
          0.46000170707702637,
          0.45986101031303406,
          0.4597209393978119,
          0.4595819413661957,
          0.4594442546367645,
          0.4593067169189453,
          0.4591703712940216,
          0.4590349495410919,
          0.4589000940322876,
          0.45876577496528625,
          0.4586324393749237,
          0.4584996700286865,
          0.45836710929870605,
          0.45823562145233154,
          0.45810428261756897,
          0.45797356963157654,
          0.4578430652618408,
          0.4577132761478424,
          0.4575846195220947,
          0.4574553072452545,
          0.4573265612125397,
          0.45719826221466064,
          0.45707079768180847,
          0.45694267749786377,
          0.45681560039520264,
          0.4566883146762848,
          0.4565615653991699,
          0.4564343988895416,
          0.45630788803100586,
          0.4561813175678253,
          0.45605525374412537,
          0.45592859387397766,
          0.4558028280735016,
          0.45567622780799866,
          0.45555078983306885,
          0.45542454719543457,
          0.455298513174057,
          0.45517244935035706,
          0.45504698157310486,
          0.45492085814476013,
          0.4547945261001587,
          0.45466819405555725,
          0.4545423090457916,
          0.454415887594223,
          0.45428919792175293,
          0.4541631042957306,
          0.45403608679771423,
          0.4539097845554352,
          0.4537828266620636,
          0.4536561071872711,
          0.4535289704799652,
          0.4534015655517578,
          0.4532739222049713,
          0.453146368265152,
          0.45301827788352966,
          0.4528903067111969,
          0.45276179909706116,
          0.45263317227363586,
          0.45250430703163147,
          0.45237526297569275,
          0.45224595069885254,
          0.45211657881736755,
          0.4519865810871124,
          0.451856404542923,
          0.45172616839408875,
          0.4515957534313202,
          0.45146504044532776,
          0.4513343572616577,
          0.4512026607990265,
          0.45107102394104004,
          0.4509391784667969,
          0.45080748200416565,
          0.4506746828556061,
          0.4505421221256256,
          0.45040974020957947,
          0.4502761662006378,
          0.45014235377311707,
          0.4500085413455963,
          0.4498744010925293,
          0.44973960518836975,
          0.449604868888855,
          0.4494694769382477,
          0.44933417439460754,
          0.4491981565952301,
          0.4490620791912079,
          0.4489254951477051,
          0.44878900051116943,
          0.44865164160728455,
          0.4485141336917877,
          0.4483764171600342,
          0.4482381045818329,
          0.44809970259666443,
          0.44796109199523926,
          0.4478214979171753,
          0.44768181443214417,
          0.447542279958725,
          0.4474019706249237,
          0.4472617208957672,
          0.44712018966674805,
          0.4469785690307617,
          0.4468369483947754,
          0.44669508934020996,
          0.4465527832508087,
          0.4464097023010254,
          0.4462667405605316,
          0.4461228847503662,
          0.44597890973091125,
          0.4458344280719757,
          0.4456893503665924,
          0.4455445110797882,
          0.4453986883163452,
          0.44525328278541565,
          0.4451068639755249,
          0.44495996832847595,
          0.4448130130767822,
          0.4446655809879303,
          0.4445175230503082,
          0.44436898827552795,
          0.44422057271003723,
          0.4440711736679077,
          0.4439219534397125,
          0.4437716007232666,
          0.4436214864253998,
          0.4434700906276703,
          0.4433189630508423,
          0.44316694140434265,
          0.4430147111415863,
          0.4428623616695404,
          0.4427088797092438,
          0.44255533814430237,
          0.4424014389514923,
          0.4422467052936554,
          0.44209209084510803,
          0.4419367015361786,
          0.4417808949947357,
          0.4416244924068451,
          0.4414679706096649,
          0.44131091237068176,
          0.44115307927131653,
          0.4409947097301483,
          0.440836101770401,
          0.44067680835723877,
          0.4405168294906616,
          0.4403572976589203,
          0.44019636511802673,
          0.4400351047515869,
          0.4398733675479889,
          0.4397115707397461,
          0.43954816460609436,
          0.43938538432121277,
          0.43922126293182373,
          0.43905675411224365,
          0.43889185786247253,
          0.43872690200805664,
          0.4385606348514557,
          0.43839430809020996,
          0.43822726607322693,
          0.4380591809749603,
          0.4378914535045624,
          0.4377225935459137,
          0.4375535249710083,
          0.43738362193107605,
          0.4372129440307617,
          0.4370417296886444,
          0.43687009811401367
         ],
         "yaxis": "y",
         "type": "scatter"
        }
       ],
       "layout": {
        "template": {
         "data": {
          "bar": [
           {
            "error_x": {
             "color": "#2a3f5f"
            },
            "error_y": {
             "color": "#2a3f5f"
            },
            "marker": {
             "line": {
              "color": "#E5ECF6",
              "width": 0.5
             },
             "pattern": {
              "fillmode": "overlay",
              "size": 10,
              "solidity": 0.2
             }
            },
            "type": "bar"
           }
          ],
          "barpolar": [
           {
            "marker": {
             "line": {
              "color": "#E5ECF6",
              "width": 0.5
             },
             "pattern": {
              "fillmode": "overlay",
              "size": 10,
              "solidity": 0.2
             }
            },
            "type": "barpolar"
           }
          ],
          "carpet": [
           {
            "aaxis": {
             "endlinecolor": "#2a3f5f",
             "gridcolor": "white",
             "linecolor": "white",
             "minorgridcolor": "white",
             "startlinecolor": "#2a3f5f"
            },
            "baxis": {
             "endlinecolor": "#2a3f5f",
             "gridcolor": "white",
             "linecolor": "white",
             "minorgridcolor": "white",
             "startlinecolor": "#2a3f5f"
            },
            "type": "carpet"
           }
          ],
          "choropleth": [
           {
            "colorbar": {
             "outlinewidth": 0,
             "ticks": ""
            },
            "type": "choropleth"
           }
          ],
          "contour": [
           {
            "colorbar": {
             "outlinewidth": 0,
             "ticks": ""
            },
            "colorscale": [
             [
              0.0,
              "#0d0887"
             ],
             [
              0.1111111111111111,
              "#46039f"
             ],
             [
              0.2222222222222222,
              "#7201a8"
             ],
             [
              0.3333333333333333,
              "#9c179e"
             ],
             [
              0.4444444444444444,
              "#bd3786"
             ],
             [
              0.5555555555555556,
              "#d8576b"
             ],
             [
              0.6666666666666666,
              "#ed7953"
             ],
             [
              0.7777777777777778,
              "#fb9f3a"
             ],
             [
              0.8888888888888888,
              "#fdca26"
             ],
             [
              1.0,
              "#f0f921"
             ]
            ],
            "type": "contour"
           }
          ],
          "contourcarpet": [
           {
            "colorbar": {
             "outlinewidth": 0,
             "ticks": ""
            },
            "type": "contourcarpet"
           }
          ],
          "heatmap": [
           {
            "colorbar": {
             "outlinewidth": 0,
             "ticks": ""
            },
            "colorscale": [
             [
              0.0,
              "#0d0887"
             ],
             [
              0.1111111111111111,
              "#46039f"
             ],
             [
              0.2222222222222222,
              "#7201a8"
             ],
             [
              0.3333333333333333,
              "#9c179e"
             ],
             [
              0.4444444444444444,
              "#bd3786"
             ],
             [
              0.5555555555555556,
              "#d8576b"
             ],
             [
              0.6666666666666666,
              "#ed7953"
             ],
             [
              0.7777777777777778,
              "#fb9f3a"
             ],
             [
              0.8888888888888888,
              "#fdca26"
             ],
             [
              1.0,
              "#f0f921"
             ]
            ],
            "type": "heatmap"
           }
          ],
          "heatmapgl": [
           {
            "colorbar": {
             "outlinewidth": 0,
             "ticks": ""
            },
            "colorscale": [
             [
              0.0,
              "#0d0887"
             ],
             [
              0.1111111111111111,
              "#46039f"
             ],
             [
              0.2222222222222222,
              "#7201a8"
             ],
             [
              0.3333333333333333,
              "#9c179e"
             ],
             [
              0.4444444444444444,
              "#bd3786"
             ],
             [
              0.5555555555555556,
              "#d8576b"
             ],
             [
              0.6666666666666666,
              "#ed7953"
             ],
             [
              0.7777777777777778,
              "#fb9f3a"
             ],
             [
              0.8888888888888888,
              "#fdca26"
             ],
             [
              1.0,
              "#f0f921"
             ]
            ],
            "type": "heatmapgl"
           }
          ],
          "histogram": [
           {
            "marker": {
             "pattern": {
              "fillmode": "overlay",
              "size": 10,
              "solidity": 0.2
             }
            },
            "type": "histogram"
           }
          ],
          "histogram2d": [
           {
            "colorbar": {
             "outlinewidth": 0,
             "ticks": ""
            },
            "colorscale": [
             [
              0.0,
              "#0d0887"
             ],
             [
              0.1111111111111111,
              "#46039f"
             ],
             [
              0.2222222222222222,
              "#7201a8"
             ],
             [
              0.3333333333333333,
              "#9c179e"
             ],
             [
              0.4444444444444444,
              "#bd3786"
             ],
             [
              0.5555555555555556,
              "#d8576b"
             ],
             [
              0.6666666666666666,
              "#ed7953"
             ],
             [
              0.7777777777777778,
              "#fb9f3a"
             ],
             [
              0.8888888888888888,
              "#fdca26"
             ],
             [
              1.0,
              "#f0f921"
             ]
            ],
            "type": "histogram2d"
           }
          ],
          "histogram2dcontour": [
           {
            "colorbar": {
             "outlinewidth": 0,
             "ticks": ""
            },
            "colorscale": [
             [
              0.0,
              "#0d0887"
             ],
             [
              0.1111111111111111,
              "#46039f"
             ],
             [
              0.2222222222222222,
              "#7201a8"
             ],
             [
              0.3333333333333333,
              "#9c179e"
             ],
             [
              0.4444444444444444,
              "#bd3786"
             ],
             [
              0.5555555555555556,
              "#d8576b"
             ],
             [
              0.6666666666666666,
              "#ed7953"
             ],
             [
              0.7777777777777778,
              "#fb9f3a"
             ],
             [
              0.8888888888888888,
              "#fdca26"
             ],
             [
              1.0,
              "#f0f921"
             ]
            ],
            "type": "histogram2dcontour"
           }
          ],
          "mesh3d": [
           {
            "colorbar": {
             "outlinewidth": 0,
             "ticks": ""
            },
            "type": "mesh3d"
           }
          ],
          "parcoords": [
           {
            "line": {
             "colorbar": {
              "outlinewidth": 0,
              "ticks": ""
             }
            },
            "type": "parcoords"
           }
          ],
          "pie": [
           {
            "automargin": true,
            "type": "pie"
           }
          ],
          "scatter": [
           {
            "marker": {
             "colorbar": {
              "outlinewidth": 0,
              "ticks": ""
             }
            },
            "type": "scatter"
           }
          ],
          "scatter3d": [
           {
            "line": {
             "colorbar": {
              "outlinewidth": 0,
              "ticks": ""
             }
            },
            "marker": {
             "colorbar": {
              "outlinewidth": 0,
              "ticks": ""
             }
            },
            "type": "scatter3d"
           }
          ],
          "scattercarpet": [
           {
            "marker": {
             "colorbar": {
              "outlinewidth": 0,
              "ticks": ""
             }
            },
            "type": "scattercarpet"
           }
          ],
          "scattergeo": [
           {
            "marker": {
             "colorbar": {
              "outlinewidth": 0,
              "ticks": ""
             }
            },
            "type": "scattergeo"
           }
          ],
          "scattergl": [
           {
            "marker": {
             "colorbar": {
              "outlinewidth": 0,
              "ticks": ""
             }
            },
            "type": "scattergl"
           }
          ],
          "scattermapbox": [
           {
            "marker": {
             "colorbar": {
              "outlinewidth": 0,
              "ticks": ""
             }
            },
            "type": "scattermapbox"
           }
          ],
          "scatterpolar": [
           {
            "marker": {
             "colorbar": {
              "outlinewidth": 0,
              "ticks": ""
             }
            },
            "type": "scatterpolar"
           }
          ],
          "scatterpolargl": [
           {
            "marker": {
             "colorbar": {
              "outlinewidth": 0,
              "ticks": ""
             }
            },
            "type": "scatterpolargl"
           }
          ],
          "scatterternary": [
           {
            "marker": {
             "colorbar": {
              "outlinewidth": 0,
              "ticks": ""
             }
            },
            "type": "scatterternary"
           }
          ],
          "surface": [
           {
            "colorbar": {
             "outlinewidth": 0,
             "ticks": ""
            },
            "colorscale": [
             [
              0.0,
              "#0d0887"
             ],
             [
              0.1111111111111111,
              "#46039f"
             ],
             [
              0.2222222222222222,
              "#7201a8"
             ],
             [
              0.3333333333333333,
              "#9c179e"
             ],
             [
              0.4444444444444444,
              "#bd3786"
             ],
             [
              0.5555555555555556,
              "#d8576b"
             ],
             [
              0.6666666666666666,
              "#ed7953"
             ],
             [
              0.7777777777777778,
              "#fb9f3a"
             ],
             [
              0.8888888888888888,
              "#fdca26"
             ],
             [
              1.0,
              "#f0f921"
             ]
            ],
            "type": "surface"
           }
          ],
          "table": [
           {
            "cells": {
             "fill": {
              "color": "#EBF0F8"
             },
             "line": {
              "color": "white"
             }
            },
            "header": {
             "fill": {
              "color": "#C8D4E3"
             },
             "line": {
              "color": "white"
             }
            },
            "type": "table"
           }
          ]
         },
         "layout": {
          "annotationdefaults": {
           "arrowcolor": "#2a3f5f",
           "arrowhead": 0,
           "arrowwidth": 1
          },
          "autotypenumbers": "strict",
          "coloraxis": {
           "colorbar": {
            "outlinewidth": 0,
            "ticks": ""
           }
          },
          "colorscale": {
           "diverging": [
            [
             0,
             "#8e0152"
            ],
            [
             0.1,
             "#c51b7d"
            ],
            [
             0.2,
             "#de77ae"
            ],
            [
             0.3,
             "#f1b6da"
            ],
            [
             0.4,
             "#fde0ef"
            ],
            [
             0.5,
             "#f7f7f7"
            ],
            [
             0.6,
             "#e6f5d0"
            ],
            [
             0.7,
             "#b8e186"
            ],
            [
             0.8,
             "#7fbc41"
            ],
            [
             0.9,
             "#4d9221"
            ],
            [
             1,
             "#276419"
            ]
           ],
           "sequential": [
            [
             0.0,
             "#0d0887"
            ],
            [
             0.1111111111111111,
             "#46039f"
            ],
            [
             0.2222222222222222,
             "#7201a8"
            ],
            [
             0.3333333333333333,
             "#9c179e"
            ],
            [
             0.4444444444444444,
             "#bd3786"
            ],
            [
             0.5555555555555556,
             "#d8576b"
            ],
            [
             0.6666666666666666,
             "#ed7953"
            ],
            [
             0.7777777777777778,
             "#fb9f3a"
            ],
            [
             0.8888888888888888,
             "#fdca26"
            ],
            [
             1.0,
             "#f0f921"
            ]
           ],
           "sequentialminus": [
            [
             0.0,
             "#0d0887"
            ],
            [
             0.1111111111111111,
             "#46039f"
            ],
            [
             0.2222222222222222,
             "#7201a8"
            ],
            [
             0.3333333333333333,
             "#9c179e"
            ],
            [
             0.4444444444444444,
             "#bd3786"
            ],
            [
             0.5555555555555556,
             "#d8576b"
            ],
            [
             0.6666666666666666,
             "#ed7953"
            ],
            [
             0.7777777777777778,
             "#fb9f3a"
            ],
            [
             0.8888888888888888,
             "#fdca26"
            ],
            [
             1.0,
             "#f0f921"
            ]
           ]
          },
          "colorway": [
           "#636efa",
           "#EF553B",
           "#00cc96",
           "#ab63fa",
           "#FFA15A",
           "#19d3f3",
           "#FF6692",
           "#B6E880",
           "#FF97FF",
           "#FECB52"
          ],
          "font": {
           "color": "#2a3f5f"
          },
          "geo": {
           "bgcolor": "white",
           "lakecolor": "white",
           "landcolor": "#E5ECF6",
           "showlakes": true,
           "showland": true,
           "subunitcolor": "white"
          },
          "hoverlabel": {
           "align": "left"
          },
          "hovermode": "closest",
          "mapbox": {
           "style": "light"
          },
          "paper_bgcolor": "white",
          "plot_bgcolor": "#E5ECF6",
          "polar": {
           "angularaxis": {
            "gridcolor": "white",
            "linecolor": "white",
            "ticks": ""
           },
           "bgcolor": "#E5ECF6",
           "radialaxis": {
            "gridcolor": "white",
            "linecolor": "white",
            "ticks": ""
           }
          },
          "scene": {
           "xaxis": {
            "backgroundcolor": "#E5ECF6",
            "gridcolor": "white",
            "gridwidth": 2,
            "linecolor": "white",
            "showbackground": true,
            "ticks": "",
            "zerolinecolor": "white"
           },
           "yaxis": {
            "backgroundcolor": "#E5ECF6",
            "gridcolor": "white",
            "gridwidth": 2,
            "linecolor": "white",
            "showbackground": true,
            "ticks": "",
            "zerolinecolor": "white"
           },
           "zaxis": {
            "backgroundcolor": "#E5ECF6",
            "gridcolor": "white",
            "gridwidth": 2,
            "linecolor": "white",
            "showbackground": true,
            "ticks": "",
            "zerolinecolor": "white"
           }
          },
          "shapedefaults": {
           "line": {
            "color": "#2a3f5f"
           }
          },
          "ternary": {
           "aaxis": {
            "gridcolor": "white",
            "linecolor": "white",
            "ticks": ""
           },
           "baxis": {
            "gridcolor": "white",
            "linecolor": "white",
            "ticks": ""
           },
           "bgcolor": "#E5ECF6",
           "caxis": {
            "gridcolor": "white",
            "linecolor": "white",
            "ticks": ""
           }
          },
          "title": {
           "x": 0.05
          },
          "xaxis": {
           "automargin": true,
           "gridcolor": "white",
           "linecolor": "white",
           "ticks": "",
           "title": {
            "standoff": 15
           },
           "zerolinecolor": "white",
           "zerolinewidth": 2
          },
          "yaxis": {
           "automargin": true,
           "gridcolor": "white",
           "linecolor": "white",
           "ticks": "",
           "title": {
            "standoff": 15
           },
           "zerolinecolor": "white",
           "zerolinewidth": 2
          }
         }
        },
        "xaxis": {
         "anchor": "y",
         "domain": [
          0.0,
          1.0
         ],
         "title": {
          "text": "index"
         }
        },
        "yaxis": {
         "anchor": "x",
         "domain": [
          0.0,
          1.0
         ],
         "title": {
          "text": "value"
         }
        },
        "legend": {
         "title": {
          "text": "variable"
         },
         "tracegroupgap": 0
        },
        "margin": {
         "t": 60
        }
       },
       "config": {
        "plotlyServerURL": "https://plot.ly"
       }
      },
      "text/html": "<div>                            <div id=\"777aca96-6be6-4a31-a093-a67c94a702ee\" class=\"plotly-graph-div\" style=\"height:525px; width:100%;\"></div>            <script type=\"text/javascript\">                require([\"plotly\"], function(Plotly) {                    window.PLOTLYENV=window.PLOTLYENV || {};                                    if (document.getElementById(\"777aca96-6be6-4a31-a093-a67c94a702ee\")) {                    Plotly.newPlot(                        \"777aca96-6be6-4a31-a093-a67c94a702ee\",                        [{\"hovertemplate\":\"variable=loss<br>index=%{x}<br>value=%{y}<extra></extra>\",\"legendgroup\":\"loss\",\"line\":{\"color\":\"#636efa\",\"dash\":\"solid\"},\"marker\":{\"symbol\":\"circle\"},\"mode\":\"lines\",\"name\":\"loss\",\"orientation\":\"v\",\"showlegend\":true,\"x\":[0,1,2,3,4,5,6,7,8,9,10,11,12,13,14,15,16,17,18,19,20,21,22,23,24,25,26,27,28,29,30,31,32,33,34,35,36,37,38,39,40,41,42,43,44,45,46,47,48,49,50,51,52,53,54,55,56,57,58,59,60,61,62,63,64,65,66,67,68,69,70,71,72,73,74,75,76,77,78,79,80,81,82,83,84,85,86,87,88,89,90,91,92,93,94,95,96,97,98,99,100,101,102,103,104,105,106,107,108,109,110,111,112,113,114,115,116,117,118,119,120,121,122,123,124,125,126,127,128,129,130,131,132,133,134,135,136,137,138,139,140,141,142,143,144,145,146,147,148,149,150,151,152,153,154,155,156,157,158,159,160,161,162,163,164,165,166,167,168,169,170,171,172,173,174,175,176,177,178,179,180,181,182,183,184,185,186,187,188,189,190,191,192,193,194,195,196,197,198,199,200,201,202,203,204,205,206,207,208,209,210,211,212,213,214,215,216,217,218,219,220,221,222,223,224,225,226,227,228,229,230,231,232,233,234,235,236,237,238,239,240,241,242,243,244,245,246,247,248,249,250,251,252,253,254,255,256,257,258,259,260,261,262,263,264,265,266,267,268,269,270,271,272,273,274,275,276,277,278,279,280,281,282,283,284,285,286,287,288,289,290,291,292,293,294,295,296,297,298,299,300,301,302,303,304,305,306,307,308,309,310,311,312,313,314,315,316,317,318,319,320,321,322,323,324,325,326,327,328,329,330,331,332,333,334,335,336,337,338,339,340,341,342,343,344,345,346,347,348,349,350,351,352,353,354,355,356,357,358,359,360,361,362,363,364,365,366,367,368,369,370,371,372,373,374,375,376,377,378,379,380,381,382,383,384,385,386,387,388,389,390,391,392,393,394,395,396,397,398,399,400,401,402,403,404,405,406,407,408,409,410,411,412,413,414,415,416,417,418,419,420,421,422,423,424,425,426,427,428,429,430,431,432,433,434,435,436,437,438,439,440,441,442,443,444,445,446,447,448,449,450,451,452,453,454,455,456,457,458,459,460,461,462,463,464,465,466,467,468,469,470,471,472,473,474,475,476,477,478,479,480,481,482,483,484,485,486,487,488,489,490,491,492,493,494,495,496,497,498,499],\"xaxis\":\"x\",\"y\":[24.0993595123291,22.68943214416504,21.32264518737793,20.00143051147461,18.727935791015625,17.503604888916016,16.329030990600586,15.204252243041992,14.128969192504883,13.102696418762207,12.124810218811035,11.194586753845215,10.311201095581055,9.473737716674805,8.6812162399292,7.932589054107666,7.226759910583496,6.562606334686279,5.939005374908447,5.354859352111816,4.809096336364746,4.300685882568359,3.828623056411743,3.39192533493042,2.989607572555542,2.6206746101379395,2.2841005325317383,1.9788163900375366,1.70369553565979,1.4575411081314087,1.2390735149383545,1.0469199419021606,0.879608690738678,0.735564112663269,0.6131157279014587,0.5105083584785461,0.42592185735702515,0.35750168561935425,0.30338749289512634,0.2617489993572235,0.23081755638122559,0.20891690254211426,0.1944863647222519,0.18609833717346191,0.1824706643819809,0.1824699491262436,0.1851125806570053,0.18955910205841064,0.195107102394104,0.201180562376976,0.20731939375400543,0.21316657960414886,0.21845702826976776,0.22300441563129425,0.22669075429439545,0.22945544123649597,0.2312840223312378,0.2322005182504654,0.23225811123847961,0.23153206706047058,0.2301127165555954,0.2281004935503006,0.22560007870197296,0.22271694242954254,0.21955391764640808,0.21620862185955048,0.21277056634426117,0.20932038128376007,0.20592865347862244,0.2026553452014923,0.19954988360404968,0.19665026664733887,0.19398514926433563,0.19157306849956512,0.18942396342754364,0.18754012882709503,0.18591701984405518,0.18454445898532867,0.18340785801410675,0.1824888437986374,0.18176671862602234,0.18121930956840515,0.18082377314567566,0.18055684864521027,0.1803964078426361,0.18032114207744598,0.18031147122383118,0.1803497076034546,0.18042004108428955,0.18050909042358398,0.18060527741909027,0.18069955706596375,0.18078462779521942,0.1808551847934723,0.18090783059597015,0.1809403896331787,0.1809520721435547,0.18094341456890106,0.18091559410095215,0.18087027966976166,0.18080981075763702,0.18073679506778717,0.1806541234254837,0.18056432902812958,0.18046991527080536,0.18037350475788116,0.18027719855308533,0.18018260598182678,0.1800917536020279,0.18000534176826477,0.17992441356182098,0.17984959483146667,0.17978116869926453,0.1797190010547638,0.17966309189796448,0.17961303889751434,0.17956838011741638,0.17952860891819,0.17949292063713074,0.17946076393127441,0.1794315129518509,0.17940449714660645,0.1793791949748993,0.17935486137866974,0.17933127284049988,0.1793079376220703,0.1792844980955124,0.17926062643527985,0.17923633754253387,0.17921127378940582,0.1791854053735733,0.17915889620780945,0.1791316270828247,0.17910358309745789,0.1790749728679657,0.1790458858013153,0.17901618778705597,0.17898626625537872,0.17895610630512238,0.1789257526397705,0.1788952648639679,0.17886479198932648,0.1788344383239746,0.17880411446094513,0.17877395451068878,0.17874397337436676,0.17871417105197906,0.17868433892726898,0.178654745221138,0.1786252111196518,0.17859582602977753,0.1785665601491928,0.17853716015815735,0.17850792407989502,0.1784786880016327,0.17844946682453156,0.17841999232769012,0.17839060723781586,0.17836110293865204,0.1783314198255539,0.17830170691013336,0.1782718449831009,0.17824186384677887,0.1782117784023285,0.17818155884742737,0.17815114557743073,0.17812064290046692,0.17809006571769714,0.17805936932563782,0.17802850902080536,0.17799757421016693,0.17796650528907776,0.17793545126914978,0.17790411412715912,0.17787274718284607,0.17784135043621063,0.17780978977680206,0.17777810990810394,0.17774640023708344,0.177714541554451,0.17768259346485138,0.1776505559682846,0.17761839926242828,0.17758621275424957,0.17755380272865295,0.1775212436914444,0.17748865485191345,0.17745590209960938,0.17742319405078888,0.1773901879787445,0.17735709249973297,0.17732389271259308,0.17729051411151886,0.17725715041160583,0.17722363770008087,0.17718982696533203,0.177156001329422,0.17712214589118958,0.17708805203437805,0.17705382406711578,0.17701952159404755,0.17698515951633453,0.17695043981075287,0.1769157499074936,0.1768808364868164,0.17684592306613922,0.17681081593036652,0.1767755001783371,0.17673997581005096,0.1767044961452484,0.17666888236999512,0.17663291096687317,0.17659685015678406,0.17656078934669495,0.17652450501918793,0.17648795247077942,0.1764514148235321,0.17641472816467285,0.1763777881860733,0.17634066939353943,0.17630340158939362,0.17626604437828064,0.17622841894626617,0.17619068920612335,0.1761527806520462,0.17611466348171234,0.17607641220092773,0.17603799700737,0.17599932849407196,0.17596052587032318,0.17592157423496246,0.17588244378566742,0.17584308981895447,0.1758035272359848,0.17576384544372559,0.17572398483753204,0.17568381130695343,0.17564347386360168,0.1756030172109604,0.17556235194206238,0.17552153766155243,0.1754804402589798,0.17543908953666687,0.17539756000041962,0.17535580694675446,0.17531393468379974,0.175271674990654,0.17522938549518585,0.17518684267997742,0.1751440018415451,0.17510093748569489,0.17505764961242676,0.1750141680240631,0.17497052252292633,0.1749264895915985,0.17488230764865875,0.17483803629875183,0.17479336261749268,0.17474853992462158,0.174703449010849,0.17465801537036896,0.17461241781711578,0.1745665818452835,0.17452046275138855,0.17447420954704285,0.17442765831947327,0.1743808090686798,0.17433378100395203,0.17428646981716156,0.17423884570598602,0.1741911619901657,0.17414304614067078,0.1740947961807251,0.17404623329639435,0.17399750649929047,0.17394836246967316,0.17389914393424988,0.17384961247444153,0.17379990220069885,0.17374984920024872,0.1736995428800583,0.17364904284477234,0.1735983043909073,0.17354750633239746,0.17349614202976227,0.1734447479248047,0.173393115401268,0.17334114015102386,0.17328909039497375,0.17323671281337738,0.17318420112133026,0.17313146591186523,0.17307846248149872,0.17302532494068146,0.1729719191789627,0.17291836440563202,0.17286460101604462,0.17281071841716766,0.17275652289390564,0.17270232737064362,0.17264781892299652,0.17259319126605988,0.17253835499286652,0.17248336970806122,0.17242829501628876,0.17237307131290436,0.17231766879558563,0.17226223647594452,0.17220653593540192,0.17215080559253693,0.17209506034851074,0.17203903198242188,0.17198297381401062,0.17192670702934265,0.17187054455280304,0.1718142032623291,0.17175772786140442,0.17170129716396332,0.1716446876525879,0.17158810794353485,0.17153143882751465,0.17147469520568848,0.17141792178153992,0.17136113345623016,0.17130421102046967,0.17124740779399872,0.17119041085243225,0.17113354802131653,0.17107656598091125,0.17101968824863434,0.17096267640590668,0.17090575397014618,0.17084874212741852,0.1707918345928192,0.17073477804660797,0.17067782580852509,0.17062100768089294,0.17056386172771454,0.17050698399543762,0.17045018076896667,0.17039325833320618,0.17033636569976807,0.17027951776981354,0.17022265493869781,0.17016588151454926,0.17010915279388428,0.17005231976509094,0.16999571025371552,0.16993896663188934,0.16988232731819153,0.16982565820217133,0.1697690486907959,0.16971251368522644,0.16965600848197937,0.16959942877292633,0.16954295337200165,0.16948656737804413,0.16943004727363586,0.16937367618083954,0.1693173199892044,0.1692609041929245,0.1692046970129013,0.16914837062358856,0.1690920740365982,0.16903580725193024,0.16897960007190704,0.16892340779304504,0.16886718571186066,0.16881094872951508,0.16875486075878143,0.16869862377643585,0.1686425507068634,0.16858647763729095,0.16853031516075134,0.16847416758537292,0.16841807961463928,0.16836200654506683,0.1683058887720108,0.16824981570243835,0.1681937724351883,0.16813752055168152,0.16808155179023743,0.16802524030208588,0.1679692566394806,0.16791312396526337,0.16785693168640137,0.1678008735179901,0.16774466633796692,0.1676885336637497,0.16763226687908173,0.16757610440254211,0.16751983761787415,0.16746357083320618,0.16740727424621582,0.1673508733510971,0.16729463636875153,0.16723820567131042,0.16718174517154694,0.16712531447410583,0.16706885397434235,0.16701237857341766,0.16695573925971985,0.166899174451828,0.1668425351381302,0.16678574681282043,0.16672907769680023,0.16667230427265167,0.16661545634269714,0.16655854880809784,0.16650159657001495,0.1664445549249649,0.16638755798339844,0.16633038222789764,0.16627326607704163,0.16621603071689606,0.16615870594978333,0.1661013662815094,0.1660439670085907,0.16598643362522125,0.16592887043952942,0.16587117314338684,0.16581352055072784,0.1657557636499405,0.16569793224334717,0.16564001142978668,0.16558204591274261,0.16552400588989258,0.16546572744846344,0.16540756821632385,0.16534917056560516,0.1652907431125641,0.16523228585720062,0.16517367959022522,0.1651151180267334,0.16505630314350128,0.16499748826026917,0.1649385243654251,0.16487939655780792,0.16482026875019073,0.16476106643676758,0.16470178961753845,0.1646423041820526,0.16458281874656677,0.1645231544971466,0.16446341574192047,0.16440360248088837,0.1643436849117279,0.1642836481332779,0.16422346234321594,0.16416318714618683,0.16410286724567413,0.16404230892658234,0.16398175060749054,0.1639210432767868,0.16386021673679352,0.16379928588867188,0.16373825073242188,0.1636771261692047,0.16361571848392487,0.1635543555021286,0.163492813706398,0.16343103349208832,0.16336925327777863,0.16330741345882416,0.16324536502361298,0.16318318247795105,0.163120836019516,0.16305837035179138,0.162995845079422,0.1629331409931183,0.16287030279636383,0.16280727088451385,0.16274429857730865,0.1626809984445572,0.1626175493001938,0.16255398094654083,0.1624903678894043,0.16242647171020508,0.16236244142055511,0.16229836642742157,0.1622341424226761,0.1621696650981903,0.16210505366325378,0.1620403379201889,0.16197548806667328,0.16191039979457855,0.16184528172016144,0.16177979111671448,0.1617143154144287,0.16164875030517578,0.16158291697502136,0.16151687502861023,0.16145066916942596,0.16138434410095215,0.16131779551506042,0.16125115752220154,0.16118429601192474,0.1611173450946808,0.16105003654956818,0.16098269820213318],\"yaxis\":\"y\",\"type\":\"scatter\"},{\"hovertemplate\":\"variable=val_loss<br>index=%{x}<br>value=%{y}<extra></extra>\",\"legendgroup\":\"val_loss\",\"line\":{\"color\":\"#EF553B\",\"dash\":\"solid\"},\"marker\":{\"symbol\":\"circle\"},\"mode\":\"lines\",\"name\":\"val_loss\",\"orientation\":\"v\",\"showlegend\":true,\"x\":[0,1,2,3,4,5,6,7,8,9,10,11,12,13,14,15,16,17,18,19,20,21,22,23,24,25,26,27,28,29,30,31,32,33,34,35,36,37,38,39,40,41,42,43,44,45,46,47,48,49,50,51,52,53,54,55,56,57,58,59,60,61,62,63,64,65,66,67,68,69,70,71,72,73,74,75,76,77,78,79,80,81,82,83,84,85,86,87,88,89,90,91,92,93,94,95,96,97,98,99,100,101,102,103,104,105,106,107,108,109,110,111,112,113,114,115,116,117,118,119,120,121,122,123,124,125,126,127,128,129,130,131,132,133,134,135,136,137,138,139,140,141,142,143,144,145,146,147,148,149,150,151,152,153,154,155,156,157,158,159,160,161,162,163,164,165,166,167,168,169,170,171,172,173,174,175,176,177,178,179,180,181,182,183,184,185,186,187,188,189,190,191,192,193,194,195,196,197,198,199,200,201,202,203,204,205,206,207,208,209,210,211,212,213,214,215,216,217,218,219,220,221,222,223,224,225,226,227,228,229,230,231,232,233,234,235,236,237,238,239,240,241,242,243,244,245,246,247,248,249,250,251,252,253,254,255,256,257,258,259,260,261,262,263,264,265,266,267,268,269,270,271,272,273,274,275,276,277,278,279,280,281,282,283,284,285,286,287,288,289,290,291,292,293,294,295,296,297,298,299,300,301,302,303,304,305,306,307,308,309,310,311,312,313,314,315,316,317,318,319,320,321,322,323,324,325,326,327,328,329,330,331,332,333,334,335,336,337,338,339,340,341,342,343,344,345,346,347,348,349,350,351,352,353,354,355,356,357,358,359,360,361,362,363,364,365,366,367,368,369,370,371,372,373,374,375,376,377,378,379,380,381,382,383,384,385,386,387,388,389,390,391,392,393,394,395,396,397,398,399,400,401,402,403,404,405,406,407,408,409,410,411,412,413,414,415,416,417,418,419,420,421,422,423,424,425,426,427,428,429,430,431,432,433,434,435,436,437,438,439,440,441,442,443,444,445,446,447,448,449,450,451,452,453,454,455,456,457,458,459,460,461,462,463,464,465,466,467,468,469,470,471,472,473,474,475,476,477,478,479,480,481,482,483,484,485,486,487,488,489,490,491,492,493,494,495,496,497,498,499],\"xaxis\":\"x\",\"y\":[16.916091918945312,15.78512954711914,14.696640014648438,13.652027130126953,12.652132987976074,11.697100639343262,10.786652565002441,9.920263290405273,9.097293853759766,8.317049980163574,7.5788140296936035,6.881832122802734,6.225317478179932,5.608453750610352,5.030393123626709,4.4902567863464355,3.987154960632324,3.5201990604400635,3.0885136127471924,2.6912338733673096,2.3275084495544434,1.9964851140975952,1.6972967386245728,1.4290424585342407,1.1907726526260376,0.9814717769622803,0.8000459671020508,0.6453060507774353,0.5159609913825989,0.4106067419052124,0.32772281765937805,0.2656717300415039,0.22270645201206207,0.19698534905910492,0.18659229576587677,0.18956662714481354,0.2039361149072647,0.22775453329086304,0.2591363191604614,0.29629310965538025,0.3375580608844757,0.38141223788261414,0.42649853229522705,0.47162818908691406,0.515784502029419,0.5581182241439819,0.5979408621788025,0.6347150802612305,0.6680408120155334,0.697642982006073,0.7233557105064392,0.7451127171516418,0.762928307056427,0.7768898010253906,0.7871398329734802,0.7938690185546875,0.7973048090934753,0.7976994514465332,0.795326292514801,0.7904682159423828,0.7834126949310303,0.7744457125663757,0.7638487219810486,0.7518936991691589,0.7388387322425842,0.7249284386634827,0.7103884220123291,0.6954283118247986,0.6802365779876709,0.6649850010871887,0.6498243808746338,0.6348877549171448,0.6202893853187561,0.6061251163482666,0.5924782752990723,0.5794135928153992,0.5669825673103333,0.5552263259887695,0.5441713333129883,0.5338378548622131,0.5242338180541992,0.515361487865448,0.5072164535522461,0.49978765845298767,0.4930605888366699,0.4870169162750244,0.4816342890262604,0.4768873155117035,0.4727507531642914,0.4691953957080841,0.46619200706481934,0.4637112617492676,0.46172022819519043,0.4601897895336151,0.4590878486633301,0.4583825170993805,0.45804277062416077,0.4580368995666504,0.4583345353603363,0.4589051902294159,0.4597186744213104,0.46074604988098145,0.46195802092552185,0.4633280038833618,0.4648282825946808,0.4664338529109955,0.46811994910240173,0.4698619544506073,0.4716404974460602,0.47343263030052185,0.4752202033996582,0.476985365152359,0.47871196269989014,0.4803864657878876,0.4819953143596649,0.4835273325443268,0.4849731922149658,0.486325740814209,0.4875774383544922,0.48872411251068115,0.4897625744342804,0.49069079756736755,0.49150803685188293,0.4922146499156952,0.49281248450279236,0.4933043420314789,0.4936939775943756,0.49398520588874817,0.4941827356815338,0.49429336190223694,0.4943220317363739,0.49427521228790283,0.4941599369049072,0.4939819574356079,0.4937492311000824,0.49346816539764404,0.49314555525779724,0.492788165807724,0.49240198731422424,0.491992324590683,0.4915667474269867,0.49112939834594727,0.4906851351261139,0.4902397394180298,0.489796906709671,0.4893605709075928,0.4889337122440338,0.4885193109512329,0.48812082409858704,0.4877387285232544,0.4873768091201782,0.48703470826148987,0.48671436309814453,0.48641636967658997,0.4861401319503784,0.48588666319847107,0.4856562614440918,0.4854464530944824,0.4852582514286041,0.4850901663303375,0.48494139313697815,0.484810471534729,0.48469600081443787,0.4845971167087555,0.48451152443885803,0.4844389855861664,0.4843765199184418,0.48432421684265137,0.48427942395210266,0.48424032330513,0.48420703411102295,0.4841773211956024,0.48415061831474304,0.4841242730617523,0.484097957611084,0.4840703010559082,0.4840414226055145,0.4840105473995209,0.4839751720428467,0.4839358627796173,0.48389220237731934,0.48384329676628113,0.483789324760437,0.4837299883365631,0.4836646020412445,0.48359382152557373,0.483517050743103,0.4834345281124115,0.48334646224975586,0.48325315117836,0.48315438628196716,0.48305121064186096,0.48294293880462646,0.482830673456192,0.4827136695384979,0.4825937747955322,0.4824702739715576,0.48234400153160095,0.4822153151035309,0.48208341002464294,0.4819502830505371,0.48181554675102234,0.48167940974235535,0.48154258728027344,0.4814048707485199,0.48126670718193054,0.4811277389526367,0.4809889495372772,0.48085030913352966,0.48071154952049255,0.4805734157562256,0.48043540120124817,0.4802974462509155,0.4801604747772217,0.4800235331058502,0.479886919260025,0.47975125908851624,0.4796159565448761,0.4794798195362091,0.4793448746204376,0.4792100191116333,0.4790748655796051,0.4789399802684784,0.47880473732948303,0.47866979241371155,0.478534072637558,0.47839781641960144,0.47826138138771057,0.4781246483325958,0.47798633575439453,0.4778475761413574,0.4777078628540039,0.47756755352020264,0.47742578387260437,0.4772833585739136,0.47713926434516907,0.4769945442676544,0.47684812545776367,0.4767007529735565,0.47655248641967773,0.47640261054039,0.47625088691711426,0.4760984480381012,0.47594407200813293,0.47578850388526917,0.4756323993206024,0.47547420859336853,0.47531500458717346,0.4751547873020172,0.4749928414821625,0.47482988238334656,0.47466516494750977,0.47450020909309387,0.4743334949016571,0.47416603565216064,0.473996639251709,0.4738270044326782,0.4736558198928833,0.4734840393066406,0.473311185836792,0.4731370508670807,0.47296205163002014,0.4727867543697357,0.4726097583770752,0.47243213653564453,0.47225406765937805,0.4720750153064728,0.471894770860672,0.47171416878700256,0.4715328514575958,0.47135043144226074,0.471167653799057,0.4709838628768921,0.47079965472221375,0.47061488032341003,0.470429390668869,0.47024357318878174,0.4700566232204437,0.4698697030544281,0.4696824550628662,0.46949484944343567,0.4693061411380768,0.46911779046058655,0.46892860531806946,0.4687398374080658,0.4685504138469696,0.4683612585067749,0.4681719243526459,0.4679819643497467,0.4677923023700714,0.4676031172275543,0.4674142897129059,0.46722495555877686,0.4670362174510956,0.466848224401474,0.4666600227355957,0.46647223830223083,0.46628525853157043,0.4660987854003906,0.46591290831565857,0.46572765707969666,0.46554315090179443,0.46536001563072205,0.465177059173584,0.4649958312511444,0.46481528878211975,0.4646354913711548,0.4644571840763092,0.46427974104881287,0.464104026556015,0.46392926573753357,0.46375563740730286,0.4635838270187378,0.46341267228126526,0.46324363350868225,0.4630756676197052,0.4629092216491699,0.4627438485622406,0.4625798761844635,0.46241748332977295,0.46225643157958984,0.46209749579429626,0.46193909645080566,0.4617823362350464,0.4616267681121826,0.4614727795124054,0.46132028102874756,0.4611692428588867,0.46101880073547363,0.4608699381351471,0.4607226848602295,0.46057626605033875,0.4604308307170868,0.4602867066860199,0.4601440727710724,0.46000170707702637,0.45986101031303406,0.4597209393978119,0.4595819413661957,0.4594442546367645,0.4593067169189453,0.4591703712940216,0.4590349495410919,0.4589000940322876,0.45876577496528625,0.4586324393749237,0.4584996700286865,0.45836710929870605,0.45823562145233154,0.45810428261756897,0.45797356963157654,0.4578430652618408,0.4577132761478424,0.4575846195220947,0.4574553072452545,0.4573265612125397,0.45719826221466064,0.45707079768180847,0.45694267749786377,0.45681560039520264,0.4566883146762848,0.4565615653991699,0.4564343988895416,0.45630788803100586,0.4561813175678253,0.45605525374412537,0.45592859387397766,0.4558028280735016,0.45567622780799866,0.45555078983306885,0.45542454719543457,0.455298513174057,0.45517244935035706,0.45504698157310486,0.45492085814476013,0.4547945261001587,0.45466819405555725,0.4545423090457916,0.454415887594223,0.45428919792175293,0.4541631042957306,0.45403608679771423,0.4539097845554352,0.4537828266620636,0.4536561071872711,0.4535289704799652,0.4534015655517578,0.4532739222049713,0.453146368265152,0.45301827788352966,0.4528903067111969,0.45276179909706116,0.45263317227363586,0.45250430703163147,0.45237526297569275,0.45224595069885254,0.45211657881736755,0.4519865810871124,0.451856404542923,0.45172616839408875,0.4515957534313202,0.45146504044532776,0.4513343572616577,0.4512026607990265,0.45107102394104004,0.4509391784667969,0.45080748200416565,0.4506746828556061,0.4505421221256256,0.45040974020957947,0.4502761662006378,0.45014235377311707,0.4500085413455963,0.4498744010925293,0.44973960518836975,0.449604868888855,0.4494694769382477,0.44933417439460754,0.4491981565952301,0.4490620791912079,0.4489254951477051,0.44878900051116943,0.44865164160728455,0.4485141336917877,0.4483764171600342,0.4482381045818329,0.44809970259666443,0.44796109199523926,0.4478214979171753,0.44768181443214417,0.447542279958725,0.4474019706249237,0.4472617208957672,0.44712018966674805,0.4469785690307617,0.4468369483947754,0.44669508934020996,0.4465527832508087,0.4464097023010254,0.4462667405605316,0.4461228847503662,0.44597890973091125,0.4458344280719757,0.4456893503665924,0.4455445110797882,0.4453986883163452,0.44525328278541565,0.4451068639755249,0.44495996832847595,0.4448130130767822,0.4446655809879303,0.4445175230503082,0.44436898827552795,0.44422057271003723,0.4440711736679077,0.4439219534397125,0.4437716007232666,0.4436214864253998,0.4434700906276703,0.4433189630508423,0.44316694140434265,0.4430147111415863,0.4428623616695404,0.4427088797092438,0.44255533814430237,0.4424014389514923,0.4422467052936554,0.44209209084510803,0.4419367015361786,0.4417808949947357,0.4416244924068451,0.4414679706096649,0.44131091237068176,0.44115307927131653,0.4409947097301483,0.440836101770401,0.44067680835723877,0.4405168294906616,0.4403572976589203,0.44019636511802673,0.4400351047515869,0.4398733675479889,0.4397115707397461,0.43954816460609436,0.43938538432121277,0.43922126293182373,0.43905675411224365,0.43889185786247253,0.43872690200805664,0.4385606348514557,0.43839430809020996,0.43822726607322693,0.4380591809749603,0.4378914535045624,0.4377225935459137,0.4375535249710083,0.43738362193107605,0.4372129440307617,0.4370417296886444,0.43687009811401367],\"yaxis\":\"y\",\"type\":\"scatter\"}],                        {\"template\":{\"data\":{\"bar\":[{\"error_x\":{\"color\":\"#2a3f5f\"},\"error_y\":{\"color\":\"#2a3f5f\"},\"marker\":{\"line\":{\"color\":\"#E5ECF6\",\"width\":0.5},\"pattern\":{\"fillmode\":\"overlay\",\"size\":10,\"solidity\":0.2}},\"type\":\"bar\"}],\"barpolar\":[{\"marker\":{\"line\":{\"color\":\"#E5ECF6\",\"width\":0.5},\"pattern\":{\"fillmode\":\"overlay\",\"size\":10,\"solidity\":0.2}},\"type\":\"barpolar\"}],\"carpet\":[{\"aaxis\":{\"endlinecolor\":\"#2a3f5f\",\"gridcolor\":\"white\",\"linecolor\":\"white\",\"minorgridcolor\":\"white\",\"startlinecolor\":\"#2a3f5f\"},\"baxis\":{\"endlinecolor\":\"#2a3f5f\",\"gridcolor\":\"white\",\"linecolor\":\"white\",\"minorgridcolor\":\"white\",\"startlinecolor\":\"#2a3f5f\"},\"type\":\"carpet\"}],\"choropleth\":[{\"colorbar\":{\"outlinewidth\":0,\"ticks\":\"\"},\"type\":\"choropleth\"}],\"contour\":[{\"colorbar\":{\"outlinewidth\":0,\"ticks\":\"\"},\"colorscale\":[[0.0,\"#0d0887\"],[0.1111111111111111,\"#46039f\"],[0.2222222222222222,\"#7201a8\"],[0.3333333333333333,\"#9c179e\"],[0.4444444444444444,\"#bd3786\"],[0.5555555555555556,\"#d8576b\"],[0.6666666666666666,\"#ed7953\"],[0.7777777777777778,\"#fb9f3a\"],[0.8888888888888888,\"#fdca26\"],[1.0,\"#f0f921\"]],\"type\":\"contour\"}],\"contourcarpet\":[{\"colorbar\":{\"outlinewidth\":0,\"ticks\":\"\"},\"type\":\"contourcarpet\"}],\"heatmap\":[{\"colorbar\":{\"outlinewidth\":0,\"ticks\":\"\"},\"colorscale\":[[0.0,\"#0d0887\"],[0.1111111111111111,\"#46039f\"],[0.2222222222222222,\"#7201a8\"],[0.3333333333333333,\"#9c179e\"],[0.4444444444444444,\"#bd3786\"],[0.5555555555555556,\"#d8576b\"],[0.6666666666666666,\"#ed7953\"],[0.7777777777777778,\"#fb9f3a\"],[0.8888888888888888,\"#fdca26\"],[1.0,\"#f0f921\"]],\"type\":\"heatmap\"}],\"heatmapgl\":[{\"colorbar\":{\"outlinewidth\":0,\"ticks\":\"\"},\"colorscale\":[[0.0,\"#0d0887\"],[0.1111111111111111,\"#46039f\"],[0.2222222222222222,\"#7201a8\"],[0.3333333333333333,\"#9c179e\"],[0.4444444444444444,\"#bd3786\"],[0.5555555555555556,\"#d8576b\"],[0.6666666666666666,\"#ed7953\"],[0.7777777777777778,\"#fb9f3a\"],[0.8888888888888888,\"#fdca26\"],[1.0,\"#f0f921\"]],\"type\":\"heatmapgl\"}],\"histogram\":[{\"marker\":{\"pattern\":{\"fillmode\":\"overlay\",\"size\":10,\"solidity\":0.2}},\"type\":\"histogram\"}],\"histogram2d\":[{\"colorbar\":{\"outlinewidth\":0,\"ticks\":\"\"},\"colorscale\":[[0.0,\"#0d0887\"],[0.1111111111111111,\"#46039f\"],[0.2222222222222222,\"#7201a8\"],[0.3333333333333333,\"#9c179e\"],[0.4444444444444444,\"#bd3786\"],[0.5555555555555556,\"#d8576b\"],[0.6666666666666666,\"#ed7953\"],[0.7777777777777778,\"#fb9f3a\"],[0.8888888888888888,\"#fdca26\"],[1.0,\"#f0f921\"]],\"type\":\"histogram2d\"}],\"histogram2dcontour\":[{\"colorbar\":{\"outlinewidth\":0,\"ticks\":\"\"},\"colorscale\":[[0.0,\"#0d0887\"],[0.1111111111111111,\"#46039f\"],[0.2222222222222222,\"#7201a8\"],[0.3333333333333333,\"#9c179e\"],[0.4444444444444444,\"#bd3786\"],[0.5555555555555556,\"#d8576b\"],[0.6666666666666666,\"#ed7953\"],[0.7777777777777778,\"#fb9f3a\"],[0.8888888888888888,\"#fdca26\"],[1.0,\"#f0f921\"]],\"type\":\"histogram2dcontour\"}],\"mesh3d\":[{\"colorbar\":{\"outlinewidth\":0,\"ticks\":\"\"},\"type\":\"mesh3d\"}],\"parcoords\":[{\"line\":{\"colorbar\":{\"outlinewidth\":0,\"ticks\":\"\"}},\"type\":\"parcoords\"}],\"pie\":[{\"automargin\":true,\"type\":\"pie\"}],\"scatter\":[{\"marker\":{\"colorbar\":{\"outlinewidth\":0,\"ticks\":\"\"}},\"type\":\"scatter\"}],\"scatter3d\":[{\"line\":{\"colorbar\":{\"outlinewidth\":0,\"ticks\":\"\"}},\"marker\":{\"colorbar\":{\"outlinewidth\":0,\"ticks\":\"\"}},\"type\":\"scatter3d\"}],\"scattercarpet\":[{\"marker\":{\"colorbar\":{\"outlinewidth\":0,\"ticks\":\"\"}},\"type\":\"scattercarpet\"}],\"scattergeo\":[{\"marker\":{\"colorbar\":{\"outlinewidth\":0,\"ticks\":\"\"}},\"type\":\"scattergeo\"}],\"scattergl\":[{\"marker\":{\"colorbar\":{\"outlinewidth\":0,\"ticks\":\"\"}},\"type\":\"scattergl\"}],\"scattermapbox\":[{\"marker\":{\"colorbar\":{\"outlinewidth\":0,\"ticks\":\"\"}},\"type\":\"scattermapbox\"}],\"scatterpolar\":[{\"marker\":{\"colorbar\":{\"outlinewidth\":0,\"ticks\":\"\"}},\"type\":\"scatterpolar\"}],\"scatterpolargl\":[{\"marker\":{\"colorbar\":{\"outlinewidth\":0,\"ticks\":\"\"}},\"type\":\"scatterpolargl\"}],\"scatterternary\":[{\"marker\":{\"colorbar\":{\"outlinewidth\":0,\"ticks\":\"\"}},\"type\":\"scatterternary\"}],\"surface\":[{\"colorbar\":{\"outlinewidth\":0,\"ticks\":\"\"},\"colorscale\":[[0.0,\"#0d0887\"],[0.1111111111111111,\"#46039f\"],[0.2222222222222222,\"#7201a8\"],[0.3333333333333333,\"#9c179e\"],[0.4444444444444444,\"#bd3786\"],[0.5555555555555556,\"#d8576b\"],[0.6666666666666666,\"#ed7953\"],[0.7777777777777778,\"#fb9f3a\"],[0.8888888888888888,\"#fdca26\"],[1.0,\"#f0f921\"]],\"type\":\"surface\"}],\"table\":[{\"cells\":{\"fill\":{\"color\":\"#EBF0F8\"},\"line\":{\"color\":\"white\"}},\"header\":{\"fill\":{\"color\":\"#C8D4E3\"},\"line\":{\"color\":\"white\"}},\"type\":\"table\"}]},\"layout\":{\"annotationdefaults\":{\"arrowcolor\":\"#2a3f5f\",\"arrowhead\":0,\"arrowwidth\":1},\"autotypenumbers\":\"strict\",\"coloraxis\":{\"colorbar\":{\"outlinewidth\":0,\"ticks\":\"\"}},\"colorscale\":{\"diverging\":[[0,\"#8e0152\"],[0.1,\"#c51b7d\"],[0.2,\"#de77ae\"],[0.3,\"#f1b6da\"],[0.4,\"#fde0ef\"],[0.5,\"#f7f7f7\"],[0.6,\"#e6f5d0\"],[0.7,\"#b8e186\"],[0.8,\"#7fbc41\"],[0.9,\"#4d9221\"],[1,\"#276419\"]],\"sequential\":[[0.0,\"#0d0887\"],[0.1111111111111111,\"#46039f\"],[0.2222222222222222,\"#7201a8\"],[0.3333333333333333,\"#9c179e\"],[0.4444444444444444,\"#bd3786\"],[0.5555555555555556,\"#d8576b\"],[0.6666666666666666,\"#ed7953\"],[0.7777777777777778,\"#fb9f3a\"],[0.8888888888888888,\"#fdca26\"],[1.0,\"#f0f921\"]],\"sequentialminus\":[[0.0,\"#0d0887\"],[0.1111111111111111,\"#46039f\"],[0.2222222222222222,\"#7201a8\"],[0.3333333333333333,\"#9c179e\"],[0.4444444444444444,\"#bd3786\"],[0.5555555555555556,\"#d8576b\"],[0.6666666666666666,\"#ed7953\"],[0.7777777777777778,\"#fb9f3a\"],[0.8888888888888888,\"#fdca26\"],[1.0,\"#f0f921\"]]},\"colorway\":[\"#636efa\",\"#EF553B\",\"#00cc96\",\"#ab63fa\",\"#FFA15A\",\"#19d3f3\",\"#FF6692\",\"#B6E880\",\"#FF97FF\",\"#FECB52\"],\"font\":{\"color\":\"#2a3f5f\"},\"geo\":{\"bgcolor\":\"white\",\"lakecolor\":\"white\",\"landcolor\":\"#E5ECF6\",\"showlakes\":true,\"showland\":true,\"subunitcolor\":\"white\"},\"hoverlabel\":{\"align\":\"left\"},\"hovermode\":\"closest\",\"mapbox\":{\"style\":\"light\"},\"paper_bgcolor\":\"white\",\"plot_bgcolor\":\"#E5ECF6\",\"polar\":{\"angularaxis\":{\"gridcolor\":\"white\",\"linecolor\":\"white\",\"ticks\":\"\"},\"bgcolor\":\"#E5ECF6\",\"radialaxis\":{\"gridcolor\":\"white\",\"linecolor\":\"white\",\"ticks\":\"\"}},\"scene\":{\"xaxis\":{\"backgroundcolor\":\"#E5ECF6\",\"gridcolor\":\"white\",\"gridwidth\":2,\"linecolor\":\"white\",\"showbackground\":true,\"ticks\":\"\",\"zerolinecolor\":\"white\"},\"yaxis\":{\"backgroundcolor\":\"#E5ECF6\",\"gridcolor\":\"white\",\"gridwidth\":2,\"linecolor\":\"white\",\"showbackground\":true,\"ticks\":\"\",\"zerolinecolor\":\"white\"},\"zaxis\":{\"backgroundcolor\":\"#E5ECF6\",\"gridcolor\":\"white\",\"gridwidth\":2,\"linecolor\":\"white\",\"showbackground\":true,\"ticks\":\"\",\"zerolinecolor\":\"white\"}},\"shapedefaults\":{\"line\":{\"color\":\"#2a3f5f\"}},\"ternary\":{\"aaxis\":{\"gridcolor\":\"white\",\"linecolor\":\"white\",\"ticks\":\"\"},\"baxis\":{\"gridcolor\":\"white\",\"linecolor\":\"white\",\"ticks\":\"\"},\"bgcolor\":\"#E5ECF6\",\"caxis\":{\"gridcolor\":\"white\",\"linecolor\":\"white\",\"ticks\":\"\"}},\"title\":{\"x\":0.05},\"xaxis\":{\"automargin\":true,\"gridcolor\":\"white\",\"linecolor\":\"white\",\"ticks\":\"\",\"title\":{\"standoff\":15},\"zerolinecolor\":\"white\",\"zerolinewidth\":2},\"yaxis\":{\"automargin\":true,\"gridcolor\":\"white\",\"linecolor\":\"white\",\"ticks\":\"\",\"title\":{\"standoff\":15},\"zerolinecolor\":\"white\",\"zerolinewidth\":2}}},\"xaxis\":{\"anchor\":\"y\",\"domain\":[0.0,1.0],\"title\":{\"text\":\"index\"}},\"yaxis\":{\"anchor\":\"x\",\"domain\":[0.0,1.0],\"title\":{\"text\":\"value\"}},\"legend\":{\"title\":{\"text\":\"variable\"},\"tracegroupgap\":0},\"margin\":{\"t\":60}},                        {\"responsive\": true}                    ).then(function(){\n                            \nvar gd = document.getElementById('777aca96-6be6-4a31-a093-a67c94a702ee');\nvar x = new MutationObserver(function (mutations, observer) {{\n        var display = window.getComputedStyle(gd).display;\n        if (!display || display === 'none') {{\n            console.log([gd, 'removed!']);\n            Plotly.purge(gd);\n            observer.disconnect();\n        }}\n}});\n\n// Listen for the removal of the full notebook cells\nvar notebookContainer = gd.closest('#notebook-container');\nif (notebookContainer) {{\n    x.observe(notebookContainer, {childList: true});\n}}\n\n// Listen for the clearing of the current output cell\nvar outputEl = gd.closest('.output');\nif (outputEl) {{\n    x.observe(outputEl, {childList: true});\n}}\n\n                        })                };                });            </script>        </div>"
     },
     "metadata": {},
     "output_type": "display_data"
    }
   ],
   "source": [
    "epochs_2gru_df = pd.DataFrame(train_history_double_gru.history)\n",
    "display(epochs_2gru_df)\n",
    "fig = px.line(epochs_2gru_df)\n",
    "fig.show()"
   ],
   "metadata": {
    "collapsed": false,
    "pycharm": {
     "name": "#%%\n"
    }
   }
  },
  {
   "cell_type": "code",
   "execution_count": 251,
   "outputs": [
    {
     "data": {
      "application/vnd.plotly.v1+json": {
       "data": [
        {
         "hovertemplate": "x=%{x}<br>y=%{y}<extra></extra>",
         "legendgroup": "",
         "line": {
          "color": "#636efa",
          "dash": "solid"
         },
         "marker": {
          "symbol": "circle"
         },
         "mode": "lines",
         "name": "",
         "orientation": "v",
         "showlegend": false,
         "x": [
          "2007-07-31T00:00:00",
          "2007-08-31T00:00:00",
          "2007-09-30T00:00:00",
          "2007-10-31T00:00:00",
          "2007-11-30T00:00:00",
          "2007-12-31T00:00:00",
          "2008-01-31T00:00:00",
          "2008-02-29T00:00:00",
          "2008-03-31T00:00:00",
          "2008-04-30T00:00:00",
          "2008-05-31T00:00:00",
          "2008-06-30T00:00:00",
          "2008-07-31T00:00:00",
          "2008-08-31T00:00:00",
          "2008-09-30T00:00:00",
          "2008-10-31T00:00:00",
          "2008-11-30T00:00:00",
          "2008-12-31T00:00:00",
          "2009-01-31T00:00:00",
          "2009-02-28T00:00:00",
          "2009-03-31T00:00:00",
          "2009-04-30T00:00:00",
          "2009-05-31T00:00:00",
          "2009-06-30T00:00:00",
          "2009-07-31T00:00:00",
          "2009-08-31T00:00:00",
          "2009-09-30T00:00:00",
          "2009-10-31T00:00:00",
          "2009-11-30T00:00:00",
          "2009-12-31T00:00:00",
          "2010-01-31T00:00:00",
          "2010-02-28T00:00:00",
          "2010-03-31T00:00:00",
          "2010-04-30T00:00:00",
          "2010-05-31T00:00:00",
          "2010-06-30T00:00:00",
          "2010-07-31T00:00:00",
          "2010-08-31T00:00:00",
          "2010-09-30T00:00:00",
          "2010-10-31T00:00:00",
          "2010-11-30T00:00:00",
          "2010-12-31T00:00:00"
         ],
         "xaxis": "x",
         "y": [
          4.671220000000001,
          4.6892200000000015,
          5.0440600000000115,
          5.346,
          5.506060000000012,
          5.849220000000001,
          5.328,
          4.54,
          4.847220000000001,
          4.750060000000012,
          4.972440000000002,
          4.79,
          4.2,
          4.3996600000000035,
          4.588020000000004,
          4.9872200000000015,
          5.182,
          5.043220000000001,
          5.524,
          4.462,
          4.566,
          4.420040000000008,
          4.191220000000001,
          3.756020000000004,
          4.1,
          4.418,
          4.234,
          4.827220000000001,
          5.444,
          5.090440000000002,
          4.874060000000012,
          4.8408399999999965,
          4.514060000000012,
          4.0128199999999925,
          4.116020000000003,
          4.032819999999992,
          3.41,
          3.9700400000000085,
          3.8792799999999694,
          4.704020000000003,
          4.432,
          3.882
         ],
         "yaxis": "y",
         "type": "scatter"
        },
        {
         "mode": "lines",
         "name": "Double GRU",
         "x": [
          "2010-07-31T00:00:00",
          "2010-08-31T00:00:00",
          "2010-09-30T00:00:00",
          "2010-10-31T00:00:00",
          "2010-11-30T00:00:00",
          "2010-12-31T00:00:00"
         ],
         "y": [
          4.0546875,
          4.020068168640137,
          4.007083415985107,
          4.000368595123291,
          4.026977062225342,
          4.043013572692871
         ],
         "type": "scatter"
        }
       ],
       "layout": {
        "template": {
         "data": {
          "bar": [
           {
            "error_x": {
             "color": "#2a3f5f"
            },
            "error_y": {
             "color": "#2a3f5f"
            },
            "marker": {
             "line": {
              "color": "#E5ECF6",
              "width": 0.5
             },
             "pattern": {
              "fillmode": "overlay",
              "size": 10,
              "solidity": 0.2
             }
            },
            "type": "bar"
           }
          ],
          "barpolar": [
           {
            "marker": {
             "line": {
              "color": "#E5ECF6",
              "width": 0.5
             },
             "pattern": {
              "fillmode": "overlay",
              "size": 10,
              "solidity": 0.2
             }
            },
            "type": "barpolar"
           }
          ],
          "carpet": [
           {
            "aaxis": {
             "endlinecolor": "#2a3f5f",
             "gridcolor": "white",
             "linecolor": "white",
             "minorgridcolor": "white",
             "startlinecolor": "#2a3f5f"
            },
            "baxis": {
             "endlinecolor": "#2a3f5f",
             "gridcolor": "white",
             "linecolor": "white",
             "minorgridcolor": "white",
             "startlinecolor": "#2a3f5f"
            },
            "type": "carpet"
           }
          ],
          "choropleth": [
           {
            "colorbar": {
             "outlinewidth": 0,
             "ticks": ""
            },
            "type": "choropleth"
           }
          ],
          "contour": [
           {
            "colorbar": {
             "outlinewidth": 0,
             "ticks": ""
            },
            "colorscale": [
             [
              0.0,
              "#0d0887"
             ],
             [
              0.1111111111111111,
              "#46039f"
             ],
             [
              0.2222222222222222,
              "#7201a8"
             ],
             [
              0.3333333333333333,
              "#9c179e"
             ],
             [
              0.4444444444444444,
              "#bd3786"
             ],
             [
              0.5555555555555556,
              "#d8576b"
             ],
             [
              0.6666666666666666,
              "#ed7953"
             ],
             [
              0.7777777777777778,
              "#fb9f3a"
             ],
             [
              0.8888888888888888,
              "#fdca26"
             ],
             [
              1.0,
              "#f0f921"
             ]
            ],
            "type": "contour"
           }
          ],
          "contourcarpet": [
           {
            "colorbar": {
             "outlinewidth": 0,
             "ticks": ""
            },
            "type": "contourcarpet"
           }
          ],
          "heatmap": [
           {
            "colorbar": {
             "outlinewidth": 0,
             "ticks": ""
            },
            "colorscale": [
             [
              0.0,
              "#0d0887"
             ],
             [
              0.1111111111111111,
              "#46039f"
             ],
             [
              0.2222222222222222,
              "#7201a8"
             ],
             [
              0.3333333333333333,
              "#9c179e"
             ],
             [
              0.4444444444444444,
              "#bd3786"
             ],
             [
              0.5555555555555556,
              "#d8576b"
             ],
             [
              0.6666666666666666,
              "#ed7953"
             ],
             [
              0.7777777777777778,
              "#fb9f3a"
             ],
             [
              0.8888888888888888,
              "#fdca26"
             ],
             [
              1.0,
              "#f0f921"
             ]
            ],
            "type": "heatmap"
           }
          ],
          "heatmapgl": [
           {
            "colorbar": {
             "outlinewidth": 0,
             "ticks": ""
            },
            "colorscale": [
             [
              0.0,
              "#0d0887"
             ],
             [
              0.1111111111111111,
              "#46039f"
             ],
             [
              0.2222222222222222,
              "#7201a8"
             ],
             [
              0.3333333333333333,
              "#9c179e"
             ],
             [
              0.4444444444444444,
              "#bd3786"
             ],
             [
              0.5555555555555556,
              "#d8576b"
             ],
             [
              0.6666666666666666,
              "#ed7953"
             ],
             [
              0.7777777777777778,
              "#fb9f3a"
             ],
             [
              0.8888888888888888,
              "#fdca26"
             ],
             [
              1.0,
              "#f0f921"
             ]
            ],
            "type": "heatmapgl"
           }
          ],
          "histogram": [
           {
            "marker": {
             "pattern": {
              "fillmode": "overlay",
              "size": 10,
              "solidity": 0.2
             }
            },
            "type": "histogram"
           }
          ],
          "histogram2d": [
           {
            "colorbar": {
             "outlinewidth": 0,
             "ticks": ""
            },
            "colorscale": [
             [
              0.0,
              "#0d0887"
             ],
             [
              0.1111111111111111,
              "#46039f"
             ],
             [
              0.2222222222222222,
              "#7201a8"
             ],
             [
              0.3333333333333333,
              "#9c179e"
             ],
             [
              0.4444444444444444,
              "#bd3786"
             ],
             [
              0.5555555555555556,
              "#d8576b"
             ],
             [
              0.6666666666666666,
              "#ed7953"
             ],
             [
              0.7777777777777778,
              "#fb9f3a"
             ],
             [
              0.8888888888888888,
              "#fdca26"
             ],
             [
              1.0,
              "#f0f921"
             ]
            ],
            "type": "histogram2d"
           }
          ],
          "histogram2dcontour": [
           {
            "colorbar": {
             "outlinewidth": 0,
             "ticks": ""
            },
            "colorscale": [
             [
              0.0,
              "#0d0887"
             ],
             [
              0.1111111111111111,
              "#46039f"
             ],
             [
              0.2222222222222222,
              "#7201a8"
             ],
             [
              0.3333333333333333,
              "#9c179e"
             ],
             [
              0.4444444444444444,
              "#bd3786"
             ],
             [
              0.5555555555555556,
              "#d8576b"
             ],
             [
              0.6666666666666666,
              "#ed7953"
             ],
             [
              0.7777777777777778,
              "#fb9f3a"
             ],
             [
              0.8888888888888888,
              "#fdca26"
             ],
             [
              1.0,
              "#f0f921"
             ]
            ],
            "type": "histogram2dcontour"
           }
          ],
          "mesh3d": [
           {
            "colorbar": {
             "outlinewidth": 0,
             "ticks": ""
            },
            "type": "mesh3d"
           }
          ],
          "parcoords": [
           {
            "line": {
             "colorbar": {
              "outlinewidth": 0,
              "ticks": ""
             }
            },
            "type": "parcoords"
           }
          ],
          "pie": [
           {
            "automargin": true,
            "type": "pie"
           }
          ],
          "scatter": [
           {
            "marker": {
             "colorbar": {
              "outlinewidth": 0,
              "ticks": ""
             }
            },
            "type": "scatter"
           }
          ],
          "scatter3d": [
           {
            "line": {
             "colorbar": {
              "outlinewidth": 0,
              "ticks": ""
             }
            },
            "marker": {
             "colorbar": {
              "outlinewidth": 0,
              "ticks": ""
             }
            },
            "type": "scatter3d"
           }
          ],
          "scattercarpet": [
           {
            "marker": {
             "colorbar": {
              "outlinewidth": 0,
              "ticks": ""
             }
            },
            "type": "scattercarpet"
           }
          ],
          "scattergeo": [
           {
            "marker": {
             "colorbar": {
              "outlinewidth": 0,
              "ticks": ""
             }
            },
            "type": "scattergeo"
           }
          ],
          "scattergl": [
           {
            "marker": {
             "colorbar": {
              "outlinewidth": 0,
              "ticks": ""
             }
            },
            "type": "scattergl"
           }
          ],
          "scattermapbox": [
           {
            "marker": {
             "colorbar": {
              "outlinewidth": 0,
              "ticks": ""
             }
            },
            "type": "scattermapbox"
           }
          ],
          "scatterpolar": [
           {
            "marker": {
             "colorbar": {
              "outlinewidth": 0,
              "ticks": ""
             }
            },
            "type": "scatterpolar"
           }
          ],
          "scatterpolargl": [
           {
            "marker": {
             "colorbar": {
              "outlinewidth": 0,
              "ticks": ""
             }
            },
            "type": "scatterpolargl"
           }
          ],
          "scatterternary": [
           {
            "marker": {
             "colorbar": {
              "outlinewidth": 0,
              "ticks": ""
             }
            },
            "type": "scatterternary"
           }
          ],
          "surface": [
           {
            "colorbar": {
             "outlinewidth": 0,
             "ticks": ""
            },
            "colorscale": [
             [
              0.0,
              "#0d0887"
             ],
             [
              0.1111111111111111,
              "#46039f"
             ],
             [
              0.2222222222222222,
              "#7201a8"
             ],
             [
              0.3333333333333333,
              "#9c179e"
             ],
             [
              0.4444444444444444,
              "#bd3786"
             ],
             [
              0.5555555555555556,
              "#d8576b"
             ],
             [
              0.6666666666666666,
              "#ed7953"
             ],
             [
              0.7777777777777778,
              "#fb9f3a"
             ],
             [
              0.8888888888888888,
              "#fdca26"
             ],
             [
              1.0,
              "#f0f921"
             ]
            ],
            "type": "surface"
           }
          ],
          "table": [
           {
            "cells": {
             "fill": {
              "color": "#EBF0F8"
             },
             "line": {
              "color": "white"
             }
            },
            "header": {
             "fill": {
              "color": "#C8D4E3"
             },
             "line": {
              "color": "white"
             }
            },
            "type": "table"
           }
          ]
         },
         "layout": {
          "annotationdefaults": {
           "arrowcolor": "#2a3f5f",
           "arrowhead": 0,
           "arrowwidth": 1
          },
          "autotypenumbers": "strict",
          "coloraxis": {
           "colorbar": {
            "outlinewidth": 0,
            "ticks": ""
           }
          },
          "colorscale": {
           "diverging": [
            [
             0,
             "#8e0152"
            ],
            [
             0.1,
             "#c51b7d"
            ],
            [
             0.2,
             "#de77ae"
            ],
            [
             0.3,
             "#f1b6da"
            ],
            [
             0.4,
             "#fde0ef"
            ],
            [
             0.5,
             "#f7f7f7"
            ],
            [
             0.6,
             "#e6f5d0"
            ],
            [
             0.7,
             "#b8e186"
            ],
            [
             0.8,
             "#7fbc41"
            ],
            [
             0.9,
             "#4d9221"
            ],
            [
             1,
             "#276419"
            ]
           ],
           "sequential": [
            [
             0.0,
             "#0d0887"
            ],
            [
             0.1111111111111111,
             "#46039f"
            ],
            [
             0.2222222222222222,
             "#7201a8"
            ],
            [
             0.3333333333333333,
             "#9c179e"
            ],
            [
             0.4444444444444444,
             "#bd3786"
            ],
            [
             0.5555555555555556,
             "#d8576b"
            ],
            [
             0.6666666666666666,
             "#ed7953"
            ],
            [
             0.7777777777777778,
             "#fb9f3a"
            ],
            [
             0.8888888888888888,
             "#fdca26"
            ],
            [
             1.0,
             "#f0f921"
            ]
           ],
           "sequentialminus": [
            [
             0.0,
             "#0d0887"
            ],
            [
             0.1111111111111111,
             "#46039f"
            ],
            [
             0.2222222222222222,
             "#7201a8"
            ],
            [
             0.3333333333333333,
             "#9c179e"
            ],
            [
             0.4444444444444444,
             "#bd3786"
            ],
            [
             0.5555555555555556,
             "#d8576b"
            ],
            [
             0.6666666666666666,
             "#ed7953"
            ],
            [
             0.7777777777777778,
             "#fb9f3a"
            ],
            [
             0.8888888888888888,
             "#fdca26"
            ],
            [
             1.0,
             "#f0f921"
            ]
           ]
          },
          "colorway": [
           "#636efa",
           "#EF553B",
           "#00cc96",
           "#ab63fa",
           "#FFA15A",
           "#19d3f3",
           "#FF6692",
           "#B6E880",
           "#FF97FF",
           "#FECB52"
          ],
          "font": {
           "color": "#2a3f5f"
          },
          "geo": {
           "bgcolor": "white",
           "lakecolor": "white",
           "landcolor": "#E5ECF6",
           "showlakes": true,
           "showland": true,
           "subunitcolor": "white"
          },
          "hoverlabel": {
           "align": "left"
          },
          "hovermode": "closest",
          "mapbox": {
           "style": "light"
          },
          "paper_bgcolor": "white",
          "plot_bgcolor": "#E5ECF6",
          "polar": {
           "angularaxis": {
            "gridcolor": "white",
            "linecolor": "white",
            "ticks": ""
           },
           "bgcolor": "#E5ECF6",
           "radialaxis": {
            "gridcolor": "white",
            "linecolor": "white",
            "ticks": ""
           }
          },
          "scene": {
           "xaxis": {
            "backgroundcolor": "#E5ECF6",
            "gridcolor": "white",
            "gridwidth": 2,
            "linecolor": "white",
            "showbackground": true,
            "ticks": "",
            "zerolinecolor": "white"
           },
           "yaxis": {
            "backgroundcolor": "#E5ECF6",
            "gridcolor": "white",
            "gridwidth": 2,
            "linecolor": "white",
            "showbackground": true,
            "ticks": "",
            "zerolinecolor": "white"
           },
           "zaxis": {
            "backgroundcolor": "#E5ECF6",
            "gridcolor": "white",
            "gridwidth": 2,
            "linecolor": "white",
            "showbackground": true,
            "ticks": "",
            "zerolinecolor": "white"
           }
          },
          "shapedefaults": {
           "line": {
            "color": "#2a3f5f"
           }
          },
          "ternary": {
           "aaxis": {
            "gridcolor": "white",
            "linecolor": "white",
            "ticks": ""
           },
           "baxis": {
            "gridcolor": "white",
            "linecolor": "white",
            "ticks": ""
           },
           "bgcolor": "#E5ECF6",
           "caxis": {
            "gridcolor": "white",
            "linecolor": "white",
            "ticks": ""
           }
          },
          "title": {
           "x": 0.05
          },
          "xaxis": {
           "automargin": true,
           "gridcolor": "white",
           "linecolor": "white",
           "ticks": "",
           "title": {
            "standoff": 15
           },
           "zerolinecolor": "white",
           "zerolinewidth": 2
          },
          "yaxis": {
           "automargin": true,
           "gridcolor": "white",
           "linecolor": "white",
           "ticks": "",
           "title": {
            "standoff": 15
           },
           "zerolinecolor": "white",
           "zerolinewidth": 2
          }
         }
        },
        "xaxis": {
         "anchor": "y",
         "domain": [
          0.0,
          1.0
         ],
         "title": {
          "text": "Time"
         }
        },
        "yaxis": {
         "anchor": "x",
         "domain": [
          0.0,
          1.0
         ],
         "title": {
          "text": "Global_active_power"
         }
        },
        "legend": {
         "tracegroupgap": 0
        },
        "margin": {
         "t": 60
        },
        "title": {
         "text": "Monthly 99% percentile Global_active_power"
        },
        "width": 1000
       },
       "config": {
        "plotlyServerURL": "https://plot.ly"
       }
      },
      "text/html": "<div>                            <div id=\"90ca2e99-78be-4ad9-80e3-c766bc6d2bc2\" class=\"plotly-graph-div\" style=\"height:525px; width:1000px;\"></div>            <script type=\"text/javascript\">                require([\"plotly\"], function(Plotly) {                    window.PLOTLYENV=window.PLOTLYENV || {};                                    if (document.getElementById(\"90ca2e99-78be-4ad9-80e3-c766bc6d2bc2\")) {                    Plotly.newPlot(                        \"90ca2e99-78be-4ad9-80e3-c766bc6d2bc2\",                        [{\"hovertemplate\":\"x=%{x}<br>y=%{y}<extra></extra>\",\"legendgroup\":\"\",\"line\":{\"color\":\"#636efa\",\"dash\":\"solid\"},\"marker\":{\"symbol\":\"circle\"},\"mode\":\"lines\",\"name\":\"\",\"orientation\":\"v\",\"showlegend\":false,\"x\":[\"2007-07-31T00:00:00\",\"2007-08-31T00:00:00\",\"2007-09-30T00:00:00\",\"2007-10-31T00:00:00\",\"2007-11-30T00:00:00\",\"2007-12-31T00:00:00\",\"2008-01-31T00:00:00\",\"2008-02-29T00:00:00\",\"2008-03-31T00:00:00\",\"2008-04-30T00:00:00\",\"2008-05-31T00:00:00\",\"2008-06-30T00:00:00\",\"2008-07-31T00:00:00\",\"2008-08-31T00:00:00\",\"2008-09-30T00:00:00\",\"2008-10-31T00:00:00\",\"2008-11-30T00:00:00\",\"2008-12-31T00:00:00\",\"2009-01-31T00:00:00\",\"2009-02-28T00:00:00\",\"2009-03-31T00:00:00\",\"2009-04-30T00:00:00\",\"2009-05-31T00:00:00\",\"2009-06-30T00:00:00\",\"2009-07-31T00:00:00\",\"2009-08-31T00:00:00\",\"2009-09-30T00:00:00\",\"2009-10-31T00:00:00\",\"2009-11-30T00:00:00\",\"2009-12-31T00:00:00\",\"2010-01-31T00:00:00\",\"2010-02-28T00:00:00\",\"2010-03-31T00:00:00\",\"2010-04-30T00:00:00\",\"2010-05-31T00:00:00\",\"2010-06-30T00:00:00\",\"2010-07-31T00:00:00\",\"2010-08-31T00:00:00\",\"2010-09-30T00:00:00\",\"2010-10-31T00:00:00\",\"2010-11-30T00:00:00\",\"2010-12-31T00:00:00\"],\"xaxis\":\"x\",\"y\":[4.671220000000001,4.6892200000000015,5.0440600000000115,5.346,5.506060000000012,5.849220000000001,5.328,4.54,4.847220000000001,4.750060000000012,4.972440000000002,4.79,4.2,4.3996600000000035,4.588020000000004,4.9872200000000015,5.182,5.043220000000001,5.524,4.462,4.566,4.420040000000008,4.191220000000001,3.756020000000004,4.1,4.418,4.234,4.827220000000001,5.444,5.090440000000002,4.874060000000012,4.8408399999999965,4.514060000000012,4.0128199999999925,4.116020000000003,4.032819999999992,3.41,3.9700400000000085,3.8792799999999694,4.704020000000003,4.432,3.882],\"yaxis\":\"y\",\"type\":\"scatter\"},{\"mode\":\"lines\",\"name\":\"Double GRU\",\"x\":[\"2010-07-31T00:00:00\",\"2010-08-31T00:00:00\",\"2010-09-30T00:00:00\",\"2010-10-31T00:00:00\",\"2010-11-30T00:00:00\",\"2010-12-31T00:00:00\"],\"y\":[4.0546875,4.020068168640137,4.007083415985107,4.000368595123291,4.026977062225342,4.043013572692871],\"type\":\"scatter\"}],                        {\"template\":{\"data\":{\"bar\":[{\"error_x\":{\"color\":\"#2a3f5f\"},\"error_y\":{\"color\":\"#2a3f5f\"},\"marker\":{\"line\":{\"color\":\"#E5ECF6\",\"width\":0.5},\"pattern\":{\"fillmode\":\"overlay\",\"size\":10,\"solidity\":0.2}},\"type\":\"bar\"}],\"barpolar\":[{\"marker\":{\"line\":{\"color\":\"#E5ECF6\",\"width\":0.5},\"pattern\":{\"fillmode\":\"overlay\",\"size\":10,\"solidity\":0.2}},\"type\":\"barpolar\"}],\"carpet\":[{\"aaxis\":{\"endlinecolor\":\"#2a3f5f\",\"gridcolor\":\"white\",\"linecolor\":\"white\",\"minorgridcolor\":\"white\",\"startlinecolor\":\"#2a3f5f\"},\"baxis\":{\"endlinecolor\":\"#2a3f5f\",\"gridcolor\":\"white\",\"linecolor\":\"white\",\"minorgridcolor\":\"white\",\"startlinecolor\":\"#2a3f5f\"},\"type\":\"carpet\"}],\"choropleth\":[{\"colorbar\":{\"outlinewidth\":0,\"ticks\":\"\"},\"type\":\"choropleth\"}],\"contour\":[{\"colorbar\":{\"outlinewidth\":0,\"ticks\":\"\"},\"colorscale\":[[0.0,\"#0d0887\"],[0.1111111111111111,\"#46039f\"],[0.2222222222222222,\"#7201a8\"],[0.3333333333333333,\"#9c179e\"],[0.4444444444444444,\"#bd3786\"],[0.5555555555555556,\"#d8576b\"],[0.6666666666666666,\"#ed7953\"],[0.7777777777777778,\"#fb9f3a\"],[0.8888888888888888,\"#fdca26\"],[1.0,\"#f0f921\"]],\"type\":\"contour\"}],\"contourcarpet\":[{\"colorbar\":{\"outlinewidth\":0,\"ticks\":\"\"},\"type\":\"contourcarpet\"}],\"heatmap\":[{\"colorbar\":{\"outlinewidth\":0,\"ticks\":\"\"},\"colorscale\":[[0.0,\"#0d0887\"],[0.1111111111111111,\"#46039f\"],[0.2222222222222222,\"#7201a8\"],[0.3333333333333333,\"#9c179e\"],[0.4444444444444444,\"#bd3786\"],[0.5555555555555556,\"#d8576b\"],[0.6666666666666666,\"#ed7953\"],[0.7777777777777778,\"#fb9f3a\"],[0.8888888888888888,\"#fdca26\"],[1.0,\"#f0f921\"]],\"type\":\"heatmap\"}],\"heatmapgl\":[{\"colorbar\":{\"outlinewidth\":0,\"ticks\":\"\"},\"colorscale\":[[0.0,\"#0d0887\"],[0.1111111111111111,\"#46039f\"],[0.2222222222222222,\"#7201a8\"],[0.3333333333333333,\"#9c179e\"],[0.4444444444444444,\"#bd3786\"],[0.5555555555555556,\"#d8576b\"],[0.6666666666666666,\"#ed7953\"],[0.7777777777777778,\"#fb9f3a\"],[0.8888888888888888,\"#fdca26\"],[1.0,\"#f0f921\"]],\"type\":\"heatmapgl\"}],\"histogram\":[{\"marker\":{\"pattern\":{\"fillmode\":\"overlay\",\"size\":10,\"solidity\":0.2}},\"type\":\"histogram\"}],\"histogram2d\":[{\"colorbar\":{\"outlinewidth\":0,\"ticks\":\"\"},\"colorscale\":[[0.0,\"#0d0887\"],[0.1111111111111111,\"#46039f\"],[0.2222222222222222,\"#7201a8\"],[0.3333333333333333,\"#9c179e\"],[0.4444444444444444,\"#bd3786\"],[0.5555555555555556,\"#d8576b\"],[0.6666666666666666,\"#ed7953\"],[0.7777777777777778,\"#fb9f3a\"],[0.8888888888888888,\"#fdca26\"],[1.0,\"#f0f921\"]],\"type\":\"histogram2d\"}],\"histogram2dcontour\":[{\"colorbar\":{\"outlinewidth\":0,\"ticks\":\"\"},\"colorscale\":[[0.0,\"#0d0887\"],[0.1111111111111111,\"#46039f\"],[0.2222222222222222,\"#7201a8\"],[0.3333333333333333,\"#9c179e\"],[0.4444444444444444,\"#bd3786\"],[0.5555555555555556,\"#d8576b\"],[0.6666666666666666,\"#ed7953\"],[0.7777777777777778,\"#fb9f3a\"],[0.8888888888888888,\"#fdca26\"],[1.0,\"#f0f921\"]],\"type\":\"histogram2dcontour\"}],\"mesh3d\":[{\"colorbar\":{\"outlinewidth\":0,\"ticks\":\"\"},\"type\":\"mesh3d\"}],\"parcoords\":[{\"line\":{\"colorbar\":{\"outlinewidth\":0,\"ticks\":\"\"}},\"type\":\"parcoords\"}],\"pie\":[{\"automargin\":true,\"type\":\"pie\"}],\"scatter\":[{\"marker\":{\"colorbar\":{\"outlinewidth\":0,\"ticks\":\"\"}},\"type\":\"scatter\"}],\"scatter3d\":[{\"line\":{\"colorbar\":{\"outlinewidth\":0,\"ticks\":\"\"}},\"marker\":{\"colorbar\":{\"outlinewidth\":0,\"ticks\":\"\"}},\"type\":\"scatter3d\"}],\"scattercarpet\":[{\"marker\":{\"colorbar\":{\"outlinewidth\":0,\"ticks\":\"\"}},\"type\":\"scattercarpet\"}],\"scattergeo\":[{\"marker\":{\"colorbar\":{\"outlinewidth\":0,\"ticks\":\"\"}},\"type\":\"scattergeo\"}],\"scattergl\":[{\"marker\":{\"colorbar\":{\"outlinewidth\":0,\"ticks\":\"\"}},\"type\":\"scattergl\"}],\"scattermapbox\":[{\"marker\":{\"colorbar\":{\"outlinewidth\":0,\"ticks\":\"\"}},\"type\":\"scattermapbox\"}],\"scatterpolar\":[{\"marker\":{\"colorbar\":{\"outlinewidth\":0,\"ticks\":\"\"}},\"type\":\"scatterpolar\"}],\"scatterpolargl\":[{\"marker\":{\"colorbar\":{\"outlinewidth\":0,\"ticks\":\"\"}},\"type\":\"scatterpolargl\"}],\"scatterternary\":[{\"marker\":{\"colorbar\":{\"outlinewidth\":0,\"ticks\":\"\"}},\"type\":\"scatterternary\"}],\"surface\":[{\"colorbar\":{\"outlinewidth\":0,\"ticks\":\"\"},\"colorscale\":[[0.0,\"#0d0887\"],[0.1111111111111111,\"#46039f\"],[0.2222222222222222,\"#7201a8\"],[0.3333333333333333,\"#9c179e\"],[0.4444444444444444,\"#bd3786\"],[0.5555555555555556,\"#d8576b\"],[0.6666666666666666,\"#ed7953\"],[0.7777777777777778,\"#fb9f3a\"],[0.8888888888888888,\"#fdca26\"],[1.0,\"#f0f921\"]],\"type\":\"surface\"}],\"table\":[{\"cells\":{\"fill\":{\"color\":\"#EBF0F8\"},\"line\":{\"color\":\"white\"}},\"header\":{\"fill\":{\"color\":\"#C8D4E3\"},\"line\":{\"color\":\"white\"}},\"type\":\"table\"}]},\"layout\":{\"annotationdefaults\":{\"arrowcolor\":\"#2a3f5f\",\"arrowhead\":0,\"arrowwidth\":1},\"autotypenumbers\":\"strict\",\"coloraxis\":{\"colorbar\":{\"outlinewidth\":0,\"ticks\":\"\"}},\"colorscale\":{\"diverging\":[[0,\"#8e0152\"],[0.1,\"#c51b7d\"],[0.2,\"#de77ae\"],[0.3,\"#f1b6da\"],[0.4,\"#fde0ef\"],[0.5,\"#f7f7f7\"],[0.6,\"#e6f5d0\"],[0.7,\"#b8e186\"],[0.8,\"#7fbc41\"],[0.9,\"#4d9221\"],[1,\"#276419\"]],\"sequential\":[[0.0,\"#0d0887\"],[0.1111111111111111,\"#46039f\"],[0.2222222222222222,\"#7201a8\"],[0.3333333333333333,\"#9c179e\"],[0.4444444444444444,\"#bd3786\"],[0.5555555555555556,\"#d8576b\"],[0.6666666666666666,\"#ed7953\"],[0.7777777777777778,\"#fb9f3a\"],[0.8888888888888888,\"#fdca26\"],[1.0,\"#f0f921\"]],\"sequentialminus\":[[0.0,\"#0d0887\"],[0.1111111111111111,\"#46039f\"],[0.2222222222222222,\"#7201a8\"],[0.3333333333333333,\"#9c179e\"],[0.4444444444444444,\"#bd3786\"],[0.5555555555555556,\"#d8576b\"],[0.6666666666666666,\"#ed7953\"],[0.7777777777777778,\"#fb9f3a\"],[0.8888888888888888,\"#fdca26\"],[1.0,\"#f0f921\"]]},\"colorway\":[\"#636efa\",\"#EF553B\",\"#00cc96\",\"#ab63fa\",\"#FFA15A\",\"#19d3f3\",\"#FF6692\",\"#B6E880\",\"#FF97FF\",\"#FECB52\"],\"font\":{\"color\":\"#2a3f5f\"},\"geo\":{\"bgcolor\":\"white\",\"lakecolor\":\"white\",\"landcolor\":\"#E5ECF6\",\"showlakes\":true,\"showland\":true,\"subunitcolor\":\"white\"},\"hoverlabel\":{\"align\":\"left\"},\"hovermode\":\"closest\",\"mapbox\":{\"style\":\"light\"},\"paper_bgcolor\":\"white\",\"plot_bgcolor\":\"#E5ECF6\",\"polar\":{\"angularaxis\":{\"gridcolor\":\"white\",\"linecolor\":\"white\",\"ticks\":\"\"},\"bgcolor\":\"#E5ECF6\",\"radialaxis\":{\"gridcolor\":\"white\",\"linecolor\":\"white\",\"ticks\":\"\"}},\"scene\":{\"xaxis\":{\"backgroundcolor\":\"#E5ECF6\",\"gridcolor\":\"white\",\"gridwidth\":2,\"linecolor\":\"white\",\"showbackground\":true,\"ticks\":\"\",\"zerolinecolor\":\"white\"},\"yaxis\":{\"backgroundcolor\":\"#E5ECF6\",\"gridcolor\":\"white\",\"gridwidth\":2,\"linecolor\":\"white\",\"showbackground\":true,\"ticks\":\"\",\"zerolinecolor\":\"white\"},\"zaxis\":{\"backgroundcolor\":\"#E5ECF6\",\"gridcolor\":\"white\",\"gridwidth\":2,\"linecolor\":\"white\",\"showbackground\":true,\"ticks\":\"\",\"zerolinecolor\":\"white\"}},\"shapedefaults\":{\"line\":{\"color\":\"#2a3f5f\"}},\"ternary\":{\"aaxis\":{\"gridcolor\":\"white\",\"linecolor\":\"white\",\"ticks\":\"\"},\"baxis\":{\"gridcolor\":\"white\",\"linecolor\":\"white\",\"ticks\":\"\"},\"bgcolor\":\"#E5ECF6\",\"caxis\":{\"gridcolor\":\"white\",\"linecolor\":\"white\",\"ticks\":\"\"}},\"title\":{\"x\":0.05},\"xaxis\":{\"automargin\":true,\"gridcolor\":\"white\",\"linecolor\":\"white\",\"ticks\":\"\",\"title\":{\"standoff\":15},\"zerolinecolor\":\"white\",\"zerolinewidth\":2},\"yaxis\":{\"automargin\":true,\"gridcolor\":\"white\",\"linecolor\":\"white\",\"ticks\":\"\",\"title\":{\"standoff\":15},\"zerolinecolor\":\"white\",\"zerolinewidth\":2}}},\"xaxis\":{\"anchor\":\"y\",\"domain\":[0.0,1.0],\"title\":{\"text\":\"Time\"}},\"yaxis\":{\"anchor\":\"x\",\"domain\":[0.0,1.0],\"title\":{\"text\":\"Global_active_power\"}},\"legend\":{\"tracegroupgap\":0},\"margin\":{\"t\":60},\"title\":{\"text\":\"Monthly 99% percentile Global_active_power\"},\"width\":1000},                        {\"responsive\": true}                    ).then(function(){\n                            \nvar gd = document.getElementById('90ca2e99-78be-4ad9-80e3-c766bc6d2bc2');\nvar x = new MutationObserver(function (mutations, observer) {{\n        var display = window.getComputedStyle(gd).display;\n        if (!display || display === 'none') {{\n            console.log([gd, 'removed!']);\n            Plotly.purge(gd);\n            observer.disconnect();\n        }}\n}});\n\n// Listen for the removal of the full notebook cells\nvar notebookContainer = gd.closest('#notebook-container');\nif (notebookContainer) {{\n    x.observe(notebookContainer, {childList: true});\n}}\n\n// Listen for the clearing of the current output cell\nvar outputEl = gd.closest('.output');\nif (outputEl) {{\n    x.observe(outputEl, {childList: true});\n}}\n\n                        })                };                });            </script>        </div>"
     },
     "metadata": {},
     "output_type": "display_data"
    }
   ],
   "source": [
    "figure = px.line(x=df_monthly.index, y=df_monthly[var])\n",
    "figure.add_scatter(x=y_true.index, y=y_pred_2gru, mode=\"lines\", name=\"Double GRU\")\n",
    "figure.update_layout(\n",
    "    title=f\"Monthly 99% percentile {var}\",\n",
    "    width=1000,\n",
    "    xaxis_title=\"Time\",\n",
    "    yaxis_title=f\"{var}\",\n",
    ")\n",
    "figure.show()"
   ],
   "metadata": {
    "collapsed": false,
    "pycharm": {
     "name": "#%%\n"
    }
   }
  }
 ],
 "metadata": {
  "kernelspec": {
   "display_name": "Python 3",
   "language": "python",
   "name": "python3"
  },
  "language_info": {
   "codemirror_mode": {
    "name": "ipython",
    "version": 2
   },
   "file_extension": ".py",
   "mimetype": "text/x-python",
   "name": "python",
   "nbconvert_exporter": "python",
   "pygments_lexer": "ipython2",
   "version": "2.7.6"
  }
 },
 "nbformat": 4,
 "nbformat_minor": 0
}