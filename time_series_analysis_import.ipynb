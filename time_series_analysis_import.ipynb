{
 "cells": [
  {
   "cell_type": "code",
   "execution_count": 1,
   "metadata": {
    "collapsed": true
   },
   "outputs": [],
   "source": [
    "import pandas as pd\n",
    "import numpy as np\n",
    "from IPython.display import display"
   ]
  },
  {
   "cell_type": "markdown",
   "source": [
    "## Read dataset and info"
   ],
   "metadata": {
    "collapsed": false,
    "pycharm": {
     "name": "#%% md\n"
    }
   }
  },
  {
   "cell_type": "code",
   "execution_count": 2,
   "outputs": [],
   "source": [
    "FIRST_READ = True\n",
    "\n",
    "if FIRST_READ:\n",
    "    custom_date_parser = lambda c: pd.to_datetime(\n",
    "        c, format=\"%d/%m/%Y %H:%M:%S\", errors=\"coerce\"\n",
    "    )\n",
    "    chunksize = 10 ** 5\n",
    "\n",
    "    list_of_chunks = []\n",
    "\n",
    "    with pd.read_csv(\n",
    "        \"data/household_power_consumption.txt\",\n",
    "        chunksize=chunksize,\n",
    "        sep=\";\",\n",
    "        parse_dates={\"date\": [\"Date\", \"Time\"]},\n",
    "        na_values=\"?\",\n",
    "    ) as reader:\n",
    "        for chunk in reader:\n",
    "            list_of_chunks.append(chunk)\n",
    "\n",
    "    df = pd.concat(list_of_chunks)"
   ],
   "metadata": {
    "collapsed": false,
    "pycharm": {
     "name": "#%%\n"
    }
   }
  },
  {
   "cell_type": "code",
   "execution_count": 3,
   "outputs": [
    {
     "name": "stdout",
     "output_type": "stream",
     "text": [
      "<class 'pandas.core.frame.DataFrame'>\n",
      "RangeIndex: 2075259 entries, 0 to 2075258\n",
      "Data columns (total 8 columns):\n",
      " #   Column                 Dtype         \n",
      "---  ------                 -----         \n",
      " 0   date                   datetime64[ns]\n",
      " 1   Global_active_power    float64       \n",
      " 2   Global_reactive_power  float64       \n",
      " 3   Voltage                float64       \n",
      " 4   Global_intensity       float64       \n",
      " 5   Sub_metering_1         float64       \n",
      " 6   Sub_metering_2         float64       \n",
      " 7   Sub_metering_3         float64       \n",
      "dtypes: datetime64[ns](1), float64(7)\n",
      "memory usage: 126.7 MB\n"
     ]
    },
    {
     "data": {
      "text/plain": "None"
     },
     "metadata": {},
     "output_type": "display_data"
    }
   ],
   "source": [
    "display(df.info())"
   ],
   "metadata": {
    "collapsed": false,
    "pycharm": {
     "name": "#%%\n"
    }
   }
  },
  {
   "cell_type": "markdown",
   "source": [
    "## Look at null values in columns"
   ],
   "metadata": {
    "collapsed": false,
    "pycharm": {
     "name": "#%% md\n"
    }
   }
  },
  {
   "cell_type": "code",
   "execution_count": 4,
   "outputs": [
    {
     "name": "stdout",
     "output_type": "stream",
     "text": [
      "Null values per column:\n"
     ]
    },
    {
     "data": {
      "text/plain": "                       null_values  null_value_percent\ndate                             0            0.000000\nGlobal_active_power          25979            1.251844\nGlobal_reactive_power        25979            1.251844\nVoltage                      25979            1.251844\nGlobal_intensity             25979            1.251844\nSub_metering_1               25979            1.251844\nSub_metering_2               25979            1.251844\nSub_metering_3               25979            1.251844",
      "text/html": "<div>\n<style scoped>\n    .dataframe tbody tr th:only-of-type {\n        vertical-align: middle;\n    }\n\n    .dataframe tbody tr th {\n        vertical-align: top;\n    }\n\n    .dataframe thead th {\n        text-align: right;\n    }\n</style>\n<table border=\"1\" class=\"dataframe\">\n  <thead>\n    <tr style=\"text-align: right;\">\n      <th></th>\n      <th>null_values</th>\n      <th>null_value_percent</th>\n    </tr>\n  </thead>\n  <tbody>\n    <tr>\n      <th>date</th>\n      <td>0</td>\n      <td>0.000000</td>\n    </tr>\n    <tr>\n      <th>Global_active_power</th>\n      <td>25979</td>\n      <td>1.251844</td>\n    </tr>\n    <tr>\n      <th>Global_reactive_power</th>\n      <td>25979</td>\n      <td>1.251844</td>\n    </tr>\n    <tr>\n      <th>Voltage</th>\n      <td>25979</td>\n      <td>1.251844</td>\n    </tr>\n    <tr>\n      <th>Global_intensity</th>\n      <td>25979</td>\n      <td>1.251844</td>\n    </tr>\n    <tr>\n      <th>Sub_metering_1</th>\n      <td>25979</td>\n      <td>1.251844</td>\n    </tr>\n    <tr>\n      <th>Sub_metering_2</th>\n      <td>25979</td>\n      <td>1.251844</td>\n    </tr>\n    <tr>\n      <th>Sub_metering_3</th>\n      <td>25979</td>\n      <td>1.251844</td>\n    </tr>\n  </tbody>\n</table>\n</div>"
     },
     "metadata": {},
     "output_type": "display_data"
    }
   ],
   "source": [
    "# Get all the null values\n",
    "print(\"Null values per column:\")\n",
    "null_values = df.isna().sum()\n",
    "null_percent = null_values * 100 / len(df)\n",
    "null_values_df = pd.DataFrame(\n",
    "    {\"null_values\": null_values, \"null_value_percent\": null_percent}\n",
    ")\n",
    "display(null_values_df)"
   ],
   "metadata": {
    "collapsed": false,
    "pycharm": {
     "name": "#%%\n"
    }
   }
  },
  {
   "cell_type": "code",
   "execution_count": 5,
   "outputs": [
    {
     "data": {
      "text/plain": "<Figure size 432x288 with 1 Axes>",
      "image/png": "[encoded data removed]"
     },
     "metadata": {
      "needs_background": "light"
     },
     "output_type": "display_data"
    }
   ],
   "source": [
    "import matplotlib.pyplot as plt\n",
    "\n",
    "\n",
    "def plot_nas(dataf: pd.DataFrame):\n",
    "    if dataf.isnull().sum().sum() != 0:\n",
    "        na_df = (dataf.isnull().sum() / len(df)) * 100\n",
    "        na_df = na_df.drop(na_df[na_df == 0].index).sort_values(ascending=False)\n",
    "        missing_data = pd.DataFrame({\"Missing Ratio %\": na_df})\n",
    "        missing_data.plot(kind=\"barh\")\n",
    "        plt.show()\n",
    "    else:\n",
    "        print(\"No NAs found\")\n",
    "\n",
    "\n",
    "plot_nas(df)"
   ],
   "metadata": {
    "collapsed": false,
    "pycharm": {
     "name": "#%%\n"
    }
   }
  },
  {
   "cell_type": "markdown",
   "source": [
    "## Assign date to index"
   ],
   "metadata": {
    "collapsed": false,
    "pycharm": {
     "name": "#%% md\n"
    }
   }
  },
  {
   "cell_type": "code",
   "execution_count": 15,
   "outputs": [
    {
     "name": "stdout",
     "output_type": "stream",
     "text": [
      "Length: 2075259, Unique: 2075259\n",
      "{'min': Timestamp('2006-12-16 17:24:00'), 'max': Timestamp('2010-12-11 23:59:00'), 'data_unique_values': 2075259, 'expected_values': Timedelta('1456 days 06:35:00')}\n",
      "No duplicated indexes\n"
     ]
    },
    {
     "data": {
      "text/plain": "Empty DataFrame\nColumns: [date, Global_active_power, Global_reactive_power, Voltage, Global_intensity, Sub_metering_1, Sub_metering_2, Sub_metering_3]\nIndex: []",
      "text/html": "<div>\n<style scoped>\n    .dataframe tbody tr th:only-of-type {\n        vertical-align: middle;\n    }\n\n    .dataframe tbody tr th {\n        vertical-align: top;\n    }\n\n    .dataframe thead th {\n        text-align: right;\n    }\n</style>\n<table border=\"1\" class=\"dataframe\">\n  <thead>\n    <tr style=\"text-align: right;\">\n      <th></th>\n      <th>date</th>\n      <th>Global_active_power</th>\n      <th>Global_reactive_power</th>\n      <th>Voltage</th>\n      <th>Global_intensity</th>\n      <th>Sub_metering_1</th>\n      <th>Sub_metering_2</th>\n      <th>Sub_metering_3</th>\n    </tr>\n  </thead>\n  <tbody>\n  </tbody>\n</table>\n</div>"
     },
     "metadata": {},
     "output_type": "display_data"
    }
   ],
   "source": [
    "print(f\"Length: {len(df.date)}, Unique: {len(df.date.unique())}\")\n",
    "\n",
    "# Get first and last date\n",
    "time_delta = df.date.max() - df.date.min()\n",
    "dates = {\n",
    "    \"min\": df.date.min(),\n",
    "    \"max\": df.date.max(),\n",
    "    \"data_unique_values\": len(df.date.unique()),\n",
    "    \"expected_values\": time_delta,\n",
    "}\n",
    "print(dates)\n",
    "\n",
    "# Get dates duplicates\n",
    "duplicated_index = df.date.duplicated(keep=False)\n",
    "\n",
    "if duplicated_index.sum() > 0:\n",
    "    print(f\"{duplicated_index.sum()} duplicated indexes\")\n",
    "else:\n",
    "    print(\"No duplicated dates\")"
   ],
   "metadata": {
    "collapsed": false,
    "pycharm": {
     "name": "#%%\n"
    }
   }
  },
  {
   "cell_type": "code",
   "execution_count": 20,
   "outputs": [
    {
     "data": {
      "text/plain": "                                   date  Global_active_power  \\\ndate                                                           \n2008-04-02 00:41:00 2008-04-02 00:41:00                0.326   \n2009-12-07 23:34:00 2009-12-07 23:34:00                0.130   \n2010-04-03 02:48:00 2010-04-03 02:48:00                0.342   \n2010-08-13 16:59:00 2010-08-13 16:59:00                0.928   \n2009-01-05 02:13:00 2009-01-05 02:13:00                1.440   \n\n                     Global_reactive_power  Voltage  Global_intensity  \\\ndate                                                                    \n2008-04-02 00:41:00                  0.104   243.39               1.4   \n2009-12-07 23:34:00                  0.000   242.71               0.6   \n2010-04-03 02:48:00                  0.106   244.85               1.4   \n2010-08-13 16:59:00                  0.318   241.88               4.0   \n2009-01-05 02:13:00                  0.130   243.11               5.8   \n\n                     Sub_metering_1  Sub_metering_2  Sub_metering_3  \ndate                                                                 \n2008-04-02 00:41:00             0.0             0.0             0.0  \n2009-12-07 23:34:00             0.0             0.0             1.0  \n2010-04-03 02:48:00             0.0             1.0             1.0  \n2010-08-13 16:59:00             0.0             0.0            13.0  \n2009-01-05 02:13:00             0.0             0.0            19.0  ",
      "text/html": "<div>\n<style scoped>\n    .dataframe tbody tr th:only-of-type {\n        vertical-align: middle;\n    }\n\n    .dataframe tbody tr th {\n        vertical-align: top;\n    }\n\n    .dataframe thead th {\n        text-align: right;\n    }\n</style>\n<table border=\"1\" class=\"dataframe\">\n  <thead>\n    <tr style=\"text-align: right;\">\n      <th></th>\n      <th>date</th>\n      <th>Global_active_power</th>\n      <th>Global_reactive_power</th>\n      <th>Voltage</th>\n      <th>Global_intensity</th>\n      <th>Sub_metering_1</th>\n      <th>Sub_metering_2</th>\n      <th>Sub_metering_3</th>\n    </tr>\n    <tr>\n      <th>date</th>\n      <th></th>\n      <th></th>\n      <th></th>\n      <th></th>\n      <th></th>\n      <th></th>\n      <th></th>\n      <th></th>\n    </tr>\n  </thead>\n  <tbody>\n    <tr>\n      <th>2008-04-02 00:41:00</th>\n      <td>2008-04-02 00:41:00</td>\n      <td>0.326</td>\n      <td>0.104</td>\n      <td>243.39</td>\n      <td>1.4</td>\n      <td>0.0</td>\n      <td>0.0</td>\n      <td>0.0</td>\n    </tr>\n    <tr>\n      <th>2009-12-07 23:34:00</th>\n      <td>2009-12-07 23:34:00</td>\n      <td>0.130</td>\n      <td>0.000</td>\n      <td>242.71</td>\n      <td>0.6</td>\n      <td>0.0</td>\n      <td>0.0</td>\n      <td>1.0</td>\n    </tr>\n    <tr>\n      <th>2010-04-03 02:48:00</th>\n      <td>2010-04-03 02:48:00</td>\n      <td>0.342</td>\n      <td>0.106</td>\n      <td>244.85</td>\n      <td>1.4</td>\n      <td>0.0</td>\n      <td>1.0</td>\n      <td>1.0</td>\n    </tr>\n    <tr>\n      <th>2010-08-13 16:59:00</th>\n      <td>2010-08-13 16:59:00</td>\n      <td>0.928</td>\n      <td>0.318</td>\n      <td>241.88</td>\n      <td>4.0</td>\n      <td>0.0</td>\n      <td>0.0</td>\n      <td>13.0</td>\n    </tr>\n    <tr>\n      <th>2009-01-05 02:13:00</th>\n      <td>2009-01-05 02:13:00</td>\n      <td>1.440</td>\n      <td>0.130</td>\n      <td>243.11</td>\n      <td>5.8</td>\n      <td>0.0</td>\n      <td>0.0</td>\n      <td>19.0</td>\n    </tr>\n  </tbody>\n</table>\n</div>"
     },
     "metadata": {},
     "output_type": "display_data"
    }
   ],
   "source": [
    "df.set_index(\"date\", inplace=True, drop=False)\n",
    "display(df.sample(5))"
   ],
   "metadata": {
    "collapsed": false,
    "pycharm": {
     "name": "#%%\n"
    }
   }
  },
  {
   "cell_type": "code",
   "execution_count": 21,
   "outputs": [
    {
     "name": "stdout",
     "output_type": "stream",
     "text": [
      "No duplicated dates\n"
     ]
    }
   ],
   "source": [
    "# Get dates duplicates\n",
    "duplicated_index = df.index.duplicated(keep=False)\n",
    "\n",
    "if duplicated_index.sum() > 0:\n",
    "    print(f\"{duplicated_index.sum()} duplicated indexes\")\n",
    "else:\n",
    "    print(\"No duplicated dates\")"
   ],
   "metadata": {
    "collapsed": false,
    "pycharm": {
     "name": "#%%\n"
    }
   }
  },
  {
   "cell_type": "code",
   "execution_count": 23,
   "outputs": [
    {
     "name": "stdout",
     "output_type": "stream",
     "text": [
      "DatetimeIndex(['2006-12-16 17:24:00', '2006-12-16 17:25:00',\n",
      "               '2006-12-16 17:26:00', '2006-12-16 17:27:00',\n",
      "               '2006-12-16 17:28:00', '2006-12-16 17:29:00',\n",
      "               '2006-12-16 17:30:00', '2006-12-16 17:31:00',\n",
      "               '2006-12-16 17:32:00', '2006-12-16 17:33:00',\n",
      "               ...\n",
      "               '2010-12-11 23:50:00', '2010-12-11 23:51:00',\n",
      "               '2010-12-11 23:52:00', '2010-12-11 23:53:00',\n",
      "               '2010-12-11 23:54:00', '2010-12-11 23:55:00',\n",
      "               '2010-12-11 23:56:00', '2010-12-11 23:57:00',\n",
      "               '2010-12-11 23:58:00', '2010-12-11 23:59:00'],\n",
      "              dtype='datetime64[ns]', length=2097036, freq='T')\n"
     ]
    }
   ],
   "source": [
    "# If i need to reindex with minutes resolution\n",
    "new_index = pd.date_range(df.index.min(), df.index.max(), freq=\"T\")\n",
    "print(new_index)"
   ],
   "metadata": {
    "collapsed": false,
    "pycharm": {
     "name": "#%%\n"
    }
   }
  },
  {
   "cell_type": "markdown",
   "source": [],
   "metadata": {
    "collapsed": false
   }
  },
  {
   "cell_type": "markdown",
   "source": [],
   "metadata": {
    "collapsed": false,
    "pycharm": {
     "name": "#%% md\n"
    }
   }
  },
  {
   "cell_type": "code",
   "execution_count": 26,
   "outputs": [],
   "source": [
    "# Interpolate missing values\n",
    "df = df.drop(columns=\"date\")\n",
    "df = df.interpolate()"
   ],
   "metadata": {
    "collapsed": false,
    "pycharm": {
     "name": "#%%\n"
    }
   }
  },
  {
   "cell_type": "code",
   "execution_count": 27,
   "outputs": [],
   "source": [
    "df.to_parquet(\"data/household.parquet\")"
   ],
   "metadata": {
    "collapsed": false,
    "pycharm": {
     "name": "#%%\n"
    }
   }
  }
 ],
 "metadata": {
  "kernelspec": {
   "display_name": "Python 3",
   "language": "python",
   "name": "python3"
  },
  "language_info": {
   "codemirror_mode": {
    "name": "ipython",
    "version": 2
   },
   "file_extension": ".py",
   "mimetype": "text/x-python",
   "name": "python",
   "nbconvert_exporter": "python",
   "pygments_lexer": "ipython2",
   "version": "2.7.6"
  }
 },
 "nbformat": 4,
 "nbformat_minor": 0
}