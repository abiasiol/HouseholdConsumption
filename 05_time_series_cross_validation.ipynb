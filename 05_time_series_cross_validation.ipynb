{
 "cells": [
  {
   "cell_type": "code",
   "execution_count": null,
   "metadata": {},
   "outputs": [],
   "source": [
    "import pandas as pd\n",
    "import numpy as np\n",
    "import statsmodels.tsa.seasonal\n",
    "from IPython.display import display\n",
    "import plotly.express as px\n",
    "import plotly.graph_objects as go"
   ]
  },
  {
   "cell_type": "code",
   "execution_count": null,
   "metadata": {
    "pycharm": {
     "name": "#%%\n"
    }
   },
   "outputs": [],
   "source": [
    "def run_sequence_plot(x, y, title, xtitle, ytitle):\n",
    "    figure = px.line(x=x, y=y)\n",
    "    figure.update_layout(title=title, width=800, xaxis_title=xtitle, yaxis_title=ytitle)\n",
    "    return figure"
   ]
  },
  {
   "cell_type": "markdown",
   "metadata": {
    "collapsed": false,
    "pycharm": {
     "name": "#%% md\n"
    }
   },
   "source": [
    "# Read parquet dataset"
   ]
  },
  {
   "cell_type": "code",
   "execution_count": null,
   "metadata": {
    "pycharm": {
     "name": "#%%\n"
    }
   },
   "outputs": [],
   "source": [
    "df = pd.read_parquet(\"data/household.parquet\")\n",
    "\n",
    "# Exclude data before July 2007\n",
    "df = df.loc[\"2007-07\":]\n",
    "df_monthly = df.resample(\"M\").quantile(0.99)\n",
    "var = \"Global_active_power\"\n",
    "fig = run_sequence_plot(\n",
    "    df_monthly.index, df_monthly[var], f\"Monthly 99% percentile {var}\", \"Time\", f\"{var}\"\n",
    ")\n",
    "fig.show()"
   ]
  },
  {
   "cell_type": "markdown",
   "metadata": {
    "collapsed": false,
    "pycharm": {
     "name": "#%% md\n"
    }
   },
   "source": [
    "# Cross-validation split"
   ]
  },
  {
   "cell_type": "code",
   "execution_count": null,
   "metadata": {
    "pycharm": {
     "name": "#%%\n"
    }
   },
   "outputs": [],
   "source": [
    "# Models\n",
    "from statsmodels.tsa.api import ExponentialSmoothing\n",
    "from statsmodels.tsa.statespace.sarimax import SARIMAX\n",
    "from pmdarima import auto_arima"
   ]
  },
  {
   "cell_type": "code",
   "execution_count": null,
   "metadata": {
    "pycharm": {
     "name": "#%%\n"
    }
   },
   "outputs": [],
   "source": [
    "from sklearn.model_selection import TimeSeriesSplit\n",
    "from sklearn.metrics import mean_squared_error, mean_absolute_percentage_error\n",
    "\n",
    "tscv = TimeSeriesSplit(n_splits=4, test_size=3)\n",
    "\n",
    "dates = []\n",
    "y_real = []\n",
    "y_pred_3sm = []\n",
    "y_pred_autoarima = []\n",
    "y_pred_sarima = []\n",
    "\n",
    "for train, test in tscv.split(df_monthly.index):\n",
    "    print(f\"Train: {train}\\nTest: {test}\")\n",
    "\n",
    "    triple_exp = ExponentialSmoothing(\n",
    "        df_monthly[var].iloc[train], trend=\"add\", seasonal=\"add\", seasonal_periods=12\n",
    "    ).fit(optimized=True)\n",
    "\n",
    "    sar = SARIMAX(\n",
    "        df_monthly[var].iloc[train],\n",
    "        order=(1, 0, 0),\n",
    "        seasonal_order=(0, 1, 1, 12),\n",
    "        trend=\"t\",\n",
    "    ).fit()\n",
    "\n",
    "    auto_model = auto_arima(\n",
    "        df_monthly[var].iloc[train],\n",
    "        start_p=0,\n",
    "        start_q=0,\n",
    "        max_p=3,\n",
    "        max_q=3,\n",
    "        m=12,\n",
    "        start_P=0,\n",
    "        seasonal=True,\n",
    "        D=1,\n",
    "        trace=True,\n",
    "        error_action=\"ignore\",\n",
    "        suppress_warnings=True,\n",
    "        stepwise=True,\n",
    "    )\n",
    "\n",
    "    dates.append(df_monthly.iloc[test].index)\n",
    "    y_real.append(df_monthly[var].iloc[test])\n",
    "    y_pred_sarima.append(sar.forecast(steps=len(test)))\n",
    "    y_pred_autoarima.append(auto_model.predict(n_periods=len(test)))\n",
    "    y_pred_3sm.append(triple_exp.forecast(len(test)))"
   ]
  },
  {
   "cell_type": "code",
   "execution_count": null,
   "metadata": {
    "pycharm": {
     "name": "#%%\n"
    }
   },
   "outputs": [],
   "source": [
    "errors_df = pd.DataFrame(\n",
    "    {\n",
    "        \"date\": np.array(dates).flatten(),\n",
    "        \"real\": np.array(y_real).flatten(),\n",
    "        \"sarima\": np.array(y_pred_sarima).flatten(),\n",
    "        \"auto_arima\": np.array(y_pred_autoarima).flatten(),\n",
    "        \"triple_smoothing\": np.array(y_pred_3sm).flatten(),\n",
    "    }\n",
    ")\n",
    "\n",
    "display(errors_df)\n",
    "\n",
    "print(\n",
    "    f\"MAPE:\\n\"\n",
    "    f\"Triple Smoothing: {mean_absolute_percentage_error(errors_df.real, errors_df.triple_smoothing):.3f}\\n\"\n",
    "    f\"Auto ARIMA: {mean_absolute_percentage_error(errors_df.real, errors_df.auto_arima):.3f}\\n\"\n",
    "    f\"SARIMA: {mean_absolute_percentage_error(errors_df.real, errors_df.sarima):.3f}\\n\"\n",
    ")\n",
    "\n",
    "print(\n",
    "    f\"MSE:\\n\"\n",
    "    f\"Triple Smoothing: {mean_squared_error(errors_df.real, errors_df.triple_smoothing):.3f}\\n\"\n",
    "    f\"Auto ARIMA: {mean_squared_error(errors_df.real, errors_df.auto_arima):.3f}\\n\"\n",
    "    f\"SARIMA: {mean_squared_error(errors_df.real, errors_df.sarima):.3f}\\n\"\n",
    ")"
   ]
  },
  {
   "cell_type": "code",
   "execution_count": null,
   "metadata": {
    "pycharm": {
     "name": "#%%\n"
    }
   },
   "outputs": [],
   "source": [
    "figure = px.line(x=df_monthly.index, y=df_monthly[var])\n",
    "figure.add_scatter(x=errors_df.date, y=errors_df.sarima, mode=\"lines\", name=\"sarima\")\n",
    "figure.add_scatter(\n",
    "    x=errors_df.date, y=errors_df.auto_arima, mode=\"lines\", name=\"auto arima\"\n",
    ")\n",
    "figure.add_scatter(\n",
    "    x=errors_df.date, y=errors_df.triple_smoothing, mode=\"lines\", name=\"3x smoothing\"\n",
    ")\n",
    "figure.update_layout(\n",
    "    title=f\"Monthly 99% percentile {var}\",\n",
    "    width=1000,\n",
    "    xaxis_title=\"Time\",\n",
    "    yaxis_title=f\"{var}\",\n",
    ")\n",
    "figure.show()"
   ]
  }
 ],
 "metadata": {
  "kernelspec": {
   "display_name": "Python 3",
   "language": "python",
   "name": "python3"
  },
  "language_info": {
   "codemirror_mode": {
    "name": "ipython",
    "version": 2
   },
   "file_extension": ".py",
   "mimetype": "text/x-python",
   "name": "python",
   "nbconvert_exporter": "python",
   "pygments_lexer": "ipython2",
   "version": "2.7.6"
  }
 },
 "nbformat": 4,
 "nbformat_minor": 0
}