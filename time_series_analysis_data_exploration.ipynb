{
 "cells": [
  {
   "cell_type": "code",
   "execution_count": 20,
   "metadata": {
    "collapsed": true
   },
   "outputs": [],
   "source": [
    "import pandas as pd\n",
    "import numpy as np\n",
    "from IPython.display import display\n",
    "import plotly.express as px"
   ]
  },
  {
   "cell_type": "markdown",
   "source": [
    "## Read parquet dataset"
   ],
   "metadata": {
    "collapsed": false,
    "pycharm": {
     "name": "#%% md\n"
    }
   }
  },
  {
   "cell_type": "code",
   "execution_count": 2,
   "outputs": [
    {
     "data": {
      "text/plain": "                     Global_active_power  Global_reactive_power  Voltage  \\\ndate                                                                       \n2006-12-16 17:24:00                4.216                  0.418   234.84   \n2006-12-16 17:25:00                5.360                  0.436   233.63   \n2006-12-16 17:26:00                5.374                  0.498   233.29   \n2006-12-16 17:27:00                5.388                  0.502   233.74   \n2006-12-16 17:28:00                3.666                  0.528   235.68   \n...                                  ...                    ...      ...   \n2010-11-26 20:58:00                0.946                  0.000   240.43   \n2010-11-26 20:59:00                0.944                  0.000   240.00   \n2010-11-26 21:00:00                0.938                  0.000   239.82   \n2010-11-26 21:01:00                0.934                  0.000   239.70   \n2010-11-26 21:02:00                0.932                  0.000   239.55   \n\n                     Global_intensity  Sub_metering_1  Sub_metering_2  \\\ndate                                                                    \n2006-12-16 17:24:00              18.4             0.0             1.0   \n2006-12-16 17:25:00              23.0             0.0             1.0   \n2006-12-16 17:26:00              23.0             0.0             2.0   \n2006-12-16 17:27:00              23.0             0.0             1.0   \n2006-12-16 17:28:00              15.8             0.0             1.0   \n...                               ...             ...             ...   \n2010-11-26 20:58:00               4.0             0.0             0.0   \n2010-11-26 20:59:00               4.0             0.0             0.0   \n2010-11-26 21:00:00               3.8             0.0             0.0   \n2010-11-26 21:01:00               3.8             0.0             0.0   \n2010-11-26 21:02:00               3.8             0.0             0.0   \n\n                     Sub_metering_3  \ndate                                 \n2006-12-16 17:24:00            17.0  \n2006-12-16 17:25:00            16.0  \n2006-12-16 17:26:00            17.0  \n2006-12-16 17:27:00            17.0  \n2006-12-16 17:28:00            17.0  \n...                             ...  \n2010-11-26 20:58:00             0.0  \n2010-11-26 20:59:00             0.0  \n2010-11-26 21:00:00             0.0  \n2010-11-26 21:01:00             0.0  \n2010-11-26 21:02:00             0.0  \n\n[2075259 rows x 7 columns]",
      "text/html": "<div>\n<style scoped>\n    .dataframe tbody tr th:only-of-type {\n        vertical-align: middle;\n    }\n\n    .dataframe tbody tr th {\n        vertical-align: top;\n    }\n\n    .dataframe thead th {\n        text-align: right;\n    }\n</style>\n<table border=\"1\" class=\"dataframe\">\n  <thead>\n    <tr style=\"text-align: right;\">\n      <th></th>\n      <th>Global_active_power</th>\n      <th>Global_reactive_power</th>\n      <th>Voltage</th>\n      <th>Global_intensity</th>\n      <th>Sub_metering_1</th>\n      <th>Sub_metering_2</th>\n      <th>Sub_metering_3</th>\n    </tr>\n    <tr>\n      <th>date</th>\n      <th></th>\n      <th></th>\n      <th></th>\n      <th></th>\n      <th></th>\n      <th></th>\n      <th></th>\n    </tr>\n  </thead>\n  <tbody>\n    <tr>\n      <th>2006-12-16 17:24:00</th>\n      <td>4.216</td>\n      <td>0.418</td>\n      <td>234.84</td>\n      <td>18.4</td>\n      <td>0.0</td>\n      <td>1.0</td>\n      <td>17.0</td>\n    </tr>\n    <tr>\n      <th>2006-12-16 17:25:00</th>\n      <td>5.360</td>\n      <td>0.436</td>\n      <td>233.63</td>\n      <td>23.0</td>\n      <td>0.0</td>\n      <td>1.0</td>\n      <td>16.0</td>\n    </tr>\n    <tr>\n      <th>2006-12-16 17:26:00</th>\n      <td>5.374</td>\n      <td>0.498</td>\n      <td>233.29</td>\n      <td>23.0</td>\n      <td>0.0</td>\n      <td>2.0</td>\n      <td>17.0</td>\n    </tr>\n    <tr>\n      <th>2006-12-16 17:27:00</th>\n      <td>5.388</td>\n      <td>0.502</td>\n      <td>233.74</td>\n      <td>23.0</td>\n      <td>0.0</td>\n      <td>1.0</td>\n      <td>17.0</td>\n    </tr>\n    <tr>\n      <th>2006-12-16 17:28:00</th>\n      <td>3.666</td>\n      <td>0.528</td>\n      <td>235.68</td>\n      <td>15.8</td>\n      <td>0.0</td>\n      <td>1.0</td>\n      <td>17.0</td>\n    </tr>\n    <tr>\n      <th>...</th>\n      <td>...</td>\n      <td>...</td>\n      <td>...</td>\n      <td>...</td>\n      <td>...</td>\n      <td>...</td>\n      <td>...</td>\n    </tr>\n    <tr>\n      <th>2010-11-26 20:58:00</th>\n      <td>0.946</td>\n      <td>0.000</td>\n      <td>240.43</td>\n      <td>4.0</td>\n      <td>0.0</td>\n      <td>0.0</td>\n      <td>0.0</td>\n    </tr>\n    <tr>\n      <th>2010-11-26 20:59:00</th>\n      <td>0.944</td>\n      <td>0.000</td>\n      <td>240.00</td>\n      <td>4.0</td>\n      <td>0.0</td>\n      <td>0.0</td>\n      <td>0.0</td>\n    </tr>\n    <tr>\n      <th>2010-11-26 21:00:00</th>\n      <td>0.938</td>\n      <td>0.000</td>\n      <td>239.82</td>\n      <td>3.8</td>\n      <td>0.0</td>\n      <td>0.0</td>\n      <td>0.0</td>\n    </tr>\n    <tr>\n      <th>2010-11-26 21:01:00</th>\n      <td>0.934</td>\n      <td>0.000</td>\n      <td>239.70</td>\n      <td>3.8</td>\n      <td>0.0</td>\n      <td>0.0</td>\n      <td>0.0</td>\n    </tr>\n    <tr>\n      <th>2010-11-26 21:02:00</th>\n      <td>0.932</td>\n      <td>0.000</td>\n      <td>239.55</td>\n      <td>3.8</td>\n      <td>0.0</td>\n      <td>0.0</td>\n      <td>0.0</td>\n    </tr>\n  </tbody>\n</table>\n<p>2075259 rows × 7 columns</p>\n</div>"
     },
     "metadata": {},
     "output_type": "display_data"
    }
   ],
   "source": [
    "df = pd.read_parquet(\"data/household.parquet\")\n",
    "display(df)"
   ],
   "metadata": {
    "collapsed": false,
    "pycharm": {
     "name": "#%%\n"
    }
   }
  },
  {
   "cell_type": "markdown",
   "source": [
    "## Null values"
   ],
   "metadata": {
    "collapsed": false,
    "pycharm": {
     "name": "#%% md\n"
    }
   }
  },
  {
   "cell_type": "code",
   "execution_count": 42,
   "outputs": [
    {
     "name": "stdout",
     "output_type": "stream",
     "text": [
      "Null values per column:\n"
     ]
    },
    {
     "data": {
      "text/plain": "                       null_values  null_value_percent\nGlobal_active_power              0                 0.0\nGlobal_reactive_power            0                 0.0\nVoltage                          0                 0.0\nGlobal_intensity                 0                 0.0\nSub_metering_1                   0                 0.0\nSub_metering_2                   0                 0.0\nSub_metering_3                   0                 0.0",
      "text/html": "<div>\n<style scoped>\n    .dataframe tbody tr th:only-of-type {\n        vertical-align: middle;\n    }\n\n    .dataframe tbody tr th {\n        vertical-align: top;\n    }\n\n    .dataframe thead th {\n        text-align: right;\n    }\n</style>\n<table border=\"1\" class=\"dataframe\">\n  <thead>\n    <tr style=\"text-align: right;\">\n      <th></th>\n      <th>null_values</th>\n      <th>null_value_percent</th>\n    </tr>\n  </thead>\n  <tbody>\n    <tr>\n      <th>Global_active_power</th>\n      <td>0</td>\n      <td>0.0</td>\n    </tr>\n    <tr>\n      <th>Global_reactive_power</th>\n      <td>0</td>\n      <td>0.0</td>\n    </tr>\n    <tr>\n      <th>Voltage</th>\n      <td>0</td>\n      <td>0.0</td>\n    </tr>\n    <tr>\n      <th>Global_intensity</th>\n      <td>0</td>\n      <td>0.0</td>\n    </tr>\n    <tr>\n      <th>Sub_metering_1</th>\n      <td>0</td>\n      <td>0.0</td>\n    </tr>\n    <tr>\n      <th>Sub_metering_2</th>\n      <td>0</td>\n      <td>0.0</td>\n    </tr>\n    <tr>\n      <th>Sub_metering_3</th>\n      <td>0</td>\n      <td>0.0</td>\n    </tr>\n  </tbody>\n</table>\n</div>"
     },
     "metadata": {},
     "output_type": "display_data"
    }
   ],
   "source": [
    "# Get all the null values\n",
    "print(\"Null values per column:\")\n",
    "null_values = df.isna().sum()\n",
    "null_percent = null_values * 100 / len(df)\n",
    "null_values_df = pd.DataFrame(\n",
    "    {\"null_values\": null_values, \"null_value_percent\": null_percent}\n",
    ")\n",
    "display(null_values_df)"
   ],
   "metadata": {
    "collapsed": false,
    "pycharm": {
     "name": "#%%\n"
    }
   }
  },
  {
   "cell_type": "markdown",
   "source": [
    "## Descriptive statistics"
   ],
   "metadata": {
    "collapsed": false,
    "pycharm": {
     "name": "#%% md\n"
    }
   }
  },
  {
   "cell_type": "code",
   "execution_count": 3,
   "outputs": [
    {
     "data": {
      "text/plain": "                           count        mean       std      min      25%  \\\nGlobal_active_power    2075259.0    1.090280  1.052628    0.076    0.310   \nGlobal_reactive_power  2075259.0    0.123649  0.112419    0.000    0.048   \nVoltage                2075259.0  240.832785  3.237763  223.200  238.990   \nGlobal_intensity       2075259.0    4.621481  4.424361    0.200    1.400   \nSub_metering_1         2075259.0    1.109485  6.115843    0.000    0.000   \nSub_metering_2         2075259.0    1.289229  5.786613    0.000    0.000   \nSub_metering_3         2075259.0    6.442386  8.415860    0.000    0.000   \n\n                              50%      75%      max  \nGlobal_active_power      0.614000    1.528   11.122  \nGlobal_reactive_power    0.100000    0.194    1.390  \nVoltage                241.000000  242.870  254.150  \nGlobal_intensity         2.751585    6.400   48.400  \nSub_metering_1           0.000000    0.000   88.000  \nSub_metering_2           0.000000    1.000   80.000  \nSub_metering_3           1.000000   17.000   31.000  ",
      "text/html": "<div>\n<style scoped>\n    .dataframe tbody tr th:only-of-type {\n        vertical-align: middle;\n    }\n\n    .dataframe tbody tr th {\n        vertical-align: top;\n    }\n\n    .dataframe thead th {\n        text-align: right;\n    }\n</style>\n<table border=\"1\" class=\"dataframe\">\n  <thead>\n    <tr style=\"text-align: right;\">\n      <th></th>\n      <th>count</th>\n      <th>mean</th>\n      <th>std</th>\n      <th>min</th>\n      <th>25%</th>\n      <th>50%</th>\n      <th>75%</th>\n      <th>max</th>\n    </tr>\n  </thead>\n  <tbody>\n    <tr>\n      <th>Global_active_power</th>\n      <td>2075259.0</td>\n      <td>1.090280</td>\n      <td>1.052628</td>\n      <td>0.076</td>\n      <td>0.310</td>\n      <td>0.614000</td>\n      <td>1.528</td>\n      <td>11.122</td>\n    </tr>\n    <tr>\n      <th>Global_reactive_power</th>\n      <td>2075259.0</td>\n      <td>0.123649</td>\n      <td>0.112419</td>\n      <td>0.000</td>\n      <td>0.048</td>\n      <td>0.100000</td>\n      <td>0.194</td>\n      <td>1.390</td>\n    </tr>\n    <tr>\n      <th>Voltage</th>\n      <td>2075259.0</td>\n      <td>240.832785</td>\n      <td>3.237763</td>\n      <td>223.200</td>\n      <td>238.990</td>\n      <td>241.000000</td>\n      <td>242.870</td>\n      <td>254.150</td>\n    </tr>\n    <tr>\n      <th>Global_intensity</th>\n      <td>2075259.0</td>\n      <td>4.621481</td>\n      <td>4.424361</td>\n      <td>0.200</td>\n      <td>1.400</td>\n      <td>2.751585</td>\n      <td>6.400</td>\n      <td>48.400</td>\n    </tr>\n    <tr>\n      <th>Sub_metering_1</th>\n      <td>2075259.0</td>\n      <td>1.109485</td>\n      <td>6.115843</td>\n      <td>0.000</td>\n      <td>0.000</td>\n      <td>0.000000</td>\n      <td>0.000</td>\n      <td>88.000</td>\n    </tr>\n    <tr>\n      <th>Sub_metering_2</th>\n      <td>2075259.0</td>\n      <td>1.289229</td>\n      <td>5.786613</td>\n      <td>0.000</td>\n      <td>0.000</td>\n      <td>0.000000</td>\n      <td>1.000</td>\n      <td>80.000</td>\n    </tr>\n    <tr>\n      <th>Sub_metering_3</th>\n      <td>2075259.0</td>\n      <td>6.442386</td>\n      <td>8.415860</td>\n      <td>0.000</td>\n      <td>0.000</td>\n      <td>1.000000</td>\n      <td>17.000</td>\n      <td>31.000</td>\n    </tr>\n  </tbody>\n</table>\n</div>"
     },
     "metadata": {},
     "output_type": "display_data"
    }
   ],
   "source": [
    "display(df.describe().T)"
   ],
   "metadata": {
    "collapsed": false,
    "pycharm": {
     "name": "#%%\n"
    }
   }
  },
  {
   "cell_type": "markdown",
   "source": [
    "## Correlations"
   ],
   "metadata": {
    "collapsed": false,
    "pycharm": {
     "name": "#%% md\n"
    }
   }
  },
  {
   "cell_type": "code",
   "execution_count": 6,
   "outputs": [
    {
     "data": {
      "text/plain": "<Figure size 648x648 with 2 Axes>",
      "image/png": "[encoded data removed]"
     },
     "metadata": {},
     "output_type": "display_data"
    }
   ],
   "source": [
    "import seaborn as sns\n",
    "from seaborn import heatmap\n",
    "import matplotlib.pyplot as plt\n",
    "\n",
    "sns.set_theme(style=\"darkgrid\")\n",
    "\n",
    "corr = df.corr()\n",
    "plt.figure(figsize=(9, 9))\n",
    "cmap = sns.diverging_palette(220, 0)\n",
    "heatmap(corr, cmap=\"coolwarm\", center=0, vmin=-1, vmax=1)\n",
    "plt.show()"
   ],
   "metadata": {
    "collapsed": false,
    "pycharm": {
     "name": "#%%\n"
    }
   }
  },
  {
   "cell_type": "code",
   "execution_count": 5,
   "outputs": [
    {
     "name": "stdout",
     "output_type": "stream",
     "text": [
      "Most correlated pairs:\n"
     ]
    },
    {
     "data": {
      "text/plain": "Global_active_power  Global_intensity       0.998887\nGlobal_intensity     Global_active_power    0.998887\nGlobal_active_power  Sub_metering_3         0.639272\nSub_metering_3       Global_active_power    0.639272\n                     Global_intensity       0.627264\ndtype: float64"
     },
     "metadata": {},
     "output_type": "display_data"
    }
   ],
   "source": [
    "# Get correlations pairs\n",
    "pairs = corr.abs().unstack()\n",
    "pairs = pairs[pairs < 1]\n",
    "pairs = pairs.sort_values(kind=\"quicksort\", ascending=False)\n",
    "print(\"Most correlated pairs:\")\n",
    "display(pairs.head(5))"
   ],
   "metadata": {
    "collapsed": false,
    "pycharm": {
     "name": "#%%\n"
    }
   }
  },
  {
   "cell_type": "markdown",
   "source": [
    "## Resample and plot on different scales\n",
    "Exclude data before July 2007, as it looks relatively high with respect to the remaining data."
   ],
   "metadata": {
    "collapsed": false,
    "pycharm": {
     "name": "#%% md\n"
    }
   }
  },
  {
   "cell_type": "code",
   "execution_count": 28,
   "outputs": [],
   "source": [
    "def run_sequence_plot(x, y, title, xtitle, ytitle):\n",
    "    fig = px.line(x=x, y=y)\n",
    "    fig.update_layout(title=title, width=800, xaxis_title=xtitle, yaxis_title=ytitle)\n",
    "    fig.show()"
   ],
   "metadata": {
    "collapsed": false,
    "pycharm": {
     "name": "#%%\n"
    }
   }
  },
  {
   "cell_type": "code",
   "execution_count": 54,
   "outputs": [
    {
     "data": {
      "application/vnd.plotly.v1+json": {
       "data": [
        {
         "hovertemplate": "x=%{x}<br>y=%{y}<extra></extra>",
         "legendgroup": "",
         "line": {
          "color": "#636efa",
          "dash": "solid"
         },
         "marker": {
          "symbol": "circle"
         },
         "mode": "lines",
         "name": "",
         "orientation": "v",
         "showlegend": false,
         "x": [
          "2006-12-31T00:00:00",
          "2007-01-31T00:00:00",
          "2007-02-28T00:00:00",
          "2007-03-31T00:00:00",
          "2007-04-30T00:00:00",
          "2007-05-31T00:00:00",
          "2007-06-30T00:00:00",
          "2007-07-31T00:00:00",
          "2007-08-31T00:00:00",
          "2007-09-30T00:00:00",
          "2007-10-31T00:00:00",
          "2007-11-30T00:00:00",
          "2007-12-31T00:00:00",
          "2008-01-31T00:00:00",
          "2008-02-29T00:00:00",
          "2008-03-31T00:00:00",
          "2008-04-30T00:00:00",
          "2008-05-31T00:00:00",
          "2008-06-30T00:00:00",
          "2008-07-31T00:00:00",
          "2008-08-31T00:00:00",
          "2008-09-30T00:00:00",
          "2008-10-31T00:00:00",
          "2008-11-30T00:00:00",
          "2008-12-31T00:00:00",
          "2009-01-31T00:00:00",
          "2009-02-28T00:00:00",
          "2009-03-31T00:00:00",
          "2009-04-30T00:00:00",
          "2009-05-31T00:00:00",
          "2009-06-30T00:00:00",
          "2009-07-31T00:00:00",
          "2009-08-31T00:00:00",
          "2009-09-30T00:00:00",
          "2009-10-31T00:00:00",
          "2009-11-30T00:00:00",
          "2009-12-31T00:00:00",
          "2010-01-31T00:00:00",
          "2010-02-28T00:00:00",
          "2010-03-31T00:00:00",
          "2010-04-30T00:00:00",
          "2010-05-31T00:00:00",
          "2010-06-30T00:00:00",
          "2010-07-31T00:00:00",
          "2010-08-31T00:00:00",
          "2010-09-30T00:00:00",
          "2010-10-31T00:00:00",
          "2010-11-30T00:00:00",
          "2010-12-31T00:00:00"
         ],
         "xaxis": "x",
         "y": [
          6.808150000000008,
          6.36361,
          5.788809999999998,
          5.936440000000002,
          5.582019999999989,
          5.474440000000002,
          5.302029999999984,
          5.382,
          5.3788300000000016,
          5.674009999999996,
          5.764,
          5.968009999999995,
          6.382,
          5.989610000000001,
          5.210410000000003,
          5.444,
          5.51401999999999,
          5.723220000000001,
          5.394039999999979,
          4.6776100000000005,
          5.154440000000002,
          5.214009999999996,
          5.529220000000001,
          5.874009999999995,
          5.539610000000001,
          6.176830000000002,
          5.301619999999995,
          5.143610000000001,
          4.996009999999996,
          4.737610000000001,
          4.192009999999995,
          4.755610000000001,
          4.89,
          4.702019999999989,
          5.294,
          6.018,
          5.812490000000005,
          5.506,
          5.620420000000013,
          4.922009999999995,
          4.672410000000004,
          4.608009999999995,
          4.533690000000032,
          3.8620299999999843,
          4.494029999999984,
          4.722820000000008,
          5.314009999999995,
          5.030679999999993,
          4.246150000000009
         ],
         "yaxis": "y",
         "type": "scatter"
        }
       ],
       "layout": {
        "template": {
         "data": {
          "bar": [
           {
            "error_x": {
             "color": "#2a3f5f"
            },
            "error_y": {
             "color": "#2a3f5f"
            },
            "marker": {
             "line": {
              "color": "#E5ECF6",
              "width": 0.5
             },
             "pattern": {
              "fillmode": "overlay",
              "size": 10,
              "solidity": 0.2
             }
            },
            "type": "bar"
           }
          ],
          "barpolar": [
           {
            "marker": {
             "line": {
              "color": "#E5ECF6",
              "width": 0.5
             },
             "pattern": {
              "fillmode": "overlay",
              "size": 10,
              "solidity": 0.2
             }
            },
            "type": "barpolar"
           }
          ],
          "carpet": [
           {
            "aaxis": {
             "endlinecolor": "#2a3f5f",
             "gridcolor": "white",
             "linecolor": "white",
             "minorgridcolor": "white",
             "startlinecolor": "#2a3f5f"
            },
            "baxis": {
             "endlinecolor": "#2a3f5f",
             "gridcolor": "white",
             "linecolor": "white",
             "minorgridcolor": "white",
             "startlinecolor": "#2a3f5f"
            },
            "type": "carpet"
           }
          ],
          "choropleth": [
           {
            "colorbar": {
             "outlinewidth": 0,
             "ticks": ""
            },
            "type": "choropleth"
           }
          ],
          "contour": [
           {
            "colorbar": {
             "outlinewidth": 0,
             "ticks": ""
            },
            "colorscale": [
             [
              0.0,
              "#0d0887"
             ],
             [
              0.1111111111111111,
              "#46039f"
             ],
             [
              0.2222222222222222,
              "#7201a8"
             ],
             [
              0.3333333333333333,
              "#9c179e"
             ],
             [
              0.4444444444444444,
              "#bd3786"
             ],
             [
              0.5555555555555556,
              "#d8576b"
             ],
             [
              0.6666666666666666,
              "#ed7953"
             ],
             [
              0.7777777777777778,
              "#fb9f3a"
             ],
             [
              0.8888888888888888,
              "#fdca26"
             ],
             [
              1.0,
              "#f0f921"
             ]
            ],
            "type": "contour"
           }
          ],
          "contourcarpet": [
           {
            "colorbar": {
             "outlinewidth": 0,
             "ticks": ""
            },
            "type": "contourcarpet"
           }
          ],
          "heatmap": [
           {
            "colorbar": {
             "outlinewidth": 0,
             "ticks": ""
            },
            "colorscale": [
             [
              0.0,
              "#0d0887"
             ],
             [
              0.1111111111111111,
              "#46039f"
             ],
             [
              0.2222222222222222,
              "#7201a8"
             ],
             [
              0.3333333333333333,
              "#9c179e"
             ],
             [
              0.4444444444444444,
              "#bd3786"
             ],
             [
              0.5555555555555556,
              "#d8576b"
             ],
             [
              0.6666666666666666,
              "#ed7953"
             ],
             [
              0.7777777777777778,
              "#fb9f3a"
             ],
             [
              0.8888888888888888,
              "#fdca26"
             ],
             [
              1.0,
              "#f0f921"
             ]
            ],
            "type": "heatmap"
           }
          ],
          "heatmapgl": [
           {
            "colorbar": {
             "outlinewidth": 0,
             "ticks": ""
            },
            "colorscale": [
             [
              0.0,
              "#0d0887"
             ],
             [
              0.1111111111111111,
              "#46039f"
             ],
             [
              0.2222222222222222,
              "#7201a8"
             ],
             [
              0.3333333333333333,
              "#9c179e"
             ],
             [
              0.4444444444444444,
              "#bd3786"
             ],
             [
              0.5555555555555556,
              "#d8576b"
             ],
             [
              0.6666666666666666,
              "#ed7953"
             ],
             [
              0.7777777777777778,
              "#fb9f3a"
             ],
             [
              0.8888888888888888,
              "#fdca26"
             ],
             [
              1.0,
              "#f0f921"
             ]
            ],
            "type": "heatmapgl"
           }
          ],
          "histogram": [
           {
            "marker": {
             "pattern": {
              "fillmode": "overlay",
              "size": 10,
              "solidity": 0.2
             }
            },
            "type": "histogram"
           }
          ],
          "histogram2d": [
           {
            "colorbar": {
             "outlinewidth": 0,
             "ticks": ""
            },
            "colorscale": [
             [
              0.0,
              "#0d0887"
             ],
             [
              0.1111111111111111,
              "#46039f"
             ],
             [
              0.2222222222222222,
              "#7201a8"
             ],
             [
              0.3333333333333333,
              "#9c179e"
             ],
             [
              0.4444444444444444,
              "#bd3786"
             ],
             [
              0.5555555555555556,
              "#d8576b"
             ],
             [
              0.6666666666666666,
              "#ed7953"
             ],
             [
              0.7777777777777778,
              "#fb9f3a"
             ],
             [
              0.8888888888888888,
              "#fdca26"
             ],
             [
              1.0,
              "#f0f921"
             ]
            ],
            "type": "histogram2d"
           }
          ],
          "histogram2dcontour": [
           {
            "colorbar": {
             "outlinewidth": 0,
             "ticks": ""
            },
            "colorscale": [
             [
              0.0,
              "#0d0887"
             ],
             [
              0.1111111111111111,
              "#46039f"
             ],
             [
              0.2222222222222222,
              "#7201a8"
             ],
             [
              0.3333333333333333,
              "#9c179e"
             ],
             [
              0.4444444444444444,
              "#bd3786"
             ],
             [
              0.5555555555555556,
              "#d8576b"
             ],
             [
              0.6666666666666666,
              "#ed7953"
             ],
             [
              0.7777777777777778,
              "#fb9f3a"
             ],
             [
              0.8888888888888888,
              "#fdca26"
             ],
             [
              1.0,
              "#f0f921"
             ]
            ],
            "type": "histogram2dcontour"
           }
          ],
          "mesh3d": [
           {
            "colorbar": {
             "outlinewidth": 0,
             "ticks": ""
            },
            "type": "mesh3d"
           }
          ],
          "parcoords": [
           {
            "line": {
             "colorbar": {
              "outlinewidth": 0,
              "ticks": ""
             }
            },
            "type": "parcoords"
           }
          ],
          "pie": [
           {
            "automargin": true,
            "type": "pie"
           }
          ],
          "scatter": [
           {
            "marker": {
             "colorbar": {
              "outlinewidth": 0,
              "ticks": ""
             }
            },
            "type": "scatter"
           }
          ],
          "scatter3d": [
           {
            "line": {
             "colorbar": {
              "outlinewidth": 0,
              "ticks": ""
             }
            },
            "marker": {
             "colorbar": {
              "outlinewidth": 0,
              "ticks": ""
             }
            },
            "type": "scatter3d"
           }
          ],
          "scattercarpet": [
           {
            "marker": {
             "colorbar": {
              "outlinewidth": 0,
              "ticks": ""
             }
            },
            "type": "scattercarpet"
           }
          ],
          "scattergeo": [
           {
            "marker": {
             "colorbar": {
              "outlinewidth": 0,
              "ticks": ""
             }
            },
            "type": "scattergeo"
           }
          ],
          "scattergl": [
           {
            "marker": {
             "colorbar": {
              "outlinewidth": 0,
              "ticks": ""
             }
            },
            "type": "scattergl"
           }
          ],
          "scattermapbox": [
           {
            "marker": {
             "colorbar": {
              "outlinewidth": 0,
              "ticks": ""
             }
            },
            "type": "scattermapbox"
           }
          ],
          "scatterpolar": [
           {
            "marker": {
             "colorbar": {
              "outlinewidth": 0,
              "ticks": ""
             }
            },
            "type": "scatterpolar"
           }
          ],
          "scatterpolargl": [
           {
            "marker": {
             "colorbar": {
              "outlinewidth": 0,
              "ticks": ""
             }
            },
            "type": "scatterpolargl"
           }
          ],
          "scatterternary": [
           {
            "marker": {
             "colorbar": {
              "outlinewidth": 0,
              "ticks": ""
             }
            },
            "type": "scatterternary"
           }
          ],
          "surface": [
           {
            "colorbar": {
             "outlinewidth": 0,
             "ticks": ""
            },
            "colorscale": [
             [
              0.0,
              "#0d0887"
             ],
             [
              0.1111111111111111,
              "#46039f"
             ],
             [
              0.2222222222222222,
              "#7201a8"
             ],
             [
              0.3333333333333333,
              "#9c179e"
             ],
             [
              0.4444444444444444,
              "#bd3786"
             ],
             [
              0.5555555555555556,
              "#d8576b"
             ],
             [
              0.6666666666666666,
              "#ed7953"
             ],
             [
              0.7777777777777778,
              "#fb9f3a"
             ],
             [
              0.8888888888888888,
              "#fdca26"
             ],
             [
              1.0,
              "#f0f921"
             ]
            ],
            "type": "surface"
           }
          ],
          "table": [
           {
            "cells": {
             "fill": {
              "color": "#EBF0F8"
             },
             "line": {
              "color": "white"
             }
            },
            "header": {
             "fill": {
              "color": "#C8D4E3"
             },
             "line": {
              "color": "white"
             }
            },
            "type": "table"
           }
          ]
         },
         "layout": {
          "annotationdefaults": {
           "arrowcolor": "#2a3f5f",
           "arrowhead": 0,
           "arrowwidth": 1
          },
          "autotypenumbers": "strict",
          "coloraxis": {
           "colorbar": {
            "outlinewidth": 0,
            "ticks": ""
           }
          },
          "colorscale": {
           "diverging": [
            [
             0,
             "#8e0152"
            ],
            [
             0.1,
             "#c51b7d"
            ],
            [
             0.2,
             "#de77ae"
            ],
            [
             0.3,
             "#f1b6da"
            ],
            [
             0.4,
             "#fde0ef"
            ],
            [
             0.5,
             "#f7f7f7"
            ],
            [
             0.6,
             "#e6f5d0"
            ],
            [
             0.7,
             "#b8e186"
            ],
            [
             0.8,
             "#7fbc41"
            ],
            [
             0.9,
             "#4d9221"
            ],
            [
             1,
             "#276419"
            ]
           ],
           "sequential": [
            [
             0.0,
             "#0d0887"
            ],
            [
             0.1111111111111111,
             "#46039f"
            ],
            [
             0.2222222222222222,
             "#7201a8"
            ],
            [
             0.3333333333333333,
             "#9c179e"
            ],
            [
             0.4444444444444444,
             "#bd3786"
            ],
            [
             0.5555555555555556,
             "#d8576b"
            ],
            [
             0.6666666666666666,
             "#ed7953"
            ],
            [
             0.7777777777777778,
             "#fb9f3a"
            ],
            [
             0.8888888888888888,
             "#fdca26"
            ],
            [
             1.0,
             "#f0f921"
            ]
           ],
           "sequentialminus": [
            [
             0.0,
             "#0d0887"
            ],
            [
             0.1111111111111111,
             "#46039f"
            ],
            [
             0.2222222222222222,
             "#7201a8"
            ],
            [
             0.3333333333333333,
             "#9c179e"
            ],
            [
             0.4444444444444444,
             "#bd3786"
            ],
            [
             0.5555555555555556,
             "#d8576b"
            ],
            [
             0.6666666666666666,
             "#ed7953"
            ],
            [
             0.7777777777777778,
             "#fb9f3a"
            ],
            [
             0.8888888888888888,
             "#fdca26"
            ],
            [
             1.0,
             "#f0f921"
            ]
           ]
          },
          "colorway": [
           "#636efa",
           "#EF553B",
           "#00cc96",
           "#ab63fa",
           "#FFA15A",
           "#19d3f3",
           "#FF6692",
           "#B6E880",
           "#FF97FF",
           "#FECB52"
          ],
          "font": {
           "color": "#2a3f5f"
          },
          "geo": {
           "bgcolor": "white",
           "lakecolor": "white",
           "landcolor": "#E5ECF6",
           "showlakes": true,
           "showland": true,
           "subunitcolor": "white"
          },
          "hoverlabel": {
           "align": "left"
          },
          "hovermode": "closest",
          "mapbox": {
           "style": "light"
          },
          "paper_bgcolor": "white",
          "plot_bgcolor": "#E5ECF6",
          "polar": {
           "angularaxis": {
            "gridcolor": "white",
            "linecolor": "white",
            "ticks": ""
           },
           "bgcolor": "#E5ECF6",
           "radialaxis": {
            "gridcolor": "white",
            "linecolor": "white",
            "ticks": ""
           }
          },
          "scene": {
           "xaxis": {
            "backgroundcolor": "#E5ECF6",
            "gridcolor": "white",
            "gridwidth": 2,
            "linecolor": "white",
            "showbackground": true,
            "ticks": "",
            "zerolinecolor": "white"
           },
           "yaxis": {
            "backgroundcolor": "#E5ECF6",
            "gridcolor": "white",
            "gridwidth": 2,
            "linecolor": "white",
            "showbackground": true,
            "ticks": "",
            "zerolinecolor": "white"
           },
           "zaxis": {
            "backgroundcolor": "#E5ECF6",
            "gridcolor": "white",
            "gridwidth": 2,
            "linecolor": "white",
            "showbackground": true,
            "ticks": "",
            "zerolinecolor": "white"
           }
          },
          "shapedefaults": {
           "line": {
            "color": "#2a3f5f"
           }
          },
          "ternary": {
           "aaxis": {
            "gridcolor": "white",
            "linecolor": "white",
            "ticks": ""
           },
           "baxis": {
            "gridcolor": "white",
            "linecolor": "white",
            "ticks": ""
           },
           "bgcolor": "#E5ECF6",
           "caxis": {
            "gridcolor": "white",
            "linecolor": "white",
            "ticks": ""
           }
          },
          "title": {
           "x": 0.05
          },
          "xaxis": {
           "automargin": true,
           "gridcolor": "white",
           "linecolor": "white",
           "ticks": "",
           "title": {
            "standoff": 15
           },
           "zerolinecolor": "white",
           "zerolinewidth": 2
          },
          "yaxis": {
           "automargin": true,
           "gridcolor": "white",
           "linecolor": "white",
           "ticks": "",
           "title": {
            "standoff": 15
           },
           "zerolinecolor": "white",
           "zerolinewidth": 2
          }
         }
        },
        "xaxis": {
         "anchor": "y",
         "domain": [
          0.0,
          1.0
         ],
         "title": {
          "text": "Time"
         }
        },
        "yaxis": {
         "anchor": "x",
         "domain": [
          0.0,
          1.0
         ],
         "title": {
          "text": "Global_active_power"
         }
        },
        "legend": {
         "tracegroupgap": 0
        },
        "margin": {
         "t": 60
        },
        "title": {
         "text": "Monthly 99.5% percentile Global_active_power"
        },
        "width": 800
       },
       "config": {
        "plotlyServerURL": "https://plot.ly"
       }
      },
      "text/html": "<div>                            <div id=\"25f95d44-949d-4102-9b16-95f3068dd1fe\" class=\"plotly-graph-div\" style=\"height:525px; width:800px;\"></div>            <script type=\"text/javascript\">                require([\"plotly\"], function(Plotly) {                    window.PLOTLYENV=window.PLOTLYENV || {};                                    if (document.getElementById(\"25f95d44-949d-4102-9b16-95f3068dd1fe\")) {                    Plotly.newPlot(                        \"25f95d44-949d-4102-9b16-95f3068dd1fe\",                        [{\"hovertemplate\":\"x=%{x}<br>y=%{y}<extra></extra>\",\"legendgroup\":\"\",\"line\":{\"color\":\"#636efa\",\"dash\":\"solid\"},\"marker\":{\"symbol\":\"circle\"},\"mode\":\"lines\",\"name\":\"\",\"orientation\":\"v\",\"showlegend\":false,\"x\":[\"2006-12-31T00:00:00\",\"2007-01-31T00:00:00\",\"2007-02-28T00:00:00\",\"2007-03-31T00:00:00\",\"2007-04-30T00:00:00\",\"2007-05-31T00:00:00\",\"2007-06-30T00:00:00\",\"2007-07-31T00:00:00\",\"2007-08-31T00:00:00\",\"2007-09-30T00:00:00\",\"2007-10-31T00:00:00\",\"2007-11-30T00:00:00\",\"2007-12-31T00:00:00\",\"2008-01-31T00:00:00\",\"2008-02-29T00:00:00\",\"2008-03-31T00:00:00\",\"2008-04-30T00:00:00\",\"2008-05-31T00:00:00\",\"2008-06-30T00:00:00\",\"2008-07-31T00:00:00\",\"2008-08-31T00:00:00\",\"2008-09-30T00:00:00\",\"2008-10-31T00:00:00\",\"2008-11-30T00:00:00\",\"2008-12-31T00:00:00\",\"2009-01-31T00:00:00\",\"2009-02-28T00:00:00\",\"2009-03-31T00:00:00\",\"2009-04-30T00:00:00\",\"2009-05-31T00:00:00\",\"2009-06-30T00:00:00\",\"2009-07-31T00:00:00\",\"2009-08-31T00:00:00\",\"2009-09-30T00:00:00\",\"2009-10-31T00:00:00\",\"2009-11-30T00:00:00\",\"2009-12-31T00:00:00\",\"2010-01-31T00:00:00\",\"2010-02-28T00:00:00\",\"2010-03-31T00:00:00\",\"2010-04-30T00:00:00\",\"2010-05-31T00:00:00\",\"2010-06-30T00:00:00\",\"2010-07-31T00:00:00\",\"2010-08-31T00:00:00\",\"2010-09-30T00:00:00\",\"2010-10-31T00:00:00\",\"2010-11-30T00:00:00\",\"2010-12-31T00:00:00\"],\"xaxis\":\"x\",\"y\":[6.808150000000008,6.36361,5.788809999999998,5.936440000000002,5.582019999999989,5.474440000000002,5.302029999999984,5.382,5.3788300000000016,5.674009999999996,5.764,5.968009999999995,6.382,5.989610000000001,5.210410000000003,5.444,5.51401999999999,5.723220000000001,5.394039999999979,4.6776100000000005,5.154440000000002,5.214009999999996,5.529220000000001,5.874009999999995,5.539610000000001,6.176830000000002,5.301619999999995,5.143610000000001,4.996009999999996,4.737610000000001,4.192009999999995,4.755610000000001,4.89,4.702019999999989,5.294,6.018,5.812490000000005,5.506,5.620420000000013,4.922009999999995,4.672410000000004,4.608009999999995,4.533690000000032,3.8620299999999843,4.494029999999984,4.722820000000008,5.314009999999995,5.030679999999993,4.246150000000009],\"yaxis\":\"y\",\"type\":\"scatter\"}],                        {\"template\":{\"data\":{\"bar\":[{\"error_x\":{\"color\":\"#2a3f5f\"},\"error_y\":{\"color\":\"#2a3f5f\"},\"marker\":{\"line\":{\"color\":\"#E5ECF6\",\"width\":0.5},\"pattern\":{\"fillmode\":\"overlay\",\"size\":10,\"solidity\":0.2}},\"type\":\"bar\"}],\"barpolar\":[{\"marker\":{\"line\":{\"color\":\"#E5ECF6\",\"width\":0.5},\"pattern\":{\"fillmode\":\"overlay\",\"size\":10,\"solidity\":0.2}},\"type\":\"barpolar\"}],\"carpet\":[{\"aaxis\":{\"endlinecolor\":\"#2a3f5f\",\"gridcolor\":\"white\",\"linecolor\":\"white\",\"minorgridcolor\":\"white\",\"startlinecolor\":\"#2a3f5f\"},\"baxis\":{\"endlinecolor\":\"#2a3f5f\",\"gridcolor\":\"white\",\"linecolor\":\"white\",\"minorgridcolor\":\"white\",\"startlinecolor\":\"#2a3f5f\"},\"type\":\"carpet\"}],\"choropleth\":[{\"colorbar\":{\"outlinewidth\":0,\"ticks\":\"\"},\"type\":\"choropleth\"}],\"contour\":[{\"colorbar\":{\"outlinewidth\":0,\"ticks\":\"\"},\"colorscale\":[[0.0,\"#0d0887\"],[0.1111111111111111,\"#46039f\"],[0.2222222222222222,\"#7201a8\"],[0.3333333333333333,\"#9c179e\"],[0.4444444444444444,\"#bd3786\"],[0.5555555555555556,\"#d8576b\"],[0.6666666666666666,\"#ed7953\"],[0.7777777777777778,\"#fb9f3a\"],[0.8888888888888888,\"#fdca26\"],[1.0,\"#f0f921\"]],\"type\":\"contour\"}],\"contourcarpet\":[{\"colorbar\":{\"outlinewidth\":0,\"ticks\":\"\"},\"type\":\"contourcarpet\"}],\"heatmap\":[{\"colorbar\":{\"outlinewidth\":0,\"ticks\":\"\"},\"colorscale\":[[0.0,\"#0d0887\"],[0.1111111111111111,\"#46039f\"],[0.2222222222222222,\"#7201a8\"],[0.3333333333333333,\"#9c179e\"],[0.4444444444444444,\"#bd3786\"],[0.5555555555555556,\"#d8576b\"],[0.6666666666666666,\"#ed7953\"],[0.7777777777777778,\"#fb9f3a\"],[0.8888888888888888,\"#fdca26\"],[1.0,\"#f0f921\"]],\"type\":\"heatmap\"}],\"heatmapgl\":[{\"colorbar\":{\"outlinewidth\":0,\"ticks\":\"\"},\"colorscale\":[[0.0,\"#0d0887\"],[0.1111111111111111,\"#46039f\"],[0.2222222222222222,\"#7201a8\"],[0.3333333333333333,\"#9c179e\"],[0.4444444444444444,\"#bd3786\"],[0.5555555555555556,\"#d8576b\"],[0.6666666666666666,\"#ed7953\"],[0.7777777777777778,\"#fb9f3a\"],[0.8888888888888888,\"#fdca26\"],[1.0,\"#f0f921\"]],\"type\":\"heatmapgl\"}],\"histogram\":[{\"marker\":{\"pattern\":{\"fillmode\":\"overlay\",\"size\":10,\"solidity\":0.2}},\"type\":\"histogram\"}],\"histogram2d\":[{\"colorbar\":{\"outlinewidth\":0,\"ticks\":\"\"},\"colorscale\":[[0.0,\"#0d0887\"],[0.1111111111111111,\"#46039f\"],[0.2222222222222222,\"#7201a8\"],[0.3333333333333333,\"#9c179e\"],[0.4444444444444444,\"#bd3786\"],[0.5555555555555556,\"#d8576b\"],[0.6666666666666666,\"#ed7953\"],[0.7777777777777778,\"#fb9f3a\"],[0.8888888888888888,\"#fdca26\"],[1.0,\"#f0f921\"]],\"type\":\"histogram2d\"}],\"histogram2dcontour\":[{\"colorbar\":{\"outlinewidth\":0,\"ticks\":\"\"},\"colorscale\":[[0.0,\"#0d0887\"],[0.1111111111111111,\"#46039f\"],[0.2222222222222222,\"#7201a8\"],[0.3333333333333333,\"#9c179e\"],[0.4444444444444444,\"#bd3786\"],[0.5555555555555556,\"#d8576b\"],[0.6666666666666666,\"#ed7953\"],[0.7777777777777778,\"#fb9f3a\"],[0.8888888888888888,\"#fdca26\"],[1.0,\"#f0f921\"]],\"type\":\"histogram2dcontour\"}],\"mesh3d\":[{\"colorbar\":{\"outlinewidth\":0,\"ticks\":\"\"},\"type\":\"mesh3d\"}],\"parcoords\":[{\"line\":{\"colorbar\":{\"outlinewidth\":0,\"ticks\":\"\"}},\"type\":\"parcoords\"}],\"pie\":[{\"automargin\":true,\"type\":\"pie\"}],\"scatter\":[{\"marker\":{\"colorbar\":{\"outlinewidth\":0,\"ticks\":\"\"}},\"type\":\"scatter\"}],\"scatter3d\":[{\"line\":{\"colorbar\":{\"outlinewidth\":0,\"ticks\":\"\"}},\"marker\":{\"colorbar\":{\"outlinewidth\":0,\"ticks\":\"\"}},\"type\":\"scatter3d\"}],\"scattercarpet\":[{\"marker\":{\"colorbar\":{\"outlinewidth\":0,\"ticks\":\"\"}},\"type\":\"scattercarpet\"}],\"scattergeo\":[{\"marker\":{\"colorbar\":{\"outlinewidth\":0,\"ticks\":\"\"}},\"type\":\"scattergeo\"}],\"scattergl\":[{\"marker\":{\"colorbar\":{\"outlinewidth\":0,\"ticks\":\"\"}},\"type\":\"scattergl\"}],\"scattermapbox\":[{\"marker\":{\"colorbar\":{\"outlinewidth\":0,\"ticks\":\"\"}},\"type\":\"scattermapbox\"}],\"scatterpolar\":[{\"marker\":{\"colorbar\":{\"outlinewidth\":0,\"ticks\":\"\"}},\"type\":\"scatterpolar\"}],\"scatterpolargl\":[{\"marker\":{\"colorbar\":{\"outlinewidth\":0,\"ticks\":\"\"}},\"type\":\"scatterpolargl\"}],\"scatterternary\":[{\"marker\":{\"colorbar\":{\"outlinewidth\":0,\"ticks\":\"\"}},\"type\":\"scatterternary\"}],\"surface\":[{\"colorbar\":{\"outlinewidth\":0,\"ticks\":\"\"},\"colorscale\":[[0.0,\"#0d0887\"],[0.1111111111111111,\"#46039f\"],[0.2222222222222222,\"#7201a8\"],[0.3333333333333333,\"#9c179e\"],[0.4444444444444444,\"#bd3786\"],[0.5555555555555556,\"#d8576b\"],[0.6666666666666666,\"#ed7953\"],[0.7777777777777778,\"#fb9f3a\"],[0.8888888888888888,\"#fdca26\"],[1.0,\"#f0f921\"]],\"type\":\"surface\"}],\"table\":[{\"cells\":{\"fill\":{\"color\":\"#EBF0F8\"},\"line\":{\"color\":\"white\"}},\"header\":{\"fill\":{\"color\":\"#C8D4E3\"},\"line\":{\"color\":\"white\"}},\"type\":\"table\"}]},\"layout\":{\"annotationdefaults\":{\"arrowcolor\":\"#2a3f5f\",\"arrowhead\":0,\"arrowwidth\":1},\"autotypenumbers\":\"strict\",\"coloraxis\":{\"colorbar\":{\"outlinewidth\":0,\"ticks\":\"\"}},\"colorscale\":{\"diverging\":[[0,\"#8e0152\"],[0.1,\"#c51b7d\"],[0.2,\"#de77ae\"],[0.3,\"#f1b6da\"],[0.4,\"#fde0ef\"],[0.5,\"#f7f7f7\"],[0.6,\"#e6f5d0\"],[0.7,\"#b8e186\"],[0.8,\"#7fbc41\"],[0.9,\"#4d9221\"],[1,\"#276419\"]],\"sequential\":[[0.0,\"#0d0887\"],[0.1111111111111111,\"#46039f\"],[0.2222222222222222,\"#7201a8\"],[0.3333333333333333,\"#9c179e\"],[0.4444444444444444,\"#bd3786\"],[0.5555555555555556,\"#d8576b\"],[0.6666666666666666,\"#ed7953\"],[0.7777777777777778,\"#fb9f3a\"],[0.8888888888888888,\"#fdca26\"],[1.0,\"#f0f921\"]],\"sequentialminus\":[[0.0,\"#0d0887\"],[0.1111111111111111,\"#46039f\"],[0.2222222222222222,\"#7201a8\"],[0.3333333333333333,\"#9c179e\"],[0.4444444444444444,\"#bd3786\"],[0.5555555555555556,\"#d8576b\"],[0.6666666666666666,\"#ed7953\"],[0.7777777777777778,\"#fb9f3a\"],[0.8888888888888888,\"#fdca26\"],[1.0,\"#f0f921\"]]},\"colorway\":[\"#636efa\",\"#EF553B\",\"#00cc96\",\"#ab63fa\",\"#FFA15A\",\"#19d3f3\",\"#FF6692\",\"#B6E880\",\"#FF97FF\",\"#FECB52\"],\"font\":{\"color\":\"#2a3f5f\"},\"geo\":{\"bgcolor\":\"white\",\"lakecolor\":\"white\",\"landcolor\":\"#E5ECF6\",\"showlakes\":true,\"showland\":true,\"subunitcolor\":\"white\"},\"hoverlabel\":{\"align\":\"left\"},\"hovermode\":\"closest\",\"mapbox\":{\"style\":\"light\"},\"paper_bgcolor\":\"white\",\"plot_bgcolor\":\"#E5ECF6\",\"polar\":{\"angularaxis\":{\"gridcolor\":\"white\",\"linecolor\":\"white\",\"ticks\":\"\"},\"bgcolor\":\"#E5ECF6\",\"radialaxis\":{\"gridcolor\":\"white\",\"linecolor\":\"white\",\"ticks\":\"\"}},\"scene\":{\"xaxis\":{\"backgroundcolor\":\"#E5ECF6\",\"gridcolor\":\"white\",\"gridwidth\":2,\"linecolor\":\"white\",\"showbackground\":true,\"ticks\":\"\",\"zerolinecolor\":\"white\"},\"yaxis\":{\"backgroundcolor\":\"#E5ECF6\",\"gridcolor\":\"white\",\"gridwidth\":2,\"linecolor\":\"white\",\"showbackground\":true,\"ticks\":\"\",\"zerolinecolor\":\"white\"},\"zaxis\":{\"backgroundcolor\":\"#E5ECF6\",\"gridcolor\":\"white\",\"gridwidth\":2,\"linecolor\":\"white\",\"showbackground\":true,\"ticks\":\"\",\"zerolinecolor\":\"white\"}},\"shapedefaults\":{\"line\":{\"color\":\"#2a3f5f\"}},\"ternary\":{\"aaxis\":{\"gridcolor\":\"white\",\"linecolor\":\"white\",\"ticks\":\"\"},\"baxis\":{\"gridcolor\":\"white\",\"linecolor\":\"white\",\"ticks\":\"\"},\"bgcolor\":\"#E5ECF6\",\"caxis\":{\"gridcolor\":\"white\",\"linecolor\":\"white\",\"ticks\":\"\"}},\"title\":{\"x\":0.05},\"xaxis\":{\"automargin\":true,\"gridcolor\":\"white\",\"linecolor\":\"white\",\"ticks\":\"\",\"title\":{\"standoff\":15},\"zerolinecolor\":\"white\",\"zerolinewidth\":2},\"yaxis\":{\"automargin\":true,\"gridcolor\":\"white\",\"linecolor\":\"white\",\"ticks\":\"\",\"title\":{\"standoff\":15},\"zerolinecolor\":\"white\",\"zerolinewidth\":2}}},\"xaxis\":{\"anchor\":\"y\",\"domain\":[0.0,1.0],\"title\":{\"text\":\"Time\"}},\"yaxis\":{\"anchor\":\"x\",\"domain\":[0.0,1.0],\"title\":{\"text\":\"Global_active_power\"}},\"legend\":{\"tracegroupgap\":0},\"margin\":{\"t\":60},\"title\":{\"text\":\"Monthly 99.5% percentile Global_active_power\"},\"width\":800},                        {\"responsive\": true}                    ).then(function(){\n                            \nvar gd = document.getElementById('25f95d44-949d-4102-9b16-95f3068dd1fe');\nvar x = new MutationObserver(function (mutations, observer) {{\n        var display = window.getComputedStyle(gd).display;\n        if (!display || display === 'none') {{\n            console.log([gd, 'removed!']);\n            Plotly.purge(gd);\n            observer.disconnect();\n        }}\n}});\n\n// Listen for the removal of the full notebook cells\nvar notebookContainer = gd.closest('#notebook-container');\nif (notebookContainer) {{\n    x.observe(notebookContainer, {childList: true});\n}}\n\n// Listen for the clearing of the current output cell\nvar outputEl = gd.closest('.output');\nif (outputEl) {{\n    x.observe(outputEl, {childList: true});\n}}\n\n                        })                };                });            </script>        </div>"
     },
     "metadata": {},
     "output_type": "display_data"
    }
   ],
   "source": [
    "var = \"Global_active_power\"\n",
    "\n",
    "# Monthly\n",
    "df_month = df.resample(\"M\").quantile(0.995)\n",
    "run_sequence_plot(\n",
    "    df_month.index,\n",
    "    df_month[var],\n",
    "    title=f\"Monthly 99.5% percentile {var}\",\n",
    "    xtitle=\"Time\",\n",
    "    ytitle=f\"{var}\",\n",
    ")\n",
    "\n",
    "# var2 = 'Global_reactive_power'\n",
    "# run_sequence_plot(df_month.index, df_month[var2], title=f'Monthly {var2}', xtitle='Time', ytitle=f'{var2}')"
   ],
   "metadata": {
    "collapsed": false,
    "pycharm": {
     "name": "#%%\n"
    }
   }
  },
  {
   "cell_type": "code",
   "execution_count": 50,
   "outputs": [
    {
     "data": {
      "application/vnd.plotly.v1+json": {
       "data": [
        {
         "hovertemplate": "x=%{x}<br>y=%{y}<extra></extra>",
         "legendgroup": "",
         "line": {
          "color": "#636efa",
          "dash": "solid"
         },
         "marker": {
          "symbol": "circle"
         },
         "mode": "lines",
         "name": "",
         "orientation": "v",
         "showlegend": false,
         "x": [
          "2006-12-17T00:00:00",
          "2006-12-24T00:00:00",
          "2006-12-31T00:00:00",
          "2007-01-07T00:00:00",
          "2007-01-14T00:00:00",
          "2007-01-21T00:00:00",
          "2007-01-28T00:00:00",
          "2007-02-04T00:00:00",
          "2007-02-11T00:00:00",
          "2007-02-18T00:00:00",
          "2007-02-25T00:00:00",
          "2007-03-04T00:00:00",
          "2007-03-11T00:00:00",
          "2007-03-18T00:00:00",
          "2007-03-25T00:00:00",
          "2007-04-01T00:00:00",
          "2007-04-08T00:00:00",
          "2007-04-15T00:00:00",
          "2007-04-22T00:00:00",
          "2007-04-29T00:00:00",
          "2007-05-06T00:00:00",
          "2007-05-13T00:00:00",
          "2007-05-20T00:00:00",
          "2007-05-27T00:00:00",
          "2007-06-03T00:00:00",
          "2007-06-10T00:00:00",
          "2007-06-17T00:00:00",
          "2007-06-24T00:00:00",
          "2007-07-01T00:00:00",
          "2007-07-08T00:00:00",
          "2007-07-15T00:00:00",
          "2007-07-22T00:00:00",
          "2007-07-29T00:00:00",
          "2007-08-05T00:00:00",
          "2007-08-12T00:00:00",
          "2007-08-19T00:00:00",
          "2007-08-26T00:00:00",
          "2007-09-02T00:00:00",
          "2007-09-09T00:00:00",
          "2007-09-16T00:00:00",
          "2007-09-23T00:00:00",
          "2007-09-30T00:00:00",
          "2007-10-07T00:00:00",
          "2007-10-14T00:00:00",
          "2007-10-21T00:00:00",
          "2007-10-28T00:00:00",
          "2007-11-04T00:00:00",
          "2007-11-11T00:00:00",
          "2007-11-18T00:00:00",
          "2007-11-25T00:00:00",
          "2007-12-02T00:00:00",
          "2007-12-09T00:00:00",
          "2007-12-16T00:00:00",
          "2007-12-23T00:00:00",
          "2007-12-30T00:00:00",
          "2008-01-06T00:00:00",
          "2008-01-13T00:00:00",
          "2008-01-20T00:00:00",
          "2008-01-27T00:00:00",
          "2008-02-03T00:00:00",
          "2008-02-10T00:00:00",
          "2008-02-17T00:00:00",
          "2008-02-24T00:00:00",
          "2008-03-02T00:00:00",
          "2008-03-09T00:00:00",
          "2008-03-16T00:00:00",
          "2008-03-23T00:00:00",
          "2008-03-30T00:00:00",
          "2008-04-06T00:00:00",
          "2008-04-13T00:00:00",
          "2008-04-20T00:00:00",
          "2008-04-27T00:00:00",
          "2008-05-04T00:00:00",
          "2008-05-11T00:00:00",
          "2008-05-18T00:00:00",
          "2008-05-25T00:00:00",
          "2008-06-01T00:00:00",
          "2008-06-08T00:00:00",
          "2008-06-15T00:00:00",
          "2008-06-22T00:00:00",
          "2008-06-29T00:00:00",
          "2008-07-06T00:00:00",
          "2008-07-13T00:00:00",
          "2008-07-20T00:00:00",
          "2008-07-27T00:00:00",
          "2008-08-03T00:00:00",
          "2008-08-10T00:00:00",
          "2008-08-17T00:00:00",
          "2008-08-24T00:00:00",
          "2008-08-31T00:00:00",
          "2008-09-07T00:00:00",
          "2008-09-14T00:00:00",
          "2008-09-21T00:00:00",
          "2008-09-28T00:00:00",
          "2008-10-05T00:00:00",
          "2008-10-12T00:00:00",
          "2008-10-19T00:00:00",
          "2008-10-26T00:00:00",
          "2008-11-02T00:00:00",
          "2008-11-09T00:00:00",
          "2008-11-16T00:00:00",
          "2008-11-23T00:00:00",
          "2008-11-30T00:00:00",
          "2008-12-07T00:00:00",
          "2008-12-14T00:00:00",
          "2008-12-21T00:00:00",
          "2008-12-28T00:00:00",
          "2009-01-04T00:00:00",
          "2009-01-11T00:00:00",
          "2009-01-18T00:00:00",
          "2009-01-25T00:00:00",
          "2009-02-01T00:00:00",
          "2009-02-08T00:00:00",
          "2009-02-15T00:00:00",
          "2009-02-22T00:00:00",
          "2009-03-01T00:00:00",
          "2009-03-08T00:00:00",
          "2009-03-15T00:00:00",
          "2009-03-22T00:00:00",
          "2009-03-29T00:00:00",
          "2009-04-05T00:00:00",
          "2009-04-12T00:00:00",
          "2009-04-19T00:00:00",
          "2009-04-26T00:00:00",
          "2009-05-03T00:00:00",
          "2009-05-10T00:00:00",
          "2009-05-17T00:00:00",
          "2009-05-24T00:00:00",
          "2009-05-31T00:00:00",
          "2009-06-07T00:00:00",
          "2009-06-14T00:00:00",
          "2009-06-21T00:00:00",
          "2009-06-28T00:00:00",
          "2009-07-05T00:00:00",
          "2009-07-12T00:00:00",
          "2009-07-19T00:00:00",
          "2009-07-26T00:00:00",
          "2009-08-02T00:00:00",
          "2009-08-09T00:00:00",
          "2009-08-16T00:00:00",
          "2009-08-23T00:00:00",
          "2009-08-30T00:00:00",
          "2009-09-06T00:00:00",
          "2009-09-13T00:00:00",
          "2009-09-20T00:00:00",
          "2009-09-27T00:00:00",
          "2009-10-04T00:00:00",
          "2009-10-11T00:00:00",
          "2009-10-18T00:00:00",
          "2009-10-25T00:00:00",
          "2009-11-01T00:00:00",
          "2009-11-08T00:00:00",
          "2009-11-15T00:00:00",
          "2009-11-22T00:00:00",
          "2009-11-29T00:00:00",
          "2009-12-06T00:00:00",
          "2009-12-13T00:00:00",
          "2009-12-20T00:00:00",
          "2009-12-27T00:00:00",
          "2010-01-03T00:00:00",
          "2010-01-10T00:00:00",
          "2010-01-17T00:00:00",
          "2010-01-24T00:00:00",
          "2010-01-31T00:00:00",
          "2010-02-07T00:00:00",
          "2010-02-14T00:00:00",
          "2010-02-21T00:00:00",
          "2010-02-28T00:00:00",
          "2010-03-07T00:00:00",
          "2010-03-14T00:00:00",
          "2010-03-21T00:00:00",
          "2010-03-28T00:00:00",
          "2010-04-04T00:00:00",
          "2010-04-11T00:00:00",
          "2010-04-18T00:00:00",
          "2010-04-25T00:00:00",
          "2010-05-02T00:00:00",
          "2010-05-09T00:00:00",
          "2010-05-16T00:00:00",
          "2010-05-23T00:00:00",
          "2010-05-30T00:00:00",
          "2010-06-06T00:00:00",
          "2010-06-13T00:00:00",
          "2010-06-20T00:00:00",
          "2010-06-27T00:00:00",
          "2010-07-04T00:00:00",
          "2010-07-11T00:00:00",
          "2010-07-18T00:00:00",
          "2010-07-25T00:00:00",
          "2010-08-01T00:00:00",
          "2010-08-08T00:00:00",
          "2010-08-15T00:00:00",
          "2010-08-22T00:00:00",
          "2010-08-29T00:00:00",
          "2010-09-05T00:00:00",
          "2010-09-12T00:00:00",
          "2010-09-19T00:00:00",
          "2010-09-26T00:00:00",
          "2010-10-03T00:00:00",
          "2010-10-10T00:00:00",
          "2010-10-17T00:00:00",
          "2010-10-24T00:00:00",
          "2010-10-31T00:00:00",
          "2010-11-07T00:00:00",
          "2010-11-14T00:00:00",
          "2010-11-21T00:00:00",
          "2010-11-28T00:00:00",
          "2010-12-05T00:00:00",
          "2010-12-12T00:00:00"
         ],
         "xaxis": "x",
         "y": [
          6.186500000000004,
          6.952419999999998,
          6.749259999999994,
          5.635039999999979,
          6.64730999999999,
          7.2004199999999985,
          5.911629999999997,
          5.166839999999996,
          4.658469999999994,
          6.270939999999988,
          6.520939999999988,
          6.457459999999977,
          5.1545499999999524,
          5.630419999999998,
          6.134,
          5.931209999999999,
          6.418,
          5.3913599999999855,
          5.234469999999994,
          4.212049999999996,
          6.244299999999973,
          5.101209999999999,
          5.119209999999999,
          5.459629999999997,
          4.696199999999982,
          5.195629999999998,
          5.738099999999991,
          3.6525199999999893,
          6.1308399999999965,
          5.476419999999998,
          5.452049999999995,
          4.214469999999994,
          4.457209999999999,
          5.430839999999996,
          5.890419999999998,
          4.756569999999985,
          5.252,
          4.851209999999999,
          4.892419999999998,
          6.172,
          5.211979999999967,
          5.83,
          5.788419999999998,
          5.8713099999999905,
          5.5772599999999946,
          5.621209999999999,
          6.1917799999999845,
          4.8756299999999975,
          5.984839999999997,
          6.046419999999998,
          5.802419999999998,
          5.412419999999998,
          6.044,
          6.8056799999999935,
          7.040839999999996,
          4.9424199999999985,
          5.575089999999975,
          6.192519999999989,
          6.840419999999998,
          6.749469999999906,
          4.1548399999999965,
          5.094939999999988,
          5.628519999999989,
          4.087629999999997,
          5.0236799999999935,
          5.660049999999996,
          5.807629999999997,
          5.33,
          5.507209999999999,
          5.506419999999998,
          6.135559999999968,
          4.459309999999991,
          6.254669999999977,
          5.7004199999999985,
          5.542149999999987,
          5.310469999999993,
          5.094419999999998,
          5.634669999999977,
          5.913779999999984,
          4.976049999999995,
          4.520469999999993,
          5.149729999999989,
          4.856,
          4.547629999999997,
          3.7193099999999903,
          5.6232099999999985,
          5.898469999999993,
          3.9620999999999915,
          0.894,
          3.956,
          5.151259999999994,
          5.328419999999998,
          4.621209999999999,
          5.534299999999973,
          5.4984199999999985,
          4.580349999999969,
          6.447039999999979,
          5.656419999999998,
          4.3296799999999935,
          4.259629999999997,
          5.829209999999999,
          6.9454599999999775,
          5.815209999999999,
          6.523309999999991,
          5.656889999999992,
          5.9583999999999655,
          4.618419999999998,
          5.72851999999999,
          4.336419999999998,
          6.825359999999986,
          6.169209999999999,
          6.237259999999995,
          3.9716299999999976,
          4.565729999999989,
          6.2404199999999985,
          5.47034999999997,
          4.799629999999997,
          5.460469999999994,
          5.046989999999983,
          5.023209999999999,
          5.202889999999992,
          4.522419999999998,
          5.583259999999995,
          4.798519999999989,
          4.338939999999988,
          4.144419999999998,
          5.318719999999972,
          4.285209999999998,
          4.073679999999993,
          4.411629999999997,
          4.794919999999955,
          3.95,
          3.9316299999999975,
          5.7825699999999856,
          4.960199999999983,
          2.970419999999998,
          2.411209999999999,
          4.883209999999999,
          4.863389999999948,
          5.034049999999995,
          4.450049999999996,
          4.596419999999998,
          4.783209999999999,
          4.6472099999999985,
          5.194419999999998,
          4.557209999999999,
          5.206,
          5.02,
          5.3294099999999816,
          5.625209999999999,
          5.438899999999921,
          6.104839999999996,
          5.866469999999993,
          6.330839999999996,
          5.448049999999996,
          5.951209999999999,
          5.213209999999999,
          4.7952599999999945,
          6.311629999999997,
          5.162049999999995,
          4.385209999999999,
          5.559320000000007,
          6.0876799999999935,
          5.949629999999997,
          5.056939999999988,
          5.528830000000002,
          6.118939999999988,
          5.062839999999996,
          5.194839999999997,
          5.074,
          4.299259999999995,
          4.877629999999997,
          4.493209999999999,
          5.912,
          4.400540000000008,
          4.003209999999998,
          3.806419999999998,
          4.534469999999994,
          5.36,
          4.28,
          4.476419999999998,
          5.222349999999969,
          4.0766400000000145,
          4.209209999999999,
          4.539309999999991,
          4.656,
          3.693729999999989,
          3.915220000000001,
          3.1556799999999927,
          3.3294599999999774,
          5.8488399999999965,
          3.9652200000000013,
          2.5500499999999957,
          4.516,
          5.617309999999991,
          4.4276100000000005,
          4.593209999999999,
          3.667209999999999,
          5.177209999999999,
          4.767209999999999,
          5.132,
          5.777209999999998,
          4.201359999999986,
          5.255629999999997,
          4.905220000000001,
          5.2690899999999745,
          4.600240000000006,
          4.420080000000001,
          3.9816600000000033
         ],
         "yaxis": "y",
         "type": "scatter"
        }
       ],
       "layout": {
        "template": {
         "data": {
          "bar": [
           {
            "error_x": {
             "color": "#2a3f5f"
            },
            "error_y": {
             "color": "#2a3f5f"
            },
            "marker": {
             "line": {
              "color": "#E5ECF6",
              "width": 0.5
             },
             "pattern": {
              "fillmode": "overlay",
              "size": 10,
              "solidity": 0.2
             }
            },
            "type": "bar"
           }
          ],
          "barpolar": [
           {
            "marker": {
             "line": {
              "color": "#E5ECF6",
              "width": 0.5
             },
             "pattern": {
              "fillmode": "overlay",
              "size": 10,
              "solidity": 0.2
             }
            },
            "type": "barpolar"
           }
          ],
          "carpet": [
           {
            "aaxis": {
             "endlinecolor": "#2a3f5f",
             "gridcolor": "white",
             "linecolor": "white",
             "minorgridcolor": "white",
             "startlinecolor": "#2a3f5f"
            },
            "baxis": {
             "endlinecolor": "#2a3f5f",
             "gridcolor": "white",
             "linecolor": "white",
             "minorgridcolor": "white",
             "startlinecolor": "#2a3f5f"
            },
            "type": "carpet"
           }
          ],
          "choropleth": [
           {
            "colorbar": {
             "outlinewidth": 0,
             "ticks": ""
            },
            "type": "choropleth"
           }
          ],
          "contour": [
           {
            "colorbar": {
             "outlinewidth": 0,
             "ticks": ""
            },
            "colorscale": [
             [
              0.0,
              "#0d0887"
             ],
             [
              0.1111111111111111,
              "#46039f"
             ],
             [
              0.2222222222222222,
              "#7201a8"
             ],
             [
              0.3333333333333333,
              "#9c179e"
             ],
             [
              0.4444444444444444,
              "#bd3786"
             ],
             [
              0.5555555555555556,
              "#d8576b"
             ],
             [
              0.6666666666666666,
              "#ed7953"
             ],
             [
              0.7777777777777778,
              "#fb9f3a"
             ],
             [
              0.8888888888888888,
              "#fdca26"
             ],
             [
              1.0,
              "#f0f921"
             ]
            ],
            "type": "contour"
           }
          ],
          "contourcarpet": [
           {
            "colorbar": {
             "outlinewidth": 0,
             "ticks": ""
            },
            "type": "contourcarpet"
           }
          ],
          "heatmap": [
           {
            "colorbar": {
             "outlinewidth": 0,
             "ticks": ""
            },
            "colorscale": [
             [
              0.0,
              "#0d0887"
             ],
             [
              0.1111111111111111,
              "#46039f"
             ],
             [
              0.2222222222222222,
              "#7201a8"
             ],
             [
              0.3333333333333333,
              "#9c179e"
             ],
             [
              0.4444444444444444,
              "#bd3786"
             ],
             [
              0.5555555555555556,
              "#d8576b"
             ],
             [
              0.6666666666666666,
              "#ed7953"
             ],
             [
              0.7777777777777778,
              "#fb9f3a"
             ],
             [
              0.8888888888888888,
              "#fdca26"
             ],
             [
              1.0,
              "#f0f921"
             ]
            ],
            "type": "heatmap"
           }
          ],
          "heatmapgl": [
           {
            "colorbar": {
             "outlinewidth": 0,
             "ticks": ""
            },
            "colorscale": [
             [
              0.0,
              "#0d0887"
             ],
             [
              0.1111111111111111,
              "#46039f"
             ],
             [
              0.2222222222222222,
              "#7201a8"
             ],
             [
              0.3333333333333333,
              "#9c179e"
             ],
             [
              0.4444444444444444,
              "#bd3786"
             ],
             [
              0.5555555555555556,
              "#d8576b"
             ],
             [
              0.6666666666666666,
              "#ed7953"
             ],
             [
              0.7777777777777778,
              "#fb9f3a"
             ],
             [
              0.8888888888888888,
              "#fdca26"
             ],
             [
              1.0,
              "#f0f921"
             ]
            ],
            "type": "heatmapgl"
           }
          ],
          "histogram": [
           {
            "marker": {
             "pattern": {
              "fillmode": "overlay",
              "size": 10,
              "solidity": 0.2
             }
            },
            "type": "histogram"
           }
          ],
          "histogram2d": [
           {
            "colorbar": {
             "outlinewidth": 0,
             "ticks": ""
            },
            "colorscale": [
             [
              0.0,
              "#0d0887"
             ],
             [
              0.1111111111111111,
              "#46039f"
             ],
             [
              0.2222222222222222,
              "#7201a8"
             ],
             [
              0.3333333333333333,
              "#9c179e"
             ],
             [
              0.4444444444444444,
              "#bd3786"
             ],
             [
              0.5555555555555556,
              "#d8576b"
             ],
             [
              0.6666666666666666,
              "#ed7953"
             ],
             [
              0.7777777777777778,
              "#fb9f3a"
             ],
             [
              0.8888888888888888,
              "#fdca26"
             ],
             [
              1.0,
              "#f0f921"
             ]
            ],
            "type": "histogram2d"
           }
          ],
          "histogram2dcontour": [
           {
            "colorbar": {
             "outlinewidth": 0,
             "ticks": ""
            },
            "colorscale": [
             [
              0.0,
              "#0d0887"
             ],
             [
              0.1111111111111111,
              "#46039f"
             ],
             [
              0.2222222222222222,
              "#7201a8"
             ],
             [
              0.3333333333333333,
              "#9c179e"
             ],
             [
              0.4444444444444444,
              "#bd3786"
             ],
             [
              0.5555555555555556,
              "#d8576b"
             ],
             [
              0.6666666666666666,
              "#ed7953"
             ],
             [
              0.7777777777777778,
              "#fb9f3a"
             ],
             [
              0.8888888888888888,
              "#fdca26"
             ],
             [
              1.0,
              "#f0f921"
             ]
            ],
            "type": "histogram2dcontour"
           }
          ],
          "mesh3d": [
           {
            "colorbar": {
             "outlinewidth": 0,
             "ticks": ""
            },
            "type": "mesh3d"
           }
          ],
          "parcoords": [
           {
            "line": {
             "colorbar": {
              "outlinewidth": 0,
              "ticks": ""
             }
            },
            "type": "parcoords"
           }
          ],
          "pie": [
           {
            "automargin": true,
            "type": "pie"
           }
          ],
          "scatter": [
           {
            "marker": {
             "colorbar": {
              "outlinewidth": 0,
              "ticks": ""
             }
            },
            "type": "scatter"
           }
          ],
          "scatter3d": [
           {
            "line": {
             "colorbar": {
              "outlinewidth": 0,
              "ticks": ""
             }
            },
            "marker": {
             "colorbar": {
              "outlinewidth": 0,
              "ticks": ""
             }
            },
            "type": "scatter3d"
           }
          ],
          "scattercarpet": [
           {
            "marker": {
             "colorbar": {
              "outlinewidth": 0,
              "ticks": ""
             }
            },
            "type": "scattercarpet"
           }
          ],
          "scattergeo": [
           {
            "marker": {
             "colorbar": {
              "outlinewidth": 0,
              "ticks": ""
             }
            },
            "type": "scattergeo"
           }
          ],
          "scattergl": [
           {
            "marker": {
             "colorbar": {
              "outlinewidth": 0,
              "ticks": ""
             }
            },
            "type": "scattergl"
           }
          ],
          "scattermapbox": [
           {
            "marker": {
             "colorbar": {
              "outlinewidth": 0,
              "ticks": ""
             }
            },
            "type": "scattermapbox"
           }
          ],
          "scatterpolar": [
           {
            "marker": {
             "colorbar": {
              "outlinewidth": 0,
              "ticks": ""
             }
            },
            "type": "scatterpolar"
           }
          ],
          "scatterpolargl": [
           {
            "marker": {
             "colorbar": {
              "outlinewidth": 0,
              "ticks": ""
             }
            },
            "type": "scatterpolargl"
           }
          ],
          "scatterternary": [
           {
            "marker": {
             "colorbar": {
              "outlinewidth": 0,
              "ticks": ""
             }
            },
            "type": "scatterternary"
           }
          ],
          "surface": [
           {
            "colorbar": {
             "outlinewidth": 0,
             "ticks": ""
            },
            "colorscale": [
             [
              0.0,
              "#0d0887"
             ],
             [
              0.1111111111111111,
              "#46039f"
             ],
             [
              0.2222222222222222,
              "#7201a8"
             ],
             [
              0.3333333333333333,
              "#9c179e"
             ],
             [
              0.4444444444444444,
              "#bd3786"
             ],
             [
              0.5555555555555556,
              "#d8576b"
             ],
             [
              0.6666666666666666,
              "#ed7953"
             ],
             [
              0.7777777777777778,
              "#fb9f3a"
             ],
             [
              0.8888888888888888,
              "#fdca26"
             ],
             [
              1.0,
              "#f0f921"
             ]
            ],
            "type": "surface"
           }
          ],
          "table": [
           {
            "cells": {
             "fill": {
              "color": "#EBF0F8"
             },
             "line": {
              "color": "white"
             }
            },
            "header": {
             "fill": {
              "color": "#C8D4E3"
             },
             "line": {
              "color": "white"
             }
            },
            "type": "table"
           }
          ]
         },
         "layout": {
          "annotationdefaults": {
           "arrowcolor": "#2a3f5f",
           "arrowhead": 0,
           "arrowwidth": 1
          },
          "autotypenumbers": "strict",
          "coloraxis": {
           "colorbar": {
            "outlinewidth": 0,
            "ticks": ""
           }
          },
          "colorscale": {
           "diverging": [
            [
             0,
             "#8e0152"
            ],
            [
             0.1,
             "#c51b7d"
            ],
            [
             0.2,
             "#de77ae"
            ],
            [
             0.3,
             "#f1b6da"
            ],
            [
             0.4,
             "#fde0ef"
            ],
            [
             0.5,
             "#f7f7f7"
            ],
            [
             0.6,
             "#e6f5d0"
            ],
            [
             0.7,
             "#b8e186"
            ],
            [
             0.8,
             "#7fbc41"
            ],
            [
             0.9,
             "#4d9221"
            ],
            [
             1,
             "#276419"
            ]
           ],
           "sequential": [
            [
             0.0,
             "#0d0887"
            ],
            [
             0.1111111111111111,
             "#46039f"
            ],
            [
             0.2222222222222222,
             "#7201a8"
            ],
            [
             0.3333333333333333,
             "#9c179e"
            ],
            [
             0.4444444444444444,
             "#bd3786"
            ],
            [
             0.5555555555555556,
             "#d8576b"
            ],
            [
             0.6666666666666666,
             "#ed7953"
            ],
            [
             0.7777777777777778,
             "#fb9f3a"
            ],
            [
             0.8888888888888888,
             "#fdca26"
            ],
            [
             1.0,
             "#f0f921"
            ]
           ],
           "sequentialminus": [
            [
             0.0,
             "#0d0887"
            ],
            [
             0.1111111111111111,
             "#46039f"
            ],
            [
             0.2222222222222222,
             "#7201a8"
            ],
            [
             0.3333333333333333,
             "#9c179e"
            ],
            [
             0.4444444444444444,
             "#bd3786"
            ],
            [
             0.5555555555555556,
             "#d8576b"
            ],
            [
             0.6666666666666666,
             "#ed7953"
            ],
            [
             0.7777777777777778,
             "#fb9f3a"
            ],
            [
             0.8888888888888888,
             "#fdca26"
            ],
            [
             1.0,
             "#f0f921"
            ]
           ]
          },
          "colorway": [
           "#636efa",
           "#EF553B",
           "#00cc96",
           "#ab63fa",
           "#FFA15A",
           "#19d3f3",
           "#FF6692",
           "#B6E880",
           "#FF97FF",
           "#FECB52"
          ],
          "font": {
           "color": "#2a3f5f"
          },
          "geo": {
           "bgcolor": "white",
           "lakecolor": "white",
           "landcolor": "#E5ECF6",
           "showlakes": true,
           "showland": true,
           "subunitcolor": "white"
          },
          "hoverlabel": {
           "align": "left"
          },
          "hovermode": "closest",
          "mapbox": {
           "style": "light"
          },
          "paper_bgcolor": "white",
          "plot_bgcolor": "#E5ECF6",
          "polar": {
           "angularaxis": {
            "gridcolor": "white",
            "linecolor": "white",
            "ticks": ""
           },
           "bgcolor": "#E5ECF6",
           "radialaxis": {
            "gridcolor": "white",
            "linecolor": "white",
            "ticks": ""
           }
          },
          "scene": {
           "xaxis": {
            "backgroundcolor": "#E5ECF6",
            "gridcolor": "white",
            "gridwidth": 2,
            "linecolor": "white",
            "showbackground": true,
            "ticks": "",
            "zerolinecolor": "white"
           },
           "yaxis": {
            "backgroundcolor": "#E5ECF6",
            "gridcolor": "white",
            "gridwidth": 2,
            "linecolor": "white",
            "showbackground": true,
            "ticks": "",
            "zerolinecolor": "white"
           },
           "zaxis": {
            "backgroundcolor": "#E5ECF6",
            "gridcolor": "white",
            "gridwidth": 2,
            "linecolor": "white",
            "showbackground": true,
            "ticks": "",
            "zerolinecolor": "white"
           }
          },
          "shapedefaults": {
           "line": {
            "color": "#2a3f5f"
           }
          },
          "ternary": {
           "aaxis": {
            "gridcolor": "white",
            "linecolor": "white",
            "ticks": ""
           },
           "baxis": {
            "gridcolor": "white",
            "linecolor": "white",
            "ticks": ""
           },
           "bgcolor": "#E5ECF6",
           "caxis": {
            "gridcolor": "white",
            "linecolor": "white",
            "ticks": ""
           }
          },
          "title": {
           "x": 0.05
          },
          "xaxis": {
           "automargin": true,
           "gridcolor": "white",
           "linecolor": "white",
           "ticks": "",
           "title": {
            "standoff": 15
           },
           "zerolinecolor": "white",
           "zerolinewidth": 2
          },
          "yaxis": {
           "automargin": true,
           "gridcolor": "white",
           "linecolor": "white",
           "ticks": "",
           "title": {
            "standoff": 15
           },
           "zerolinecolor": "white",
           "zerolinewidth": 2
          }
         }
        },
        "xaxis": {
         "anchor": "y",
         "domain": [
          0.0,
          1.0
         ],
         "title": {
          "text": "Time"
         }
        },
        "yaxis": {
         "anchor": "x",
         "domain": [
          0.0,
          1.0
         ],
         "title": {
          "text": "Global_active_power"
         }
        },
        "legend": {
         "tracegroupgap": 0
        },
        "margin": {
         "t": 60
        },
        "title": {
         "text": "Weekly Global_active_power"
        },
        "width": 800
       },
       "config": {
        "plotlyServerURL": "https://plot.ly"
       }
      },
      "text/html": "<div>                            <div id=\"81903164-44f6-4768-946b-6a24da8796e4\" class=\"plotly-graph-div\" style=\"height:525px; width:800px;\"></div>            <script type=\"text/javascript\">                require([\"plotly\"], function(Plotly) {                    window.PLOTLYENV=window.PLOTLYENV || {};                                    if (document.getElementById(\"81903164-44f6-4768-946b-6a24da8796e4\")) {                    Plotly.newPlot(                        \"81903164-44f6-4768-946b-6a24da8796e4\",                        [{\"hovertemplate\":\"x=%{x}<br>y=%{y}<extra></extra>\",\"legendgroup\":\"\",\"line\":{\"color\":\"#636efa\",\"dash\":\"solid\"},\"marker\":{\"symbol\":\"circle\"},\"mode\":\"lines\",\"name\":\"\",\"orientation\":\"v\",\"showlegend\":false,\"x\":[\"2006-12-17T00:00:00\",\"2006-12-24T00:00:00\",\"2006-12-31T00:00:00\",\"2007-01-07T00:00:00\",\"2007-01-14T00:00:00\",\"2007-01-21T00:00:00\",\"2007-01-28T00:00:00\",\"2007-02-04T00:00:00\",\"2007-02-11T00:00:00\",\"2007-02-18T00:00:00\",\"2007-02-25T00:00:00\",\"2007-03-04T00:00:00\",\"2007-03-11T00:00:00\",\"2007-03-18T00:00:00\",\"2007-03-25T00:00:00\",\"2007-04-01T00:00:00\",\"2007-04-08T00:00:00\",\"2007-04-15T00:00:00\",\"2007-04-22T00:00:00\",\"2007-04-29T00:00:00\",\"2007-05-06T00:00:00\",\"2007-05-13T00:00:00\",\"2007-05-20T00:00:00\",\"2007-05-27T00:00:00\",\"2007-06-03T00:00:00\",\"2007-06-10T00:00:00\",\"2007-06-17T00:00:00\",\"2007-06-24T00:00:00\",\"2007-07-01T00:00:00\",\"2007-07-08T00:00:00\",\"2007-07-15T00:00:00\",\"2007-07-22T00:00:00\",\"2007-07-29T00:00:00\",\"2007-08-05T00:00:00\",\"2007-08-12T00:00:00\",\"2007-08-19T00:00:00\",\"2007-08-26T00:00:00\",\"2007-09-02T00:00:00\",\"2007-09-09T00:00:00\",\"2007-09-16T00:00:00\",\"2007-09-23T00:00:00\",\"2007-09-30T00:00:00\",\"2007-10-07T00:00:00\",\"2007-10-14T00:00:00\",\"2007-10-21T00:00:00\",\"2007-10-28T00:00:00\",\"2007-11-04T00:00:00\",\"2007-11-11T00:00:00\",\"2007-11-18T00:00:00\",\"2007-11-25T00:00:00\",\"2007-12-02T00:00:00\",\"2007-12-09T00:00:00\",\"2007-12-16T00:00:00\",\"2007-12-23T00:00:00\",\"2007-12-30T00:00:00\",\"2008-01-06T00:00:00\",\"2008-01-13T00:00:00\",\"2008-01-20T00:00:00\",\"2008-01-27T00:00:00\",\"2008-02-03T00:00:00\",\"2008-02-10T00:00:00\",\"2008-02-17T00:00:00\",\"2008-02-24T00:00:00\",\"2008-03-02T00:00:00\",\"2008-03-09T00:00:00\",\"2008-03-16T00:00:00\",\"2008-03-23T00:00:00\",\"2008-03-30T00:00:00\",\"2008-04-06T00:00:00\",\"2008-04-13T00:00:00\",\"2008-04-20T00:00:00\",\"2008-04-27T00:00:00\",\"2008-05-04T00:00:00\",\"2008-05-11T00:00:00\",\"2008-05-18T00:00:00\",\"2008-05-25T00:00:00\",\"2008-06-01T00:00:00\",\"2008-06-08T00:00:00\",\"2008-06-15T00:00:00\",\"2008-06-22T00:00:00\",\"2008-06-29T00:00:00\",\"2008-07-06T00:00:00\",\"2008-07-13T00:00:00\",\"2008-07-20T00:00:00\",\"2008-07-27T00:00:00\",\"2008-08-03T00:00:00\",\"2008-08-10T00:00:00\",\"2008-08-17T00:00:00\",\"2008-08-24T00:00:00\",\"2008-08-31T00:00:00\",\"2008-09-07T00:00:00\",\"2008-09-14T00:00:00\",\"2008-09-21T00:00:00\",\"2008-09-28T00:00:00\",\"2008-10-05T00:00:00\",\"2008-10-12T00:00:00\",\"2008-10-19T00:00:00\",\"2008-10-26T00:00:00\",\"2008-11-02T00:00:00\",\"2008-11-09T00:00:00\",\"2008-11-16T00:00:00\",\"2008-11-23T00:00:00\",\"2008-11-30T00:00:00\",\"2008-12-07T00:00:00\",\"2008-12-14T00:00:00\",\"2008-12-21T00:00:00\",\"2008-12-28T00:00:00\",\"2009-01-04T00:00:00\",\"2009-01-11T00:00:00\",\"2009-01-18T00:00:00\",\"2009-01-25T00:00:00\",\"2009-02-01T00:00:00\",\"2009-02-08T00:00:00\",\"2009-02-15T00:00:00\",\"2009-02-22T00:00:00\",\"2009-03-01T00:00:00\",\"2009-03-08T00:00:00\",\"2009-03-15T00:00:00\",\"2009-03-22T00:00:00\",\"2009-03-29T00:00:00\",\"2009-04-05T00:00:00\",\"2009-04-12T00:00:00\",\"2009-04-19T00:00:00\",\"2009-04-26T00:00:00\",\"2009-05-03T00:00:00\",\"2009-05-10T00:00:00\",\"2009-05-17T00:00:00\",\"2009-05-24T00:00:00\",\"2009-05-31T00:00:00\",\"2009-06-07T00:00:00\",\"2009-06-14T00:00:00\",\"2009-06-21T00:00:00\",\"2009-06-28T00:00:00\",\"2009-07-05T00:00:00\",\"2009-07-12T00:00:00\",\"2009-07-19T00:00:00\",\"2009-07-26T00:00:00\",\"2009-08-02T00:00:00\",\"2009-08-09T00:00:00\",\"2009-08-16T00:00:00\",\"2009-08-23T00:00:00\",\"2009-08-30T00:00:00\",\"2009-09-06T00:00:00\",\"2009-09-13T00:00:00\",\"2009-09-20T00:00:00\",\"2009-09-27T00:00:00\",\"2009-10-04T00:00:00\",\"2009-10-11T00:00:00\",\"2009-10-18T00:00:00\",\"2009-10-25T00:00:00\",\"2009-11-01T00:00:00\",\"2009-11-08T00:00:00\",\"2009-11-15T00:00:00\",\"2009-11-22T00:00:00\",\"2009-11-29T00:00:00\",\"2009-12-06T00:00:00\",\"2009-12-13T00:00:00\",\"2009-12-20T00:00:00\",\"2009-12-27T00:00:00\",\"2010-01-03T00:00:00\",\"2010-01-10T00:00:00\",\"2010-01-17T00:00:00\",\"2010-01-24T00:00:00\",\"2010-01-31T00:00:00\",\"2010-02-07T00:00:00\",\"2010-02-14T00:00:00\",\"2010-02-21T00:00:00\",\"2010-02-28T00:00:00\",\"2010-03-07T00:00:00\",\"2010-03-14T00:00:00\",\"2010-03-21T00:00:00\",\"2010-03-28T00:00:00\",\"2010-04-04T00:00:00\",\"2010-04-11T00:00:00\",\"2010-04-18T00:00:00\",\"2010-04-25T00:00:00\",\"2010-05-02T00:00:00\",\"2010-05-09T00:00:00\",\"2010-05-16T00:00:00\",\"2010-05-23T00:00:00\",\"2010-05-30T00:00:00\",\"2010-06-06T00:00:00\",\"2010-06-13T00:00:00\",\"2010-06-20T00:00:00\",\"2010-06-27T00:00:00\",\"2010-07-04T00:00:00\",\"2010-07-11T00:00:00\",\"2010-07-18T00:00:00\",\"2010-07-25T00:00:00\",\"2010-08-01T00:00:00\",\"2010-08-08T00:00:00\",\"2010-08-15T00:00:00\",\"2010-08-22T00:00:00\",\"2010-08-29T00:00:00\",\"2010-09-05T00:00:00\",\"2010-09-12T00:00:00\",\"2010-09-19T00:00:00\",\"2010-09-26T00:00:00\",\"2010-10-03T00:00:00\",\"2010-10-10T00:00:00\",\"2010-10-17T00:00:00\",\"2010-10-24T00:00:00\",\"2010-10-31T00:00:00\",\"2010-11-07T00:00:00\",\"2010-11-14T00:00:00\",\"2010-11-21T00:00:00\",\"2010-11-28T00:00:00\",\"2010-12-05T00:00:00\",\"2010-12-12T00:00:00\"],\"xaxis\":\"x\",\"y\":[6.186500000000004,6.952419999999998,6.749259999999994,5.635039999999979,6.64730999999999,7.2004199999999985,5.911629999999997,5.166839999999996,4.658469999999994,6.270939999999988,6.520939999999988,6.457459999999977,5.1545499999999524,5.630419999999998,6.134,5.931209999999999,6.418,5.3913599999999855,5.234469999999994,4.212049999999996,6.244299999999973,5.101209999999999,5.119209999999999,5.459629999999997,4.696199999999982,5.195629999999998,5.738099999999991,3.6525199999999893,6.1308399999999965,5.476419999999998,5.452049999999995,4.214469999999994,4.457209999999999,5.430839999999996,5.890419999999998,4.756569999999985,5.252,4.851209999999999,4.892419999999998,6.172,5.211979999999967,5.83,5.788419999999998,5.8713099999999905,5.5772599999999946,5.621209999999999,6.1917799999999845,4.8756299999999975,5.984839999999997,6.046419999999998,5.802419999999998,5.412419999999998,6.044,6.8056799999999935,7.040839999999996,4.9424199999999985,5.575089999999975,6.192519999999989,6.840419999999998,6.749469999999906,4.1548399999999965,5.094939999999988,5.628519999999989,4.087629999999997,5.0236799999999935,5.660049999999996,5.807629999999997,5.33,5.507209999999999,5.506419999999998,6.135559999999968,4.459309999999991,6.254669999999977,5.7004199999999985,5.542149999999987,5.310469999999993,5.094419999999998,5.634669999999977,5.913779999999984,4.976049999999995,4.520469999999993,5.149729999999989,4.856,4.547629999999997,3.7193099999999903,5.6232099999999985,5.898469999999993,3.9620999999999915,0.894,3.956,5.151259999999994,5.328419999999998,4.621209999999999,5.534299999999973,5.4984199999999985,4.580349999999969,6.447039999999979,5.656419999999998,4.3296799999999935,4.259629999999997,5.829209999999999,6.9454599999999775,5.815209999999999,6.523309999999991,5.656889999999992,5.9583999999999655,4.618419999999998,5.72851999999999,4.336419999999998,6.825359999999986,6.169209999999999,6.237259999999995,3.9716299999999976,4.565729999999989,6.2404199999999985,5.47034999999997,4.799629999999997,5.460469999999994,5.046989999999983,5.023209999999999,5.202889999999992,4.522419999999998,5.583259999999995,4.798519999999989,4.338939999999988,4.144419999999998,5.318719999999972,4.285209999999998,4.073679999999993,4.411629999999997,4.794919999999955,3.95,3.9316299999999975,5.7825699999999856,4.960199999999983,2.970419999999998,2.411209999999999,4.883209999999999,4.863389999999948,5.034049999999995,4.450049999999996,4.596419999999998,4.783209999999999,4.6472099999999985,5.194419999999998,4.557209999999999,5.206,5.02,5.3294099999999816,5.625209999999999,5.438899999999921,6.104839999999996,5.866469999999993,6.330839999999996,5.448049999999996,5.951209999999999,5.213209999999999,4.7952599999999945,6.311629999999997,5.162049999999995,4.385209999999999,5.559320000000007,6.0876799999999935,5.949629999999997,5.056939999999988,5.528830000000002,6.118939999999988,5.062839999999996,5.194839999999997,5.074,4.299259999999995,4.877629999999997,4.493209999999999,5.912,4.400540000000008,4.003209999999998,3.806419999999998,4.534469999999994,5.36,4.28,4.476419999999998,5.222349999999969,4.0766400000000145,4.209209999999999,4.539309999999991,4.656,3.693729999999989,3.915220000000001,3.1556799999999927,3.3294599999999774,5.8488399999999965,3.9652200000000013,2.5500499999999957,4.516,5.617309999999991,4.4276100000000005,4.593209999999999,3.667209999999999,5.177209999999999,4.767209999999999,5.132,5.777209999999998,4.201359999999986,5.255629999999997,4.905220000000001,5.2690899999999745,4.600240000000006,4.420080000000001,3.9816600000000033],\"yaxis\":\"y\",\"type\":\"scatter\"}],                        {\"template\":{\"data\":{\"bar\":[{\"error_x\":{\"color\":\"#2a3f5f\"},\"error_y\":{\"color\":\"#2a3f5f\"},\"marker\":{\"line\":{\"color\":\"#E5ECF6\",\"width\":0.5},\"pattern\":{\"fillmode\":\"overlay\",\"size\":10,\"solidity\":0.2}},\"type\":\"bar\"}],\"barpolar\":[{\"marker\":{\"line\":{\"color\":\"#E5ECF6\",\"width\":0.5},\"pattern\":{\"fillmode\":\"overlay\",\"size\":10,\"solidity\":0.2}},\"type\":\"barpolar\"}],\"carpet\":[{\"aaxis\":{\"endlinecolor\":\"#2a3f5f\",\"gridcolor\":\"white\",\"linecolor\":\"white\",\"minorgridcolor\":\"white\",\"startlinecolor\":\"#2a3f5f\"},\"baxis\":{\"endlinecolor\":\"#2a3f5f\",\"gridcolor\":\"white\",\"linecolor\":\"white\",\"minorgridcolor\":\"white\",\"startlinecolor\":\"#2a3f5f\"},\"type\":\"carpet\"}],\"choropleth\":[{\"colorbar\":{\"outlinewidth\":0,\"ticks\":\"\"},\"type\":\"choropleth\"}],\"contour\":[{\"colorbar\":{\"outlinewidth\":0,\"ticks\":\"\"},\"colorscale\":[[0.0,\"#0d0887\"],[0.1111111111111111,\"#46039f\"],[0.2222222222222222,\"#7201a8\"],[0.3333333333333333,\"#9c179e\"],[0.4444444444444444,\"#bd3786\"],[0.5555555555555556,\"#d8576b\"],[0.6666666666666666,\"#ed7953\"],[0.7777777777777778,\"#fb9f3a\"],[0.8888888888888888,\"#fdca26\"],[1.0,\"#f0f921\"]],\"type\":\"contour\"}],\"contourcarpet\":[{\"colorbar\":{\"outlinewidth\":0,\"ticks\":\"\"},\"type\":\"contourcarpet\"}],\"heatmap\":[{\"colorbar\":{\"outlinewidth\":0,\"ticks\":\"\"},\"colorscale\":[[0.0,\"#0d0887\"],[0.1111111111111111,\"#46039f\"],[0.2222222222222222,\"#7201a8\"],[0.3333333333333333,\"#9c179e\"],[0.4444444444444444,\"#bd3786\"],[0.5555555555555556,\"#d8576b\"],[0.6666666666666666,\"#ed7953\"],[0.7777777777777778,\"#fb9f3a\"],[0.8888888888888888,\"#fdca26\"],[1.0,\"#f0f921\"]],\"type\":\"heatmap\"}],\"heatmapgl\":[{\"colorbar\":{\"outlinewidth\":0,\"ticks\":\"\"},\"colorscale\":[[0.0,\"#0d0887\"],[0.1111111111111111,\"#46039f\"],[0.2222222222222222,\"#7201a8\"],[0.3333333333333333,\"#9c179e\"],[0.4444444444444444,\"#bd3786\"],[0.5555555555555556,\"#d8576b\"],[0.6666666666666666,\"#ed7953\"],[0.7777777777777778,\"#fb9f3a\"],[0.8888888888888888,\"#fdca26\"],[1.0,\"#f0f921\"]],\"type\":\"heatmapgl\"}],\"histogram\":[{\"marker\":{\"pattern\":{\"fillmode\":\"overlay\",\"size\":10,\"solidity\":0.2}},\"type\":\"histogram\"}],\"histogram2d\":[{\"colorbar\":{\"outlinewidth\":0,\"ticks\":\"\"},\"colorscale\":[[0.0,\"#0d0887\"],[0.1111111111111111,\"#46039f\"],[0.2222222222222222,\"#7201a8\"],[0.3333333333333333,\"#9c179e\"],[0.4444444444444444,\"#bd3786\"],[0.5555555555555556,\"#d8576b\"],[0.6666666666666666,\"#ed7953\"],[0.7777777777777778,\"#fb9f3a\"],[0.8888888888888888,\"#fdca26\"],[1.0,\"#f0f921\"]],\"type\":\"histogram2d\"}],\"histogram2dcontour\":[{\"colorbar\":{\"outlinewidth\":0,\"ticks\":\"\"},\"colorscale\":[[0.0,\"#0d0887\"],[0.1111111111111111,\"#46039f\"],[0.2222222222222222,\"#7201a8\"],[0.3333333333333333,\"#9c179e\"],[0.4444444444444444,\"#bd3786\"],[0.5555555555555556,\"#d8576b\"],[0.6666666666666666,\"#ed7953\"],[0.7777777777777778,\"#fb9f3a\"],[0.8888888888888888,\"#fdca26\"],[1.0,\"#f0f921\"]],\"type\":\"histogram2dcontour\"}],\"mesh3d\":[{\"colorbar\":{\"outlinewidth\":0,\"ticks\":\"\"},\"type\":\"mesh3d\"}],\"parcoords\":[{\"line\":{\"colorbar\":{\"outlinewidth\":0,\"ticks\":\"\"}},\"type\":\"parcoords\"}],\"pie\":[{\"automargin\":true,\"type\":\"pie\"}],\"scatter\":[{\"marker\":{\"colorbar\":{\"outlinewidth\":0,\"ticks\":\"\"}},\"type\":\"scatter\"}],\"scatter3d\":[{\"line\":{\"colorbar\":{\"outlinewidth\":0,\"ticks\":\"\"}},\"marker\":{\"colorbar\":{\"outlinewidth\":0,\"ticks\":\"\"}},\"type\":\"scatter3d\"}],\"scattercarpet\":[{\"marker\":{\"colorbar\":{\"outlinewidth\":0,\"ticks\":\"\"}},\"type\":\"scattercarpet\"}],\"scattergeo\":[{\"marker\":{\"colorbar\":{\"outlinewidth\":0,\"ticks\":\"\"}},\"type\":\"scattergeo\"}],\"scattergl\":[{\"marker\":{\"colorbar\":{\"outlinewidth\":0,\"ticks\":\"\"}},\"type\":\"scattergl\"}],\"scattermapbox\":[{\"marker\":{\"colorbar\":{\"outlinewidth\":0,\"ticks\":\"\"}},\"type\":\"scattermapbox\"}],\"scatterpolar\":[{\"marker\":{\"colorbar\":{\"outlinewidth\":0,\"ticks\":\"\"}},\"type\":\"scatterpolar\"}],\"scatterpolargl\":[{\"marker\":{\"colorbar\":{\"outlinewidth\":0,\"ticks\":\"\"}},\"type\":\"scatterpolargl\"}],\"scatterternary\":[{\"marker\":{\"colorbar\":{\"outlinewidth\":0,\"ticks\":\"\"}},\"type\":\"scatterternary\"}],\"surface\":[{\"colorbar\":{\"outlinewidth\":0,\"ticks\":\"\"},\"colorscale\":[[0.0,\"#0d0887\"],[0.1111111111111111,\"#46039f\"],[0.2222222222222222,\"#7201a8\"],[0.3333333333333333,\"#9c179e\"],[0.4444444444444444,\"#bd3786\"],[0.5555555555555556,\"#d8576b\"],[0.6666666666666666,\"#ed7953\"],[0.7777777777777778,\"#fb9f3a\"],[0.8888888888888888,\"#fdca26\"],[1.0,\"#f0f921\"]],\"type\":\"surface\"}],\"table\":[{\"cells\":{\"fill\":{\"color\":\"#EBF0F8\"},\"line\":{\"color\":\"white\"}},\"header\":{\"fill\":{\"color\":\"#C8D4E3\"},\"line\":{\"color\":\"white\"}},\"type\":\"table\"}]},\"layout\":{\"annotationdefaults\":{\"arrowcolor\":\"#2a3f5f\",\"arrowhead\":0,\"arrowwidth\":1},\"autotypenumbers\":\"strict\",\"coloraxis\":{\"colorbar\":{\"outlinewidth\":0,\"ticks\":\"\"}},\"colorscale\":{\"diverging\":[[0,\"#8e0152\"],[0.1,\"#c51b7d\"],[0.2,\"#de77ae\"],[0.3,\"#f1b6da\"],[0.4,\"#fde0ef\"],[0.5,\"#f7f7f7\"],[0.6,\"#e6f5d0\"],[0.7,\"#b8e186\"],[0.8,\"#7fbc41\"],[0.9,\"#4d9221\"],[1,\"#276419\"]],\"sequential\":[[0.0,\"#0d0887\"],[0.1111111111111111,\"#46039f\"],[0.2222222222222222,\"#7201a8\"],[0.3333333333333333,\"#9c179e\"],[0.4444444444444444,\"#bd3786\"],[0.5555555555555556,\"#d8576b\"],[0.6666666666666666,\"#ed7953\"],[0.7777777777777778,\"#fb9f3a\"],[0.8888888888888888,\"#fdca26\"],[1.0,\"#f0f921\"]],\"sequentialminus\":[[0.0,\"#0d0887\"],[0.1111111111111111,\"#46039f\"],[0.2222222222222222,\"#7201a8\"],[0.3333333333333333,\"#9c179e\"],[0.4444444444444444,\"#bd3786\"],[0.5555555555555556,\"#d8576b\"],[0.6666666666666666,\"#ed7953\"],[0.7777777777777778,\"#fb9f3a\"],[0.8888888888888888,\"#fdca26\"],[1.0,\"#f0f921\"]]},\"colorway\":[\"#636efa\",\"#EF553B\",\"#00cc96\",\"#ab63fa\",\"#FFA15A\",\"#19d3f3\",\"#FF6692\",\"#B6E880\",\"#FF97FF\",\"#FECB52\"],\"font\":{\"color\":\"#2a3f5f\"},\"geo\":{\"bgcolor\":\"white\",\"lakecolor\":\"white\",\"landcolor\":\"#E5ECF6\",\"showlakes\":true,\"showland\":true,\"subunitcolor\":\"white\"},\"hoverlabel\":{\"align\":\"left\"},\"hovermode\":\"closest\",\"mapbox\":{\"style\":\"light\"},\"paper_bgcolor\":\"white\",\"plot_bgcolor\":\"#E5ECF6\",\"polar\":{\"angularaxis\":{\"gridcolor\":\"white\",\"linecolor\":\"white\",\"ticks\":\"\"},\"bgcolor\":\"#E5ECF6\",\"radialaxis\":{\"gridcolor\":\"white\",\"linecolor\":\"white\",\"ticks\":\"\"}},\"scene\":{\"xaxis\":{\"backgroundcolor\":\"#E5ECF6\",\"gridcolor\":\"white\",\"gridwidth\":2,\"linecolor\":\"white\",\"showbackground\":true,\"ticks\":\"\",\"zerolinecolor\":\"white\"},\"yaxis\":{\"backgroundcolor\":\"#E5ECF6\",\"gridcolor\":\"white\",\"gridwidth\":2,\"linecolor\":\"white\",\"showbackground\":true,\"ticks\":\"\",\"zerolinecolor\":\"white\"},\"zaxis\":{\"backgroundcolor\":\"#E5ECF6\",\"gridcolor\":\"white\",\"gridwidth\":2,\"linecolor\":\"white\",\"showbackground\":true,\"ticks\":\"\",\"zerolinecolor\":\"white\"}},\"shapedefaults\":{\"line\":{\"color\":\"#2a3f5f\"}},\"ternary\":{\"aaxis\":{\"gridcolor\":\"white\",\"linecolor\":\"white\",\"ticks\":\"\"},\"baxis\":{\"gridcolor\":\"white\",\"linecolor\":\"white\",\"ticks\":\"\"},\"bgcolor\":\"#E5ECF6\",\"caxis\":{\"gridcolor\":\"white\",\"linecolor\":\"white\",\"ticks\":\"\"}},\"title\":{\"x\":0.05},\"xaxis\":{\"automargin\":true,\"gridcolor\":\"white\",\"linecolor\":\"white\",\"ticks\":\"\",\"title\":{\"standoff\":15},\"zerolinecolor\":\"white\",\"zerolinewidth\":2},\"yaxis\":{\"automargin\":true,\"gridcolor\":\"white\",\"linecolor\":\"white\",\"ticks\":\"\",\"title\":{\"standoff\":15},\"zerolinecolor\":\"white\",\"zerolinewidth\":2}}},\"xaxis\":{\"anchor\":\"y\",\"domain\":[0.0,1.0],\"title\":{\"text\":\"Time\"}},\"yaxis\":{\"anchor\":\"x\",\"domain\":[0.0,1.0],\"title\":{\"text\":\"Global_active_power\"}},\"legend\":{\"tracegroupgap\":0},\"margin\":{\"t\":60},\"title\":{\"text\":\"Weekly Global_active_power\"},\"width\":800},                        {\"responsive\": true}                    ).then(function(){\n                            \nvar gd = document.getElementById('81903164-44f6-4768-946b-6a24da8796e4');\nvar x = new MutationObserver(function (mutations, observer) {{\n        var display = window.getComputedStyle(gd).display;\n        if (!display || display === 'none') {{\n            console.log([gd, 'removed!']);\n            Plotly.purge(gd);\n            observer.disconnect();\n        }}\n}});\n\n// Listen for the removal of the full notebook cells\nvar notebookContainer = gd.closest('#notebook-container');\nif (notebookContainer) {{\n    x.observe(notebookContainer, {childList: true});\n}}\n\n// Listen for the clearing of the current output cell\nvar outputEl = gd.closest('.output');\nif (outputEl) {{\n    x.observe(outputEl, {childList: true});\n}}\n\n                        })                };                });            </script>        </div>"
     },
     "metadata": {},
     "output_type": "display_data"
    }
   ],
   "source": [
    "# Weekly\n",
    "df_week = df.resample(\"W\").quantile(0.995)\n",
    "run_sequence_plot(\n",
    "    df_week.index, df_week[var], title=f\"Weekly {var}\", xtitle=\"Time\", ytitle=f\"{var}\"\n",
    ")"
   ],
   "metadata": {
    "collapsed": false,
    "pycharm": {
     "name": "#%%\n"
    }
   }
  },
  {
   "cell_type": "code",
   "execution_count": 51,
   "outputs": [
    {
     "data": {
      "application/vnd.plotly.v1+json": {
       "data": [
        {
         "hovertemplate": "x=%{x}<br>y=%{y}<extra></extra>",
         "legendgroup": "",
         "line": {
          "color": "#636efa",
          "dash": "solid"
         },
         "marker": {
          "symbol": "circle"
         },
         "mode": "lines",
         "name": "",
         "orientation": "v",
         "showlegend": false,
         "x": [
          "2010-01-01T00:00:00",
          "2010-01-02T00:00:00",
          "2010-01-03T00:00:00",
          "2010-01-04T00:00:00",
          "2010-01-05T00:00:00",
          "2010-01-06T00:00:00",
          "2010-01-07T00:00:00",
          "2010-01-08T00:00:00",
          "2010-01-09T00:00:00",
          "2010-01-10T00:00:00",
          "2010-01-11T00:00:00",
          "2010-01-12T00:00:00",
          "2010-01-13T00:00:00",
          "2010-01-14T00:00:00",
          "2010-01-15T00:00:00",
          "2010-01-16T00:00:00",
          "2010-01-17T00:00:00",
          "2010-01-18T00:00:00",
          "2010-01-19T00:00:00",
          "2010-01-20T00:00:00",
          "2010-01-21T00:00:00",
          "2010-01-22T00:00:00",
          "2010-01-23T00:00:00",
          "2010-01-24T00:00:00",
          "2010-01-25T00:00:00",
          "2010-01-26T00:00:00",
          "2010-01-27T00:00:00",
          "2010-01-28T00:00:00",
          "2010-01-29T00:00:00",
          "2010-01-30T00:00:00",
          "2010-01-31T00:00:00",
          "2010-02-01T00:00:00",
          "2010-02-02T00:00:00",
          "2010-02-03T00:00:00",
          "2010-02-04T00:00:00",
          "2010-02-05T00:00:00",
          "2010-02-06T00:00:00",
          "2010-02-07T00:00:00",
          "2010-02-08T00:00:00",
          "2010-02-09T00:00:00",
          "2010-02-10T00:00:00",
          "2010-02-11T00:00:00",
          "2010-02-12T00:00:00",
          "2010-02-13T00:00:00",
          "2010-02-14T00:00:00",
          "2010-02-15T00:00:00",
          "2010-02-16T00:00:00",
          "2010-02-17T00:00:00",
          "2010-02-18T00:00:00",
          "2010-02-19T00:00:00",
          "2010-02-20T00:00:00",
          "2010-02-21T00:00:00",
          "2010-02-22T00:00:00",
          "2010-02-23T00:00:00",
          "2010-02-24T00:00:00",
          "2010-02-25T00:00:00",
          "2010-02-26T00:00:00",
          "2010-02-27T00:00:00",
          "2010-02-28T00:00:00",
          "2010-03-01T00:00:00",
          "2010-03-02T00:00:00",
          "2010-03-03T00:00:00",
          "2010-03-04T00:00:00",
          "2010-03-05T00:00:00",
          "2010-03-06T00:00:00",
          "2010-03-07T00:00:00",
          "2010-03-08T00:00:00",
          "2010-03-09T00:00:00",
          "2010-03-10T00:00:00",
          "2010-03-11T00:00:00",
          "2010-03-12T00:00:00",
          "2010-03-13T00:00:00",
          "2010-03-14T00:00:00",
          "2010-03-15T00:00:00",
          "2010-03-16T00:00:00",
          "2010-03-17T00:00:00",
          "2010-03-18T00:00:00",
          "2010-03-19T00:00:00",
          "2010-03-20T00:00:00",
          "2010-03-21T00:00:00",
          "2010-03-22T00:00:00",
          "2010-03-23T00:00:00",
          "2010-03-24T00:00:00",
          "2010-03-25T00:00:00",
          "2010-03-26T00:00:00",
          "2010-03-27T00:00:00",
          "2010-03-28T00:00:00",
          "2010-03-29T00:00:00",
          "2010-03-30T00:00:00",
          "2010-03-31T00:00:00",
          "2010-04-01T00:00:00",
          "2010-04-02T00:00:00",
          "2010-04-03T00:00:00",
          "2010-04-04T00:00:00",
          "2010-04-05T00:00:00",
          "2010-04-06T00:00:00",
          "2010-04-07T00:00:00",
          "2010-04-08T00:00:00",
          "2010-04-09T00:00:00",
          "2010-04-10T00:00:00",
          "2010-04-11T00:00:00",
          "2010-04-12T00:00:00",
          "2010-04-13T00:00:00",
          "2010-04-14T00:00:00",
          "2010-04-15T00:00:00",
          "2010-04-16T00:00:00",
          "2010-04-17T00:00:00",
          "2010-04-18T00:00:00",
          "2010-04-19T00:00:00",
          "2010-04-20T00:00:00",
          "2010-04-21T00:00:00",
          "2010-04-22T00:00:00",
          "2010-04-23T00:00:00",
          "2010-04-24T00:00:00",
          "2010-04-25T00:00:00",
          "2010-04-26T00:00:00",
          "2010-04-27T00:00:00",
          "2010-04-28T00:00:00",
          "2010-04-29T00:00:00",
          "2010-04-30T00:00:00",
          "2010-05-01T00:00:00",
          "2010-05-02T00:00:00",
          "2010-05-03T00:00:00",
          "2010-05-04T00:00:00",
          "2010-05-05T00:00:00",
          "2010-05-06T00:00:00",
          "2010-05-07T00:00:00",
          "2010-05-08T00:00:00",
          "2010-05-09T00:00:00",
          "2010-05-10T00:00:00",
          "2010-05-11T00:00:00",
          "2010-05-12T00:00:00",
          "2010-05-13T00:00:00",
          "2010-05-14T00:00:00",
          "2010-05-15T00:00:00",
          "2010-05-16T00:00:00",
          "2010-05-17T00:00:00",
          "2010-05-18T00:00:00",
          "2010-05-19T00:00:00",
          "2010-05-20T00:00:00",
          "2010-05-21T00:00:00",
          "2010-05-22T00:00:00",
          "2010-05-23T00:00:00",
          "2010-05-24T00:00:00",
          "2010-05-25T00:00:00",
          "2010-05-26T00:00:00",
          "2010-05-27T00:00:00",
          "2010-05-28T00:00:00",
          "2010-05-29T00:00:00",
          "2010-05-30T00:00:00",
          "2010-05-31T00:00:00",
          "2010-06-01T00:00:00",
          "2010-06-02T00:00:00",
          "2010-06-03T00:00:00",
          "2010-06-04T00:00:00",
          "2010-06-05T00:00:00",
          "2010-06-06T00:00:00",
          "2010-06-07T00:00:00",
          "2010-06-08T00:00:00",
          "2010-06-09T00:00:00",
          "2010-06-10T00:00:00",
          "2010-06-11T00:00:00",
          "2010-06-12T00:00:00",
          "2010-06-13T00:00:00",
          "2010-06-14T00:00:00",
          "2010-06-15T00:00:00",
          "2010-06-16T00:00:00",
          "2010-06-17T00:00:00",
          "2010-06-18T00:00:00",
          "2010-06-19T00:00:00",
          "2010-06-20T00:00:00",
          "2010-06-21T00:00:00",
          "2010-06-22T00:00:00",
          "2010-06-23T00:00:00",
          "2010-06-24T00:00:00",
          "2010-06-25T00:00:00",
          "2010-06-26T00:00:00",
          "2010-06-27T00:00:00",
          "2010-06-28T00:00:00",
          "2010-06-29T00:00:00",
          "2010-06-30T00:00:00",
          "2010-07-01T00:00:00",
          "2010-07-02T00:00:00",
          "2010-07-03T00:00:00",
          "2010-07-04T00:00:00",
          "2010-07-05T00:00:00",
          "2010-07-06T00:00:00",
          "2010-07-07T00:00:00",
          "2010-07-08T00:00:00",
          "2010-07-09T00:00:00",
          "2010-07-10T00:00:00",
          "2010-07-11T00:00:00",
          "2010-07-12T00:00:00",
          "2010-07-13T00:00:00",
          "2010-07-14T00:00:00",
          "2010-07-15T00:00:00",
          "2010-07-16T00:00:00",
          "2010-07-17T00:00:00",
          "2010-07-18T00:00:00",
          "2010-07-19T00:00:00",
          "2010-07-20T00:00:00",
          "2010-07-21T00:00:00",
          "2010-07-22T00:00:00",
          "2010-07-23T00:00:00",
          "2010-07-24T00:00:00",
          "2010-07-25T00:00:00",
          "2010-07-26T00:00:00",
          "2010-07-27T00:00:00",
          "2010-07-28T00:00:00",
          "2010-07-29T00:00:00",
          "2010-07-30T00:00:00",
          "2010-07-31T00:00:00",
          "2010-08-01T00:00:00",
          "2010-08-02T00:00:00",
          "2010-08-03T00:00:00",
          "2010-08-04T00:00:00",
          "2010-08-05T00:00:00",
          "2010-08-06T00:00:00",
          "2010-08-07T00:00:00",
          "2010-08-08T00:00:00",
          "2010-08-09T00:00:00",
          "2010-08-10T00:00:00",
          "2010-08-11T00:00:00",
          "2010-08-12T00:00:00",
          "2010-08-13T00:00:00",
          "2010-08-14T00:00:00",
          "2010-08-15T00:00:00",
          "2010-08-16T00:00:00",
          "2010-08-17T00:00:00",
          "2010-08-18T00:00:00",
          "2010-08-19T00:00:00",
          "2010-08-20T00:00:00",
          "2010-08-21T00:00:00",
          "2010-08-22T00:00:00",
          "2010-08-23T00:00:00",
          "2010-08-24T00:00:00",
          "2010-08-25T00:00:00",
          "2010-08-26T00:00:00",
          "2010-08-27T00:00:00",
          "2010-08-28T00:00:00",
          "2010-08-29T00:00:00",
          "2010-08-30T00:00:00",
          "2010-08-31T00:00:00",
          "2010-09-01T00:00:00",
          "2010-09-02T00:00:00",
          "2010-09-03T00:00:00",
          "2010-09-04T00:00:00",
          "2010-09-05T00:00:00",
          "2010-09-06T00:00:00",
          "2010-09-07T00:00:00",
          "2010-09-08T00:00:00",
          "2010-09-09T00:00:00",
          "2010-09-10T00:00:00",
          "2010-09-11T00:00:00",
          "2010-09-12T00:00:00",
          "2010-09-13T00:00:00",
          "2010-09-14T00:00:00",
          "2010-09-15T00:00:00",
          "2010-09-16T00:00:00",
          "2010-09-17T00:00:00",
          "2010-09-18T00:00:00",
          "2010-09-19T00:00:00",
          "2010-09-20T00:00:00",
          "2010-09-21T00:00:00",
          "2010-09-22T00:00:00",
          "2010-09-23T00:00:00",
          "2010-09-24T00:00:00",
          "2010-09-25T00:00:00",
          "2010-09-26T00:00:00",
          "2010-09-27T00:00:00",
          "2010-09-28T00:00:00",
          "2010-09-29T00:00:00",
          "2010-09-30T00:00:00",
          "2010-10-01T00:00:00",
          "2010-10-02T00:00:00",
          "2010-10-03T00:00:00",
          "2010-10-04T00:00:00",
          "2010-10-05T00:00:00",
          "2010-10-06T00:00:00",
          "2010-10-07T00:00:00",
          "2010-10-08T00:00:00",
          "2010-10-09T00:00:00",
          "2010-10-10T00:00:00",
          "2010-10-11T00:00:00",
          "2010-10-12T00:00:00",
          "2010-10-13T00:00:00",
          "2010-10-14T00:00:00",
          "2010-10-15T00:00:00",
          "2010-10-16T00:00:00",
          "2010-10-17T00:00:00",
          "2010-10-18T00:00:00",
          "2010-10-19T00:00:00",
          "2010-10-20T00:00:00",
          "2010-10-21T00:00:00",
          "2010-10-22T00:00:00",
          "2010-10-23T00:00:00",
          "2010-10-24T00:00:00",
          "2010-10-25T00:00:00",
          "2010-10-26T00:00:00",
          "2010-10-27T00:00:00",
          "2010-10-28T00:00:00",
          "2010-10-29T00:00:00",
          "2010-10-30T00:00:00",
          "2010-10-31T00:00:00",
          "2010-11-01T00:00:00",
          "2010-11-02T00:00:00",
          "2010-11-03T00:00:00",
          "2010-11-04T00:00:00",
          "2010-11-05T00:00:00",
          "2010-11-06T00:00:00",
          "2010-11-07T00:00:00",
          "2010-11-08T00:00:00",
          "2010-11-09T00:00:00",
          "2010-11-10T00:00:00",
          "2010-11-11T00:00:00",
          "2010-11-12T00:00:00",
          "2010-11-13T00:00:00",
          "2010-11-14T00:00:00",
          "2010-11-15T00:00:00",
          "2010-11-16T00:00:00",
          "2010-11-17T00:00:00",
          "2010-11-18T00:00:00",
          "2010-11-19T00:00:00",
          "2010-11-20T00:00:00",
          "2010-11-21T00:00:00",
          "2010-11-22T00:00:00",
          "2010-11-23T00:00:00",
          "2010-11-24T00:00:00",
          "2010-11-25T00:00:00",
          "2010-11-26T00:00:00",
          "2010-11-27T00:00:00",
          "2010-11-28T00:00:00",
          "2010-11-29T00:00:00",
          "2010-11-30T00:00:00",
          "2010-12-01T00:00:00",
          "2010-12-02T00:00:00",
          "2010-12-03T00:00:00",
          "2010-12-04T00:00:00",
          "2010-12-05T00:00:00",
          "2010-12-06T00:00:00",
          "2010-12-07T00:00:00",
          "2010-12-08T00:00:00",
          "2010-12-09T00:00:00",
          "2010-12-10T00:00:00",
          "2010-12-11T00:00:00"
         ],
         "xaxis": "x",
         "y": [
          4.41322,
          4.214830000000001,
          4.209270000000001,
          4.6548300000000005,
          4.77561,
          3.51322,
          4.105520000000005,
          1.4608300000000003,
          4.7348300000000005,
          4.05122,
          2.18961,
          null,
          1.7814449073482428,
          4.382450000000006,
          7.813470000000003,
          5.089340000000012,
          5.012830000000001,
          3.4341000000000013,
          6.3434800000000084,
          4.992490000000002,
          4.737880000000014,
          4.644880000000001,
          6.801870000000009,
          7.907660000000001,
          5.6434200000000025,
          3.846,
          6.995320000000001,
          4.567710000000002,
          5.511910000000004,
          7.494880000000001,
          4.54122,
          5.400050000000001,
          3.958880000000001,
          2.068790000000005,
          2.9780500000000005,
          6.380690000000004,
          2.3984400000000003,
          3.395430000000008,
          1.9716600000000006,
          4.097470000000003,
          5.641270000000001,
          2.69722,
          null,
          7.045420000000003,
          3.9864400000000004,
          5.901280000000006,
          4.181570000000004,
          5.97761,
          3.7688300000000003,
          4.406830000000001,
          4.49561,
          7.789710000000001,
          4.990740000000004,
          6.50122,
          5.7118100000000025,
          2.889810000000003,
          5.129270000000001,
          4.55922,
          1.676,
          5.48,
          7.289710000000001,
          1.8770300000000029,
          3.8053200000000014,
          4.297610000000001,
          3.79883,
          2.757130000000004,
          1.9401000000000013,
          4.300050000000001,
          5.370490000000001,
          4.704880000000001,
          null,
          6.11561,
          4.79044,
          4.170300000000004,
          3.1352200000000003,
          3.907670000000006,
          4.928490000000002,
          3.077320000000001,
          1.606,
          4.895470000000003,
          3.37161,
          4.716100000000001,
          4.935910000000004,
          3.384490000000001,
          3.9584400000000004,
          6.57366,
          5.344100000000001,
          3.0055400000000145,
          4.002200000000002,
          4.512830000000001,
          3.827260000000021,
          5.64761,
          1.5172200000000002,
          4.314830000000001,
          3.244490000000001,
          3.979430000000008,
          3.2036600000000006,
          2.002540000000002,
          4.00561,
          4.969660000000001,
          6.620540000000002,
          null,
          3.0296600000000007,
          4.834,
          4.634440000000001,
          4.184490000000001,
          4.278120000000012,
          4.09163000000001,
          5.1936100000000005,
          4.376,
          2.502880000000001,
          3.77361,
          2.488,
          4.186490000000002,
          3.636550000000007,
          3.64,
          2.813670000000006,
          2.6463000000000036,
          2.5567900000000052,
          3.7272200000000004,
          4.35522,
          4.069660000000001,
          3.92361,
          5.82122,
          4.940880000000001,
          4.901840000000019,
          3.9388300000000003,
          1.4560500000000005,
          3.4221000000000013,
          3.8020100000000054,
          3.801380000000007,
          null,
          4.478640000000003,
          4.124100000000001,
          5.6312700000000016,
          6.31761,
          4.109130000000004,
          2.5032700000000006,
          3.80161,
          2.36161,
          4.1152700000000015,
          5.75888,
          3.8693000000000164,
          4.611040000000008,
          3.1416200000000054,
          4.937450000000018,
          3.3043500000000043,
          3.3752900000000117,
          4.453760000000002,
          4.658880000000001,
          3.6733200000000013,
          5.26361,
          6.902170000000012,
          2.4022000000000028,
          4.962440000000001,
          2.7669000000000112,
          4.357810000000002,
          2.238540000000002,
          1.3892200000000001,
          3.9082500000000033,
          3.4693200000000015,
          4.23366,
          null,
          4.642440000000001,
          3.81561,
          2.4406900000000036,
          4.324490000000002,
          2.2192700000000007,
          3.492880000000001,
          4.913240000000011,
          5.612660000000013,
          6.404900000000063,
          4.4668900000000065,
          5.05922,
          3.31361,
          2.7581100000000065,
          2.8532700000000006,
          3.8294900000000136,
          3.1328300000000002,
          4.849660000000001,
          3.6620500000000007,
          4.642,
          5.150490000000001,
          5.046830000000001,
          4.547710000000001,
          4.071960000000005,
          3.5916600000000005,
          3.65722,
          1.4300500000000005,
          4.079370000000003,
          4.691420000000003,
          3.104,
          null,
          3.91522,
          4.912050000000001,
          4.176930000000002,
          2.1141700000000125,
          2.0180500000000006,
          2.0129300000000017,
          2.0864400000000005,
          2.450540000000002,
          3.5019600000000044,
          2.7356100000000003,
          3.6312200000000003,
          2.3005900000000024,
          3.838370000000015,
          2.977760000000002,
          3.408,
          3.4448900000000315,
          1.9650800000000035,
          1.983760000000002,
          1.374,
          4.156440000000001,
          4.916440000000001,
          6.223030000000003,
          3.6112300000000057,
          5.703900000000024,
          4.19236000000001,
          4.271320000000001,
          1.4868300000000003,
          3.6772800000000063,
          4.36322,
          4.22761,
          null,
          1.3992200000000001,
          1.892010000000005,
          4.004890000000007,
          2.61761,
          3.7309300000000016,
          0.8995075217932752,
          0.8492958156911582,
          0.7990841095890411,
          0.7488724034869241,
          1.2516100000000001,
          2.113270000000001,
          2.08761,
          3.6582000000000026,
          2.220940000000007,
          5.001270000000001,
          4.489320000000001,
          5.046540000000001,
          4.3136600000000005,
          4.191810000000003,
          7.001760000000002,
          4.950050000000001,
          4.00122,
          3.95561,
          5.73444,
          4.469860000000003,
          2.2584400000000002,
          1.4869800000000022,
          4.218540000000002,
          3.714100000000001,
          4.866790000000004,
          null,
          3.2749400000000066,
          4.539960000000005,
          2.7130800000000037,
          5.033270000000001,
          5.678700000000009,
          2.534,
          3.495760000000002,
          5.3128900000000066,
          2.8981000000000012,
          3.6857100000000016,
          3.51161,
          3.2513300000000065,
          1.3684400000000005,
          1.2494510423825889,
          1.852062726231386,
          3.784210000000008,
          3.5338600000000033,
          3.1544400000000006,
          6.004830000000001,
          4.34883,
          3.8092200000000003,
          3.9172700000000007,
          4.3112200000000005,
          2.423520000000004,
          3.75161,
          1.957370000000002,
          4.327270000000001,
          5.781570000000005,
          6.506020000000062,
          null,
          3.8896100000000002,
          6.106350000000004,
          3.7076600000000006,
          3.0332300000000054,
          4.070490000000001,
          6.2021000000000015,
          5.286160000000007,
          4.726050000000001,
          3.8314700000000035,
          4.3919600000000045,
          5.62044,
          5.759620000000005,
          2.858540000000002,
          4.3968300000000005,
          4.175370000000003,
          4.070100000000001,
          3.14122,
          4.5132200000000005,
          4.456220000000013,
          5.306540000000002,
          3.267270000000001,
          5.249270000000001,
          7.174590000000003,
          4.12361,
          4.019130000000004,
          3.792,
          1.865760000000002,
          3.6836100000000003,
          5.649220000000001,
          4.9528300000000005,
          null,
          4.901610000000001,
          4.819270000000001,
          5.648440000000001,
          3.398150000000002,
          4.857660000000001,
          4.472830000000001,
          3.2324400000000004,
          7.1502000000000026,
          2.891270000000001,
          5.395520000000005,
          3.8988000000000103,
          4.63522,
          4.222540000000001,
          3.9649000000000005,
          null,
          null,
          null,
          null,
          4.132150000000002,
          4.26,
          4.469760000000002,
          3.252880000000001,
          5.699320000000001,
          3.6876100000000003,
          3.4981300000000166,
          1.418,
          4.334830000000001,
          4.698150000000002,
          3.82683
         ],
         "yaxis": "y",
         "type": "scatter"
        }
       ],
       "layout": {
        "template": {
         "data": {
          "bar": [
           {
            "error_x": {
             "color": "#2a3f5f"
            },
            "error_y": {
             "color": "#2a3f5f"
            },
            "marker": {
             "line": {
              "color": "#E5ECF6",
              "width": 0.5
             },
             "pattern": {
              "fillmode": "overlay",
              "size": 10,
              "solidity": 0.2
             }
            },
            "type": "bar"
           }
          ],
          "barpolar": [
           {
            "marker": {
             "line": {
              "color": "#E5ECF6",
              "width": 0.5
             },
             "pattern": {
              "fillmode": "overlay",
              "size": 10,
              "solidity": 0.2
             }
            },
            "type": "barpolar"
           }
          ],
          "carpet": [
           {
            "aaxis": {
             "endlinecolor": "#2a3f5f",
             "gridcolor": "white",
             "linecolor": "white",
             "minorgridcolor": "white",
             "startlinecolor": "#2a3f5f"
            },
            "baxis": {
             "endlinecolor": "#2a3f5f",
             "gridcolor": "white",
             "linecolor": "white",
             "minorgridcolor": "white",
             "startlinecolor": "#2a3f5f"
            },
            "type": "carpet"
           }
          ],
          "choropleth": [
           {
            "colorbar": {
             "outlinewidth": 0,
             "ticks": ""
            },
            "type": "choropleth"
           }
          ],
          "contour": [
           {
            "colorbar": {
             "outlinewidth": 0,
             "ticks": ""
            },
            "colorscale": [
             [
              0.0,
              "#0d0887"
             ],
             [
              0.1111111111111111,
              "#46039f"
             ],
             [
              0.2222222222222222,
              "#7201a8"
             ],
             [
              0.3333333333333333,
              "#9c179e"
             ],
             [
              0.4444444444444444,
              "#bd3786"
             ],
             [
              0.5555555555555556,
              "#d8576b"
             ],
             [
              0.6666666666666666,
              "#ed7953"
             ],
             [
              0.7777777777777778,
              "#fb9f3a"
             ],
             [
              0.8888888888888888,
              "#fdca26"
             ],
             [
              1.0,
              "#f0f921"
             ]
            ],
            "type": "contour"
           }
          ],
          "contourcarpet": [
           {
            "colorbar": {
             "outlinewidth": 0,
             "ticks": ""
            },
            "type": "contourcarpet"
           }
          ],
          "heatmap": [
           {
            "colorbar": {
             "outlinewidth": 0,
             "ticks": ""
            },
            "colorscale": [
             [
              0.0,
              "#0d0887"
             ],
             [
              0.1111111111111111,
              "#46039f"
             ],
             [
              0.2222222222222222,
              "#7201a8"
             ],
             [
              0.3333333333333333,
              "#9c179e"
             ],
             [
              0.4444444444444444,
              "#bd3786"
             ],
             [
              0.5555555555555556,
              "#d8576b"
             ],
             [
              0.6666666666666666,
              "#ed7953"
             ],
             [
              0.7777777777777778,
              "#fb9f3a"
             ],
             [
              0.8888888888888888,
              "#fdca26"
             ],
             [
              1.0,
              "#f0f921"
             ]
            ],
            "type": "heatmap"
           }
          ],
          "heatmapgl": [
           {
            "colorbar": {
             "outlinewidth": 0,
             "ticks": ""
            },
            "colorscale": [
             [
              0.0,
              "#0d0887"
             ],
             [
              0.1111111111111111,
              "#46039f"
             ],
             [
              0.2222222222222222,
              "#7201a8"
             ],
             [
              0.3333333333333333,
              "#9c179e"
             ],
             [
              0.4444444444444444,
              "#bd3786"
             ],
             [
              0.5555555555555556,
              "#d8576b"
             ],
             [
              0.6666666666666666,
              "#ed7953"
             ],
             [
              0.7777777777777778,
              "#fb9f3a"
             ],
             [
              0.8888888888888888,
              "#fdca26"
             ],
             [
              1.0,
              "#f0f921"
             ]
            ],
            "type": "heatmapgl"
           }
          ],
          "histogram": [
           {
            "marker": {
             "pattern": {
              "fillmode": "overlay",
              "size": 10,
              "solidity": 0.2
             }
            },
            "type": "histogram"
           }
          ],
          "histogram2d": [
           {
            "colorbar": {
             "outlinewidth": 0,
             "ticks": ""
            },
            "colorscale": [
             [
              0.0,
              "#0d0887"
             ],
             [
              0.1111111111111111,
              "#46039f"
             ],
             [
              0.2222222222222222,
              "#7201a8"
             ],
             [
              0.3333333333333333,
              "#9c179e"
             ],
             [
              0.4444444444444444,
              "#bd3786"
             ],
             [
              0.5555555555555556,
              "#d8576b"
             ],
             [
              0.6666666666666666,
              "#ed7953"
             ],
             [
              0.7777777777777778,
              "#fb9f3a"
             ],
             [
              0.8888888888888888,
              "#fdca26"
             ],
             [
              1.0,
              "#f0f921"
             ]
            ],
            "type": "histogram2d"
           }
          ],
          "histogram2dcontour": [
           {
            "colorbar": {
             "outlinewidth": 0,
             "ticks": ""
            },
            "colorscale": [
             [
              0.0,
              "#0d0887"
             ],
             [
              0.1111111111111111,
              "#46039f"
             ],
             [
              0.2222222222222222,
              "#7201a8"
             ],
             [
              0.3333333333333333,
              "#9c179e"
             ],
             [
              0.4444444444444444,
              "#bd3786"
             ],
             [
              0.5555555555555556,
              "#d8576b"
             ],
             [
              0.6666666666666666,
              "#ed7953"
             ],
             [
              0.7777777777777778,
              "#fb9f3a"
             ],
             [
              0.8888888888888888,
              "#fdca26"
             ],
             [
              1.0,
              "#f0f921"
             ]
            ],
            "type": "histogram2dcontour"
           }
          ],
          "mesh3d": [
           {
            "colorbar": {
             "outlinewidth": 0,
             "ticks": ""
            },
            "type": "mesh3d"
           }
          ],
          "parcoords": [
           {
            "line": {
             "colorbar": {
              "outlinewidth": 0,
              "ticks": ""
             }
            },
            "type": "parcoords"
           }
          ],
          "pie": [
           {
            "automargin": true,
            "type": "pie"
           }
          ],
          "scatter": [
           {
            "marker": {
             "colorbar": {
              "outlinewidth": 0,
              "ticks": ""
             }
            },
            "type": "scatter"
           }
          ],
          "scatter3d": [
           {
            "line": {
             "colorbar": {
              "outlinewidth": 0,
              "ticks": ""
             }
            },
            "marker": {
             "colorbar": {
              "outlinewidth": 0,
              "ticks": ""
             }
            },
            "type": "scatter3d"
           }
          ],
          "scattercarpet": [
           {
            "marker": {
             "colorbar": {
              "outlinewidth": 0,
              "ticks": ""
             }
            },
            "type": "scattercarpet"
           }
          ],
          "scattergeo": [
           {
            "marker": {
             "colorbar": {
              "outlinewidth": 0,
              "ticks": ""
             }
            },
            "type": "scattergeo"
           }
          ],
          "scattergl": [
           {
            "marker": {
             "colorbar": {
              "outlinewidth": 0,
              "ticks": ""
             }
            },
            "type": "scattergl"
           }
          ],
          "scattermapbox": [
           {
            "marker": {
             "colorbar": {
              "outlinewidth": 0,
              "ticks": ""
             }
            },
            "type": "scattermapbox"
           }
          ],
          "scatterpolar": [
           {
            "marker": {
             "colorbar": {
              "outlinewidth": 0,
              "ticks": ""
             }
            },
            "type": "scatterpolar"
           }
          ],
          "scatterpolargl": [
           {
            "marker": {
             "colorbar": {
              "outlinewidth": 0,
              "ticks": ""
             }
            },
            "type": "scatterpolargl"
           }
          ],
          "scatterternary": [
           {
            "marker": {
             "colorbar": {
              "outlinewidth": 0,
              "ticks": ""
             }
            },
            "type": "scatterternary"
           }
          ],
          "surface": [
           {
            "colorbar": {
             "outlinewidth": 0,
             "ticks": ""
            },
            "colorscale": [
             [
              0.0,
              "#0d0887"
             ],
             [
              0.1111111111111111,
              "#46039f"
             ],
             [
              0.2222222222222222,
              "#7201a8"
             ],
             [
              0.3333333333333333,
              "#9c179e"
             ],
             [
              0.4444444444444444,
              "#bd3786"
             ],
             [
              0.5555555555555556,
              "#d8576b"
             ],
             [
              0.6666666666666666,
              "#ed7953"
             ],
             [
              0.7777777777777778,
              "#fb9f3a"
             ],
             [
              0.8888888888888888,
              "#fdca26"
             ],
             [
              1.0,
              "#f0f921"
             ]
            ],
            "type": "surface"
           }
          ],
          "table": [
           {
            "cells": {
             "fill": {
              "color": "#EBF0F8"
             },
             "line": {
              "color": "white"
             }
            },
            "header": {
             "fill": {
              "color": "#C8D4E3"
             },
             "line": {
              "color": "white"
             }
            },
            "type": "table"
           }
          ]
         },
         "layout": {
          "annotationdefaults": {
           "arrowcolor": "#2a3f5f",
           "arrowhead": 0,
           "arrowwidth": 1
          },
          "autotypenumbers": "strict",
          "coloraxis": {
           "colorbar": {
            "outlinewidth": 0,
            "ticks": ""
           }
          },
          "colorscale": {
           "diverging": [
            [
             0,
             "#8e0152"
            ],
            [
             0.1,
             "#c51b7d"
            ],
            [
             0.2,
             "#de77ae"
            ],
            [
             0.3,
             "#f1b6da"
            ],
            [
             0.4,
             "#fde0ef"
            ],
            [
             0.5,
             "#f7f7f7"
            ],
            [
             0.6,
             "#e6f5d0"
            ],
            [
             0.7,
             "#b8e186"
            ],
            [
             0.8,
             "#7fbc41"
            ],
            [
             0.9,
             "#4d9221"
            ],
            [
             1,
             "#276419"
            ]
           ],
           "sequential": [
            [
             0.0,
             "#0d0887"
            ],
            [
             0.1111111111111111,
             "#46039f"
            ],
            [
             0.2222222222222222,
             "#7201a8"
            ],
            [
             0.3333333333333333,
             "#9c179e"
            ],
            [
             0.4444444444444444,
             "#bd3786"
            ],
            [
             0.5555555555555556,
             "#d8576b"
            ],
            [
             0.6666666666666666,
             "#ed7953"
            ],
            [
             0.7777777777777778,
             "#fb9f3a"
            ],
            [
             0.8888888888888888,
             "#fdca26"
            ],
            [
             1.0,
             "#f0f921"
            ]
           ],
           "sequentialminus": [
            [
             0.0,
             "#0d0887"
            ],
            [
             0.1111111111111111,
             "#46039f"
            ],
            [
             0.2222222222222222,
             "#7201a8"
            ],
            [
             0.3333333333333333,
             "#9c179e"
            ],
            [
             0.4444444444444444,
             "#bd3786"
            ],
            [
             0.5555555555555556,
             "#d8576b"
            ],
            [
             0.6666666666666666,
             "#ed7953"
            ],
            [
             0.7777777777777778,
             "#fb9f3a"
            ],
            [
             0.8888888888888888,
             "#fdca26"
            ],
            [
             1.0,
             "#f0f921"
            ]
           ]
          },
          "colorway": [
           "#636efa",
           "#EF553B",
           "#00cc96",
           "#ab63fa",
           "#FFA15A",
           "#19d3f3",
           "#FF6692",
           "#B6E880",
           "#FF97FF",
           "#FECB52"
          ],
          "font": {
           "color": "#2a3f5f"
          },
          "geo": {
           "bgcolor": "white",
           "lakecolor": "white",
           "landcolor": "#E5ECF6",
           "showlakes": true,
           "showland": true,
           "subunitcolor": "white"
          },
          "hoverlabel": {
           "align": "left"
          },
          "hovermode": "closest",
          "mapbox": {
           "style": "light"
          },
          "paper_bgcolor": "white",
          "plot_bgcolor": "#E5ECF6",
          "polar": {
           "angularaxis": {
            "gridcolor": "white",
            "linecolor": "white",
            "ticks": ""
           },
           "bgcolor": "#E5ECF6",
           "radialaxis": {
            "gridcolor": "white",
            "linecolor": "white",
            "ticks": ""
           }
          },
          "scene": {
           "xaxis": {
            "backgroundcolor": "#E5ECF6",
            "gridcolor": "white",
            "gridwidth": 2,
            "linecolor": "white",
            "showbackground": true,
            "ticks": "",
            "zerolinecolor": "white"
           },
           "yaxis": {
            "backgroundcolor": "#E5ECF6",
            "gridcolor": "white",
            "gridwidth": 2,
            "linecolor": "white",
            "showbackground": true,
            "ticks": "",
            "zerolinecolor": "white"
           },
           "zaxis": {
            "backgroundcolor": "#E5ECF6",
            "gridcolor": "white",
            "gridwidth": 2,
            "linecolor": "white",
            "showbackground": true,
            "ticks": "",
            "zerolinecolor": "white"
           }
          },
          "shapedefaults": {
           "line": {
            "color": "#2a3f5f"
           }
          },
          "ternary": {
           "aaxis": {
            "gridcolor": "white",
            "linecolor": "white",
            "ticks": ""
           },
           "baxis": {
            "gridcolor": "white",
            "linecolor": "white",
            "ticks": ""
           },
           "bgcolor": "#E5ECF6",
           "caxis": {
            "gridcolor": "white",
            "linecolor": "white",
            "ticks": ""
           }
          },
          "title": {
           "x": 0.05
          },
          "xaxis": {
           "automargin": true,
           "gridcolor": "white",
           "linecolor": "white",
           "ticks": "",
           "title": {
            "standoff": 15
           },
           "zerolinecolor": "white",
           "zerolinewidth": 2
          },
          "yaxis": {
           "automargin": true,
           "gridcolor": "white",
           "linecolor": "white",
           "ticks": "",
           "title": {
            "standoff": 15
           },
           "zerolinecolor": "white",
           "zerolinewidth": 2
          }
         }
        },
        "xaxis": {
         "anchor": "y",
         "domain": [
          0.0,
          1.0
         ],
         "title": {
          "text": "Time"
         }
        },
        "yaxis": {
         "anchor": "x",
         "domain": [
          0.0,
          1.0
         ],
         "title": {
          "text": "Global_active_power"
         }
        },
        "legend": {
         "tracegroupgap": 0
        },
        "margin": {
         "t": 60
        },
        "title": {
         "text": "Daily Global_active_power"
        },
        "width": 800
       },
       "config": {
        "plotlyServerURL": "https://plot.ly"
       }
      },
      "text/html": "<div>                            <div id=\"965c7d8e-2144-499c-a740-e5319cc64a62\" class=\"plotly-graph-div\" style=\"height:525px; width:800px;\"></div>            <script type=\"text/javascript\">                require([\"plotly\"], function(Plotly) {                    window.PLOTLYENV=window.PLOTLYENV || {};                                    if (document.getElementById(\"965c7d8e-2144-499c-a740-e5319cc64a62\")) {                    Plotly.newPlot(                        \"965c7d8e-2144-499c-a740-e5319cc64a62\",                        [{\"hovertemplate\":\"x=%{x}<br>y=%{y}<extra></extra>\",\"legendgroup\":\"\",\"line\":{\"color\":\"#636efa\",\"dash\":\"solid\"},\"marker\":{\"symbol\":\"circle\"},\"mode\":\"lines\",\"name\":\"\",\"orientation\":\"v\",\"showlegend\":false,\"x\":[\"2010-01-01T00:00:00\",\"2010-01-02T00:00:00\",\"2010-01-03T00:00:00\",\"2010-01-04T00:00:00\",\"2010-01-05T00:00:00\",\"2010-01-06T00:00:00\",\"2010-01-07T00:00:00\",\"2010-01-08T00:00:00\",\"2010-01-09T00:00:00\",\"2010-01-10T00:00:00\",\"2010-01-11T00:00:00\",\"2010-01-12T00:00:00\",\"2010-01-13T00:00:00\",\"2010-01-14T00:00:00\",\"2010-01-15T00:00:00\",\"2010-01-16T00:00:00\",\"2010-01-17T00:00:00\",\"2010-01-18T00:00:00\",\"2010-01-19T00:00:00\",\"2010-01-20T00:00:00\",\"2010-01-21T00:00:00\",\"2010-01-22T00:00:00\",\"2010-01-23T00:00:00\",\"2010-01-24T00:00:00\",\"2010-01-25T00:00:00\",\"2010-01-26T00:00:00\",\"2010-01-27T00:00:00\",\"2010-01-28T00:00:00\",\"2010-01-29T00:00:00\",\"2010-01-30T00:00:00\",\"2010-01-31T00:00:00\",\"2010-02-01T00:00:00\",\"2010-02-02T00:00:00\",\"2010-02-03T00:00:00\",\"2010-02-04T00:00:00\",\"2010-02-05T00:00:00\",\"2010-02-06T00:00:00\",\"2010-02-07T00:00:00\",\"2010-02-08T00:00:00\",\"2010-02-09T00:00:00\",\"2010-02-10T00:00:00\",\"2010-02-11T00:00:00\",\"2010-02-12T00:00:00\",\"2010-02-13T00:00:00\",\"2010-02-14T00:00:00\",\"2010-02-15T00:00:00\",\"2010-02-16T00:00:00\",\"2010-02-17T00:00:00\",\"2010-02-18T00:00:00\",\"2010-02-19T00:00:00\",\"2010-02-20T00:00:00\",\"2010-02-21T00:00:00\",\"2010-02-22T00:00:00\",\"2010-02-23T00:00:00\",\"2010-02-24T00:00:00\",\"2010-02-25T00:00:00\",\"2010-02-26T00:00:00\",\"2010-02-27T00:00:00\",\"2010-02-28T00:00:00\",\"2010-03-01T00:00:00\",\"2010-03-02T00:00:00\",\"2010-03-03T00:00:00\",\"2010-03-04T00:00:00\",\"2010-03-05T00:00:00\",\"2010-03-06T00:00:00\",\"2010-03-07T00:00:00\",\"2010-03-08T00:00:00\",\"2010-03-09T00:00:00\",\"2010-03-10T00:00:00\",\"2010-03-11T00:00:00\",\"2010-03-12T00:00:00\",\"2010-03-13T00:00:00\",\"2010-03-14T00:00:00\",\"2010-03-15T00:00:00\",\"2010-03-16T00:00:00\",\"2010-03-17T00:00:00\",\"2010-03-18T00:00:00\",\"2010-03-19T00:00:00\",\"2010-03-20T00:00:00\",\"2010-03-21T00:00:00\",\"2010-03-22T00:00:00\",\"2010-03-23T00:00:00\",\"2010-03-24T00:00:00\",\"2010-03-25T00:00:00\",\"2010-03-26T00:00:00\",\"2010-03-27T00:00:00\",\"2010-03-28T00:00:00\",\"2010-03-29T00:00:00\",\"2010-03-30T00:00:00\",\"2010-03-31T00:00:00\",\"2010-04-01T00:00:00\",\"2010-04-02T00:00:00\",\"2010-04-03T00:00:00\",\"2010-04-04T00:00:00\",\"2010-04-05T00:00:00\",\"2010-04-06T00:00:00\",\"2010-04-07T00:00:00\",\"2010-04-08T00:00:00\",\"2010-04-09T00:00:00\",\"2010-04-10T00:00:00\",\"2010-04-11T00:00:00\",\"2010-04-12T00:00:00\",\"2010-04-13T00:00:00\",\"2010-04-14T00:00:00\",\"2010-04-15T00:00:00\",\"2010-04-16T00:00:00\",\"2010-04-17T00:00:00\",\"2010-04-18T00:00:00\",\"2010-04-19T00:00:00\",\"2010-04-20T00:00:00\",\"2010-04-21T00:00:00\",\"2010-04-22T00:00:00\",\"2010-04-23T00:00:00\",\"2010-04-24T00:00:00\",\"2010-04-25T00:00:00\",\"2010-04-26T00:00:00\",\"2010-04-27T00:00:00\",\"2010-04-28T00:00:00\",\"2010-04-29T00:00:00\",\"2010-04-30T00:00:00\",\"2010-05-01T00:00:00\",\"2010-05-02T00:00:00\",\"2010-05-03T00:00:00\",\"2010-05-04T00:00:00\",\"2010-05-05T00:00:00\",\"2010-05-06T00:00:00\",\"2010-05-07T00:00:00\",\"2010-05-08T00:00:00\",\"2010-05-09T00:00:00\",\"2010-05-10T00:00:00\",\"2010-05-11T00:00:00\",\"2010-05-12T00:00:00\",\"2010-05-13T00:00:00\",\"2010-05-14T00:00:00\",\"2010-05-15T00:00:00\",\"2010-05-16T00:00:00\",\"2010-05-17T00:00:00\",\"2010-05-18T00:00:00\",\"2010-05-19T00:00:00\",\"2010-05-20T00:00:00\",\"2010-05-21T00:00:00\",\"2010-05-22T00:00:00\",\"2010-05-23T00:00:00\",\"2010-05-24T00:00:00\",\"2010-05-25T00:00:00\",\"2010-05-26T00:00:00\",\"2010-05-27T00:00:00\",\"2010-05-28T00:00:00\",\"2010-05-29T00:00:00\",\"2010-05-30T00:00:00\",\"2010-05-31T00:00:00\",\"2010-06-01T00:00:00\",\"2010-06-02T00:00:00\",\"2010-06-03T00:00:00\",\"2010-06-04T00:00:00\",\"2010-06-05T00:00:00\",\"2010-06-06T00:00:00\",\"2010-06-07T00:00:00\",\"2010-06-08T00:00:00\",\"2010-06-09T00:00:00\",\"2010-06-10T00:00:00\",\"2010-06-11T00:00:00\",\"2010-06-12T00:00:00\",\"2010-06-13T00:00:00\",\"2010-06-14T00:00:00\",\"2010-06-15T00:00:00\",\"2010-06-16T00:00:00\",\"2010-06-17T00:00:00\",\"2010-06-18T00:00:00\",\"2010-06-19T00:00:00\",\"2010-06-20T00:00:00\",\"2010-06-21T00:00:00\",\"2010-06-22T00:00:00\",\"2010-06-23T00:00:00\",\"2010-06-24T00:00:00\",\"2010-06-25T00:00:00\",\"2010-06-26T00:00:00\",\"2010-06-27T00:00:00\",\"2010-06-28T00:00:00\",\"2010-06-29T00:00:00\",\"2010-06-30T00:00:00\",\"2010-07-01T00:00:00\",\"2010-07-02T00:00:00\",\"2010-07-03T00:00:00\",\"2010-07-04T00:00:00\",\"2010-07-05T00:00:00\",\"2010-07-06T00:00:00\",\"2010-07-07T00:00:00\",\"2010-07-08T00:00:00\",\"2010-07-09T00:00:00\",\"2010-07-10T00:00:00\",\"2010-07-11T00:00:00\",\"2010-07-12T00:00:00\",\"2010-07-13T00:00:00\",\"2010-07-14T00:00:00\",\"2010-07-15T00:00:00\",\"2010-07-16T00:00:00\",\"2010-07-17T00:00:00\",\"2010-07-18T00:00:00\",\"2010-07-19T00:00:00\",\"2010-07-20T00:00:00\",\"2010-07-21T00:00:00\",\"2010-07-22T00:00:00\",\"2010-07-23T00:00:00\",\"2010-07-24T00:00:00\",\"2010-07-25T00:00:00\",\"2010-07-26T00:00:00\",\"2010-07-27T00:00:00\",\"2010-07-28T00:00:00\",\"2010-07-29T00:00:00\",\"2010-07-30T00:00:00\",\"2010-07-31T00:00:00\",\"2010-08-01T00:00:00\",\"2010-08-02T00:00:00\",\"2010-08-03T00:00:00\",\"2010-08-04T00:00:00\",\"2010-08-05T00:00:00\",\"2010-08-06T00:00:00\",\"2010-08-07T00:00:00\",\"2010-08-08T00:00:00\",\"2010-08-09T00:00:00\",\"2010-08-10T00:00:00\",\"2010-08-11T00:00:00\",\"2010-08-12T00:00:00\",\"2010-08-13T00:00:00\",\"2010-08-14T00:00:00\",\"2010-08-15T00:00:00\",\"2010-08-16T00:00:00\",\"2010-08-17T00:00:00\",\"2010-08-18T00:00:00\",\"2010-08-19T00:00:00\",\"2010-08-20T00:00:00\",\"2010-08-21T00:00:00\",\"2010-08-22T00:00:00\",\"2010-08-23T00:00:00\",\"2010-08-24T00:00:00\",\"2010-08-25T00:00:00\",\"2010-08-26T00:00:00\",\"2010-08-27T00:00:00\",\"2010-08-28T00:00:00\",\"2010-08-29T00:00:00\",\"2010-08-30T00:00:00\",\"2010-08-31T00:00:00\",\"2010-09-01T00:00:00\",\"2010-09-02T00:00:00\",\"2010-09-03T00:00:00\",\"2010-09-04T00:00:00\",\"2010-09-05T00:00:00\",\"2010-09-06T00:00:00\",\"2010-09-07T00:00:00\",\"2010-09-08T00:00:00\",\"2010-09-09T00:00:00\",\"2010-09-10T00:00:00\",\"2010-09-11T00:00:00\",\"2010-09-12T00:00:00\",\"2010-09-13T00:00:00\",\"2010-09-14T00:00:00\",\"2010-09-15T00:00:00\",\"2010-09-16T00:00:00\",\"2010-09-17T00:00:00\",\"2010-09-18T00:00:00\",\"2010-09-19T00:00:00\",\"2010-09-20T00:00:00\",\"2010-09-21T00:00:00\",\"2010-09-22T00:00:00\",\"2010-09-23T00:00:00\",\"2010-09-24T00:00:00\",\"2010-09-25T00:00:00\",\"2010-09-26T00:00:00\",\"2010-09-27T00:00:00\",\"2010-09-28T00:00:00\",\"2010-09-29T00:00:00\",\"2010-09-30T00:00:00\",\"2010-10-01T00:00:00\",\"2010-10-02T00:00:00\",\"2010-10-03T00:00:00\",\"2010-10-04T00:00:00\",\"2010-10-05T00:00:00\",\"2010-10-06T00:00:00\",\"2010-10-07T00:00:00\",\"2010-10-08T00:00:00\",\"2010-10-09T00:00:00\",\"2010-10-10T00:00:00\",\"2010-10-11T00:00:00\",\"2010-10-12T00:00:00\",\"2010-10-13T00:00:00\",\"2010-10-14T00:00:00\",\"2010-10-15T00:00:00\",\"2010-10-16T00:00:00\",\"2010-10-17T00:00:00\",\"2010-10-18T00:00:00\",\"2010-10-19T00:00:00\",\"2010-10-20T00:00:00\",\"2010-10-21T00:00:00\",\"2010-10-22T00:00:00\",\"2010-10-23T00:00:00\",\"2010-10-24T00:00:00\",\"2010-10-25T00:00:00\",\"2010-10-26T00:00:00\",\"2010-10-27T00:00:00\",\"2010-10-28T00:00:00\",\"2010-10-29T00:00:00\",\"2010-10-30T00:00:00\",\"2010-10-31T00:00:00\",\"2010-11-01T00:00:00\",\"2010-11-02T00:00:00\",\"2010-11-03T00:00:00\",\"2010-11-04T00:00:00\",\"2010-11-05T00:00:00\",\"2010-11-06T00:00:00\",\"2010-11-07T00:00:00\",\"2010-11-08T00:00:00\",\"2010-11-09T00:00:00\",\"2010-11-10T00:00:00\",\"2010-11-11T00:00:00\",\"2010-11-12T00:00:00\",\"2010-11-13T00:00:00\",\"2010-11-14T00:00:00\",\"2010-11-15T00:00:00\",\"2010-11-16T00:00:00\",\"2010-11-17T00:00:00\",\"2010-11-18T00:00:00\",\"2010-11-19T00:00:00\",\"2010-11-20T00:00:00\",\"2010-11-21T00:00:00\",\"2010-11-22T00:00:00\",\"2010-11-23T00:00:00\",\"2010-11-24T00:00:00\",\"2010-11-25T00:00:00\",\"2010-11-26T00:00:00\",\"2010-11-27T00:00:00\",\"2010-11-28T00:00:00\",\"2010-11-29T00:00:00\",\"2010-11-30T00:00:00\",\"2010-12-01T00:00:00\",\"2010-12-02T00:00:00\",\"2010-12-03T00:00:00\",\"2010-12-04T00:00:00\",\"2010-12-05T00:00:00\",\"2010-12-06T00:00:00\",\"2010-12-07T00:00:00\",\"2010-12-08T00:00:00\",\"2010-12-09T00:00:00\",\"2010-12-10T00:00:00\",\"2010-12-11T00:00:00\"],\"xaxis\":\"x\",\"y\":[4.41322,4.214830000000001,4.209270000000001,4.6548300000000005,4.77561,3.51322,4.105520000000005,1.4608300000000003,4.7348300000000005,4.05122,2.18961,null,1.7814449073482428,4.382450000000006,7.813470000000003,5.089340000000012,5.012830000000001,3.4341000000000013,6.3434800000000084,4.992490000000002,4.737880000000014,4.644880000000001,6.801870000000009,7.907660000000001,5.6434200000000025,3.846,6.995320000000001,4.567710000000002,5.511910000000004,7.494880000000001,4.54122,5.400050000000001,3.958880000000001,2.068790000000005,2.9780500000000005,6.380690000000004,2.3984400000000003,3.395430000000008,1.9716600000000006,4.097470000000003,5.641270000000001,2.69722,null,7.045420000000003,3.9864400000000004,5.901280000000006,4.181570000000004,5.97761,3.7688300000000003,4.406830000000001,4.49561,7.789710000000001,4.990740000000004,6.50122,5.7118100000000025,2.889810000000003,5.129270000000001,4.55922,1.676,5.48,7.289710000000001,1.8770300000000029,3.8053200000000014,4.297610000000001,3.79883,2.757130000000004,1.9401000000000013,4.300050000000001,5.370490000000001,4.704880000000001,null,6.11561,4.79044,4.170300000000004,3.1352200000000003,3.907670000000006,4.928490000000002,3.077320000000001,1.606,4.895470000000003,3.37161,4.716100000000001,4.935910000000004,3.384490000000001,3.9584400000000004,6.57366,5.344100000000001,3.0055400000000145,4.002200000000002,4.512830000000001,3.827260000000021,5.64761,1.5172200000000002,4.314830000000001,3.244490000000001,3.979430000000008,3.2036600000000006,2.002540000000002,4.00561,4.969660000000001,6.620540000000002,null,3.0296600000000007,4.834,4.634440000000001,4.184490000000001,4.278120000000012,4.09163000000001,5.1936100000000005,4.376,2.502880000000001,3.77361,2.488,4.186490000000002,3.636550000000007,3.64,2.813670000000006,2.6463000000000036,2.5567900000000052,3.7272200000000004,4.35522,4.069660000000001,3.92361,5.82122,4.940880000000001,4.901840000000019,3.9388300000000003,1.4560500000000005,3.4221000000000013,3.8020100000000054,3.801380000000007,null,4.478640000000003,4.124100000000001,5.6312700000000016,6.31761,4.109130000000004,2.5032700000000006,3.80161,2.36161,4.1152700000000015,5.75888,3.8693000000000164,4.611040000000008,3.1416200000000054,4.937450000000018,3.3043500000000043,3.3752900000000117,4.453760000000002,4.658880000000001,3.6733200000000013,5.26361,6.902170000000012,2.4022000000000028,4.962440000000001,2.7669000000000112,4.357810000000002,2.238540000000002,1.3892200000000001,3.9082500000000033,3.4693200000000015,4.23366,null,4.642440000000001,3.81561,2.4406900000000036,4.324490000000002,2.2192700000000007,3.492880000000001,4.913240000000011,5.612660000000013,6.404900000000063,4.4668900000000065,5.05922,3.31361,2.7581100000000065,2.8532700000000006,3.8294900000000136,3.1328300000000002,4.849660000000001,3.6620500000000007,4.642,5.150490000000001,5.046830000000001,4.547710000000001,4.071960000000005,3.5916600000000005,3.65722,1.4300500000000005,4.079370000000003,4.691420000000003,3.104,null,3.91522,4.912050000000001,4.176930000000002,2.1141700000000125,2.0180500000000006,2.0129300000000017,2.0864400000000005,2.450540000000002,3.5019600000000044,2.7356100000000003,3.6312200000000003,2.3005900000000024,3.838370000000015,2.977760000000002,3.408,3.4448900000000315,1.9650800000000035,1.983760000000002,1.374,4.156440000000001,4.916440000000001,6.223030000000003,3.6112300000000057,5.703900000000024,4.19236000000001,4.271320000000001,1.4868300000000003,3.6772800000000063,4.36322,4.22761,null,1.3992200000000001,1.892010000000005,4.004890000000007,2.61761,3.7309300000000016,0.8995075217932752,0.8492958156911582,0.7990841095890411,0.7488724034869241,1.2516100000000001,2.113270000000001,2.08761,3.6582000000000026,2.220940000000007,5.001270000000001,4.489320000000001,5.046540000000001,4.3136600000000005,4.191810000000003,7.001760000000002,4.950050000000001,4.00122,3.95561,5.73444,4.469860000000003,2.2584400000000002,1.4869800000000022,4.218540000000002,3.714100000000001,4.866790000000004,null,3.2749400000000066,4.539960000000005,2.7130800000000037,5.033270000000001,5.678700000000009,2.534,3.495760000000002,5.3128900000000066,2.8981000000000012,3.6857100000000016,3.51161,3.2513300000000065,1.3684400000000005,1.2494510423825889,1.852062726231386,3.784210000000008,3.5338600000000033,3.1544400000000006,6.004830000000001,4.34883,3.8092200000000003,3.9172700000000007,4.3112200000000005,2.423520000000004,3.75161,1.957370000000002,4.327270000000001,5.781570000000005,6.506020000000062,null,3.8896100000000002,6.106350000000004,3.7076600000000006,3.0332300000000054,4.070490000000001,6.2021000000000015,5.286160000000007,4.726050000000001,3.8314700000000035,4.3919600000000045,5.62044,5.759620000000005,2.858540000000002,4.3968300000000005,4.175370000000003,4.070100000000001,3.14122,4.5132200000000005,4.456220000000013,5.306540000000002,3.267270000000001,5.249270000000001,7.174590000000003,4.12361,4.019130000000004,3.792,1.865760000000002,3.6836100000000003,5.649220000000001,4.9528300000000005,null,4.901610000000001,4.819270000000001,5.648440000000001,3.398150000000002,4.857660000000001,4.472830000000001,3.2324400000000004,7.1502000000000026,2.891270000000001,5.395520000000005,3.8988000000000103,4.63522,4.222540000000001,3.9649000000000005,null,null,null,null,4.132150000000002,4.26,4.469760000000002,3.252880000000001,5.699320000000001,3.6876100000000003,3.4981300000000166,1.418,4.334830000000001,4.698150000000002,3.82683],\"yaxis\":\"y\",\"type\":\"scatter\"}],                        {\"template\":{\"data\":{\"bar\":[{\"error_x\":{\"color\":\"#2a3f5f\"},\"error_y\":{\"color\":\"#2a3f5f\"},\"marker\":{\"line\":{\"color\":\"#E5ECF6\",\"width\":0.5},\"pattern\":{\"fillmode\":\"overlay\",\"size\":10,\"solidity\":0.2}},\"type\":\"bar\"}],\"barpolar\":[{\"marker\":{\"line\":{\"color\":\"#E5ECF6\",\"width\":0.5},\"pattern\":{\"fillmode\":\"overlay\",\"size\":10,\"solidity\":0.2}},\"type\":\"barpolar\"}],\"carpet\":[{\"aaxis\":{\"endlinecolor\":\"#2a3f5f\",\"gridcolor\":\"white\",\"linecolor\":\"white\",\"minorgridcolor\":\"white\",\"startlinecolor\":\"#2a3f5f\"},\"baxis\":{\"endlinecolor\":\"#2a3f5f\",\"gridcolor\":\"white\",\"linecolor\":\"white\",\"minorgridcolor\":\"white\",\"startlinecolor\":\"#2a3f5f\"},\"type\":\"carpet\"}],\"choropleth\":[{\"colorbar\":{\"outlinewidth\":0,\"ticks\":\"\"},\"type\":\"choropleth\"}],\"contour\":[{\"colorbar\":{\"outlinewidth\":0,\"ticks\":\"\"},\"colorscale\":[[0.0,\"#0d0887\"],[0.1111111111111111,\"#46039f\"],[0.2222222222222222,\"#7201a8\"],[0.3333333333333333,\"#9c179e\"],[0.4444444444444444,\"#bd3786\"],[0.5555555555555556,\"#d8576b\"],[0.6666666666666666,\"#ed7953\"],[0.7777777777777778,\"#fb9f3a\"],[0.8888888888888888,\"#fdca26\"],[1.0,\"#f0f921\"]],\"type\":\"contour\"}],\"contourcarpet\":[{\"colorbar\":{\"outlinewidth\":0,\"ticks\":\"\"},\"type\":\"contourcarpet\"}],\"heatmap\":[{\"colorbar\":{\"outlinewidth\":0,\"ticks\":\"\"},\"colorscale\":[[0.0,\"#0d0887\"],[0.1111111111111111,\"#46039f\"],[0.2222222222222222,\"#7201a8\"],[0.3333333333333333,\"#9c179e\"],[0.4444444444444444,\"#bd3786\"],[0.5555555555555556,\"#d8576b\"],[0.6666666666666666,\"#ed7953\"],[0.7777777777777778,\"#fb9f3a\"],[0.8888888888888888,\"#fdca26\"],[1.0,\"#f0f921\"]],\"type\":\"heatmap\"}],\"heatmapgl\":[{\"colorbar\":{\"outlinewidth\":0,\"ticks\":\"\"},\"colorscale\":[[0.0,\"#0d0887\"],[0.1111111111111111,\"#46039f\"],[0.2222222222222222,\"#7201a8\"],[0.3333333333333333,\"#9c179e\"],[0.4444444444444444,\"#bd3786\"],[0.5555555555555556,\"#d8576b\"],[0.6666666666666666,\"#ed7953\"],[0.7777777777777778,\"#fb9f3a\"],[0.8888888888888888,\"#fdca26\"],[1.0,\"#f0f921\"]],\"type\":\"heatmapgl\"}],\"histogram\":[{\"marker\":{\"pattern\":{\"fillmode\":\"overlay\",\"size\":10,\"solidity\":0.2}},\"type\":\"histogram\"}],\"histogram2d\":[{\"colorbar\":{\"outlinewidth\":0,\"ticks\":\"\"},\"colorscale\":[[0.0,\"#0d0887\"],[0.1111111111111111,\"#46039f\"],[0.2222222222222222,\"#7201a8\"],[0.3333333333333333,\"#9c179e\"],[0.4444444444444444,\"#bd3786\"],[0.5555555555555556,\"#d8576b\"],[0.6666666666666666,\"#ed7953\"],[0.7777777777777778,\"#fb9f3a\"],[0.8888888888888888,\"#fdca26\"],[1.0,\"#f0f921\"]],\"type\":\"histogram2d\"}],\"histogram2dcontour\":[{\"colorbar\":{\"outlinewidth\":0,\"ticks\":\"\"},\"colorscale\":[[0.0,\"#0d0887\"],[0.1111111111111111,\"#46039f\"],[0.2222222222222222,\"#7201a8\"],[0.3333333333333333,\"#9c179e\"],[0.4444444444444444,\"#bd3786\"],[0.5555555555555556,\"#d8576b\"],[0.6666666666666666,\"#ed7953\"],[0.7777777777777778,\"#fb9f3a\"],[0.8888888888888888,\"#fdca26\"],[1.0,\"#f0f921\"]],\"type\":\"histogram2dcontour\"}],\"mesh3d\":[{\"colorbar\":{\"outlinewidth\":0,\"ticks\":\"\"},\"type\":\"mesh3d\"}],\"parcoords\":[{\"line\":{\"colorbar\":{\"outlinewidth\":0,\"ticks\":\"\"}},\"type\":\"parcoords\"}],\"pie\":[{\"automargin\":true,\"type\":\"pie\"}],\"scatter\":[{\"marker\":{\"colorbar\":{\"outlinewidth\":0,\"ticks\":\"\"}},\"type\":\"scatter\"}],\"scatter3d\":[{\"line\":{\"colorbar\":{\"outlinewidth\":0,\"ticks\":\"\"}},\"marker\":{\"colorbar\":{\"outlinewidth\":0,\"ticks\":\"\"}},\"type\":\"scatter3d\"}],\"scattercarpet\":[{\"marker\":{\"colorbar\":{\"outlinewidth\":0,\"ticks\":\"\"}},\"type\":\"scattercarpet\"}],\"scattergeo\":[{\"marker\":{\"colorbar\":{\"outlinewidth\":0,\"ticks\":\"\"}},\"type\":\"scattergeo\"}],\"scattergl\":[{\"marker\":{\"colorbar\":{\"outlinewidth\":0,\"ticks\":\"\"}},\"type\":\"scattergl\"}],\"scattermapbox\":[{\"marker\":{\"colorbar\":{\"outlinewidth\":0,\"ticks\":\"\"}},\"type\":\"scattermapbox\"}],\"scatterpolar\":[{\"marker\":{\"colorbar\":{\"outlinewidth\":0,\"ticks\":\"\"}},\"type\":\"scatterpolar\"}],\"scatterpolargl\":[{\"marker\":{\"colorbar\":{\"outlinewidth\":0,\"ticks\":\"\"}},\"type\":\"scatterpolargl\"}],\"scatterternary\":[{\"marker\":{\"colorbar\":{\"outlinewidth\":0,\"ticks\":\"\"}},\"type\":\"scatterternary\"}],\"surface\":[{\"colorbar\":{\"outlinewidth\":0,\"ticks\":\"\"},\"colorscale\":[[0.0,\"#0d0887\"],[0.1111111111111111,\"#46039f\"],[0.2222222222222222,\"#7201a8\"],[0.3333333333333333,\"#9c179e\"],[0.4444444444444444,\"#bd3786\"],[0.5555555555555556,\"#d8576b\"],[0.6666666666666666,\"#ed7953\"],[0.7777777777777778,\"#fb9f3a\"],[0.8888888888888888,\"#fdca26\"],[1.0,\"#f0f921\"]],\"type\":\"surface\"}],\"table\":[{\"cells\":{\"fill\":{\"color\":\"#EBF0F8\"},\"line\":{\"color\":\"white\"}},\"header\":{\"fill\":{\"color\":\"#C8D4E3\"},\"line\":{\"color\":\"white\"}},\"type\":\"table\"}]},\"layout\":{\"annotationdefaults\":{\"arrowcolor\":\"#2a3f5f\",\"arrowhead\":0,\"arrowwidth\":1},\"autotypenumbers\":\"strict\",\"coloraxis\":{\"colorbar\":{\"outlinewidth\":0,\"ticks\":\"\"}},\"colorscale\":{\"diverging\":[[0,\"#8e0152\"],[0.1,\"#c51b7d\"],[0.2,\"#de77ae\"],[0.3,\"#f1b6da\"],[0.4,\"#fde0ef\"],[0.5,\"#f7f7f7\"],[0.6,\"#e6f5d0\"],[0.7,\"#b8e186\"],[0.8,\"#7fbc41\"],[0.9,\"#4d9221\"],[1,\"#276419\"]],\"sequential\":[[0.0,\"#0d0887\"],[0.1111111111111111,\"#46039f\"],[0.2222222222222222,\"#7201a8\"],[0.3333333333333333,\"#9c179e\"],[0.4444444444444444,\"#bd3786\"],[0.5555555555555556,\"#d8576b\"],[0.6666666666666666,\"#ed7953\"],[0.7777777777777778,\"#fb9f3a\"],[0.8888888888888888,\"#fdca26\"],[1.0,\"#f0f921\"]],\"sequentialminus\":[[0.0,\"#0d0887\"],[0.1111111111111111,\"#46039f\"],[0.2222222222222222,\"#7201a8\"],[0.3333333333333333,\"#9c179e\"],[0.4444444444444444,\"#bd3786\"],[0.5555555555555556,\"#d8576b\"],[0.6666666666666666,\"#ed7953\"],[0.7777777777777778,\"#fb9f3a\"],[0.8888888888888888,\"#fdca26\"],[1.0,\"#f0f921\"]]},\"colorway\":[\"#636efa\",\"#EF553B\",\"#00cc96\",\"#ab63fa\",\"#FFA15A\",\"#19d3f3\",\"#FF6692\",\"#B6E880\",\"#FF97FF\",\"#FECB52\"],\"font\":{\"color\":\"#2a3f5f\"},\"geo\":{\"bgcolor\":\"white\",\"lakecolor\":\"white\",\"landcolor\":\"#E5ECF6\",\"showlakes\":true,\"showland\":true,\"subunitcolor\":\"white\"},\"hoverlabel\":{\"align\":\"left\"},\"hovermode\":\"closest\",\"mapbox\":{\"style\":\"light\"},\"paper_bgcolor\":\"white\",\"plot_bgcolor\":\"#E5ECF6\",\"polar\":{\"angularaxis\":{\"gridcolor\":\"white\",\"linecolor\":\"white\",\"ticks\":\"\"},\"bgcolor\":\"#E5ECF6\",\"radialaxis\":{\"gridcolor\":\"white\",\"linecolor\":\"white\",\"ticks\":\"\"}},\"scene\":{\"xaxis\":{\"backgroundcolor\":\"#E5ECF6\",\"gridcolor\":\"white\",\"gridwidth\":2,\"linecolor\":\"white\",\"showbackground\":true,\"ticks\":\"\",\"zerolinecolor\":\"white\"},\"yaxis\":{\"backgroundcolor\":\"#E5ECF6\",\"gridcolor\":\"white\",\"gridwidth\":2,\"linecolor\":\"white\",\"showbackground\":true,\"ticks\":\"\",\"zerolinecolor\":\"white\"},\"zaxis\":{\"backgroundcolor\":\"#E5ECF6\",\"gridcolor\":\"white\",\"gridwidth\":2,\"linecolor\":\"white\",\"showbackground\":true,\"ticks\":\"\",\"zerolinecolor\":\"white\"}},\"shapedefaults\":{\"line\":{\"color\":\"#2a3f5f\"}},\"ternary\":{\"aaxis\":{\"gridcolor\":\"white\",\"linecolor\":\"white\",\"ticks\":\"\"},\"baxis\":{\"gridcolor\":\"white\",\"linecolor\":\"white\",\"ticks\":\"\"},\"bgcolor\":\"#E5ECF6\",\"caxis\":{\"gridcolor\":\"white\",\"linecolor\":\"white\",\"ticks\":\"\"}},\"title\":{\"x\":0.05},\"xaxis\":{\"automargin\":true,\"gridcolor\":\"white\",\"linecolor\":\"white\",\"ticks\":\"\",\"title\":{\"standoff\":15},\"zerolinecolor\":\"white\",\"zerolinewidth\":2},\"yaxis\":{\"automargin\":true,\"gridcolor\":\"white\",\"linecolor\":\"white\",\"ticks\":\"\",\"title\":{\"standoff\":15},\"zerolinecolor\":\"white\",\"zerolinewidth\":2}}},\"xaxis\":{\"anchor\":\"y\",\"domain\":[0.0,1.0],\"title\":{\"text\":\"Time\"}},\"yaxis\":{\"anchor\":\"x\",\"domain\":[0.0,1.0],\"title\":{\"text\":\"Global_active_power\"}},\"legend\":{\"tracegroupgap\":0},\"margin\":{\"t\":60},\"title\":{\"text\":\"Daily Global_active_power\"},\"width\":800},                        {\"responsive\": true}                    ).then(function(){\n                            \nvar gd = document.getElementById('965c7d8e-2144-499c-a740-e5319cc64a62');\nvar x = new MutationObserver(function (mutations, observer) {{\n        var display = window.getComputedStyle(gd).display;\n        if (!display || display === 'none') {{\n            console.log([gd, 'removed!']);\n            Plotly.purge(gd);\n            observer.disconnect();\n        }}\n}});\n\n// Listen for the removal of the full notebook cells\nvar notebookContainer = gd.closest('#notebook-container');\nif (notebookContainer) {{\n    x.observe(notebookContainer, {childList: true});\n}}\n\n// Listen for the clearing of the current output cell\nvar outputEl = gd.closest('.output');\nif (outputEl) {{\n    x.observe(outputEl, {childList: true});\n}}\n\n                        })                };                });            </script>        </div>"
     },
     "metadata": {},
     "output_type": "display_data"
    }
   ],
   "source": [
    "# Daily\n",
    "df_daily = df.loc[\"2010\"].resample(\"D\").quantile(0.995)\n",
    "run_sequence_plot(\n",
    "    df_daily.index, df_daily[var], title=f\"Daily {var}\", xtitle=\"Time\", ytitle=f\"{var}\"\n",
    ")"
   ],
   "metadata": {
    "collapsed": false,
    "pycharm": {
     "name": "#%%\n"
    }
   }
  },
  {
   "cell_type": "markdown",
   "source": [
    "## Investigate stationariety\n",
    "The data is non-stationary: the mean value is not constant, there is a negative trend present, and seasonality is visible. It is not clear whether there is heteroskedasticity. The data seems to have autocorrelation as well."
   ],
   "metadata": {
    "collapsed": false,
    "pycharm": {
     "name": "#%% md\n"
    }
   }
  },
  {
   "cell_type": "markdown",
   "source": [
    "### Statistics on different chunks of data"
   ],
   "metadata": {
    "collapsed": false,
    "pycharm": {
     "name": "#%% md\n"
    }
   }
  },
  {
   "cell_type": "code",
   "execution_count": 77,
   "outputs": [
    {
     "data": {
      "text/plain": "        mean       var\n0   6.172706  0.546804\n1   5.628094  0.432486\n2   5.053844  0.482404\n3   5.449743  0.218018\n4   5.945682  0.337436\n5   5.449962  0.760346\n6   5.513478  0.220045\n7   4.981947  0.511416\n8   4.727009  1.917070\n9   5.567147  0.725575\n10  5.478705  0.719861\n11  4.729127  0.255644\n12  4.295918  0.914217\n13  4.881798  0.088343\n14  5.708562  0.221880\n15  5.410628  0.269260\n16  4.676074  0.367468\n17  4.222456  0.288935\n18  4.369212  0.952149\n19  4.830970  0.270766",
      "text/html": "<div>\n<style scoped>\n    .dataframe tbody tr th:only-of-type {\n        vertical-align: middle;\n    }\n\n    .dataframe tbody tr th {\n        vertical-align: top;\n    }\n\n    .dataframe thead th {\n        text-align: right;\n    }\n</style>\n<table border=\"1\" class=\"dataframe\">\n  <thead>\n    <tr style=\"text-align: right;\">\n      <th></th>\n      <th>mean</th>\n      <th>var</th>\n    </tr>\n  </thead>\n  <tbody>\n    <tr>\n      <th>0</th>\n      <td>6.172706</td>\n      <td>0.546804</td>\n    </tr>\n    <tr>\n      <th>1</th>\n      <td>5.628094</td>\n      <td>0.432486</td>\n    </tr>\n    <tr>\n      <th>2</th>\n      <td>5.053844</td>\n      <td>0.482404</td>\n    </tr>\n    <tr>\n      <th>3</th>\n      <td>5.449743</td>\n      <td>0.218018</td>\n    </tr>\n    <tr>\n      <th>4</th>\n      <td>5.945682</td>\n      <td>0.337436</td>\n    </tr>\n    <tr>\n      <th>5</th>\n      <td>5.449962</td>\n      <td>0.760346</td>\n    </tr>\n    <tr>\n      <th>6</th>\n      <td>5.513478</td>\n      <td>0.220045</td>\n    </tr>\n    <tr>\n      <th>7</th>\n      <td>4.981947</td>\n      <td>0.511416</td>\n    </tr>\n    <tr>\n      <th>8</th>\n      <td>4.727009</td>\n      <td>1.917070</td>\n    </tr>\n    <tr>\n      <th>9</th>\n      <td>5.567147</td>\n      <td>0.725575</td>\n    </tr>\n    <tr>\n      <th>10</th>\n      <td>5.478705</td>\n      <td>0.719861</td>\n    </tr>\n    <tr>\n      <th>11</th>\n      <td>4.729127</td>\n      <td>0.255644</td>\n    </tr>\n    <tr>\n      <th>12</th>\n      <td>4.295918</td>\n      <td>0.914217</td>\n    </tr>\n    <tr>\n      <th>13</th>\n      <td>4.881798</td>\n      <td>0.088343</td>\n    </tr>\n    <tr>\n      <th>14</th>\n      <td>5.708562</td>\n      <td>0.221880</td>\n    </tr>\n    <tr>\n      <th>15</th>\n      <td>5.410628</td>\n      <td>0.269260</td>\n    </tr>\n    <tr>\n      <th>16</th>\n      <td>4.676074</td>\n      <td>0.367468</td>\n    </tr>\n    <tr>\n      <th>17</th>\n      <td>4.222456</td>\n      <td>0.288935</td>\n    </tr>\n    <tr>\n      <th>18</th>\n      <td>4.369212</td>\n      <td>0.952149</td>\n    </tr>\n    <tr>\n      <th>19</th>\n      <td>4.830970</td>\n      <td>0.270766</td>\n    </tr>\n  </tbody>\n</table>\n</div>"
     },
     "metadata": {},
     "output_type": "display_data"
    }
   ],
   "source": [
    "n_chunks = 20\n",
    "chunks = np.array_split(df_week[var], indices_or_sections=n_chunks)\n",
    "\n",
    "variances = []\n",
    "means = []\n",
    "for chunk in chunks:\n",
    "    means.append(np.mean(chunk))\n",
    "    variances.append(np.var(chunk))\n",
    "\n",
    "chunks_df = pd.DataFrame({'mean': means, 'var': variances})\n",
    "display(chunks_df)"
   ],
   "metadata": {
    "collapsed": false,
    "pycharm": {
     "name": "#%%\n"
    }
   }
  },
  {
   "cell_type": "markdown",
   "source": [
    "### Histograms"
   ],
   "metadata": {
    "collapsed": false,
    "pycharm": {
     "name": "#%% md\n"
    }
   }
  },
  {
   "cell_type": "code",
   "execution_count": 78,
   "outputs": [
    {
     "data": {
      "text/plain": "<AxesSubplot:>"
     },
     "execution_count": 78,
     "metadata": {},
     "output_type": "execute_result"
    },
    {
     "data": {
      "text/plain": "<Figure size 432x288 with 1 Axes>",
      "image/png": "[encoded data removed]"
     },
     "metadata": {},
     "output_type": "display_data"
    }
   ],
   "source": [
    "df_month[var].hist()"
   ],
   "metadata": {
    "collapsed": false,
    "pycharm": {
     "name": "#%%\n"
    }
   }
  },
  {
   "cell_type": "code",
   "execution_count": 79,
   "outputs": [
    {
     "data": {
      "text/plain": "<AxesSubplot:>"
     },
     "execution_count": 79,
     "metadata": {},
     "output_type": "execute_result"
    },
    {
     "data": {
      "text/plain": "<Figure size 432x288 with 1 Axes>",
      "image/png": "[encoded data removed]"
     },
     "metadata": {},
     "output_type": "display_data"
    }
   ],
   "source": [
    "df_week[var].hist()"
   ],
   "metadata": {
    "collapsed": false,
    "pycharm": {
     "name": "#%%\n"
    }
   }
  },
  {
   "cell_type": "markdown",
   "source": [
    "### Augmented Dickey-Fuller test"
   ],
   "metadata": {
    "collapsed": false,
    "pycharm": {
     "name": "#%% md\n"
    }
   }
  },
  {
   "cell_type": "code",
   "execution_count": 84,
   "outputs": [
    {
     "name": "stdout",
     "output_type": "stream",
     "text": [
      "Test statistic: -2.985, pvalue: 0.036\n",
      "Critical values: {'1%': -3.5745892596209488, '5%': -2.9239543084490744, '10%': -2.6000391840277777}\n"
     ]
    }
   ],
   "source": [
    "from statsmodels.tsa.stattools import adfuller\n",
    "\n",
    "adf, pvalue, usedlag, nobs, critical_values, icbest = adfuller(df_month[var])\n",
    "print(f\"Test statistic: {adf:.3f}, pvalue: {pvalue:.3f}\")\n",
    "print(f\"Critical values: {critical_values}\")"
   ],
   "metadata": {
    "collapsed": false,
    "pycharm": {
     "name": "#%%\n"
    }
   }
  },
  {
   "cell_type": "code",
   "execution_count": 82,
   "outputs": [],
   "source": [
    "adfuller?"
   ],
   "metadata": {
    "collapsed": false,
    "pycharm": {
     "name": "#%%\n"
    }
   }
  }
 ],
 "metadata": {
  "kernelspec": {
   "display_name": "Python 3",
   "language": "python",
   "name": "python3"
  },
  "language_info": {
   "codemirror_mode": {
    "name": "ipython",
    "version": 2
   },
   "file_extension": ".py",
   "mimetype": "text/x-python",
   "name": "python",
   "nbconvert_exporter": "python",
   "pygments_lexer": "ipython2",
   "version": "2.7.6"
  }
 },
 "nbformat": 4,
 "nbformat_minor": 0
}